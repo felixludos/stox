{
 "cells": [
  {
   "cell_type": "code",
   "execution_count": 1,
   "id": "bea24236",
   "metadata": {},
   "outputs": [
    {
     "data": {
      "text/html": [
       "<style>.container { width:98% !important; }</style>"
      ],
      "text/plain": [
       "<IPython.core.display.HTML object>"
      ]
     },
     "metadata": {},
     "output_type": "display_data"
    }
   ],
   "source": [
    "%load_ext autoreload\n",
    "%autoreload 2\n",
    "import sys, os\n",
    "import random\n",
    "from IPython.display import display, HTML\n",
    "display(HTML(\"<style>.container { width:98% !important; }</style>\"))\n",
    "from tqdm.notebook import tqdm\n",
    "from pathlib import Path\n",
    "from omnibelt import load_csv\n",
    "from tabulate import tabulate\n",
    "import qgrid\n",
    "import pandas as pd"
   ]
  },
  {
   "cell_type": "code",
   "execution_count": 2,
   "id": "c2b3c123",
   "metadata": {},
   "outputs": [
    {
     "data": {
      "text/plain": [
       "True"
      ]
     },
     "execution_count": 2,
     "metadata": {},
     "output_type": "execute_result"
    }
   ],
   "source": [
    "path = Path(r'C:\\Users\\anwan\\Downloads\\Portfolio_Positions_Sep-14-2022.csv')\n",
    "path.exists()"
   ]
  },
  {
   "cell_type": "code",
   "execution_count": 3,
   "id": "273ea6ba",
   "metadata": {},
   "outputs": [
    {
     "data": {
      "text/plain": [
       "65"
      ]
     },
     "execution_count": 3,
     "metadata": {},
     "output_type": "execute_result"
    }
   ],
   "source": [
    "full = load_csv(path)\n",
    "len(full)"
   ]
  },
  {
   "cell_type": "code",
   "execution_count": 36,
   "id": "7befd4bb",
   "metadata": {},
   "outputs": [],
   "source": [
    "def to_number(val):\n",
    "    if isinstance(val, str):\n",
    "        minus = val.startswith('-')\n",
    "        if val.startswith('+') or val.startswith('-'):\n",
    "            val = val[1:]\n",
    "        if val.startswith('$'):\n",
    "            val = val[1:]\n",
    "        if val.endswith('%'):\n",
    "            val = val[:-1]\n",
    "        return float(val) * (-1)**minus\n",
    "    return val\n"
   ]
  },
  {
   "cell_type": "code",
   "execution_count": 40,
   "id": "3e06636d",
   "metadata": {},
   "outputs": [],
   "source": [
    "df = pd.read_csv(path)\n",
    "df.insert(loc=0, column='Sel', value=[False]*df.shape[0])\n",
    "df = df.drop(columns=['Account Name', 'Account Number', 'Type', 'Quantity'])\n",
    "def numberize_column(name):\n",
    "    df[name] = [to_number(x) for x in df[name].tolist()]"
   ]
  },
  {
   "cell_type": "code",
   "execution_count": 41,
   "id": "2fbbc065",
   "metadata": {},
   "outputs": [],
   "source": [
    "numberize_column('Current Value')\n",
    "numberize_column('Last Price')\n",
    "numberize_column('Last Price Change')\n",
    "numberize_column('Today\\'s Gain/Loss Dollar')\n",
    "numberize_column('Today\\'s Gain/Loss Percent')\n",
    "numberize_column('Total Gain/Loss Dollar')\n",
    "numberize_column('Total Gain/Loss Percent')\n",
    "numberize_column('Percent Of Account')\n",
    "numberize_column('Cost Basis')\n",
    "numberize_column('Cost Basis Per Share')"
   ]
  },
  {
   "cell_type": "code",
   "execution_count": 54,
   "id": "6abb3da0",
   "metadata": {
    "scrolled": false
   },
   "outputs": [
    {
     "data": {
      "application/vnd.jupyter.widget-view+json": {
       "model_id": "10cf08f1535e4914975c5fc2dc08abc1",
       "version_major": 2,
       "version_minor": 0
      },
      "text/plain": [
       "QgridWidget(grid_options={'fullWidthRows': True, 'syncColumnCellResize': True, 'forceFitColumns': True, 'defau…"
      ]
     },
     "metadata": {},
     "output_type": "display_data"
    }
   ],
   "source": [
    "qgrid_widget = qgrid.show_grid(df, show_toolbar=True)\n",
    "qgrid_widget"
   ]
  },
  {
   "cell_type": "code",
   "execution_count": 91,
   "id": "21d058ba",
   "metadata": {},
   "outputs": [
    {
     "name": "stdout",
     "output_type": "stream",
     "text": [
      "{'ASHR', 'FSGGX', 'NVDA', 'PHO', 'ACES', 'EMXC', 'MSFT', 'FZIPX', 'FSMAX', 'SKYY', 'AMZN', 'ESPO', 'META', 'FUAMX', 'KWEB', 'SPY', 'SOCL', 'FZROX', 'FSPSX', 'AMD'}\n"
     ]
    }
   ],
   "source": [
    "vnames = set(qgrid_widget.get_changed_df()['Symbol'].to_numpy()[qgrid_widget.get_changed_df()['Sel'].to_numpy()].tolist())\n",
    "print(vnames)"
   ]
  },
  {
   "cell_type": "code",
   "execution_count": 92,
   "id": "36fd3127",
   "metadata": {},
   "outputs": [
    {
     "name": "stdout",
     "output_type": "stream",
     "text": [
      "{'IBB', 'NIO', 'FLJP', 'DIS', 'IGOV', 'SONY', 'SCHO', 'EWY', 'FNCL', 'FCASH**', 'AGG', 'PYPL', 'LQD', 'EWG', 'TCEHY', 'GOOG', 'NTDOY', 'NFLX', 'XITK', 'VCLT', 'MINT', 'FIDU', 'AAPL', 'BIDU', 'TSLA', 'VGLT', 'BABA', 'ICLN', 'IAGG', 'EWC', 'IAU', 'VONG', 'FIPDX', 'VCSH', 'FHLC', 'VGK', 'CIBR'}\n"
     ]
    },
    {
     "data": {
      "text/plain": [
       "-130.13000000000076"
      ]
     },
     "execution_count": 92,
     "metadata": {},
     "output_type": "execute_result"
    }
   ],
   "source": [
    "sel = {x for x in df['Symbol'].tolist() if x == x and x not in vnames}\n",
    "print(sel)\n",
    "\n",
    "kill_list = df.loc[df['Symbol'].isin(sel)]\n",
    "\n",
    "kill_list['Total Gain/Loss Dollar'].sum()"
   ]
  },
  {
   "cell_type": "code",
   "execution_count": 93,
   "id": "d29aa179",
   "metadata": {},
   "outputs": [
    {
     "data": {
      "application/vnd.jupyter.widget-view+json": {
       "model_id": "056fa49382544ae68692fc98e824d8bb",
       "version_major": 2,
       "version_minor": 0
      },
      "text/plain": [
       "QgridWidget(grid_options={'fullWidthRows': True, 'syncColumnCellResize': True, 'forceFitColumns': True, 'defau…"
      ]
     },
     "metadata": {},
     "output_type": "display_data"
    }
   ],
   "source": [
    "sell_list_wg = qgrid.show_grid(kill_list, show_toolbar=True)\n",
    "sell_list_wg"
   ]
  },
  {
   "cell_type": "code",
   "execution_count": null,
   "id": "dc2562f4",
   "metadata": {},
   "outputs": [],
   "source": []
  },
  {
   "cell_type": "code",
   "execution_count": null,
   "id": "fe7135ea",
   "metadata": {},
   "outputs": [],
   "source": []
  }
 ],
 "metadata": {
  "kernelspec": {
   "display_name": "Python 3",
   "language": "python",
   "name": "python3"
  },
  "language_info": {
   "codemirror_mode": {
    "name": "ipython",
    "version": 3
   },
   "file_extension": ".py",
   "mimetype": "text/x-python",
   "name": "python",
   "nbconvert_exporter": "python",
   "pygments_lexer": "ipython3",
   "version": "3.8.8"
  }
 },
 "nbformat": 4,
 "nbformat_minor": 5
}
