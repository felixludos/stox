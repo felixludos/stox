{
 "cells": [
  {
   "cell_type": "code",
   "execution_count": 1,
   "metadata": {},
   "outputs": [],
   "source": [
    "%load_ext autoreload\n",
    "%autoreload 2\n",
    "import sys, os\n",
    "import random\n",
    "import numpy as np\n",
    "from tqdm.notebook import tqdm\n",
    "from tabulate import tabulate\n",
    "from omnibelt import load_json, save_json, load_yaml, save_yaml\n",
    "from pathlib import Path\n",
    "from collections import Counter\n",
    "import requests\n",
    "import json\n",
    "import clipboard\n",
    "# from googlefinance import getQuotes\n",
    "from bs4 import BeautifulSoup\n",
    "# import requests, sys, lxml.html\n",
    "\n",
    "from yahooquery import Ticker\n",
    "\n",
    "from src import *"
   ]
  },
  {
   "cell_type": "code",
   "execution_count": 2,
   "metadata": {},
   "outputs": [],
   "source": [
    "strt = 'minimal'\n",
    "strt = 'balanced'\n",
    "# strt = 'wreckless'\n",
    "# strt = 'conservative'"
   ]
  },
  {
   "cell_type": "code",
   "execution_count": 3,
   "metadata": {},
   "outputs": [
    {
     "data": {
      "text/plain": [
       "dict_keys(['balanced', 'conservative', 'wreckless', 'minimal', 'ira'])"
      ]
     },
     "execution_count": 3,
     "metadata": {},
     "output_type": "execute_result"
    }
   ],
   "source": [
    "STRATEGIES = load_yaml('config/strategies.yaml')\n",
    "STRATEGIES.keys()"
   ]
  },
  {
   "cell_type": "code",
   "execution_count": 4,
   "metadata": {},
   "outputs": [
    {
     "data": {
      "text/plain": [
       "'LIT'"
      ]
     },
     "execution_count": 4,
     "metadata": {},
     "output_type": "execute_result"
    }
   ],
   "source": [
    "names = []\n",
    "strategy_ratios = STRATEGIES[strt].copy()\n",
    "strategy_ratios = {k:v/100 for k,v in strategy_ratios.items()}\n",
    "\n",
    "names = list(k for k,v in strategy_ratios.items() if v > 0)\n",
    "\n",
    "cats = TYPES.copy()\n",
    "# cats = {}\n",
    "# for n in names:\n",
    "#     t = get_type(n)\n",
    "#     if t not in cats:\n",
    "#         cats[t] = []\n",
    "#     cats[t].append(n)\n",
    "\n",
    "name = random.choice(names)\n",
    "name"
   ]
  },
  {
   "cell_type": "code",
   "execution_count": 5,
   "metadata": {},
   "outputs": [
    {
     "data": {
      "text/plain": [
       "1.0000000000000002"
      ]
     },
     "execution_count": 5,
     "metadata": {},
     "output_type": "execute_result"
    }
   ],
   "source": [
    "sum(strategy_ratios.values())"
   ]
  },
  {
   "cell_type": "code",
   "execution_count": 6,
   "metadata": {
    "scrolled": true
   },
   "outputs": [
    {
     "data": {
      "text/plain": [
       "{'TSLA': 0.02,\n",
       " 'AMD': 0.02,\n",
       " 'NVDA': 0.02,\n",
       " 'BABA': 0.01,\n",
       " 'TCEHY': 0.01,\n",
       " 'AMZN': 0.01,\n",
       " 'MSFT': 0.01,\n",
       " 'COST': 0.01,\n",
       " 'NTDOY': 0.01,\n",
       " 'PDD': 0.01,\n",
       " 'QCOM': 0.01,\n",
       " 'DIS': 0.005,\n",
       " 'GOOGL': 0.005,\n",
       " 'AAPL': 0.005,\n",
       " 'BIDU': 0.005,\n",
       " 'SONY': 0.005,\n",
       " 'FB': 0.005,\n",
       " 'SHOP': 0.005,\n",
       " 'PYPL': 0.005,\n",
       " 'PTON': 0.005,\n",
       " 'NIO': 0.005,\n",
       " 'NFLX': 0.002,\n",
       " 'LI': 0.002,\n",
       " 'XPEV': 0.002,\n",
       " 'UBER': 0.002,\n",
       " 'YNDX': 0.002,\n",
       " 'SPY': 0.05,\n",
       " 'VXF': 0.04,\n",
       " 'VTI': 0.04,\n",
       " 'IWV': 0.01,\n",
       " 'VONG': 0.03,\n",
       " 'XITK': 0.02,\n",
       " 'KOMP': 0.02,\n",
       " 'SOCL': 0.01,\n",
       " 'ESPO': 0.01,\n",
       " 'CIBR': 0.01,\n",
       " 'SKYY': 0.01,\n",
       " 'LIT': 0.01,\n",
       " 'IBB': 0.01,\n",
       " 'FHLC': 0.01,\n",
       " 'FIDU': 0.01,\n",
       " 'FNCL': 0.01,\n",
       " 'ACES': 0.05,\n",
       " 'ICLN': 0.04,\n",
       " 'PHO': 0.01,\n",
       " 'ASHR': 0.07,\n",
       " 'CNYA': 0.04,\n",
       " 'KWEB': 0.06,\n",
       " 'MCHI': 0.03,\n",
       " 'SPDW': 0.03,\n",
       " 'VGK': 0.015,\n",
       " 'FLJP': 0.02,\n",
       " 'EWG': 0.005,\n",
       " 'EWY': 0.005,\n",
       " 'EWC': 0.005,\n",
       " 'IXUS': 0.03,\n",
       " 'EMXC': 0.04,\n",
       " 'ICVT': 0.03,\n",
       " 'IAU': 0.01,\n",
       " 'SCHP': 0.0025,\n",
       " 'IGOV': 0.0025,\n",
       " 'LQD': 0.0025,\n",
       " 'IAGG': 0.0025}"
      ]
     },
     "execution_count": 6,
     "metadata": {},
     "output_type": "execute_result"
    }
   ],
   "source": [
    "strategy_ratios"
   ]
  },
  {
   "cell_type": "code",
   "execution_count": 7,
   "metadata": {},
   "outputs": [],
   "source": [
    "start = None\n",
    "start = '21-01-09'\n",
    "today = '21-08-26'\n",
    "\n",
    "# today = start\n",
    "# start = None\n"
   ]
  },
  {
   "cell_type": "code",
   "execution_count": 9,
   "metadata": {},
   "outputs": [
    {
     "data": {
      "application/vnd.jupyter.widget-view+json": {
       "model_id": "9cda4e51bc5943bf81b16bfefafc29f8",
       "version_major": 2,
       "version_minor": 0
      },
      "text/plain": [
       "  0%|          | 0/63 [00:00<?, ?it/s]"
      ]
     },
     "metadata": {},
     "output_type": "display_data"
    },
    {
     "name": "stdout",
     "output_type": "stream",
     "text": [
      "161\n",
      "0.9914534228806805 {'TSLA': 0.8081634467655154, 'AMD': 1.1450623911512576, 'NVDA': 1.6740361377617623, 'BABA': 0.715949042531831, 'TCEHY': 0.7935132738171583, 'AMZN': 1.0365978515900822, 'MSFT': 1.384142618832593, 'COST': 1.2270605180575571, 'NTDOY': 0.7522798116792921, 'PDD': 0.5412402169909993, 'QCOM': 0.9275618155556942, 'DIS': 0.9978733847578456, 'GOOGL': 1.5805610917513064, 'AAPL': 1.1287926545569207, 'BIDU': 0.6457024136641519, 'SONY': 1.013078186732278, 'FB': 1.3767986118191997, 'SHOP': 1.3055882085084725, 'PYPL': 1.145302296263296, 'PTON': 0.7316842675435732, 'NIO': 0.6610658854953707, 'NFLX': 1.0728448738988425, 'LI': 0.8932944627165605, 'XPEV': 0.8992298843966294, 'UBER': 0.7798423458899499, 'YNDX': 0.9803949314565095, 'SPY': 1.185159000294721, 'VXF': 1.1041250541297665, 'VTI': 1.1708169844723393, 'IWV': 1.167482927359059, 'VONG': 1.181428457463714, 'XITK': 0.9968693858303951, 'KOMP': 1.013415542456186, 'SOCL': 0.9830792585949609, 'ESPO': 0.9397047297030878, 'CIBR': 1.1331067975175568, 'SKYY': 1.1180356504067537, 'LIT': 1.2032254200956138, 'IBB': 1.0919446891579097, 'FHLC': 1.1333976079115284, 'FIDU': 1.152383459518188, 'FNCL': 1.2575027768743934, 'ACES': 0.744314170748815, 'ICLN': 0.7032347119732639, 'PHO': 1.1915504053776487, 'ASHR': 0.9017354904623621, 'CNYA': 0.9428981344043454, 'KWEB': 0.6000726912558766, 'MCHI': 0.8208612837669036, 'SPDW': 1.074195178796565, 'VGK': 1.125230022253043, 'FLJP': 0.9924727312670603, 'EWG': 1.0784638079992157, 'EWY': 0.8890043632333916, 'EWC': 1.1763189349438845, 'IXUS': 1.0521733289507227, 'EMXC': 1.0229035801357653, 'ICVT': 0.9900836892692417, 'IAU': 0.9668179743437254, 'SCHP': 1.043834132774226, 'IGOV': 0.9509556896699014, 'LQD': 1.0054879703498534, 'IAGG': 0.9939329024440882}\n"
     ]
    }
   ],
   "source": [
    "def get_closing(ticker, start, today):\n",
    "    return yf.Ticker(ticker).history(start = f'20{start}', today = f'20{today}').to_numpy().reshape(-1).tolist()[3]\n",
    "# get_closing('SPY', '2021-01-09')\n",
    "\n",
    "if start is not None:\n",
    "    value_changes = {tk: get_closing(tk, today, today)/get_closing(tk, start, start) for tk in tqdm(strategy_ratios)}\n",
    "    days = yf.Ticker(next(iter(strategy_ratios))).history(start = f'20{start}', today = f'20{today}').to_numpy().shape[0]\n",
    "    print(days)\n",
    "    todays_ratios = {tk: value_changes[tk]*r for tk, r in strategy_ratios.items()}\n",
    "    overall = sum(todays_ratios.values())\n",
    "    todays_ratios = {tk: r/overall for tk, r in todays_ratios.items()}\n",
    "    print(overall, value_changes)\n",
    "else:\n",
    "    todays_ratios = strategy_ratios.copy()"
   ]
  },
  {
   "cell_type": "code",
   "execution_count": 10,
   "metadata": {},
   "outputs": [
    {
     "data": {
      "text/plain": [
       "0.9999999999999998"
      ]
     },
     "execution_count": 10,
     "metadata": {},
     "output_type": "execute_result"
    }
   ],
   "source": [
    "ratios = strategy_ratios\n",
    "ratios = todays_ratios\n",
    "sum(ratios.values())"
   ]
  },
  {
   "cell_type": "code",
   "execution_count": null,
   "metadata": {},
   "outputs": [],
   "source": []
  },
  {
   "cell_type": "code",
   "execution_count": 11,
   "metadata": {},
   "outputs": [],
   "source": [
    "root = Path('figures') / f'{strt}_{today}'\n",
    "root.mkdir(exist_ok=True)"
   ]
  },
  {
   "cell_type": "code",
   "execution_count": 12,
   "metadata": {},
   "outputs": [],
   "source": [
    "cat = 'ETF'\n",
    "# cat = 'EQUITY'\n",
    "group = 'snapshot'\n",
    "group = 'holdings'"
   ]
  },
  {
   "cell_type": "code",
   "execution_count": 13,
   "metadata": {},
   "outputs": [
    {
     "name": "stdout",
     "output_type": "stream",
     "text": [
      "Using date: 21-08-26\n",
      "Using date: 21-08-26\n",
      "Using date: 21-08-26\n",
      "Using date: 21-08-26\n"
     ]
    },
    {
     "data": {
      "text/plain": [
       "(41, 41, 27, 41)"
      ]
     },
     "execution_count": 13,
     "metadata": {},
     "output_type": "execute_result"
    }
   ],
   "source": [
    "etfs = load('ETF', 'holdings', date=today, pbar=tqdm)\n",
    "pies = load('ETF', 'composition', date=today, pbar=tqdm)\n",
    "etf_info = load('ETF', 'snapshot', date=today, pbar=tqdm)\n",
    "stocks_info = load('EQUITY', 'snapshot', date=today, pbar=tqdm)\n",
    "features = {'Sector': ('company', 'sector'), \n",
    "            'Industry': ('company', 'industry'), \n",
    "            'Country':('company', 'country'), \n",
    "            'Ticker': ('company', 'ticker'),\n",
    "            \n",
    "    'score':('analyst', 'score'),\n",
    "    'employees':('company', 'employees'),\n",
    "    'cap': ('compare', 1, 1),\n",
    "    'perf': ('compare', 2, 1),\n",
    "    'eps': ('compare', 4, 1),\n",
    "    'beta': ('compare', 3, 1),\n",
    "    'p/e': ('compare', 7, 1),\n",
    "    'yield': ('compare', 8, 1),\n",
    "}\n",
    "\n",
    "etf_feats = {\n",
    "    'p/e': ('stats', 'Price / Earnings (Trailing Twelve Months)'),\n",
    "    'assets': ('info', 'Net Assets'),\n",
    "    'expense': ('info', 'Net Expense Ratio'),\n",
    "    'yield': ('stats', 'Distribution Yield (TTM)'),\n",
    "    'beta': ('compare', 5, 1),\n",
    "    'ratings': ('analyst'),\n",
    "    'perf': ('compare', 3, 1),\n",
    "}\n",
    "\n",
    "etf_stats = collect(etf_info, etf_feats)\n",
    "stocks = collect(stocks_info, features)\n",
    "for tk, info in stocks.items():\n",
    "    if info['yield'] is not None:\n",
    "        info['yield'] = float(info['yield'][:-1])\n",
    "len(etfs), len(pies), len(stocks), len(etf_info)"
   ]
  },
  {
   "cell_type": "code",
   "execution_count": null,
   "metadata": {},
   "outputs": [],
   "source": []
  },
  {
   "cell_type": "code",
   "execution_count": 14,
   "metadata": {},
   "outputs": [
    {
     "data": {
      "text/plain": [
       "['TCEHY']"
      ]
     },
     "execution_count": 14,
     "metadata": {},
     "output_type": "execute_result"
    }
   ],
   "source": [
    "for ticker, hlds in etfs.items():\n",
    "    den = sum(row[-1] for row in hlds)\n",
    "    for row in hlds:\n",
    "        row[-1] /= den\n",
    "\n",
    "for ticker, ps in pies.items():\n",
    "    for key in ['Holdings', 'Sector Exposure', 'Industry Exposure', 'Country Exposure', \n",
    "                'Maturity', 'Credit Grade', 'Debt Type', ]:\n",
    "        if key in ps:\n",
    "            den = sum(ps[key].values())\n",
    "            for k,v in ps[key].items():\n",
    "                ps[key][k] = v / den\n",
    "\n",
    "nosize = []\n",
    "for tk, info in stocks.items():\n",
    "    if info['cap'] is not None:\n",
    "        for c, lim in MARKET_CAPS:\n",
    "            if info['cap'] > lim:\n",
    "                info['size'] = c\n",
    "                break\n",
    "        if 'size' not in info:\n",
    "            info['size'] = None\n",
    "    else:\n",
    "        nosize.append(tk)\n",
    "nosize"
   ]
  },
  {
   "cell_type": "code",
   "execution_count": 15,
   "metadata": {},
   "outputs": [
    {
     "data": {
      "text/plain": [
       "(0.999999999999996, 0, 1.0000000000000002, 1.0000000000000002)"
      ]
     },
     "execution_count": 15,
     "metadata": {},
     "output_type": "execute_result"
    }
   ],
   "source": [
    "\n",
    "companies = {}\n",
    "countries = {}\n",
    "sectors = {}\n",
    "industry = {}\n",
    "maturity = {}\n",
    "grades = {}\n",
    "caps = {}\n",
    "\n",
    "tbls = { 'countries':countries, 'sectors':sectors, #'companies':companies,\n",
    "        'industry':industry, 'maturity':maturity, 'grades':grades, 'caps':caps}\n",
    "\n",
    "for ticker, ratio in ratios.items():\n",
    "#     if ratio > 0:\n",
    "#         if ticker in etfs:\n",
    "#             info = etfs[ticker]\n",
    "            \n",
    "#             for tk, _, land, q in info:\n",
    "#                 if tk not in companies:\n",
    "#                     companies[tk] = 0.\n",
    "#                 companies[tk] += q * ratio\n",
    "#                 if land not in countries:\n",
    "#                     countries[land] = 0.\n",
    "#                 countries[land] += q * ratio\n",
    "        \n",
    "    if ticker in pies and 'Market Capitalization' in pies[ticker]:\n",
    "        for size, q in pies[ticker]['Market Capitalization'].items():\n",
    "            size = size.lower()\n",
    "            if size not in caps:\n",
    "                caps[size] = 0.\n",
    "            caps[size] += q*ratio / 100\n",
    "    \n",
    "    if ticker in stocks:\n",
    "        info = stocks[ticker]\n",
    "\n",
    "        if 'size' in info and info['size'] is not None:\n",
    "            size = info['size']\n",
    "            if size not in caps:\n",
    "                caps[size] = 0.\n",
    "            caps[size] += ratio\n",
    "        \n",
    "#         if ticker not in companies:\n",
    "#             companies[ticker] = 0.\n",
    "#         companies[ticker] += ratio\n",
    "\n",
    "        land = info['Country']\n",
    "        if land not in countries:\n",
    "            countries[land] = 0.\n",
    "        countries[land] += ratio\n",
    "\n",
    "        sec = info['Sector']\n",
    "        if sec not in sectors:\n",
    "            sectors[sec] = 0.\n",
    "        sectors[sec] += ratio\n",
    "\n",
    "        ind = info['Industry']\n",
    "        if ind not in industry:\n",
    "            industry[ind] = 0.\n",
    "        industry[ind] += ratio\n",
    "\n",
    "#         else:\n",
    "#             assert False, f'{ticker}'\n",
    "\n",
    "    if ticker in pies:\n",
    "        info = pies[ticker]\n",
    "\n",
    "        if info['Asset Classification'] == 'Equity':\n",
    "\n",
    "            if 'Sector Exposure' not in info:\n",
    "                print(f'{ticker} sector failed')\n",
    "            else:\n",
    "                for sec, q in info['Sector Exposure'].items():\n",
    "                    if sec not in sectors:\n",
    "                        sectors[sec] = 0.\n",
    "                    sectors[sec] += q * ratio\n",
    "\n",
    "            if 'Industry Exposure' not in info:\n",
    "                print(f'{ticker} industry failed')\n",
    "            else:\n",
    "                for ind, q in info['Industry Exposure'].items():\n",
    "                    if ind not in industry:\n",
    "                        industry[ind] = 0.\n",
    "                    industry[ind] += q * ratio\n",
    "\n",
    "        elif info['Asset Classification'] == 'Fixed Income':\n",
    "\n",
    "            if 'Bonds' not in sectors:\n",
    "                sectors['Bonds'] = 0.\n",
    "            sectors['Bonds'] += ratio\n",
    "\n",
    "            for t, q in info['Debt Type'].items():\n",
    "                if t not in industry:\n",
    "                    industry[t] = 0.\n",
    "                industry[t] += ratio * q\n",
    "\n",
    "            if 'Credit Grade' in info:\n",
    "                for g, q in info['Credit Grade'].items():\n",
    "                    if g not in grades:\n",
    "                        grades[g] = 0.\n",
    "                    grades[g] += q * ratio\n",
    "\n",
    "            for m, q in info['Maturity'].items():\n",
    "                if m not in maturity:\n",
    "                    maturity[m] = 0\n",
    "                maturity[m] += q * ratio\n",
    "\n",
    "        elif info['Asset Classification'] == 'Commodity':\n",
    "            for mat, q in info['Holdings'].items():\n",
    "                if mat not in industry:\n",
    "                    industry[mat] = 0.\n",
    "                industry[mat] += ratio * q\n",
    "\n",
    "            if 'Commodity' not in sectors:\n",
    "                sectors['Commodity'] = 0.\n",
    "            sectors['Commodity'] += ratio\n",
    "        else:\n",
    "            if 'Unknown' not in sectors:\n",
    "                sectors['Unknown'] = 0.\n",
    "            sectors['Unknown'] += ratio\n",
    "#             if 'Unknown' not in countries:\n",
    "#                 countries['Unknown'] = 0\n",
    "#             countries['Unknown'] += ratio\n",
    "#             if 'Unknown' not in companies:\n",
    "#                 companies['Unknown'] = 0\n",
    "#             companies['Unknown'] += ratio\n",
    "            if 'Unknown' not in industry:\n",
    "                industry['Unknown'] = 0\n",
    "            industry['Unknown'] += ratio\n",
    "#                 raise Exception(ticker)\n",
    "\n",
    "#             if info['Asset Classification'] != 'Commodity':\n",
    "    if ticker in etfs:\n",
    "        holdings = etfs[ticker]\n",
    "        for tk, _, land, q in holdings:\n",
    "#             if tk not in companies:\n",
    "#                 companies[tk] = 0.\n",
    "#             companies[tk] += q * ratio\n",
    "            if land not in countries:\n",
    "                countries[land] = 0.\n",
    "            countries[land] += q * ratio\n",
    "\n",
    "regions = {}\n",
    "for land, q in countries.items():\n",
    "    key = REGIONS.get(land, 'Unknown')\n",
    "    if key not in regions:\n",
    "        regions[key] = 0.\n",
    "    regions[key] += q\n",
    "tbls['regions'] = regions    \n",
    "        \n",
    "    \n",
    "for tbl in tbls.values():\n",
    "    if None in tbl:\n",
    "        if 'Unknown' not in tbl:\n",
    "            tbl['Unknown'] = 0.\n",
    "        tbl['Unknown'] += tbl[None]\n",
    "        del tbl[None]\n",
    "    \n",
    "sum(countries.values()), sum(companies.values()), sum(sectors.values()), sum(industry.values())"
   ]
  },
  {
   "cell_type": "code",
   "execution_count": 16,
   "metadata": {},
   "outputs": [],
   "source": [
    "remove_keys(countries, {'Xav Health Care Mar21 Xcme 20210319', 'Xai Emini Industr Mar21 Xcme 20210319', 'XAF FINANCIAL MAR21 XCME 20210319'})"
   ]
  },
  {
   "cell_type": "code",
   "execution_count": 17,
   "metadata": {},
   "outputs": [
    {
     "data": {
      "text/plain": [
       "dict_keys(['countries', 'sectors', 'industry', 'maturity', 'grades', 'caps', 'regions'])"
      ]
     },
     "execution_count": 17,
     "metadata": {},
     "output_type": "execute_result"
    }
   ],
   "source": [
    "tbls.keys()"
   ]
  },
  {
   "cell_type": "code",
   "execution_count": 18,
   "metadata": {},
   "outputs": [
    {
     "data": {
      "text/plain": [
       "{'Sector': None,\n",
       " 'Industry': None,\n",
       " 'Country': None,\n",
       " 'Ticker': None,\n",
       " 'score': None,\n",
       " 'employees': None,\n",
       " 'cap': 701420000000.0,\n",
       " 'perf': 75.87,\n",
       " 'eps': 1.92,\n",
       " 'beta': 2.03,\n",
       " 'p/e': 369.01,\n",
       " 'yield': None,\n",
       " 'size': 'mega'}"
      ]
     },
     "execution_count": 18,
     "metadata": {},
     "output_type": "execute_result"
    }
   ],
   "source": [
    "stocks['TSLA']"
   ]
  },
  {
   "cell_type": "code",
   "execution_count": null,
   "metadata": {},
   "outputs": [],
   "source": []
  },
  {
   "cell_type": "code",
   "execution_count": 19,
   "metadata": {},
   "outputs": [
    {
     "data": {
      "text/plain": [
       "(63,\n",
       " 0.25012131949889227,\n",
       " 34.60423557017103,\n",
       " 0.9901825014848568,\n",
       " 0.009175640670350366,\n",
       " 0.8775417870356369,\n",
       " 4.858559591357049,\n",
       " 0.6863419865563171,\n",
       " 32.78827142848283,\n",
       " 0.9005359218710941)"
      ]
     },
     "execution_count": 19,
     "metadata": {},
     "output_type": "execute_result"
    }
   ],
   "source": [
    "performance = 0.\n",
    "perf_f = 0.\n",
    "yld = 0.\n",
    "yld_f = 0.\n",
    "expense = 0.\n",
    "score = 0.\n",
    "score_factor = 0.\n",
    "av_pe = 0.\n",
    "av_pe_f = 0.\n",
    "pe = {}\n",
    "\n",
    "for tk, info in etf_stats.items():\n",
    "    if tk in ratios:\n",
    "        r = ratios[tk]\n",
    "        if 'p/e' in info:\n",
    "            if isinstance(info['p/e'], str):\n",
    "                if ',' in info['p/e']:\n",
    "                    info['p/e'] = float(info['p/e'].replace(',', ''))\n",
    "                else:\n",
    "                    info['p/e'] = None\n",
    "            pe[tk] = info['p/e']\n",
    "            if pe[tk] is not None:\n",
    "                av_pe += r * pe[tk]\n",
    "                av_pe_f += r\n",
    "        if 'perf' in info and isinstance(info['perf'], (float,int)):\n",
    "            performance += r * info['perf']\n",
    "            perf_f += r\n",
    "        if 'yield' in info and isinstance(info['yield'], (float,int)):\n",
    "            yld += r * info['yield'] / 100\n",
    "            yld_f += r\n",
    "        if isinstance(info['expense'], (float,int)):\n",
    "            expense += r * info['expense']\n",
    "        if 'Morningstar, Inc.' in info and isinstance(info['Morningstar, Inc.'], (float,int)) \\\n",
    "        and 'FactSet' in info and isinstance(info['FactSet'], (float,int)):\n",
    "            score += r * (info['Morningstar, Inc.'] + info['FactSet'])\n",
    "            score_factor += r\n",
    "for tk, info in stocks.items():\n",
    "    if tk in ratios:\n",
    "        r = ratios[tk]\n",
    "        if 'p/e' in info:\n",
    "            if isinstance(info['p/e'], str):\n",
    "                if ',' in info['p/e']:\n",
    "                    info['p/e'] = float(info['p/e'].replace(',', ''))\n",
    "                else:\n",
    "                    info['p/e'] = None\n",
    "            pe[tk] = info['p/e']\n",
    "            if pe[tk] is not None:\n",
    "                av_pe += r * pe[tk]\n",
    "                av_pe_f += r\n",
    "        if 'perf' in info and isinstance(info['perf'], (float,int)):\n",
    "            performance += r * info['perf']\n",
    "            perf_f += r\n",
    "        if 'yield' in info and isinstance(info['yield'], (float,int)):\n",
    "            yld += r * info['yield'] / 100\n",
    "            yld_f += r\n",
    "        if 'expense' in info and isinstance(info['expense'], (float,int)):\n",
    "            expense += r * info['expense']\n",
    "        if 'score' in info and isinstance(info['score'], (float,int)):\n",
    "            score += r * info['score']\n",
    "            score_factor += r\n",
    "        \n",
    "len(ratios), expense, performance, perf_f, yld, yld_f, score, score_factor, av_pe, av_pe_f"
   ]
  },
  {
   "cell_type": "code",
   "execution_count": 20,
   "metadata": {
    "scrolled": true
   },
   "outputs": [
    {
     "name": "stdout",
     "output_type": "stream",
     "text": [
      "Ticker       P/E\n",
      "--------  ------\n",
      "TSLA      369.01\n",
      "DIS       283.29\n",
      "PTON      183.4\n",
      "YNDX      124.8\n",
      "SHOP       79.43\n",
      "NVDA       77.69\n",
      "PYPL       68.17\n",
      "AMZN       57.62\n",
      "NFLX       57.35\n",
      "COST       42.46\n",
      "LIT        40.93\n",
      "AMD        38.45\n",
      "MSFT       37.59\n",
      "PHO        36.97\n",
      "VONG       36.42\n",
      "SKYY       33.77\n",
      "ESPO       33.64\n",
      "ACES       32.05\n",
      "IBB        31.02\n",
      "GOOGL      30.63\n",
      "SOCL       30.55\n",
      "AAPL       29.28\n",
      "FIDU       28.39\n",
      "CIBR       28\n",
      "FHLC       27.92\n",
      "FB         27.07\n",
      "IWV        25.69\n",
      "SPY        25.67\n",
      "ICLN       25.62\n",
      "VTI        25.59\n",
      "KWEB       24.28\n",
      "KOMP       23.87\n",
      "VGK        20.73\n",
      "VXF        20.54\n",
      "BABA       20.39\n",
      "CNYA       19.57\n",
      "SPDW       19.52\n",
      "IXUS       18.81\n",
      "ASHR       18.36\n",
      "EWG        18.24\n",
      "QCOM       18.06\n",
      "EMXC       17.8\n",
      "EWC        17.78\n",
      "FLJP       17.02\n",
      "EWY        16.99\n",
      "MCHI       15.28\n",
      "FNCL       12.92\n",
      "SONY       12.44\n",
      "BIDU        7.3\n",
      "XITK\n",
      "LQD\n",
      "SCHP\n",
      "IAU\n",
      "IGOV\n",
      "ICVT\n",
      "IAGG\n",
      "LI\n",
      "PDD\n",
      "TCEHY\n",
      "NTDOY\n",
      "XPEV\n",
      "UBER\n",
      "NIO\n"
     ]
    }
   ],
   "source": [
    "key = 'P/E'\n",
    "top = get_top(pe, None, factor=1)\n",
    "print(tabulate(top, headers=['Ticker', 'P/E']))"
   ]
  },
  {
   "cell_type": "code",
   "execution_count": 21,
   "metadata": {},
   "outputs": [
    {
     "data": {
      "text/plain": [
       "63"
      ]
     },
     "execution_count": 21,
     "metadata": {},
     "output_type": "execute_result"
    }
   ],
   "source": [
    "len(ratios)"
   ]
  },
  {
   "cell_type": "code",
   "execution_count": null,
   "metadata": {},
   "outputs": [],
   "source": []
  },
  {
   "cell_type": "code",
   "execution_count": 22,
   "metadata": {},
   "outputs": [
    {
     "name": "stdout",
     "output_type": "stream",
     "text": [
      "Maturity             Amount (%)\n",
      "-----------------  ------------\n",
      "Short Term             0.355888\n",
      "Intermediate Term      0.328861\n",
      "Long Term              0.322412\n"
     ]
    }
   ],
   "source": [
    "key = 'maturity'\n",
    "top = get_top(tbls[key], None)\n",
    "print(tabulate(top, headers=[key.capitalize(), 'Amount (%)']))"
   ]
  },
  {
   "cell_type": "code",
   "execution_count": 23,
   "metadata": {},
   "outputs": [
    {
     "name": "stdout",
     "output_type": "stream",
     "text": [
      "Grades              Amount (%)\n",
      "----------------  ------------\n",
      "Investment Grade   0.59827\n",
      "AAA                0.145556\n",
      "High Yield         0.000126605\n"
     ]
    }
   ],
   "source": [
    "key = 'grades'\n",
    "top = get_top(tbls[key], None)\n",
    "print(tabulate(top, headers=[key.capitalize(), 'Amount (%)']))"
   ]
  },
  {
   "cell_type": "code",
   "execution_count": 24,
   "metadata": {},
   "outputs": [],
   "source": [
    "key = 'regions'"
   ]
  },
  {
   "cell_type": "code",
   "execution_count": 25,
   "metadata": {},
   "outputs": [
    {
     "name": "stdout",
     "output_type": "stream",
     "text": [
      "Regions          Amount (%)\n",
      "-------------  ------------\n",
      "North America     41.6674\n",
      "Asia              26.71\n",
      "Unknown           22.3591\n",
      "Europe             7.57012\n",
      "Latin America      0.777803\n",
      "Middle East        0.657908\n",
      "Africa             0.257657\n"
     ]
    }
   ],
   "source": [
    "top = get_top(tbls[key], None)\n",
    "print(tabulate(top, headers=[key.capitalize(), 'Amount (%)']))"
   ]
  },
  {
   "cell_type": "code",
   "execution_count": 26,
   "metadata": {},
   "outputs": [
    {
     "data": {
      "image/png": "[encoded data removed]",
      "text/plain": [
       "<Figure size 432x288 with 1 Axes>"
      ]
     },
     "metadata": {},
     "output_type": "display_data"
    }
   ],
   "source": [
    "plt.figure()\n",
    "l,x = list(zip(*top))\n",
    "l = [f'{L} {X:.2f}%' for L,X in zip(l,x)]\n",
    "plt.pie(x, labels=l, explode=[1/(2*v+1) for v in x], startangle=30) # \n",
    "plt.title(key.capitalize())\n",
    "plt.savefig(str(root / f'{key}.png'))\n",
    "pass"
   ]
  },
  {
   "cell_type": "code",
   "execution_count": 27,
   "metadata": {},
   "outputs": [],
   "source": [
    "key = 'countries'"
   ]
  },
  {
   "cell_type": "code",
   "execution_count": 28,
   "metadata": {},
   "outputs": [
    {
     "name": "stdout",
     "output_type": "stream",
     "text": [
      "Countries         Amount (%)\n",
      "--------------  ------------\n",
      "United States      39.6596\n",
      "Unknown            22.3517\n",
      "China              17.9804\n",
      "Japan               3.52282\n",
      "Canada              2.00783\n",
      "South Korea         1.91417\n",
      "United Kingdom      1.4109\n",
      "Germany             1.40001\n",
      "Taiwan              1.09678\n",
      "France              0.812983\n",
      "India               0.802023\n",
      "Switzerland         0.799447\n",
      "Denmark             0.637565\n",
      "Brazil              0.490058\n",
      "Australia           0.439693\n",
      "Other               4.67406\n"
     ]
    }
   ],
   "source": [
    "top = get_top(tbls[key], 15)\n",
    "print(tabulate(top, headers=[key.capitalize(), 'Amount (%)']))"
   ]
  },
  {
   "cell_type": "code",
   "execution_count": 29,
   "metadata": {},
   "outputs": [
    {
     "data": {
      "image/png": "[encoded data removed]",
      "text/plain": [
       "<Figure size 432x288 with 1 Axes>"
      ]
     },
     "metadata": {},
     "output_type": "display_data"
    }
   ],
   "source": [
    "plt.figure()\n",
    "l,x = list(zip(*top))\n",
    "l = [f'{L} {X:.2f}%' for L,X in zip(l,x)]\n",
    "plt.pie(x, labels=l, explode=[1/(v+.2) for v in x], startangle=45) # \n",
    "plt.title(key.capitalize())\n",
    "plt.tight_layout()\n",
    "plt.savefig(str(root / f'{key}.png'))\n",
    "pass"
   ]
  },
  {
   "cell_type": "code",
   "execution_count": 30,
   "metadata": {},
   "outputs": [],
   "source": [
    "key = 'sectors'"
   ]
  },
  {
   "cell_type": "code",
   "execution_count": 31,
   "metadata": {},
   "outputs": [
    {
     "name": "stdout",
     "output_type": "stream",
     "text": [
      "Sectors                   Amount (%)\n",
      "----------------------  ------------\n",
      "Unknown                    24.0268\n",
      "Information Technology     15.2665\n",
      "Industrials                 9.84382\n",
      "Financials                  9.69041\n",
      "Consumer Discretionary      9.11724\n",
      "Health Care                 7.47212\n",
      "Communication Services      7.3588\n",
      "Consumer Staples            4.41831\n",
      "Utilities                   4.03151\n",
      "Materials                   3.68209\n",
      "Energy                      1.64758\n",
      "Real Estate                 1.46254\n",
      "Bonds                       1.00716\n",
      "Commodity                   0.975152\n"
     ]
    }
   ],
   "source": [
    "top = get_top(tbls[key], None)\n",
    "print(tabulate(top, headers=[key.capitalize(), 'Amount (%)']))"
   ]
  },
  {
   "cell_type": "code",
   "execution_count": 32,
   "metadata": {},
   "outputs": [
    {
     "data": {
      "image/png": "[encoded data removed]",
      "text/plain": [
       "<Figure size 432x288 with 1 Axes>"
      ]
     },
     "metadata": {},
     "output_type": "display_data"
    }
   ],
   "source": [
    "plt.figure()\n",
    "l,x = list(zip(*top))\n",
    "l = [f'{L} {X:.2f}%' for L,X in zip(l,x)]\n",
    "plt.pie(x, labels=l, explode=[1/(2*v+1) for v in x], startangle=0) # \n",
    "plt.title(key.capitalize())\n",
    "plt.savefig(str(root / f'{key}.png'))\n",
    "pass"
   ]
  },
  {
   "cell_type": "code",
   "execution_count": 33,
   "metadata": {},
   "outputs": [],
   "source": [
    "key = 'industry'"
   ]
  },
  {
   "cell_type": "code",
   "execution_count": 34,
   "metadata": {
    "scrolled": true
   },
   "outputs": [
    {
     "name": "stdout",
     "output_type": "stream",
     "text": [
      "Industry                                          Amount (%)\n",
      "----------------------------------------------  ------------\n",
      "Unknown                                            24.0268\n",
      "Software                                            5.34544\n",
      "Banks                                               4.76398\n",
      "Interactive Media & Services                        4.14663\n",
      "Semiconductors & Semiconductor Equipment            3.87583\n",
      "Electrical Equipment                                2.83101\n",
      "Internet & Direct Marketing Retail                  2.80756\n",
      "IT Services                                         2.28426\n",
      "Beverages                                           2.25942\n",
      "Entertainment                                       2.05964\n",
      "Pharmaceuticals                                     1.99861\n",
      "Automobiles                                         1.99583\n",
      "Technology Hardware, Storage & Peripherals          1.94228\n",
      "Capital Markets                                     1.92832\n",
      "Biotechnology                                       1.91628\n",
      "Independent Power and Renewable Electricity...      1.88273\n",
      "Insurance                                           1.86574\n",
      "Machinery                                           1.82141\n",
      "Chemicals                                           1.76154\n",
      "Electric Utilities                                  1.5739\n",
      "Oil, Gas & Consumable Fuels                         1.57216\n",
      "Metals & Mining                                     1.51451\n",
      "Health Care Equipment & Supplies                    1.42619\n",
      "Electronic Equipment, Instruments & Components      1.38521\n",
      "Life Sciences Tools & Services                      0.986151\n",
      "Gold                                                0.975152\n",
      "Specialty Retail                                    0.969699\n",
      "Household Durables                                  0.968627\n",
      "Food Products                                       0.955574\n",
      "Equity Real Estate Investment Trusts (REITs)        0.874162\n",
      "Health Care Providers & Services                    0.857777\n",
      "Hotels Restaurants & Leisure                        0.84984\n",
      "Aerospace & Defense                                 0.849213\n",
      "Road & Rail                                         0.735273\n",
      "Government                                          0.718204\n",
      "Industrial Conglomerates                            0.636549\n",
      "Professional Services                               0.604019\n",
      "Textiles, Apparel & Luxury Goods                    0.592392\n",
      "Real Estate Management & Development                0.591483\n",
      "Construction & Engineering                          0.528445\n",
      "Food & Staples Retailing                            0.485761\n",
      "Building Products                                   0.478221\n",
      "Communications Equipment                            0.477781\n",
      "Diversified Telecommunication Services              0.441496\n",
      "Auto Components                                     0.441348\n",
      "Commercial Services & Supplies                      0.42516\n",
      "Diversified Financial Services                      0.421024\n",
      "Consumer Finance                                    0.406609\n",
      "Wireless Telecommunication Services                 0.369512\n",
      "Other                                               4.37523\n"
     ]
    }
   ],
   "source": [
    "top = get_top(tbls[key], 49)\n",
    "print(tabulate(top, headers=[key.capitalize(), 'Amount (%)']))"
   ]
  },
  {
   "cell_type": "code",
   "execution_count": 35,
   "metadata": {},
   "outputs": [
    {
     "data": {
      "image/png": "[encoded data removed]",
      "text/plain": [
       "<Figure size 432x432 with 1 Axes>"
      ]
     },
     "metadata": {},
     "output_type": "display_data"
    }
   ],
   "source": [
    "plt.figure(figsize=(6,6))\n",
    "l,x = list(zip(*top))\n",
    "l = [f'{L} {X:.2f}%' for L,X in zip(l,x)]\n",
    "plt.pie(x, labels=l, explode=[1/(v+.1) for v in x], startangle=90)\n",
    "# plt.title(key.capitalize())\n",
    "plt.savefig(str(root / f'{key}.png'))\n",
    "pass"
   ]
  },
  {
   "cell_type": "code",
   "execution_count": 36,
   "metadata": {},
   "outputs": [],
   "source": [
    "# key = 'companies'"
   ]
  },
  {
   "cell_type": "code",
   "execution_count": 37,
   "metadata": {
    "scrolled": true
   },
   "outputs": [],
   "source": [
    "# top = get_top(tbls[key], 50)\n",
    "# print(tabulate(top, headers=[key.capitalize(), 'Amount (%)']))"
   ]
  },
  {
   "cell_type": "code",
   "execution_count": null,
   "metadata": {},
   "outputs": [],
   "source": []
  },
  {
   "cell_type": "code",
   "execution_count": 38,
   "metadata": {
    "scrolled": true
   },
   "outputs": [
    {
     "data": {
      "text/plain": [
       "[['TSLA', 'Tesla Inc', 'United States', 0.10577884423115376],\n",
       " ['ROKU', 'Roku Inc Class A', 'United States', 0.06118776244751049],\n",
       " ['TDOC', 'Teladoc Health Inc', 'United States', 0.060287942411517685],\n",
       " ['SQ', 'Square Inc A', 'United States', 0.05128974205158967],\n",
       " ['ZM',\n",
       "  'Zoom Video Communications Inc',\n",
       "  'United States',\n",
       "  0.049090181963607274],\n",
       " ['SHOP', 'Shopify Inc A', 'Canada', 0.04749050189962007],\n",
       " ['COIN',\n",
       "  'Coinbase Global Inc Ordinary Shares - Class A',\n",
       "  'United States',\n",
       "  0.044091181763647264],\n",
       " ['U',\n",
       "  'Unity Software Inc Ordinary Shares',\n",
       "  'United States',\n",
       "  0.04159168166366726],\n",
       " ['TWLO', 'Twilio Inc A', 'United States', 0.03919216156768646],\n",
       " ['SPOT', 'Spotify Technology SA', 'United States', 0.034393121375724846],\n",
       " ['Z', 'Zillow Group Inc C', 'United States', 0.02979404119176164],\n",
       " ['EXAS', 'Exact Sciences Corp', 'United States', 0.029194161167766443],\n",
       " ['CRSP', 'CRISPR Therapeutics AG', 'Switzerland', 0.025394921015796833],\n",
       " ['DOCU', 'DocuSign Inc', 'United States', 0.025394921015796833],\n",
       " ['NTLA', 'Intellia Therapeutics Inc', 'United States', 0.024995000999800038],\n",
       " ['TWTR', 'Twitter Inc', 'United States', 0.02299540091981603],\n",
       " ['PATH', 'UiPath Inc Class A', 'United States', 0.02249550089982003],\n",
       " ['PLTR',\n",
       "  'Palantir Technologies Inc Ordinary Shares - Class A',\n",
       "  'United States',\n",
       "  0.02159568086382723],\n",
       " ['DKNG',\n",
       "  'DraftKings Inc Ordinary Shares - Class A',\n",
       "  'United States',\n",
       "  0.02089582083583283],\n",
       " ['TXG',\n",
       "  '10x Genomics Inc Ordinary Shares - Class A',\n",
       "  'United States',\n",
       "  0.019796040791841624],\n",
       " ['BEAM', 'Beam Therapeutics Inc', 'United States', 0.017996400719856028],\n",
       " ['SE', 'Sea Ltd ADR', 'Singapore', 0.016996600679864023],\n",
       " ['FATE', 'Fate Therapeutics Inc', 'United States', 0.016796640671865624],\n",
       " ['IRDM', 'Iridium Communications Inc', 'United States', 0.015196960607878422],\n",
       " ['NVTA', 'Invitae Corp', 'United States', 0.01469706058788242],\n",
       " ['NTDOY', 'Nintendo Co Ltd ADR', 'Japan', 0.010797840431913616],\n",
       " ['TER', 'Teradyne Inc', 'United States', 0.010497900419916016],\n",
       " ['TWOU', '2U Inc', 'United States', 0.010497900419916016],\n",
       " ['PACB',\n",
       "  'Pacific Biosciences of California Inc',\n",
       "  'United States',\n",
       "  0.010297940411917615],\n",
       " ['PD', 'PagerDuty Inc', 'United States', 0.009998000399920014],\n",
       " ['TWST', 'Twist Bioscience Corp', 'United States', 0.009698060387922414],\n",
       " ['IOVA',\n",
       "  'Iovance Biotherapeutics Inc',\n",
       "  'United States',\n",
       "  0.008798240351929613],\n",
       " ['SKLZ',\n",
       "  'Skillz Inc Ordinary Shares - Class A',\n",
       "  'United States',\n",
       "  0.008398320335932812],\n",
       " ['TSP',\n",
       "  'TuSimple Holdings Inc Ordinary Shares - Class A',\n",
       "  'United States',\n",
       "  0.007998400319936011],\n",
       " ['EDIT', 'Editas Medicine Inc', 'United States', 0.007898420315936811],\n",
       " ['BLI',\n",
       "  'Berkeley Lights Inc Ordinary Shares',\n",
       "  'United States',\n",
       "  0.007098580283943209],\n",
       " ['PRLB', 'Proto Labs Inc', 'United States', 0.00679864027194561],\n",
       " ['TRMB', 'Trimble Inc', 'United States', 0.0062987402519496085],\n",
       " ['VCYT', 'Veracyte Inc', 'United States', 0.005698860227954407],\n",
       " ['NSTG',\n",
       "  'NanoString Technologies Inc',\n",
       "  'United States',\n",
       "  0.0050989802039592075],\n",
       " ['SSYS', 'Stratasys Ltd', 'Israel', 0.0036992601479704052],\n",
       " ['MTLS', 'Materialise NV ADR', 'Belgium', 0.0034993001399720044],\n",
       " ['CERS', 'Cerus Corp', 'United States', 0.002699460107978404],\n",
       " ['-CASH-', 'Dreyfus Govt Cash Man Ins', None, 0.0019996000799840027],\n",
       " ['CGEN', 'Compugen Ltd', 'Israel', 0.0019996000799840027],\n",
       " ['MCRB', 'Seres Therapeutics Inc', 'United States', 0.0015996800639872023]]"
      ]
     },
     "execution_count": 38,
     "metadata": {},
     "output_type": "execute_result"
    }
   ],
   "source": [
    "etfs['ARKK']"
   ]
  },
  {
   "cell_type": "code",
   "execution_count": 39,
   "metadata": {
    "scrolled": true
   },
   "outputs": [
    {
     "data": {
      "text/plain": [
       "{'VONG': (460, '1'),\n",
       " 'XITK': (97, '1'),\n",
       " 'ICLN': (92, '1'),\n",
       " 'ARKK': (46, '1'),\n",
       " 'IXUS': (3129, '1'),\n",
       " 'KWEB': (51, '1'),\n",
       " 'EWG': (66, '1'),\n",
       " 'IAGG': (3230, '1'),\n",
       " 'MCHI': (605, '1'),\n",
       " 'SKYY': (66, '1'),\n",
       " 'CNYA': (475, '1'),\n",
       " 'DIA': (31, '1'),\n",
       " 'SCHP': (45, '1'),\n",
       " 'ESPO': (27, '1'),\n",
       " 'CIBR': (40, '1'),\n",
       " 'SPY': (506, '1'),\n",
       " 'PHO': (37, '1'),\n",
       " 'LQD': (2390, '1'),\n",
       " 'VXF': (2040, '1'),\n",
       " 'LIT': (40, '1'),\n",
       " 'IBB': (266, '1'),\n",
       " 'EWY': (107, '1'),\n",
       " 'FIDU': (346, '1'),\n",
       " 'FLJP': (510, '1'),\n",
       " 'FHLC': (437, '1'),\n",
       " 'VTI': (1476, '1'),\n",
       " 'EWC': (95, '1'),\n",
       " 'EMXC': (614, '1'),\n",
       " 'IAU': (1, '1'),\n",
       " 'ACES': (48, '1'),\n",
       " 'IGOV': (753, '1'),\n",
       " 'FNCL': (385, '1'),\n",
       " 'IWV': (1457, '1'),\n",
       " 'VGK': (1126, '1'),\n",
       " 'VGT': (322, '1'),\n",
       " 'SPDW': (1864, '1'),\n",
       " 'QQQ': (102, '1'),\n",
       " 'ICVT': (334, '1'),\n",
       " 'SOCL': (44, '1'),\n",
       " 'ASHR': (298, '1'),\n",
       " 'KOMP': (496, '1')}"
      ]
     },
     "execution_count": 39,
     "metadata": {},
     "output_type": "execute_result"
    }
   ],
   "source": [
    "{t:(len(rs), f'{sum(r[-1] for r in rs):.2g}') for t, rs in etfs.items()}"
   ]
  },
  {
   "cell_type": "code",
   "execution_count": 40,
   "metadata": {},
   "outputs": [
    {
     "data": {
      "text/plain": [
       "0.9999999999999998"
      ]
     },
     "execution_count": 40,
     "metadata": {},
     "output_type": "execute_result"
    }
   ],
   "source": [
    "sum(ratios.values())"
   ]
  },
  {
   "cell_type": "code",
   "execution_count": null,
   "metadata": {},
   "outputs": [],
   "source": []
  },
  {
   "cell_type": "code",
   "execution_count": 41,
   "metadata": {},
   "outputs": [],
   "source": [
    "currency = {\n",
    "    'Us Dollar': 'USD',\n",
    "    'Cash†': 'USD',\n",
    "    'Cashusd': 'USD',\n",
    "    'Japanese Yen': 'JPY',\n",
    "    'Polish Zloty': 'PLN',\n",
    "    'British Pound Sterling': 'GBP',\n",
    "    'Norwegian Krone': 'NOK',\n",
    "    'Chinese Yuan': 'CNY',\n",
    "    'Pound Sterling': 'GBP',\n",
    "    'Euro Currency': 'EUR',\n",
    "    'Canadian Dollar': 'CAD',\n",
    "    'Swiss Franc': 'CHF',\n",
    "    'Australian Dollar': 'AUD',\n",
    "    'Euro': 'EUR',\n",
    "    'Cash Collateral Eur Ubfut': 'EUR',\n",
    "    'Hong Kong Dollar': 'HKD',\n",
    "    'Futures Krw Margin Balance': 'KRW',\n",
    "    'Cnh Cash': 'CNY',   \n",
    "}\n",
    "currency.update({f'{sym.capitalize()} Cash':sym for sym in CURRENCIES})\n",
    "\n",
    "commodities = {'Gold'}\n",
    "\n",
    "skippable = {'JFROG LTD COMMON STOCK',\n",
    " 'State Street Institutional Liq State St Inst Liq Res Prem',\n",
    " 'Ss Inst Treas Plus Mm Fund Tru Ss Inst Treas Plus Mm Fund Tru',\n",
    " 'E-Mini Russ 2000 Mar21 Xcme 20210319',\n",
    " 'Hirogin Holdings Inc Common Stock',\n",
    " 'Ssc Government Mm Gvmxx',\n",
    " 'Interest/Overdraft',\n",
    " 'Ss Inst Treas Plus Mm Fund Tru Ss Inst Treas Plus Mm Fund Tru',\n",
    " 'E-Mini Russ 2000 Mar21 Xcme 20210319',\n",
    " 'Engie Loyalty Line 2021',\n",
    " 'Edf (Electricie De France) Loyalty Line 2021',\n",
    " 'BANCO SANTANDER SA (RTS NOV 2020)',\n",
    " 'Seb Sa (Loyalty Line 2021) New',\n",
    " 'AVEVA GROUP-NIL',\n",
    " 'Interest/Overdraft',\n",
    " 'AVIC SHENYANG AIRCRAFT CO -A',\n",
    " 'SEAZEN HOLDINGS CO LTD-A',\n",
    " 'SHENNAN CIRCUITS CO LTD-A',\n",
    " 'BGI GENOMICS CO LTD-A',\n",
    " 'SHENNAN CIRCUITS CO LTD-A',\n",
    " 'State Street Institutional Liq State St Inst Liq Res Prem',\n",
    " 'Siemens Energy Ag Common Stock',\n",
    " 'Docebo Inc Common Stock Npv',\n",
    " 'Adp Common Stock Eur3.0',\n",
    " 'Lundbergs Ab B Shs Common Stock',\n",
    " 'Befesa Sa Common Stock',\n",
    " 'Ses Receipt',\n",
    " 'Money Forward Inc Common Stock',\n",
    " 'Kadokawa Corp Common Stock',\n",
    " 'Schaeffler Ag Pref Preference',\n",
    " 'Ss Inst Treas Plus Mm Fund Tru Ss Inst Treas Plus Mm Fund Tru',\n",
    " 'E-Mini Russ 2000 Mar21 Xcme 20210319',\n",
    " 'State Street Institutional Liq State St Inst Liq Res Prem',\n",
    " 'BlackRock Cash Funds Treasury SL Agency',\n",
    " 'BlackRock Cash Funds Treasury SL Agency',\n",
    " 'FirstCash Inc',\n",
    " 'BlackRock Cash Funds Treasury SL Agency',\n",
    " 'Cash Collateral Usd Hbcft',\n",
    " 'FirstCash Inc',\n",
    " 'BlackRock Cash Funds Treasury SL Agency',\n",
    " 'Cash Collateral Usd Ubfut',\n",
    " 'BlackRock Cash Funds Treasury SL Agency',\n",
    " 'Cash Collateral Msfut Usd',\n",
    " 'FirstCash Inc',\n",
    " 'Lancashire Holdings Ltd',\n",
    " 'Cash Collateral Usd Hbcft',\n",
    " 'BlackRock Cash Funds Treasury SL Agency',\n",
    " 'Cash Collateral Usd Sgaft',\n",
    " 'FirstCash Inc',\n",
    " 'BlackRock Cash Funds Treasury SL Agency',\n",
    " 'Cash Collateral Cad Ubfut',\n",
    " 'BlackRock Cash Funds Treasury SL Agency',\n",
    " 'BlackRock Cash Funds Treasury SL Agency',\n",
    " 'BlackRock Cash Funds Treasury SL Agency',\n",
    " 'Cash Collateral Usd Ubfut',\n",
    " 'Metcash Ltd',\n",
    " 'Lancashire Holdings Ltd',\n",
    " 'Cash Collateral Usd Jpmsw',\n",
    " 'BlackRock Cash Funds Treasury SL Agency',\n",
    " 'John Deere Cash Management 0.5%',\n",
    " 'John Deere Cash Management 2.2%',\n",
    " 'Lancashire Holdings Ltd',}\n",
    "\n",
    "aliases = {\n",
    "    'NTDOY': '7974',\n",
    "    'TCEHY': '00700',\n",
    "}\n"
   ]
  },
  {
   "cell_type": "code",
   "execution_count": 42,
   "metadata": {
    "scrolled": true
   },
   "outputs": [
    {
     "name": "stdout",
     "output_type": "stream",
     "text": [
      "ICLN Cash Collateral Eur Hbcft\n",
      "ESPO Stillfront Group Ab Common Stock Sek.07\n",
      "SPY Usd\n",
      "FIDU Xai Emini Industr Sep21 Xcme 20210917\n",
      "FIDU E-Mini Russ 2000 Sep21 Xcme 20210917\n",
      "FLJP NIKKEI 225 (OSE) SEP21 XOSE 20210909\n",
      "FHLC Xav Health Care Sep21 Xcme 20210917\n",
      "FHLC ORTHO CLINICAL DIAGNOSTICS H COMMON STOCK USD.00001\n",
      "FHLC E-Mini Russ 2000 Sep21 Xcme 20210917\n",
      "FNCL Xaf Financial Sep21 Xcme 20210917\n",
      "FNCL E-Mini Russ 2000 Sep21 Xcme 20210917\n",
      "VGK SILTRONIC-TEND\n",
      "VGK Eurazeo Se (Loyalty Line 2023)\n",
      "SPDW Aust And Nz Banking Group Common Stock\n",
      "SPDW Relx Plc Common Stock Gbp.144397\n",
      "SPDW Dnb Bank Asa Common Stock Nok12.5\n",
      "SPDW Stellantis Nv Common Stock Eur.01\n",
      "SPDW Swedish Match Ab Common Stock Sek1.9823\n",
      "SPDW Nokia Oyj Common Stock Npv\n",
      "SPDW Flutter Entertainment Plc Di Common Stock Eur.09\n",
      "SPDW Sk Inc Common Stock Krw200.0\n",
      "SPDW Nuvei Corp Subordinate Vtg Common Stock\n",
      "SPDW Tilray Inc Class 2 Common Common Stock Usd.0001\n",
      "SPDW Hybe Co Ltd Common Stock Krw500.0\n",
      "SPDW Singapore Dollar\n",
      "SPDW South Korean Won\n",
      "SPDW Differ Group Holding Co Ltd Common Stock Hkd.0025\n",
      "SPDW Dye + Durham Ltd Common Stock\n",
      "SPDW Readly International Ab Common Stock\n",
      "SPDW Nolato Ab B Shs Common Stock Sek.5\n",
      "SPDW Endeavour Mining Plc Common Stock Usd.01\n",
      "SPDW Embracer Group Ab Common Stock Sek.002777\n",
      "SPDW Siltronic Ag Tend Common Stock\n",
      "SPDW Teamviewer Ag Common Stock\n",
      "SPDW Hengten Networks Group Ltd Common Stock Hkd.02\n",
      "SPDW Immofinanz Ag Common Stock\n",
      "SPDW Pearl Abyss Corp Common Stock Krw100.0\n",
      "SPDW Badger Infrastructure Soluti Common Stock\n",
      "SPDW Brunello Cucinelli Spa Common Stock Npv\n",
      "SPDW Lifeworks Inc Common Stock\n",
      "SPDW Pexip Holding Asa Common Stock Nok.015\n",
      "SPDW Sk Biopharmaceuticals Co Ltd Common Stock Krw500.0\n",
      "SPDW Bff Bank Spa Common Stock Npv\n",
      "SPDW Kakao Games Corp Common Stock Krw100.0\n",
      "SPDW Gs Retail Co Ltd Common Stock Krw1000.0\n",
      "SPDW Hyundai Heavy Industries Hol Common Stock Krw1000.0\n",
      "SPDW Stillfront Group Ab Common Stock Sek.07\n",
      "SPDW Cellink Ab B Common Stock Sek.1\n",
      "SPDW Belimo Holding Ag Reg Common Stock Chf.05\n",
      "SPDW Vgp Common Stock Eur55.0\n",
      "SPDW Pan Ocean Co Ltd Common Stock Krw1000.0\n",
      "ASHR CHINA INTERNATIONAL CAPTAL-A\n",
      "ASHR BEIJING WANTAI BIOLOGICAL-A\n",
      "ASHR ZHONGTAI SECURITIES CO LTD-A\n"
     ]
    },
    {
     "data": {
      "text/plain": [
       "[]"
      ]
     },
     "execution_count": 42,
     "metadata": {},
     "output_type": "execute_result"
    }
   ],
   "source": [
    "assets = {}\n",
    "known = set()\n",
    "done_rats = set()\n",
    "skip_it = []\n",
    "    \n",
    "for sec, rows in etfs.items():\n",
    "    if sec in ratios and ratios[sec] > 0:\n",
    "        r = ratios[sec]\n",
    "        done_rats.add(sec)\n",
    "        for row in rows:\n",
    "            typ = 'Stocks'\n",
    "            tk, name, land, q = row\n",
    "            ticker = tk\n",
    "            if name in commodities:\n",
    "                typ = 'Commodity'\n",
    "                ticker = None\n",
    "                tk = name\n",
    "                land = None\n",
    "            if name in currency or tk == '-CASH-':\n",
    "                if name in currency:\n",
    "                    tk = currency[name]\n",
    "                if tk in CURRENCIES:\n",
    "                    name = CURRENCIES[tk]['name']\n",
    "                    typ = 'Currency'\n",
    "                    land = None\n",
    "                elif name not in skippable:\n",
    "                    print(sec, name)\n",
    "                    \n",
    "            if tk is None and sec == 'ICVT':\n",
    "                tk = 'Convertible Bonds'\n",
    "                typ = 'Convertible Bonds'\n",
    "                name = 'Convertible Bonds'\n",
    "                ticker = None\n",
    "                land = None\n",
    "                \n",
    "            if tk is None and pies[sec]['Asset Classification'] == 'Fixed Income' or ' Treasury ' in name:\n",
    "                tk = 'Bonds'\n",
    "#                 if land is not None:\n",
    "#                     tk = f'Bonds - {land}'\n",
    "                typ = 'Bonds'\n",
    "                name = 'Bonds'\n",
    "                ticker = None\n",
    "                land = None\n",
    "            \n",
    "            if tk is None:\n",
    "#                 if name not in skippable:\n",
    "#                     print(sec, name)\n",
    "                tk = 'Unknown'\n",
    "                typ = 'Unknown'\n",
    "                name = 'Unknown'\n",
    "                ticker = None\n",
    "                land = None\n",
    "            \n",
    "            if tk not in assets:\n",
    "                assets[tk] = {'name': name, 'ticker': ticker, 'amount': 0., 'country': land, 'type': typ}\n",
    "            assets[tk]['amount'] += q * r\n",
    "            \n",
    "for tk, info in stocks.items():\n",
    "    \n",
    "    if tk in ratios and ratios[tk] > 0:\n",
    "        r = ratios[tk]\n",
    "        \n",
    "        if tk in aliases:\n",
    "            tk = aliases[tk]\n",
    "        if tk not in assets:\n",
    "            print(tk)\n",
    "        else:\n",
    "            assets[tk]['employees'] = info['employees']\n",
    "            assets[tk]['eps'] = info['eps']\n",
    "            assets[tk]['amount'] += r\n",
    "\n",
    "# for tk, info in assets.items():\n",
    "#     if tk != 'Unknown':\n",
    "#         info['ticker'] = tk\n",
    "            \n",
    "skip_it"
   ]
  },
  {
   "cell_type": "code",
   "execution_count": 43,
   "metadata": {},
   "outputs": [
    {
     "data": {
      "text/plain": [
       "6647"
      ]
     },
     "execution_count": 43,
     "metadata": {},
     "output_type": "execute_result"
    }
   ],
   "source": [
    "len(assets)"
   ]
  },
  {
   "cell_type": "code",
   "execution_count": 44,
   "metadata": {
    "scrolled": true
   },
   "outputs": [
    {
     "data": {
      "text/plain": [
       "{'AAPL',\n",
       " 'AMD',\n",
       " 'AMZN',\n",
       " 'BABA',\n",
       " 'BIDU',\n",
       " 'COST',\n",
       " 'DIS',\n",
       " 'FB',\n",
       " 'GOOGL',\n",
       " 'LI',\n",
       " 'MSFT',\n",
       " 'NFLX',\n",
       " 'NIO',\n",
       " 'NTDOY',\n",
       " 'NVDA',\n",
       " 'PDD',\n",
       " 'PTON',\n",
       " 'PYPL',\n",
       " 'QCOM',\n",
       " 'SHOP',\n",
       " 'SONY',\n",
       " 'TCEHY',\n",
       " 'TSLA',\n",
       " 'UBER',\n",
       " 'XPEV',\n",
       " 'YNDX'}"
      ]
     },
     "execution_count": 44,
     "metadata": {},
     "output_type": "execute_result"
    }
   ],
   "source": [
    "set(ratios) - set(done_rats)"
   ]
  },
  {
   "cell_type": "code",
   "execution_count": 45,
   "metadata": {},
   "outputs": [
    {
     "data": {
      "text/plain": [
       "0.9999999999999651"
      ]
     },
     "execution_count": 45,
     "metadata": {},
     "output_type": "execute_result"
    }
   ],
   "source": [
    "sum(a['amount'] for a in assets.values())"
   ]
  },
  {
   "cell_type": "code",
   "execution_count": 46,
   "metadata": {},
   "outputs": [
    {
     "data": {
      "text/plain": [
       "{'name': 'Unknown',\n",
       " 'ticker': None,\n",
       " 'amount': 0.003094901563511037,\n",
       " 'country': None,\n",
       " 'type': 'Unknown'}"
      ]
     },
     "execution_count": 46,
     "metadata": {},
     "output_type": "execute_result"
    }
   ],
   "source": [
    "assets['Unknown']"
   ]
  },
  {
   "cell_type": "code",
   "execution_count": 47,
   "metadata": {},
   "outputs": [
    {
     "data": {
      "text/plain": [
       "{'name': 'United States dollar',\n",
       " 'ticker': '-CASH-',\n",
       " 'amount': 0.0020795231114886406,\n",
       " 'country': None,\n",
       " 'type': 'Currency'}"
      ]
     },
     "execution_count": 47,
     "metadata": {},
     "output_type": "execute_result"
    }
   ],
   "source": [
    "assets['USD']"
   ]
  },
  {
   "cell_type": "code",
   "execution_count": 48,
   "metadata": {},
   "outputs": [
    {
     "data": {
      "text/plain": [
       "{'Stocks': 0.9411516174146453,\n",
       " 'Currency': 0.00517717265151796,\n",
       " 'Unknown': 0.003094901563511037,\n",
       " 'Bonds': 0.010941151584937282,\n",
       " 'Commodity': 0.0097515218771914,\n",
       " 'Convertible Bonds': 0.02988363490816221}"
      ]
     },
     "execution_count": 48,
     "metadata": {},
     "output_type": "execute_result"
    }
   ],
   "source": [
    "breakdown = {}\n",
    "for n, info in assets.items():\n",
    "    typ = info['type']\n",
    "    if typ not in breakdown:\n",
    "        breakdown[typ] = 0.\n",
    "    breakdown[typ] += info['amount']\n",
    "breakdown"
   ]
  },
  {
   "cell_type": "code",
   "execution_count": 49,
   "metadata": {},
   "outputs": [
    {
     "data": {
      "text/plain": [
       "0.9999999999999651"
      ]
     },
     "execution_count": 49,
     "metadata": {},
     "output_type": "execute_result"
    }
   ],
   "source": [
    "sum(breakdown.values())"
   ]
  },
  {
   "cell_type": "code",
   "execution_count": 50,
   "metadata": {},
   "outputs": [],
   "source": [
    "# for n, info in assets.items():\n",
    "#     if info['type'] == 'Currency':\n",
    "#         print(n, info)"
   ]
  },
  {
   "cell_type": "code",
   "execution_count": 51,
   "metadata": {},
   "outputs": [
    {
     "name": "stdout",
     "output_type": "stream",
     "text": [
      "Asset Type           Amount (%)\n",
      "-----------------  ------------\n",
      "Stocks                94.1152\n",
      "Convertible Bonds      2.98836\n",
      "Bonds                  1.09412\n",
      "Commodity              0.975152\n",
      "Currency               0.517717\n",
      "Unknown                0.30949\n"
     ]
    }
   ],
   "source": [
    "top = get_top(breakdown, None)\n",
    "print(tabulate(top, headers=['Asset Type', 'Amount (%)']))"
   ]
  },
  {
   "cell_type": "code",
   "execution_count": 52,
   "metadata": {},
   "outputs": [
    {
     "data": {
      "image/png": "[encoded data removed]",
      "text/plain": [
       "<Figure size 432x288 with 1 Axes>"
      ]
     },
     "metadata": {},
     "output_type": "display_data"
    }
   ],
   "source": [
    "plt.figure()\n",
    "l,x = breakdown.keys(), breakdown.values()\n",
    "l = [f'{L} {X*100:.2f}%' for L,X in zip(l,x)]\n",
    "objs, txt = plt.pie(x, labels=l, startangle=10) # explode=[1/(2*v+1) for v in x], \n",
    "# adjust_text(txt)\n",
    "plt.title('Breakdown')\n",
    "plt.savefig(str(root / 'breakdown.png'))\n",
    "pass"
   ]
  },
  {
   "cell_type": "code",
   "execution_count": null,
   "metadata": {},
   "outputs": [],
   "source": []
  },
  {
   "cell_type": "code",
   "execution_count": 53,
   "metadata": {},
   "outputs": [],
   "source": [
    "full = dicts_to_table(assets, cols=['name', 'ticker', 'country', 'amount'], sort_by='amount', reverse=True, \n",
    "                      ignore_key=True, skip_header=True)\n",
    "for row in full:\n",
    "    row[-1] *= 100\n"
   ]
  },
  {
   "cell_type": "code",
   "execution_count": 54,
   "metadata": {},
   "outputs": [],
   "source": [
    "num = 49\n",
    "# num = None\n",
    "\n",
    "if num is None:\n",
    "    top = full.copy()\n",
    "else:\n",
    "    top = full[:num]\n",
    "    if len(full) > num:\n",
    "        n = len(top[0])-2\n",
    "        top.append(['Other'] + [None]*n + [sum(x[-1] for x in full[num:])])\n",
    "    \n",
    "csv = []\n",
    "\n",
    "for line in top:\n",
    "    row = [('' if x is None else x) for x in line]\n",
    "#     row[-1] = f'{row[i]/100:.4f}'\n",
    "    row[-1] = f'{row[-1]:.2f}%'\n",
    "    csv.append(','.join(row))\n",
    "    \n",
    "headers = ['Name', 'Ticker', 'Country', 'Amount']\n",
    "with (root/'companies.csv').open('w', encoding='utf-8') as f:\n",
    "    f.write(','.join(headers) + '\\n')\n",
    "    f.write('\\n'.join(csv))\n",
    "    f.write('\\n')"
   ]
  },
  {
   "cell_type": "code",
   "execution_count": 55,
   "metadata": {
    "scrolled": false
   },
   "outputs": [
    {
     "name": "stdout",
     "output_type": "stream",
     "text": [
      "Name                                        Ticker    Country           Amount\n",
      "------------------------------------------  --------  -------------  ---------\n",
      "NVIDIA Corp                                 NVDA      United States   3.70263\n",
      "Convertible Bonds                                                     2.98836\n",
      "Advanced Micro Devices Inc                  AMD       United States   2.46527\n",
      "Microsoft Corp                              MSFT      United States   2.41926\n",
      "Tesla Inc                                   TSLA      United States   2.12416\n",
      "Amazon.com Inc                              AMZN      United States   1.76833\n",
      "Tencent Holdings Ltd                        00700     China           1.66856\n",
      "Apple Inc                                   AAPL      United States   1.60655\n",
      "Costco Wholesale Corp                       COST      United States   1.32024\n",
      "Alphabet Inc Class A                        GOOGL     United States   1.2601\n",
      "Facebook Inc Class A                        FB        United States   1.22867\n",
      "Alibaba Group Holding Ltd ADR               BABA      China           1.14112\n",
      "Bonds                                                                 1.09412\n",
      "Qualcomm Inc                                QCOM      United States   1.01145\n",
      "Gold                                                                  0.975152\n",
      "Nintendo Co Ltd                             7974      Japan           0.845853\n",
      "Pinduoduo Inc ADR                           PDD       China           0.838854\n",
      "Shopify Inc A                               SHOP      Canada          0.801383\n",
      "PayPal Holdings Inc                         PYPL      United States   0.735127\n",
      "The Walt Disney Co                          DIS       United States   0.600649\n",
      "Baidu Inc ADR                               BIDU      China           0.561668\n",
      "Kweichow Moutai Co Ltd                      600519    China           0.558303\n",
      "Sony Group Corp ADR                         SONY      Japan           0.51336\n",
      "Enphase Energy Inc                          ENPH      United States   0.462303\n",
      "Taiwan Semiconductor Manufacturing Co Ltd   2330      Taiwan          0.448342\n",
      "Peloton Interactive Inc                     PTON      United States   0.397912\n",
      "NIO Inc ADR                                 NIO       China           0.396712\n",
      "Samsung Electronics Co Ltd                  005930    South Korea     0.384651\n",
      "Alibaba Group Holding Ltd Ordinary Shares   09988     China           0.364695\n",
      "Meituan                                     03690     China           0.352314\n",
      "Netflix Inc                                 NFLX      United States   0.343414\n",
      "Alphabet Inc Class C                        GOOG      United States   0.329212\n",
      "JD.com Inc ADR                              JD        China           0.322993\n",
      "Unknown                                                               0.30949\n",
      "NetEase Inc ADR                             NTES      China           0.303997\n",
      "Sunrun Inc                                  RUN       United States   0.297823\n",
      "Plug Power Inc                              PLUG      United States   0.288081\n",
      "China Merchants Bank Co Ltd                 600036    China           0.283749\n",
      "Yandex NV Shs Class-A-                      YNDX      Russia          0.283174\n",
      "First Solar Inc                             FSLR      United States   0.264882\n",
      "JPMorgan Chase & Co                         JPM       United States   0.254301\n",
      "Berkshire Hathaway Inc Class B              BRK.B     United States   0.248084\n",
      "Bilibili Inc ADR                            BILI      China           0.247022\n",
      "Uber Technologies Inc                       UBER      United States   0.244057\n",
      "Ping An Insurance (Group) Co. of China Ltd  601318    China           0.23986\n",
      "Wuliangye Yibin Co Ltd                      000858    China           0.230852\n",
      "Vestas Wind Systems A/S                     VWS       Denmark         0.230371\n",
      "Northland Power Inc                         NPI       Canada          0.229593\n",
      "Universal Display Corp                      OLED      United States   0.220812\n",
      "Other                                                                59.7921\n"
     ]
    }
   ],
   "source": [
    "print(tabulate(top, headers=headers))"
   ]
  },
  {
   "cell_type": "code",
   "execution_count": null,
   "metadata": {},
   "outputs": [],
   "source": []
  },
  {
   "cell_type": "code",
   "execution_count": null,
   "metadata": {},
   "outputs": [],
   "source": []
  },
  {
   "cell_type": "code",
   "execution_count": null,
   "metadata": {},
   "outputs": [],
   "source": []
  },
  {
   "cell_type": "code",
   "execution_count": null,
   "metadata": {},
   "outputs": [],
   "source": []
  }
 ],
 "metadata": {
  "kernelspec": {
   "display_name": "Python 3",
   "language": "python",
   "name": "python3"
  },
  "language_info": {
   "codemirror_mode": {
    "name": "ipython",
    "version": 3
   },
   "file_extension": ".py",
   "mimetype": "text/x-python",
   "name": "python",
   "nbconvert_exporter": "python",
   "pygments_lexer": "ipython3",
   "version": "3.8.8"
  }
 },
 "nbformat": 4,
 "nbformat_minor": 4
}
