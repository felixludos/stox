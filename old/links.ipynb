{
 "cells": [
  {
   "cell_type": "code",
   "execution_count": 1,
   "metadata": {},
   "outputs": [],
   "source": [
    "%load_ext autoreload\n",
    "%autoreload 2\n",
    "import sys, os\n",
    "import random\n",
    "import numpy as np\n",
    "from tqdm.notebook import tqdm\n",
    "from tabulate import tabulate\n",
    "from omnibelt import load_json, save_json, load_yaml, save_yaml\n",
    "from pathlib import Path\n",
    "from collections import Counter\n",
    "import requests\n",
    "import json\n",
    "import clipboard\n",
    "# from googlefinance import getQuotes\n",
    "from bs4 import BeautifulSoup\n",
    "# import requests, sys, lxml.html\n",
    "\n",
    "from yahooquery import Ticker\n",
    "\n",
    "from src import *"
   ]
  },
  {
   "cell_type": "code",
   "execution_count": 2,
   "metadata": {},
   "outputs": [
    {
     "data": {
      "text/plain": [
       "dict_keys(['balanced', 'conservative', 'wreckless', 'minimal', 'ira'])"
      ]
     },
     "execution_count": 2,
     "metadata": {},
     "output_type": "execute_result"
    }
   ],
   "source": [
    "STRATEGIES = load_yaml('config/strategies.yaml')\n",
    "STRATEGIES.keys()"
   ]
  },
  {
   "cell_type": "code",
   "execution_count": 3,
   "metadata": {},
   "outputs": [
    {
     "data": {
      "text/plain": [
       "68"
      ]
     },
     "execution_count": 3,
     "metadata": {},
     "output_type": "execute_result"
    }
   ],
   "source": [
    "tks = set()\n",
    "for v in STRATEGIES.values():\n",
    "    tks.update(v)\n",
    "len(tks)"
   ]
  },
  {
   "cell_type": "code",
   "execution_count": null,
   "metadata": {},
   "outputs": [],
   "source": []
  },
  {
   "cell_type": "code",
   "execution_count": 4,
   "metadata": {},
   "outputs": [
    {
     "data": {
      "text/plain": [
       "(68, [])"
      ]
     },
     "execution_count": 4,
     "metadata": {},
     "output_type": "execute_result"
    }
   ],
   "source": [
    "typs = {}\n",
    "missing = []\n",
    "for tk in tks:\n",
    "    for typ, els in TYPES.items():\n",
    "        if tk in els:\n",
    "            typs[tk] = typ\n",
    "    if tk not in typs:\n",
    "        missing.append(tk)\n",
    "len(typs), missing"
   ]
  },
  {
   "cell_type": "code",
   "execution_count": 5,
   "metadata": {},
   "outputs": [
    {
     "data": {
      "text/plain": [
       "dict_keys(['EQUITY', 'ETF'])"
      ]
     },
     "execution_count": 5,
     "metadata": {},
     "output_type": "execute_result"
    }
   ],
   "source": [
    "cats = {}\n",
    "for tk, typ in typs.items():\n",
    "    if typ not in cats:\n",
    "        cats[typ] = []\n",
    "    cats[typ].append(tk)\n",
    "cats.keys()"
   ]
  },
  {
   "cell_type": "code",
   "execution_count": 13,
   "metadata": {},
   "outputs": [],
   "source": [
    "sites = SITES\n",
    "sites = {'EQUITY': ['snapshot', 'history'],\n",
    "         'ETF': ['snapshot', 'holdings', 'composition']}\n",
    "# sites = {'EQUITY': ['history'],\n",
    "#          'ETF': ['holdings', 'composition']}\n",
    "# sites = {'EQUITY': ['snapshot'],\n",
    "#          'ETF': ['snapshot']}"
   ]
  },
  {
   "cell_type": "code",
   "execution_count": 14,
   "metadata": {},
   "outputs": [],
   "source": [
    "cat = 'EQUITY'\n",
    "cat = 'ETF'"
   ]
  },
  {
   "cell_type": "code",
   "execution_count": 15,
   "metadata": {},
   "outputs": [
    {
     "data": {
      "text/plain": [
       "123"
      ]
     },
     "execution_count": 15,
     "metadata": {},
     "output_type": "execute_result"
    }
   ],
   "source": [
    "lines = []\n",
    "for site in sites[cat]:\n",
    "    for ticker in cats[cat]:\n",
    "        lines.append(URLS[cat][site].format(ticker=ticker))\n",
    "#     break\n",
    "len(lines)"
   ]
  },
  {
   "cell_type": "code",
   "execution_count": null,
   "metadata": {},
   "outputs": [],
   "source": []
  },
  {
   "cell_type": "code",
   "execution_count": null,
   "metadata": {},
   "outputs": [],
   "source": []
  },
  {
   "cell_type": "code",
   "execution_count": 9,
   "metadata": {},
   "outputs": [],
   "source": [
    "clipboard.copy('\\r\\n'.join(lines))"
   ]
  },
  {
   "cell_type": "code",
   "execution_count": 16,
   "metadata": {
    "scrolled": false
   },
   "outputs": [
    {
     "data": {
      "text/plain": [
       "['https://screener.fidelity.com/ftgw/etf/snapshot/snapshot.jhtml?symbols=SOCL',\n",
       " 'https://screener.fidelity.com/ftgw/etf/snapshot/snapshot.jhtml?symbols=ASHR',\n",
       " 'https://screener.fidelity.com/ftgw/etf/snapshot/snapshot.jhtml?symbols=KWEB',\n",
       " 'https://screener.fidelity.com/ftgw/etf/snapshot/snapshot.jhtml?symbols=SCHP',\n",
       " 'https://screener.fidelity.com/ftgw/etf/snapshot/snapshot.jhtml?symbols=EMXC',\n",
       " 'https://screener.fidelity.com/ftgw/etf/snapshot/snapshot.jhtml?symbols=QQQ',\n",
       " 'https://screener.fidelity.com/ftgw/etf/snapshot/snapshot.jhtml?symbols=SKYY',\n",
       " 'https://screener.fidelity.com/ftgw/etf/snapshot/snapshot.jhtml?symbols=ESPO',\n",
       " 'https://screener.fidelity.com/ftgw/etf/snapshot/snapshot.jhtml?symbols=VGK',\n",
       " 'https://screener.fidelity.com/ftgw/etf/snapshot/snapshot.jhtml?symbols=IAGG',\n",
       " 'https://screener.fidelity.com/ftgw/etf/snapshot/snapshot.jhtml?symbols=ARKK',\n",
       " 'https://screener.fidelity.com/ftgw/etf/snapshot/snapshot.jhtml?symbols=VONG',\n",
       " 'https://screener.fidelity.com/ftgw/etf/snapshot/snapshot.jhtml?symbols=LIT',\n",
       " 'https://screener.fidelity.com/ftgw/etf/snapshot/snapshot.jhtml?symbols=ICVT',\n",
       " 'https://screener.fidelity.com/ftgw/etf/snapshot/snapshot.jhtml?symbols=FNCL',\n",
       " 'https://screener.fidelity.com/ftgw/etf/snapshot/snapshot.jhtml?symbols=XITK',\n",
       " 'https://screener.fidelity.com/ftgw/etf/snapshot/snapshot.jhtml?symbols=CIBR',\n",
       " 'https://screener.fidelity.com/ftgw/etf/snapshot/snapshot.jhtml?symbols=LQD',\n",
       " 'https://screener.fidelity.com/ftgw/etf/snapshot/snapshot.jhtml?symbols=ACES',\n",
       " 'https://screener.fidelity.com/ftgw/etf/snapshot/snapshot.jhtml?symbols=EWC',\n",
       " 'https://screener.fidelity.com/ftgw/etf/snapshot/snapshot.jhtml?symbols=DIA',\n",
       " 'https://screener.fidelity.com/ftgw/etf/snapshot/snapshot.jhtml?symbols=VTI',\n",
       " 'https://screener.fidelity.com/ftgw/etf/snapshot/snapshot.jhtml?symbols=EWG',\n",
       " 'https://screener.fidelity.com/ftgw/etf/snapshot/snapshot.jhtml?symbols=PHO',\n",
       " 'https://screener.fidelity.com/ftgw/etf/snapshot/snapshot.jhtml?symbols=FHLC',\n",
       " 'https://screener.fidelity.com/ftgw/etf/snapshot/snapshot.jhtml?symbols=ICLN',\n",
       " 'https://screener.fidelity.com/ftgw/etf/snapshot/snapshot.jhtml?symbols=CNYA',\n",
       " 'https://screener.fidelity.com/ftgw/etf/snapshot/snapshot.jhtml?symbols=SPY',\n",
       " 'https://screener.fidelity.com/ftgw/etf/snapshot/snapshot.jhtml?symbols=KOMP',\n",
       " 'https://screener.fidelity.com/ftgw/etf/snapshot/snapshot.jhtml?symbols=FIDU',\n",
       " 'https://screener.fidelity.com/ftgw/etf/snapshot/snapshot.jhtml?symbols=MCHI',\n",
       " 'https://screener.fidelity.com/ftgw/etf/snapshot/snapshot.jhtml?symbols=EWY',\n",
       " 'https://screener.fidelity.com/ftgw/etf/snapshot/snapshot.jhtml?symbols=IBB',\n",
       " 'https://screener.fidelity.com/ftgw/etf/snapshot/snapshot.jhtml?symbols=IWV',\n",
       " 'https://screener.fidelity.com/ftgw/etf/snapshot/snapshot.jhtml?symbols=SPDW',\n",
       " 'https://screener.fidelity.com/ftgw/etf/snapshot/snapshot.jhtml?symbols=IGOV',\n",
       " 'https://screener.fidelity.com/ftgw/etf/snapshot/snapshot.jhtml?symbols=FLJP',\n",
       " 'https://screener.fidelity.com/ftgw/etf/snapshot/snapshot.jhtml?symbols=VGT',\n",
       " 'https://screener.fidelity.com/ftgw/etf/snapshot/snapshot.jhtml?symbols=IXUS',\n",
       " 'https://screener.fidelity.com/ftgw/etf/snapshot/snapshot.jhtml?symbols=VXF',\n",
       " 'https://screener.fidelity.com/ftgw/etf/snapshot/snapshot.jhtml?symbols=IAU',\n",
       " 'https://research2.fidelity.com/fidelity/screeners/etf/etfholdings.asp?symbol=SOCL&view=Region',\n",
       " 'https://research2.fidelity.com/fidelity/screeners/etf/etfholdings.asp?symbol=ASHR&view=Region',\n",
       " 'https://research2.fidelity.com/fidelity/screeners/etf/etfholdings.asp?symbol=KWEB&view=Region',\n",
       " 'https://research2.fidelity.com/fidelity/screeners/etf/etfholdings.asp?symbol=SCHP&view=Region',\n",
       " 'https://research2.fidelity.com/fidelity/screeners/etf/etfholdings.asp?symbol=EMXC&view=Region',\n",
       " 'https://research2.fidelity.com/fidelity/screeners/etf/etfholdings.asp?symbol=QQQ&view=Region',\n",
       " 'https://research2.fidelity.com/fidelity/screeners/etf/etfholdings.asp?symbol=SKYY&view=Region',\n",
       " 'https://research2.fidelity.com/fidelity/screeners/etf/etfholdings.asp?symbol=ESPO&view=Region',\n",
       " 'https://research2.fidelity.com/fidelity/screeners/etf/etfholdings.asp?symbol=VGK&view=Region',\n",
       " 'https://research2.fidelity.com/fidelity/screeners/etf/etfholdings.asp?symbol=IAGG&view=Region',\n",
       " 'https://research2.fidelity.com/fidelity/screeners/etf/etfholdings.asp?symbol=ARKK&view=Region',\n",
       " 'https://research2.fidelity.com/fidelity/screeners/etf/etfholdings.asp?symbol=VONG&view=Region',\n",
       " 'https://research2.fidelity.com/fidelity/screeners/etf/etfholdings.asp?symbol=LIT&view=Region',\n",
       " 'https://research2.fidelity.com/fidelity/screeners/etf/etfholdings.asp?symbol=ICVT&view=Region',\n",
       " 'https://research2.fidelity.com/fidelity/screeners/etf/etfholdings.asp?symbol=FNCL&view=Region',\n",
       " 'https://research2.fidelity.com/fidelity/screeners/etf/etfholdings.asp?symbol=XITK&view=Region',\n",
       " 'https://research2.fidelity.com/fidelity/screeners/etf/etfholdings.asp?symbol=CIBR&view=Region',\n",
       " 'https://research2.fidelity.com/fidelity/screeners/etf/etfholdings.asp?symbol=LQD&view=Region',\n",
       " 'https://research2.fidelity.com/fidelity/screeners/etf/etfholdings.asp?symbol=ACES&view=Region',\n",
       " 'https://research2.fidelity.com/fidelity/screeners/etf/etfholdings.asp?symbol=EWC&view=Region',\n",
       " 'https://research2.fidelity.com/fidelity/screeners/etf/etfholdings.asp?symbol=DIA&view=Region',\n",
       " 'https://research2.fidelity.com/fidelity/screeners/etf/etfholdings.asp?symbol=VTI&view=Region',\n",
       " 'https://research2.fidelity.com/fidelity/screeners/etf/etfholdings.asp?symbol=EWG&view=Region',\n",
       " 'https://research2.fidelity.com/fidelity/screeners/etf/etfholdings.asp?symbol=PHO&view=Region',\n",
       " 'https://research2.fidelity.com/fidelity/screeners/etf/etfholdings.asp?symbol=FHLC&view=Region',\n",
       " 'https://research2.fidelity.com/fidelity/screeners/etf/etfholdings.asp?symbol=ICLN&view=Region',\n",
       " 'https://research2.fidelity.com/fidelity/screeners/etf/etfholdings.asp?symbol=CNYA&view=Region',\n",
       " 'https://research2.fidelity.com/fidelity/screeners/etf/etfholdings.asp?symbol=SPY&view=Region',\n",
       " 'https://research2.fidelity.com/fidelity/screeners/etf/etfholdings.asp?symbol=KOMP&view=Region',\n",
       " 'https://research2.fidelity.com/fidelity/screeners/etf/etfholdings.asp?symbol=FIDU&view=Region',\n",
       " 'https://research2.fidelity.com/fidelity/screeners/etf/etfholdings.asp?symbol=MCHI&view=Region',\n",
       " 'https://research2.fidelity.com/fidelity/screeners/etf/etfholdings.asp?symbol=EWY&view=Region',\n",
       " 'https://research2.fidelity.com/fidelity/screeners/etf/etfholdings.asp?symbol=IBB&view=Region',\n",
       " 'https://research2.fidelity.com/fidelity/screeners/etf/etfholdings.asp?symbol=IWV&view=Region',\n",
       " 'https://research2.fidelity.com/fidelity/screeners/etf/etfholdings.asp?symbol=SPDW&view=Region',\n",
       " 'https://research2.fidelity.com/fidelity/screeners/etf/etfholdings.asp?symbol=IGOV&view=Region',\n",
       " 'https://research2.fidelity.com/fidelity/screeners/etf/etfholdings.asp?symbol=FLJP&view=Region',\n",
       " 'https://research2.fidelity.com/fidelity/screeners/etf/etfholdings.asp?symbol=VGT&view=Region',\n",
       " 'https://research2.fidelity.com/fidelity/screeners/etf/etfholdings.asp?symbol=IXUS&view=Region',\n",
       " 'https://research2.fidelity.com/fidelity/screeners/etf/etfholdings.asp?symbol=VXF&view=Region',\n",
       " 'https://research2.fidelity.com/fidelity/screeners/etf/etfholdings.asp?symbol=IAU&view=Region',\n",
       " 'https://screener.fidelity.com/ftgw/etf/goto/snapshot/portfolioComposition.jhtml?symbols=SOCL',\n",
       " 'https://screener.fidelity.com/ftgw/etf/goto/snapshot/portfolioComposition.jhtml?symbols=ASHR',\n",
       " 'https://screener.fidelity.com/ftgw/etf/goto/snapshot/portfolioComposition.jhtml?symbols=KWEB',\n",
       " 'https://screener.fidelity.com/ftgw/etf/goto/snapshot/portfolioComposition.jhtml?symbols=SCHP',\n",
       " 'https://screener.fidelity.com/ftgw/etf/goto/snapshot/portfolioComposition.jhtml?symbols=EMXC',\n",
       " 'https://screener.fidelity.com/ftgw/etf/goto/snapshot/portfolioComposition.jhtml?symbols=QQQ',\n",
       " 'https://screener.fidelity.com/ftgw/etf/goto/snapshot/portfolioComposition.jhtml?symbols=SKYY',\n",
       " 'https://screener.fidelity.com/ftgw/etf/goto/snapshot/portfolioComposition.jhtml?symbols=ESPO',\n",
       " 'https://screener.fidelity.com/ftgw/etf/goto/snapshot/portfolioComposition.jhtml?symbols=VGK',\n",
       " 'https://screener.fidelity.com/ftgw/etf/goto/snapshot/portfolioComposition.jhtml?symbols=IAGG',\n",
       " 'https://screener.fidelity.com/ftgw/etf/goto/snapshot/portfolioComposition.jhtml?symbols=ARKK',\n",
       " 'https://screener.fidelity.com/ftgw/etf/goto/snapshot/portfolioComposition.jhtml?symbols=VONG',\n",
       " 'https://screener.fidelity.com/ftgw/etf/goto/snapshot/portfolioComposition.jhtml?symbols=LIT',\n",
       " 'https://screener.fidelity.com/ftgw/etf/goto/snapshot/portfolioComposition.jhtml?symbols=ICVT',\n",
       " 'https://screener.fidelity.com/ftgw/etf/goto/snapshot/portfolioComposition.jhtml?symbols=FNCL',\n",
       " 'https://screener.fidelity.com/ftgw/etf/goto/snapshot/portfolioComposition.jhtml?symbols=XITK',\n",
       " 'https://screener.fidelity.com/ftgw/etf/goto/snapshot/portfolioComposition.jhtml?symbols=CIBR',\n",
       " 'https://screener.fidelity.com/ftgw/etf/goto/snapshot/portfolioComposition.jhtml?symbols=LQD',\n",
       " 'https://screener.fidelity.com/ftgw/etf/goto/snapshot/portfolioComposition.jhtml?symbols=ACES',\n",
       " 'https://screener.fidelity.com/ftgw/etf/goto/snapshot/portfolioComposition.jhtml?symbols=EWC',\n",
       " 'https://screener.fidelity.com/ftgw/etf/goto/snapshot/portfolioComposition.jhtml?symbols=DIA',\n",
       " 'https://screener.fidelity.com/ftgw/etf/goto/snapshot/portfolioComposition.jhtml?symbols=VTI',\n",
       " 'https://screener.fidelity.com/ftgw/etf/goto/snapshot/portfolioComposition.jhtml?symbols=EWG',\n",
       " 'https://screener.fidelity.com/ftgw/etf/goto/snapshot/portfolioComposition.jhtml?symbols=PHO',\n",
       " 'https://screener.fidelity.com/ftgw/etf/goto/snapshot/portfolioComposition.jhtml?symbols=FHLC',\n",
       " 'https://screener.fidelity.com/ftgw/etf/goto/snapshot/portfolioComposition.jhtml?symbols=ICLN',\n",
       " 'https://screener.fidelity.com/ftgw/etf/goto/snapshot/portfolioComposition.jhtml?symbols=CNYA',\n",
       " 'https://screener.fidelity.com/ftgw/etf/goto/snapshot/portfolioComposition.jhtml?symbols=SPY',\n",
       " 'https://screener.fidelity.com/ftgw/etf/goto/snapshot/portfolioComposition.jhtml?symbols=KOMP',\n",
       " 'https://screener.fidelity.com/ftgw/etf/goto/snapshot/portfolioComposition.jhtml?symbols=FIDU',\n",
       " 'https://screener.fidelity.com/ftgw/etf/goto/snapshot/portfolioComposition.jhtml?symbols=MCHI',\n",
       " 'https://screener.fidelity.com/ftgw/etf/goto/snapshot/portfolioComposition.jhtml?symbols=EWY',\n",
       " 'https://screener.fidelity.com/ftgw/etf/goto/snapshot/portfolioComposition.jhtml?symbols=IBB',\n",
       " 'https://screener.fidelity.com/ftgw/etf/goto/snapshot/portfolioComposition.jhtml?symbols=IWV',\n",
       " 'https://screener.fidelity.com/ftgw/etf/goto/snapshot/portfolioComposition.jhtml?symbols=SPDW',\n",
       " 'https://screener.fidelity.com/ftgw/etf/goto/snapshot/portfolioComposition.jhtml?symbols=IGOV',\n",
       " 'https://screener.fidelity.com/ftgw/etf/goto/snapshot/portfolioComposition.jhtml?symbols=FLJP',\n",
       " 'https://screener.fidelity.com/ftgw/etf/goto/snapshot/portfolioComposition.jhtml?symbols=VGT',\n",
       " 'https://screener.fidelity.com/ftgw/etf/goto/snapshot/portfolioComposition.jhtml?symbols=IXUS',\n",
       " 'https://screener.fidelity.com/ftgw/etf/goto/snapshot/portfolioComposition.jhtml?symbols=VXF',\n",
       " 'https://screener.fidelity.com/ftgw/etf/goto/snapshot/portfolioComposition.jhtml?symbols=IAU']"
      ]
     },
     "execution_count": 16,
     "metadata": {},
     "output_type": "execute_result"
    }
   ],
   "source": [
    "lines"
   ]
  },
  {
   "cell_type": "code",
   "execution_count": null,
   "metadata": {},
   "outputs": [],
   "source": []
  },
  {
   "cell_type": "code",
   "execution_count": null,
   "metadata": {},
   "outputs": [],
   "source": []
  },
  {
   "cell_type": "code",
   "execution_count": null,
   "metadata": {},
   "outputs": [],
   "source": []
  }
 ],
 "metadata": {
  "kernelspec": {
   "display_name": "Python 3",
   "language": "python",
   "name": "python3"
  },
  "language_info": {
   "codemirror_mode": {
    "name": "ipython",
    "version": 3
   },
   "file_extension": ".py",
   "mimetype": "text/x-python",
   "name": "python",
   "nbconvert_exporter": "python",
   "pygments_lexer": "ipython3",
   "version": "3.8.8"
  }
 },
 "nbformat": 4,
 "nbformat_minor": 4
}
