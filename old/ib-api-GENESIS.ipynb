{
 "cells": [
  {
   "cell_type": "code",
<<<<<<< HEAD
   "execution_count": 9,
   "outputs": [],
   "source": [
    "from ib_insync import *\n",
    "from bs4 import BeautifulSoup\n",
    "import yfinance as yf\n",
    "import xmltodict\n",
    "util.startLoop()"
   ],
   "metadata": {
    "collapsed": false,
    "ExecuteTime": {
     "end_time": "2023-08-23T22:04:57.161824900Z",
     "start_time": "2023-08-23T22:04:57.038287700Z"
    }
   },
   "id": "c086d263b0cf7297"
  },
  {
   "cell_type": "code",
   "execution_count": 2,
   "outputs": [
    {
     "name": "stderr",
     "output_type": "stream",
     "text": [
      "Error 321, reqId 2147483647: Error validating request.-'cG' : cause - The API interface is currently in Read-Only mode.\n",
      "Error 321, reqId -1: Error validating request.-'ce' : cause - The API interface is currently in Read-Only mode.\n",
      "open orders request timed out\n",
      "completed orders request timed out\n"
     ]
    },
    {
     "data": {
      "text/plain": "<IB connected to 127.0.0.1:4001 clientId=1>"
     },
     "execution_count": 2,
     "metadata": {},
     "output_type": "execute_result"
    }
   ],
   "source": [
    "ib = IB()\n",
    "ib.connect('127.0.0.1', 4001, clientId=1)"
   ],
   "metadata": {
    "collapsed": false,
    "ExecuteTime": {
     "end_time": "2023-08-23T22:03:20.197798900Z",
     "start_time": "2023-08-23T22:03:16.091687100Z"
    }
   },
   "id": "40816bf0d636754f"
  },
  {
   "cell_type": "code",
   "execution_count": 3,
   "outputs": [
    {
     "data": {
      "text/plain": "62"
     },
     "execution_count": 3,
     "metadata": {},
     "output_type": "execute_result"
    }
   ],
   "source": [
    "pos = ib.positions()\n",
    "len(pos)"
   ],
   "metadata": {
    "collapsed": false,
    "ExecuteTime": {
     "end_time": "2023-08-23T22:03:22.572413200Z",
     "start_time": "2023-08-23T22:03:22.540786300Z"
    }
   },
   "id": "e35f8777a7e3eb00"
  },
  {
   "cell_type": "code",
   "execution_count": 4,
   "outputs": [],
   "source": [
    "tk = Stock('AAPL', 'SMART', 'USD')"
   ],
   "metadata": {
    "collapsed": false,
    "ExecuteTime": {
     "end_time": "2023-08-23T22:03:24.302266100Z",
     "start_time": "2023-08-23T22:03:24.274490700Z"
    }
   },
   "id": "de8d79a0b4f13efd"
  },
  {
   "cell_type": "code",
   "execution_count": 18,
   "outputs": [
    {
     "data": {
      "text/plain": "str"
     },
     "execution_count": 18,
     "metadata": {},
     "output_type": "execute_result"
    }
   ],
   "source": [
    "out = ib.reqFundamentalData(tk, 'ReportsFinStatements')\n",
    "data_dict = xmltodict.parse(out)\n",
    "type(out)"
   ],
   "metadata": {
    "collapsed": false,
    "ExecuteTime": {
     "end_time": "2023-08-23T22:48:25.378055700Z",
     "start_time": "2023-08-23T22:48:24.526584300Z"
    }
   },
   "id": "95aebe13ed7aa6a3"
  },
  {
   "cell_type": "code",
   "execution_count": null,
   "outputs": [],
   "source": [
    "# soup = BeautifulSoup(out, 'lxml')\n",
    "# print(soup.prettify())"
   ],
   "metadata": {
    "collapsed": false
   },
   "id": "f25554afbc5f548e"
  },
  {
   "cell_type": "code",
   "execution_count": 19,
   "outputs": [
    {
     "name": "stderr",
     "output_type": "stream",
     "text": [
      "Error 10276, reqId 10: News feed is not allowed.\n"
     ]
    },
    {
     "name": "stdout",
     "output_type": "stream",
     "text": []
    }
   ],
   "source": [
    "meta = ib.getWshMetaData()\n",
    "print(meta)\n"
   ],
   "metadata": {
    "collapsed": false,
    "ExecuteTime": {
     "end_time": "2023-08-23T22:51:57.262494900Z",
     "start_time": "2023-08-23T22:51:57.226515100Z"
    }
   },
   "id": "3b2d7a106df56bbb"
  },
  {
   "cell_type": "code",
   "execution_count": 20,
   "outputs": [
    {
     "name": "stdout",
     "output_type": "stream",
     "text": [
      "[NewsProvider(code='BRFG', name='Briefing.com General Market Columns'), NewsProvider(code='BRFUPDN', name='Briefing.com Analyst Actions'), NewsProvider(code='DJNL', name='Dow Jones Newsletters')]\n"
     ]
    }
   ],
   "source": [
    "newsProviders = ib.reqNewsProviders()\n",
    "print(newsProviders)\n",
    "codes = '+'.join(np.code for np in newsProviders)"
   ],
   "metadata": {
    "collapsed": false,
    "ExecuteTime": {
     "end_time": "2023-08-23T23:09:34.962997Z",
     "start_time": "2023-08-23T23:09:34.925478100Z"
    }
   },
   "id": "2d70822be64d46ac"
  },
  {
   "cell_type": "code",
   "execution_count": 21,
   "outputs": [
    {
     "name": "stdout",
     "output_type": "stream",
     "text": [
      "HistoricalNews(time=datetime.datetime(2023, 8, 2, 15, 10, 14), providerCode='BRFUPDN', articleId='BRFUPDN$1509cd81', headline='{A:800015:L:en:K:n/a:C:0.9002453684806824}!JP Morgan reiterated Advanced Micro (AMD) coverage with Neutral and target $130')\n",
      "NewsArticle(articleType=0, articleText='JP Morgan reiterated Advanced Micro (AMD) coverage with Neutral rating and price target $130&#10;Previous price target: $92&#10;Issuance Date: 2023-08-02&#10;&#10;Copyright 2023 Briefing.com, Inc.')\n"
     ]
    }
   ],
   "source": [
    "\n",
    "amd = Stock('AMD', 'SMART', 'USD')\n",
    "ib.qualifyContracts(amd)\n",
    "headlines = ib.reqHistoricalNews(amd.conId, codes, '', '', 10)\n",
    "latest = headlines[0]\n",
    "print(latest)\n",
    "article = ib.reqNewsArticle(latest.providerCode, latest.articleId)\n",
    "print(article)"
   ],
   "metadata": {
    "collapsed": false,
    "ExecuteTime": {
     "end_time": "2023-08-23T23:10:26.316971400Z",
     "start_time": "2023-08-23T23:10:24.686817Z"
    }
   },
   "id": "3f02ae19e570c0fd"
  },
  {
   "cell_type": "code",
   "execution_count": 23,
   "outputs": [
    {
     "data": {
      "text/plain": "list"
     },
     "execution_count": 23,
     "metadata": {},
     "output_type": "execute_result"
    }
   ],
   "source": [
    "ib.reqNewsBulletins(True)\n",
    "ib.sleep(5)\n",
    "news = ib.newsBulletins()\n",
    "type(news)"
   ],
   "metadata": {
    "collapsed": false,
    "ExecuteTime": {
     "end_time": "2023-08-23T23:12:34.153600700Z",
     "start_time": "2023-08-23T23:12:29.135633Z"
    }
   },
   "id": "b7d447a9758da718"
  },
  {
   "cell_type": "code",
   "execution_count": 25,
   "outputs": [
    {
     "name": "stderr",
     "output_type": "stream",
     "text": [
      "Error 200, reqId 15: The contract description specified for IBM is ambiguous., contract: Stock(symbol='IBM', exchange='SMART', currency='USD')\n"
     ]
    },
    {
     "name": "stdout",
     "output_type": "stream",
     "text": [
      "None\n"
     ]
    }
   ],
   "source": [
    "contract = Stock('IBM', 'SMART', 'USD')\n",
    "ticker = ib.reqMktData(contract, '258')\n",
    "ib.sleep(2)\n",
    "print(ticker.fundamentalRatios)"
   ],
   "metadata": {
    "collapsed": false,
    "ExecuteTime": {
     "end_time": "2023-08-23T23:16:07.820340900Z",
     "start_time": "2023-08-23T23:16:05.779104100Z"
    }
   },
   "id": "518b359fa6e23d5b"
  },
  {
   "cell_type": "code",
   "execution_count": 26,
   "outputs": [
    {
     "name": "stderr",
     "output_type": "stream",
     "text": [
      "Error 10089, reqId 16: Requested market data requires additional subscription for API. See link in 'Market Data Connections' dialog for more details.Delayed market data is available.AAPL NASDAQ.NMS/TOP/ALL, contract: Stock(symbol='AAPL', exchange='SMART', currency='USD')\n"
     ]
    },
    {
     "data": {
      "text/plain": "True"
     },
     "execution_count": 26,
     "metadata": {},
     "output_type": "execute_result"
    }
   ],
   "source": [
    "# Specify the stock of interest\n",
    "contract = Stock('AAPL', 'SMART', 'USD')\n",
    "\n",
    "# Request market data\n",
    "ticker = ib.reqMktData(contract, '456')\n",
    "\n",
    "# Give it a little time to receive the data (in real implementations, you'd likely want to handle this in a non-blocking way)\n",
    "ib.sleep(5)\n"
   ],
   "metadata": {
    "collapsed": false,
    "ExecuteTime": {
     "end_time": "2023-08-23T23:25:08.858146100Z",
     "start_time": "2023-08-23T23:25:03.829139300Z"
    }
   },
   "id": "f81a306f6dabf46c"
  },
  {
   "cell_type": "code",
   "execution_count": 27,
   "outputs": [
    {
     "name": "stdout",
     "output_type": "stream",
     "text": [
      "Dividends:\n",
      "Date\n",
      "1987-05-11 00:00:00-04:00    0.000536\n",
      "1987-08-10 00:00:00-04:00    0.000536\n",
      "1987-11-17 00:00:00-05:00    0.000714\n",
      "1988-02-12 00:00:00-05:00    0.000714\n",
      "1988-05-16 00:00:00-04:00    0.000714\n",
      "                               ...   \n",
      "2022-08-05 00:00:00-04:00    0.230000\n",
      "2022-11-04 00:00:00-04:00    0.230000\n",
      "2023-02-10 00:00:00-05:00    0.230000\n",
      "2023-05-12 00:00:00-04:00    0.240000\n",
      "2023-08-11 00:00:00-04:00    0.240000\n",
      "Name: Dividends, Length: 80, dtype: float64\n",
      "\n",
      "Stock Splits:\n",
      "Date\n",
      "1987-06-16 00:00:00-04:00    2.0\n",
      "2000-06-21 00:00:00-04:00    2.0\n",
      "2005-02-28 00:00:00-05:00    2.0\n",
      "2014-06-09 00:00:00-04:00    7.0\n",
      "2020-08-31 00:00:00-04:00    4.0\n",
      "Name: Stock Splits, dtype: float64\n"
     ]
    }
   ],
   "source": [
    "\n",
    "# Define the stock of interest\n",
    "ticker_symbol = 'AAPL'\n",
    "\n",
    "# Fetch the data\n",
    "stock = yf.Ticker(ticker_symbol)\n",
    "\n",
    "# Get dividend data\n",
    "dividends = stock.dividends\n",
    "print(\"Dividends:\")\n",
    "print(dividends)\n",
    "\n",
    "# Get stock split data\n",
    "splits = stock.splits\n",
    "print(\"\\nStock Splits:\")\n",
    "print(splits)\n"
   ],
   "metadata": {
    "collapsed": false,
    "ExecuteTime": {
     "end_time": "2023-08-23T23:26:51.486579600Z",
     "start_time": "2023-08-23T23:26:49.514266200Z"
    }
   },
   "id": "1b2da820097c4812"
  },
  {
   "cell_type": "code",
   "execution_count": null,
   "outputs": [],
   "source": [],
   "metadata": {
    "collapsed": false
   },
   "id": "26d136be2eff463d"
  },
  {
   "cell_type": "code",
   "execution_count": null,
   "outputs": [],
   "source": [],
   "metadata": {
    "collapsed": false
   },
   "id": "70140fd26f5c24ac"
  },
  {
   "cell_type": "code",
   "execution_count": 4,
   "outputs": [
    {
     "name": "stderr",
     "output_type": "stream",
     "text": [
      "Error 321, reqId 2147483647: Error validating request.-'cG' : cause - The API interface is currently in Read-Only mode.\n",
      "Error 321, reqId -1: Error validating request.-'ce' : cause - The API interface is currently in Read-Only mode.\n",
      "open orders request timed out\n",
      "completed orders request timed out\n"
     ]
    }
   ],
   "source": [
    "\n",
    "ib = IB()\n",
    "ib.connect('127.0.0.1', 4001, clientId=1)\n",
    "\n",
    "contract = Forex('EURUSD')\n",
    "bars = ib.reqHistoricalData(\n",
    "    contract, endDateTime='', durationStr='30 D',\n",
    "    barSizeSetting='1 hour', whatToShow='MIDPOINT', useRTH=True)\n",
    "\n"
   ],
   "metadata": {
    "collapsed": false,
    "ExecuteTime": {
     "end_time": "2023-08-23T21:24:52.822386700Z",
     "start_time": "2023-08-23T21:24:47.260546100Z"
    }
   },
   "id": "e5dd87caa29e84d5"
  },
  {
   "cell_type": "code",
   "execution_count": 5,
   "outputs": [
    {
     "name": "stdout",
     "output_type": "stream",
     "text": [
      "                         date      open      high       low     close  volume  \\\n",
      "0   2023-07-13 17:15:00-04:00  1.122140  1.122635  1.122055  1.122490    -1.0   \n",
      "1   2023-07-13 18:00:00-04:00  1.122490  1.122970  1.122385  1.122475    -1.0   \n",
      "2   2023-07-13 19:00:00-04:00  1.122475  1.122805  1.122185  1.122350    -1.0   \n",
      "3   2023-07-13 20:00:00-04:00  1.122350  1.122495  1.121335  1.122290    -1.0   \n",
      "4   2023-07-13 21:00:00-04:00  1.122290  1.123380  1.122230  1.123320    -1.0   \n",
      "..                        ...       ...       ...       ...       ...     ...   \n",
      "692 2023-08-23 13:00:00-04:00  1.086290  1.087020  1.085975  1.086470    -1.0   \n",
      "693 2023-08-23 14:00:00-04:00  1.086470  1.086485  1.085580  1.085875    -1.0   \n",
      "694 2023-08-23 15:00:00-04:00  1.085875  1.086665  1.085845  1.086395    -1.0   \n",
      "695 2023-08-23 16:00:00-04:00  1.086395  1.086585  1.086090  1.086295    -1.0   \n",
      "696 2023-08-23 17:15:00-04:00  1.086595  1.086605  1.086475  1.086510    -1.0   \n",
      "\n",
      "     average  barCount  \n",
      "0       -1.0        -1  \n",
      "1       -1.0        -1  \n",
      "2       -1.0        -1  \n",
      "3       -1.0        -1  \n",
      "4       -1.0        -1  \n",
      "..       ...       ...  \n",
      "692     -1.0        -1  \n",
      "693     -1.0        -1  \n",
      "694     -1.0        -1  \n",
      "695     -1.0        -1  \n",
      "696     -1.0        -1  \n",
      "\n",
      "[697 rows x 8 columns]\n"
     ]
    }
   ],
   "source": [
    "# convert to pandas dataframe (pandas needs to be installed):\n",
    "df = util.df(bars)\n",
    "print(df)"
   ],
   "metadata": {
    "collapsed": false,
    "ExecuteTime": {
     "end_time": "2023-08-23T21:24:54.396831200Z",
     "start_time": "2023-08-23T21:24:53.840891200Z"
    }
   },
   "id": "177110d1bd0ec7c"
  },
  {
   "cell_type": "code",
   "execution_count": null,
   "outputs": [],
   "source": [],
   "metadata": {
    "collapsed": false
   },
   "id": "e56fd6bf7513b95a"
  },
  {
   "cell_type": "code",
   "execution_count": null,
   "outputs": [],
   "source": [
    "ib.disconnect()"
   ],
   "metadata": {
    "collapsed": false
   },
   "id": "2cf422c11a63508c"
  },
  {
   "cell_type": "code",
   "execution_count": null,
   "outputs": [],
   "source": [],
   "metadata": {
    "collapsed": false
   },
   "id": "759f91428e1af549"
  },
  {
   "cell_type": "code",
=======
>>>>>>> 8a7db0702efdfa8be172a19a9bbf56902a26e121
   "execution_count": 2,
   "outputs": [],
   "source": [
    "from ibapi.client import EClient\n",
    "from ibapi.wrapper import EWrapper\n",
<<<<<<< HEAD
    "from ibapi.contract import Contract, ContractDetails\n",
    "\n",
    "import threading\n",
    "import time"
=======
    "from ibapi.contract import Contract\n",
    "\n",
    "import threading\n",
    "import time\n"
>>>>>>> 8a7db0702efdfa8be172a19a9bbf56902a26e121
   ],
   "metadata": {
    "collapsed": false,
    "ExecuteTime": {
<<<<<<< HEAD
     "end_time": "2023-08-23T19:53:43.508262Z",
     "start_time": "2023-08-23T19:53:43.457877500Z"
=======
     "end_time": "2023-08-23T16:24:59.420783700Z",
     "start_time": "2023-08-23T16:24:59.339829700Z"
>>>>>>> 8a7db0702efdfa8be172a19a9bbf56902a26e121
    }
   },
   "id": "d9d3fd7a851b6c8e"
  },
  {
   "cell_type": "code",
   "execution_count": 3,
   "outputs": [],
   "source": [
    "\n",
    "class IBapi(EWrapper, EClient):\n",
    "\tdef __init__(self):\n",
    "\t\tEClient.__init__(self, self)\n",
    "\tdef tickPrice(self, reqId, tickType, price, attrib):\n",
    "\t\tif tickType == 2 and reqId == 1:\n",
    "\t\t\tprint('The current ask price is: ', price)\n",
<<<<<<< HEAD
    "\tdef contractDetails(self, reqId: int, contractDetails: ContractDetails):\n",
    "\t\tprint(\"Contract Details:\")\n",
    "\t\tprint(\"Symbol:\", contractDetails.contract.symbol)\n",
    "\t\tprint(\"Security Type:\", contractDetails.contract.secType)\n",
    "\t\tprint(\"Primary Exchange:\", contractDetails.contract.primaryExchange)\n",
    "\t\tprint(\"Currency:\", contractDetails.contract.currency)\n",
    "\tdef error(self, reqId, errorCode, errorString):\n",
    "\t\tprint(f\"Error {errorCode}: {errorString}\")\n",
=======
>>>>>>> 8a7db0702efdfa8be172a19a9bbf56902a26e121
    "\n",
    "def run_loop():\n",
    "\tapp.run()\n"
   ],
   "metadata": {
    "collapsed": false,
    "ExecuteTime": {
<<<<<<< HEAD
     "end_time": "2023-08-23T19:53:44.067619400Z",
     "start_time": "2023-08-23T19:53:44.046731600Z"
=======
     "end_time": "2023-08-23T16:26:16.027279400Z",
     "start_time": "2023-08-23T16:26:15.994724500Z"
>>>>>>> 8a7db0702efdfa8be172a19a9bbf56902a26e121
    }
   },
   "id": "d6075ca64d84c0e2"
  },
  {
   "cell_type": "code",
<<<<<<< HEAD
   "execution_count": 4,
   "outputs": [
    {
     "name": "stdout",
     "output_type": "stream",
     "text": [
      "Error 2104: Market data farm connection is OK:usfarm.nj\n",
      "Error 2104: Market data farm connection is OK:eufarm\n",
      "Error 2104: Market data farm connection is OK:cashfarm\n",
      "Error 2104: Market data farm connection is OK:usfarm\n",
      "Error 2106: HMDS data farm connection is OK:euhmds\n",
      "Error 2106: HMDS data farm connection is OK:ushmds\n",
      "Error 2158: Sec-def data farm connection is OK:secdefeu\n"
     ]
    }
   ],
   "source": [
    "app = IBapi()\n",
    "app.connect('127.0.0.1', 7496, 123)\n",
    "\n",
    "api_thread = threading.Thread(target=run_loop, daemon=True)\n",
    "api_thread.start()\n",
    "time.sleep(1) #Sleep interval to allow time for connection to server"
=======
   "execution_count": 6,
   "outputs": [],
   "source": [
    "app = IBapi()\n",
    "app.connect('127.0.0.1', 7496, 123)"
>>>>>>> 8a7db0702efdfa8be172a19a9bbf56902a26e121
   ],
   "metadata": {
    "collapsed": false,
    "ExecuteTime": {
<<<<<<< HEAD
     "end_time": "2023-08-23T19:53:47.768819300Z",
     "start_time": "2023-08-23T19:53:46.745933300Z"
=======
     "end_time": "2023-08-23T16:28:26.213313100Z",
     "start_time": "2023-08-23T16:28:26.039459600Z"
>>>>>>> 8a7db0702efdfa8be172a19a9bbf56902a26e121
    }
   },
   "id": "8b2dc77358bbffeb"
  },
  {
   "cell_type": "code",
<<<<<<< HEAD
   "execution_count": 5,
   "outputs": [],
   "source": [
    "\n",
    "# Define a minimal contract with just the ticker symbol\n",
    "contract = Contract()\n",
    "contract.symbol = \"AAPL\"\n",
    "contract.secType = \"STK\"  # You can start with STK for stocks, but in a real-world scenario, you might need to consider other security types.\n",
    "\n",
    "# Request contract details\n",
    "app.reqContractDetails(1, contract)\n"
=======
   "execution_count": null,
   "outputs": [],
   "source": [
    "\n",
    "#Start the socket in a thread\n",
    "api_thread = threading.Thread(target=run_loop, daemon=False)\n",
    "api_thread.start()"
>>>>>>> 8a7db0702efdfa8be172a19a9bbf56902a26e121
   ],
   "metadata": {
    "collapsed": false,
    "ExecuteTime": {
<<<<<<< HEAD
     "end_time": "2023-08-23T19:53:49.756000300Z",
     "start_time": "2023-08-23T19:53:49.731826100Z"
    }
   },
   "id": "187764e883183663"
  },
  {
   "cell_type": "code",
   "execution_count": null,
   "outputs": [],
   "source": [],
   "metadata": {
    "collapsed": false
   },
   "id": "beb43c00836c40f2"
  },
  {
   "cell_type": "code",
   "execution_count": 6,
   "outputs": [],
   "source": [
    "app.disconnect()"
   ],
   "metadata": {
    "collapsed": false,
    "ExecuteTime": {
     "end_time": "2023-08-23T19:48:16.663882400Z",
     "start_time": "2023-08-23T19:48:16.655977300Z"
    }
   },
   "id": "bc515ca42457a7c"
  },
  {
   "cell_type": "code",
   "execution_count": null,
   "outputs": [],
   "source": [],
   "metadata": {
    "collapsed": false
   },
   "id": "642e1c8354c35701"
  },
  {
   "cell_type": "code",
   "execution_count": null,
   "outputs": [],
   "source": [],
   "metadata": {
    "collapsed": false
   },
   "id": "84fd55c9cde29cbb"
  },
  {
   "cell_type": "code",
   "execution_count": null,
   "outputs": [],
   "source": [],
   "metadata": {
    "collapsed": false
   },
   "id": "4d4164177b6d9372"
  },
  {
   "cell_type": "code",
   "execution_count": null,
   "outputs": [],
   "source": [],
   "metadata": {
    "collapsed": false
   },
   "id": "da3903cecd9c2cc"
  },
  {
   "cell_type": "code",
   "execution_count": 5,
   "outputs": [],
   "source": [
    "\n",
    "contract = Contract()\n",
    "contract.symbol = \"AAPL\"\n",
    "contract.secType = \"STK\"\n",
    "contract.exchange = \"SMART\"\n",
    "contract.currency = \"USD\"\n",
    "contract.primaryExchange = \"NASDAQ\"\n",
    "\n",
    "\n",
    "# Request historical bars for AAPL - e.g., 1 day of 1-minute bars:\n",
    "endDateTime = ''  # Empty string means the most recent data.\n",
    "durationStr = '1 D'  # Duration is 1 day\n",
    "barSizeSetting = '1 min'  # Bar size is 1 minute\n",
    "whatToShow = 'TRADES'  # Use trade data to construct bars\n",
    "useRTH = True  # Only data within regular trading hours\n",
    "formatDate = 1  # Return data in yyyyMMdd HH:mm:ss format\n",
    "keepUpToDate = False  # Don't keep the data feed live\n",
    "\n",
    "# Send the historical data request\n",
    "app.reqHistoricalData(1, contract, endDateTime, durationStr, barSizeSetting, whatToShow, useRTH, formatDate, keepUpToDate, [])\n"
=======
     "end_time": "2023-08-23T16:12:31.608188500Z",
     "start_time": "2023-08-23T16:12:30.919220500Z"
    }
   },
   "id": "7844fa475f7d8d30"
  },
  {
   "cell_type": "code",
   "execution_count": 7,
   "outputs": [
    {
     "ename": "AttributeError",
     "evalue": "'IBapi' object has no attribute 'data'",
     "output_type": "error",
     "traceback": [
      "\u001B[1;31m---------------------------------------------------------------------------\u001B[0m",
      "\u001B[1;31mAttributeError\u001B[0m                            Traceback (most recent call last)",
      "Cell \u001B[1;32mIn[7], line 18\u001B[0m\n\u001B[0;32m     15\u001B[0m \u001B[38;5;66;03m#Working with Pandas DataFrames\u001B[39;00m\n\u001B[0;32m     16\u001B[0m \u001B[38;5;28;01mimport\u001B[39;00m \u001B[38;5;21;01mpandas\u001B[39;00m\n\u001B[1;32m---> 18\u001B[0m df \u001B[38;5;241m=\u001B[39m pandas\u001B[38;5;241m.\u001B[39mDataFrame(\u001B[43mapp\u001B[49m\u001B[38;5;241;43m.\u001B[39;49m\u001B[43mdata\u001B[49m, columns\u001B[38;5;241m=\u001B[39m[\u001B[38;5;124m'\u001B[39m\u001B[38;5;124mDateTime\u001B[39m\u001B[38;5;124m'\u001B[39m, \u001B[38;5;124m'\u001B[39m\u001B[38;5;124mClose\u001B[39m\u001B[38;5;124m'\u001B[39m])\n\u001B[0;32m     19\u001B[0m df[\u001B[38;5;124m'\u001B[39m\u001B[38;5;124mDateTime\u001B[39m\u001B[38;5;124m'\u001B[39m] \u001B[38;5;241m=\u001B[39m pandas\u001B[38;5;241m.\u001B[39mto_datetime(df[\u001B[38;5;124m'\u001B[39m\u001B[38;5;124mDateTime\u001B[39m\u001B[38;5;124m'\u001B[39m],unit\u001B[38;5;241m=\u001B[39m\u001B[38;5;124m'\u001B[39m\u001B[38;5;124ms\u001B[39m\u001B[38;5;124m'\u001B[39m) \n\u001B[0;32m     20\u001B[0m df\u001B[38;5;241m.\u001B[39mto_csv(\u001B[38;5;124m'\u001B[39m\u001B[38;5;124mEURUSD_Hourly.csv\u001B[39m\u001B[38;5;124m'\u001B[39m)  \n",
      "\u001B[1;31mAttributeError\u001B[0m: 'IBapi' object has no attribute 'data'"
     ]
    }
   ],
   "source": [
    "\n",
    "time.sleep(1) #Sleep interval to allow time for connection to server\n",
    "\n",
    "#Create contract object\n",
    "eurusd_contract = Contract()\n",
    "eurusd_contract.symbol = 'EUR'\n",
    "eurusd_contract.secType = 'CASH'\n",
    "eurusd_contract.exchange = 'IDEALPRO'\n",
    "eurusd_contract.currency = 'USD'\n",
    "\n",
    "#Request historical candles\n",
    "app.reqHistoricalData(1, eurusd_contract, '', '2 D', '1 hour', 'BID', 0, 2, False, [])\n",
    "\n",
    "time.sleep(5) #sleep to allow enough time for data to be returned\n",
    "\n",
    "#Working with Pandas DataFrames\n",
    "import pandas\n",
    "\n",
    "df = pandas.DataFrame(app.data, columns=['DateTime', 'Close'])\n",
    "df['DateTime'] = pandas.to_datetime(df['DateTime'],unit='s') \n",
    "df.to_csv('EURUSD_Hourly.csv')  \n",
    "\n",
    "print(df)\n",
    "\n",
    "\n",
    "app.disconnect()"
>>>>>>> 8a7db0702efdfa8be172a19a9bbf56902a26e121
   ],
   "metadata": {
    "collapsed": false,
    "ExecuteTime": {
<<<<<<< HEAD
     "end_time": "2023-08-23T19:34:40.553411400Z",
     "start_time": "2023-08-23T19:34:40.533485100Z"
=======
     "end_time": "2023-08-23T16:32:31.356044400Z",
     "start_time": "2023-08-23T16:32:23.535283300Z"
>>>>>>> 8a7db0702efdfa8be172a19a9bbf56902a26e121
    }
   },
   "id": "6391fcb31282bdb5"
  },
  {
   "cell_type": "code",
<<<<<<< HEAD
   "execution_count": null,
   "outputs": [],
   "source": [
    "app."
   ],
   "metadata": {
    "collapsed": false
   },
   "id": "c402a84e0809ce50"
  },
  {
   "cell_type": "code",
   "execution_count": null,
   "outputs": [],
   "source": [],
   "metadata": {
    "collapsed": false
   },
   "id": "ac51aca270f1183e"
  },
  {
   "cell_type": "code",
   "execution_count": 1,
   "outputs": [
    {
     "ename": "NameError",
     "evalue": "name 'app' is not defined",
     "output_type": "error",
     "traceback": [
      "\u001B[1;31m---------------------------------------------------------------------------\u001B[0m",
      "\u001B[1;31mNameError\u001B[0m                                 Traceback (most recent call last)",
      "Cell \u001B[1;32mIn[1], line 4\u001B[0m\n\u001B[0;32m      1\u001B[0m \u001B[38;5;66;03m# Give the request some time to complete\u001B[39;00m\n\u001B[0;32m      2\u001B[0m \u001B[38;5;66;03m# time.sleep(5)\u001B[39;00m\n\u001B[1;32m----> 4\u001B[0m \u001B[43mapp\u001B[49m\u001B[38;5;241m.\u001B[39mdisconnect()\n",
      "\u001B[1;31mNameError\u001B[0m: name 'app' is not defined"
     ]
    }
   ],
   "source": [
    "# Give the request some time to complete\n",
    "# time.sleep(5)\n",
    "\n",
=======
   "execution_count": 9,
   "outputs": [],
   "source": [
>>>>>>> 8a7db0702efdfa8be172a19a9bbf56902a26e121
    "app.disconnect()"
   ],
   "metadata": {
    "collapsed": false,
    "ExecuteTime": {
<<<<<<< HEAD
     "end_time": "2023-08-23T20:14:57.455377400Z",
     "start_time": "2023-08-23T20:14:57.188280900Z"
=======
     "end_time": "2023-08-23T16:36:43.838069600Z",
     "start_time": "2023-08-23T16:36:43.794479700Z"
>>>>>>> 8a7db0702efdfa8be172a19a9bbf56902a26e121
    }
   },
   "id": "3db7385032d808fe"
  },
  {
   "cell_type": "code",
   "execution_count": null,
   "outputs": [],
   "source": [],
   "metadata": {
    "collapsed": false
   },
   "id": "23fbe7590d4bf516"
  }
 ],
 "metadata": {
  "kernelspec": {
   "display_name": "Python 3",
   "language": "python",
   "name": "python3"
  },
  "language_info": {
   "codemirror_mode": {
    "name": "ipython",
    "version": 2
   },
   "file_extension": ".py",
   "mimetype": "text/x-python",
   "name": "python",
   "nbconvert_exporter": "python",
   "pygments_lexer": "ipython2",
   "version": "2.7.6"
  }
 },
 "nbformat": 4,
 "nbformat_minor": 5
}
