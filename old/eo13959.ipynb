{
 "cells": [
  {
   "cell_type": "code",
   "execution_count": 1,
   "metadata": {},
   "outputs": [
    {
     "name": "stderr",
     "output_type": "stream",
     "text": [
      "C:\\Users\\anwan\\Anaconda3\\lib\\site-packages\\fuzzywuzzy\\fuzz.py:11: UserWarning: Using slow pure-python SequenceMatcher. Install python-Levenshtein to remove this warning\n",
      "  warnings.warn('Using slow pure-python SequenceMatcher. Install python-Levenshtein to remove this warning')\n"
     ]
    },
    {
     "data": {
      "text/html": [
       "<style>.container { width:98% !important; }</style>"
      ],
      "text/plain": [
       "<IPython.core.display.HTML object>"
      ]
     },
     "metadata": {},
     "output_type": "display_data"
    }
   ],
   "source": [
    "%load_ext autoreload\n",
    "%autoreload 2\n",
    "import sys, os\n",
    "import random\n",
    "import numpy as np\n",
    "from tqdm.notebook import tqdm\n",
    "from tabulate import tabulate\n",
    "from omnibelt import load_json, save_json, load_yaml, save_yaml\n",
    "from pathlib import Path\n",
    "from collections import Counter\n",
    "import requests\n",
    "import json\n",
    "import clipboard\n",
    "# from googlefinance import getQuotes\n",
    "from bs4 import BeautifulSoup\n",
    "# import requests, sys, lxml.html\n",
    "\n",
    "from fuzzywuzzy import fuzz\n",
    "\n",
    "from yahooquery import Ticker\n",
    "\n",
    "from IPython.core.display import display, HTML\n",
    "display(HTML(\"<style>.container { width:98% !important; }</style>\"))\n",
    "\n",
    "from src import *"
   ]
  },
  {
   "cell_type": "code",
   "execution_count": null,
   "metadata": {},
   "outputs": [],
   "source": []
  },
  {
   "cell_type": "code",
   "execution_count": 2,
   "metadata": {},
   "outputs": [],
   "source": [
    "# EO 13959 text: https://home.treasury.gov/system/files/126/13959.pdf"
   ]
  },
  {
   "cell_type": "code",
   "execution_count": 3,
   "metadata": {},
   "outputs": [],
   "source": [
    "raw = '''Aero Engine Corp of China\n",
    "Aviation Industry Corporation of China, Ltd. (AVIC)\n",
    "China Academy of Launch Vehicle Technology (CALT)\n",
    "China Aerospace Science & Technology Corporation (CASC)\n",
    "China Aerospace Science & Industry Corporation (CASIC)\n",
    "China Communication Construction Group Company, Ltd.\n",
    "China Electronics Corporation (CEC)\n",
    "China Electronics Technology Group Corporation (CETC)\n",
    "China Mobile Communications\n",
    "China National Chemical Corporation (ChernChina)\n",
    "China National Chemical Engineering Group Co., Ltd. (CNCEC)\n",
    "China National Nuclear\n",
    "China Nuclear Engineering & Construction Corporation (CNECC)\n",
    "China General Nuclear Power\n",
    "China Railway Construction Corporation (CRCC)\n",
    "China Shipbuilding Industry Corporation (CSIC)\n",
    "China South Industries Group Corporation (CSGC)\n",
    "China Spacesat\n",
    "China State Construction Group Co., Ltd.\n",
    "China State Shipbuilding Corporation (CSSC)\n",
    "China Telecommunications\n",
    "China Three Gorges Corporation Limited\n",
    "China United Network Communications Group Co Ltd\n",
    "CRRC Corporation\n",
    "Dawning Information Industry Co. (Sugon)\n",
    "Hikvision\n",
    "Huawei\n",
    "Inspur Group\n",
    "Norinco\n",
    "Panda Electronics\n",
    "Sinochem Group Co Ltd'''\n",
    "blacklist = raw.split('\\n')"
   ]
  },
  {
   "cell_type": "code",
   "execution_count": 4,
   "metadata": {},
   "outputs": [
    {
     "data": {
      "text/plain": [
       "dict_keys(['XITK', 'LIT', 'EWY', 'IGOV', 'VXF', 'ICLN', 'FNCL', 'VONG', 'FLJP', 'QQQ', 'ICVT', 'IAU', 'CNYA', 'MCHI', 'IWV', 'SCHP', 'SKYY', 'ACES', 'FHLC', 'VGK', 'SOCL', 'CIBR', 'ESPO', 'EMXC', 'FMAT', 'IBB', 'SPY', 'VTI', 'EWC', 'LQD', 'KWEB', 'EWG', 'IXUS', 'PHO', 'IAGG', 'ASHR', 'ARKK', 'SPDW', 'FIDU', 'DIA', 'KOMP'])"
      ]
     },
     "execution_count": 4,
     "metadata": {},
     "output_type": "execute_result"
    }
   ],
   "source": [
    "etfs = load('ETF', 'holdings', pbar=tqdm)\n",
    "etfs.keys()"
   ]
  },
  {
   "cell_type": "code",
   "execution_count": 5,
   "metadata": {},
   "outputs": [
    {
     "data": {
      "text/plain": [
       "dict_keys(['XITK', 'LIT', 'VXF', 'ICLN', 'VONG', 'QQQ', 'ICVT', 'CNYA', 'MCHI', 'IWV', 'SKYY', 'SOCL', 'ESPO', 'EMXC', 'IBB', 'VTI', 'KWEB', 'IXUS', 'IAGG', 'ASHR', 'ARKK', 'SPDW', 'KOMP'])"
      ]
     },
     "execution_count": 5,
     "metadata": {},
     "output_type": "execute_result"
    }
   ],
   "source": [
    "china = {}\n",
    "for tk, holdings in etfs.items():\n",
    "    interest = [row for row in holdings if row[2] is not None and 'China' in row[2]]\n",
    "    if len(interest):\n",
    "        china[tk] = interest\n",
    "china.keys()"
   ]
  },
  {
   "cell_type": "code",
   "execution_count": 13,
   "metadata": {},
   "outputs": [
    {
     "data": {
      "application/vnd.jupyter.widget-view+json": {
       "model_id": "aaa5008dc46841e29185c6f22d763eef",
       "version_major": 2,
       "version_minor": 0
      },
      "text/plain": [
       "  0%|          | 0/14 [00:00<?, ?it/s]"
      ]
     },
     "metadata": {},
     "output_type": "display_data"
    },
    {
     "data": {
      "application/vnd.jupyter.widget-view+json": {
       "model_id": "2be747fe75144f12b132355e67e3999e",
       "version_major": 2,
       "version_minor": 0
      },
      "text/plain": [
       "  0%|          | 0/14 [00:00<?, ?it/s]"
      ]
     },
     "metadata": {},
     "output_type": "display_data"
    },
    {
     "data": {
      "application/vnd.jupyter.widget-view+json": {
       "model_id": "d897ae3777ed4181b6b6f4fb7c549290",
       "version_major": 2,
       "version_minor": 0
      },
      "text/plain": [
       "  0%|          | 0/3 [00:00<?, ?it/s]"
      ]
     },
     "metadata": {},
     "output_type": "display_data"
    },
    {
     "data": {
      "application/vnd.jupyter.widget-view+json": {
       "model_id": "1fcc075388bc4d969ac83388e76ebba2",
       "version_major": 2,
       "version_minor": 0
      },
      "text/plain": [
       "  0%|          | 0/2 [00:00<?, ?it/s]"
      ]
     },
     "metadata": {},
     "output_type": "display_data"
    },
    {
     "data": {
      "application/vnd.jupyter.widget-view+json": {
       "model_id": "4c4d8032cabf4acaaba4db758d4a2b86",
       "version_major": 2,
       "version_minor": 0
      },
      "text/plain": [
       "  0%|          | 0/1 [00:00<?, ?it/s]"
      ]
     },
     "metadata": {},
     "output_type": "display_data"
    },
    {
     "data": {
      "application/vnd.jupyter.widget-view+json": {
       "model_id": "20f76a5872a8414f9ce436ed2679421a",
       "version_major": 2,
       "version_minor": 0
      },
      "text/plain": [
       "  0%|          | 0/7 [00:00<?, ?it/s]"
      ]
     },
     "metadata": {},
     "output_type": "display_data"
    },
    {
     "data": {
      "application/vnd.jupyter.widget-view+json": {
       "model_id": "e0f1073c93f04735976b78c644cc0bda",
       "version_major": 2,
       "version_minor": 0
      },
      "text/plain": [
       "  0%|          | 0/14 [00:00<?, ?it/s]"
      ]
     },
     "metadata": {},
     "output_type": "display_data"
    },
    {
     "data": {
      "application/vnd.jupyter.widget-view+json": {
       "model_id": "3312ddf6201f40a689f1a394686c5d39",
       "version_major": 2,
       "version_minor": 0
      },
      "text/plain": [
       "  0%|          | 0/469 [00:00<?, ?it/s]"
      ]
     },
     "metadata": {},
     "output_type": "display_data"
    },
    {
     "data": {
      "application/vnd.jupyter.widget-view+json": {
       "model_id": "a938cf2a989944aa8d0bd5b7f7905b8d",
       "version_major": 2,
       "version_minor": 0
      },
      "text/plain": [
       "  0%|          | 0/592 [00:00<?, ?it/s]"
      ]
     },
     "metadata": {},
     "output_type": "display_data"
    },
    {
     "data": {
      "application/vnd.jupyter.widget-view+json": {
       "model_id": "9aac0833940d402090e7d41cfa239a4b",
       "version_major": 2,
       "version_minor": 0
      },
      "text/plain": [
       "  0%|          | 0/2 [00:00<?, ?it/s]"
      ]
     },
     "metadata": {},
     "output_type": "display_data"
    },
    {
     "data": {
      "application/vnd.jupyter.widget-view+json": {
       "model_id": "b6a9ad4fe55248fca5e46facd2bb9692",
       "version_major": 2,
       "version_minor": 0
      },
      "text/plain": [
       "  0%|          | 0/2 [00:00<?, ?it/s]"
      ]
     },
     "metadata": {},
     "output_type": "display_data"
    },
    {
     "data": {
      "application/vnd.jupyter.widget-view+json": {
       "model_id": "6f832d8d56854abdabadc326dd73e077",
       "version_major": 2,
       "version_minor": 0
      },
      "text/plain": [
       "  0%|          | 0/11 [00:00<?, ?it/s]"
      ]
     },
     "metadata": {},
     "output_type": "display_data"
    },
    {
     "data": {
      "application/vnd.jupyter.widget-view+json": {
       "model_id": "f894ac3f458c4e85a6d5a35d578e4077",
       "version_major": 2,
       "version_minor": 0
      },
      "text/plain": [
       "  0%|          | 0/4 [00:00<?, ?it/s]"
      ]
     },
     "metadata": {},
     "output_type": "display_data"
    },
    {
     "data": {
      "application/vnd.jupyter.widget-view+json": {
       "model_id": "811b864708df40b7a18e2bcd35a19ff4",
       "version_major": 2,
       "version_minor": 0
      },
      "text/plain": [
       "  0%|          | 0/1 [00:00<?, ?it/s]"
      ]
     },
     "metadata": {},
     "output_type": "display_data"
    },
    {
     "data": {
      "application/vnd.jupyter.widget-view+json": {
       "model_id": "3cb97de8ab384e03b7c3d97264e78c8c",
       "version_major": 2,
       "version_minor": 0
      },
      "text/plain": [
       "  0%|          | 0/5 [00:00<?, ?it/s]"
      ]
     },
     "metadata": {},
     "output_type": "display_data"
    },
    {
     "data": {
      "application/vnd.jupyter.widget-view+json": {
       "model_id": "57fb1bcdbb0342fda7544063e5c669ae",
       "version_major": 2,
       "version_minor": 0
      },
      "text/plain": [
       "  0%|          | 0/1 [00:00<?, ?it/s]"
      ]
     },
     "metadata": {},
     "output_type": "display_data"
    },
    {
     "data": {
      "application/vnd.jupyter.widget-view+json": {
       "model_id": "a0c6a0512d50430f83cce76e57f09a11",
       "version_major": 2,
       "version_minor": 0
      },
      "text/plain": [
       "  0%|          | 0/41 [00:00<?, ?it/s]"
      ]
     },
     "metadata": {},
     "output_type": "display_data"
    },
    {
     "data": {
      "application/vnd.jupyter.widget-view+json": {
       "model_id": "ff3e736069b84557a262f2235b7439e0",
       "version_major": 2,
       "version_minor": 0
      },
      "text/plain": [
       "  0%|          | 0/321 [00:00<?, ?it/s]"
      ]
     },
     "metadata": {},
     "output_type": "display_data"
    },
    {
     "data": {
      "application/vnd.jupyter.widget-view+json": {
       "model_id": "9d10395741fd466d944a8db783cee30e",
       "version_major": 2,
       "version_minor": 0
      },
      "text/plain": [
       "  0%|          | 0/114 [00:00<?, ?it/s]"
      ]
     },
     "metadata": {},
     "output_type": "display_data"
    },
    {
     "data": {
      "application/vnd.jupyter.widget-view+json": {
       "model_id": "98367ed12c024cee961b7863de57047c",
       "version_major": 2,
       "version_minor": 0
      },
      "text/plain": [
       "  0%|          | 0/299 [00:00<?, ?it/s]"
      ]
     },
     "metadata": {},
     "output_type": "display_data"
    },
    {
     "data": {
      "application/vnd.jupyter.widget-view+json": {
       "model_id": "f2f4e548d75b40a8ab2d7df5de0298a4",
       "version_major": 2,
       "version_minor": 0
      },
      "text/plain": [
       "  0%|          | 0/4 [00:00<?, ?it/s]"
      ]
     },
     "metadata": {},
     "output_type": "display_data"
    },
    {
     "data": {
      "application/vnd.jupyter.widget-view+json": {
       "model_id": "0670de7797f3423093a738dffaa96f81",
       "version_major": 2,
       "version_minor": 0
      },
      "text/plain": [
       "  0%|          | 0/13 [00:00<?, ?it/s]"
      ]
     },
     "metadata": {},
     "output_type": "display_data"
    },
    {
     "data": {
      "application/vnd.jupyter.widget-view+json": {
       "model_id": "2a9f46ccac8a415a8b8e15d881680240",
       "version_major": 2,
       "version_minor": 0
      },
      "text/plain": [
       "  0%|          | 0/26 [00:00<?, ?it/s]"
      ]
     },
     "metadata": {},
     "output_type": "display_data"
    }
   ],
   "source": [
    "matches = []\n",
    "\n",
    "done = set()\n",
    "\n",
    "threshold = 70\n",
    "\n",
    "for i, (tk, holdings) in enumerate(china.items()):\n",
    "    if tk not in done:\n",
    "        todo = tqdm(holdings)\n",
    "        for _, name, _, q in todo:\n",
    "            todo.set_description(f'{tk} ({i+1}/{len(china)}) : {name}')\n",
    "            for cmpy in blacklist:\n",
    "#                 match = fuzz.token_set_ratio(cmpy, name)\n",
    "                match = fuzz.token_sort_ratio(cmpy, name)\n",
    "                if match > threshold:\n",
    "                    matches.append([tk, name, cmpy, match])\n",
    "\n",
    "#             if len(matches):\n",
    "#                 break\n",
    "\n",
    "#         if len(matches):\n",
    "#             print(f'Found {len(matches)} matches')\n",
    "#             break\n",
    "    \n",
    "#     done.add(tk)\n",
    "\n",
    "# matches"
   ]
  },
  {
   "cell_type": "code",
   "execution_count": 16,
   "metadata": {
    "scrolled": false
   },
   "outputs": [
    {
     "name": "stdout",
     "output_type": "stream",
     "text": [
      "Ticker    Holding                                              Blacklist                                                       Match\n",
      "--------  ---------------------------------------------------  ------------------------------------------------------------  -------\n",
      "CNYA      China United Network Communications Ltd              China United Network Communications Group Co Ltd                   90\n",
      "MCHI      China United Network Communications Ltd              China United Network Communications Group Co Ltd                   90\n",
      "IXUS      China United Network Communications Ltd              China United Network Communications Group Co Ltd                   90\n",
      "ASHR      China United Network Communications Ltd              China United Network Communications Group Co Ltd                   90\n",
      "CNYA      China National Chemical Engineering Co Ltd           China National Chemical Engineering Group Co., Ltd. (CNCEC)        88\n",
      "MCHI      China National Chemical Engineering Co Ltd           China National Chemical Engineering Group Co., Ltd. (CNCEC)        88\n",
      "ASHR      China National Chemical Engineering Co Ltd           China National Chemical Engineering Group Co., Ltd. (CNCEC)        88\n",
      "CNYA      Dawning Information Industry Co Ltd --- Shs -A-      Dawning Information Industry Co. (Sugon)                           85\n",
      "MCHI      Dawning Information Industry Co Ltd --- Shs -A-      Dawning Information Industry Co. (Sugon)                           85\n",
      "ASHR      Dawning Information Industry Co Ltd --- Shs -A-      Dawning Information Industry Co. (Sugon)                           85\n",
      "CNYA      China Shipbuilding Industry Corp                     China Shipbuilding Industry Corporation (CSIC)                     84\n",
      "MCHI      Sinopharm Group Co Ltd H                             Sinochem Group Co Ltd                                              84\n",
      "MCHI      China Shipbuilding Industry Corp                     China Shipbuilding Industry Corporation (CSIC)                     84\n",
      "IXUS      Sinopharm Group Co Ltd H                             Sinochem Group Co Ltd                                              84\n",
      "IXUS      China Shipbuilding Industry Corp                     China Shipbuilding Industry Corporation (CSIC)                     84\n",
      "ASHR      China Shipbuilding Industry Corp                     China Shipbuilding Industry Corporation (CSIC)                     84\n",
      "CNYA      China Railway Construction Corp Ltd                  China Railway Construction Corporation (CRCC)                      82\n",
      "MCHI      China Railway Construction Corp Ltd                  China Railway Construction Corporation (CRCC)                      82\n",
      "IXUS      China Railway Construction Corp Ltd                  China Railway Construction Corporation (CRCC)                      82\n",
      "ASHR      China Railway Construction Corp Ltd                  China Railway Construction Corporation (CRCC)                      82\n",
      "CNYA      China Spacesat Co Ltd                                China Spacesat                                                     80\n",
      "MCHI      China Spacesat Co Ltd                                China Spacesat                                                     80\n",
      "ASHR      China Spacesat Co Ltd                                China Spacesat                                                     80\n",
      "CNYA      Shanghai Construction Group Co Ltd                   China State Construction Group Co., Ltd.                           79\n",
      "CNYA      OFILM Group Co Ltd                                   Sinochem Group Co Ltd                                              77\n",
      "CNYA      Yango Group Co Ltd                                   Sinochem Group Co Ltd                                              77\n",
      "MCHI      OFILM Group Co Ltd                                   Sinochem Group Co Ltd                                              77\n",
      "ASHR      OFILM Group Co Ltd                                   Sinochem Group Co Ltd                                              77\n",
      "ASHR      Yango Group Co Ltd                                   Sinochem Group Co Ltd                                              77\n",
      "CNYA      China State Construction Engineering Corp Ltd        China State Construction Group Co., Ltd.                           76\n",
      "MCHI      China State Construction Engineering Corp Ltd        China State Construction Group Co., Ltd.                           76\n",
      "MCHI      China Communications Construction Co Ltd Class H     China Communication Construction Group Company, Ltd.               76\n",
      "IXUS      China State Construction Engineering Corp Ltd        China State Construction Group Co., Ltd.                           76\n",
      "ASHR      China State Construction Engineering Corp Ltd        China State Construction Group Co., Ltd.                           76\n",
      "CNYA      China State Construction Engineering Corp Ltd        China Nuclear Engineering & Construction Corporation (CNECC)       75\n",
      "CNYA      China Railway Construction Corp Ltd                  China State Construction Group Co., Ltd.                           75\n",
      "CNYA      China National Nuclear Power Co Ltd A                China National Nuclear                                             75\n",
      "MCHI      China State Construction Engineering Corp Ltd        China Nuclear Engineering & Construction Corporation (CNECC)       75\n",
      "MCHI      China National Nuclear Power Co Ltd A                China National Nuclear                                             75\n",
      "MCHI      China Railway Construction Corp Ltd                  China State Construction Group Co., Ltd.                           75\n",
      "IXUS      China Railway Construction Corp Ltd                  China State Construction Group Co., Ltd.                           75\n",
      "IXUS      China State Construction Engineering Corp Ltd        China Nuclear Engineering & Construction Corporation (CNECC)       75\n",
      "ASHR      China State Construction Engineering Corp Ltd        China Nuclear Engineering & Construction Corporation (CNECC)       75\n",
      "ASHR      China Railway Construction Corp Ltd                  China State Construction Group Co., Ltd.                           75\n",
      "ASHR      China National Nuclear Power Co Ltd A                China National Nuclear                                             75\n",
      "ASHR      China Satellite Communications Co Ltd                China United Network Communications Group Co Ltd                   75\n",
      "CNYA      Power Construction Corporation of China Ltd          China Railway Construction Corporation (CRCC)                      74\n",
      "MCHI      Power Construction Corporation of China Ltd          China Railway Construction Corporation (CRCC)                      74\n",
      "MCHI      China Railway Construction Corp Ltd Class H          China Railway Construction Corporation (CRCC)                      74\n",
      "ASHR      Power Construction Corporation of China Ltd          China Railway Construction Corporation (CRCC)                      74\n",
      "CNYA      China United Network Communications Ltd              China Mobile Communications                                        73\n",
      "CNYA      China Communications Construction Co Ltd Class A     China Communication Construction Group Company, Ltd.               73\n",
      "CNYA      Youngor Group Co Ltd                                 Sinochem Group Co Ltd                                              73\n",
      "MCHI      China State Construction International Holdings Ltd  China State Construction Group Co., Ltd.                           73\n",
      "MCHI      China United Network Communications Ltd              China Mobile Communications                                        73\n",
      "IXUS      China United Network Communications Ltd              China Mobile Communications                                        73\n",
      "ASHR      China United Network Communications Ltd              China Mobile Communications                                        73\n",
      "ASHR      China Communications Construction Co Ltd Class A     China Communication Construction Group Company, Ltd.               73\n",
      "ASHR      Youngor Group Co Ltd                                 Sinochem Group Co Ltd                                              73\n",
      "CNYA      China National Nuclear Power Co Ltd A                China General Nuclear Power                                        72\n",
      "CNYA      Ninestar Corporation                                 CRRC Corporation                                                   72\n",
      "MCHI      Minth Group Ltd                                      Sinochem Group Co Ltd                                              72\n",
      "MCHI      China Communications Services Corp Ltd Class H       China United Network Communications Group Co Ltd                   72\n",
      "MCHI      China National Nuclear Power Co Ltd A                China General Nuclear Power                                        72\n",
      "MCHI      China Railway Construction Corp Ltd Class H          China State Construction Group Co., Ltd.                           72\n",
      "MCHI      Ninestar Corporation                                 CRRC Corporation                                                   72\n",
      "IXUS      Minth Group Ltd                                      Sinochem Group Co Ltd                                              72\n",
      "ASHR      China National Nuclear Power Co Ltd A                China General Nuclear Power                                        72\n",
      "ASHR      China Satellite Communications Co Ltd                China Mobile Communications                                        72\n",
      "CNYA      Inspur Electronic Information Industry Co Ltd        Dawning Information Industry Co. (Sugon)                           71\n",
      "MCHI      Inspur Electronic Information Industry Co Ltd        Dawning Information Industry Co. (Sugon)                           71\n",
      "ASHR      Inspur Electronic Information Industry Co Ltd        Dawning Information Industry Co. (Sugon)                           71\n",
      "ASHR      China Shipbuilding Industry Group Power Co Ltd       China Shipbuilding Industry Corporation (CSIC)                     71\n"
     ]
    }
   ],
   "source": [
    "print(tabulate(sorted(matches, key=lambda row: row[-1], reverse=True), headers=['Ticker', 'Holding', 'Blacklist', 'Match']))"
   ]
  },
  {
   "cell_type": "code",
   "execution_count": 14,
   "metadata": {
    "scrolled": false
   },
   "outputs": [],
   "source": [
    "# print(tabulate(sorted(matches, key=lambda row: row[-1], reverse=True), headers=['Ticker', 'Name', 'Blacklist', 'Match']))"
   ]
  },
  {
   "cell_type": "code",
   "execution_count": 15,
   "metadata": {},
   "outputs": [],
   "source": [
    "# matches"
   ]
  }
 ],
 "metadata": {
  "kernelspec": {
   "display_name": "Python 3",
   "language": "python",
   "name": "python3"
  },
  "language_info": {
   "codemirror_mode": {
    "name": "ipython",
    "version": 3
   },
   "file_extension": ".py",
   "mimetype": "text/x-python",
   "name": "python",
   "nbconvert_exporter": "python",
   "pygments_lexer": "ipython3",
   "version": "3.7.4"
  }
 },
 "nbformat": 4,
 "nbformat_minor": 4
}
