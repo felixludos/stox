{
 "cells": [
  {
   "cell_type": "code",
   "execution_count": 1,
   "id": "4e3d7185",
   "metadata": {},
   "outputs": [
    {
     "data": {
      "text/html": [
       "<style>.container { width:98% !important; }</style>"
      ],
      "text/plain": [
       "<IPython.core.display.HTML object>"
      ]
     },
     "metadata": {},
     "output_type": "display_data"
    },
    {
     "name": "stderr",
     "output_type": "stream",
     "text": [
      "C:\\Users\\anwan\\miniconda3\\lib\\site-packages\\thefuzz\\fuzz.py:11: UserWarning: Using slow pure-python SequenceMatcher. Install python-Levenshtein to remove this warning\n",
      "  warnings.warn('Using slow pure-python SequenceMatcher. Install python-Levenshtein to remove this warning')\n"
     ]
    }
   ],
   "source": [
    "import sys, os\n",
    "from pathlib import Path\n",
    "# from html.parser import HTMLParser\n",
    "import textwrap\n",
    "import random\n",
    "import numpy as np\n",
    "%matplotlib notebook\n",
    "import matplotlib.pyplot as plt\n",
    "%load_ext autoreload\n",
    "%autoreload 2\n",
    "from datetime import datetime\n",
    "from datetime import timedelta\n",
    "from PIL import Image\n",
    "import requests\n",
    "from io import BytesIO\n",
    "import matplotlib.pyplot as plt\n",
    "from IPython.display import display, HTML\n",
    "display(HTML(\"<style>.container { width:98% !important; }</style>\"))\n",
    "# import umap\n",
    "from tabulate import tabulate\n",
    "from tqdm.notebook import tqdm\n",
    "import yfinance as yf\n",
    "import pandas as pd\n",
    "# from scipy.optimize import linear_sum_assignment\n",
    "from thefuzz import fuzz\n",
    "\n",
    "from ipywidgets import widgets, Layout, HBox\n",
    "from IPython.display import display, HTML\n",
    "from collections import Counter\n",
    "\n",
    "from sklearn.preprocessing import normalize\n",
    "from sklearn import manifold\n",
    "from matplotlib import pyplot as plt\n",
    "from matplotlib.lines import Line2D\n",
    "from matplotlib import patches as mpatches\n",
    "\n",
    "import pandas as pd\n",
    "import qgrid\n",
    "\n",
    "import torch\n",
    "from torch.nn import functional as F\n",
    "from torch import optim\n",
    "from torch import autograd\n",
    "from src.optim import UnitShares, FeatureExtractor, GroupMatching, PortfolioMatching, FeatureVariance, MultiCriterion, ClipWeight, GroupScoring, ManualReqs\n",
    "from scipy import optimize\n",
    "from scipy.stats import linregress\n",
    "\n",
    "from src import yahoo, optim, common\n",
    "\n",
    "# from ew_etfs import INDEX, ETF, CACHE"
   ]
  },
  {
   "cell_type": "code",
   "execution_count": 2,
   "id": "14a56a28",
   "metadata": {},
   "outputs": [
    {
     "data": {
      "application/json": {
       "ascii": false,
       "bar_format": null,
       "colour": null,
       "elapsed": 0.005507707595825195,
       "initial": 0,
       "n": 0,
       "ncols": null,
       "nrows": null,
       "postfix": null,
       "prefix": "Tickers",
       "rate": null,
       "total": 375,
       "unit": "it",
       "unit_divisor": 1000,
       "unit_scale": false
      },
      "application/vnd.jupyter.widget-view+json": {
       "model_id": "e69a7414b2a547639b3b66958e1b0f84",
       "version_major": 2,
       "version_minor": 0
      },
      "text/plain": [
       "Tickers:   0%|          | 0/375 [00:00<?, ?it/s]"
      ]
     },
     "metadata": {},
     "output_type": "display_data"
    },
    {
     "data": {
      "application/json": {
       "ascii": false,
       "bar_format": null,
       "colour": null,
       "elapsed": 0.009268760681152344,
       "initial": 0,
       "n": 0,
       "ncols": null,
       "nrows": null,
       "postfix": null,
       "prefix": "ETFs",
       "rate": null,
       "total": 8,
       "unit": "it",
       "unit_divisor": 1000,
       "unit_scale": false
      },
      "application/vnd.jupyter.widget-view+json": {
       "model_id": "fc9fe41fcf83460dbe6864073b59d01c",
       "version_major": 2,
       "version_minor": 0
      },
      "text/plain": [
       "ETFs:   0%|          | 0/8 [00:00<?, ?it/s]"
      ]
     },
     "metadata": {},
     "output_type": "display_data"
    },
    {
     "data": {
      "text/plain": [
       "375"
      ]
     },
     "execution_count": 2,
     "metadata": {},
     "output_type": "execute_result"
    }
   ],
   "source": [
    "etfnames = ['PGAL', 'EWP', 'EWQ', 'EWK', 'EWO', 'EWN', 'EWI', 'EWG']\n",
    "tknames = ['1COV.DE', 'A2A.MI', 'AALB.AS', 'ABI.BR', 'ABN.AS', 'AC.PA', 'ACA.PA', 'ACKB.BR', 'ACS.MC', 'ACX.MC', 'AD.AS', 'ADP.PA', 'ADS.DE', 'ADYEN.AS', 'AED.BR', 'AEGN.AT', 'AFX.DE', 'AGFB.BR', 'AGN.AS', 'AGR.VI', 'AGS.BR', 'AI.PA', 'AIR.PA', 'AKE.PA', 'AKZA.AS', 'ALFEN.AS', 'ALO.PA', 'ALPHA.AT', 'ALTR.LS', 'ALV.DE', 'AM.PA', 'AMG.AS', 'AMP.MI', 'AMS.MC', 'AMUN.PA', 'ANA.MC', 'ANDR.VI', 'APAM.AS', 'ARCAD.AS', 'ARGX.BR', 'ASM.AS', 'ASML.AS', 'ASRNL.AS', 'AT1.DE', 'ATS.VI', 'AZM.MI', 'BAMI.MI', 'BAMNB.AS', 'BAR.BR', 'BAS.DE', 'BAYN.DE', 'BBVA.MC', 'BC8.DE', 'BCP.LS', 'BEFB.BR', 'BEI.DE', 'BEKB.BR', 'BESI.AS', 'BFIT.AS', 'BG.VI', 'BGN.MI', 'BIM.PA', 'BIRG.IR', 'BKT.MC', 'BMW.DE', 'BMW3.DE', 'BN.PA', 'BNP.PA', 'BNR.DE', 'BOL.PA', 'BPE.MI', 'BPOST.BR', 'BRNL.AS', 'BSGR.AS', 'BVI.PA', 'BZU.MI', 'CA.PA', 'CABK.MC', 'CAI.VI', 'CAP.PA', 'CBK.DE', 'CCEP.AS', 'CFEB.BR', 'CGCBV.HE', 'CLNX.MC', 'CMCOM.AS', 'CNHI.MI', 'COFB.BR', 'COL.MC', 'COLR.BR', 'CON.DE', 'COR.LS', 'COV.PA', 'CPR.MI', 'CRBN.AS', 'CS.PA', 'CTT.LS', 'DB1.DE', 'DBK.DE', 'DG.PA', 'DHER.DE', 'DIA.MI', 'DIE.BR', 'DIM.PA', 'DOC.VI', 'DPW.DE', 'DSM.AS', 'DSY.PA', 'DTE.DE', 'DTG.DE', 'EBS.VI', 'ECMPA.AS', 'ECONB.BR', 'EDEN.PA', 'EDF.PA', 'EDP.LS', 'EDPR.LS', 'EGL.LS', 'EL.PA', 'ELI.BR', 'ELISA.HE', 'EN.PA', 'ENEL.MI', 'ENG.MC', 'ENGI.PA', 'ENI.MI', 'ENR.DE', 'ENX.PA', 'EO.PA', 'EOAN.DE', 'ERF.PA', 'ETE.AT', 'EURN.BR', 'EUROB.AT', 'EVK.DE', 'EVN.VI', 'EXAE.AT', 'FACC.VI', 'FAGR.BR', 'FAST.AS', 'FBK.MI', 'FDJ.PA', 'FER.MC', 'FFARM.AS', 'FGR.PA', 'FIA1S.HE', 'FLOW.AS', 'FME.DE', 'FORTUM.HE', 'FPE3.DE', 'FR.PA', 'FRE.DE', 'FRIGO.AT', 'FUR.AS', 'G.MI', 'G1A.DE', 'G24.DE', 'GALP.LS', 'GBLB.BR', 'GET.PA', 'GFC.PA', 'GIMB.BR', 'GLE.PA', 'GLPG.AS', 'GRF.MC', 'GVOLT.LS', 'HEI.DE', 'HEIA.AS', 'HEIO.AS', 'HEN.DE', 'HEN3.DE', 'HER.MI', 'HFG.DE', 'HNR1.DE', 'HO.PA', 'IAG.MC', 'IBAB.BR', 'IBE.MC', 'IBS.LS', 'IDR.MC', 'IFX.DE', 'IG.MI', 'IIA.VI', 'IMCD.AS', 'IMMO.BR', 'INGA.AS', 'INPST.AS', 'INTER.AS', 'INTO.BR', 'INW.MI', 'IPN.PA', 'ISP.MI', 'ITX.MC', 'IVG.MI', 'JDEP.AS', 'JMT.LS', 'JUVE.MI', 'KBC.BR', 'KBCA.BR', 'KBX.DE', 'KEMIRA.HE', 'KER.PA', 'KGX.DE', 'KIN.BR', 'KNEBV.HE', 'KPN.AS', 'LAMDA.AT', 'LDO.MI', 'LEG.DE', 'LHA.DE', 'LI.PA', 'LIGHT.AS', 'LIN.DE', 'LNZ.VI', 'LR.PA', 'LXS.DE', 'MAP.MC', 'MB.MI', 'MBG.DE', 'MC.PA', 'MEL.MC', 'MELE.BR', 'MF.PA', 'MITRA.BR', 'ML.PA', 'MMK.VI', 'MONC.MI', 'MONT.BR', 'MRK.DE', 'MRL.MC', 'MT.AS', 'MTS.MC', 'MTX.DE', 'MUV2.DE', 'MYTIL.AT', 'NBA.LS', 'NEM.DE', 'NESN.SW', 'NEXI.MI', 'NN.AS', 'NOKIA.HE', 'NOS.LS', 'NSI.AS', 'NTGY.MC', 'NVG.LS', 'O2D.DE', 'OBEL.BR', 'OCI.AS', 'OMV.VI', 'ONTEX.BR', 'OR.PA', 'ORA.PA', 'ORP.PA', 'OUT1V.HE', 'PAH3.DE', 'PAL.VI', 'PHARM.AS', 'PHIA.AS', 'PHM.MC', 'PHR.LS', 'PIRC.MI', 'PNL.AS', 'POS.VI', 'POST.VI', 'PPC.AT', 'PROX.BR', 'PRX.AS', 'PRY.MI', 'PST.MI', 'PUB.PA', 'PUM.DE', 'RAA.DE', 'RACE.MI', 'RAM.LS', 'RAND.AS', 'RBI.VI', 'RCO.PA', 'REC.BR', 'REC.MI', 'RED.MC', 'REN.AS', 'RENE.LS', 'REP.MC', 'RET.BR', 'RF.PA', 'RI.PA', 'RMS.PA', 'RNO.PA', 'RWE.DE', 'RYA.IR', 'SAB.MC', 'SAF.PA', 'SAN.MC', 'SAN.PA', 'SAP.DE', 'SBMO.AS', 'SBO.VI', 'SEM.LS', 'SEM.VI', 'SFER.MI', 'SGO.PA', 'SGRE.MC', 'SHELL.AS', 'SHL.DE', 'SHUR.BR', 'SIE.DE', 'SIFG.AS', 'SK.PA', 'SLIGR.AS', 'SLR.MC', 'SNC.LS', 'SOF.BR', 'SOLB.BR', 'SON.LS', 'SPI.VI', 'SPM.MI', 'SRG.MI', 'SRT3.DE', 'SRV1V.HE', 'STERV.HE', 'STLA.MI', 'STM.MI', 'STM.PA', 'SU.PA', 'SW.PA', 'SY1.DE', 'TEF.MC', 'TELIA1.HE', 'TEN.MI', 'TEP.PA', 'TESB.BR', 'TIT.MI', 'TKA.VI', 'TKWY.AS', 'TNET.BR', 'TOM2.AS', 'TPEIR.AT', 'TRN.MI', 'TTE.PA', 'TWEKA.AS', 'UBI.PA', 'UCB.BR', 'UCG.MI', 'UMG.AS', 'UMI.BR', 'UN01.DE', 'UNA.AS', 'UNI.MI', 'UPM.HE', 'UQA.VI', 'URW.AS', 'UTDI.DE', 'VALMT.HE', 'VAN.BR', 'VASTN.AS', 'VER.VI', 'VGP.BR', 'VIE.PA', 'VIG.VI', 'VIV.PA', 'VLK.AS', 'VNA.DE', 'VOE.VI', 'VOW.DE', 'VOW3.DE', 'VPK.AS', 'WDP.BR', 'WHA.AS', 'WIE.VI', 'WKL.AS', 'WLN.PA', 'WRT1V.HE', 'XIOR.BR', 'ZAG.VI', 'ZAL.DE']\n",
    "\n",
    "bad = {'AM1S.HE', 'NAV.LS', 'REE.MC', 'SEV.PA', 'HTOO.LS', 'FOLLI.AT', 'TUI.AT', 'ATL.MI', 'KESKO.HE', 'HELS.HE', 'ORION.HE', 'ALT.LS', 'AENA.MC', 'EXO.MI', 'EFACEC.LS', 'ELLAK.AT', 'METSO.HE', 'FISKARS.HE', 'BOKA.AS', 'MOTOR.AT', 'DAI.DE', 'RBI.HE', 'ACCEL.AS', 'OTE1V.HE', 'SONI.LS', 'XTSLA.PA', 'FID.LS', 'NRE1V.HE', 'VGR.LS', 'NDA.FI', 'SONC.LS', 'ACC.LS', 'TRQ.LS', 'AER.AS', 'VIOH.AT', 'ELE.MC', 'QGEN.DE', 'EYATH.AT', 'TERNA.AT', 'CNP.PA', 'URW.PA', 'NB.LS', 'XTSLA.MC', 'PT.LS', 'JUMBO.AT', 'OTE.AT', 'HELPE.AT'}\n",
    "tknames = [t for t in tknames if t not in bad]\n",
    "tknames = sorted(set(tknames))\n",
    "\n",
    "# date = 'last'\n",
    "# date = '220208'\n",
    "# date = '220316'\n",
    "# date = '220420'\n",
    "date = '221221'\n",
    "# date = None\n",
    "\n",
    "full = [yahoo.download(t, date=date, pbar=None, allow_download=True, skip_failures=True) \n",
    "        for t in tqdm(tknames, desc='Tickers')]\n",
    "full = [f for f in full if f is not None]\n",
    "fulltks = {t.ticker:t for t in full}\n",
    "find = common.make_find(full)\n",
    "etfs = [yahoo.load_portfolio(name) for name in tqdm(etfnames, desc='ETFs')]\n",
    "etftks = {name: etf for name, etf in zip(etfnames,etfs)}\n",
    "len(full)"
   ]
  },
  {
   "cell_type": "code",
   "execution_count": 3,
   "id": "d238dc33",
   "metadata": {},
   "outputs": [
    {
     "data": {
      "text/plain": [
       "86"
      ]
     },
     "execution_count": 3,
     "metadata": {},
     "output_type": "execute_result"
    }
   ],
   "source": [
    "options = full.copy()\n",
    "selected = {'ENEL.MI', 'TEN.MI', 'CS.PA', 'SAN.MC', 'ISP.MI', 'UCB.BR', 'ASML.AS', 'NESN.SW', 'BIRG.IR', 'TKA.VI', 'FORTUM.HE', 'SON.LS', 'IBE.MC', 'IAG.MC', 'UPM.HE', 'VER.VI', 'SAN.PA', 'ETE.AT', 'ZAL.DE', 'ATS.VI', 'NOS.LS', 'BN.PA', 'SU.PA', 'MRL.MC', 'REN.AS', 'EDF.PA', 'NOKIA.HE', 'UBI.PA', 'KER.PA', 'KBC.BR', 'BBVA.MC', 'PHIA.AS', 'TEF.MC', 'AI.PA', 'EOAN.DE', 'BNP.PA', 'EVN.VI', 'CA.PA', 'PPC.AT', 'UMG.AS', 'JMT.LS', 'IFX.DE', 'VNA.DE', 'RBI.VI', 'MRK.DE', 'BAS.DE', 'HO.PA', 'SHELL.AS', 'WDP.BR', 'UNA.AS', 'ITX.MC', 'NEXI.MI', 'DTE.DE', 'PROX.BR', 'LHA.DE', 'REP.MC', 'ABI.BR', 'BAYN.DE', 'GALP.LS', 'MC.PA', 'ARGX.BR', 'EDP.LS', 'SHL.DE', 'AIR.PA', 'BMW.DE', 'DTG.DE', 'ENI.MI', 'ORA.PA', 'SAP.DE', 'AD.AS', 'RYA.IR', 'INGA.AS', 'STM.MI', 'CNHI.MI', 'PRX.AS', 'AMP.MI', 'LIN.DE', 'HEN.DE', 'VIV.PA', 'SIE.DE', 'IIA.VI', 'AMS.MC', 'EBS.VI', 'ALV.DE', 'RACE.MI', 'TTE.PA'}\n",
    "vocab = [o for o in options if o.ticker in selected]\n",
    "len(vocab)"
   ]
  },
  {
   "cell_type": "code",
   "execution_count": null,
   "id": "e448343c",
   "metadata": {},
   "outputs": [],
   "source": []
  },
  {
   "cell_type": "code",
   "execution_count": 4,
   "id": "90024c7f",
   "metadata": {},
   "outputs": [
    {
     "data": {
      "text/plain": [
       "'RAND.AS'"
      ]
     },
     "execution_count": 4,
     "metadata": {},
     "output_type": "execute_result"
    }
   ],
   "source": [
    "tk = random.choice(options)\n",
    "# tk = options[7]\n",
    "tk.ticker"
   ]
  },
  {
   "cell_type": "code",
   "execution_count": 17,
   "id": "811e5539",
   "metadata": {},
   "outputs": [
    {
     "name": "stdout",
     "output_type": "stream",
     "text": [
      "['currentPrice', 'beta', 'pegRatio', 'trailingEps', 'dividendYield', 'heldPercentInsiders', 'heldPercentInstitutions', 'recommendationMean', 'numberOfAnalystOpinions', 'targetMeanPrice', 'targetMedianPrice', 'targetLowPrice', 'targetHighPrice', 'totalEsg', 'socialScore', 'governanceScore', 'environmentScore']\n"
     ]
    },
    {
     "data": {
      "text/plain": [
       "61"
      ]
     },
     "execution_count": 17,
     "metadata": {},
     "output_type": "execute_result"
    }
   ],
   "source": [
    "feats = [\n",
    "    (-.001, common.make_info_key('currentPrice')),\n",
    "    \n",
    "    (-10., common.make_info_key('beta')),\n",
    "    (1., common.make_info_key('pegRatio',mn=-10,mx=10)),\n",
    "    (5., common.make_info_key('trailingEps', mx=25.)),\n",
    "    (10., common.make_info_key('dividendYield')),\n",
    "    \n",
    "    (12, common.make_info_key('heldPercentInsiders')),\n",
    "    (8, common.make_info_key('heldPercentInstitutions')),\n",
    "    \n",
    "    (20, common.make_info_key('recommendationMean')),\n",
    "    (.1, common.make_info_key('numberOfAnalystOpinions')),\n",
    "    (5, common.make_versus_current('targetMeanPrice',mn=0.2,mx=3)),\n",
    "    (1, common.make_versus_current('targetMedianPrice',mn=0.2,mx=3)),\n",
    "    (2, common.make_versus_current('targetLowPrice',mn=0.2,mx=3)),\n",
    "    (1, common.make_versus_current('targetHighPrice',mn=0.2,mx=3)),\n",
    "    \n",
    "    (4, common.make_sustain_key('totalEsg')),\n",
    "    (.1, common.make_sustain_key('socialScore')),\n",
    "    (.1, common.make_sustain_key('governanceScore')),\n",
    "    (.1, common.make_sustain_key('environmentScore')),\n",
    "]\n",
    "feat_cr = FeatureExtractor(feats, wt=1.)\n",
    "MultiCriterion([feat_cr]).prepare(options)\n",
    "\n",
    "S, W = feat_cr.feat_dats, feat_cr.percentile_dats\n",
    "for tk, f, w in zip(options, S, W):\n",
    "    tk.features = f\n",
    "    tk.percentiles = w\n",
    "# # S.shape, W.shape\n",
    "\n",
    "ts, feat_fns = zip(*feats)\n",
    "# wts = np.array(wts)\n",
    "fnames = np.array([fn.key for fn in feat_fns])\n",
    "len(feat_fns)\n",
    "\n",
    "name = 'EWG'\n",
    "\n",
    "etf = etftks[name]\n",
    "rats = etf['portfolio']\n",
    "\n",
    "feat_keys = [fn.key for fn in feat_fns]\n",
    "print(feat_keys)\n",
    "\n",
    "feat_orders = [\n",
    "    'recommendationMean', \n",
    "    'numberOfAnalystOpinions', \n",
    "    'dividendYield', \n",
    "    'heldPercentInsiders', \n",
    "    'heldPercentInstitutions', \n",
    "    'targetMeanPrice', \n",
    "#     'targetMedianPrice', \n",
    "#     'targetLowPrice', \n",
    "#     'targetHighPrice', \n",
    "    \n",
    "    'totalEsg', 'socialScore', 'governanceScore', 'environmentScore', \n",
    "    \n",
    "    'beta', \n",
    "    'pegRatio', \n",
    "    'trailingEps',\n",
    "]\n",
    "feat_inds = [feat_keys.index(key) for key in feat_orders]\n",
    "\n",
    "len(rats)"
   ]
  },
  {
   "cell_type": "code",
   "execution_count": null,
   "id": "56e959a4",
   "metadata": {},
   "outputs": [],
   "source": []
  },
  {
   "cell_type": "code",
   "execution_count": null,
   "id": "eb191d3c",
   "metadata": {},
   "outputs": [],
   "source": []
  },
  {
   "cell_type": "code",
   "execution_count": null,
   "id": "9f23d134",
   "metadata": {},
   "outputs": [],
   "source": []
  },
  {
   "cell_type": "code",
   "execution_count": 12,
   "id": "6978e563",
   "metadata": {},
   "outputs": [
    {
     "data": {
      "text/plain": [
       "(237, 215)"
      ]
     },
     "execution_count": 12,
     "metadata": {},
     "output_type": "execute_result"
    }
   ],
   "source": [
    "colors = dict(zip(common.base_sectors, common.mpl_colors))\n",
    "\n",
    "flag_emojis = {'Switzerland': '🇨🇭', 'Austria': '🇦🇹','Spain': '🇪🇸','Italy': '🇮🇹','Belgium': '🇧🇪','Netherlands': '🇳🇱','Germany': '🇩🇪','Portugal': '🇵🇹','France': '🇫🇷', 'United Kingdom': '🇬🇧',\n",
    "               'Greece': '🇬🇷', 'Ireland': '🇮🇪', 'Finland': '🇫🇮', 'Luxembourg': '🇱🇺', 'Sweden': '🇸🇪'}\n",
    "sector_emojis = {\n",
    "    'Consumer Staples': '🛒',# '🍎',\n",
    "    'Financials': '💰', # '💵', #'🪙',\n",
    "    'Utilities': '💧', #'🛁', # '🚿', # '🚰',\n",
    "    'Technology': '📱', #'💻',\n",
    "    'Energy': '🔥', #'🛢', # '⚡️'\n",
    "    'Consumer Discretionary': '🎁', # '🛍'\n",
    "    'Communication Services': '📞', # '📡', \n",
    "    'Industrials': '⚙️',# '🔧', #'🏭',\n",
    "    'Healthcare': '💊', #'💉',\n",
    "    'Materials': '🌲', #'🧱', # '📦',\n",
    "    'Real Estate': '🏠',\n",
    "#     '?': '❓',\n",
    "}\n",
    "\n",
    "euro_ex_score = {}\n",
    "for _, tks in common.EURO_EX.items():\n",
    "    for tk, wt in tks.items():\n",
    "        if tk not in euro_ex_score:\n",
    "            euro_ex_score[tk] = 0.\n",
    "        euro_ex_score[tk] += wt\n",
    "        \n",
    "row_titles = ['Sel', 'Ticker', 'Name', 'Country', 'Sector', 'Industry', 'Price', 'Market Cap', 'EUREX', 'EZU', *feat_orders]\n",
    "def _collect_tk(tk):\n",
    "    \n",
    "    name = tk.info.get('shortName')\n",
    "    \n",
    "    country = tk.info.get('country')\n",
    "    country = flag_emojis.get(country, country)\n",
    "    \n",
    "    sector = tk.info.get('sector')\n",
    "    sector = common.sector_aliases.get(sector, sector)\n",
    "    emoji = sector_emojis.get(sector)\n",
    "    if sector is not None:\n",
    "        sector = f'{emoji} {sector}'\n",
    "    \n",
    "    ind = tk.info.get('industry')\n",
    "    price = tk.info.get('currentPrice')\n",
    "    \n",
    "    mcap = tk.info.get('marketCap')\n",
    "    if isinstance(mcap, (int,float)):\n",
    "        mcap = np.round(np.log10(mcap)*1000)/1000\n",
    "    else:\n",
    "        mcap = None\n",
    "    \n",
    "    ez = ezu.get(tk)\n",
    "    \n",
    "    ex = euro_ex_score.get(tk.ticker)\n",
    "    \n",
    "    scores = [f'{s.mul(1000).round().div(1000).item():.3f} ({p.mul(1000).round().div(10).item():.2f})' for s, p in zip(tk.features[feat_inds], tk.percentiles[feat_inds])]\n",
    "    return [tk.ticker in presel, tk.ticker, name, country, sector, ind, price, mcap, ex, ez, *scores]\n",
    "\n",
    "def _name_order_fn(ident='country'):\n",
    "    def _order_fn(tk):\n",
    "        name = tk.info.get(ident)\n",
    "        if name is None:\n",
    "            name = ''\n",
    "\n",
    "        q = ezu.get(tk, 0.)\n",
    "        q = -q\n",
    "\n",
    "        return (name, q)\n",
    "    return _order_fn\n",
    "\n",
    "extra = ['MBG', 'MT', 'URW', ]\n",
    "ezu_tks = ('ASML', 'MC', 'TTE', 'SAP', 'SAN', 'SIE', 'OR', 'ALV', 'SU', 'AI', 'AIR', 'BAYN', 'IBE', 'BNP', 'DTE', 'MBG', 'SAN', 'CS', 'DG', 'ENEL', 'EL', 'BAS', 'ABI', 'PRX', 'KER', 'DPW', 'RI', 'RMS', 'IFX', 'ADS', 'INGA', 'SAF', 'ADYEN', 'BBVA', 'ISP', 'MUV2', 'ENI', 'BN', 'CAP', 'VNA', 'DB1', 'AD', 'STLA', 'DSY', 'VOW3', 'DSM', 'CRH', 'SGO', 'STM', 'NOKIA', 'AMS', 'BMW', 'PHIA', 'RWE', 'WKL', 'RACE', 'MRK', 'DBK', 'TEF', 'EOAN', 'G', 'LR', 'HEIA', 'CLNX', 'SAMPO', 'ENGI', 'ITX', 'ORA', 'ML', 'UCG', 'TEP', 'GLE', 'VIE', 'MT', 'UMG', 'REP', 'FLTR', 'NESTE', 'Eur Cash', 'KBC', 'Usd Cash', 'SHL', 'KRZ', 'KNEBV', 'XTSLA', 'ASM', 'UPM', 'AKZA', 'CNHI', 'SY1', 'KRX', 'CABK', 'UCB', 'FRE', 'PAH3', 'ACA', 'ARGX', 'NN', 'EDP', 'FME', 'PUB', 'HO', 'ERF', 'CA', 'FER', 'AENA', 'EBS', 'BNR', 'MTX', 'EDEN', 'TRN', 'HEN3', 'SRG', 'KPN', 'SRT3', 'MONC', 'DTG', 'STERV', 'DIM', 'ZAL', 'GBLB', 'QGEN', 'SK3', 'BEI', 'WLN', 'HNR1', 'ATL', 'VIV', 'CCEP', '1COV', 'IMCD', 'AGN', 'URW', 'FBK', 'ENR', 'HEIO', 'PUM', 'AGS', 'PRY', 'FGR', 'ELISA', 'HEI', 'UMI', 'BVI', 'LEG', 'EXO', 'VOW', 'FORTUM', 'EN', 'CON', 'GET', 'ENX', 'CBK', 'KESKOB', 'HFG', 'ALO', 'EDPR', 'AKE', 'SOLB', 'SW', 'VER', 'RAND', 'DHER', 'TEN', 'OMV', 'ACS', 'ELE', 'HEN', 'AER', 'JMT', 'REE', 'AFX', 'MB', 'G1A', 'EVK', 'PST', 'NTGY', 'NEXI', 'CPR', 'GALP', 'TKWY', 'AC', 'ABN', 'AMP', 'KBX', 'NEM', 'SOF', 'AT1', 'GRF', 'GFC', 'LI', 'ORNBV', 'LHA', 'RNO', 'REC', 'ADP', 'BIM', 'BMW3', 'EDF', 'BC8', 'ELI', 'BOL', 'RCO', 'G24', 'IPN', 'KGX', 'DIA', 'AM', 'SK', 'ENG', 'FDJ', 'AMUN', 'CNP', 'UBI', 'SGRE', 'FR', 'WRT1V', 'COV', 'UTDI', 'RF', 'VOE', 'LXS', 'RAA', 'INW', 'TIT', 'MF', 'PROX', 'O2D', 'JDEP', 'EO', 'ORP', 'UN01', 'FPE3', 'Cash Collateral Eur Jpfft', 'COLR', 'RBI', 'INPST')\n",
    "ezu_amounts = (5.48, 3.92, 2.51, 2.29, 2.29, 2.09, 1.98, 1.92, 1.79, 1.64, 1.41, 1.33, 1.27, 1.27, 1.19, 1.19, 1.17, 1.12, 1.09, 1.07, 1.04, 1.03, 1.02, 0.99, 0.94, 0.94, 0.91, 0.89, 0.88, 0.88, 0.81, 0.8, 0.78, 0.75, 0.75, 0.74, 0.73, 0.71, 0.71, 0.68, 0.67, 0.66, 0.65, 0.65, 0.63, 0.62, 0.61, 0.6, 0.59, 0.58, 0.58, 0.57, 0.55, 0.55, 0.55, 0.54, 0.53, 0.52, 0.51, 0.51, 0.5, 0.5, 0.49, 0.49, 0.48, 0.47, 0.47, 0.46, 0.45, 0.45, 0.44, 0.43, 0.41, 0.41, 0.38, 0.38, 0.38, 0.38, 0.36, 0.36, 0.35, 0.35, 0.35, 0.35, 0.35, 0.34, 0.34, 0.32, 0.32, 0.31, 0.3, 0.3, 0.3, 0.3, 0.29, 0.29, 0.28, 0.27, 0.27, 0.27, 0.27, 0.26, 0.26, 0.26, 0.26, 0.25, 0.25, 0.25, 0.24, 0.24, 0.24, 0.23, 0.23, 0.23, 0.23, 0.23, 0.23, 0.22, 0.22, 0.22, 0.22, 0.22, 0.22, 0.21, 0.21, 0.2, 0.2, 0.2, 0.2, 0.19, 0.19, 0.19, 0.19, 0.18, 0.18, 0.18, 0.18, 0.17, 0.17, 0.17, 0.17, 0.17, 0.17, 0.17, 0.16, 0.16, 0.16, 0.16, 0.16, 0.16, 0.16, 0.15, 0.15, 0.15, 0.15, 0.15, 0.15, 0.15, 0.14, 0.14, 0.14, 0.14, 0.14, 0.14, 0.14, 0.14, 0.14, 0.14, 0.13, 0.13, 0.13, 0.13, 0.13, 0.13, 0.12, 0.12, 0.12, 0.12, 0.12, 0.12, 0.12, 0.11, 0.11, 0.11, 0.11, 0.11, 0.11, 0.11, 0.11, 0.11, 0.11, 0.1, 0.1, 0.1, 0.1, 0.09, 0.09, 0.09, 0.09, 0.09, 0.09, 0.09, 0.09, 0.09, 0.09, 0.09, 0.08, 0.08, 0.08, 0.08, 0.08, 0.08, 0.08, 0.08, 0.08, 0.08, 0.08, 0.08, 0.07, 0.07, 0.07, 0.07, 0.07, 0.07, 0.07, 0.06, 0.06, 0.06, 0.06, 0.06, 0.05, 0.05, 0.05, 0.04, 0.04, 0.04, 0.03)\n",
    "found, missing = [], []\n",
    "for t in ezu_tks:\n",
    "    try:\n",
    "        tk = find(t)\n",
    "        found.append(tk)\n",
    "    except KeyError:\n",
    "        missing.append(t)\n",
    "len(found), len(missing)\n",
    "ezu = dict(zip(ezu_tks,ezu_amounts))\n",
    "ezu = {tk:ezu[tk.ticker.split('.')[0]] for tk in found}\n",
    "len(ezu_tks), len(ezu)"
   ]
  },
  {
   "cell_type": "code",
   "execution_count": 13,
   "id": "773883f4",
   "metadata": {},
   "outputs": [
    {
     "data": {
      "text/plain": [
       "86"
      ]
     },
     "execution_count": 13,
     "metadata": {},
     "output_type": "execute_result"
    }
   ],
   "source": [
    "presel = {'REP.MC', 'UBI.PA', 'SIE.DE', 'CS.PA', 'ISP.MI', 'INGA.AS', 'EDF.PA', 'OMV.VI', 'HEN.DE', 'VIV.PA', 'TTE.PA', 'NESN.SW', 'AD.AS', 'TKA.VI', 'BAS.DE', 'BBVA.MC', 'NEXI.MI', 'CA.PA', 'ALV.DE', 'JMT.LS', 'IIA.VI', 'ZAL.DE', 'ADS.DE', 'WDP.BR', 'ABI.BR', 'AIR.PA', 'DTE.DE', 'ITX.MC', 'ORA.PA', 'SAN.MC', 'ENEL.MI', 'EBS.VI', 'LHA.DE', 'AMS.MC', 'SAP.DE', 'ENI.MI', 'BAYN.DE', 'ASML.AS', 'MRK.DE', 'AI.PA', 'TEF.MC', 'KER.PA', 'SU.PA', 'VER.VI', 'SHL.DE', 'SAN.PA', 'MC.PA', 'PROX.BR', 'RBI.VI', 'IBE.MC', 'PRX.AS', 'EOAN.DE', 'VNA.DE', 'BNP.PA', 'PHIA.AS'}\n",
    "presel = {'ENEL.MI', 'TEN.MI', 'CS.PA', 'SAN.MC', 'ISP.MI', 'UCB.BR', 'ASML.AS', 'NESN.SW', 'BIRG.IR', 'TKA.VI', 'FORTUM.HE', 'SON.LS', 'IBE.MC', 'IAG.MC', 'UPM.HE', 'VER.VI', 'SAN.PA', 'ETE.AT', 'ZAL.DE', 'ATS.VI', 'NOS.LS', 'BN.PA', 'SU.PA', 'MRL.MC', 'REN.AS', 'EDF.PA', 'NOKIA.HE', 'UBI.PA', 'KER.PA', 'KBC.BR', 'BBVA.MC', 'PHIA.AS', 'TEF.MC', 'AI.PA', 'EOAN.DE', 'BNP.PA', 'EVN.VI', 'CA.PA', 'PPC.AT', 'UMG.AS', 'JMT.LS', 'IFX.DE', 'VNA.DE', 'RBI.VI', 'MRK.DE', 'BAS.DE', 'HO.PA', 'SHELL.AS', 'WDP.BR', 'UNA.AS', 'ITX.MC', 'NEXI.MI', 'DTE.DE', 'PROX.BR', 'LHA.DE', 'REP.MC', 'ABI.BR', 'BAYN.DE', 'GALP.LS', 'MC.PA', 'ARGX.BR', 'EDP.LS', 'SHL.DE', 'AIR.PA', 'BMW.DE', 'DTG.DE', 'ENI.MI', 'ORA.PA', 'SAP.DE', 'AD.AS', 'RYA.IR', 'INGA.AS', 'STM.MI', 'CNHI.MI', 'PRX.AS', 'AMP.MI', 'LIN.DE', 'HEN.DE', 'VIV.PA', 'SIE.DE', 'IIA.VI', 'AMS.MC', 'EBS.VI', 'ALV.DE', 'RACE.MI', 'TTE.PA'}\n",
    "len(presel)"
   ]
  },
  {
   "cell_type": "code",
   "execution_count": 14,
   "id": "0b5db079",
   "metadata": {},
   "outputs": [],
   "source": [
    "rows = [_collect_tk(tk) for tk in vocab]"
   ]
  },
  {
   "cell_type": "code",
   "execution_count": 15,
   "id": "e72a643b",
   "metadata": {},
   "outputs": [
    {
     "data": {
      "application/vnd.jupyter.widget-view+json": {
       "model_id": "78add347c44f43c5a16d169b79e805dd",
       "version_major": 2,
       "version_minor": 0
      },
      "text/plain": [
       "QgridWidget(grid_options={'fullWidthRows': True, 'syncColumnCellResize': True, 'forceFitColumns': True, 'defau…"
      ]
     },
     "execution_count": 15,
     "metadata": {},
     "output_type": "execute_result"
    }
   ],
   "source": [
    "df = pd.DataFrame(rows, columns = row_titles)\n",
    "qgrid_widget = qgrid.show_grid(df, show_toolbar=True)\n",
    "qgrid_widget"
   ]
  },
  {
   "cell_type": "code",
   "execution_count": 10,
   "id": "83598b5d",
   "metadata": {},
   "outputs": [
    {
     "name": "stdout",
     "output_type": "stream",
     "text": [
      "{'PROX.BR', 'CS.PA', 'EDF.PA', 'TTE.PA', 'DTG.DE', 'FORTUM.HE', 'TKA.VI', 'ASML.AS', 'RACE.MI', 'SU.PA', 'KBC.BR', 'RBI.VI', 'EBS.VI', 'AMP.MI', 'REP.MC', 'TEF.MC', 'CNHI.MI', 'ATS.VI', 'LIN.DE', 'BMW.DE', 'HEN.DE', 'IAG.MC', 'MRK.DE', 'ABI.BR', 'MRL.MC', 'KER.PA', 'RYA.IR', 'AIR.PA', 'ALV.DE', 'NEXI.MI', 'PHIA.AS', 'VNA.DE', 'REN.AS', 'NOS.LS', 'IIA.VI', 'SAN.MC', 'UNA.AS', 'SHELL.AS', 'ISP.MI', 'EOAN.DE', 'INGA.AS', 'SON.LS', 'UBI.PA', 'VER.VI', 'AMS.MC', 'NESN.SW', 'ARGX.BR', 'EDP.LS', 'DTE.DE', 'VIV.PA', 'UMG.AS', 'SAN.PA', 'ENEL.MI', 'ZAL.DE', 'SAP.DE', 'JMT.LS', 'SHL.DE', 'BBVA.MC', 'PRX.AS', 'EVN.VI', 'NOKIA.HE', 'SIE.DE', 'IBE.MC', 'IFX.DE', 'HO.PA', 'UPM.HE', 'ETE.AT', 'AI.PA', 'AD.AS', 'CA.PA', 'BIRG.IR', 'BNP.PA', 'STM.MI', 'BAS.DE', 'BN.PA', 'LHA.DE', 'ITX.MC', 'UCB.BR', 'ORA.PA', 'WDP.BR', 'TEN.MI', 'PPC.AT', 'ENI.MI', 'BAYN.DE', 'MC.PA', 'GALP.LS'}\n"
     ]
    },
    {
     "data": {
      "text/plain": [
       "86"
      ]
     },
     "execution_count": 10,
     "metadata": {},
     "output_type": "execute_result"
    }
   ],
   "source": [
    "vnames = set(qgrid_widget.get_changed_df()['Ticker'].to_numpy()[qgrid_widget.get_changed_df()['Sel'].to_numpy()].tolist())\n",
    "print(vnames)\n",
    "len(vnames)"
   ]
  },
  {
   "cell_type": "code",
   "execution_count": null,
   "id": "0ef3918f",
   "metadata": {},
   "outputs": [],
   "source": []
  },
  {
   "cell_type": "code",
   "execution_count": null,
   "id": "1dba0782",
   "metadata": {},
   "outputs": [],
   "source": []
  },
  {
   "cell_type": "code",
   "execution_count": null,
   "id": "e4c6b280",
   "metadata": {},
   "outputs": [],
   "source": []
  }
 ],
 "metadata": {
  "kernelspec": {
   "display_name": "Python 3 (ipykernel)",
   "language": "python",
   "name": "python3"
  },
  "language_info": {
   "codemirror_mode": {
    "name": "ipython",
    "version": 3
   },
   "file_extension": ".py",
   "mimetype": "text/x-python",
   "name": "python",
   "nbconvert_exporter": "python",
   "pygments_lexer": "ipython3",
   "version": "3.9.12"
  }
 },
 "nbformat": 4,
 "nbformat_minor": 5
}
