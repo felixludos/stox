{
 "cells": [
  {
   "cell_type": "code",
   "execution_count": 1,
   "metadata": {
    "collapsed": true
   },
   "outputs": [],
   "source": [
    "from tqdm import tqdm\n",
    "from src import yahoo, optim, common"
   ]
  },
  {
   "cell_type": "code",
   "execution_count": 2,
   "outputs": [],
   "source": [
    "tknames = ['ABI.BR', 'EBS.VI', 'EDP.LS', 'ASML.AS', 'IBE.MC', 'EDPR.LS', 'SAN.MC', 'ENEL.MI', 'OMV.VI', 'ISP.MI', 'MC.PA', 'BBVA.MC', 'KBC.BR', 'VER.VI', 'PRX.AS', 'STLA.MI', 'ENI.MI', 'SAP.DE', 'SIE.DE', 'INGA.AS', 'TTE.PA', 'ALV.DE', 'UCB.BR', 'SAN.PA', 'ARGX.BR', 'UCG.MI', 'OR.PA', 'GALP.LS', 'JMT.LS', 'ADYEN.AS', 'CABK.MC', 'TEF.MC', 'RENE.LS', 'NVG.LS', 'SON.LS', 'REP.MC', 'BAS.DE', 'AD.AS', 'G.MI', 'SU.PA', 'NOS.LS', 'BCP.LS', 'DAI.DE', 'ANDR.VI', 'BG.VI', 'CTT.LS', 'AMS.MC', 'GBLB.BR', 'AENA.MC', 'WIE.VI', 'VOE.VI', 'ALTR.LS', 'DSM.AS', 'SOLB.BR', 'DTE.DE', 'FER.MC', 'AI.PA', 'BNP.PA', 'RACE.MI', 'BAYN.DE', 'DPW.DE', 'COR.LS', 'RBI.VI', 'AIR.PA', 'ITX.MC', 'CNHI.MI', 'PHIA.AS', 'AGS.BR', 'WKL.AS', 'IFX.DE', 'CLNX.MC', 'IIA.VI', 'ADS.DE', 'HEIA.AS', 'MONC.MI', 'REE.MC', 'UMI.BR', 'SOF.BR', 'CS.PA', 'ELE.MC', 'WDP.BR', 'NTGY.MC', 'SRG.MI', 'DG.PA', 'MUV2.DE', 'TRN.MI', 'AKZA.AS', 'KER.PA', 'VNA.DE', 'LNZ.VI', 'ACS.MC', 'EL.PA', 'CAI.VI', 'TKA.VI', 'VOW3.DE', 'POST.VI', 'EXO.MI', 'FBK.MI', 'ATL.MI', 'ACKB.BR', 'RMS.PA', 'GRF.MC', 'ASM.AS', 'NN.AS', 'SGRE.MC', 'BMW.DE', 'PRY.MI', 'RI.PA', 'DB1.DE', 'ENG.MC', 'ELI.BR', 'SEM.LS', 'SPI.VI', 'UQA.VI', 'ATS.VI', 'VIG.VI', 'AED.BR', 'SAF.PA', 'EOAN.DE', 'GVOLT.LS', 'UMG.AS', 'BN.PA', 'COFB.BR', 'MB.MI', 'DIE.BR', 'EVN.VI', 'PST.MI', 'DBK.DE', 'MRK.DE', 'CPR.MI', 'NEXI.MI', 'RWE.DE', 'CAP.PA', 'TEN.MI', 'CCEP.AS', 'SGO.PA', 'KPN.AS', 'PROX.BR', 'REC.MI', 'DSY.PA', 'STM.PA', 'DOC.VI', 'AGN.AS', 'AMP.MI', 'GLE.PA', 'IMCD.AS', 'TIT.MI', 'ML.PA', 'ENGI.PA', 'LR.PA', 'AER.AS', 'EGL.LS', 'TKWY.AS', 'HEIO.AS', 'SHL.DE', 'VIE.PA', 'COLR.BR', 'SBO.VI', 'ORA.PA', 'VGP.BR', 'RAND.AS', 'ABN.AS', 'ZAL.DE', 'MELE.BR', 'DIA.MI', 'FRE.DE', 'PAL.VI', 'TEP.PA', 'INW.MI', 'LIGHT.AS', 'ASRNL.AS', 'BESI.AS', 'SY1.DE', 'AALB.AS', 'TNET.BR', 'DTG.DE', 'HEN3.DE', 'BEKB.BR', 'KBCA.BR', 'PAH3.DE', 'SRT3.DE', 'FME.DE', 'ACA.PA', 'IBS.LS', 'EURN.BR', 'SEM.VI', 'BNR.DE', 'MONT.BR', 'DHER.DE', 'HNR1.DE', 'BAR.BR', 'POS.VI', 'AGR.VI', 'ZAG.VI', 'PUB.PA', '1COV.DE', 'QGEN.DE', 'MTX.DE', 'PUM.DE', 'HFG.DE', 'FACC.VI', 'GIMB.BR', 'CON.DE', 'XIOR.BR', 'HEI.DE', 'ARCAD.AS', 'CFEB.BR', 'ERF.PA', 'NBA.LS', 'PHR.LS', 'BEI.DE', 'LEG.DE', 'FAGR.BR', 'OCI.AS', 'VOW.DE', 'DIM.PA', 'XTSLA.PA', 'BFIT.AS', 'CA.PA', 'SNC.LS', 'ENR.DE', 'WLN.PA', 'CBK.DE', 'KIN.BR', 'INTER.AS', 'XTSLA.MC', 'HEN.DE', 'TWEKA.AS', 'ACCEL.AS', 'REC.BR', 'BEFB.BR', 'PNL.AS', 'EDEN.PA', 'RET.BR', 'RAM.LS', 'SBMO.AS', 'ALO.PA', 'VIV.PA', 'VPK.AS', 'HO.PA', 'KBX.DE', 'JDEP.AS', 'BOKA.AS', 'CRBN.AS', 'G1A.DE', 'URW.PA', 'EVK.DE', 'BPOST.BR', 'AKE.PA', 'TESB.BR', 'INTO.BR', 'KGX.DE', 'ECMPA.AS', 'FGR.PA', 'AFX.DE', 'BVI.PA', 'BAMNB.AS', 'ENX.PA', 'SW.PA', 'AT1.DE', 'AGFB.BR', 'AMG.AS', 'EN.PA', 'ECONB.BR', 'FLOW.AS', 'RNO.PA', 'ALFEN.AS', 'NEM.DE', 'G24.DE', 'GET.PA', 'MITRA.BR', 'NSI.AS', 'LXS.DE', 'BMW3.DE', 'ONTEX.BR', 'VLK.AS', 'BC8.DE', 'IMMO.BR', 'FUR.AS', 'AC.PA', 'FR.PA', 'GFC.PA', 'LHA.DE', 'HTOO.LS', 'TOM2.AS', 'INPST.AS', 'IBAB.BR', 'SHUR.BR', 'SLIGR.AS', 'RAA.DE', 'UN01.DE', 'OBEL.BR', 'VAN.BR', 'PHARM.AS', 'UBI.PA', 'LI.PA', 'UTDI.DE', 'EO.PA', 'WHA.AS', 'BIM.PA', 'RCO.PA', 'BOL.PA', 'AMUN.PA', 'SEV.PA', 'EDF.PA', 'CNP.PA', 'COV.PA', 'ADP.PA', 'SK.PA', 'O2D.DE', 'FPE3.DE', 'FDJ.PA', 'IPN.PA', 'RF.PA', 'CMCOM.AS', 'VASTN.AS', 'MF.PA', 'AM.PA', 'BRNL.AS', 'ORP.PA', 'BSGR.AS', 'FAST.AS', 'FFARM.AS', 'SIFG.AS',\n",
    "          'NESN.SW', 'IIA.VI', ]\n",
    "tknames = list(set(tknames))\n",
    "\n",
    "bad = {'REE.MC', 'EXO.MI', 'CNP.PA', 'BOKA.AS', 'ATL.MI', 'AENA.MC', 'ACCEL.AS', 'QGEN.DE', 'AER.AS', 'XTSLA.PA', 'XTSLA.MC', 'URW.PA', 'HTOO.LS', 'ELE.MC', 'DAI.DE', 'SEV.PA'}#'DTG.DE'}\n",
    "tknames = [t for t in tknames if t not in bad]\n",
    "tknames = sorted(tknames)\n"
   ],
   "metadata": {
    "collapsed": false
   }
  },
  {
   "cell_type": "code",
   "execution_count": 3,
   "outputs": [],
   "source": [
    "# # date = '220420'\n",
    "# date = '221219'\n",
    "# # date = None\n",
    "#\n",
    "# full = [yahoo.download(t, date=date, pbar=None) for t in tqdm(tknames, desc='Tickers')]\n",
    "# fulltks = {t.ticker:t for t in full}\n",
    "# find = common.make_find(full)"
   ],
   "metadata": {
    "collapsed": false
   }
  },
  {
   "cell_type": "code",
   "execution_count": 120,
   "outputs": [],
   "source": [
    "raw = '''IBE\t15.61\n",
    "ITX\t11.63\n",
    "SAN\t11.19\n",
    "BBVA\t6.96\n",
    "AMS\t5.99\n",
    "TEF\t4.98\n",
    "CLNX\t3.87\n",
    "AENA\t3.78\n",
    "REP\t3.73\n",
    "FER\t3.44\n",
    "CABK\t3.43\n",
    "IAG\t2.68\n",
    "ELE\t2.09\n",
    "GRF\t2.08\n",
    "ACS\t1.88\n",
    "NTGY\t1.79\n",
    "REE\t1.76\n",
    "SGRE\t1.69\n",
    "MTS\t1.14\n",
    "BKT\t1.12\n",
    "ENG\t1.05\n",
    "ANA\t0.99\n",
    "MRL\t0.93\n",
    "MAP\t0.74\n",
    "ACX\t0.63\n",
    "SAB\t0.59\n",
    "COL\t0.56\n",
    "SLR\t0.49\n",
    "PHM\t0.42\n",
    "IDR\t0.30\n",
    "MEL\t0.27'''.split('\\n')\n",
    "\n"
   ],
   "metadata": {
    "collapsed": false
   }
  },
  {
   "cell_type": "code",
   "execution_count": 121,
   "outputs": [
    {
     "data": {
      "text/plain": "{'IBE': 15.61,\n 'ITX': 11.63,\n 'SAN': 11.19,\n 'BBVA': 6.96,\n 'AMS': 5.99,\n 'TEF': 4.98,\n 'CLNX': 3.87,\n 'AENA': 3.78,\n 'REP': 3.73,\n 'FER': 3.44,\n 'CABK': 3.43,\n 'IAG': 2.68,\n 'ELE': 2.09,\n 'GRF': 2.08,\n 'ACS': 1.88,\n 'NTGY': 1.79,\n 'REE': 1.76,\n 'SGRE': 1.69,\n 'MTS': 1.14,\n 'BKT': 1.12,\n 'ENG': 1.05,\n 'ANA': 0.99,\n 'MRL': 0.93,\n 'MAP': 0.74,\n 'ACX': 0.63,\n 'SAB': 0.59,\n 'COL': 0.56,\n 'SLR': 0.49,\n 'PHM': 0.42,\n 'IDR': 0.3,\n 'MEL': 0.27}"
     },
     "execution_count": 121,
     "metadata": {},
     "output_type": "execute_result"
    }
   ],
   "source": [
    "tbl = {}\n",
    "for line in raw:\n",
    "    try:\n",
    "        terms = line.split('\\t')\n",
    "        tk = terms[0]\n",
    "        wt = float(terms[-1])\n",
    "\n",
    "        tbl[tk] = wt\n",
    "    except:\n",
    "        pass\n",
    "tbl"
   ],
   "metadata": {
    "collapsed": false
   }
  },
  {
   "cell_type": "code",
   "execution_count": 128,
   "outputs": [],
   "source": [
    "extras = ['LIN.DE', 'MBG.DE', 'UNA.AS', 'SHELL.AS', 'REN.AS', 'MT.AS', 'URW.AS',\n",
    "          'AENA.MC', 'IAG.MC', 'ELE.MC',\n",
    "          'REE.MC', #'RED.MC',\n",
    "          'MTS.MC', 'BKT.MC', 'ANA.MC', 'MRL.MC', 'MAP.MC', 'ACX.MC', 'SAB.MC', 'COL.MC', 'SLR.MC',\n",
    "          'PHM.MC', 'IDR.MC', 'MEL.MC',\n",
    "          ]\n",
    "fixer = common.make_fix_ticker(*tknames, *extras)"
   ],
   "metadata": {
    "collapsed": false
   }
  },
  {
   "cell_type": "code",
   "execution_count": 129,
   "outputs": [
    {
     "data": {
      "text/plain": "(31, 97.81, 0, [])"
     },
     "execution_count": 129,
     "metadata": {},
     "output_type": "execute_result"
    }
   ],
   "source": [
    "fixed = {}\n",
    "bad = []\n",
    "\n",
    "for tk, q in tbl.items():\n",
    "    try:\n",
    "        fixed[fixer(tk)] = q\n",
    "    except KeyError:\n",
    "        bad.append(tk)\n",
    "len(fixed), sum(fixed.values()), len(bad), bad"
   ],
   "metadata": {
    "collapsed": false
   }
  },
  {
   "cell_type": "code",
   "execution_count": 130,
   "outputs": [
    {
     "name": "stdout",
     "output_type": "stream",
     "text": [
      "{'IBE.MC': 15.61, 'ITX.MC': 11.63, 'SAN.PA': 11.19, 'BBVA.MC': 6.96, 'AMS.MC': 5.99, 'TEF.MC': 4.98, 'CLNX.MC': 3.87, 'AENA.MC': 3.78, 'REP.MC': 3.73, 'FER.MC': 3.44, 'CABK.MC': 3.43, 'IAG.MC': 2.68, 'ELE.MC': 2.09, 'GRF.MC': 2.08, 'ACS.MC': 1.88, 'NTGY.MC': 1.79, 'REE.MC': 1.76, 'SGRE.MC': 1.69, 'MTS.MC': 1.14, 'BKT.MC': 1.12, 'ENG.MC': 1.05, 'ANA.MC': 0.99, 'MRL.MC': 0.93, 'MAP.MC': 0.74, 'ACX.MC': 0.63, 'SAB.MC': 0.59, 'COL.MC': 0.56, 'SLR.MC': 0.49, 'PHM.MC': 0.42, 'IDR.MC': 0.3, 'MEL.MC': 0.27}\n"
     ]
    }
   ],
   "source": [
    "print(fixed)"
   ],
   "metadata": {
    "collapsed": false
   }
  },
  {
   "cell_type": "code",
   "execution_count": 45,
   "outputs": [],
   "source": [
    "# from difflib import get_close_matches\n",
    "# def match_strings(list1, list2):\n",
    "#     matches = []\n",
    "#     for s1 in list1:\n",
    "#         closest_match = get_close_matches(s1, list2, n=1, cutoff=0.5)[0]\n",
    "#         matches.append((s1, closest_match))\n",
    "#     return matches\n",
    "\n",
    "from fuzzywuzzy import process\n",
    "\n",
    "def match_strings(list1, list2):\n",
    "    matches = []\n",
    "    for s1 in list1:\n",
    "        closest_match = process.extractOne(s1, list2)[0]\n",
    "        matches.append((s1, closest_match))\n",
    "    return matches\n",
    "\n",
    "import copy\n",
    "from fuzzywuzzy import process\n",
    "\n",
    "def match_strings(list1, list2):\n",
    "    matches = []\n",
    "    used_strings = []\n",
    "    for s1 in list1:\n",
    "        closest_match = process.extractOne(s1, list2)[0]\n",
    "        if closest_match in used_strings:\n",
    "            # find the next best match that hasn't been used\n",
    "            options = copy.copy(list2)\n",
    "            options.remove(closest_match)\n",
    "            closest_match = process.extractOne(s1, options)[0]\n",
    "        used_strings.append(closest_match)\n",
    "        matches.append((s1, closest_match))\n",
    "    return matches\n",
    "\n",
    "from fuzzywuzzy import fuzz\n",
    "\n",
    "def match_strings(list1, list2):\n",
    "    matches = []\n",
    "    used_strings = set()\n",
    "    for s1 in list1:\n",
    "        closest_match = None\n",
    "        max_score = 0\n",
    "        for s2 in list2:\n",
    "            if s2 in used_strings:\n",
    "                continue\n",
    "            # score = process.\n",
    "            score = fuzz.token_sort_ratio(s1, s2)\n",
    "            if score > max_score:\n",
    "                max_score = score\n",
    "                closest_match = s2\n",
    "        if closest_match:\n",
    "            used_strings.add(closest_match)\n",
    "            matches.append((s1, closest_match))\n",
    "    return matches"
   ],
   "metadata": {
    "collapsed": false
   }
  },
  {
   "cell_type": "code",
   "execution_count": 93,
   "outputs": [],
   "source": [
    "wts = '''Erste Group Bank AG\t16,52\n",
    "OMV AG\t11,83\n",
    "Verbund AG\t8,89\n",
    "Voestalpine AG\t7,94\n",
    "Wienerberger AG\t7,61\n",
    "BAWAG Group AG\t6,56\n",
    "Raiffeisen Bank International AG\t6,56\n",
    "Andritz AG\t5,56\n",
    "CA Immobilien Anlagen AG\t5,31\n",
    "Mayr-Melnhof Karton AG\t4,34\n",
    "Immofinanz AG\t3,41\n",
    "Österreichische Post AG\t2,78\n",
    "Vienna Insurance Group AG\t2,28\n",
    "Uniqa Insurance Group AG\t1,84\n",
    "S IMMO AG\t1,83\n",
    "Lenzing AG\t1,72\n",
    "Austria Technologie & Systemtechnik AG\t1,25\n",
    "Schoeller-Bleckmann Oilfield Equipment AG\t0,72\n",
    "Do & Co\t0,70'''.split('\\n')\n",
    "wts = dict([link.split('\\t') for link in wts])\n",
    "wts = {k: float(v.replace(',', '.')) for k,v in wts.items()}\n",
    "\n",
    "links = '''Vienna Insurance Group AG\tVIG.VI\n",
    "Strabag SE\tSTR.VI\n",
    "IMMOFINANZ AG\tIIA.VI\n",
    "DO & CO Aktiengesellschaft\tDOC.VI\n",
    "UNIQA Insurance Group AG\tUQA.VI\n",
    "Schoeller-Bleckmann Oilfield Equipment Aktiengesellschaft\tSBO.VI\n",
    "VERBUND AG\tVER.VI\n",
    "Andritz AG\tANDR.VI\n",
    "Wienerberger AG\tWIE.VI\n",
    "Erste Group Bank AG\tEBS.VI\n",
    "Mayr-Melnhof Karton AG\tMMK.VI\n",
    "Raiffeisen Bank International AG\tRBI.VI\n",
    "Voestalpine AG\tVOE.VI\n",
    "BAWAG Group AG\tBG.VI\n",
    "EVN AG\tEVN.VI\n",
    "OMV Aktiengesellschaft\tOMV.VI\n",
    "AT & S Austria Technologie & Systemtechnik Aktiengesellschaft\tATS.VI\n",
    "CA Immobilien Anlagen AG\tCAI.VI\n",
    "Lenzing Aktiengesellschaft\tLNZ.VI\n",
    "Österreichische Post AG\tPOST.VI'''.split('\\n')\n",
    "links = dict([link.split('\\t') for link in links])\n",
    "# links"
   ],
   "metadata": {
    "collapsed": false
   }
  },
  {
   "cell_type": "code",
   "execution_count": 94,
   "outputs": [
    {
     "data": {
      "text/plain": "(20, 19)"
     },
     "execution_count": 94,
     "metadata": {},
     "output_type": "execute_result"
    }
   ],
   "source": [
    "len(links), len(wts)"
   ],
   "metadata": {
    "collapsed": false
   }
  },
  {
   "cell_type": "code",
   "execution_count": 99,
   "outputs": [
    {
     "data": {
      "text/plain": "19"
     },
     "execution_count": 99,
     "metadata": {},
     "output_type": "execute_result"
    }
   ],
   "source": [
    "matches = sorted(match_strings(list(wts), list(links)))\n",
    "len(matches)\n",
    "# matches"
   ],
   "metadata": {
    "collapsed": false
   }
  },
  {
   "cell_type": "code",
   "execution_count": 96,
   "outputs": [],
   "source": [
    "matches = [\n",
    "    ('Andritz AG', 'Andritz AG'),\n",
    " ('Austria Technologie & Systemtechnik AG',\n",
    "  'AT & S Austria Technologie & Systemtechnik Aktiengesellschaft'),\n",
    " ('BAWAG Group AG', 'BAWAG Group AG'),\n",
    " ('CA Immobilien Anlagen AG', 'CA Immobilien Anlagen AG'),\n",
    " ('Do & Co', 'DO & CO Aktiengesellschaft'),\n",
    " ('Erste Group Bank AG', 'Erste Group Bank AG'),\n",
    " ('Immofinanz AG', 'IMMOFINANZ AG'),\n",
    " ('Lenzing AG', 'Lenzing Aktiengesellschaft'),\n",
    " ('Mayr-Melnhof Karton AG', 'Mayr-Melnhof Karton AG'),\n",
    " ('OMV AG', 'OMV Aktiengesellschaft'),\n",
    " ('Raiffeisen Bank International AG', 'Raiffeisen Bank International AG'),\n",
    " ('Schoeller-Bleckmann Oilfield Equipment AG',\n",
    "  'Schoeller-Bleckmann Oilfield Equipment Aktiengesellschaft'),\n",
    " ('Uniqa Insurance Group AG', 'UNIQA Insurance Group AG'),\n",
    " ('Verbund AG', 'VERBUND AG'),\n",
    " ('Vienna Insurance Group AG', 'Vienna Insurance Group AG'),\n",
    " ('Voestalpine AG', 'Voestalpine AG'),\n",
    " ('Wienerberger AG', 'Wienerberger AG'),\n",
    " ('Österreichische Post AG', 'Österreichische Post AG'),\n",
    "\n",
    "\n",
    " # ('S IMMO AG', 'EVN AG'),\n",
    "           ]\n",
    "\n",
    "\n",
    " # ('JUVENTUS FOOTBALL CLUB', 'Stellantis'),\n",
    " # ('SALVATORE FERRAGAMO S.P..', 'Iveco Group'),\n",
    "# Banca Generali\n",
    "\n",
    " # ('ACCOR', 'Alstom'),\n",
    " # ('ATOS SE', 'Stellantis'),\n",
    " # ('SODEXO', 'Worldline'),\n"
   ],
   "metadata": {
    "collapsed": false
   }
  },
  {
   "cell_type": "code",
   "execution_count": 100,
   "outputs": [],
   "source": [
    "manual = {'SPI.VI': 1.83, }"
   ],
   "metadata": {
    "collapsed": false
   }
  },
  {
   "cell_type": "code",
   "execution_count": 103,
   "outputs": [],
   "source": [
    "fixed = {}\n",
    "for m1, m2 in sorted(matches, key=lambda m: wts[m[0]]):\n",
    "    fixed[links[m2]] = wts[m1]#*100\n",
    "fixed.update(manual)"
   ],
   "metadata": {
    "collapsed": false
   }
  },
  {
   "cell_type": "code",
   "execution_count": 104,
   "outputs": [
    {
     "data": {
      "text/plain": "(20, 99.47999999999999)"
     },
     "execution_count": 104,
     "metadata": {},
     "output_type": "execute_result"
    }
   ],
   "source": [
    "len(fixed), sum(fixed.values())"
   ],
   "metadata": {
    "collapsed": false
   }
  },
  {
   "cell_type": "code",
   "execution_count": 108,
   "outputs": [
    {
     "data": {
      "text/plain": "{'ABI.BR': 11.89,\n 'ARGX.BR': 11.76,\n 'KBC.BR': 11.75,\n 'UCB.BR': 9.18,\n 'GBLB.BR': 7.4,\n 'UMI.BR': 6.75,\n 'AGS.BR': 6.44,\n 'SOLB.BR': 6.05,\n 'ELI.BR': 4.34,\n 'DIE.BR': 3.45,\n 'WDP.BR': 3.36,\n 'ACKB.BR': 2.93,\n 'SOF.BR': 2.91,\n 'AED.BR': 2.74,\n 'COFB.BR': 2.46,\n 'GLPG.AS': 1.88,\n 'PROX.BR': 1.46,\n 'COLR.BR': 1.24,\n 'APAM.AS': 1.23,\n 'VGP.BR': 0.8}"
     },
     "execution_count": 108,
     "metadata": {},
     "output_type": "execute_result"
    }
   ],
   "source": [
    "ordered = {k:v for k,v in sorted(wts.items(), key= lambda i: i[1], reverse=True)}\n",
    "ordered"
   ],
   "metadata": {
    "collapsed": false
   }
  },
  {
   "cell_type": "code",
   "execution_count": 109,
   "outputs": [
    {
     "name": "stdout",
     "output_type": "stream",
     "text": [
      "{'ABI.BR': 11.89, 'ARGX.BR': 11.76, 'KBC.BR': 11.75, 'UCB.BR': 9.18, 'GBLB.BR': 7.4, 'UMI.BR': 6.75, 'AGS.BR': 6.44, 'SOLB.BR': 6.05, 'ELI.BR': 4.34, 'DIE.BR': 3.45, 'WDP.BR': 3.36, 'ACKB.BR': 2.93, 'SOF.BR': 2.91, 'AED.BR': 2.74, 'COFB.BR': 2.46, 'GLPG.AS': 1.88, 'PROX.BR': 1.46, 'COLR.BR': 1.24, 'APAM.AS': 1.23, 'VGP.BR': 0.8}\n"
     ]
    }
   ],
   "source": [
    "print(ordered)"
   ],
   "metadata": {
    "collapsed": false
   }
  },
  {
   "cell_type": "code",
   "execution_count": 65,
   "outputs": [
    {
     "name": "stdout",
     "output_type": "stream",
     "text": [
      "{'EN.PA': 0.65, 'MT.AS': 0.69, 'CA.PA': 0.76, 'PUB.PA': 0.76, 'TEP.PA': 0.78, 'RNO.PA': 0.8199999999999998, 'STM.PA': 0.9000000000000001, 'HO.PA': 0.9399999999999998, 'ACA.PA': 0.97, 'VIE.PA': 1.02, 'ML.PA': 1.31, 'RMS.PA': 1.35, 'SGO.PA': 1.39, 'LR.PA': 1.39, 'DSY.PA': 1.4, 'URW.AS': 1.42, 'CAP.PA': 1.43, 'GLE.PA': 1.45, 'VIV.PA': 1.9299999999999997, 'ENGI.PA': 2.06, 'ORA.PA': 2.24, 'KER.PA': 2.69, 'RI.PA': 2.73, 'EL.PA': 3.3300000000000005, 'CS.PA': 3.45, 'SAF.PA': 3.56, 'SU.PA': 3.5699999999999994, 'BNP.PA': 3.81, 'DG.PA': 3.8599999999999994, 'BN.PA': 4.33, 'AI.PA': 4.42, 'OR.PA': 5.03, 'AIR.PA': 5.97, 'SAN.PA': 7.24, 'MC.PA': 8.2, 'TTE.PA': 9.27}\n"
     ]
    }
   ],
   "source": [
    "print(fixed)"
   ],
   "metadata": {
    "collapsed": false
   }
  },
  {
   "cell_type": "code",
   "execution_count": 107,
   "outputs": [],
   "source": [
    "wts = '''ABI.BR\t11,89\n",
    "ARGX.BR\t11,76\n",
    "KBC.BR\t11,75\n",
    "UCB.BR\t9,18\n",
    "GBLB.BR\t7,40\n",
    "UMI.BR\t6,75\n",
    "AGS.BR\t6,44\n",
    "SOLB.BR\t6,05\n",
    "ELI.BR\t4,34\n",
    "DIE.BR\t3,45\n",
    "WDP.BR\t3,36\n",
    "ACKB.BR\t2,93\n",
    "SOF.BR\t2,91\n",
    "AED.BR\t2,74\n",
    "COFB.BR\t2,46\n",
    "GLPG.AS\t1,88\n",
    "PROX.BR\t1,46\n",
    "COLR.BR\t1,24\n",
    "APAM.AS\t1,23\n",
    "VGP.BR\t0,80'''.replace(',', '.').split('\\n')\n",
    "wts = dict([link.split('\\t') for link in wts])\n",
    "wts = {k: float(v.replace(',', '.')) for k,v in wts.items()}"
   ],
   "metadata": {
    "collapsed": false
   }
  },
  {
   "cell_type": "code",
   "execution_count": null,
   "outputs": [],
   "source": [],
   "metadata": {
    "collapsed": false
   }
  },
  {
   "cell_type": "code",
   "execution_count": null,
   "outputs": [],
   "source": [],
   "metadata": {
    "collapsed": false
   }
  },
  {
   "cell_type": "code",
   "execution_count": 24,
   "outputs": [],
   "source": [
    "import requests\n",
    "from bs4 import BeautifulSoup\n",
    "\n",
    "def get_ticker_from_name(company_name):\n",
    "    # Use Yahoo Finance's search function to find the company's page\n",
    "    search_url = f'https://finance.yahoo.com/search?q={company_name}'\n",
    "    search_page = requests.get(search_url)\n",
    "    search_soup = BeautifulSoup(search_page.text, 'html.parser')\n",
    "\n",
    "    # Find the ticker symbol in the search results\n",
    "    search_results = search_soup.find_all('div', class_='D(ib) W(1/2) Pend(8px)')\n",
    "    for result in search_results:\n",
    "        # Check if the result is for a company (as opposed to a person or something else)\n",
    "        if 'Ticker' in result.text:\n",
    "            ticker = result.find('h3').text\n",
    "            return ticker\n",
    "\n",
    "# Example usage:\n",
    "company_name = 'Microsoft Corporation'\n",
    "ticker = get_ticker_from_name(company_name)"
   ],
   "metadata": {
    "collapsed": false
   }
  },
  {
   "cell_type": "code",
   "execution_count": 25,
   "outputs": [
    {
     "data": {
      "text/plain": "39"
     },
     "execution_count": 25,
     "metadata": {},
     "output_type": "execute_result"
    }
   ],
   "source": [
    "keys = list(wts)\n",
    "len(keys)"
   ],
   "metadata": {
    "collapsed": false
   }
  },
  {
   "cell_type": "code",
   "execution_count": 28,
   "outputs": [
    {
     "data": {
      "text/plain": "'TOTALENERGIES SE'"
     },
     "execution_count": 28,
     "metadata": {},
     "output_type": "execute_result"
    }
   ],
   "source": [
    "name = keys[0]\n",
    "name"
   ],
   "metadata": {
    "collapsed": false
   }
  },
  {
   "cell_type": "code",
   "execution_count": 30,
   "outputs": [],
   "source": [
    "get_ticker_from_name(name.capitalize())"
   ],
   "metadata": {
    "collapsed": false
   }
  },
  {
   "cell_type": "code",
   "execution_count": 1,
   "outputs": [],
   "source": [
    "from src.common import EURO_EX"
   ],
   "metadata": {
    "collapsed": false
   }
  },
  {
   "cell_type": "code",
   "execution_count": 2,
   "outputs": [
    {
     "data": {
      "text/plain": "dict_keys(['DAX', 'CAC', 'MIB', 'AEX', 'ATX', 'BEL', 'IBEX', 'PSI', 'OMXH', 'ATHEX', 'ISE'])"
     },
     "execution_count": 2,
     "metadata": {},
     "output_type": "execute_result"
    }
   ],
   "source": [
    "EURO_EX.keys()"
   ],
   "metadata": {
    "collapsed": false
   }
  },
  {
   "cell_type": "code",
   "execution_count": 3,
   "outputs": [
    {
     "data": {
      "text/plain": "271"
     },
     "execution_count": 3,
     "metadata": {},
     "output_type": "execute_result"
    }
   ],
   "source": [
    "ex_tks = {tk for tks in EURO_EX.values() for tk in tks}\n",
    "len(ex_tks)"
   ],
   "metadata": {
    "collapsed": false
   }
  },
  {
   "cell_type": "code",
   "execution_count": 4,
   "outputs": [
    {
     "name": "stdout",
     "output_type": "stream",
     "text": [
      "{'RWE.DE', 'PIRC.MI', 'VGR.LS', 'ALV.DE', 'CLNX.MC', 'TRQ.LS', 'INGA.AS', 'DSY.PA', 'JUMBO.AT', 'ETE.AT', 'BEI.DE', 'SAF.PA', 'HO.PA', 'NRE1V.HE', 'UCG.MI', 'IIA.VI', 'ELE.MC', 'AEGN.AT', 'AI.PA', 'FOLLI.AT', 'ALPHA.AT', 'AED.BR', 'DTE.DE', 'OTE.AT', 'KBC.BR', 'JUVE.MI', 'FER.MC', 'ZAL.DE', 'HEI.DE', 'OR.PA', 'DSM.AS', 'SEM.LS', 'DTG.DE', 'AGN.AS', 'BAMI.MI', 'SIE.DE', 'TTE.PA', 'ANA.MC', 'ACC.LS', 'ENI.MI', 'BZU.MI', 'CA.PA', 'DIA.MI', 'ANDR.VI', 'METSO.HE', 'MYTIL.AT', 'LIGHT.AS', 'SRT3.DE', 'MAP.MC', 'CTT.LS', 'SHELL.AS', 'AGS.BR', 'REP.MC', 'DG.PA', 'ORA.PA', 'ACKB.BR', 'SAP.DE', 'IFX.DE', 'HEN3.DE', 'KPN.AS', 'ENGI.PA', 'LDO.MI', 'ITX.MC', 'SGRE.MC', 'COL.MC', 'UCB.BR', 'ML.PA', 'PROX.BR', 'PAH3.DE', 'MUV2.DE', 'MOTOR.AT', 'AMP.MI', 'IVG.MI', 'HEIA.AS', 'STLA.MI', 'ORION.HE', 'ACA.PA', 'ENG.MC', 'SON.LS', 'PUB.PA', 'TEF.MC', 'FRIGO.AT', 'BNR.DE', 'RMS.PA', 'KER.PA', 'PST.MI', 'FBK.MI', 'SPM.MI', 'PRY.MI', 'OMV.VI', 'VGP.BR', 'PPC.AT', 'TKWY.AS', 'NTGY.MC', 'BIRG.IR', 'DOC.VI', 'BESI.AS', 'SRV1V.HE', 'CPR.MI', 'POST.VI', 'EL.PA', 'OUT1V.HE', 'IBE.MC', 'OTE1V.HE', 'TUI.AT', 'AKZA.AS', 'GLPG.AS', 'BKT.MC', 'CNHI.MI', 'IAG.MC', 'HER.MI', 'ACS.MC', 'SONI.LS', 'BN.PA', 'URW.AS', 'CAI.VI', 'STM.MI', 'PRX.AS', 'SHL.DE', 'UNI.MI', 'VIG.VI', 'SPI.VI', 'NOS.LS', 'ALT.LS', 'FID.LS', 'MRL.MC', 'MC.PA', 'ELI.BR', 'JMT.LS', 'EN.PA', 'FRE.DE', 'EXAE.AT', 'RACE.MI', 'IBS.LS', 'KEMIRA.HE', 'SY1.DE', 'ABI.BR', 'EYATH.AT', 'MB.MI', 'KNEBV.HE', 'NOKIA.HE', 'ENR.DE', 'STERV.HE', 'VIE.PA', 'REN.AS', 'FIA1S.HE', 'CABK.MC', 'LAMDA.AT', 'SGO.PA', 'FISKARS.HE', 'SAB.MC', 'SOLB.BR', 'ACX.MC', 'TEN.MI', 'NEXI.MI', 'CS.PA', 'EDP.LS', 'COFB.BR', 'SBO.VI', 'HELPE.AT', 'BGN.MI', 'SRG.MI', 'SFER.MI', 'MBG.DE', 'APAM.AS', 'SU.PA', 'EFACEC.LS', 'VNA.DE', 'COLR.BR', 'MTX.DE', 'RI.PA', 'TERNA.AT', 'ARGX.BR', 'NAV.LS', 'ASML.AS', 'TIT.MI', 'HNR1.DE', 'PHIA.AS', 'RAND.AS', 'VER.VI', 'GRF.MC', 'HELS.HE', 'UMI.BR', 'UMG.AS', 'IG.MI', 'ENEL.MI', 'DIE.BR', 'RED.MC', 'MRK.DE', 'DBK.DE', 'GBLB.BR', 'CGCBV.HE', 'VIV.PA', 'AZM.MI', 'AD.AS', 'LNZ.VI', 'ATS.VI', 'MEL.MC', 'EVN.VI', 'AENA.MC', 'TRN.MI', 'NB.LS', 'LIN.DE', 'VIOH.AT', 'BAS.DE', 'DB1.DE', 'BNP.PA', 'MT.AS', 'ASM.AS', 'G.MI', 'SAN.PA', 'TPEIR.AT', 'BAYN.DE', 'BG.VI', 'PT.LS', 'KESKO.HE', 'RBI.HE', 'MTS.MC', 'DPW.DE', 'NN.AS', 'GALP.LS', 'ADS.DE', 'FME.DE', 'BBVA.MC', 'ISP.MI', 'ELLAK.AT', 'BPE.MI', 'MMK.VI', 'SLR.MC', 'RYA.IR', 'UQA.VI', 'UNA.AS', 'PUM.DE', 'IMCD.AS', 'WIE.VI', 'LR.PA', 'PHM.MC', 'TELIA1.HE', 'WRT1V.HE', 'WKL.AS', 'A2A.MI', 'SOF.BR', '1COV.DE', 'EBS.VI', 'IDR.MC', 'BCP.LS', 'ELISA.HE', 'BMW.DE', 'ADYEN.AS', 'FORTUM.HE', 'STM.PA', 'VOW3.DE', 'EOAN.DE', 'RNO.PA', 'VOE.VI', 'MONC.MI', 'AMS.MC', 'VALMT.HE', 'CAP.PA', 'WDP.BR', 'CON.DE', 'AM1S.HE', 'SONC.LS', 'NDA.FI', 'RBI.VI', 'AIR.PA', 'GLE.PA', 'EUROB.AT', 'UPM.HE', 'TEP.PA', 'REC.MI'}\n"
     ]
    }
   ],
   "source": [
    "print(ex_tks)"
   ],
   "metadata": {
    "collapsed": false
   }
  },
  {
   "cell_type": "code",
   "execution_count": null,
   "outputs": [],
   "source": [],
   "metadata": {
    "collapsed": false
   }
  },
  {
   "cell_type": "code",
   "execution_count": null,
   "outputs": [],
   "source": [],
   "metadata": {
    "collapsed": false
   }
  },
  {
   "cell_type": "code",
   "execution_count": null,
   "outputs": [],
   "source": [],
   "metadata": {
    "collapsed": false
   }
  },
  {
   "cell_type": "code",
   "execution_count": null,
   "outputs": [],
   "source": [],
   "metadata": {
    "collapsed": false
   }
  },
  {
   "cell_type": "code",
   "execution_count": null,
   "outputs": [],
   "source": [],
   "metadata": {
    "collapsed": false
   }
  },
  {
   "cell_type": "code",
   "execution_count": null,
   "outputs": [],
   "source": [],
   "metadata": {
    "collapsed": false
   }
  },
  {
   "cell_type": "code",
   "execution_count": null,
   "outputs": [],
   "source": [],
   "metadata": {
    "collapsed": false
   }
  }
 ],
 "metadata": {
  "kernelspec": {
   "display_name": "Python 3",
   "language": "python",
   "name": "python3"
  },
  "language_info": {
   "codemirror_mode": {
    "name": "ipython",
    "version": 2
   },
   "file_extension": ".py",
   "mimetype": "text/x-python",
   "name": "python",
   "nbconvert_exporter": "python",
   "pygments_lexer": "ipython2",
   "version": "2.7.6"
  }
 },
 "nbformat": 4,
 "nbformat_minor": 0
}
