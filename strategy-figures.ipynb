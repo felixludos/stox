{
 "cells": [
  {
   "cell_type": "code",
   "execution_count": 1,
   "metadata": {},
   "outputs": [],
   "source": [
    "%load_ext autoreload\n",
    "%autoreload 2\n",
    "import sys, os\n",
    "import random\n",
    "import numpy as np\n",
    "from tqdm.notebook import tqdm\n",
    "from tabulate import tabulate\n",
    "from omnibelt import load_json, save_json, load_yaml, save_yaml\n",
    "from pathlib import Path\n",
    "from collections import Counter\n",
    "import requests\n",
    "import json\n",
    "import clipboard\n",
    "# from googlefinance import getQuotes\n",
    "from bs4 import BeautifulSoup\n",
    "# import requests, sys, lxml.html\n",
    "\n",
    "from yahooquery import Ticker\n",
    "\n",
    "from src import *"
   ]
  },
  {
   "cell_type": "code",
   "execution_count": 2,
   "metadata": {},
   "outputs": [],
   "source": [
    "strt = 'minimal'\n",
    "# strt = 'balanced'\n",
    "# strt = 'wreckless'\n",
    "# strt = 'conservative'"
   ]
  },
  {
   "cell_type": "code",
   "execution_count": 3,
   "metadata": {},
   "outputs": [
    {
     "data": {
      "text/plain": [
       "dict_keys(['balanced', 'conservative', 'wreckless', 'minimal'])"
      ]
     },
     "execution_count": 3,
     "metadata": {},
     "output_type": "execute_result"
    }
   ],
   "source": [
    "STRATEGIES = load_yaml('config/strategies.yaml')\n",
    "STRATEGIES.keys()"
   ]
  },
  {
   "cell_type": "code",
   "execution_count": 4,
   "metadata": {},
   "outputs": [
    {
     "data": {
      "text/plain": [
       "'ICLN'"
      ]
     },
     "execution_count": 4,
     "metadata": {},
     "output_type": "execute_result"
    }
   ],
   "source": [
    "names = []\n",
    "ratios = STRATEGIES[strt].copy()\n",
    "ratios = {k:v/100 for k,v in ratios.items()}\n",
    "\n",
    "names = list(k for k,v in ratios.items() if v > 0)\n",
    "\n",
    "cats = TYPES.copy()\n",
    "# cats = {}\n",
    "# for n in names:\n",
    "#     t = get_type(n)\n",
    "#     if t not in cats:\n",
    "#         cats[t] = []\n",
    "#     cats[t].append(n)\n",
    "\n",
    "name = random.choice(names)\n",
    "name"
   ]
  },
  {
   "cell_type": "code",
   "execution_count": 5,
   "metadata": {},
   "outputs": [
    {
     "data": {
      "text/plain": [
       "1.0000000000000002"
      ]
     },
     "execution_count": 5,
     "metadata": {},
     "output_type": "execute_result"
    }
   ],
   "source": [
    "sum(ratios.values())"
   ]
  },
  {
   "cell_type": "code",
   "execution_count": 6,
   "metadata": {},
   "outputs": [],
   "source": [
    "root = Path('figures') / strt\n",
    "root.mkdir(exist_ok=True)"
   ]
  },
  {
   "cell_type": "code",
   "execution_count": 7,
   "metadata": {},
   "outputs": [],
   "source": [
    "cat = 'ETF'\n",
    "# cat = 'EQUITY'\n",
    "group = 'snapshot'\n",
    "group = 'holdings'"
   ]
  },
  {
   "cell_type": "code",
   "execution_count": 8,
   "metadata": {},
   "outputs": [
    {
     "data": {
      "text/plain": [
       "(41, 41, 27, 41)"
      ]
     },
     "execution_count": 8,
     "metadata": {},
     "output_type": "execute_result"
    }
   ],
   "source": [
    "etfs = load('ETF', 'holdings', pbar=tqdm)\n",
    "pies = load('ETF', 'composition', pbar=tqdm)\n",
    "etf_info = load('ETF', 'snapshot', pbar=tqdm)\n",
    "stocks_info = load('EQUITY', 'snapshot', pbar=tqdm)\n",
    "features = {'Sector': ('company', 'sector'), \n",
    "            'Industry': ('company', 'industry'), \n",
    "            'Country':('company', 'country'), \n",
    "            'Ticker': ('company', 'ticker'),\n",
    "            \n",
    "    'score':('analyst', 'score'),\n",
    "    'employees':('company', 'employees'),\n",
    "    'cap': ('compare', 1, 1),\n",
    "    'perf': ('compare', 2, 1),\n",
    "    'eps': ('compare', 4, 1),\n",
    "    'beta': ('compare', 3, 1),\n",
    "    'p/e': ('compare', 7, 1),\n",
    "    'yield': ('compare', 8, 1),\n",
    "}\n",
    "\n",
    "etf_feats = {\n",
    "    'p/e': ('stats', 'Price / Earnings (Trailing Twelve Months)'),\n",
    "    'assets': ('info', 'Net Assets'),\n",
    "    'expense': ('info', 'Net Expense Ratio'),\n",
    "    'yield': ('stats', 'Distribution Yield (TTM)'),\n",
    "    'beta': ('compare', 5, 1),\n",
    "    'ratings': ('analyst'),\n",
    "    'perf': ('compare', 3, 1),\n",
    "}\n",
    "\n",
    "etf_stats = collect(etf_info, etf_feats)\n",
    "stocks = collect(stocks_info, features)\n",
    "for tk, info in stocks.items():\n",
    "    if info['yield'] is not None:\n",
    "        info['yield'] = float(info['yield'][:-1])\n",
    "len(etfs), len(pies), len(stocks), len(etf_info)"
   ]
  },
  {
   "cell_type": "code",
   "execution_count": null,
   "metadata": {},
   "outputs": [],
   "source": []
  },
  {
   "cell_type": "code",
   "execution_count": 9,
   "metadata": {},
   "outputs": [
    {
     "data": {
      "text/plain": [
       "['TCEHY']"
      ]
     },
     "execution_count": 9,
     "metadata": {},
     "output_type": "execute_result"
    }
   ],
   "source": [
    "for ticker, hlds in etfs.items():\n",
    "    den = sum(row[-1] for row in hlds)\n",
    "    for row in hlds:\n",
    "        row[-1] /= den\n",
    "\n",
    "for ticker, ps in pies.items():\n",
    "    for key in ['Holdings', 'Sector Exposure', 'Industry Exposure', 'Country Exposure', \n",
    "                'Maturity', 'Credit Grade', 'Debt Type', ]:\n",
    "        if key in ps:\n",
    "            den = sum(ps[key].values())\n",
    "            for k,v in ps[key].items():\n",
    "                ps[key][k] = v / den\n",
    "\n",
    "nosize = []\n",
    "for tk, info in stocks.items():\n",
    "    if info['cap'] is not None:\n",
    "        for c, lim in MARKET_CAPS:\n",
    "            if info['cap'] > lim:\n",
    "                info['size'] = c\n",
    "                break\n",
    "        if 'size' not in info:\n",
    "            info['size'] = None\n",
    "    else:\n",
    "        nosize.append(tk)\n",
    "nosize"
   ]
  },
  {
   "cell_type": "code",
   "execution_count": 10,
   "metadata": {},
   "outputs": [
    {
     "data": {
      "text/plain": [
       "(0.999999999999994, 0, 1.0, 1.0)"
      ]
     },
     "execution_count": 10,
     "metadata": {},
     "output_type": "execute_result"
    }
   ],
   "source": [
    "\n",
    "companies = {}\n",
    "countries = {}\n",
    "sectors = {}\n",
    "industry = {}\n",
    "maturity = {}\n",
    "grades = {}\n",
    "caps = {}\n",
    "\n",
    "tbls = { 'countries':countries, 'sectors':sectors, #'companies':companies,\n",
    "        'industry':industry, 'maturity':maturity, 'grades':grades, 'caps':caps}\n",
    "\n",
    "for ticker, ratio in ratios.items():\n",
    "#     if ratio > 0:\n",
    "#         if ticker in etfs:\n",
    "#             info = etfs[ticker]\n",
    "            \n",
    "#             for tk, _, land, q in info:\n",
    "#                 if tk not in companies:\n",
    "#                     companies[tk] = 0.\n",
    "#                 companies[tk] += q * ratio\n",
    "#                 if land not in countries:\n",
    "#                     countries[land] = 0.\n",
    "#                 countries[land] += q * ratio\n",
    "        \n",
    "    if ticker in pies and 'Market Capitalization' in pies[ticker]:\n",
    "        for size, q in pies[ticker]['Market Capitalization'].items():\n",
    "            size = size.lower()\n",
    "            if size not in caps:\n",
    "                caps[size] = 0.\n",
    "            caps[size] += q*ratio / 100\n",
    "    \n",
    "    if ticker in stocks:\n",
    "        info = stocks[ticker]\n",
    "\n",
    "        if 'size' in info and info['size'] is not None:\n",
    "            size = info['size']\n",
    "            if size not in caps:\n",
    "                caps[size] = 0.\n",
    "            caps[size] += ratio\n",
    "        \n",
    "#         if ticker not in companies:\n",
    "#             companies[ticker] = 0.\n",
    "#         companies[ticker] += ratio\n",
    "\n",
    "        land = info['Country']\n",
    "        if land not in countries:\n",
    "            countries[land] = 0.\n",
    "        countries[land] += ratio\n",
    "\n",
    "        sec = info['Sector']\n",
    "        if sec not in sectors:\n",
    "            sectors[sec] = 0.\n",
    "        sectors[sec] += ratio\n",
    "\n",
    "        ind = info['Industry']\n",
    "        if ind not in industry:\n",
    "            industry[ind] = 0.\n",
    "        industry[ind] += ratio\n",
    "\n",
    "#         else:\n",
    "#             assert False, f'{ticker}'\n",
    "\n",
    "    if ticker in pies:\n",
    "        info = pies[ticker]\n",
    "\n",
    "        if info['Asset Classification'] == 'Equity':\n",
    "\n",
    "            if 'Sector Exposure' not in info:\n",
    "                print(f'{ticker} sector failed')\n",
    "            else:\n",
    "                for sec, q in info['Sector Exposure'].items():\n",
    "                    if sec not in sectors:\n",
    "                        sectors[sec] = 0.\n",
    "                    sectors[sec] += q * ratio\n",
    "\n",
    "            if 'Industry Exposure' not in info:\n",
    "                print(f'{ticker} industry failed')\n",
    "            else:\n",
    "                for ind, q in info['Industry Exposure'].items():\n",
    "                    if ind not in industry:\n",
    "                        industry[ind] = 0.\n",
    "                    industry[ind] += q * ratio\n",
    "\n",
    "        elif info['Asset Classification'] == 'Fixed Income':\n",
    "\n",
    "            if 'Bonds' not in sectors:\n",
    "                sectors['Bonds'] = 0.\n",
    "            sectors['Bonds'] += ratio\n",
    "\n",
    "            for t, q in info['Debt Type'].items():\n",
    "                if t not in industry:\n",
    "                    industry[t] = 0.\n",
    "                industry[t] += ratio * q\n",
    "\n",
    "            for g, q in info['Credit Grade'].items():\n",
    "                if g not in grades:\n",
    "                    grades[g] = 0.\n",
    "                grades[g] += q * ratio\n",
    "\n",
    "            for m, q in info['Maturity'].items():\n",
    "                if m not in maturity:\n",
    "                    maturity[m] = 0\n",
    "                maturity[m] += q * ratio\n",
    "\n",
    "        elif info['Asset Classification'] == 'Commodity':\n",
    "            for mat, q in info['Holdings'].items():\n",
    "                if mat not in industry:\n",
    "                    industry[mat] = 0.\n",
    "                industry[mat] += ratio * q\n",
    "\n",
    "            if 'Commodity' not in sectors:\n",
    "                sectors['Commodity'] = 0.\n",
    "            sectors['Commodity'] += ratio\n",
    "        else:\n",
    "            if 'Unknown' not in sectors:\n",
    "                sectors['Unknown'] = 0.\n",
    "            sectors['Unknown'] += ratio\n",
    "#             if 'Unknown' not in countries:\n",
    "#                 countries['Unknown'] = 0\n",
    "#             countries['Unknown'] += ratio\n",
    "#             if 'Unknown' not in companies:\n",
    "#                 companies['Unknown'] = 0\n",
    "#             companies['Unknown'] += ratio\n",
    "            if 'Unknown' not in industry:\n",
    "                industry['Unknown'] = 0\n",
    "            industry['Unknown'] += ratio\n",
    "#                 raise Exception(ticker)\n",
    "\n",
    "#             if info['Asset Classification'] != 'Commodity':\n",
    "    if ticker in etfs:\n",
    "        holdings = etfs[ticker]\n",
    "        for tk, _, land, q in holdings:\n",
    "#             if tk not in companies:\n",
    "#                 companies[tk] = 0.\n",
    "#             companies[tk] += q * ratio\n",
    "            if land not in countries:\n",
    "                countries[land] = 0.\n",
    "            countries[land] += q * ratio\n",
    "\n",
    "regions = {}\n",
    "for land, q in countries.items():\n",
    "    key = REGIONS.get(land, 'Unknown')\n",
    "    if key not in regions:\n",
    "        regions[key] = 0.\n",
    "    regions[key] += q\n",
    "tbls['regions'] = regions    \n",
    "        \n",
    "    \n",
    "for tbl in tbls.values():\n",
    "    if None in tbl:\n",
    "        if 'Unknown' not in tbl:\n",
    "            tbl['Unknown'] = 0.\n",
    "        tbl['Unknown'] += tbl[None]\n",
    "        del tbl[None]\n",
    "    \n",
    "sum(countries.values()), sum(companies.values()), sum(sectors.values()), sum(industry.values())"
   ]
  },
  {
   "cell_type": "code",
   "execution_count": 11,
   "metadata": {},
   "outputs": [],
   "source": [
    "remove_keys(countries, {'Xav Health Care Mar21 Xcme 20210319', 'Xai Emini Industr Mar21 Xcme 20210319', 'XAF FINANCIAL MAR21 XCME 20210319'})"
   ]
  },
  {
   "cell_type": "code",
   "execution_count": 12,
   "metadata": {},
   "outputs": [
    {
     "data": {
      "text/plain": [
       "dict_keys(['countries', 'sectors', 'industry', 'maturity', 'grades', 'caps', 'regions'])"
      ]
     },
     "execution_count": 12,
     "metadata": {},
     "output_type": "execute_result"
    }
   ],
   "source": [
    "tbls.keys()"
   ]
  },
  {
   "cell_type": "code",
   "execution_count": 13,
   "metadata": {},
   "outputs": [
    {
     "data": {
      "text/plain": [
       "{'Sector': 'Consumer Discretionary',\n",
       " 'Industry': 'Automobiles',\n",
       " 'Country': 'United States',\n",
       " 'Ticker': 'TSLA',\n",
       " 'score': 8.6,\n",
       " 'employees': 48016,\n",
       " 'cap': 834170000000.0,\n",
       " 'perf': 814.14,\n",
       " 'eps': 0.51,\n",
       " 'beta': 1.87,\n",
       " 'p/e': '1,767.11',\n",
       " 'yield': None,\n",
       " 'size': 'mega'}"
      ]
     },
     "execution_count": 13,
     "metadata": {},
     "output_type": "execute_result"
    }
   ],
   "source": [
    "stocks['TSLA']"
   ]
  },
  {
   "cell_type": "code",
   "execution_count": 14,
   "metadata": {},
   "outputs": [
    {
     "data": {
      "text/plain": [
       "{'p/e': 28.32,\n",
       " 'assets': 329000000000.0,\n",
       " 'expense': 0.09,\n",
       " 'yield': 1.52,\n",
       " 'beta': 1.0,\n",
       " 'FactSet': 5,\n",
       " 'Morningstar, Inc.': 4,\n",
       " 'perf': 18.37}"
      ]
     },
     "execution_count": 14,
     "metadata": {},
     "output_type": "execute_result"
    }
   ],
   "source": [
    "etf_stats['SPY']"
   ]
  },
  {
   "cell_type": "code",
   "execution_count": 15,
   "metadata": {},
   "outputs": [
    {
     "data": {
      "text/plain": [
       "(15,\n",
       " 0.3153,\n",
       " 52.21490000000001,\n",
       " 1.0000000000000002,\n",
       " 0.010684,\n",
       " 1.0000000000000002,\n",
       " 7.450000000000001,\n",
       " 0.9500000000000001,\n",
       " 21.172500000000003,\n",
       " 0.75)"
      ]
     },
     "execution_count": 15,
     "metadata": {},
     "output_type": "execute_result"
    }
   ],
   "source": [
    "performance = 0.\n",
    "perf_f = 0.\n",
    "yld = 0.\n",
    "yld_f = 0.\n",
    "expense = 0.\n",
    "score = 0.\n",
    "score_factor = 0.\n",
    "av_pe = 0.\n",
    "av_pe_f = 0.\n",
    "pe = {}\n",
    "\n",
    "for tk, info in etf_stats.items():\n",
    "    if tk in ratios:\n",
    "        r = ratios[tk]\n",
    "        if 'p/e' in info:\n",
    "            if isinstance(info['p/e'], str):\n",
    "                if ',' in info['p/e']:\n",
    "                    info['p/e'] = float(info['p/e'].replace(',', ''))\n",
    "                else:\n",
    "                    info['p/e'] = None\n",
    "            pe[tk] = info['p/e']\n",
    "            if pe[tk] is not None:\n",
    "                av_pe += r * pe[tk]\n",
    "                av_pe_f += r\n",
    "        if 'perf' in info and isinstance(info['perf'], (float,int)):\n",
    "            performance += r * info['perf']\n",
    "            perf_f += r\n",
    "        if 'yield' in info and isinstance(info['yield'], (float,int)):\n",
    "            yld += r * info['yield'] / 100\n",
    "            yld_f += r\n",
    "        if isinstance(info['expense'], (float,int)):\n",
    "            expense += r * info['expense']\n",
    "        if 'Morningstar, Inc.' in info and isinstance(info['Morningstar, Inc.'], (float,int)) \\\n",
    "        and 'FactSet' in info and isinstance(info['FactSet'], (float,int)):\n",
    "            score += r * (info['Morningstar, Inc.'] + info['FactSet'])\n",
    "            score_factor += r\n",
    "for tk, info in stocks.items():\n",
    "    if tk in ratios:\n",
    "        r = ratios[tk]\n",
    "        if 'p/e' in info:\n",
    "            if isinstance(info['p/e'], str):\n",
    "                if ',' in info['p/e']:\n",
    "                    info['p/e'] = float(info['p/e'].replace(',', ''))\n",
    "                else:\n",
    "                    info['p/e'] = None\n",
    "            pe[tk] = info['p/e']\n",
    "            if pe[tk] is not None:\n",
    "                av_pe += r * pe[tk]\n",
    "                av_pe_f += r\n",
    "        if 'perf' in info and isinstance(info['perf'], (float,int)):\n",
    "            performance += r * info['perf']\n",
    "            perf_f += r\n",
    "        if 'yield' in info and isinstance(info['yield'], (float,int)):\n",
    "            yld += r * info['yield'] / 100\n",
    "            yld_f += r\n",
    "        if 'expense' in info and isinstance(info['expense'], (float,int)):\n",
    "            expense += r * info['expense']\n",
    "        if 'score' in info and isinstance(info['score'], (float,int)):\n",
    "            score += r * info['score']\n",
    "            score_factor += r\n",
    "        \n",
    "len(ratios), expense, performance, perf_f, yld, yld_f, score, score_factor, av_pe, av_pe_f"
   ]
  },
  {
   "cell_type": "code",
   "execution_count": 16,
   "metadata": {
    "scrolled": true
   },
   "outputs": [
    {
     "name": "stdout",
     "output_type": "stream",
     "text": [
      "Ticker      P/E\n",
      "--------  -----\n",
      "ICLN      36.98\n",
      "KWEB      36.98\n",
      "VONG      35.71\n",
      "SPY       28.32\n",
      "VTI       27\n",
      "VXF       25.58\n",
      "SPDW      20.85\n",
      "EMXC      20.22\n",
      "ASHR      19.11\n",
      "XITK\n",
      "ICVT\n",
      "LQD\n",
      "SCHP\n",
      "ARKK\n",
      "IAU\n"
     ]
    }
   ],
   "source": [
    "key = 'P/E'\n",
    "top = get_top(pe, None, factor=1)\n",
    "print(tabulate(top, headers=['Ticker', 'P/E']))"
   ]
  },
  {
   "cell_type": "code",
   "execution_count": 17,
   "metadata": {},
   "outputs": [
    {
     "data": {
      "text/plain": [
       "15"
      ]
     },
     "execution_count": 17,
     "metadata": {},
     "output_type": "execute_result"
    }
   ],
   "source": [
    "len(ratios)"
   ]
  },
  {
   "cell_type": "code",
   "execution_count": null,
   "metadata": {},
   "outputs": [],
   "source": []
  },
  {
   "cell_type": "code",
   "execution_count": null,
   "metadata": {},
   "outputs": [],
   "source": []
  },
  {
   "cell_type": "code",
   "execution_count": 18,
   "metadata": {},
   "outputs": [
    {
     "name": "stdout",
     "output_type": "stream",
     "text": [
      "Maturity             Amount (%)\n",
      "-----------------  ------------\n",
      "Intermediate Term       1.49565\n",
      "Long Term               1.27253\n",
      "Short Term              1.23182\n"
     ]
    }
   ],
   "source": [
    "key = 'maturity'\n",
    "top = get_top(tbls[key], None)\n",
    "print(tabulate(top, headers=[key.capitalize(), 'Amount (%)']))"
   ]
  },
  {
   "cell_type": "code",
   "execution_count": 19,
   "metadata": {},
   "outputs": [
    {
     "name": "stdout",
     "output_type": "stream",
     "text": [
      "Grades              Amount (%)\n",
      "----------------  ------------\n",
      "AAA                    2.06399\n",
      "Investment Grade       1.93601\n",
      "High Yield             0\n"
     ]
    }
   ],
   "source": [
    "key = 'grades'\n",
    "top = get_top(tbls[key], None)\n",
    "print(tabulate(top, headers=[key.capitalize(), 'Amount (%)']))"
   ]
  },
  {
   "cell_type": "code",
   "execution_count": 20,
   "metadata": {},
   "outputs": [],
   "source": [
    "key = 'regions'"
   ]
  },
  {
   "cell_type": "code",
   "execution_count": 21,
   "metadata": {},
   "outputs": [
    {
     "name": "stdout",
     "output_type": "stream",
     "text": [
      "Regions          Amount (%)\n",
      "-------------  ------------\n",
      "North America     63.3917\n",
      "Asia              27.1122\n",
      "Europe             6.04216\n",
      "Unknown            1.43228\n",
      "Latin America      0.947956\n",
      "Middle East        0.812506\n",
      "Africa             0.261276\n"
     ]
    }
   ],
   "source": [
    "top = get_top(tbls[key], None)\n",
    "print(tabulate(top, headers=[key.capitalize(), 'Amount (%)']))"
   ]
  },
  {
   "cell_type": "code",
   "execution_count": 22,
   "metadata": {},
   "outputs": [
    {
     "data": {
      "image/png": "[encoded data removed]",
      "text/plain": [
       "<Figure size 432x288 with 1 Axes>"
      ]
     },
     "metadata": {},
     "output_type": "display_data"
    }
   ],
   "source": [
    "plt.figure()\n",
    "l,x = list(zip(*top))\n",
    "l = [f'{L} {X:.2f}%' for L,X in zip(l,x)]\n",
    "plt.pie(x, labels=l, explode=[1/(2*v+1) for v in x], startangle=30) # \n",
    "plt.title(key.capitalize())\n",
    "plt.savefig(str(root / f'{key}.png'))\n",
    "pass"
   ]
  },
  {
   "cell_type": "code",
   "execution_count": 23,
   "metadata": {},
   "outputs": [],
   "source": [
    "key = 'countries'"
   ]
  },
  {
   "cell_type": "code",
   "execution_count": 24,
   "metadata": {},
   "outputs": [
    {
     "name": "stdout",
     "output_type": "stream",
     "text": [
      "Countries         Amount (%)\n",
      "--------------  ------------\n",
      "United States      62.3804\n",
      "China              21.3511\n",
      "South Korea         1.56283\n",
      "Unknown             1.43228\n",
      "Japan               1.33118\n",
      "Taiwan              1.12739\n",
      "Switzerland         1.06333\n",
      "Canada              1.01125\n",
      "United Kingdom      1.01049\n",
      "Brazil              0.65793\n",
      "Spain               0.644734\n",
      "Denmark             0.54761\n",
      "France              0.544404\n",
      "New Zealand         0.4991\n",
      "Germany             0.491521\n",
      "Other               4.34449\n"
     ]
    }
   ],
   "source": [
    "top = get_top(tbls[key], 15)\n",
    "print(tabulate(top, headers=[key.capitalize(), 'Amount (%)']))"
   ]
  },
  {
   "cell_type": "code",
   "execution_count": 25,
   "metadata": {},
   "outputs": [
    {
     "data": {
      "image/png": "[encoded data removed]",
      "text/plain": [
       "<Figure size 432x288 with 1 Axes>"
      ]
     },
     "metadata": {},
     "output_type": "display_data"
    }
   ],
   "source": [
    "plt.figure()\n",
    "l,x = list(zip(*top))\n",
    "l = [f'{L} {X:.2f}%' for L,X in zip(l,x)]\n",
    "plt.pie(x, labels=l, explode=[1/(v+.2) for v in x], startangle=45) # \n",
    "plt.title(key.capitalize())\n",
    "plt.tight_layout()\n",
    "plt.savefig(str(root / f'{key}.png'))\n",
    "pass"
   ]
  },
  {
   "cell_type": "code",
   "execution_count": 26,
   "metadata": {},
   "outputs": [],
   "source": [
    "key = 'sectors'"
   ]
  },
  {
   "cell_type": "code",
   "execution_count": 27,
   "metadata": {},
   "outputs": [
    {
     "name": "stdout",
     "output_type": "stream",
     "text": [
      "Sectors                   Amount (%)\n",
      "----------------------  ------------\n",
      "Information Technology      23.7602\n",
      "Consumer Discretionary      13.9185\n",
      "Communication Services      11.2023\n",
      "Health Care                 11.0701\n",
      "Financials                   8.55214\n",
      "Industrials                  6.9963\n",
      "Unknown                      5\n",
      "Consumer Staples             4.60671\n",
      "Bonds                        4\n",
      "Utilities                    3.64189\n",
      "Materials                    2.59403\n",
      "Real Estate                  2.39104\n",
      "Energy                       1.26691\n",
      "Commodity                    1\n"
     ]
    }
   ],
   "source": [
    "top = get_top(tbls[key], None)\n",
    "print(tabulate(top, headers=[key.capitalize(), 'Amount (%)']))"
   ]
  },
  {
   "cell_type": "code",
   "execution_count": 28,
   "metadata": {},
   "outputs": [
    {
     "data": {
      "image/png": "[encoded data removed]",
      "text/plain": [
       "<Figure size 432x288 with 1 Axes>"
      ]
     },
     "metadata": {},
     "output_type": "display_data"
    }
   ],
   "source": [
    "plt.figure()\n",
    "l,x = list(zip(*top))\n",
    "l = [f'{L} {X:.2f}%' for L,X in zip(l,x)]\n",
    "plt.pie(x, labels=l, explode=[1/(2*v+1) for v in x], startangle=0) # \n",
    "plt.title(key.capitalize())\n",
    "plt.savefig(str(root / f'{key}.png'))\n",
    "pass"
   ]
  },
  {
   "cell_type": "code",
   "execution_count": 29,
   "metadata": {},
   "outputs": [],
   "source": [
    "key = 'industry'"
   ]
  },
  {
   "cell_type": "code",
   "execution_count": 30,
   "metadata": {
    "scrolled": true
   },
   "outputs": [
    {
     "name": "stdout",
     "output_type": "stream",
     "text": [
      "Industry                                          Amount (%)\n",
      "----------------------------------------------  ------------\n",
      "Software                                            9.38867\n",
      "Internet & Direct Marketing Retail                  6.36694\n",
      "Interactive Media & Services                        5.70171\n",
      "Semiconductors & Semiconductor Equipment            5.07871\n",
      "Unknown                                             5\n",
      "Biotechnology                                       4.24948\n",
      "Entertainment                                       4.0726\n",
      "IT Services                                         4.01753\n",
      "Banks                                               3.64868\n",
      "Technology Hardware, Storage & Peripherals          3.5777\n",
      "Automobiles                                         2.7304\n",
      "Pharmaceuticals                                     2.01349\n",
      "Government                                          2.00286\n",
      "Corporate                                           1.99714\n",
      "Beverages                                           1.93951\n",
      "Capital Markets                                     1.8383\n",
      "Insurance                                           1.77911\n",
      "Electric Utilities                                  1.65057\n",
      "Independent Power and Renewable Electricity...      1.61115\n",
      "Electrical Equipment                                1.57401\n",
      "Machinery                                           1.52158\n",
      "Health Care Equipment & Supplies                    1.50754\n",
      "Equity Real Estate Investment Trusts (REITs)        1.38452\n",
      "Electronic Equipment, Instruments & Components      1.29677\n",
      "Health Care Technology                              1.27691\n",
      "Oil, Gas & Consumable Fuels                         1.18621\n",
      "Specialty Retail                                    1.17924\n",
      "Chemicals                                           1.15611\n",
      "Food Products                                       1.11135\n",
      "Health Care Providers & Services                    1.08908\n",
      "Real Estate Management & Development                1.01235\n",
      "Gold                                                1\n",
      "Metals & Mining                                     0.960927\n",
      "Life Sciences Tools & Services                      0.948545\n",
      "Household Durables                                  0.90022\n",
      "Hotels Restaurants & Leisure                        0.798179\n",
      "Consumer Finance                                    0.713201\n",
      "Diversified Consumer Services                       0.699776\n",
      "Food & Staples Retailing                            0.667472\n",
      "Aerospace & Defense                                 0.649822\n",
      "Media                                               0.602254\n",
      "Road & Rail                                         0.574818\n",
      "Diversified Telecommunication Services              0.555762\n",
      "Textiles, Apparel & Luxury Goods                    0.538306\n",
      "Professional Services                               0.49945\n",
      "Household Products                                  0.480284\n",
      "Industrial Conglomerates                            0.425304\n",
      "Communications Equipment                            0.424952\n",
      "Diversified Financial Services                      0.395383\n",
      "Other                                               4.20513\n"
     ]
    }
   ],
   "source": [
    "top = get_top(tbls[key], 49)\n",
    "print(tabulate(top, headers=[key.capitalize(), 'Amount (%)']))"
   ]
  },
  {
   "cell_type": "code",
   "execution_count": 31,
   "metadata": {},
   "outputs": [
    {
     "data": {
      "image/png": "[encoded data removed]",
      "text/plain": [
       "<Figure size 432x432 with 1 Axes>"
      ]
     },
     "metadata": {},
     "output_type": "display_data"
    }
   ],
   "source": [
    "plt.figure(figsize=(6,6))\n",
    "l,x = list(zip(*top))\n",
    "l = [f'{L} {X:.2f}%' for L,X in zip(l,x)]\n",
    "plt.pie(x, labels=l, explode=[1/(v+.1) for v in x], startangle=90)\n",
    "# plt.title(key.capitalize())\n",
    "plt.savefig(str(root / f'{key}.png'))\n",
    "pass"
   ]
  },
  {
   "cell_type": "code",
   "execution_count": 32,
   "metadata": {},
   "outputs": [],
   "source": [
    "# key = 'companies'"
   ]
  },
  {
   "cell_type": "code",
   "execution_count": 33,
   "metadata": {
    "scrolled": true
   },
   "outputs": [],
   "source": [
    "# top = get_top(tbls[key], 50)\n",
    "# print(tabulate(top, headers=[key.capitalize(), 'Amount (%)']))"
   ]
  },
  {
   "cell_type": "code",
   "execution_count": null,
   "metadata": {},
   "outputs": [],
   "source": []
  },
  {
   "cell_type": "code",
   "execution_count": 34,
   "metadata": {},
   "outputs": [
    {
     "data": {
      "text/plain": [
       "[['600519', 'Kweichow Moutai Co Ltd', 'China', 0.0495411033257674],\n",
       " ['601318',\n",
       "  'Ping An Insurance (Group) Co. of China Ltd',\n",
       "  'China',\n",
       "  0.047271291818809937],\n",
       " ['000858', 'Wuliangye Yibin Co Ltd', 'China', 0.028323300108556267],\n",
       " ['600036', 'China Merchants Bank Co Ltd', 'China', 0.027040363169841177],\n",
       " ['000333', 'Midea Group Co Ltd Class A', 'China', 0.023981052008289806],\n",
       " ['600276', 'Jiangsu Hengrui Medicine Co Ltd', 'China', 0.02141517813085962],\n",
       " ['601166', 'Industrial Bank Co Ltd', 'China', 0.015493930721405348],\n",
       " ['-CASH-', 'Chinese Yuan', None, 0.015099180894108395],\n",
       " ['000651',\n",
       "  'Gree Electric Appliances Inc of Zhuhai',\n",
       "  'China',\n",
       "  0.015000493437284155],\n",
       " ['600887',\n",
       "  'Inner Mongolia Yili Industrial Group Co Ltd',\n",
       "  'China',\n",
       "  0.013618869041744825],\n",
       " ['601888',\n",
       "  'China Tourism Group Duty Free Corp Ltd Class A',\n",
       "  'China',\n",
       "  0.01292805684397516],\n",
       " ['600030', 'CITIC Securities Co Ltd', 'China', 0.012335932103029735],\n",
       " ['601012',\n",
       "  'LONGi Green Energy Technology Co Ltd Class A',\n",
       "  'China',\n",
       "  0.012138557189381258],\n",
       " ['002475',\n",
       "  'Luxshare Precision Industry Co Ltd',\n",
       "  'China',\n",
       "  0.011941182275732782],\n",
       " ['600031', 'Sany Heavy Industry Co Ltd', 'China', 0.010362182966544977],\n",
       " ['300059', 'East Money Information Co Ltd', 'China', 0.0101648080528965],\n",
       " ['000002', 'China Vanke Co Ltd', 'China', 0.009868745682423788],\n",
       " ['603288',\n",
       "  'Foshan Haitian Flavouring and Food Co Ltd Class A',\n",
       "  'China',\n",
       "  0.009770058225599548],\n",
       " ['000001', 'Ping An Bank Co Ltd', 'China', 0.009473995855126835],\n",
       " ['002415',\n",
       "  'Hangzhou Hik-Vision Digital Technology Co Ltd',\n",
       "  'China',\n",
       "  0.008881871114181409],\n",
       " ['601398',\n",
       "  'Industrial And Commercial Bank Of China Ltd',\n",
       "  'China',\n",
       "  0.008881871114181409],\n",
       " ['600900', 'China Yangtze Power Co Ltd', 'China', 0.00878318365735717],\n",
       " ['002594', 'BYD Co Ltd Class A', 'China', 0.008585808743708694],\n",
       " ['603259', 'Wuxi AppTec Co Ltd Class A', 'China', 0.008487121286884457],\n",
       " ['000568', 'Luzhou Laojiao Co Ltd', 'China', 0.00838843383006022],\n",
       " ['000725', 'BOE Technology Group Co Ltd', 'China', 0.008191058916411743],\n",
       " ['002352', 'SF Holding Co Ltd', 'China', 0.008092371459587504],\n",
       " ['600309', 'Wanhua Chemical Group Co Ltd', 'China', 0.007204184348169365],\n",
       " ['002714', 'Muyuan Foods Co Ltd Class A', 'China', 0.007204184348169365],\n",
       " ['002304', 'Jiangsu Yanghe Brewery JSC Ltd', 'China', 0.007105496891345126],\n",
       " ['600809',\n",
       "  'Shanxi Xinghuacun Fen Wine Factory Co Ltd',\n",
       "  'China',\n",
       "  0.0065133721503996996],\n",
       " ['601899', 'Zijin Mining Group Co Ltd', 'China', 0.0065133721503996996],\n",
       " ['000661',\n",
       "  'Changchun High and New Technology Industry Group Inc',\n",
       "  'China',\n",
       "  0.006315997236751224],\n",
       " ['601601',\n",
       "  'China Pacific Insurance (Group) Co Ltd',\n",
       "  'China',\n",
       "  0.006315997236751224],\n",
       " ['-CASH-', 'Cash†', None, 0.006217309779926986],\n",
       " ['600585',\n",
       "  'Anhui Conch Cement Co Ltd Class A',\n",
       "  'China',\n",
       "  0.006217309779926986],\n",
       " ['601328', 'Bank of Communications Co Ltd', 'China', 0.006217309779926986],\n",
       " ['300015', 'Aier Eye Hospital Group Co Ltd', 'China', 0.006217309779926986],\n",
       " ['600048',\n",
       "  'Poly Developments and Holdings Group Co Ltd',\n",
       "  'China',\n",
       "  0.005723872495805796],\n",
       " ['600000',\n",
       "  'Shanghai Pudong Development Bank Co Ltd',\n",
       "  'China',\n",
       "  0.005625185038981558],\n",
       " ['600016', 'China Minsheng Banking Corp Ltd', 'China', 0.005625185038981558],\n",
       " ['600690', 'Haier Smart Home Co Ltd', 'China', 0.005427810125333083],\n",
       " ['002142', 'Bank Of Ningbo Co Ltd', 'China', 0.005329122668508845],\n",
       " ['601668',\n",
       "  'China State Construction Engineering Corp Ltd',\n",
       "  'China',\n",
       "  0.005230435211684607],\n",
       " ['601688', 'Huatai Securities Co Ltd', 'China', 0.005230435211684607],\n",
       " ['600438', 'Tongwei Co Ltd', 'China', 0.005230435211684607],\n",
       " ['002027',\n",
       "  'Focus Media Information Technology Co Ltd',\n",
       "  'China',\n",
       "  0.005033060298036132],\n",
       " ['603501',\n",
       "  'Will Semiconductor Co Ltd Shanghai',\n",
       "  'China',\n",
       "  0.004934372841211894],\n",
       " ['000100', 'TCL Technology Group Corp', 'China', 0.004934372841211894],\n",
       " ['600837', 'Haitong Securities Co Ltd', 'China', 0.004934372841211894],\n",
       " ['300122',\n",
       "  'Chongqing Zhifei Biological Products Co Ltd',\n",
       "  'China',\n",
       "  0.0048356853843876555],\n",
       " ['000063', 'ZTE Corp', 'China', 0.004638310470739179],\n",
       " ['300124',\n",
       "  'Shenzhen Inovance Technology Co Ltd Class A',\n",
       "  'China',\n",
       "  0.004539623013914942],\n",
       " ['601288', 'Agricultural Bank of China Ltd', 'China', 0.004539623013914942],\n",
       " ['300014', 'EVE Energy Co Ltd', 'China', 0.004539623013914942],\n",
       " ['002241', 'Goertek Inc', 'China', 0.004342248100266466],\n",
       " ['600104', 'SAIC Motor Corp Ltd', 'China', 0.004342248100266466],\n",
       " ['300347',\n",
       "  'Hangzhou Tigermed Consulting Co Ltd Class A',\n",
       "  'China',\n",
       "  0.004342248100266466],\n",
       " ['600570', 'Hundsun Technologies Inc', 'China', 0.004243560643442229],\n",
       " ['300498', 'Wens Foodstuff Group Co Ltd A', 'China', 0.0041448731866179905],\n",
       " ['600999',\n",
       "  'China Merchants Securities Co Ltd',\n",
       "  'China',\n",
       "  0.004046185729793752],\n",
       " ['002460', 'Ganfeng Lithium Co Ltd', 'China', 0.003947498272969515],\n",
       " ['601229', 'Bank of Shanghai Co Ltd A', 'China', 0.003947498272969515],\n",
       " ['601211', 'Guotai Junan Securities Co Ltd', 'China', 0.003947498272969515],\n",
       " ['600436',\n",
       "  'Zhangzhou Pientzehuang Pharmaceutical Co Ltd',\n",
       "  'China',\n",
       "  0.003947498272969515],\n",
       " ['000338', 'Weichai Power Co Ltd', 'China', 0.003750123359321039],\n",
       " ['002410', 'Glodon Co Ltd', 'China', 0.003750123359321039],\n",
       " ['600009',\n",
       "  'Shanghai International Airport Co Ltd',\n",
       "  'China',\n",
       "  0.0036514359024968014],\n",
       " ['601169', 'Bank Of Beijing Co Ltd', 'China', 0.003552748445672563],\n",
       " ['600588', 'Yonyou Network Technology Co Ltd', 'China', 0.003454060988848325],\n",
       " ['600660',\n",
       "  'Fuyao Glass Industry Group Co Ltd',\n",
       "  'China',\n",
       "  0.003454060988848325],\n",
       " ['601988', 'Bank Of China Ltd', 'China', 0.0033553735320240876],\n",
       " ['002230', 'Iflytek Co Ltd', 'China', 0.0033553735320240876],\n",
       " ['603986',\n",
       "  'Giga Device Semiconductor (Beijing) Inc A',\n",
       "  'China',\n",
       "  0.0032566860751998498],\n",
       " ['600919', 'Bank Of Jiangsu Co Ltd A', 'China', 0.0032566860751998498],\n",
       " ['601766', 'CRRC Corp Ltd', 'China', 0.0032566860751998498],\n",
       " ['601818', 'China Everbright Bank Co Ltd', 'China', 0.003157998618375612],\n",
       " ['002271',\n",
       "  'Beijing Oriental Yuhong Waterproof Technology Co Ltd',\n",
       "  'China',\n",
       "  0.003157998618375612],\n",
       " ['600196',\n",
       "  'Shanghai Fosun Pharmaceutical (Group) Co Ltd',\n",
       "  'China',\n",
       "  0.003157998618375612],\n",
       " ['601628', 'China Life Insurance Co Ltd', 'China', 0.003157998618375612],\n",
       " ['300601',\n",
       "  'Shenzhen Kangtai Biological Products Co Ltd A',\n",
       "  'China',\n",
       "  0.003157998618375612],\n",
       " ['002812',\n",
       "  'Yunnan Energy New Material Co Ltd A',\n",
       "  'China',\n",
       "  0.0030593111615513737],\n",
       " ['600406', 'NARI Technology Co Ltd', 'China', 0.0030593111615513737],\n",
       " ['600703', 'Sanan Optoelectronics Co Ltd', 'China', 0.0030593111615513737],\n",
       " ['600763', 'Topchoice Medical Corp', 'China', 0.0030593111615513737],\n",
       " ['600346', 'Hengli Petrochemical Co Ltd', 'China', 0.0030593111615513737],\n",
       " ['601088', 'China Shenhua Energy Co Ltd', 'China', 0.0030593111615513737],\n",
       " ['300142', 'Walvax Biotechnology Co Ltd', 'China', 0.0030593111615513737],\n",
       " ['600893', 'AECC Aviation Power Co Ltd', 'China', 0.002960623704727136],\n",
       " ['000538', 'Yunnan Baiyao Group Co Ltd', 'China', 0.002960623704727136],\n",
       " ['601919', 'COSCO SHIPPING Holdings Co Ltd', 'China', 0.002861936247902898],\n",
       " ['002049',\n",
       "  'Unigroup Guoxin Microelectronics Co Ltd',\n",
       "  'China',\n",
       "  0.002861936247902898],\n",
       " ['002493', 'Rongsheng Petro Chemical Co Ltd', 'China', 0.0027632487910786607],\n",
       " ['600028', 'China Petroleum & Chemical Corp', 'China', 0.0027632487910786607],\n",
       " ['600019', 'Baoshan Iron & Steel Co Ltd', 'China', 0.0026645613342544225],\n",
       " ['601390', 'China Railway Group Ltd', 'China', 0.0026645613342544225],\n",
       " ['002311', 'Guangdong Haid Group Co Ltd', 'China', 0.0026645613342544225],\n",
       " ['000876', 'New Hope Liuhe Co Ltd', 'China', 0.0025658738774301843],\n",
       " ['603799', 'Zhejiang Huayou Cobalt Co Ltd', 'China', 0.0025658738774301843],\n",
       " ['300413', 'Mango Excellent Media Co Ltd', 'China', 0.0025658738774301843],\n",
       " ['600745', 'Wingtech Technology Co Ltd', 'China', 0.002467186420605947],\n",
       " ['000768',\n",
       "  'Avic Xian Aircraft Industry Group Co Ltd',\n",
       "  'China',\n",
       "  0.002467186420605947],\n",
       " ['000895',\n",
       "  'Henan Shuanghui Investment & Development Co Ltd',\n",
       "  'China',\n",
       "  0.002467186420605947],\n",
       " ['000625',\n",
       "  'Chongqing Changan Automobile Co Ltd',\n",
       "  'China',\n",
       "  0.002467186420605947],\n",
       " ['601009', 'Bank Of Nanjing Co Ltd', 'China', 0.002467186420605947],\n",
       " ['601336',\n",
       "  'New China Life Insurance Co Ltd A',\n",
       "  'China',\n",
       "  0.0023684989637817087],\n",
       " ['600958', 'Orient Securities Co Ltd', 'China', 0.0023684989637817087],\n",
       " ['000776', 'GF Securities Co Ltd', 'China', 0.0023684989637817087],\n",
       " ['000166', 'Shenwan Hongyuan Group Co Ltd', 'China', 0.0023684989637817087],\n",
       " ['000157',\n",
       "  'Zoomlion Heavy Industry Science and Technology Co Ltd',\n",
       "  'China',\n",
       "  0.0023684989637817087],\n",
       " ['002129',\n",
       "  'Tianjin Zhonghuan Semiconductor Co Ltd',\n",
       "  'China',\n",
       "  0.0023684989637817087],\n",
       " ['600584', 'JCET Group Co Ltd', 'China', 0.0023684989637817087],\n",
       " ['600741', 'Huayu Automotive Systems Co Ltd', 'China', 0.0023684989637817087],\n",
       " ['002007',\n",
       "  'Hualan Biological Engineering Inc',\n",
       "  'China',\n",
       "  0.002269811506957471],\n",
       " ['601633', 'Great Wall Motor Co Ltd A', 'China', 0.002269811506957471],\n",
       " ['601377',\n",
       "  'China Industrial Securities Co Ltd',\n",
       "  'China',\n",
       "  0.002269811506957471],\n",
       " ['600926', 'Bank Of Hangzhou Co Ltd A', 'China', 0.002269811506957471],\n",
       " ['002050',\n",
       "  'Zhejiang Sanhua Intelligent Controls Co Ltd',\n",
       "  'China',\n",
       "  0.002269811506957471],\n",
       " ['002001', 'Zhejiang Nhu Co Ltd', 'China', 0.002171124050133233],\n",
       " ['600547', 'Shandong Gold Mining Co Ltd', 'China', 0.002171124050133233],\n",
       " ['601100', 'Jiangsu Hengli Hydraulic Co Ltd', 'China', 0.002171124050133233],\n",
       " ['002821',\n",
       "  'Asymchem Laboratories Tianjin Co Ltd',\n",
       "  'China',\n",
       "  0.002171124050133233],\n",
       " ['002371', 'NAURA Technology Group Co Ltd', 'China', 0.002171124050133233],\n",
       " ['600176', 'China Jushi Co Ltd', 'China', 0.002171124050133233],\n",
       " ['601939', 'China Construction Bank Corp', 'China', 0.002171124050133233],\n",
       " ['603993', 'China Molybdenum Co Ltd Class A', 'China', 0.0020724365933089952],\n",
       " ['600050',\n",
       "  'China United Network Communications Ltd',\n",
       "  'China',\n",
       "  0.0020724365933089952],\n",
       " ['001979',\n",
       "  'China Merchants Shekou Industrial Zone Holdings Co Ltd',\n",
       "  'China',\n",
       "  0.0020724365933089952],\n",
       " ['002179',\n",
       "  'AVIC Jonhon Optronic Technology Co Ltd',\n",
       "  'China',\n",
       "  0.0020724365933089952],\n",
       " ['300408',\n",
       "  'Chaozhou Three-Circle (Group) Co Ltd',\n",
       "  'China',\n",
       "  0.0020724365933089952],\n",
       " ['601857', 'PetroChina Co Ltd', 'China', 0.0020724365933089952],\n",
       " ['300433', 'Lens Technology Co Ltd A', 'China', 0.0020724365933089952],\n",
       " ['601877', 'Zhejiang Chint Electrics Co Ltd', 'China', 0.0019737491364847574],\n",
       " ['002555',\n",
       "  'Wuhu Sanqi Interactive Entertainment Network Technology Group Co Ltd',\n",
       "  'China',\n",
       "  0.0019737491364847574],\n",
       " ['601066', 'China Securities Co Ltd', 'China', 0.0019737491364847574],\n",
       " ['002202',\n",
       "  'Xinjiang Goldwind Science & Technology Co Ltd',\n",
       "  'China',\n",
       "  0.0019737491364847574],\n",
       " ['601901', 'Founder Securities Co Ltd', 'China', 0.0019737491364847574],\n",
       " ['002736', 'Guosen Securities Co Ltd', 'China', 0.0019737491364847574],\n",
       " ['600109', 'Sinolink Securities Co Ltd', 'China', 0.0019737491364847574],\n",
       " ['600015', 'Hua Xia Bank Co Ltd', 'China', 0.0019737491364847574],\n",
       " ['601006', 'Daqin Railway Co Ltd', 'China', 0.0019737491364847574],\n",
       " ['000860',\n",
       "  'Beijing Shunxin Agriculture Co Ltd',\n",
       "  'China',\n",
       "  0.0019737491364847574],\n",
       " ['002601', 'Lomon Billions Group Co Ltd', 'China', 0.0018750616796605194],\n",
       " ['000786',\n",
       "  'Beijing New Building Materialsl PLC',\n",
       "  'China',\n",
       "  0.0018750616796605194],\n",
       " ['601225',\n",
       "  'Shaanxi Coal Industry Co Ltd Class A',\n",
       "  'China',\n",
       "  0.0018750616796605194],\n",
       " ['601989',\n",
       "  'China Shipbuilding Industry Corp',\n",
       "  'China',\n",
       "  0.0018750616796605194],\n",
       " ['002841',\n",
       "  'Guangzhou Shiyuan Electronic Technology Co Ltd A',\n",
       "  'China',\n",
       "  0.0018750616796605194],\n",
       " ['600872',\n",
       "  'Jonjee Hi-Tech Industrial and Commercial Holding Co Ltd',\n",
       "  'China',\n",
       "  0.0018750616796605194],\n",
       " ['002008',\n",
       "  \"Han's Laser Technology Industry Group Co Ltd\",\n",
       "  'China',\n",
       "  0.0018750616796605194],\n",
       " ['688008',\n",
       "  'Montage Technology Co Ltd Class A',\n",
       "  'China',\n",
       "  0.0018750616796605194],\n",
       " ['601186',\n",
       "  'China Railway Construction Corp Ltd',\n",
       "  'China',\n",
       "  0.0018750616796605194],\n",
       " ['600600', 'Tsingtao Brewery Co Ltd', 'China', 0.0017763742228362816],\n",
       " ['603369',\n",
       "  \"Jiangsu King's Luck Brewery Joint-Stock Co Ltd\",\n",
       "  'China',\n",
       "  0.0017763742228362816],\n",
       " ['600352', 'Zhejiang Longsheng Group Co Ltd', 'China', 0.0017763742228362816],\n",
       " ['002236',\n",
       "  'Zhejiang Dahua Technology Co Ltd',\n",
       "  'China',\n",
       "  0.0017763742228362816],\n",
       " ['603160',\n",
       "  'Shenzhen Goodix Technology Co Ltd A',\n",
       "  'China',\n",
       "  0.0017763742228362816],\n",
       " ['601788',\n",
       "  'Everbright Securities Co Ltd Class A',\n",
       "  'China',\n",
       "  0.0017763742228362816],\n",
       " ['300003',\n",
       "  'Lepu Medical Technology (Beijing) Co Ltd',\n",
       "  'China',\n",
       "  0.0017763742228362816],\n",
       " ['002624', 'Perfect World Co Ltd', 'China', 0.0017763742228362816],\n",
       " ['603019',\n",
       "  'Dawning Information Industry Co Ltd --- Shs -A-',\n",
       "  'China',\n",
       "  0.0017763742228362816],\n",
       " ['002600', 'Lingyi Itech (Guangdong) Co Ltd', 'China', 0.0016776867660120438],\n",
       " ['003816',\n",
       "  'CGN Power Co Ltd Ordinary Shares Class A',\n",
       "  'China',\n",
       "  0.0016776867660120438],\n",
       " ['002938', 'Avary Holding (Shenzhen) Co Ltd', 'China', 0.0016776867660120438],\n",
       " ['603899', 'Shanghai M&G Stationery Inc', 'China', 0.0016776867660120438],\n",
       " ['600183', 'Shengyi Technology Co Ltd', 'China', 0.001578999309187806],\n",
       " ['000783',\n",
       "  'Changjiang Securities Company Ltd',\n",
       "  'China',\n",
       "  0.001578999309187806],\n",
       " ['601360', '360 Security Technology Inc', 'China', 0.001578999309187806],\n",
       " ['002384',\n",
       "  'Suzhou Dongshan Precision Manufacturing Co Ltd',\n",
       "  'China',\n",
       "  0.001578999309187806],\n",
       " ['000066',\n",
       "  'China Greatwall Technology Group Co Ltd',\n",
       "  'China',\n",
       "  0.001578999309187806],\n",
       " ['688012',\n",
       "  'Advanced Micro-fabrication Equipment Inc Class A',\n",
       "  'China',\n",
       "  0.001578999309187806],\n",
       " ['601108',\n",
       "  'Caitong Securities Co Ltd Class A',\n",
       "  'China',\n",
       "  0.001578999309187806],\n",
       " ['000596', 'Anhui Gujing Distillery Co Ltd', 'China', 0.001578999309187806],\n",
       " ['601985',\n",
       "  'China National Nuclear Power Co Ltd A',\n",
       "  'China',\n",
       "  0.001578999309187806],\n",
       " ['600383', 'Gemdale Corp', 'China', 0.001480311852363568],\n",
       " ['601555', 'Soochow Securities Co Ltd', 'China', 0.001480311852363568],\n",
       " ['002044',\n",
       "  'Meinian Onehealth Healthcare Holdings Co Ltd',\n",
       "  'China',\n",
       "  0.001480311852363568],\n",
       " ['601669',\n",
       "  'Power Construction Corporation of China Ltd',\n",
       "  'China',\n",
       "  0.001480311852363568],\n",
       " ['000938', 'Unisplendour Corp Ltd', 'China', 0.001480311852363568],\n",
       " ['002024', 'Suning.com Co Ltd', 'China', 0.001480311852363568],\n",
       " ['300136',\n",
       "  'Shenzhen Sunway Communication Co Ltd',\n",
       "  'China',\n",
       "  0.001480311852363568],\n",
       " ['000069',\n",
       "  'Shenzhen Overseas Chinese Town Co Ltd',\n",
       "  'China',\n",
       "  0.0013816243955393304],\n",
       " ['002456', 'OFILM Group Co Ltd', 'China', 0.0013816243955393304],\n",
       " ['600111',\n",
       "  'China Northern Rare Earth (Group) High-Tech Co Ltd',\n",
       "  'China',\n",
       "  0.0013816243955393304],\n",
       " ['300529', 'Jafron Biomedical Co Ltd A', 'China', 0.0013816243955393304],\n",
       " ['601138',\n",
       "  'Foxconn Industrial Internet Co Ltd Class A',\n",
       "  'China',\n",
       "  0.0013816243955393304],\n",
       " ['600795', 'GD Power Development Co Ltd', 'China', 0.0013816243955393304],\n",
       " ['000977',\n",
       "  'Inspur Electronic Information Industry Co Ltd',\n",
       "  'China',\n",
       "  0.0013816243955393304],\n",
       " ['601933', 'Yonghui Superstores Co Ltd', 'China', 0.0013816243955393304],\n",
       " ['600010',\n",
       "  'Inner Mongolian Baotou Steel Union Co Ltd',\n",
       "  'China',\n",
       "  0.0013816243955393304],\n",
       " ['600522',\n",
       "  'Jiangsu Zhongtian Technology Co Ltd',\n",
       "  'China',\n",
       "  0.0013816243955393304],\n",
       " ['600161',\n",
       "  'Beijing Tiantan Biological Products Corp Ltd',\n",
       "  'China',\n",
       "  0.0013816243955393304],\n",
       " ['002414', 'Wuhan Guide Infrared Co Ltd', 'China', 0.0013816243955393304],\n",
       " ['300144',\n",
       "  'Songcheng Performance Development Co Ltd',\n",
       "  'China',\n",
       "  0.0013816243955393304],\n",
       " ['300033',\n",
       "  'Hithink RoyalFlush Information Network Co Ltd',\n",
       "  'China',\n",
       "  0.0013816243955393304],\n",
       " ['002602',\n",
       "  'Zhejiang Century Huatong Group Co Ltd',\n",
       "  'China',\n",
       "  0.0012829369387150921],\n",
       " ['601878',\n",
       "  'Zheshang Securities Co Ltd Class A',\n",
       "  'China',\n",
       "  0.0012829369387150921],\n",
       " ['600029', 'China Southern Airlines Co Ltd', 'China', 0.0012829369387150921],\n",
       " ['601800',\n",
       "  'China Communications Construction Co Ltd Class A',\n",
       "  'China',\n",
       "  0.0012829369387150921],\n",
       " ['-CASH-', 'AVIC SHENYANG AIRCRAFT CO -A', None, 0.0012829369387150921],\n",
       " ['000425',\n",
       "  'XCMG Construction Machinery Co Ltd',\n",
       "  'China',\n",
       "  0.0012829369387150921],\n",
       " ['-CASH-', 'SEAZEN HOLDINGS CO LTD-A', None, 0.0012829369387150921],\n",
       " ['600886', 'SDIC Power Holdings Co Ltd', 'China', 0.0011842494818908543],\n",
       " ['601600',\n",
       "  'Aluminum Corporation of China Ltd',\n",
       "  'China',\n",
       "  0.0011842494818908543],\n",
       " ['603833', 'Oppein Home Group Inc A', 'China', 0.0011842494818908543],\n",
       " ['601838', 'Bank of Chengdu Co Ltd Class A', 'China', 0.0011842494818908543],\n",
       " ['000963', 'Huadong Medicine Co Ltd', 'China', 0.0011842494818908543],\n",
       " ['002607',\n",
       "  'Offcn Education Technology Co Ltd',\n",
       "  'China',\n",
       "  0.0011842494818908543],\n",
       " ['600061', 'SDIC Capital Co Ltd', 'China', 0.0011842494818908543],\n",
       " ['000703', 'Hengyi Petrochemical Co Ltd', 'China', 0.0011842494818908543],\n",
       " ['000728', 'Guoyuan Securities Co Ltd', 'China', 0.0011842494818908543],\n",
       " ['600705', 'AVIC Capital Co Ltd', 'China', 0.0011842494818908543],\n",
       " ['002463',\n",
       "  'Wus Printed Circuit (Kunshan) Co Ltd',\n",
       "  'China',\n",
       "  0.0011842494818908543],\n",
       " ['000656',\n",
       "  'Jinke Property Group Co Ltd Class A',\n",
       "  'China',\n",
       "  0.0011842494818908543],\n",
       " ['600066', 'Zhengzhou Yutong Bus Co Ltd', 'China', 0.0011842494818908543],\n",
       " ['601607',\n",
       "  'Shanghai Pharmaceuticals Holding Co Ltd A',\n",
       "  'China',\n",
       "  0.0010855620250666165],\n",
       " ['000708',\n",
       "  'Citic Pacific Special Steel Group Co Ltd',\n",
       "  'China',\n",
       "  0.0010855620250666165],\n",
       " ['601111', 'Air China Ltd', 'China', 0.0010855620250666165],\n",
       " ['002157',\n",
       "  'Jiangxi Zhengbang Technology Co Ltd',\n",
       "  'China',\n",
       "  0.0010855620250666165],\n",
       " ['688036',\n",
       "  'Shenzhen Transsion Holdings Co Ltd Class A',\n",
       "  'China',\n",
       "  0.0010855620250666165],\n",
       " ['600606',\n",
       "  'Greenland Holdings Group Corporation Ltd',\n",
       "  'China',\n",
       "  0.0010855620250666165],\n",
       " ['600362', 'Jiangxi Copper Co Ltd', 'China', 0.0010855620250666165],\n",
       " ['300676', 'BGI Genomics Co Ltd Class A', 'China', 0.0010855620250666165],\n",
       " ['601021', 'Spring Airlines Co Ltd A', 'China', 0.0009868745682423787],\n",
       " ['600115', 'China Eastern Airlines Corp Ltd', 'China', 0.0009868745682423787],\n",
       " ['600340',\n",
       "  'China Fortune Land Development Co Ltd',\n",
       "  'China',\n",
       "  0.0009868745682423787],\n",
       " ['600011', 'Huaneng Power International Inc', 'China', 0.0009868745682423787],\n",
       " ['601727', 'Shanghai Electric Group Co Ltd', 'China', 0.0009868745682423787],\n",
       " ['600177', 'Youngor Group Co Ltd', 'China', 0.0009868745682423787],\n",
       " ['603658', 'Autobio Diagnostics Co Ltd A', 'China', 0.0009868745682423787],\n",
       " ['002252',\n",
       "  'Shanghai RAAS Blood Products Co Ltd',\n",
       "  'China',\n",
       "  0.0009868745682423787],\n",
       " ['300628',\n",
       "  'Yealink Network Technology Corp Ltd',\n",
       "  'China',\n",
       "  0.0009868745682423787],\n",
       " ['601162',\n",
       "  'Tianfeng Securities Co Ltd Class A',\n",
       "  'China',\n",
       "  0.0009868745682423787],\n",
       " ['601618',\n",
       "  'Metallurgical Corp of China Ltd Class A',\n",
       "  'China',\n",
       "  0.0009868745682423787],\n",
       " ['002422',\n",
       "  'Sichuan Kelun Pharmaceutical Co Ltd',\n",
       "  'China',\n",
       "  0.0009868745682423787],\n",
       " ['601816',\n",
       "  'Beijing-Shanghai High Speed Railway Co Ltd Class A',\n",
       "  'China',\n",
       "  0.0009868745682423787],\n",
       " ['600487', 'Hengtong Optic-Electric Co Ltd', 'China', 0.0009868745682423787],\n",
       " ['002508',\n",
       "  'Hangzhou Robam Appliances Co Ltd',\n",
       "  'China',\n",
       "  0.0009868745682423787],\n",
       " ['600118', 'China Spacesat Co Ltd', 'China', 0.0008881871114181408],\n",
       " ['600068', 'China Gezhouba Group Co Ltd', 'China', 0.0008881871114181408],\n",
       " ['600637', 'Oriental Pearl Group Co Ltd', 'China', 0.0008881871114181408],\n",
       " ['002120', 'Yunda Holding Co Ltd', 'China', 0.0008881871114181408],\n",
       " ['002773',\n",
       "  'Chengdu Kanghong Pharmaceutical Group Co Ltd A',\n",
       "  'China',\n",
       "  0.0008881871114181408],\n",
       " ['601198', 'Dongxing Securities Co Ltd', 'China', 0.0008881871114181408],\n",
       " ['002673',\n",
       "  'Western Securities Co Ltd Class A',\n",
       "  'China',\n",
       "  0.0008881871114181408],\n",
       " ['600369', 'Southwest Securities Co Ltd', 'China', 0.0008881871114181408],\n",
       " ['601990',\n",
       "  'Nanjing Securities Co Ltd Class A',\n",
       "  'China',\n",
       "  0.0008881871114181408],\n",
       " ['600489', 'Zhongjin Gold Corp Ltd', 'China', 0.0008881871114181408],\n",
       " ['-CASH-', 'SHENNAN CIRCUITS CO LTD-A', None, 0.0008881871114181408],\n",
       " ['600498',\n",
       "  'Fiberhome Telecommunication Technologies Co Ltd',\n",
       "  'China',\n",
       "  0.0008881871114181408],\n",
       " ['600845',\n",
       "  'Shanghai Baosight Software Co Ltd',\n",
       "  'China',\n",
       "  0.0008881871114181408],\n",
       " ['601216',\n",
       "  'Inner Mongolia Junzheng Energy & Chemical Group Co Ltd',\n",
       "  'China',\n",
       "  0.0008881871114181408],\n",
       " ['000961',\n",
       "  'Jiangsu Zhongnan Construction Group Co Ltd',\n",
       "  'China',\n",
       "  0.000789499654593903],\n",
       " ['600332',\n",
       "  'Guangzhou Baiyunshan Pharmaceutical Holdings Co Ltd',\n",
       "  'China',\n",
       "  0.000789499654593903],\n",
       " ['600004',\n",
       "  'Guangzhou Baiyun International Airport Co Ltd',\n",
       "  'China',\n",
       "  0.000789499654593903],\n",
       " ['600018',\n",
       "  'Shanghai International Port (Group) Co Ltd',\n",
       "  'China',\n",
       "  0.000789499654593903],\n",
       " ['601658',\n",
       "  'Postal Savings Bank Of China Co Ltd Class A',\n",
       "  'China',\n",
       "  0.000789499654593903],\n",
       " ['601998', 'China Citic Bank Corp Ltd', 'China', 0.000789499654593903],\n",
       " ['601881', 'China Galaxy Securities Co Ltd A', 'China', 0.000789499654593903],\n",
       " ['002739', 'Wanda Film Holding Co Ltd', 'China', 0.000789499654593903],\n",
       " ['600390', 'Minmetals Capital Co Ltd', 'China', 0.000789499654593903],\n",
       " ['688009',\n",
       "  'China Railway Signal & Communication Corp Ltd Class A',\n",
       "  'China',\n",
       "  0.000789499654593903],\n",
       " ['600233', 'YTO Express Group Co Ltd', 'China', 0.0006908121977696652],\n",
       " ['601117',\n",
       "  'China National Chemical Engineering Co Ltd',\n",
       "  'China',\n",
       "  0.0006908121977696652],\n",
       " ['002558', 'Giant Network Group Co Ltd', 'China', 0.0006908121977696652],\n",
       " ['000723', 'Shanxi Meijin Energy Co Ltd', 'China', 0.0006908121977696652],\n",
       " ['002958',\n",
       "  'Qingdao Rural Commercial Bank Corp Class A',\n",
       "  'China',\n",
       "  0.0006908121977696652],\n",
       " ['600271', 'Aisino Corp', 'China', 0.0006908121977696652],\n",
       " ['601319',\n",
       "  \"The People's Insurance Co (Group) of China Ltd Class A\",\n",
       "  'China',\n",
       "  0.0006908121977696652],\n",
       " ['601916',\n",
       "  'China Zheshang Bank Co Ltd Class A',\n",
       "  'China',\n",
       "  0.0006908121977696652],\n",
       " ['600918', 'Zhongtai Securities Co Ltd', 'China', 0.0006908121977696652],\n",
       " ['603195', 'Gongniu Group Co Ltd Class A', 'China', 0.0006908121977696652],\n",
       " ['603156',\n",
       "  'Hebei Yangyuan Zhihui Beverage Co Ltd Class A',\n",
       "  'China',\n",
       "  0.0006908121977696652],\n",
       " ['600208', 'Xinhu Zhongbao Co Ltd', 'China', 0.0006908121977696652],\n",
       " ['601236',\n",
       "  'Hongta Securities Co Ltd Class A',\n",
       "  'China',\n",
       "  0.0006908121977696652],\n",
       " ['600998',\n",
       "  'Jointown Pharmaceutical Group Co Ltd',\n",
       "  'China',\n",
       "  0.0006908121977696652],\n",
       " ['601231',\n",
       "  'Universal Scientific Industrial (Shanghai) Co Ltd',\n",
       "  'China',\n",
       "  0.0006908121977696652],\n",
       " ['600085', 'Beijing Tongrentang Co Ltd', 'China', 0.0006908121977696652],\n",
       " ['600655',\n",
       "  'Shanghai Yuyuan Tourist Mart (Group) Co Ltd',\n",
       "  'China',\n",
       "  0.0005921247409454272],\n",
       " ['601238',\n",
       "  'Guangzhou Automobile Group Co Ltd A',\n",
       "  'China',\n",
       "  0.0005921247409454272],\n",
       " ['002032', 'Zhejiang Supor Co Ltd', 'China', 0.0005921247409454272],\n",
       " ['600848',\n",
       "  'Shanghai Lingang Holdings Corp Ltd',\n",
       "  'China',\n",
       "  0.0005921247409454272],\n",
       " ['002939',\n",
       "  'China Great Wall Securities Co Ltd Class A',\n",
       "  'China',\n",
       "  0.0005921247409454272],\n",
       " ['600150', 'China CSSC Holdings Ltd', 'China', 0.0005921247409454272],\n",
       " ['600297',\n",
       "  'China Grand Automotive Services Group Co Ltd',\n",
       "  'China',\n",
       "  0.0005921247409454272],\n",
       " ['600482',\n",
       "  'China Shipbuilding Industry Group Power Co Ltd',\n",
       "  'China',\n",
       "  0.0005921247409454272],\n",
       " ['601872',\n",
       "  'China Merchants Energy Shipping Co Ltd',\n",
       "  'China',\n",
       "  0.0005921247409454272],\n",
       " ['002146',\n",
       "  'Risesun Real Estate Development Co Ltd',\n",
       "  'China',\n",
       "  0.0005921247409454272],\n",
       " ['600027',\n",
       "  'Huadian Power International Corp Ltd',\n",
       "  'China',\n",
       "  0.0005921247409454272],\n",
       " ['000671', 'Yango Group Co Ltd', 'China', 0.0004934372841211894],\n",
       " ['603392',\n",
       "  'Beijing Wantai Biological Pharmacy Enterprise Co Ltd Class A',\n",
       "  'China',\n",
       "  0.0004934372841211894],\n",
       " ['002153',\n",
       "  'Beijing Shiji Information Technology Co Ltd',\n",
       "  'China',\n",
       "  0.0004934372841211894],\n",
       " ['601577', 'Bank of Changsha Co Ltd', 'China', 0.0004934372841211894],\n",
       " ['000627',\n",
       "  'Hubei Biocause Pharmaceutical Co Ltd',\n",
       "  'China',\n",
       "  0.0004934372841211894],\n",
       " ['603087',\n",
       "  'Gan & Lee Pharmaceuticals Co Ltd Class A',\n",
       "  'China',\n",
       "  0.0004934372841211894],\n",
       " ['600989',\n",
       "  'Ningxia Baofeng Energy Group Co Ltd Class A',\n",
       "  'China',\n",
       "  0.0003947498272969515],\n",
       " ['600025',\n",
       "  'Huaneng Lancang River Hydropower Inc Class A',\n",
       "  'China',\n",
       "  0.0003947498272969515],\n",
       " ['601077',\n",
       "  'Chongqing Rural Commercial Bank Co Ltd Class A',\n",
       "  'China',\n",
       "  0.0003947498272969515],\n",
       " ['601698',\n",
       "  'China Satellite Communications Co Ltd',\n",
       "  'China',\n",
       "  0.0003947498272969515],\n",
       " ['601696',\n",
       "  'BOC International China Co Ltd Class A',\n",
       "  'China',\n",
       "  0.0003947498272969515],\n",
       " ['601808', 'China Oilfield Services Ltd', 'China', 0.0003947498272969515],\n",
       " ['601155', 'Seazen Holdings Co Ltd Shs -A-', 'China', 0.0002960623704727136],\n",
       " ['-CASH-', 'BGI GENOMICS CO LTD-A', None, 0.0002960623704727136],\n",
       " ['600760', 'Avic Shenyang Aircraft Co Ltd', 'China', 0.0002960623704727136],\n",
       " ['-CASH-', 'SHENNAN CIRCUITS CO LTD-A', None, 0.00019737491364847575],\n",
       " ['002945', 'Chinalin Securities Co Ltd', 'China', 0.00019737491364847575],\n",
       " ['600299', 'Bluestar Adisseo Co', 'China', 0.00019737491364847575]]"
      ]
     },
     "execution_count": 34,
     "metadata": {},
     "output_type": "execute_result"
    }
   ],
   "source": [
    "etfs['ASHR']"
   ]
  },
  {
   "cell_type": "code",
   "execution_count": null,
   "metadata": {},
   "outputs": [],
   "source": []
  },
  {
   "cell_type": "code",
   "execution_count": null,
   "metadata": {},
   "outputs": [],
   "source": []
  },
  {
   "cell_type": "code",
   "execution_count": null,
   "metadata": {},
   "outputs": [],
   "source": []
  },
  {
   "cell_type": "code",
   "execution_count": null,
   "metadata": {},
   "outputs": [],
   "source": []
  },
  {
   "cell_type": "code",
   "execution_count": 35,
   "metadata": {},
   "outputs": [],
   "source": [
    "currency = {\n",
    "    'Us Dollar': 'USD',\n",
    "    'Cash†': 'USD',\n",
    "    'Cashusd': 'USD',\n",
    "    'Japanese Yen': 'JPY',\n",
    "    'Polish Zloty': 'PLN',\n",
    "    'British Pound Sterling': 'GBP',\n",
    "    'Norwegian Krone': 'NOK',\n",
    "    'Chinese Yuan': 'CNY',\n",
    "    'Pound Sterling': 'GBP',\n",
    "    'Euro Currency': 'EUR',\n",
    "    'Canadian Dollar': 'CAD',\n",
    "    'Swiss Franc': 'CHF',\n",
    "    'Australian Dollar': 'AUD',\n",
    "    'Euro': 'EUR',\n",
    "    'Cash Collateral Eur Ubfut': 'EUR',\n",
    "    'Hong Kong Dollar': 'HKD',\n",
    "    'Futures Krw Margin Balance': 'KRW',\n",
    "    'Cnh Cash': 'CNY',   \n",
    "}\n",
    "currency.update({f'{sym.capitalize()} Cash':sym for sym in CURRENCIES})\n",
    "\n",
    "commodities = {'Gold'}\n",
    "\n",
    "skippable = {'JFROG LTD COMMON STOCK',\n",
    " 'State Street Institutional Liq State St Inst Liq Res Prem',\n",
    " 'Ss Inst Treas Plus Mm Fund Tru Ss Inst Treas Plus Mm Fund Tru',\n",
    " 'E-Mini Russ 2000 Mar21 Xcme 20210319',\n",
    " 'Hirogin Holdings Inc Common Stock',\n",
    " 'Ssc Government Mm Gvmxx',\n",
    " 'Interest/Overdraft',\n",
    " 'Ss Inst Treas Plus Mm Fund Tru Ss Inst Treas Plus Mm Fund Tru',\n",
    " 'E-Mini Russ 2000 Mar21 Xcme 20210319',\n",
    " 'Engie Loyalty Line 2021',\n",
    " 'Edf (Electricie De France) Loyalty Line 2021',\n",
    " 'BANCO SANTANDER SA (RTS NOV 2020)',\n",
    " 'Seb Sa (Loyalty Line 2021) New',\n",
    " 'AVEVA GROUP-NIL',\n",
    " 'Interest/Overdraft',\n",
    " 'AVIC SHENYANG AIRCRAFT CO -A',\n",
    " 'SEAZEN HOLDINGS CO LTD-A',\n",
    " 'SHENNAN CIRCUITS CO LTD-A',\n",
    " 'BGI GENOMICS CO LTD-A',\n",
    " 'SHENNAN CIRCUITS CO LTD-A',\n",
    " 'State Street Institutional Liq State St Inst Liq Res Prem',\n",
    " 'Siemens Energy Ag Common Stock',\n",
    " 'Docebo Inc Common Stock Npv',\n",
    " 'Adp Common Stock Eur3.0',\n",
    " 'Lundbergs Ab B Shs Common Stock',\n",
    " 'Befesa Sa Common Stock',\n",
    " 'Ses Receipt',\n",
    " 'Money Forward Inc Common Stock',\n",
    " 'Kadokawa Corp Common Stock',\n",
    " 'Schaeffler Ag Pref Preference',\n",
    " 'Ss Inst Treas Plus Mm Fund Tru Ss Inst Treas Plus Mm Fund Tru',\n",
    " 'E-Mini Russ 2000 Mar21 Xcme 20210319',\n",
    " 'State Street Institutional Liq State St Inst Liq Res Prem',\n",
    " 'BlackRock Cash Funds Treasury SL Agency',\n",
    " 'BlackRock Cash Funds Treasury SL Agency',\n",
    " 'FirstCash Inc',\n",
    " 'BlackRock Cash Funds Treasury SL Agency',\n",
    " 'Cash Collateral Usd Hbcft',\n",
    " 'FirstCash Inc',\n",
    " 'BlackRock Cash Funds Treasury SL Agency',\n",
    " 'Cash Collateral Usd Ubfut',\n",
    " 'BlackRock Cash Funds Treasury SL Agency',\n",
    " 'Cash Collateral Msfut Usd',\n",
    " 'FirstCash Inc',\n",
    " 'Lancashire Holdings Ltd',\n",
    " 'Cash Collateral Usd Hbcft',\n",
    " 'BlackRock Cash Funds Treasury SL Agency',\n",
    " 'Cash Collateral Usd Sgaft',\n",
    " 'FirstCash Inc',\n",
    " 'BlackRock Cash Funds Treasury SL Agency',\n",
    " 'Cash Collateral Cad Ubfut',\n",
    " 'BlackRock Cash Funds Treasury SL Agency',\n",
    " 'BlackRock Cash Funds Treasury SL Agency',\n",
    " 'BlackRock Cash Funds Treasury SL Agency',\n",
    " 'Cash Collateral Usd Ubfut',\n",
    " 'Metcash Ltd',\n",
    " 'Lancashire Holdings Ltd',\n",
    " 'Cash Collateral Usd Jpmsw',\n",
    " 'BlackRock Cash Funds Treasury SL Agency',\n",
    " 'John Deere Cash Management 0.5%',\n",
    " 'John Deere Cash Management 2.2%',\n",
    " 'Lancashire Holdings Ltd',}\n",
    "\n",
    "aliases = {\n",
    "    'NTDOY': '7974',\n",
    "    'TCEHY': '00700',\n",
    "}\n"
   ]
  },
  {
   "cell_type": "code",
   "execution_count": 36,
   "metadata": {
    "scrolled": true
   },
   "outputs": [
    {
     "name": "stdout",
     "output_type": "stream",
     "text": [
      "ARKK Ms Govt Instl Liq Fd 8035\n"
     ]
    },
    {
     "data": {
      "text/plain": [
       "[]"
      ]
     },
     "execution_count": 36,
     "metadata": {},
     "output_type": "execute_result"
    }
   ],
   "source": [
    "assets = {}\n",
    "known = set()\n",
    "skip_it = []\n",
    "    \n",
    "for sec, rows in etfs.items():\n",
    "    if sec in ratios and ratios[sec] > 0:\n",
    "        r = ratios[sec]\n",
    "        for row in rows:\n",
    "            typ = 'Stocks'\n",
    "            tk, name, land, q = row\n",
    "            ticker = tk\n",
    "            if name in commodities:\n",
    "                typ = 'Commodity'\n",
    "                ticker = None\n",
    "                tk = name\n",
    "                land = None\n",
    "            if name in currency or tk == '-CASH-':\n",
    "                if name in currency:\n",
    "                    tk = currency[name]\n",
    "                if tk in CURRENCIES:\n",
    "                    name = CURRENCIES[tk]['name']\n",
    "                    typ = 'Currency'\n",
    "                    land = None\n",
    "                elif name not in skippable:\n",
    "                    print(sec, name)\n",
    "                    \n",
    "            if tk is None and sec == 'ICVT':\n",
    "                tk = 'Convertible Bonds'\n",
    "                typ = 'Convertible Bonds'\n",
    "                name = 'Convertible Bonds'\n",
    "                ticker = None\n",
    "                land = None\n",
    "                \n",
    "            if tk is None and pies[sec]['Asset Classification'] == 'Fixed Income' or ' Treasury ' in name:\n",
    "                tk = 'Bonds'\n",
    "#                 if land is not None:\n",
    "#                     tk = f'Bonds - {land}'\n",
    "                typ = 'Bonds'\n",
    "                name = 'Bonds'\n",
    "                ticker = None\n",
    "                land = None\n",
    "            \n",
    "            if tk is None:\n",
    "#                 if name not in skippable:\n",
    "#                     print(sec, name)\n",
    "                tk = 'Unknown'\n",
    "                typ = 'Unknown'\n",
    "                name = 'Unknown'\n",
    "                ticker = None\n",
    "                land = None\n",
    "            \n",
    "            if tk not in assets:\n",
    "                assets[tk] = {'name': name, 'ticker': ticker, 'amount': 0., 'country': land, 'type': typ}\n",
    "            assets[tk]['amount'] += q * r\n",
    "            \n",
    "for tk, info in stocks.items():\n",
    "    \n",
    "    if tk in ratios and ratios[tk] > 0:\n",
    "        r = ratios[tk]\n",
    "        \n",
    "        if tk in aliases:\n",
    "            tk = aliases[tk]\n",
    "        if tk not in assets:\n",
    "            print(tk)\n",
    "        else:\n",
    "            assets[tk]['employees'] = info['employees']\n",
    "            assets[tk]['eps'] = info['eps']\n",
    "            assets[tk]['amount'] += r\n",
    "\n",
    "# for tk, info in assets.items():\n",
    "#     if tk != 'Unknown':\n",
    "#         info['ticker'] = tk\n",
    "            \n",
    "skip_it"
   ]
  },
  {
   "cell_type": "code",
   "execution_count": 37,
   "metadata": {},
   "outputs": [
    {
     "data": {
      "text/plain": [
       "4829"
      ]
     },
     "execution_count": 37,
     "metadata": {},
     "output_type": "execute_result"
    }
   ],
   "source": [
    "len(assets)"
   ]
  },
  {
   "cell_type": "code",
   "execution_count": 38,
   "metadata": {},
   "outputs": [
    {
     "data": {
      "text/plain": [
       "1.000000000000055"
      ]
     },
     "execution_count": 38,
     "metadata": {},
     "output_type": "execute_result"
    }
   ],
   "source": [
    "sum(a['amount'] for a in assets.values())"
   ]
  },
  {
   "cell_type": "code",
   "execution_count": 39,
   "metadata": {},
   "outputs": [
    {
     "data": {
      "text/plain": [
       "{'name': 'Unknown',\n",
       " 'ticker': None,\n",
       " 'amount': 0.0033551608243534235,\n",
       " 'country': None,\n",
       " 'type': 'Unknown'}"
      ]
     },
     "execution_count": 39,
     "metadata": {},
     "output_type": "execute_result"
    }
   ],
   "source": [
    "assets['Unknown']"
   ]
  },
  {
   "cell_type": "code",
   "execution_count": 40,
   "metadata": {},
   "outputs": [
    {
     "data": {
      "text/plain": [
       "{'name': 'United States dollar',\n",
       " 'ticker': '-CASH-',\n",
       " 'amount': 0.0031160413088704925,\n",
       " 'country': None,\n",
       " 'type': 'Currency'}"
      ]
     },
     "execution_count": 40,
     "metadata": {},
     "output_type": "execute_result"
    }
   ],
   "source": [
    "assets['USD']"
   ]
  },
  {
   "cell_type": "code",
   "execution_count": 41,
   "metadata": {},
   "outputs": [
    {
     "data": {
      "text/plain": [
       "{'Stocks': 0.8895861210861998,\n",
       " 'Unknown': 0.0033551608243534235,\n",
       " 'Currency': 0.007041629250303058,\n",
       " 'Bonds': 0.04042692490477197,\n",
       " 'Convertible Bonds': 0.049590163934426224,\n",
       " 'Commodity': 0.01}"
      ]
     },
     "execution_count": 41,
     "metadata": {},
     "output_type": "execute_result"
    }
   ],
   "source": [
    "breakdown = {}\n",
    "for n, info in assets.items():\n",
    "    typ = info['type']\n",
    "    if typ not in breakdown:\n",
    "        breakdown[typ] = 0.\n",
    "    breakdown[typ] += info['amount']\n",
    "breakdown"
   ]
  },
  {
   "cell_type": "code",
   "execution_count": 42,
   "metadata": {},
   "outputs": [
    {
     "data": {
      "text/plain": [
       "1.0000000000000544"
      ]
     },
     "execution_count": 42,
     "metadata": {},
     "output_type": "execute_result"
    }
   ],
   "source": [
    "sum(breakdown.values())"
   ]
  },
  {
   "cell_type": "code",
   "execution_count": 43,
   "metadata": {},
   "outputs": [],
   "source": [
    "# for n, info in assets.items():\n",
    "#     if info['type'] == 'Currency':\n",
    "#         print(n, info)"
   ]
  },
  {
   "cell_type": "code",
   "execution_count": 44,
   "metadata": {},
   "outputs": [
    {
     "name": "stdout",
     "output_type": "stream",
     "text": [
      "Asset Type           Amount (%)\n",
      "-----------------  ------------\n",
      "Stocks                88.9586\n",
      "Convertible Bonds      4.95902\n",
      "Bonds                  4.04269\n",
      "Commodity              1\n",
      "Currency               0.704163\n",
      "Unknown                0.335516\n"
     ]
    }
   ],
   "source": [
    "top = get_top(breakdown, None)\n",
    "print(tabulate(top, headers=['Asset Type', 'Amount (%)']))"
   ]
  },
  {
   "cell_type": "code",
   "execution_count": 45,
   "metadata": {},
   "outputs": [
    {
     "data": {
      "image/png": "[encoded data removed]",
      "text/plain": [
       "<Figure size 432x288 with 1 Axes>"
      ]
     },
     "metadata": {},
     "output_type": "display_data"
    }
   ],
   "source": [
    "plt.figure()\n",
    "l,x = breakdown.keys(), breakdown.values()\n",
    "l = [f'{L} {X*100:.2f}%' for L,X in zip(l,x)]\n",
    "objs, txt = plt.pie(x, labels=l, startangle=10) # explode=[1/(2*v+1) for v in x], \n",
    "# adjust_text(txt)\n",
    "plt.title('Breakdown')\n",
    "plt.savefig(str(root / 'breakdown.png'))\n",
    "pass"
   ]
  },
  {
   "cell_type": "code",
   "execution_count": null,
   "metadata": {},
   "outputs": [],
   "source": []
  },
  {
   "cell_type": "code",
   "execution_count": 46,
   "metadata": {},
   "outputs": [],
   "source": [
    "full = dicts_to_table(assets, cols=['name', 'ticker', 'country', 'amount'], sort_by='amount', reverse=True, \n",
    "                      ignore_key=True, skip_header=True)\n",
    "for row in full:\n",
    "    row[-1] *= 100\n"
   ]
  },
  {
   "cell_type": "code",
   "execution_count": 47,
   "metadata": {},
   "outputs": [],
   "source": [
    "num = 49\n",
    "# num = None\n",
    "\n",
    "if num is None:\n",
    "    top = full.copy()\n",
    "else:\n",
    "    top = full[:num]\n",
    "    if len(full) > num:\n",
    "        n = len(top[0])-2\n",
    "        top.append(['Other'] + [None]*n + [sum(x[-1] for x in full[num:])])\n",
    "    \n",
    "csv = []\n",
    "\n",
    "for line in top:\n",
    "    row = [('' if x is None else x) for x in line]\n",
    "#     row[-1] = f'{row[i]/100:.4f}'\n",
    "    row[-1] = f'{row[-1]:.2f}%'\n",
    "    csv.append(','.join(row))\n",
    "    \n",
    "headers = ['Name', 'Ticker', 'Country', 'Amount']\n",
    "with (root/'companies.csv').open('w', encoding='utf-8') as f:\n",
    "    f.write(','.join(headers) + '\\n')\n",
    "    f.write('\\n'.join(csv))\n",
    "    f.write('\\n')"
   ]
  },
  {
   "cell_type": "code",
   "execution_count": 48,
   "metadata": {
    "scrolled": false
   },
   "outputs": [
    {
     "name": "stdout",
     "output_type": "stream",
     "text": [
      "Name                                        Ticker    Country           Amount\n",
      "------------------------------------------  --------  -------------  ---------\n",
      "Convertible Bonds                                                     4.95902\n",
      "Bonds                                                                 4.04269\n",
      "Apple Inc                                   AAPL      United States   2.27329\n",
      "Tesla Inc                                   TSLA      United States   2.20598\n",
      "Microsoft Corp                              MSFT      United States   1.89339\n",
      "Amazon.com Inc                              AMZN      United States   1.57817\n",
      "Gold                                                                  1\n",
      "Tencent Holdings Ltd                        00700     China           0.957056\n",
      "Facebook Inc A                              FB        United States   0.819573\n",
      "Meituan                                     03690     China           0.816225\n",
      "Square Inc A                                SQ        United States   0.798312\n",
      "Pinduoduo Inc ADR                           PDD       China           0.795398\n",
      "Roku Inc Class A                            ROKU      United States   0.790211\n",
      "Alibaba Group Holding Ltd ADR               BABA      China           0.773579\n",
      "iShares MSCI India ETF                      INDA      United States   0.705355\n",
      "Invitae Corp                                NVTA      United States   0.683281\n",
      "JD.com Inc ADR                              JD        China           0.628781\n",
      "CRISPR Therapeutics AG                      CRSP      Switzerland     0.606121\n",
      "Alphabet Inc A                              GOOGL     United States   0.592406\n",
      "Slack Technologies Inc Class A              WORK      United States   0.539002\n",
      "Alphabet Inc Class C                        GOOG      United States   0.530265\n",
      "Kweichow Moutai Co Ltd                      600519    China           0.495411\n",
      "Ping An Insurance (Group) Co. of China Ltd  601318    China           0.472713\n",
      "Bilibili Inc ADR                            BILI      China           0.452202\n",
      "Taiwan Semiconductor Manufacturing Co Ltd   2330      Taiwan          0.451577\n",
      "KE Holdings Inc ADR                         BEKE      China           0.449912\n",
      "Teladoc Health Inc                          TDOC      United States   0.447596\n",
      "Baidu Inc ADR                               BIDU      China           0.446296\n",
      "JD Health International Inc                 06618     China           0.421502\n",
      "Visa Inc Class A                            V         United States   0.417613\n",
      "NetEase Inc ADR                             NTES      China           0.415551\n",
      "TAL Education Group ADR                     TAL       China           0.408609\n",
      "PayPal Holdings Inc                         PYPL      United States   0.396163\n",
      "Trip.com Group Ltd ADR                      TCOM      China           0.382823\n",
      "NVIDIA Corp                                 NVDA      United States   0.369433\n",
      "Zillow Group Inc C                          Z         United States   0.368361\n",
      "Spotify Technology SA                       SPOT      United States   0.354075\n",
      "Mastercard Inc A                            MA        United States   0.351363\n",
      "UnitedHealth Group Inc                      UNH       United States   0.345452\n",
      "Samsung Electronics Co Ltd                  005930    South Korea     0.343348\n",
      "Unknown                                                               0.335516\n",
      "Zoom Video Communications Inc               ZM        United States   0.335396\n",
      "Plug Power Inc                              PLUG      United States   0.329304\n",
      "Twilio Inc A                                TWLO      United States   0.31891\n",
      "Enphase Energy Inc                          ENPH      United States   0.311918\n",
      "United States dollar                        -CASH-                    0.311604\n",
      "Pure Storage Inc A                          PSTG      United States   0.310156\n",
      "Proto Labs Inc                              PRLB      United States   0.309134\n",
      "Netflix Inc                                 NFLX      United States   0.304984\n",
      "Other                                                                61.355\n"
     ]
    }
   ],
   "source": [
    "print(tabulate(top, headers=headers))"
   ]
  },
  {
   "cell_type": "code",
   "execution_count": null,
   "metadata": {},
   "outputs": [],
   "source": []
  },
  {
   "cell_type": "code",
   "execution_count": null,
   "metadata": {},
   "outputs": [],
   "source": []
  },
  {
   "cell_type": "code",
   "execution_count": null,
   "metadata": {},
   "outputs": [],
   "source": []
  },
  {
   "cell_type": "code",
   "execution_count": null,
   "metadata": {},
   "outputs": [],
   "source": []
  }
 ],
 "metadata": {
  "kernelspec": {
   "display_name": "Python 3",
   "language": "python",
   "name": "python3"
  },
  "language_info": {
   "codemirror_mode": {
    "name": "ipython",
    "version": 3
   },
   "file_extension": ".py",
   "mimetype": "text/x-python",
   "name": "python",
   "nbconvert_exporter": "python",
   "pygments_lexer": "ipython3",
   "version": "3.7.4"
  }
 },
 "nbformat": 4,
 "nbformat_minor": 4
}
