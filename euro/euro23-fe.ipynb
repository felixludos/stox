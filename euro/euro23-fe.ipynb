{
 "cells": [
  {
   "cell_type": "code",
   "execution_count": 8,
   "id": "initial_id",
   "metadata": {
    "collapsed": true,
    "ExecuteTime": {
     "end_time": "2023-08-23T13:59:42.318512200Z",
     "start_time": "2023-08-23T13:59:26.645403500Z"
    }
   },
   "outputs": [
    {
     "data": {
      "text/plain": "<IPython.core.display.HTML object>",
      "text/html": "<style>.container { width:98% !important; }</style>"
     },
     "metadata": {},
     "output_type": "display_data"
    }
   ],
   "source": [
    "from pathlib import Path\n",
    "from IPython.display import display, HTML\n",
    "display(HTML(\"<style>.container { width:98% !important; }</style>\"))\n",
    "# import umap\n",
    "from tabulate import tabulate\n",
    "from tqdm.notebook import tqdm\n",
    "from src import yahoo, optim, common\n",
    "from src.euro import *\n",
    "colors = dict(zip(common.base_sectors, common.mpl_colors))\n",
    "colors['Industrials'] = '#777777'\n",
    "colors['Utilities'] = '#a6a119'\n",
    "colors['Energy'] = '#c5a96e'"
   ]
  },
  {
   "cell_type": "code",
   "execution_count": 9,
   "outputs": [],
   "source": [
    "root = Path('ibkr')\n",
    "path = root / 'fe-aug23.txt'"
   ],
   "metadata": {
    "collapsed": false,
    "ExecuteTime": {
     "end_time": "2023-08-23T14:03:21.564764Z",
     "start_time": "2023-08-23T14:03:21.514411600Z"
    }
   },
   "id": "95e61b1f4981e340"
  },
  {
   "cell_type": "code",
   "execution_count": 10,
   "outputs": [
    {
     "data": {
      "text/plain": "58"
     },
     "execution_count": 10,
     "metadata": {},
     "output_type": "execute_result"
    }
   ],
   "source": [
    "current_portfolio = extract_tickers_and_shares(path)\n",
    "len(current_portfolio)"
   ],
   "metadata": {
    "collapsed": false,
    "ExecuteTime": {
     "end_time": "2023-08-23T14:03:22.089464200Z",
     "start_time": "2023-08-23T14:03:22.035933700Z"
    }
   },
   "id": "d0e10523ef8a9b53"
  },
  {
   "cell_type": "code",
   "execution_count": 11,
   "outputs": [
    {
     "data": {
      "text/plain": "[('ITX', 26),\n ('RACE', 3),\n ('ARGX', 2),\n ('SAP', 7),\n ('PRX', 13),\n ('ASML', 2),\n ('MC', 1),\n ('ETE', 60),\n ('AIR', 7),\n ('PHIA', 19),\n ('LIN', 2),\n ('SU', 3),\n ('SIE', 6),\n ('BBVA', 45),\n ('IIA', 20),\n ('ENEL', 101),\n ('STMPA', 6),\n ('ISP', 130),\n ('IAG', 120),\n ('ALV', 4),\n ('SAN', 10),\n ('BNP', 5),\n ('JMT', 14),\n ('REN', 16),\n ('EBS', 16),\n ('AI', 3),\n ('KER', 2),\n ('TTE', 3),\n ('IFX', 8),\n ('HO', 2),\n ('UCB', 3),\n ('DTE', 7),\n ('AMS', 8),\n ('AD', 8),\n ('CS', 10),\n ('ENI', 16),\n ('SHELL', 8),\n ('LHA', 24),\n ('KBC', 5),\n ('ABI', 3),\n ('RBI', 31),\n ('BAS', 6),\n ('UBI', 10),\n ('ATS', 14),\n ('IBE', 78),\n ('MRL', 23),\n ('TEN', 13),\n ('OMV', 5),\n ('MRK', 3),\n ('NESN', 2),\n ('ZAL', 7),\n ('BAYN', 6),\n ('CNHI', 20),\n ('VER', 8),\n ('NEXI', 40),\n ('WDP', 15),\n ('NOKIA', 148),\n ('VNA', 12)]"
     },
     "execution_count": 11,
     "metadata": {},
     "output_type": "execute_result"
    }
   ],
   "source": [
    "current_portfolio"
   ],
   "metadata": {
    "collapsed": false,
    "ExecuteTime": {
     "end_time": "2023-08-23T14:03:23.315170200Z",
     "start_time": "2023-08-23T14:03:23.296172300Z"
    }
   },
   "id": "9b177d2d3b9e777a"
  },
  {
   "cell_type": "code",
   "execution_count": 4,
   "outputs": [],
   "source": [],
   "metadata": {
    "collapsed": false,
    "ExecuteTime": {
     "end_time": "2023-08-23T13:46:24.694951200Z",
     "start_time": "2023-08-23T13:46:24.664301100Z"
    }
   },
   "id": "431ccbe283099ea2"
  },
  {
   "cell_type": "code",
   "execution_count": 4,
   "outputs": [],
   "source": [],
   "metadata": {
    "collapsed": false,
    "ExecuteTime": {
     "end_time": "2023-08-23T13:46:24.891366200Z",
     "start_time": "2023-08-23T13:46:24.860591200Z"
    }
   },
   "id": "1b11104c966bd13b"
  },
  {
   "cell_type": "code",
   "execution_count": 4,
   "outputs": [],
   "source": [],
   "metadata": {
    "collapsed": false,
    "ExecuteTime": {
     "end_time": "2023-08-23T13:46:25.078247800Z",
     "start_time": "2023-08-23T13:46:25.063174500Z"
    }
   },
   "id": "9fb6110ee44c3aac"
  },
  {
   "cell_type": "code",
   "execution_count": 4,
   "outputs": [],
   "source": [],
   "metadata": {
    "collapsed": false,
    "ExecuteTime": {
     "end_time": "2023-08-23T13:46:25.257268700Z",
     "start_time": "2023-08-23T13:46:25.243617900Z"
    }
   },
   "id": "6cc4efa4d3e95286"
  },
  {
   "cell_type": "code",
   "execution_count": null,
   "outputs": [],
   "source": [],
   "metadata": {
    "collapsed": false
   },
   "id": "744d9e87fddf658f"
  }
 ],
 "metadata": {
  "kernelspec": {
   "display_name": "Python 3",
   "language": "python",
   "name": "python3"
  },
  "language_info": {
   "codemirror_mode": {
    "name": "ipython",
    "version": 2
   },
   "file_extension": ".py",
   "mimetype": "text/x-python",
   "name": "python",
   "nbconvert_exporter": "python",
   "pygments_lexer": "ipython2",
   "version": "2.7.6"
  }
 },
 "nbformat": 4,
 "nbformat_minor": 5
}
