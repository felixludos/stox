{
 "cells": [
  {
   "cell_type": "code",
   "execution_count": 1,
   "outputs": [
    {
     "data": {
      "text/plain": "454"
     },
     "execution_count": 1,
     "metadata": {},
     "output_type": "execute_result"
    }
   ],
   "source": [
    "# from pathlib import Path\n",
    "# from IPython.display import display, HTML\n",
    "# display(HTML(\"<style>.container { width:98% !important; }</style>\"))\n",
    "# # import umap\n",
    "# from tabulate import tabulate\n",
    "# from tqdm.notebook import tqdm\n",
    "# from src import yahoo, optim, common\n",
    "# from src.euro import *\n",
    "# colors = dict(zip(common.base_sectors, common.mpl_colors))\n",
    "# colors['Industrials'] = '#777777'\n",
    "# colors['Utilities'] = '#a6a119'\n",
    "# colors['Energy'] = '#c5a96e'\n",
    "\n",
    "import random\n",
    "import stox\n",
    "from stox.imports import *\n",
    "from stox.ibkr import IB_Extractor\n",
    "from stox import misc, yahoo\n",
    "from omnibelt import tqdmd_notebook as tqdmd\n",
    "from omnibelt import save_yaml\n",
    "from collections import Counter\n",
    "\n",
    "# from stox.alpha_vantage import AlphaVantageStocks\n",
    "symbol_table = stox.load_symbol_table()\n",
    "len(symbol_table)"
   ],
   "metadata": {
    "collapsed": false,
    "ExecuteTime": {
     "end_time": "2023-11-22T19:33:45.873720600Z",
     "start_time": "2023-11-22T19:33:44.363548Z"
    }
   },
   "id": "4100db5a84551030"
  },
  {
   "cell_type": "code",
   "execution_count": 2,
   "outputs": [],
   "source": [
    "rawtext = '''RACE \t14\t335.3\t+1.58%\t3,788.20\t\n",
    "4,688.60\n",
    "270.59\t+72.80\t+906.00\t\t\n",
    "ASML \t8\t629.6\t+0.62%\t4,379.15\t\n",
    "5,058.40\n",
    "547.39\t+34.40\t+661.00\t\t\n",
    "ETE \t371\t6.196\t-1.49%\t1,915.37\t\n",
    "2,300.94\n",
    "5.16\t-33.40\t+385.00\t\t\n",
    "ENEL \t516\t6.407\t-0.14%\t2,930.59\t\n",
    "3,297.24\n",
    "5.68\t-4.64\t+375.00\t\t\n",
    "MC \t5\t712.2\t+1.15%\t3,287.85\t\n",
    "3,568.00\n",
    "657.57\t+40.50\t+273.00\t\t\n",
    "AI \t15\t173.48\t+1.11%\t2,334.51\t\n",
    "2,601.00\n",
    "155.63\t+28.50\t+268.00\t\t\n",
    "AMS \t36\t63.60\t+0.79%\t2,031.84\t\n",
    "2,289.59\n",
    "56.44\t+18.00\t+258.00\t\t\n",
    "BBVA \t202\t8.334\t+0.46%\t1,466.66\t\n",
    "1,688.32\n",
    "7.26\t+7.68\t+217.00\t\t\n",
    "ABI \t34\t57.46\t+1.13%\t1,745.03\t\n",
    "1,954.32\n",
    "51.32\t+20.70\t+208.00\t\t\n",
    "PHIA \t98\t19.470\t+0.67%\t1,714.06\t\n",
    "1,908.84\n",
    "17.49\t+11.00\t+192.00\t\t\n",
    "REN \t55\t34.82\t+1.07%\t1,726.63\t\n",
    "1,914.98\n",
    "31.39\t+20.30\t+188.00\t\t\n",
    "ARGX \t3\t450.1\t-0.07%\t1,179.30\t\n",
    "1,347.30\n",
    "393.10\t-2.70\t+169.00\t\t\n",
    "UCG \t76\t24.725\t-0.36%\t1,732.38\t\n",
    "1,881.00\n",
    "22.79\t-6.84\t+147.00\t\t\n",
    "MRK \t16\t160.00\t-2.02%\t2,422.35\t\n",
    "2,560.00\n",
    "151.40\t-52.80\t+138.00\t\t\n",
    "ISP \t583\t2.5410\t+0.61%\t1,361.18\t\n",
    "1,481.42\n",
    "2.33\t+9.04\t+120.00\t\t\n",
    "VNA \t68\t24.95\t+1.09%\t1,597.49\t\n",
    "1,692.52\n",
    "23.49\t+17.70\t+98.40\t\t\n",
    "DTE \t57\t21.745\t+0.72%\t1,144.50\t\n",
    "1,239.10\n",
    "20.08\t+8.27\t+94.40\t\t\n",
    "HO \t11\t140.90\t+0.57%\t1,517.65\t\n",
    "1,547.25\n",
    "137.97\t+7.15\t+30.60\t\t\n",
    "TTE \t18\t62.27\t-1.08%\t1,099.45\t\n",
    "1,121.22\n",
    "61.08\t-12.20\t+21.40\t\t\n",
    "BAS \t26\t43.600\t-0.48%\t1,128.50\t\n",
    "1,133.08\n",
    "43.40\t-6.50\t+4.06\t\t\n",
    "SHELL.DRH \t33\tC0.31\t—\t10.07\t\n",
    "10.07\n",
    "0.31\t0.00\t0.00\t\t\n",
    "AD \t37\t26.750\t+0.79%\t1,030.93\t\n",
    "987.90\n",
    "27.86\t+6.66\t-42.30\t\t\n",
    "SHELL \t33\t29.990\t-1.40%\t1,033.04\t\n",
    "989.34\n",
    "31.30\t-14.00\t-43.40\t\t\n",
    "TEN \t68\t15.330\t-1.35%\t1,097.10\t\n",
    "1,044.82\n",
    "16.13\t-14.30\t-54.70\t\t\n",
    "CNHI \t82\t9.202\t-0.04%\t990.73\t\n",
    "758.99\n",
    "12.08\t-0.33\t-236.00\t\t\n",
    "UCB \t30\t68.56\t+0.85%\t2,365.38\t\n",
    "2,056.20\n",
    "78.85\t+16.80\t-309.00\t\t\n",
    "BAYN \t40\t32.865\t-3.30%\t1,815.81\t\n",
    "1,314.40\n",
    "45.40\t-44.80\t-501.00'''"
   ],
   "metadata": {
    "collapsed": false,
    "ExecuteTime": {
     "end_time": "2023-11-22T19:39:33.458014400Z",
     "start_time": "2023-11-22T19:39:33.427533700Z"
    }
   },
   "id": "7a0b6a8b36ba210a"
  },
  {
   "cell_type": "code",
   "execution_count": null,
   "outputs": [],
   "source": [],
   "metadata": {
    "collapsed": false
   },
   "id": "7778f4d8547e9a6d"
  },
  {
   "cell_type": "code",
   "execution_count": null,
   "outputs": [],
   "source": [],
   "metadata": {
    "collapsed": false
   },
   "id": "8e289796880bdb1e"
  },
  {
   "cell_type": "code",
   "execution_count": null,
   "outputs": [],
   "source": [],
   "metadata": {
    "collapsed": false
   },
   "id": "21ed9a3d70f33f42"
  },
  {
   "cell_type": "code",
   "execution_count": null,
   "outputs": [],
   "source": [],
   "metadata": {
    "collapsed": false
   },
   "id": "2f3177896fd1d193"
  },
  {
   "cell_type": "code",
   "execution_count": null,
   "id": "initial_id",
   "metadata": {
    "collapsed": true
   },
   "outputs": [],
   "source": []
  }
 ],
 "metadata": {
  "kernelspec": {
   "display_name": "Python 3",
   "language": "python",
   "name": "python3"
  },
  "language_info": {
   "codemirror_mode": {
    "name": "ipython",
    "version": 2
   },
   "file_extension": ".py",
   "mimetype": "text/x-python",
   "name": "python",
   "nbconvert_exporter": "python",
   "pygments_lexer": "ipython2",
   "version": "2.7.6"
  }
 },
 "nbformat": 4,
 "nbformat_minor": 5
}
