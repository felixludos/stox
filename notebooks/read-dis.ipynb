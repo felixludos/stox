{
 "cells": [
  {
   "cell_type": "code",
   "execution_count": 33,
   "id": "initial_id",
   "metadata": {
    "collapsed": true,
    "ExecuteTime": {
     "end_time": "2023-10-18T12:29:14.611504800Z",
     "start_time": "2023-10-18T12:29:14.584611700Z"
    }
   },
   "outputs": [],
   "source": [
    "from pathlib import Path\n",
    "import random\n",
    "from tqdm.notebook import tqdm\n",
    "from tabulate import tabulate\n",
    "from collections import Counter\n",
    "import pandas as pd\n",
    "from omnibelt import load_yaml, save_yaml, load_json, save_json\n",
    "import omnifig as fig\n",
    "from yfinance import Ticker\n",
    "from stox import misc, general\n",
    "fig.initialize()"
   ]
  },
  {
   "cell_type": "code",
   "execution_count": 38,
   "outputs": [],
   "source": [
    "symbols = general.load_symbol_table()\n",
    "yf2ib = {y: sym['ibkr-contract']['symbol'] for y, sym in symbols.items()}\n",
    "ib2yf = {i:t for t, i in yf2ib.items()}"
   ],
   "metadata": {
    "collapsed": false,
    "ExecuteTime": {
     "end_time": "2023-10-18T12:35:41.302349700Z",
     "start_time": "2023-10-18T12:35:40.635398600Z"
    }
   },
   "id": "ef3e315a8d7d62a8"
  },
  {
   "cell_type": "code",
   "execution_count": 86,
   "outputs": [
    {
     "data": {
      "text/plain": "'AMP.MI'"
     },
     "execution_count": 86,
     "metadata": {},
     "output_type": "execute_result"
    }
   ],
   "source": [
    "ib2yf['AMP2']"
   ],
   "metadata": {
    "collapsed": false,
    "ExecuteTime": {
     "end_time": "2023-10-18T13:28:17.888014200Z",
     "start_time": "2023-10-18T13:28:17.871346100Z"
    }
   },
   "id": "a1003cfb0f14b226"
  },
  {
   "cell_type": "code",
   "execution_count": 3,
   "outputs": [],
   "source": [
    "root = misc.assets_root() / 'dis'"
   ],
   "metadata": {
    "collapsed": false,
    "ExecuteTime": {
     "end_time": "2023-10-18T12:09:42.664516300Z",
     "start_time": "2023-10-18T12:09:42.623822200Z"
    }
   },
   "id": "8c003bfd66dfe701"
  },
  {
   "cell_type": "code",
   "execution_count": 5,
   "outputs": [
    {
     "data": {
      "text/plain": "99.99999999999999"
     },
     "execution_count": 5,
     "metadata": {},
     "output_type": "execute_result"
    }
   ],
   "source": [
    "raw = load_yaml(root / 'revision4.yaml')\n",
    "pf = {v['ticker']: v['weight'] for v in raw['tickers'] if v['weight'] > 0}\n",
    "sum(pf.values())"
   ],
   "metadata": {
    "collapsed": false,
    "ExecuteTime": {
     "end_time": "2023-10-18T12:10:54.859173200Z",
     "start_time": "2023-10-18T12:10:54.679395Z"
    }
   },
   "id": "b4119205dbf8b20f"
  },
  {
   "cell_type": "code",
   "execution_count": 39,
   "outputs": [
    {
     "data": {
      "text/plain": "(58, 45)"
     },
     "execution_count": 39,
     "metadata": {},
     "output_type": "execute_result"
    }
   ],
   "source": [
    "ibkr = {key: yf2ib[key] for key in pf.keys()}\n",
    "fe_current_raw = dict(misc.extract_tickers_and_shares(root / '..' / 'ibkr' / 'fe-aug23.txt'))\n",
    "fe_current = {ib2yf[i]: s for i, s in fe_current_raw.items()}\n",
    "gu_current_raw = dict(misc.extract_tickers_and_shares(root / '..' / 'ibkr' / 'gu-aug23.txt'))\n",
    "gu_current = {ib2yf[i]: s for i, s in gu_current_raw.items()}\n",
    "len(fe_current_raw), len(gu_current_raw)"
   ],
   "metadata": {
    "collapsed": false,
    "ExecuteTime": {
     "end_time": "2023-10-18T12:36:27.756063Z",
     "start_time": "2023-10-18T12:36:27.700749600Z"
    }
   },
   "id": "1d9a02999af01240"
  },
  {
   "cell_type": "code",
   "execution_count": 41,
   "outputs": [
    {
     "data": {
      "text/plain": "65"
     },
     "execution_count": 41,
     "metadata": {},
     "output_type": "execute_result"
    }
   ],
   "source": [
    "vocab = set(fe_current.keys()) | set(gu_current.keys()) | set(pf.keys())\n",
    "len(vocab)"
   ],
   "metadata": {
    "collapsed": false,
    "ExecuteTime": {
     "end_time": "2023-10-18T12:38:25.847656200Z",
     "start_time": "2023-10-18T12:38:25.811468500Z"
    }
   },
   "id": "c30266a3948cc957"
  },
  {
   "cell_type": "code",
   "execution_count": 8,
   "outputs": [],
   "source": [
    "ytks = {t:Ticker(t) for t in pf.keys()}\n",
    "prices = {t: y.info['currentPrice'] for t, y in tqdm(ytks.items())}"
   ],
   "metadata": {
    "collapsed": false,
    "ExecuteTime": {
     "end_time": "2023-10-18T12:12:22.519172900Z",
     "start_time": "2023-10-18T12:12:22.475124Z"
    }
   },
   "id": "3e30bfb565561d88"
  },
  {
   "cell_type": "code",
   "execution_count": 45,
   "outputs": [],
   "source": [
    "fe_total = sum(prices[t] * s for t, s in fe_current.items())\n",
    "gu_total = sum(prices[t] * s for t, s in gu_current.items())"
   ],
   "metadata": {
    "collapsed": false,
    "ExecuteTime": {
     "end_time": "2023-10-18T12:41:09.421154400Z",
     "start_time": "2023-10-18T12:41:09.400561700Z"
    }
   },
   "id": "c00aeface80987cf"
  },
  {
   "cell_type": "code",
   "execution_count": 48,
   "outputs": [
    {
     "data": {
      "text/plain": "(11, 2, 34, 3)"
     },
     "execution_count": 48,
     "metadata": {},
     "output_type": "execute_result"
    }
   ],
   "source": [
    "fe_only, gu_only, both, new = set(), set(), set(), set()\n",
    "for t in pf.keys():\n",
    "\tif t in fe_current and t in gu_current:\n",
    "\t\tboth.add(t)\n",
    "\telif t in fe_current:\n",
    "\t\tfe_only.add(t)\n",
    "\telif t in gu_current:\n",
    "\t\tgu_only.add(t)\n",
    "\telse:\n",
    "\t\tnew.add(t)\n",
    "len(fe_only), len(gu_only), len(both), len(new)"
   ],
   "metadata": {
    "collapsed": false,
    "ExecuteTime": {
     "end_time": "2023-10-18T12:43:34.874015200Z",
     "start_time": "2023-10-18T12:43:34.834092900Z"
    }
   },
   "id": "6e89ba4f0cbaff2e"
  },
  {
   "cell_type": "code",
   "execution_count": 14,
   "outputs": [],
   "source": [
    "budget = 100_000"
   ],
   "metadata": {
    "collapsed": false,
    "ExecuteTime": {
     "end_time": "2023-10-18T12:18:33.836911200Z",
     "start_time": "2023-10-18T12:18:33.826245400Z"
    }
   },
   "id": "9110c0e7c61d35ce"
  },
  {
   "cell_type": "code",
   "execution_count": 53,
   "outputs": [],
   "source": [
    "ideal = {t: budget * w / 100 for t, w in pf.items()}"
   ],
   "metadata": {
    "collapsed": false,
    "ExecuteTime": {
     "end_time": "2023-10-18T12:46:55.974940500Z",
     "start_time": "2023-10-18T12:46:55.965211700Z"
    }
   },
   "id": "505be67f760dee19"
  },
  {
   "cell_type": "code",
   "execution_count": 55,
   "outputs": [
    {
     "data": {
      "text/plain": "2667.3230000000117"
     },
     "execution_count": 55,
     "metadata": {},
     "output_type": "execute_result"
    }
   ],
   "source": [
    "shares = {t: int(p / prices[t]) for t, p in ideal.items()}\n",
    "actual = {t: shares[t] * prices[t] for t in pf.keys()}\n",
    "err = {t: ideal[t] - actual[t] for t in pf.keys()}\n",
    "errp = {t: 100 * err[t] / ideal[t] for t in pf.keys()}\n",
    "sum(err.values())"
   ],
   "metadata": {
    "collapsed": false,
    "ExecuteTime": {
     "end_time": "2023-10-18T12:47:57.927121700Z",
     "start_time": "2023-10-18T12:47:57.899122800Z"
    }
   },
   "id": "4b50d1a35369adb7"
  },
  {
   "cell_type": "code",
   "execution_count": 62,
   "outputs": [],
   "source": [
    "df = pd.DataFrame({'ibkr': ibkr, 'price': prices, 'shares': shares, 'ideal': ideal, 'err': err, 'errp': errp})\n",
    "# df"
   ],
   "metadata": {
    "collapsed": false,
    "ExecuteTime": {
     "end_time": "2023-10-18T12:54:13.716573600Z",
     "start_time": "2023-10-18T12:54:13.654954200Z"
    }
   },
   "id": "2481712445f15571"
  },
  {
   "cell_type": "code",
   "execution_count": 103,
   "outputs": [],
   "source": [
    "fe = {t: actual[t] for t in fe_only}\n",
    "gu = {t: actual[t] for t in gu_only}\n",
    "# sum(fe.values()), sum(gu.values())"
   ],
   "metadata": {
    "collapsed": false,
    "ExecuteTime": {
     "end_time": "2023-10-18T15:47:30.480050500Z",
     "start_time": "2023-10-18T15:47:30.423006900Z"
    }
   },
   "id": "eb38fe6c1680e617"
  },
  {
   "cell_type": "code",
   "execution_count": 82,
   "outputs": [],
   "source": [
    "todo = set(pf.keys()) - set(fe.keys()) - set(gu.keys())\n",
    "todo = list(todo)\n",
    "random.shuffle(todo)\n",
    "for t in todo:\n",
    "\tfe_update = sum(fe.values()) + actual[t]\n",
    "\tif fe_update < budget/2:\n",
    "\t\tfe[t] = actual[t]\n",
    "\telse:\n",
    "\t\tgu[t] = actual[t]\n",
    "fe_total_new, gu_total_new = sum(fe.values()), sum(gu.values())"
   ],
   "metadata": {
    "collapsed": false,
    "ExecuteTime": {
     "end_time": "2023-10-18T13:10:23.252629800Z",
     "start_time": "2023-10-18T13:10:23.230995300Z"
    }
   },
   "id": "a32712f4483930b1"
  },
  {
   "cell_type": "code",
   "execution_count": 83,
   "outputs": [],
   "source": [
    "fe_delta = {t: shares[t] - fe_current.get(t,0) for t in fe.keys()}\n",
    "fe_delta.update({t: -v for t, v in fe_current.items() if t not in fe_delta})\n",
    "gu_delta = {t: shares[t] - gu_current.get(t,0) for t in gu.keys()}\n",
    "gu_delta.update({t: -v for t, v in gu_current.items() if t not in gu_delta})"
   ],
   "metadata": {
    "collapsed": false,
    "ExecuteTime": {
     "end_time": "2023-10-18T13:10:30.752958400Z",
     "start_time": "2023-10-18T13:10:30.729216200Z"
    }
   },
   "id": "95d2dcadd4946c02"
  },
  {
   "cell_type": "code",
   "execution_count": 101,
   "outputs": [],
   "source": [
    "fe_todo = [{'ib': yf2ib[t], 'ticker': t, 'delta': v, 'price': prices[t], 'goal': pf.get(t,0), 'value_change': prices[t]*v, 'shares': shares.get(t,0), 'individual': 100*actual.get(t,0)/fe_total_new, 'current': fe_current.get(t,0), 'err': err.get(t,0), 'errp': errp.get(t,0)\n",
    "\t\t\t} for t, v in fe_delta.items() if v != 0]\n",
    "fe_todo.sort(key=lambda x: (x['delta']<0, x['ticker'] in fe_only, abs(x['value_change']), x['individual']), reverse=True)\n",
    "fe_df = pd.DataFrame(fe_todo, columns=['ib', 'delta', 'price', 'current', 'shares', 'goal', 'ticker', 'value_change', 'individual', 'err', 'errp'])\n",
    "# fe_df"
   ],
   "metadata": {
    "collapsed": false,
    "ExecuteTime": {
     "end_time": "2023-10-18T15:47:18.037020200Z",
     "start_time": "2023-10-18T15:47:17.970965300Z"
    }
   },
   "id": "157111a8e89aba2c"
  },
  {
   "cell_type": "code",
   "execution_count": 102,
   "outputs": [],
   "source": [
    "gu_todo = [{'ib': yf2ib[t], 'ticker': t, 'delta': v, 'price': prices[t], 'goal': pf.get(t,0), 'value_change': prices[t]*v, 'shares': shares.get(t,0), 'individual': 100*actual.get(t,0)/gu_total_new, 'current': gu_current.get(t,0), 'err': err.get(t,0), 'errp': errp.get(t,0)\n",
    "\t\t\t} for t, v in gu_delta.items() if v != 0]\n",
    "gu_todo.sort(key=lambda x: (x['delta']<0, x['ticker'] in gu_only, abs(x['value_change']), x['individual']), reverse=True)\n",
    "gu_df = pd.DataFrame(gu_todo, columns=['ib', 'delta', 'price', 'current', 'shares', 'goal', 'ticker', 'value_change', 'individual', 'err', 'errp'])\n",
    "# gu_df"
   ],
   "metadata": {
    "collapsed": false,
    "ExecuteTime": {
     "end_time": "2023-10-18T15:47:20.712449400Z",
     "start_time": "2023-10-18T15:47:20.634018300Z"
    }
   },
   "id": "cafdde3aff953c0e"
  },
  {
   "cell_type": "code",
   "execution_count": null,
   "outputs": [],
   "source": [],
   "metadata": {
    "collapsed": false
   },
   "id": "5b7ee241abb1ea1"
  },
  {
   "cell_type": "code",
   "execution_count": 87,
   "outputs": [],
   "source": [
    "full = [{'ticker': t, 'price': prices[t], 'shares': shares[t], 'ideal': ideal[t], 'err': err[t], 'errp': errp[t]} for t in ideal.keys()]\n",
    "fulldf = pd.DataFrame(full, columns=['ticker', 'price', 'shares', 'ideal', 'err', 'errp'])"
   ],
   "metadata": {
    "collapsed": false,
    "ExecuteTime": {
     "end_time": "2023-10-18T13:28:35.973750200Z",
     "start_time": "2023-10-18T13:28:35.923477300Z"
    }
   },
   "id": "292235451c2de0ea"
  },
  {
   "cell_type": "code",
   "execution_count": 97,
   "outputs": [
    {
     "data": {
      "text/plain": "0"
     },
     "execution_count": 97,
     "metadata": {},
     "output_type": "execute_result"
    }
   ],
   "source": [
    "shares.get(ib2yf['SAN1'], 0)"
   ],
   "metadata": {
    "collapsed": false,
    "ExecuteTime": {
     "end_time": "2023-10-18T13:45:22.504739100Z",
     "start_time": "2023-10-18T13:45:22.468485100Z"
    }
   },
   "id": "46c4aed97e143e55"
  },
  {
   "cell_type": "code",
   "execution_count": null,
   "outputs": [],
   "source": [],
   "metadata": {
    "collapsed": false
   },
   "id": "5c4670a3cf87fba7"
  }
 ],
 "metadata": {
  "kernelspec": {
   "display_name": "Python 3",
   "language": "python",
   "name": "python3"
  },
  "language_info": {
   "codemirror_mode": {
    "name": "ipython",
    "version": 2
   },
   "file_extension": ".py",
   "mimetype": "text/x-python",
   "name": "python",
   "nbconvert_exporter": "python",
   "pygments_lexer": "ipython2",
   "version": "2.7.6"
  }
 },
 "nbformat": 4,
 "nbformat_minor": 5
}
