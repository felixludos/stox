{
 "cells": [
  {
   "cell_type": "code",
   "execution_count": 1,
   "id": "initial_id",
   "metadata": {
    "collapsed": true,
    "ExecuteTime": {
     "end_time": "2023-08-29T00:39:02.591153700Z",
     "start_time": "2023-08-29T00:39:01.757983500Z"
    }
   },
   "outputs": [],
   "source": [
    "import random\n",
    "\n",
    "from stox.imports import *\n",
    "from stox.api import IB_Extractor\n",
    "from stox import misc, yahoo\n",
    "from omnibelt import tqdmd_notebook as tqdmd\n",
    "from omnibelt import save_yaml\n",
    "from collections import Counter\n",
    "# from stox.alpha_vantage import AlphaVantageStocks"
   ]
  },
  {
   "cell_type": "code",
   "execution_count": 5,
   "outputs": [],
   "source": [
    "contracts = {}"
   ],
   "metadata": {
    "collapsed": false,
    "ExecuteTime": {
     "end_time": "2023-08-29T00:43:56.102151300Z",
     "start_time": "2023-08-29T00:43:56.088921800Z"
    }
   },
   "id": "6f49ecf82757ea7e"
  },
  {
   "cell_type": "code",
   "execution_count": 40,
   "outputs": [
    {
     "data": {
      "text/plain": "(270, 270, [('MC.PA', 1), ('ASML.AS', 1)])"
     },
     "execution_count": 40,
     "metadata": {},
     "output_type": "execute_result"
    }
   ],
   "source": [
    "root = misc.assets_root()\n",
    "path = root / 'symbols.yml'\n",
    "data = load_export(path)\n",
    "existing = Counter(row['yahoo'] for row in data)\n",
    "len(data), len(existing), existing.most_common(2)"
   ],
   "metadata": {
    "collapsed": false,
    "ExecuteTime": {
     "end_time": "2023-08-29T01:13:30.719209700Z",
     "start_time": "2023-08-29T01:13:30.622059Z"
    }
   },
   "id": "4491a6805987bda7"
  },
  {
   "cell_type": "code",
   "execution_count": 19,
   "outputs": [
    {
     "name": "stderr",
     "output_type": "stream",
     "text": [
      "ERROR:ib_insync.wrapper: Error 321, reqId 2147483647: Error validating request.-'cG' : cause - The API interface is currently in Read-Only mode.\n",
      "ERROR:ib_insync.wrapper: Error 321, reqId -1: Error validating request.-'ce' : cause - The API interface is currently in Read-Only mode.\n",
      "ERROR:ib_insync.ib: open orders request timed out\n",
      "ERROR:ib_insync.ib: completed orders request timed out\n"
     ]
    }
   ],
   "source": [
    "ibe = IB_Extractor(True)"
   ],
   "metadata": {
    "collapsed": false,
    "ExecuteTime": {
     "end_time": "2023-08-29T00:54:14.031654600Z",
     "start_time": "2023-08-29T00:54:10.006580200Z"
    }
   },
   "id": "567f963bf2e4a45a"
  },
  {
   "cell_type": "code",
   "execution_count": 38,
   "outputs": [
    {
     "data": {
      "text/plain": "  0%|          | 0/271 [00:00<?, ?it/s]",
      "application/vnd.jupyter.widget-view+json": {
       "version_major": 2,
       "version_minor": 0,
       "model_id": "f3c5237e075d4b5bb8ca12bbfc34199c"
      }
     },
     "metadata": {},
     "output_type": "display_data"
    },
    {
     "data": {
      "text/plain": "6"
     },
     "execution_count": 38,
     "metadata": {},
     "output_type": "execute_result"
    }
   ],
   "source": [
    "bad = []\n",
    "for row in tqdmd(data,key=lambda x: x['ibkr']):\n",
    "\tif row['ibkr'] not in contracts:\n",
    "\t\tcontracts[row['ibkr']] = ibe.find_all_contracts(row['ibkr'], currency=row['currency'])\n",
    "\tcts = contracts[row['ibkr']]\n",
    "\tif len(cts) == 0 or len(set(c.conId for c in cts)) > 1:\n",
    "\t\tbad.append((row, cts))\n",
    "\t\tcontinue\n",
    "\trow['ibkr-ID'] = cts[0].conId\n",
    "\trow['ibkr-exchange'] = cts[0].primaryExchange\n",
    "len(bad)"
   ],
   "metadata": {
    "collapsed": false,
    "ExecuteTime": {
     "end_time": "2023-08-29T01:13:06.297119200Z",
     "start_time": "2023-08-29T01:13:06.232942400Z"
    }
   },
   "id": "3633b975a28445d8"
  },
  {
   "cell_type": "code",
   "execution_count": 63,
   "outputs": [],
   "source": [
    "# save_yaml(data, path);"
   ],
   "metadata": {
    "collapsed": false,
    "ExecuteTime": {
     "end_time": "2023-08-29T01:24:58.260735700Z",
     "start_time": "2023-08-29T01:24:58.209259800Z"
    }
   },
   "id": "3dfcdb10851723df"
  },
  {
   "cell_type": "code",
   "execution_count": 39,
   "outputs": [
    {
     "name": "stdout",
     "output_type": "stream",
     "text": [
      "IBKR    Yahoo       Num\n",
      "------  --------  -----\n",
      "AIR     AIR.PA       31\n",
      "AIR     AIR.DE       31\n",
      "ENR     ENR.DE       16\n",
      "ANA     ANA.MC       11\n",
      "AGS     AGS.BR       16\n",
      "HUH1V   HUH1V.HE      0\n"
     ]
    }
   ],
   "source": [
    "print(tabulate([[row['ibkr'], row['yahoo'], len(cts)] for row, cts in bad], headers=['IBKR', 'Yahoo', 'Num']))"
   ],
   "metadata": {
    "collapsed": false,
    "ExecuteTime": {
     "end_time": "2023-08-29T01:13:09.045139900Z",
     "start_time": "2023-08-29T01:13:09.033986Z"
    }
   },
   "id": "325a838b28889130"
  },
  {
   "cell_type": "code",
   "execution_count": 61,
   "outputs": [
    {
     "name": "stdout",
     "output_type": "stream",
     "text": [
      "{'currency': 'EUR', 'ibkr': 'AGS', 'yahoo': 'AGS.BR', 'ibkr-ID': 111604420, 'ibkr-exchange': 'ENEXT.BE'}\n"
     ]
    }
   ],
   "source": [
    "row, cts = bad[4]\n",
    "print(row)"
   ],
   "metadata": {
    "collapsed": false,
    "ExecuteTime": {
     "end_time": "2023-08-29T01:24:46.083261300Z",
     "start_time": "2023-08-29T01:24:46.064940100Z"
    }
   },
   "id": "9ffd41c8c0dddf79"
  },
  {
   "cell_type": "code",
   "execution_count": 62,
   "outputs": [],
   "source": [
    "for entry in data:\n",
    "\tif entry['ibkr'] == 'AGS' and entry['yahoo'] == 'AGS.MC':\n",
    "\t\tentry.update(row)\n",
    "\t\tbreak"
   ],
   "metadata": {
    "collapsed": false,
    "ExecuteTime": {
     "end_time": "2023-08-29T01:24:54.363259400Z",
     "start_time": "2023-08-29T01:24:54.347080900Z"
    }
   },
   "id": "b7e89651ba781d45"
  },
  {
   "cell_type": "code",
   "execution_count": 50,
   "outputs": [],
   "source": [
    "row['ibkr-ID'] = cts[0].conId\n",
    "row['ibkr-exchange'] = cts[0].primaryExchange"
   ],
   "metadata": {
    "collapsed": false,
    "ExecuteTime": {
     "end_time": "2023-08-29T01:20:20.418822800Z",
     "start_time": "2023-08-29T01:20:20.404993200Z"
    }
   },
   "id": "794d1246ef598b0d"
  },
  {
   "cell_type": "code",
   "execution_count": null,
   "outputs": [],
   "source": [],
   "metadata": {
    "collapsed": false
   },
   "id": "4c3f5a4ca856b5ff"
  },
  {
   "cell_type": "code",
   "execution_count": 41,
   "outputs": [
    {
     "name": "stdout",
     "output_type": "stream",
     "text": [
      "---------  ---  ----------------------------\n",
      "UAL        USD  UNITED AIRLINES HOLDINGS INC\n",
      "600760     CNH  AVIC SHENYANG AIRCRAFT CO -A\n",
      "LUV        USD  SOUTHWEST AIRLINES CO\n",
      "DAL        USD  DELTA AIR LINES INC.\n",
      "AIPUY      USD  AIRPORTS OF THAILAND PCL-ADR\n",
      "NYVQ       EUR  AIRPORTS OF THAILAND PC-NVDR\n",
      "TX3A       EUR  AIRPORTS OF THAILAND PCL-FOR\n",
      "TATD       SGD  AIRPORTS OF THAILAND-SDR\n",
      "ABNB       USD  AIRBNB INC-CLASS A\n",
      "BHARTIART  INR  BHARTI AIRTEL LIMITED\n",
      "APD        USD  AIR PRODUCTS & CHEMICALS INC\n",
      "AIQUY      USD  AIR LIQUIDE-UNSPONSORED ADR\n",
      "AI         EUR  AIR LIQUIDE SA\n",
      "EADSY      USD  AIRBUS SE - UNSP ADR\n",
      "LTMAY      USD  LATAM AIRLINES GROUP-SP ADR\n",
      "AIROLAM    INR  AIRO LAM LTD\n",
      "AIRTP      USD  AIR T FUNDING\n",
      "AIRAN      INR  AIRAN LTD\n",
      "AIRE       CHF  AIRESIS-REG\n",
      "AIRG       USD  AIRGAIN INC\n",
      "AIRX       NOK  AIRTHINGS ASA\n",
      "AIRT       USD  AIR T INC\n",
      "AIRE       GBP  ALTERNATIVE INCOME REIT PLC\n",
      "AIRL       GBP  AIR PARTNER PLC\n",
      "AIRS       USD  AIRSCULPT TECHNOLOGIES INC\n",
      "AIRR       USD  FIRST TRUST RBA AMERICAN IND\n",
      "AIRM       USD  AIR METHODS CORP\n",
      "AIRTELPP   INR  BHARTI AIRTEL - PARTLY PAID\n",
      "AIRYY      USD  AIR CHINA LTD-SPONSORED-ADR\n",
      "AIRC       USD  APARTMENT INCOME REIT CO\n",
      "AIR        EUR  AIROBOT TECHNOLOGIES AS\n",
      "AIR        CAD  CLEAN AIR METALS INC\n",
      "AIR        USD  AAR CORP\n",
      "AIR        EUR  AIRBUS SE\n",
      "---------  ---  ----------------------------\n"
     ]
    }
   ],
   "source": [
    "tkquery = 'AIR'\n",
    "out = ibe.search(tkquery)\n",
    "options = [c for c in out if c.secType == 'STK']\n",
    "print(tabulate([(c.symbol, c.currency, c.description) for c in reversed(options)]))"
   ],
   "metadata": {
    "collapsed": false,
    "ExecuteTime": {
     "end_time": "2023-08-29T01:13:47.642635400Z",
     "start_time": "2023-08-29T01:13:47.496151700Z"
    }
   },
   "id": "ba4eef30348f450e"
  },
  {
   "cell_type": "code",
   "execution_count": 32,
   "outputs": [
    {
     "name": "stdout",
     "output_type": "stream",
     "text": [
      "Integrated Oil & Gas\n",
      "Crude Petroleum Extraction\n",
      "Natural Gas Extraction\n",
      "Petroleum Refineries\n",
      "Petroleum Lubricating Oil and Grease Manufacturing\n",
      "Support Activities for Oil and Gas Operations\n",
      "Pipeline Transportation of Natural Gas\n",
      "Gasoline Stations with Convenience Stores\n",
      "All Other Basic Organic Chemical Manufacturing\n",
      "Other Electric Power Generation\n",
      "Offices of Other Holding Companies\n",
      "Crude Petroleum And Natural Gas\n",
      "Crude Petroleum And Natural Gas\n",
      "Petroleum Refining\n",
      "Lubricating Oils And Greases\n",
      "Oil And Gas Field Services, Nec\n",
      "Natural Gas Transmission\n",
      "Gasoline Service Stations\n",
      "Industrial Organic Chemicals, Nec\n",
      "Electric Services\n",
      "Holding Companies, Nec\n",
      "\n",
      "Shell plc (Shell) is an international energy and petrochemical company. The Company is engaged in the exploration, production, refining and marketing of oil and natural gas, and the manufacturing and marketing of chemicals. The Companys segments include Integrated Gas, Upstream, Marketing, Chemicals and Products, Renewables and Energy Solutions, and Corporate. The Integrated Gas segment includes liquefied natural gas, conversion of natural gas into gas-to-liquid fuels and other products. The Upstream segment includes exploration and extraction of crude oil, natural gas and natural gas liquids. The Marketing segment comprises the Mobility, Lubricants, and Sectors and Decarbonisation businesses. The Chemicals and Products segment includes chemicals manufacturing plants with their own refineries which turn crude oil and other feedstocks into a range of oil products. The Renewables and Energy Solutions segment includes Shells Integrated Power activities.\n"
     ]
    }
   ],
   "source": [
    "ibtk = tkquery.upper()\n",
    "info = xmltodict.parse(ibe.snapshot(ibtk))\n",
    "# company_name = info['ReportSnapshot']['CoIDs']['CoID'][1]['#text']\n",
    "industries = [e['#text'] for e in info['ReportSnapshot']['peerInfo']['IndustryInfo']['Industry']]\n",
    "print('\\n'.join(industries))\n",
    "print()\n",
    "summary = info['ReportSnapshot']['TextInfo']['Text'][0]['#text']\n",
    "print(summary)"
   ],
   "metadata": {
    "collapsed": false,
    "ExecuteTime": {
     "end_time": "2023-08-29T01:09:59.859004400Z",
     "start_time": "2023-08-29T01:09:44.917342Z"
    }
   },
   "id": "926322ec462d8def"
  },
  {
   "cell_type": "code",
   "execution_count": null,
   "outputs": [],
   "source": [],
   "metadata": {
    "collapsed": false
   },
   "id": "f69ee701c8329945"
  },
  {
   "cell_type": "code",
   "execution_count": null,
   "outputs": [],
   "source": [],
   "metadata": {
    "collapsed": false
   },
   "id": "996d5a304f8fee23"
  },
  {
   "cell_type": "code",
   "execution_count": 2,
   "outputs": [],
   "source": [
    "ibe.ib.disconnect()"
   ],
   "metadata": {
    "collapsed": false,
    "ExecuteTime": {
     "end_time": "2023-08-28T23:48:14.728092200Z",
     "start_time": "2023-08-28T23:48:14.720653Z"
    }
   },
   "id": "418d1aba905a8b03"
  },
  {
   "cell_type": "code",
   "execution_count": 2,
   "outputs": [],
   "source": [],
   "metadata": {
    "collapsed": false,
    "ExecuteTime": {
     "end_time": "2023-08-28T23:48:14.935075600Z",
     "start_time": "2023-08-28T23:48:14.924547800Z"
    }
   },
   "id": "5b9c2a463b11f17e"
  },
  {
   "cell_type": "code",
   "execution_count": null,
   "outputs": [],
   "source": [],
   "metadata": {
    "collapsed": false
   },
   "id": "5ecf5809e2dd72a9"
  }
 ],
 "metadata": {
  "kernelspec": {
   "display_name": "Python 3",
   "language": "python",
   "name": "python3"
  },
  "language_info": {
   "codemirror_mode": {
    "name": "ipython",
    "version": 2
   },
   "file_extension": ".py",
   "mimetype": "text/x-python",
   "name": "python",
   "nbconvert_exporter": "python",
   "pygments_lexer": "ipython2",
   "version": "2.7.6"
  }
 },
 "nbformat": 4,
 "nbformat_minor": 5
}
