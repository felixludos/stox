{
 "cells": [
  {
   "cell_type": "code",
   "execution_count": 70,
   "id": "initial_id",
   "metadata": {
    "collapsed": true,
    "ExecuteTime": {
     "end_time": "2023-09-10T23:00:32.077747100Z",
     "start_time": "2023-09-10T23:00:32.051266900Z"
    }
   },
   "outputs": [],
   "source": [
    "import math, random\n",
    "from tqdm.notebook import tqdm\n",
    "from tabulate import tabulate\n",
    "from omnibelt import save_yaml\n",
    "import omnifig as fig\n",
    "from stox import misc\n",
    "from stox.general import load_symbol_table\n",
    "fig.initialize()"
   ]
  },
  {
   "cell_type": "code",
   "execution_count": 3,
   "outputs": [
    {
     "data": {
      "text/plain": "(273, 240)"
     },
     "execution_count": 3,
     "metadata": {},
     "output_type": "execute_result"
    }
   ],
   "source": [
    "symbols_table = load_symbol_table()\n",
    "eur = {yfsym: info for yfsym, info in symbols_table.items() if info['ibkr-contract']['currency'] == 'EUR'}\n",
    "len(symbols_table), len(eur)"
   ],
   "metadata": {
    "collapsed": false,
    "ExecuteTime": {
     "end_time": "2023-09-10T21:29:42.778550600Z",
     "start_time": "2023-09-10T21:29:42.649085200Z"
    }
   },
   "id": "779d6bd95e61b37c"
  },
  {
   "cell_type": "code",
   "execution_count": 4,
   "outputs": [
    {
     "name": "stderr",
     "output_type": "stream",
     "text": [
      "ERROR:ib_insync.wrapper: Error 321, reqId 2147483647: Error validating request.-'cG' : cause - The API interface is currently in Read-Only mode.\n",
      "ERROR:ib_insync.wrapper: Error 321, reqId -1: Error validating request.-'ce' : cause - The API interface is currently in Read-Only mode.\n",
      "ERROR:ib_insync.ib: open orders request timed out\n",
      "ERROR:ib_insync.ib: completed orders request timed out\n"
     ]
    }
   ],
   "source": [
    "date = 'last'\n",
    "config = fig.create_config('container', api={'_type': 'ib-extractor', 'using_notebook': True}, \n",
    "\t\t\t\t\t\t   currency='USD', exchange=['NYSE', 'NASDAQ'], return_all=True)\n",
    "_container_source = config.peek('container')\n",
    "def create_container(yfsym):\n",
    "\twith _container_source.silence():\n",
    "\t\tctx = _container_source.create()\n",
    "\tctx['ticker'] = yfsym\n",
    "\tctx['date'] = date\n",
    "\treturn ctx\n",
    "def search(query):\n",
    "\tconfig.push('query', query)\n",
    "\tcts = fig.run_script('ib-search', config)\n",
    "\treturn cts\n",
    "def view(cts):\n",
    "\tprint(tabulate([(i, c.symbol, c.currency, c.primaryExchange, c.conId, c.description) for i, c in reversed(list(enumerate(cts)))], headers=['index', 'symbol', 'currency', 'exchange', 'conId', 'description']))\n",
    "config.silent = True\n",
    "ibe = config.pull('api')"
   ],
   "metadata": {
    "collapsed": false,
    "ExecuteTime": {
     "end_time": "2023-09-10T21:29:47.380467700Z",
     "start_time": "2023-09-10T21:29:43.317506500Z"
    }
   },
   "id": "562cfaf83fd60c3f"
  },
  {
   "cell_type": "code",
   "execution_count": 5,
   "outputs": [
    {
     "name": "stdout",
     "output_type": "stream",
     "text": [
      "  index  symbol    currency    exchange        conId  description\n",
      "-------  --------  ----------  ----------  ---------  ----------------------------\n",
      "     34  FINN13    MXN         MEXI        142899881  ASESOR DE ACTIVOS PRISMA SAP\n",
      "     33  BM0       EUR         FWB2        603526044  BETTERWARE DE MEXICO SAPI DE\n",
      "     32  9776      JPY         TSEJ        131085491  SAPPORO CLINICAL LABORATORY\n",
      "     31  2501      JPY         TSEJ         13905311  SAPPORO HOLDINGS LTD\n",
      "     30  FMTY14    MXN         MEXI        181638660  FIBRA MTY SAPI DE CV\n",
      "     29  BRD       SGD         SGX         224305229  SAPPHIRE CORP LTD\n",
      "     28  SPNS      ILS         TASE        330867313  SAPIENS INTERNATIONAL CORP\n",
      "     27  SPI1      EUR         FWB2        469136622  SAPPI LIMITED\n",
      "     26  ASA       NOK         OSE         421653762  ATLANTIC SAPPHIRE ASA\n",
      "     25  SAPPHIRE  INR         NSE         527046201  SAPPHIRE FOODS INDIA LTD\n",
      "     24  SAPIAB    SEK         VALUE       423903615  SALTANGEN PROPERTY INVEST AB\n",
      "     23  SAPR11    BRL         BOVESPA     319096101  CIA DE SANEAMENTO DO PA-UNIT\n",
      "     22  ALMER     EUR         SBF          61595660  SAPMER\n",
      "     21  SAPR4     BRL         BOVESPA      52289630  CIA SANEAMENTO DO PARANA-PRF\n",
      "     20  SAP2N     MXN         MEXI        532110239  SAPUTO INC\n",
      "     19  SAP1N     MXN         MEXI        458591970  SAP SE\n",
      "     18  S3P       EUR         FWB2        330867316  SAPIENS INTERNATIONAL CORP\n",
      "     17  SAPA      GBP         LSEETF      558176224  SPDR MSCI ACWI CLM PAB ACC\n",
      "     16  SAPL      GBP         LSEETF      425171860  LEVERAGE SHARES -1X APPLE\n",
      "     15  SAPE      EUR         LSEETF      425171857  LEVERAGE SHARES -1X APPLE\n",
      "     14  SAPN      MXN         MEXI         38708673  SAP SE-SPONSORED ADR\n",
      "     13  SAPA      EUR         FWB2          4826655  SAP SE-SPONSORED ADR\n",
      "     12  SAP       ZAR         JSE         290088120  SAPPI LIMITED\n",
      "     11  SAP       CAD         TSE          14893739  SAPUTO INC\n",
      "     10  SAP       EUR         IBIS            14204  SAP SE\n",
      "      9  SAP       CHF         EBS          11979285  SAP SE\n",
      "      8  FYR.ESC   USD         VALUE        72323965  SAPPHIRE INDUSTRIALS ESCROW\n",
      "      7  SPPJY     USD         PINK          6608495  SAPPI LTD -SPONSORED ADR\n",
      "      6  SAPMY     USD         PINK        564931605  SAIPEM SPA-UNSPON ADR\n",
      "      5  SAPIF     USD         PINK         72160303  SAPUTO INC\n",
      "      4  SAPX      USD         PINK        144043871  SEVEN ARTS ENTERTAINMENT INC\n",
      "      3  SAPA      USD         EBS         561593417  SPDR MSCI ACWI CLM PAB ACC\n",
      "      2  BWMX      USD         NASDAQ      409841962  BETTERWARE DE MEXICO SAPI DE\n",
      "      1  SPNS      USD         NASDAQ      330867311  SAPIENS INTERNATIONAL CORP\n",
      "      0  SAP       USD         NYSE          3804335  SAP SE-SPONSORED ADR\n"
     ]
    }
   ],
   "source": [
    "cts = search('SAP')\n",
    "view(cts)"
   ],
   "metadata": {
    "collapsed": false,
    "ExecuteTime": {
     "end_time": "2023-09-10T21:30:02.801089Z",
     "start_time": "2023-09-10T21:30:02.183017900Z"
    }
   },
   "id": "eaa91ac42f267be5"
  },
  {
   "cell_type": "code",
   "execution_count": 6,
   "outputs": [
    {
     "data": {
      "text/plain": "240"
     },
     "execution_count": 6,
     "metadata": {},
     "output_type": "execute_result"
    }
   ],
   "source": [
    "todo = [yfsym for yfsym, info in eur.items() if 'partners' not in info]\n",
    "len(todo)"
   ],
   "metadata": {
    "collapsed": false,
    "ExecuteTime": {
     "end_time": "2023-09-10T21:35:27.341958500Z",
     "start_time": "2023-09-10T21:35:27.324856900Z"
    }
   },
   "id": "a8c7c0e2f5473122"
  },
  {
   "cell_type": "code",
   "execution_count": 65,
   "outputs": [
    {
     "data": {
      "text/plain": "('REN.AS', 'REN', 'RELX', 'United Kingdom', 'Industrials')"
     },
     "execution_count": 65,
     "metadata": {},
     "output_type": "execute_result"
    }
   ],
   "source": [
    "yfsym = random.choice(todo)\n",
    "ctx = create_container(yfsym)\n",
    "yfsym, symbols_table[yfsym]['ibkr-contract']['symbol'], ctx['company_short_name'], ctx['country'], ctx['sector']"
   ],
   "metadata": {
    "collapsed": false,
    "ExecuteTime": {
     "end_time": "2023-09-10T22:53:08.794762200Z",
     "start_time": "2023-09-10T22:53:08.781593700Z"
    }
   },
   "id": "4982dd5f9fa2c29e"
  },
  {
   "cell_type": "code",
   "execution_count": 73,
   "outputs": [],
   "source": [
    "contexts = {}\n",
    "sols = {}\n",
    "bad = {}"
   ],
   "metadata": {
    "collapsed": false,
    "ExecuteTime": {
     "end_time": "2023-09-10T23:01:52.671286300Z",
     "start_time": "2023-09-10T23:01:52.655234600Z"
    }
   },
   "id": "d7ac913749d57014"
  },
  {
   "cell_type": "code",
   "execution_count": 75,
   "outputs": [
    {
     "data": {
      "text/plain": "  0%|          | 0/240 [00:00<?, ?it/s]",
      "application/vnd.jupyter.widget-view+json": {
       "version_major": 2,
       "version_minor": 0,
       "model_id": "d02fb16bf18944d28a21fc036aa5e5e2"
      }
     },
     "metadata": {},
     "output_type": "display_data"
    },
    {
     "data": {
      "text/plain": "(236, 4)"
     },
     "execution_count": 75,
     "metadata": {},
     "output_type": "execute_result"
    }
   ],
   "source": [
    "itr = tqdm(todo)\n",
    "for yfsym in itr:\n",
    "\tif yfsym in sols or yfsym in bad:\n",
    "\t\tcontinue\n",
    "\titr.set_description(f'{yfsym} (bad={len(bad)})')\n",
    "\t\n",
    "\tif yfsym not in contexts:\n",
    "\t\tcontexts[yfsym] = create_container(yfsym)\n",
    "\tctx = contexts[yfsym]\n",
    "\t\n",
    "\ttry:\n",
    "\t\tlong_name = ctx['company_name']\n",
    "\t\tcompany_name = ctx['company_short_name']\n",
    "\t\tassert company_name is not None\n",
    "\texcept Exception as e:\n",
    "\t\tbad[yfsym] = e\n",
    "\telse:\n",
    "\t\tibsym = symbols_table[yfsym]['ibkr-contract']['symbol']\n",
    "\t\t\n",
    "\t\tsrcs = [search(ibsym), search(company_name)]\n",
    "\t\tsrcs = [[ct for ct in src if ct.currency == 'USD'] for src in srcs]\n",
    "\t\tlocs = [{ct.conId for ct in src} for src in srcs]\n",
    "\t\tcts = []\n",
    "\t\tfor src in srcs:\n",
    "\t\t\tcts.extend(ct for ct in src if ct not in cts)\n",
    "\t\t\n",
    "\t\tdef contract_score(ct):\n",
    "\t\t\treturn (sum(ct.conId in loc for loc in locs),\n",
    "\t\t\t\tmax(misc.str_similarity(long_name.lower(), ct.description.lower()), \n",
    "\t\t\t\t\tmisc.str_similarity(company_name.lower(), ct.description.lower())))\n",
    "\t\tpicks = sorted([ct for ct in cts if ct.currency == 'USD'], key=contract_score, reverse=True)\n",
    "\t\t\n",
    "\t\tsols[yfsym] = picks\n",
    "len(sols), len(bad)"
   ],
   "metadata": {
    "collapsed": false,
    "ExecuteTime": {
     "end_time": "2023-09-10T23:14:02.451970100Z",
     "start_time": "2023-09-10T23:10:46.814263400Z"
    }
   },
   "id": "6c7a27128ea8bd39"
  },
  {
   "cell_type": "code",
   "execution_count": 77,
   "outputs": [
    {
     "name": "stdout",
     "output_type": "stream",
     "text": [
      "symbol     error\n",
      "---------  ----------------\n",
      "MOCORP.HE  AssertionError()\n",
      "NDA FI.HE  AssertionError()\n",
      "NDA.ST     AssertionError()\n",
      "URW.AS     AssertionError()\n"
     ]
    }
   ],
   "source": [
    "print(tabulate([[yfsym, repr(e)] for yfsym, e in bad.items()], headers=['symbol', 'error'])) # ['MOCORP.HE', 'NDA FI.HE', 'NDA.ST', 'URW.AS']"
   ],
   "metadata": {
    "collapsed": false,
    "ExecuteTime": {
     "end_time": "2023-09-10T23:15:07.152552200Z",
     "start_time": "2023-09-10T23:15:07.132979500Z"
    }
   },
   "id": "b81f7b640975f78e"
  },
  {
   "cell_type": "code",
   "execution_count": 78,
   "outputs": [],
   "source": [
    "# print(tabulate([(i, c.symbol, c.currency, c.primaryExchange, c.conId, c.description, contract_score(c)[-1]) for i, c in reversed(list(enumerate(picks)))], headers=['index', 'symbol', 'currency', 'exchange', 'conId', 'description', 'score']))"
   ],
   "metadata": {
    "collapsed": false,
    "ExecuteTime": {
     "end_time": "2023-09-10T23:26:31.438501300Z",
     "start_time": "2023-09-10T23:26:31.431084800Z"
    }
   },
   "id": "4305dda16d2c66de"
  },
  {
   "cell_type": "code",
   "execution_count": 80,
   "outputs": [],
   "source": [
    "def contract_context_score(ct, ctx):\n",
    "\tlong_name = ctx['company_name']\n",
    "\tcompany_name = ctx['company_short_name']\n",
    "\treturn (sum(ct.conId in loc for loc in locs),\n",
    "\t\tmax(misc.str_similarity(long_name.lower(), ct.description.lower()), \n",
    "\t\t\tmisc.str_similarity(company_name.lower(), ct.description.lower())))"
   ],
   "metadata": {
    "collapsed": false,
    "ExecuteTime": {
     "end_time": "2023-09-10T23:30:55.716845Z",
     "start_time": "2023-09-10T23:30:55.696278700Z"
    }
   },
   "id": "91f4fd5da4cdfa94"
  },
  {
   "cell_type": "code",
   "execution_count": 85,
   "outputs": [
    {
     "data": {
      "text/plain": "195"
     },
     "execution_count": 85,
     "metadata": {},
     "output_type": "execute_result"
    }
   ],
   "source": [
    "scores = {yfsym: contract_context_score(sols[yfsym][0], contexts[yfsym])[-1] for yfsym in sols.keys() if len(sols[yfsym]) > 0}\n",
    "pts = list(scores.values())\n",
    "len(pts)"
   ],
   "metadata": {
    "collapsed": false,
    "ExecuteTime": {
     "end_time": "2023-09-10T23:37:12.873030800Z",
     "start_time": "2023-09-10T23:37:12.841691900Z"
    }
   },
   "id": "a0c89d2fa9bfdc2e"
  },
  {
   "cell_type": "code",
   "execution_count": 94,
   "outputs": [
    {
     "data": {
      "text/plain": "<Figure size 640x480 with 1 Axes>",
      "image/png": "[encoded data removed]"
     },
     "metadata": {},
     "output_type": "display_data"
    }
   ],
   "source": [
    "import matplotlib.pyplot as plt\n",
    "import seaborn as sns\n",
    "sns.set_theme(style=\"darkgrid\")\n",
    "# %matplotlib inline\n",
    "# sns.displot(pts, bins=100);\n",
    "sns.kdeplot(pts, bw_adjust=0.3);"
   ],
   "metadata": {
    "collapsed": false,
    "ExecuteTime": {
     "end_time": "2023-09-10T23:41:04.276841200Z",
     "start_time": "2023-09-10T23:41:04.098236200Z"
    }
   },
   "id": "4de7e23d39870478"
  },
  {
   "cell_type": "code",
   "execution_count": 117,
   "outputs": [
    {
     "data": {
      "text/plain": "195"
     },
     "execution_count": 117,
     "metadata": {},
     "output_type": "execute_result"
    }
   ],
   "source": [
    "high = {yfsym: sols[yfsym][0] for yfsym in sols.keys() if len(sols[yfsym]) }#and scores.get(yfsym, 0) >= 0.4}\n",
    "len(high)"
   ],
   "metadata": {
    "collapsed": false,
    "ExecuteTime": {
     "end_time": "2023-09-11T00:43:19.627407Z",
     "start_time": "2023-09-11T00:43:19.605772Z"
    }
   },
   "id": "c5e675083a882f0d"
  },
  {
   "cell_type": "code",
   "execution_count": 121,
   "outputs": [],
   "source": [
    "table = sorted([[\n",
    "\tscores[yfsym], \n",
    "\tyfsym, \n",
    "\tcontexts[yfsym]['country'], \n",
    "\tcontexts[yfsym]['sector'],\n",
    "\tcontexts[yfsym]['market_cap'],\n",
    "\tcontexts[yfsym]['company_short_name'], \n",
    "\tsymbols_table[yfsym]['ibkr-contract']['symbol'], \n",
    "\tc.symbol, \n",
    "\tc.description,\n",
    "\tc.conId,\n",
    "\tc.currency,\n",
    "\tc.primaryExchange,\n",
    "\tc.exchange,\n",
    "] \n",
    "\t\t\t\tfor yfsym, c in high.items()], key=lambda r: r[0], reverse=True)\n",
    "# print(tabulate(table, headers=['symbol', 'country', 'company', 'euro', 'score', 'ibkr','ibkr-desc']))"
   ],
   "metadata": {
    "collapsed": false,
    "ExecuteTime": {
     "end_time": "2023-09-11T00:43:51.200029500Z",
     "start_time": "2023-09-11T00:43:51.179321Z"
    }
   },
   "id": "f6779a1aefe3de4f"
  },
  {
   "cell_type": "code",
   "execution_count": 123,
   "outputs": [],
   "source": [
    "import pandas as pd\n",
    "df = pd.DataFrame(table, columns=['score', 'symbol', 'country', 'sector', 'market_cap', 'company', 'ibkr', 'ibkr-desc', 'ibkr-conId', 'ibkr-currency', 'ibkr-exchange', 'ibkr-primaryExchange', 'ibkr-exchange'])\n",
    "df.to_csv(misc.assets_root() / 'ibkr-company-matches.csv');"
   ],
   "metadata": {
    "collapsed": false,
    "ExecuteTime": {
     "end_time": "2023-09-11T00:44:06.231575Z",
     "start_time": "2023-09-11T00:44:06.205394300Z"
    }
   },
   "id": "be961d25e76f11ac"
  },
  {
   "cell_type": "code",
   "execution_count": null,
   "outputs": [],
   "source": [],
   "metadata": {
    "collapsed": false
   },
   "id": "6fb61346866d1b98"
  },
  {
   "cell_type": "code",
   "execution_count": null,
   "outputs": [],
   "source": [],
   "metadata": {
    "collapsed": false,
    "ExecuteTime": {
     "end_time": "2023-09-10T13:46:16.580719600Z",
     "start_time": "2023-09-10T13:46:16.559452200Z"
    }
   },
   "id": "2c381ab300733483"
  },
  {
   "cell_type": "code",
   "execution_count": null,
   "outputs": [],
   "source": [],
   "metadata": {
    "collapsed": false
   },
   "id": "236ccbd15b3f7f7b"
  }
 ],
 "metadata": {
  "kernelspec": {
   "display_name": "Python 3",
   "language": "python",
   "name": "python3"
  },
  "language_info": {
   "codemirror_mode": {
    "name": "ipython",
    "version": 2
   },
   "file_extension": ".py",
   "mimetype": "text/x-python",
   "name": "python",
   "nbconvert_exporter": "python",
   "pygments_lexer": "ipython2",
   "version": "2.7.6"
  }
 },
 "nbformat": 4,
 "nbformat_minor": 5
}
