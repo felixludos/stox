{
 "cells": [
  {
   "cell_type": "code",
   "execution_count": 2,
   "id": "initial_id",
   "metadata": {
    "ExecuteTime": {
     "end_time": "2023-09-11T21:32:54.380189900Z",
     "start_time": "2023-09-11T21:32:53.640604300Z"
    }
   },
   "outputs": [
    {
     "data": {
      "text/plain": "<IPython.core.display.HTML object>",
      "text/html": "<style>.container { width:98% !important; }</style>"
     },
     "metadata": {},
     "output_type": "display_data"
    }
   ],
   "source": [
    "import math, random\n",
    "from tqdm.notebook import tqdm\n",
    "from tabulate import tabulate\n",
    "from unidecode import unidecode\n",
    "from IPython.display import display, HTML\n",
    "display(HTML(\"<style>.container { width:98% !important; }</style>\"))\n",
    "import pandas as pd\n",
    "from omnibelt import save_yaml, load_json, save_json\n",
    "import omnifig as fig\n",
    "from stox import misc\n",
    "from stox.general import load_symbol_table\n",
    "# from stox.ibkr import \n",
    "fig.initialize()"
   ]
  },
  {
   "cell_type": "code",
   "execution_count": 3,
   "id": "779d6bd95e61b37c",
   "metadata": {
    "collapsed": false,
    "ExecuteTime": {
     "end_time": "2023-09-11T21:32:56.183051500Z",
     "start_time": "2023-09-11T21:32:55.930775800Z"
    }
   },
   "outputs": [
    {
     "data": {
      "text/plain": "(454, 239)"
     },
     "execution_count": 3,
     "metadata": {},
     "output_type": "execute_result"
    }
   ],
   "source": [
    "symbols_table = load_symbol_table()\n",
    "eur = {yfsym: info for yfsym, info in symbols_table.items() if info['ibkr-contract']['currency'] == 'EUR'}\n",
    "len(symbols_table), len(eur)"
   ]
  },
  {
   "cell_type": "code",
   "execution_count": 7,
   "id": "562cfaf83fd60c3f",
   "metadata": {
    "collapsed": false,
    "ExecuteTime": {
     "end_time": "2023-09-11T21:34:16.615268700Z",
     "start_time": "2023-09-11T21:34:12.603392800Z"
    }
   },
   "outputs": [
    {
     "name": "stderr",
     "output_type": "stream",
     "text": [
      "ERROR:ib_insync.wrapper: Error 321, reqId 2147483647: Error validating request.-'cG' : cause - The API interface is currently in Read-Only mode.\n",
      "ERROR:ib_insync.wrapper: Error 321, reqId -1: Error validating request.-'ce' : cause - The API interface is currently in Read-Only mode.\n",
      "ERROR:ib_insync.ib: open orders request timed out\n",
      "ERROR:ib_insync.ib: completed orders request timed out\n"
     ]
    }
   ],
   "source": [
    "date = 'last'\n",
    "config = fig.create_config('container', api={'_type': 'ib-extractor', 'using_notebook': True, 'client_id': 14}, \n",
    "\t\t\t\t\t\t   currency='USD', exchange=['NYSE', 'NASDAQ'], return_all=True)\n",
    "_container_source = config.peek('container')\n",
    "def create_container(yfsym):\n",
    "\twith _container_source.silence():\n",
    "\t\tctx = _container_source.create()\n",
    "\tctx['ticker'] = yfsym\n",
    "\tctx['date'] = date\n",
    "\treturn ctx\n",
    "def search(query):\n",
    "\tconfig.push('query', misc.clean_company_name(query))\n",
    "\tcts = fig.run_script('ib-search', config)\n",
    "\treturn cts\n",
    "def view(cts):\n",
    "\tprint(tabulate([(i, c.symbol, c.currency, c.primaryExchange, c.conId, c.description) for i, c in reversed(list(enumerate(cts)))], headers=['index', 'symbol', 'currency', 'exchange', 'conId', 'description']))\n",
    "config.silent = True\n",
    "ibe = config.pull('api')"
   ]
  },
  {
   "cell_type": "code",
   "execution_count": 6,
   "id": "a8c7c0e2f5473122",
   "metadata": {
    "collapsed": false,
    "ExecuteTime": {
     "end_time": "2023-09-11T14:08:52.373065700Z",
     "start_time": "2023-09-11T14:08:52.347376300Z"
    }
   },
   "outputs": [
    {
     "data": {
      "text/plain": "239"
     },
     "execution_count": 6,
     "metadata": {},
     "output_type": "execute_result"
    }
   ],
   "source": [
    "todo = [yfsym for yfsym, info in eur.items() if 'partners' not in info]\n",
    "# yfsym = random.choice(todo)\n",
    "# ctx = create_container(yfsym)\n",
    "# yfsym, symbols_table[yfsym]['ibkr-contract']['symbol'], ctx['company_short_name'], ctx['country'], ctx['sector']\n",
    "len(todo)"
   ]
  },
  {
   "cell_type": "code",
   "execution_count": 7,
   "id": "d7ac913749d57014",
   "metadata": {
    "collapsed": false,
    "ExecuteTime": {
     "end_time": "2023-09-11T14:08:52.738529700Z",
     "start_time": "2023-09-11T14:08:52.368063700Z"
    }
   },
   "outputs": [
    {
     "data": {
      "text/plain": "238"
     },
     "execution_count": 7,
     "metadata": {},
     "output_type": "execute_result"
    }
   ],
   "source": [
    "table_path = misc.assets_root() / 'euro-partners.json'\n",
    "table = load_json(table_path) if table_path.exists() else {}\n",
    "contexts = {yfsym: create_container(yfsym) for yfsym in todo}\n",
    "len(table)"
   ]
  },
  {
   "cell_type": "code",
   "execution_count": 8,
   "id": "abfc03332561ed05",
   "metadata": {
    "collapsed": false,
    "ExecuteTime": {
     "end_time": "2023-09-11T14:08:52.739527600Z",
     "start_time": "2023-09-11T14:08:52.701407200Z"
    }
   },
   "outputs": [],
   "source": [
    "sols = {}\n",
    "bad = {}"
   ]
  },
  {
   "cell_type": "code",
   "execution_count": 9,
   "id": "6c7a27128ea8bd39",
   "metadata": {
    "collapsed": false,
    "ExecuteTime": {
     "end_time": "2023-09-11T14:08:52.951268200Z",
     "start_time": "2023-09-11T14:08:52.726526500Z"
    }
   },
   "outputs": [
    {
     "data": {
      "text/plain": "  0%|          | 0/239 [00:00<?, ?it/s]",
      "application/vnd.jupyter.widget-view+json": {
       "version_major": 2,
       "version_minor": 0,
       "model_id": "a15592dd5c0f4179837a66ec725e7c31"
      }
     },
     "metadata": {},
     "output_type": "display_data"
    },
    {
     "data": {
      "text/plain": "(0, 1)"
     },
     "execution_count": 9,
     "metadata": {},
     "output_type": "execute_result"
    }
   ],
   "source": [
    "itr = tqdm(todo)\n",
    "for yfsym in itr:\n",
    "\tif yfsym in sols or yfsym in bad or yfsym in table:\n",
    "\t\tcontinue\n",
    "\titr.set_description(f'{yfsym} (bad={len(bad)})')\n",
    "\t\n",
    "\tif yfsym not in contexts:\n",
    "\t\tcontexts[yfsym] = create_container(yfsym)\n",
    "\tctx = contexts[yfsym]\n",
    "\t\n",
    "\ttry:\n",
    "\t\tlong_name = unidecode(ctx['company_name'])\n",
    "\t\tcompany_name = unidecode(ctx['company_short_name'])\n",
    "\t\tassert company_name is not None\n",
    "\texcept Exception as e:\n",
    "\t\tbad[yfsym] = e\n",
    "\telse:\n",
    "\t\tibsym = symbols_table[yfsym]['ibkr-contract']['symbol']\n",
    "\t\tsrcs = [search(ibsym), search(company_name)]\n",
    "\t\ttry:\n",
    "\t\t\tif long_name is not None and misc.clean_company_name(long_name) != misc.clean_company_name(company_name):\n",
    "\t\t\t\tsrcs.append(search(long_name))\n",
    "\t\texcept:\n",
    "\t\t\tprint(f'Error searching {yfsym}: {long_name!r}')\n",
    "\t\t\traise\n",
    "\t\tsrcs = [[ct for ct in src if ct.currency == 'USD'] for src in srcs]\n",
    "\t\tlocs = [{ct.conId for ct in src} for src in srcs]\n",
    "\t\tcts = []\n",
    "\t\tfor src in srcs:\n",
    "\t\t\tcts.extend(ct for ct in src if ct not in cts)\n",
    "\t\t\n",
    "\t\tdef contract_score(ct):\n",
    "\t\t\treturn (sum(ct.conId in loc for loc in locs),\n",
    "\t\t\t\tmax(misc.str_similarity(long_name.lower(), ct.description.lower()), \n",
    "\t\t\t\t\tmisc.str_similarity(company_name.lower(), ct.description.lower())))\n",
    "\t\tpicks = sorted([ct for ct in cts if ct.currency == 'USD'], key=contract_score, reverse=True)\n",
    "\t\t\n",
    "\t\tsols[yfsym] = picks\n",
    "len(sols), len(bad)"
   ]
  },
  {
   "cell_type": "code",
   "execution_count": 10,
   "id": "b81f7b640975f78e",
   "metadata": {
    "collapsed": false,
    "ExecuteTime": {
     "end_time": "2023-09-11T14:08:52.953271300Z",
     "start_time": "2023-09-11T14:08:52.804594Z"
    }
   },
   "outputs": [
    {
     "name": "stdout",
     "output_type": "stream",
     "text": [
      "symbol     error\n",
      "---------  -------------------------------------------------------------\n",
      "NDA-FI.HE  AttributeError(\"'NoneType' object has no attribute 'encode'\")\n"
     ]
    }
   ],
   "source": [
    "print(tabulate([[yfsym, repr(e)] for yfsym, e in bad.items()], headers=['symbol', 'error']))"
   ]
  },
  {
   "cell_type": "code",
   "execution_count": 11,
   "id": "bb244bd0c77430d",
   "metadata": {
    "collapsed": false,
    "ExecuteTime": {
     "end_time": "2023-09-11T14:08:52.953271300Z",
     "start_time": "2023-09-11T14:08:52.828130700Z"
    }
   },
   "outputs": [
    {
     "data": {
      "text/plain": "238"
     },
     "execution_count": 11,
     "metadata": {},
     "output_type": "execute_result"
    }
   ],
   "source": [
    "table.update({\n",
    "\t# scores[yfsym], \n",
    "\tyfsym: {\n",
    "\t'country': contexts[yfsym]['country'], \n",
    "\t'sector': contexts[yfsym]['sector'],\n",
    "\t'market_cap': [contexts[yfsym]['market_cap'].amount, contexts[yfsym]['market_cap'].unit],\n",
    "\t'company_name': contexts[yfsym]['company_short_name'], \n",
    "\t\t'long_name': contexts[yfsym]['company_name'],\n",
    "\t'ibkr-symbol': symbols_table[yfsym]['ibkr-contract']['symbol'],\n",
    "\t'results': [{'symbol': c.symbol, 'description': c.description, 'conId': c.conId, 'currency': c.currency, 'primaryExchange': c.primaryExchange, 'exchange': c.exchange} for c in cts],\n",
    "\t}\n",
    "\t\t\t\tfor yfsym, cts in sols.items()})\n",
    "# if len(table) > 0:\n",
    "# \tsave_json(table, misc.assets_root() / 'euro-partners.json')\n",
    "len(table)"
   ]
  },
  {
   "cell_type": "code",
   "execution_count": 12,
   "id": "4305dda16d2c66de",
   "metadata": {
    "collapsed": false,
    "ExecuteTime": {
     "end_time": "2023-09-11T14:08:54.455209200Z",
     "start_time": "2023-09-11T14:08:54.417507500Z"
    }
   },
   "outputs": [],
   "source": [
    "# print(tabulate([(i, c.symbol, c.currency, c.primaryExchange, c.conId, c.description, contract_score(c)[-1]) for i, c in reversed(list(enumerate(picks)))], headers=['index', 'symbol', 'currency', 'exchange', 'conId', 'description', 'score']))"
   ]
  },
  {
   "cell_type": "code",
   "execution_count": 13,
   "id": "91f4fd5da4cdfa94",
   "metadata": {
    "collapsed": false,
    "ExecuteTime": {
     "end_time": "2023-09-11T14:08:55.373312900Z",
     "start_time": "2023-09-11T14:08:55.320198Z"
    }
   },
   "outputs": [],
   "source": [
    "def best_match_score(base: str, *options: str):\n",
    "\treturn max(misc.str_similarity(base.lower(), opt.lower()) for opt in options)"
   ]
  },
  {
   "cell_type": "code",
   "execution_count": 14,
   "id": "a0c89d2fa9bfdc2e",
   "metadata": {
    "collapsed": false,
    "ExecuteTime": {
     "end_time": "2023-09-11T14:08:56.966086400Z",
     "start_time": "2023-09-11T14:08:55.995231500Z"
    }
   },
   "outputs": [
    {
     "data": {
      "text/plain": "212"
     },
     "execution_count": 14,
     "metadata": {},
     "output_type": "execute_result"
    }
   ],
   "source": [
    "scores = {yfsym: best_match_score(\n",
    "\tmisc.clean_company_name(entry['results'][0]['description']), \n",
    "\tmisc.clean_company_name(contexts[yfsym]['company_name']),\n",
    "\tmisc.clean_company_name(contexts[yfsym]['company_short_name']),\n",
    ") for yfsym, entry in table.items() if len(entry['results']) > 0}\n",
    "pts = list(scores.values())\n",
    "len(pts)"
   ]
  },
  {
   "cell_type": "code",
   "execution_count": 15,
   "id": "4de7e23d39870478",
   "metadata": {
    "collapsed": false,
    "ExecuteTime": {
     "end_time": "2023-09-11T14:08:57.925921800Z",
     "start_time": "2023-09-11T14:08:56.947080600Z"
    }
   },
   "outputs": [
    {
     "data": {
      "text/plain": "<Figure size 640x480 with 1 Axes>",
      "image/png": "[encoded data removed]"
     },
     "metadata": {},
     "output_type": "display_data"
    }
   ],
   "source": [
    "import matplotlib.pyplot as plt\n",
    "import seaborn as sns\n",
    "sns.set_theme(style=\"darkgrid\")\n",
    "# %matplotlib inline\n",
    "# sns.displot(pts, bins=50);\n",
    "sns.kdeplot(pts, bw_adjust=0.3, fill=True, clip=(0, 1));"
   ]
  },
  {
   "cell_type": "code",
   "execution_count": 15,
   "id": "4689c0a90f9c6776",
   "metadata": {
    "collapsed": false,
    "ExecuteTime": {
     "end_time": "2023-09-11T14:08:57.926922Z",
     "start_time": "2023-09-11T14:08:57.916399100Z"
    }
   },
   "outputs": [],
   "source": [
    "picks = {}"
   ]
  },
  {
   "cell_type": "code",
   "execution_count": 34,
   "id": "ba56ff4b91216291",
   "metadata": {
    "collapsed": false,
    "ExecuteTime": {
     "end_time": "2023-09-11T14:41:01.531806900Z",
     "start_time": "2023-09-11T14:41:01.463663Z"
    }
   },
   "outputs": [],
   "source": [
    "def display_results(name, results):\n",
    "\ttop = results[:5]\n",
    "\t\n",
    "\tres = [\n",
    "\t\tf'({i}) {r[\"description\"]!r} :: {r[\"symbol\"]} [{s:.2f}]'\n",
    "\t\tfor i, (r, s) in enumerate(sorted([(r, best_match_score(name, misc.clean_company_name(r['description']))) for r in top], key=lambda x: x[1], reverse=True))]\n",
    "\treturn '\\n'.join(res)\n",
    "\tres = [(misc.clean_company_name(r['description']), f'{best_match_score(name, r[\"description\"]):.2f}', r['description'][:60]) for r in top]\n",
    "\tres = sorted(res, key=lambda r: float(r[1]), reverse=True)\n",
    "\treturn '\\n'.join(tabulate(res).split('\\n')[1:-1])"
   ]
  },
  {
   "cell_type": "code",
   "execution_count": 35,
   "id": "277a29bf7f9b2dd6",
   "metadata": {
    "collapsed": false,
    "ExecuteTime": {
     "end_time": "2023-09-11T14:41:03.739543300Z",
     "start_time": "2023-09-11T14:41:03.626590900Z"
    }
   },
   "outputs": [
    {
     "data": {
      "text/plain": "212"
     },
     "execution_count": 35,
     "metadata": {},
     "output_type": "execute_result"
    }
   ],
   "source": [
    "rows = [[entry['company_name'], misc.clean_company_name(entry['long_name']),\n",
    "\t\t picks.get(yfsym, 0),\n",
    "\t\t display_results(misc.clean_company_name(entry['long_name']), entry['results']),\n",
    "\t\t yfsym, entry['country'], entry['sector'], misc.humanize(entry['market_cap'][0]), ] \n",
    "\t\tfor yfsym, entry in table.items() if len(entry['results']) > 0]\n",
    "len(rows)"
   ]
  },
  {
   "cell_type": "code",
   "execution_count": 36,
   "id": "16f523a107d5d8a8",
   "metadata": {
    "collapsed": false,
    "ExecuteTime": {
     "end_time": "2023-09-11T14:41:06.262296900Z",
     "start_time": "2023-09-11T14:41:06.140127200Z"
    }
   },
   "outputs": [],
   "source": [
    "df = pd.DataFrame(rows, columns=['company', 'long_name', 'pick', 'ibkr-desc', 'symbol', 'country', 'sector', 'market_cap'])"
   ]
  },
  {
   "cell_type": "code",
   "execution_count": 37,
   "outputs": [],
   "source": [],
   "metadata": {
    "collapsed": false,
    "ExecuteTime": {
     "end_time": "2023-09-11T14:41:06.279858600Z",
     "start_time": "2023-09-11T14:41:06.155644600Z"
    }
   },
   "id": "49f85009f3b9e209"
  },
  {
   "cell_type": "code",
   "execution_count": 38,
   "id": "fe3ac86fd435906c",
   "metadata": {
    "collapsed": false,
    "ExecuteTime": {
     "end_time": "2023-09-11T14:41:10.489216100Z",
     "start_time": "2023-09-11T14:41:08.361486500Z"
    }
   },
   "outputs": [],
   "source": [
    "# import pandasgui\n",
    "# pandasgui.show(df);\n",
    "import dtale\n",
    "dt = dtale.show(df)\n",
    "dt.open_browser()\n",
    "# print(dt._main_url)"
   ]
  },
  {
   "cell_type": "code",
   "execution_count": 33,
   "id": "ed0e63ca-35fd-44c5-a305-e9cb3eed69de",
   "metadata": {
    "ExecuteTime": {
     "end_time": "2023-09-11T14:40:18.542567200Z",
     "start_time": "2023-09-11T14:40:18.510340900Z"
    }
   },
   "outputs": [],
   "source": [
    "# picks = dt.data['pick']"
   ]
  },
  {
   "cell_type": "code",
   "execution_count": 40,
   "id": "adad80ed6ace9546",
   "metadata": {
    "collapsed": false,
    "ExecuteTime": {
     "end_time": "2023-09-11T15:14:35.064069400Z",
     "start_time": "2023-09-11T15:14:35.018730900Z"
    }
   },
   "outputs": [],
   "source": [
    "picks = {yfsym: int(p) for yfsym, p in zip(dt.data['symbol'], dt.data['pick']) if not math.isnan(p)}\n",
    "# manual = {'IAG.MC': 'ICAGY', 'LHA.DE':'DLAKY', 'OR.PA': 'LRLCY', 'PST.MI': 'PITAF', 'SGO.PA': 'CODYY', 'SOF.BR': 'SFNXF', 'SU.PA': 'SBGSY', 'VOW3.DE': 'VWAPY'}"
   ]
  },
  {
   "cell_type": "code",
   "execution_count": 41,
   "outputs": [],
   "source": [
    "failed = [yfsym for yfsym, idx in picks.items() if idx < 0]"
   ],
   "metadata": {
    "collapsed": false,
    "ExecuteTime": {
     "end_time": "2023-09-11T15:15:20.474446500Z",
     "start_time": "2023-09-11T15:15:20.438852400Z"
    }
   },
   "id": "a5843ffe69e921f6"
  },
  {
   "cell_type": "code",
   "execution_count": 42,
   "outputs": [
    {
     "data": {
      "text/plain": "184"
     },
     "execution_count": 42,
     "metadata": {},
     "output_type": "execute_result"
    }
   ],
   "source": [
    "done = {yfsym: table[yfsym]['results'][idx] for yfsym, idx in picks.items() if idx >= 0}\n",
    "len(done)"
   ],
   "metadata": {
    "collapsed": false,
    "ExecuteTime": {
     "end_time": "2023-09-11T15:16:35.675636600Z",
     "start_time": "2023-09-11T15:16:35.633722700Z"
    }
   },
   "id": "d903e9a151d72ea9"
  },
  {
   "cell_type": "code",
   "execution_count": 43,
   "outputs": [],
   "source": [
    "# save_json(done, misc.assets_root() / 'euro-partners-matches.json')"
   ],
   "metadata": {
    "collapsed": false,
    "ExecuteTime": {
     "end_time": "2023-09-11T15:18:54.886238Z",
     "start_time": "2023-09-11T15:18:54.846283500Z"
    }
   },
   "id": "54a20a2c3d42507e"
  },
  {
   "cell_type": "code",
   "execution_count": 45,
   "outputs": [],
   "source": [
    "from stox.ibkr import add_symbol_row, save_symbol_table"
   ],
   "metadata": {
    "collapsed": false,
    "ExecuteTime": {
     "end_time": "2023-09-11T15:25:52.378858400Z",
     "start_time": "2023-09-11T15:25:52.339680500Z"
    }
   },
   "id": "e6268e64b7b17217"
  },
  {
   "cell_type": "code",
   "execution_count": 46,
   "outputs": [],
   "source": [
    "symbols_table = load_symbol_table()"
   ],
   "metadata": {
    "collapsed": false,
    "ExecuteTime": {
     "end_time": "2023-09-11T15:26:29.095075900Z",
     "start_time": "2023-09-11T15:26:28.820276400Z"
    }
   },
   "id": "8531e81b4780e23a"
  },
  {
   "cell_type": "code",
   "execution_count": 47,
   "outputs": [],
   "source": [
    "for yfsym, info in done.items():\n",
    "\t# add_symbol_row(yfsym, info)\n",
    "\tibsym = info['symbol']\n",
    "\tif ibsym not in symbols_table:\n",
    "\t\tsymbols_table[ibsym] = {'ibkr-contract': info, 'partners': [yfsym]}\n",
    "\telif yfsym not in symbols_table[ibsym].get('partners', []):\n",
    "\t\tsymbols_table[ibsym].setdefault('partners', []).append(yfsym)\n",
    "\tif ibsym not in symbols_table[yfsym].get('partners', []):\n",
    "\t\tsymbols_table[yfsym].setdefault('partners', []).append(ibsym)"
   ],
   "metadata": {
    "collapsed": false,
    "ExecuteTime": {
     "end_time": "2023-09-11T15:30:22.382909200Z",
     "start_time": "2023-09-11T15:30:22.348810900Z"
    }
   },
   "id": "8a7230f434610749"
  },
  {
   "cell_type": "code",
   "execution_count": 48,
   "outputs": [
    {
     "data": {
      "text/plain": "WindowsPath('C:/Users/anwan/OneDrive/Khan/projects/stox/assets/symbol-table.yml')"
     },
     "execution_count": 48,
     "metadata": {},
     "output_type": "execute_result"
    }
   ],
   "source": [
    "# save_symbol_table(symbols_table)"
   ],
   "metadata": {
    "collapsed": false,
    "ExecuteTime": {
     "end_time": "2023-09-11T15:31:34.099675200Z",
     "start_time": "2023-09-11T15:31:31.526737Z"
    }
   },
   "id": "4cb39e695ccfbad3"
  },
  {
   "cell_type": "code",
   "execution_count": null,
   "id": "7eea1bbd15ef3cf8",
   "metadata": {
    "collapsed": false
   },
   "outputs": [],
   "source": []
  },
  {
   "cell_type": "code",
   "execution_count": 27,
   "id": "f6779a1aefe3de4f",
   "metadata": {
    "ExecuteTime": {
     "end_time": "2023-09-11T11:29:06.090652100Z",
     "start_time": "2023-09-11T11:29:06.040772100Z"
    },
    "collapsed": false
   },
   "outputs": [
    {
     "data": {
      "text/plain": [
       "238"
      ]
     },
     "execution_count": 27,
     "metadata": {},
     "output_type": "execute_result"
    }
   ],
   "source": [
    "\n",
    "len(table)\n",
    "# print(tabulate(table, headers=['symbol', 'country', 'company', 'euro', 'score', 'ibkr','ibkr-desc']))"
   ]
  },
  {
   "cell_type": "code",
   "execution_count": 28,
   "id": "37ff67a834f136f6",
   "metadata": {
    "ExecuteTime": {
     "end_time": "2023-09-11T11:29:07.074506800Z",
     "start_time": "2023-09-11T11:29:07.004901Z"
    },
    "collapsed": false
   },
   "outputs": [],
   "source": [
    "\n",
    "# save_json(table, misc.assets_root() / 'euro-partners.json')"
   ]
  },
  {
   "cell_type": "code",
   "execution_count": null,
   "id": "f981a963ee3ded1a",
   "metadata": {
    "collapsed": false
   },
   "outputs": [],
   "source": []
  },
  {
   "cell_type": "code",
   "execution_count": 19,
   "id": "be961d25e76f11ac",
   "metadata": {
    "ExecuteTime": {
     "end_time": "2023-09-11T11:20:56.975335200Z",
     "start_time": "2023-09-11T11:20:56.957495Z"
    },
    "collapsed": false
   },
   "outputs": [],
   "source": [
    "df = pd.DataFrame(table, columns=['score', 'symbol', 'country', 'sector', 'market_cap', 'company', 'ibkr', 'results'])\n",
    "# df.to_csv(misc.assets_root() / 'ibkr-company-matches.csv');"
   ]
  },
  {
   "cell_type": "code",
   "execution_count": 22,
   "id": "69d143e030e1add3",
   "metadata": {
    "ExecuteTime": {
     "end_time": "2023-09-11T11:23:42.476340100Z",
     "start_time": "2023-09-11T11:23:40.214513700Z"
    },
    "collapsed": false
   },
   "outputs": [],
   "source": [
    "import dtale\n",
    "dtale.show(df);"
   ]
  },
  {
   "cell_type": "code",
   "execution_count": 30,
   "id": "2abdb1e819b2f60f",
   "metadata": {
    "collapsed": false,
    "ExecuteTime": {
     "end_time": "2023-09-11T22:07:32.656455500Z",
     "start_time": "2023-09-11T22:07:32.625557200Z"
    }
   },
   "outputs": [],
   "source": [
    "from stox.ibkr import add_symbol_row, save_symbol_table"
   ]
  },
  {
   "cell_type": "code",
   "execution_count": 17,
   "id": "bb63d9d4e6d9b210",
   "metadata": {
    "collapsed": false,
    "ExecuteTime": {
     "end_time": "2023-09-11T21:55:47.670231400Z",
     "start_time": "2023-09-11T21:55:47.418187100Z"
    }
   },
   "outputs": [],
   "source": [
    "symbols_table = load_symbol_table()"
   ]
  },
  {
   "cell_type": "code",
   "execution_count": 18,
   "outputs": [],
   "source": [
    "# entry = symbols_table['RACE']['ibkr-contract']\n",
    "# entry"
   ],
   "metadata": {
    "collapsed": false,
    "ExecuteTime": {
     "end_time": "2023-09-11T21:55:50.769842Z",
     "start_time": "2023-09-11T21:55:50.754410500Z"
    }
   },
   "id": "9e6da74f765e20a"
  },
  {
   "cell_type": "code",
   "execution_count": 5,
   "outputs": [],
   "source": [
    "# from stox.ibkr import Stock\n",
    "# ct = Stock(**entry)\n",
    "# ct"
   ],
   "metadata": {
    "collapsed": false,
    "ExecuteTime": {
     "end_time": "2023-09-11T21:33:46.969234300Z",
     "start_time": "2023-09-11T21:33:46.947728500Z"
    }
   },
   "id": "1ca8f4b21493e853"
  },
  {
   "cell_type": "code",
   "execution_count": 31,
   "id": "6fb61346866d1b98",
   "metadata": {
    "collapsed": false,
    "ExecuteTime": {
     "end_time": "2023-09-11T22:07:36.186783300Z",
     "start_time": "2023-09-11T22:07:35.614975900Z"
    }
   },
   "outputs": [
    {
     "data": {
      "text/plain": "WindowsPath('C:/Users/anwan/OneDrive/Khan/projects/stox/assets/symbol-table.yml')"
     },
     "execution_count": 31,
     "metadata": {},
     "output_type": "execute_result"
    }
   ],
   "source": [
    "# save_symbol_table(symbols_table)"
   ]
  },
  {
   "cell_type": "code",
   "execution_count": null,
   "outputs": [],
   "source": [],
   "metadata": {
    "collapsed": false
   },
   "id": "84fbe3e06aa85962"
  },
  {
   "cell_type": "code",
   "execution_count": null,
   "outputs": [],
   "source": [],
   "metadata": {
    "collapsed": false
   },
   "id": "6f0ff827ba77c866"
  },
  {
   "cell_type": "code",
   "execution_count": null,
   "id": "2c381ab300733483",
   "metadata": {
    "ExecuteTime": {
     "end_time": "2023-09-10T13:46:16.580719600Z",
     "start_time": "2023-09-10T13:46:16.559452200Z"
    },
    "collapsed": false
   },
   "outputs": [],
   "source": []
  },
  {
   "cell_type": "code",
   "execution_count": null,
   "id": "236ccbd15b3f7f7b",
   "metadata": {
    "collapsed": false
   },
   "outputs": [],
   "source": []
  }
 ],
 "metadata": {
  "kernelspec": {
   "display_name": "Python 3 (ipykernel)",
   "language": "python",
   "name": "python3"
  },
  "language_info": {
   "codemirror_mode": {
    "name": "ipython",
    "version": 3
   },
   "file_extension": ".py",
   "mimetype": "text/x-python",
   "name": "python",
   "nbconvert_exporter": "python",
   "pygments_lexer": "ipython3",
   "version": "3.11.4"
  }
 },
 "nbformat": 4,
 "nbformat_minor": 5
}
