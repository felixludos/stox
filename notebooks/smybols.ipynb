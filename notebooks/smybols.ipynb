{
 "cells": [
  {
   "cell_type": "code",
   "execution_count": 1,
   "id": "initial_id",
   "metadata": {
    "collapsed": true,
    "ExecuteTime": {
     "end_time": "2023-08-28T20:48:13.765804900Z",
     "start_time": "2023-08-28T20:48:12.971554500Z"
    }
   },
   "outputs": [
    {
     "name": "stdout",
     "output_type": "stream",
     "text": [
      "C:\\Users\\anwan\\OneDrive\\Khan\\projects\\stox\\testdata\\yahoo_data\n"
     ]
    }
   ],
   "source": [
    "from stox.imports import *\n",
    "from stox.api import IB_Extractor\n",
    "from stox import misc, yahoo\n",
    "from omnibelt import tqdmd_notebook as tqdmd\n",
    "from omnibelt import save_yaml\n",
    "from collections import Counter\n",
    "# from stox.alpha_vantage import AlphaVantageStocks\n",
    "\n",
    "yahoo_root = misc.yahoo_root()\n",
    "yahoo_root = yahoo_root.parent.parent / 'testdata' / 'yahoo_data'\n",
    "print(yahoo_root)"
   ]
  },
  {
   "cell_type": "code",
   "execution_count": 153,
   "outputs": [],
   "source": [
    "matches = {}\n",
    "\n",
    "currency = 'EUR'\n",
    "currency = 'GBP'"
   ],
   "metadata": {
    "collapsed": false,
    "ExecuteTime": {
     "end_time": "2023-08-28T22:53:43.452420800Z",
     "start_time": "2023-08-28T22:53:43.449908700Z"
    }
   },
   "id": "dc8265ca5a7412ab"
  },
  {
   "cell_type": "code",
   "execution_count": 154,
   "outputs": [],
   "source": [
    "# cts = ibe.search('Dr. Ing. h.c. F. Porsche')\n",
    "def get_matches(query):\n",
    "    cts = ibe.search(query)\n",
    "    matches = list(misc.best_matches([c for c in cts if c.secType == 'STK' and c.currency == currency], [query],\n",
    "                                     key1=lambda c: c.description))\n",
    "    return matches"
   ],
   "metadata": {
    "collapsed": false,
    "ExecuteTime": {
     "end_time": "2023-08-28T22:53:44.634993700Z",
     "start_time": "2023-08-28T22:53:44.630887500Z"
    }
   },
   "id": "2bd2473ffd800195"
  },
  {
   "cell_type": "code",
   "execution_count": 172,
   "outputs": [
    {
     "data": {
      "text/plain": "(271, 271, [('AAPL', 1), ('MC.PA', 1)])"
     },
     "execution_count": 172,
     "metadata": {},
     "output_type": "execute_result"
    }
   ],
   "source": [
    "root = misc.assets_root()\n",
    "path = root / 'symbols.yml'\n",
    "data = load_export(path)\n",
    "existing = Counter(row['yahoo'] for row in data)\n",
    "len(data), len(existing), existing.most_common(2)"
   ],
   "metadata": {
    "collapsed": false,
    "ExecuteTime": {
     "end_time": "2023-08-28T23:28:14.012707100Z",
     "start_time": "2023-08-28T23:28:13.967215900Z"
    }
   },
   "id": "89b98327a3876c6b"
  },
  {
   "cell_type": "code",
   "execution_count": 144,
   "outputs": [
    {
     "data": {
      "text/plain": "[('RR.L', 'rolls-royce holdings'),\n ('ENT.L', 'entain'),\n ('RS1.L', 'rs group'),\n ('SPX.L', 'spirax-sarco engineering'),\n ('AHT.L', 'ashtead group'),\n ('CCH.L', 'coca-cola hbc'),\n ('RTO.L', 'rentokil initial'),\n ('BATS.L', 'british american tobacco'),\n ('ANTO.L', 'antofagasta'),\n ('BA.L', 'bae systems'),\n ('VOD.L', 'vodafone group public limited company'),\n ('SMIN.L', 'smiths group'),\n ('SDR.L', 'schroders'),\n ('HLN.L', 'haleon'),\n ('CNA.L', 'centrica'),\n ('PSN.L', 'persimmon'),\n ('TSCO.L', 'tesco'),\n ('EXPN.L', 'experian'),\n ('SHEL.L', 'shell'),\n ('CPG.L', 'compass group'),\n ('STJ.L', \"st james's place\"),\n ('AUTO.L', 'auto trader group'),\n ('SSE.L', 'sse'),\n ('SMT.L', 'scottish mortgage investment trust'),\n ('ABDN.L', 'abrdn'),\n ('MNG.L', 'm&g'),\n ('RMV.L', 'rightmove'),\n ('FRAS.L', 'frasers group'),\n ('AAF.L', 'airtel africa'),\n ('PRU.L', 'prudential')]"
     },
     "execution_count": 144,
     "metadata": {},
     "output_type": "execute_result"
    }
   ],
   "source": [
    "raw = '''RR.L\tRolls-Royce Holdings plc\n",
    "ENT.L\tEntain Plc\n",
    "RS1.L\tRS Group plc\n",
    "SPX.L\tSpirax-Sarco Engineering plc\n",
    "AHT.L\tAshtead Group plc\n",
    "CCH.L\tCoca-Cola HBC AG\n",
    "RTO.L\tRentokil Initial plc\n",
    "BATS.L\tBritish American Tobacco p.l.c.\n",
    "ANTO.L\tAntofagasta plc\n",
    "BA.L\tBAE Systems plc\n",
    "VOD.L\tVodafone Group Public Limited Company\n",
    "SMIN.L\tSmiths Group plc\n",
    "SDR.L\tSchroders plc\n",
    "HLN.L\tHaleon plc\n",
    "CNA.L\tCentrica plc\n",
    "PSN.L\tPersimmon Plc\n",
    "TSCO.L\tTesco PLC\n",
    "EXPN.L\tExperian plc\n",
    "SHEL.L\tShell plc\n",
    "CPG.L\tCompass Group PLC\n",
    "STJ.L\tSt. James's Place plc\n",
    "AUTO.L\tAuto Trader Group plc\n",
    "SSE.L\tSSE plc\n",
    "SMT.L\tScottish Mortgage Investment Trust PLC\n",
    "ABDN.L\tabrdn plc\n",
    "MNG.L\tM&G plc\n",
    "RMV.L\tRightmove plc\n",
    "FRAS.L\tFrasers Group plc\n",
    "AAF.L\tAirtel Africa Plc\n",
    "PRU.L\tPrudential plc'''.split('\\n')\n",
    "companies = [row.split('\\t') for row in raw]\n",
    "companies = [(tk, name.lower().replace('.br','').replace('.', '').replace(' spa', '').replace(' nv', '').replace(' sa', '').replace(' plc', '').replace(' aktiengesellschaft', '').replace(' ag', '').replace(' se', '')) for tk, name in companies]\n",
    "# companies = [(f'{tk}.HE', name) for tk, name in companies]\n",
    "companies"
   ],
   "metadata": {
    "collapsed": false,
    "ExecuteTime": {
     "end_time": "2023-08-28T22:49:33.905952Z",
     "start_time": "2023-08-28T22:49:33.872313400Z"
    }
   },
   "id": "84cba1da5b882fb9"
  },
  {
   "cell_type": "code",
   "execution_count": 145,
   "outputs": [
    {
     "data": {
      "text/plain": "  0%|          | 0/30 [00:00<?, ?it/s]",
      "application/vnd.jupyter.widget-view+json": {
       "version_major": 2,
       "version_minor": 0,
       "model_id": "97e33f188d9342afb9f1c169aba1a076"
      }
     },
     "metadata": {},
     "output_type": "display_data"
    },
    {
     "data": {
      "text/plain": "[]"
     },
     "execution_count": 145,
     "metadata": {},
     "output_type": "execute_result"
    }
   ],
   "source": [
    "bad_yk = [tk for tk, _ in tqdmd(companies, key=lambda x: x[0]) if len(yf.Ticker(tk).info) == 0]\n",
    "bad_yk"
   ],
   "metadata": {
    "collapsed": false,
    "ExecuteTime": {
     "end_time": "2023-08-28T22:49:54.736976200Z",
     "start_time": "2023-08-28T22:49:35.290479100Z"
    }
   },
   "id": "6d9dc9fd81bdbd8c"
  },
  {
   "cell_type": "code",
   "execution_count": 146,
   "outputs": [],
   "source": [
    "todo = [c[1] for c in companies]"
   ],
   "metadata": {
    "collapsed": false,
    "ExecuteTime": {
     "end_time": "2023-08-28T22:49:54.751929500Z",
     "start_time": "2023-08-28T22:49:54.737977400Z"
    }
   },
   "id": "6e551d73965a06f3"
  },
  {
   "cell_type": "code",
   "execution_count": 56,
   "outputs": [
    {
     "name": "stderr",
     "output_type": "stream",
     "text": [
      "ERROR:ib_insync.wrapper: Error 321, reqId 2147483647: Error validating request.-'cG' : cause - The API interface is currently in Read-Only mode.\n",
      "ERROR:ib_insync.wrapper: Error 321, reqId -1: Error validating request.-'ce' : cause - The API interface is currently in Read-Only mode.\n",
      "ERROR:ib_insync.ib: open orders request timed out\n",
      "ERROR:ib_insync.ib: completed orders request timed out\n"
     ]
    }
   ],
   "source": [
    "ibe = IB_Extractor(True)"
   ],
   "metadata": {
    "collapsed": false,
    "ExecuteTime": {
     "end_time": "2023-08-28T21:48:06.303809100Z",
     "start_time": "2023-08-28T21:48:02.217031800Z"
    }
   },
   "id": "127b34eb51c7fd9"
  },
  {
   "cell_type": "code",
   "execution_count": 155,
   "outputs": [
    {
     "data": {
      "text/plain": "  0%|          | 0/30 [00:00<?, ?it/s]",
      "application/vnd.jupyter.widget-view+json": {
       "version_major": 2,
       "version_minor": 0,
       "model_id": "29311354122f4dc686c1e035f642d98f"
      }
     },
     "metadata": {},
     "output_type": "display_data"
    }
   ],
   "source": [
    "for query in tqdmd(todo, key=True):\n",
    "    if not ibe.ib.isConnected():\n",
    "        ibe = IB_Extractor(True)\n",
    "    if query not in matches:\n",
    "        try:\n",
    "            matches[query] = get_matches(query)\n",
    "        except ConnectionError:\n",
    "            matches[query] = []"
   ],
   "metadata": {
    "collapsed": false,
    "ExecuteTime": {
     "end_time": "2023-08-28T22:54:18.399875300Z",
     "start_time": "2023-08-28T22:53:49.249655500Z"
    }
   },
   "id": "c796ad5fb79d09cc"
  },
  {
   "cell_type": "code",
   "execution_count": 156,
   "outputs": [
    {
     "name": "stdout",
     "output_type": "stream",
     "text": [
      "-------------------------------------  ------  -------------------------------------------------------------------------------------------------------------\n",
      "rolls-royce holdings                   RR.L    ['RR.', 'RR.CSHS', 'RRN', 'RRF.GBP', 'RR.C.SPO', 'RR.CONV', 'RR.C.CSH', 'RR.C.STK', 'RR.C.CASH', 'RR.C.STOC']\n",
      "entain                                 ENT.L   ['ENT']\n",
      "rs group                               RS1.L   ['RS1']\n",
      "spirax-sarco engineering               SPX.L   ['SPX']\n",
      "ashtead group                          AHT.L   ['AHT']\n",
      "coca-cola hbc                          CCH.L   ['CCH']\n",
      "rentokil initial                       RTO.L   ['RTO']\n",
      "british american tobacco               BATS.L  ['BATS']\n",
      "antofagasta                            ANTO.L  ['ANTO']\n",
      "bae systems                            BA.L    ['BA.']\n",
      "vodafone group public limited company  VOD.L   []\n",
      "smiths group                           SMIN.L  ['SMIN']\n",
      "schroders                              SDR.L   ['SDR', 'SDR.OLD', 'SDRC', 'INOV']\n",
      "haleon                                 HLN.L   ['HLN']\n",
      "centrica                               CNA.L   ['CNA']\n",
      "persimmon                              PSN.L   ['PSN']\n",
      "tesco                                  TSCO.L  ['TSCO']\n",
      "experian                               EXPN.L  ['EXPN']\n",
      "shell                                  SHEL.L  ['SHELL.CCY', 'SHELL.RTS', 'SHELL.D2', 'SHEL', 'RDSA.RTS']\n",
      "compass group                          CPG.L   ['CPG']\n",
      "st james's place                       STJ.L   ['STJ']\n",
      "auto trader group                      AUTO.L  ['AUTO']\n",
      "sse                                    SSE.L   ['SSE']\n",
      "scottish mortgage investment trust     SMT.L   []\n",
      "abrdn                                  ABDN.L  ['ABDN', 'APEO', 'AAS', 'AUSC', 'AAIF', 'ANII']\n",
      "m&g                                    MNG.L   ['MNG', 'MGCI']\n",
      "rightmove                              RMV.L   ['RMV']\n",
      "frasers group                          FRAS.L  ['FRAS']\n",
      "airtel africa                          AAF.L   ['AAF']\n",
      "prudential                             PRU.L   ['PRU']\n",
      "-------------------------------------  ------  -------------------------------------------------------------------------------------------------------------\n"
     ]
    }
   ],
   "source": [
    "tbl = [(query, tk, [m[1].symbol for m in matches.get(query, [])]) for tk, query in companies]\n",
    "print(tabulate(tbl))"
   ],
   "metadata": {
    "collapsed": false,
    "ExecuteTime": {
     "end_time": "2023-08-28T22:55:19.805820200Z",
     "start_time": "2023-08-28T22:55:19.778814200Z"
    }
   },
   "id": "dc01ef8a7b91a76b"
  },
  {
   "cell_type": "code",
   "execution_count": 157,
   "outputs": [
    {
     "name": "stdout",
     "output_type": "stream",
     "text": [
      "VOD.L vodafone group public limited company\n",
      "SMT.L scottish mortgage investment trust\n"
     ]
    },
    {
     "data": {
      "text/plain": "293"
     },
     "execution_count": 157,
     "metadata": {},
     "output_type": "execute_result"
    }
   ],
   "source": [
    "bad = []\n",
    "for tk, query in companies:\n",
    "    if tk in existing:\n",
    "        continue\n",
    "    ms = matches.get(query, [])\n",
    "    if len(ms) == 0:\n",
    "        bad.append((tk, query))\n",
    "        print(tk, query)\n",
    "    else:\n",
    "        existing[tk] += 1\n",
    "        data.extend({'ibkr': m[1].symbol, 'yahoo': tk} for m in ms)\n",
    "for tk, q in bad:\n",
    "    data.append({'ibkr': tk.split('.')[0], 'yahoo': tk})\n",
    "    existing[tk] += 1\n",
    "len(data)"
   ],
   "metadata": {
    "collapsed": false,
    "ExecuteTime": {
     "end_time": "2023-08-28T22:55:28.339457400Z",
     "start_time": "2023-08-28T22:55:28.313978800Z"
    }
   },
   "id": "20971b89a0a9ecf5"
  },
  {
   "cell_type": "code",
   "execution_count": 158,
   "outputs": [],
   "source": [
    "save_yaml(data, path);"
   ],
   "metadata": {
    "collapsed": false,
    "ExecuteTime": {
     "end_time": "2023-08-28T22:55:31.474816700Z",
     "start_time": "2023-08-28T22:55:31.429980500Z"
    }
   },
   "id": "1b96b904d96a43d0"
  },
  {
   "cell_type": "code",
   "execution_count": 159,
   "outputs": [
    {
     "name": "stdout",
     "output_type": "stream",
     "text": [
      "-----  -------------------------------------\n",
      "VOD.L  vodafone group public limited company\n",
      "SMT.L  scottish mortgage investment trust\n",
      "-----  -------------------------------------\n"
     ]
    }
   ],
   "source": [
    "print(tabulate(bad))"
   ],
   "metadata": {
    "collapsed": false,
    "ExecuteTime": {
     "end_time": "2023-08-28T22:55:48.845443200Z",
     "start_time": "2023-08-28T22:55:48.841902200Z"
    }
   },
   "id": "2f3d2466de86f4ab"
  },
  {
   "cell_type": "code",
   "execution_count": 170,
   "outputs": [
    {
     "name": "stdout",
     "output_type": "stream",
     "text": [
      "--------  ---  -----------------------------------------------\n",
      "S4A.RTS2  EUR  SMT SCHARF AG - SUB RTS 210630\n",
      "XM91      EUR  SMTC CORPORATION\n",
      "GDIV      CAD  MANLFE SMT GLB DVD ETF PTFL\n",
      "2642      JPY  SMT ETF CARBON EFFCNT IDX JP\n",
      "00912     TWD  CTBC TIP CUS TW SMT FA50 ETF\n",
      "S4AA      EUR  SMT SCHARF AG\n",
      "SMTG.TEN  EUR  SUMMIT PROPERTIES LTD - TENDER INTERIM 16/03/20\n",
      "SMTA.ESC  USD  SPIRIT MTA REIT - ESCROW\n",
      "SMTC      MXN  SEMTECH CORP\n",
      "SMTU      EUR  AMUNDI US SMRT ALOC SCI BETA\n",
      "SMTSF     USD  SIERRA METALS INC\n",
      "SMTH.P    CAD  SMITHE RESOURCES CORP\n",
      "SMTK      USD  SMARTKEM INC\n",
      "SMTTF     USD  SUN METALS CORP\n",
      "SMTX      USD  SMTC CORPORATION\n",
      "SMTC      USD  LYXOR SMART OVERNIGHT RETURN\n",
      "SMTI      USD  SANARA MEDTECH INC\n",
      "SMTG      EUR  SUMMIT PROPERTIES LTD\n",
      "SMTC      USD  SEMTECH CORP\n",
      "SMTO3     BRL  SAO MARTINHO SA\n",
      "SMTOY     USD  SUMITOMO ELEC INDS-UNSP ADR\n",
      "SMT       CAD  SIERRA METALS INC\n",
      "SMT       ILS  SUMMIT REAL ESTATE HOLDING\n",
      "SMT       GBP  SCOTTISH MORTGAGE INV TR PLC\n",
      "--------  ---  -----------------------------------------------\n"
     ]
    }
   ],
   "source": [
    "tkquery = 'SMT'\n",
    "out = ibe.search(tkquery)\n",
    "options = [c for c in out if c.secType == 'STK']\n",
    "print(tabulate([(c.symbol, c.currency, c.description) for c in reversed(options)]))"
   ],
   "metadata": {
    "collapsed": false,
    "ExecuteTime": {
     "end_time": "2023-08-28T23:06:07.762274100Z",
     "start_time": "2023-08-28T23:06:07.681144700Z"
    }
   },
   "id": "b9752179f4a8407f"
  },
  {
   "cell_type": "code",
   "execution_count": null,
   "outputs": [],
   "source": [],
   "metadata": {
    "collapsed": false
   },
   "id": "e1cde2205da15cd7"
  },
  {
   "cell_type": "code",
   "execution_count": 171,
   "outputs": [
    {
     "name": "stdout",
     "output_type": "stream",
     "text": [
      "Diversified Mining\n",
      "Gold Ore and Silver Ore Mining\n",
      "Copper, Nickel, Lead, and Zinc Mining\n",
      "Gold Ores\n",
      "Copper Ores\n",
      "\n",
      "Sierra Metals Inc. is a Canada-based diversified mining company. The Company is focused on Green Metal exposure, including copper, zinc and lead production with precious metals in Peru and Mexico. It owns and operates three mines in commercial production: the Yauricocha Mine in Peru, the Bolivar and Cusi mines in Mexico. The Yauricocha, is an underground mine located in western central Peru in the Yauyos province, 12 kilometers (km) west of the Continental Divide. Yauricocha Mine covers an area of 18,778 hectares (ha) that straddle a 20 km strike length of the prolific Yauricocha fault. The Bolivar Mine consists of approximately 12 mining concessions and is a contiguous portion of approximately 15,217 ha Bolivar property land package within the municipality of Urique, in the Piedras Verdes mining district of Chihuahua State, Mexico. The Cusi Mine is located in Chihuahua State, Mexico, approximately 135 km from Chihuahua City that encompasses 73 concessions covering 11,665 ha.\n"
     ]
    }
   ],
   "source": [
    "ibtk = tkquery.upper()\n",
    "info = xmltodict.parse(ibe.snapshot(ibtk))\n",
    "# company_name = info['ReportSnapshot']['CoIDs']['CoID'][1]['#text']\n",
    "industries = [e['#text'] for e in info['ReportSnapshot']['peerInfo']['IndustryInfo']['Industry']]\n",
    "print('\\n'.join(industries))\n",
    "print()\n",
    "summary = info['ReportSnapshot']['TextInfo']['Text'][0]['#text']\n",
    "print(summary)"
   ],
   "metadata": {
    "collapsed": false,
    "ExecuteTime": {
     "end_time": "2023-08-28T23:06:30.370602900Z",
     "start_time": "2023-08-28T23:06:29.113523600Z"
    }
   },
   "id": "175d9f5c6559d9c"
  },
  {
   "cell_type": "code",
   "execution_count": 101,
   "outputs": [],
   "source": [
    "ibe = IB_Extractor(True)"
   ],
   "metadata": {
    "collapsed": false,
    "ExecuteTime": {
     "end_time": "2023-08-28T22:13:34.819091500Z",
     "start_time": "2023-08-28T22:13:34.788447500Z"
    }
   },
   "id": "5a35e00d2981a776"
  },
  {
   "cell_type": "code",
   "execution_count": null,
   "outputs": [],
   "source": [],
   "metadata": {
    "collapsed": false
   },
   "id": "3c401eaf60ad4f03"
  },
  {
   "cell_type": "code",
   "execution_count": 102,
   "outputs": [],
   "source": [
    "ibe.ib.disconnect()"
   ],
   "metadata": {
    "collapsed": false,
    "ExecuteTime": {
     "end_time": "2023-08-28T17:12:08.876158500Z",
     "start_time": "2023-08-28T17:12:08.854875100Z"
    }
   },
   "id": "3430ecbfda214d4c"
  },
  {
   "cell_type": "code",
   "execution_count": null,
   "outputs": [],
   "source": [],
   "metadata": {
    "collapsed": false
   },
   "id": "b20db54ca961bf19"
  },
  {
   "cell_type": "code",
   "execution_count": null,
   "outputs": [],
   "source": [],
   "metadata": {
    "collapsed": false
   },
   "id": "e39212fdbb5d0956"
  },
  {
   "cell_type": "code",
   "execution_count": null,
   "outputs": [],
   "source": [],
   "metadata": {
    "collapsed": false
   },
   "id": "c42029427ada5a33"
  },
  {
   "cell_type": "code",
   "execution_count": null,
   "outputs": [],
   "source": [],
   "metadata": {
    "collapsed": false
   },
   "id": "63181c532ad17463"
  }
 ],
 "metadata": {
  "kernelspec": {
   "display_name": "Python 3",
   "language": "python",
   "name": "python3"
  },
  "language_info": {
   "codemirror_mode": {
    "name": "ipython",
    "version": 2
   },
   "file_extension": ".py",
   "mimetype": "text/x-python",
   "name": "python",
   "nbconvert_exporter": "python",
   "pygments_lexer": "ipython2",
   "version": "2.7.6"
  }
 },
 "nbformat": 4,
 "nbformat_minor": 5
}
