{
 "cells": [
  {
   "cell_type": "code",
   "execution_count": 3,
   "id": "initial_id",
   "metadata": {
    "collapsed": true,
    "ExecuteTime": {
     "end_time": "2023-08-29T00:27:10.817976400Z",
     "start_time": "2023-08-29T00:27:09.877242700Z"
    }
   },
   "outputs": [
    {
     "name": "stdout",
     "output_type": "stream",
     "text": [
      "C:\\Users\\anwan\\OneDrive\\Khan\\projects\\stox\\testdata\\yahoo_data\n"
     ]
    }
   ],
   "source": [
    "from stox.imports import *\n",
    "from stox.api import IB_Extractor\n",
    "from stox import misc, yahoo\n",
    "from omnibelt import tqdmd_notebook as tqdmd\n",
    "from omnibelt import save_yaml\n",
    "from collections import Counter\n",
    "# from stox.alpha_vantage import AlphaVantageStocks\n",
    "\n",
    "yahoo_root = misc.yahoo_root()\n",
    "yahoo_root = yahoo_root.parent.parent / 'testdata' / 'yahoo_data'\n",
    "print(yahoo_root)"
   ]
  },
  {
   "cell_type": "code",
   "execution_count": 4,
   "outputs": [],
   "source": [
    "matches = {}\n",
    "\n",
    "currency = 'EUR'\n",
    "currency = 'GBP'"
   ],
   "metadata": {
    "collapsed": false,
    "ExecuteTime": {
     "end_time": "2023-08-29T00:27:11.900290600Z",
     "start_time": "2023-08-29T00:27:11.884702Z"
    }
   },
   "id": "dc8265ca5a7412ab"
  },
  {
   "cell_type": "code",
   "execution_count": 5,
   "outputs": [],
   "source": [
    "# cts = ibe.search('Dr. Ing. h.c. F. Porsche')\n",
    "def get_matches(query):\n",
    "    cts = ibe.search(query)\n",
    "    matches = list(misc.best_matches([c for c in cts if c.secType == 'STK' and c.currency == currency], [query],\n",
    "                                     key1=lambda c: c.description))\n",
    "    return matches"
   ],
   "metadata": {
    "collapsed": false,
    "ExecuteTime": {
     "end_time": "2023-08-29T00:27:12.306953300Z",
     "start_time": "2023-08-29T00:27:12.302930700Z"
    }
   },
   "id": "2bd2473ffd800195"
  },
  {
   "cell_type": "code",
   "execution_count": 6,
   "outputs": [
    {
     "data": {
      "text/plain": "(270, 270, [('MC.PA', 1), ('ASML.AS', 1)])"
     },
     "execution_count": 6,
     "metadata": {},
     "output_type": "execute_result"
    }
   ],
   "source": [
    "root = misc.assets_root()\n",
    "path = root / 'symbols.yml'\n",
    "data = load_export(path)\n",
    "existing = Counter(row['yahoo'] for row in data)\n",
    "len(data), len(existing), existing.most_common(2)"
   ],
   "metadata": {
    "collapsed": false,
    "ExecuteTime": {
     "end_time": "2023-08-29T00:27:14.438159100Z",
     "start_time": "2023-08-29T00:27:14.376499200Z"
    }
   },
   "id": "89b98327a3876c6b"
  },
  {
   "cell_type": "code",
   "execution_count": 144,
   "outputs": [
    {
     "data": {
      "text/plain": "[('RR.L', 'rolls-royce holdings'),\n ('ENT.L', 'entain'),\n ('RS1.L', 'rs group'),\n ('SPX.L', 'spirax-sarco engineering'),\n ('AHT.L', 'ashtead group'),\n ('CCH.L', 'coca-cola hbc'),\n ('RTO.L', 'rentokil initial'),\n ('BATS.L', 'british american tobacco'),\n ('ANTO.L', 'antofagasta'),\n ('BA.L', 'bae systems'),\n ('VOD.L', 'vodafone group public limited company'),\n ('SMIN.L', 'smiths group'),\n ('SDR.L', 'schroders'),\n ('HLN.L', 'haleon'),\n ('CNA.L', 'centrica'),\n ('PSN.L', 'persimmon'),\n ('TSCO.L', 'tesco'),\n ('EXPN.L', 'experian'),\n ('SHEL.L', 'shell'),\n ('CPG.L', 'compass group'),\n ('STJ.L', \"st james's place\"),\n ('AUTO.L', 'auto trader group'),\n ('SSE.L', 'sse'),\n ('SMT.L', 'scottish mortgage investment trust'),\n ('ABDN.L', 'abrdn'),\n ('MNG.L', 'm&g'),\n ('RMV.L', 'rightmove'),\n ('FRAS.L', 'frasers group'),\n ('AAF.L', 'airtel africa'),\n ('PRU.L', 'prudential')]"
     },
     "execution_count": 144,
     "metadata": {},
     "output_type": "execute_result"
    }
   ],
   "source": [
    "raw = '''RR.L\tRolls-Royce Holdings plc\n",
    "ENT.L\tEntain Plc\n",
    "RS1.L\tRS Group plc\n",
    "SPX.L\tSpirax-Sarco Engineering plc\n",
    "AHT.L\tAshtead Group plc\n",
    "CCH.L\tCoca-Cola HBC AG\n",
    "RTO.L\tRentokil Initial plc\n",
    "BATS.L\tBritish American Tobacco p.l.c.\n",
    "ANTO.L\tAntofagasta plc\n",
    "BA.L\tBAE Systems plc\n",
    "VOD.L\tVodafone Group Public Limited Company\n",
    "SMIN.L\tSmiths Group plc\n",
    "SDR.L\tSchroders plc\n",
    "HLN.L\tHaleon plc\n",
    "CNA.L\tCentrica plc\n",
    "PSN.L\tPersimmon Plc\n",
    "TSCO.L\tTesco PLC\n",
    "EXPN.L\tExperian plc\n",
    "SHEL.L\tShell plc\n",
    "CPG.L\tCompass Group PLC\n",
    "STJ.L\tSt. James's Place plc\n",
    "AUTO.L\tAuto Trader Group plc\n",
    "SSE.L\tSSE plc\n",
    "SMT.L\tScottish Mortgage Investment Trust PLC\n",
    "ABDN.L\tabrdn plc\n",
    "MNG.L\tM&G plc\n",
    "RMV.L\tRightmove plc\n",
    "FRAS.L\tFrasers Group plc\n",
    "AAF.L\tAirtel Africa Plc\n",
    "PRU.L\tPrudential plc'''.split('\\n')\n",
    "companies = [row.split('\\t') for row in raw]\n",
    "companies = [(tk, name.lower().replace('.br','').replace('.', '').replace(' spa', '').replace(' nv', '').replace(' sa', '').replace(' plc', '').replace(' aktiengesellschaft', '').replace(' ag', '').replace(' se', '')) for tk, name in companies]\n",
    "# companies = [(f'{tk}.HE', name) for tk, name in companies]\n",
    "companies"
   ],
   "metadata": {
    "collapsed": false,
    "ExecuteTime": {
     "end_time": "2023-08-28T22:49:33.905952Z",
     "start_time": "2023-08-28T22:49:33.872313400Z"
    }
   },
   "id": "84cba1da5b882fb9"
  },
  {
   "cell_type": "code",
   "execution_count": 145,
   "outputs": [
    {
     "data": {
      "text/plain": "  0%|          | 0/30 [00:00<?, ?it/s]",
      "application/vnd.jupyter.widget-view+json": {
       "version_major": 2,
       "version_minor": 0,
       "model_id": "97e33f188d9342afb9f1c169aba1a076"
      }
     },
     "metadata": {},
     "output_type": "display_data"
    },
    {
     "data": {
      "text/plain": "[]"
     },
     "execution_count": 145,
     "metadata": {},
     "output_type": "execute_result"
    }
   ],
   "source": [
    "bad_yk = [tk for tk, _ in tqdmd(companies, key=lambda x: x[0]) if len(yf.Ticker(tk).info) == 0]\n",
    "bad_yk"
   ],
   "metadata": {
    "collapsed": false,
    "ExecuteTime": {
     "end_time": "2023-08-28T22:49:54.736976200Z",
     "start_time": "2023-08-28T22:49:35.290479100Z"
    }
   },
   "id": "6d9dc9fd81bdbd8c"
  },
  {
   "cell_type": "code",
   "execution_count": 7,
   "outputs": [],
   "source": [
    "todo = [c[1] for c in companies]"
   ],
   "metadata": {
    "collapsed": false,
    "ExecuteTime": {
     "end_time": "2023-08-29T00:27:29.186021700Z",
     "start_time": "2023-08-29T00:27:29.171989800Z"
    }
   },
   "id": "6e551d73965a06f3"
  },
  {
   "cell_type": "code",
   "execution_count": 10,
   "outputs": [
    {
     "name": "stderr",
     "output_type": "stream",
     "text": [
      "ERROR:ib_insync.wrapper: Error 321, reqId 2147483647: Error validating request.-'cG' : cause - The API interface is currently in Read-Only mode.\n",
      "ERROR:ib_insync.wrapper: Error 321, reqId -1: Error validating request.-'ce' : cause - The API interface is currently in Read-Only mode.\n",
      "ERROR:ib_insync.ib: open orders request timed out\n",
      "ERROR:ib_insync.ib: completed orders request timed out\n"
     ]
    }
   ],
   "source": [
    "ibe = IB_Extractor(True)"
   ],
   "metadata": {
    "collapsed": false,
    "ExecuteTime": {
     "end_time": "2023-08-29T00:28:46.872913300Z",
     "start_time": "2023-08-29T00:28:42.858500900Z"
    }
   },
   "id": "127b34eb51c7fd9"
  },
  {
   "cell_type": "code",
   "execution_count": 11,
   "outputs": [
    {
     "data": {
      "text/plain": "  0%|          | 0/20 [00:00<?, ?it/s]",
      "application/vnd.jupyter.widget-view+json": {
       "version_major": 2,
       "version_minor": 0,
       "model_id": "b793c543692140f3924c75bb1b7fd96b"
      }
     },
     "metadata": {},
     "output_type": "display_data"
    },
    {
     "name": "stderr",
     "output_type": "stream",
     "text": [
      "ERROR:ib_insync.wrapper: Error 320, reqId 10: Error reading request. Attempted read beyond end of socket stream - \n",
      "ERROR:ib_insync.client: Peer closed connection.\n",
      "ERROR:ib_insync.wrapper: Error 321, reqId 2147483647: Error validating request.-'cG' : cause - The API interface is currently in Read-Only mode.\n",
      "ERROR:ib_insync.wrapper: Error 321, reqId -1: Error validating request.-'ce' : cause - The API interface is currently in Read-Only mode.\n",
      "ERROR:ib_insync.ib: open orders request timed out\n",
      "ERROR:ib_insync.ib: completed orders request timed out\n"
     ]
    }
   ],
   "source": [
    "for query in tqdmd(todo, key=True):\n",
    "    if not ibe.ib.isConnected():\n",
    "        ibe = IB_Extractor(True)\n",
    "    if query not in matches:\n",
    "        try:\n",
    "            matches[query] = get_matches(query)\n",
    "        except ConnectionError:\n",
    "            matches[query] = []"
   ],
   "metadata": {
    "collapsed": false,
    "ExecuteTime": {
     "end_time": "2023-08-29T00:29:08.120673800Z",
     "start_time": "2023-08-29T00:28:46.877426200Z"
    }
   },
   "id": "c796ad5fb79d09cc"
  },
  {
   "cell_type": "code",
   "execution_count": 12,
   "outputs": [
    {
     "name": "stdout",
     "output_type": "stream",
     "text": [
      "-----------------------  --\n",
      "Alior Bank SA            []\n",
      "Allegro                  []\n",
      "Asseco Poland SA         []\n",
      "Bank Polska Kasa Opieki  []\n",
      "CD PROJEKT               []\n",
      "Cyfrowy Polsat SA        []\n",
      "Dino Polska              []\n",
      "Grupa KĘTY SA            []\n",
      "JSW SA                   []\n",
      "KGHM Polska Miedz        []\n",
      "Kruk SA                  []\n",
      "LPP SA                   []\n",
      "mBank                    []\n",
      "OrangePL                 []\n",
      "ORLEN SA                 []\n",
      "Pepco Group              []\n",
      "PGE SA                   []\n",
      "PKO Bank Polski          []\n",
      "PZU SA                   []\n",
      "Santander Bank Polska    []\n",
      "-----------------------  --\n"
     ]
    }
   ],
   "source": [
    "# tbl = [(query, tk, [m[1].symbol for m in matches.get(query, [])]) for tk, query in companies]\n",
    "tbl = [(query, [m[1].symbol for m in matches.get(query, [])]) for query in todo]\n",
    "print(tabulate(tbl))"
   ],
   "metadata": {
    "collapsed": false,
    "ExecuteTime": {
     "end_time": "2023-08-29T00:29:37.064287800Z",
     "start_time": "2023-08-29T00:29:37.048103Z"
    }
   },
   "id": "dc01ef8a7b91a76b"
  },
  {
   "cell_type": "code",
   "execution_count": 157,
   "outputs": [
    {
     "name": "stdout",
     "output_type": "stream",
     "text": [
      "VOD.L vodafone group public limited company\n",
      "SMT.L scottish mortgage investment trust\n"
     ]
    },
    {
     "data": {
      "text/plain": "293"
     },
     "execution_count": 157,
     "metadata": {},
     "output_type": "execute_result"
    }
   ],
   "source": [
    "bad = []\n",
    "for tk, query in companies:\n",
    "    if tk in existing:\n",
    "        continue\n",
    "    ms = matches.get(query, [])\n",
    "    if len(ms) == 0:\n",
    "        bad.append((tk, query))\n",
    "        print(tk, query)\n",
    "    else:\n",
    "        existing[tk] += 1\n",
    "        data.extend({'ibkr': m[1].symbol, 'yahoo': tk} for m in ms)\n",
    "for tk, q in bad:\n",
    "    data.append({'ibkr': tk.split('.')[0], 'yahoo': tk})\n",
    "    existing[tk] += 1\n",
    "len(data)"
   ],
   "metadata": {
    "collapsed": false,
    "ExecuteTime": {
     "end_time": "2023-08-28T22:55:28.339457400Z",
     "start_time": "2023-08-28T22:55:28.313978800Z"
    }
   },
   "id": "20971b89a0a9ecf5"
  },
  {
   "cell_type": "code",
   "execution_count": 158,
   "outputs": [],
   "source": [
    "save_yaml(data, path);"
   ],
   "metadata": {
    "collapsed": false,
    "ExecuteTime": {
     "end_time": "2023-08-28T22:55:31.474816700Z",
     "start_time": "2023-08-28T22:55:31.429980500Z"
    }
   },
   "id": "1b96b904d96a43d0"
  },
  {
   "cell_type": "code",
   "execution_count": 159,
   "outputs": [
    {
     "name": "stdout",
     "output_type": "stream",
     "text": [
      "-----  -------------------------------------\n",
      "VOD.L  vodafone group public limited company\n",
      "SMT.L  scottish mortgage investment trust\n",
      "-----  -------------------------------------\n"
     ]
    }
   ],
   "source": [
    "print(tabulate(bad))"
   ],
   "metadata": {
    "collapsed": false,
    "ExecuteTime": {
     "end_time": "2023-08-28T22:55:48.845443200Z",
     "start_time": "2023-08-28T22:55:48.841902200Z"
    }
   },
   "id": "2f3d2466de86f4ab"
  },
  {
   "cell_type": "code",
   "execution_count": 13,
   "outputs": [
    {
     "name": "stdout",
     "output_type": "stream",
     "text": [
      "['Alior Bank SA', 'Allegro', 'Asseco Poland SA', 'Bank Polska Kasa Opieki', 'CD PROJEKT', 'Cyfrowy Polsat SA', 'Dino Polska', 'Grupa KĘTY SA', 'JSW SA', 'KGHM Polska Miedz', 'Kruk SA', 'LPP SA', 'mBank', 'OrangePL', 'ORLEN SA', 'Pepco Group', 'PGE SA', 'PKO Bank Polski', 'PZU SA', 'Santander Bank Polska']\n"
     ]
    }
   ],
   "source": [
    "print(todo)"
   ],
   "metadata": {
    "collapsed": false,
    "ExecuteTime": {
     "end_time": "2023-08-29T00:30:04.760093100Z",
     "start_time": "2023-08-29T00:30:04.748071700Z"
    }
   },
   "id": "eebc50754154315"
  },
  {
   "cell_type": "code",
   "execution_count": 15,
   "outputs": [
    {
     "name": "stdout",
     "output_type": "stream",
     "text": [
      "---  ---  -------------\n",
      "AL0  EUR  ALLEGRO.EU SA\n",
      "---  ---  -------------\n"
     ]
    }
   ],
   "source": [
    "tkquery = 'AL0'\n",
    "out = ibe.search(tkquery)\n",
    "options = [c for c in out if c.secType == 'STK']\n",
    "print(tabulate([(c.symbol, c.currency, c.description) for c in reversed(options)]))"
   ],
   "metadata": {
    "collapsed": false,
    "ExecuteTime": {
     "end_time": "2023-08-29T00:33:01.681040100Z",
     "start_time": "2023-08-29T00:33:01.573150500Z"
    }
   },
   "id": "b9752179f4a8407f"
  },
  {
   "cell_type": "code",
   "execution_count": null,
   "outputs": [],
   "source": [],
   "metadata": {
    "collapsed": false
   },
   "id": "e1cde2205da15cd7"
  },
  {
   "cell_type": "code",
   "execution_count": 16,
   "outputs": [
    {
     "name": "stdout",
     "output_type": "stream",
     "text": [
      "Internet & Mail Order Department Stores\n",
      "All Other Miscellaneous Retailers\n",
      "Misc Retail Stores, Nec\n",
      "\n",
      "Allegro.eu SA is a Luxemburg-based shopping platform. The Company shopping platform in Poland and e-commerce website in Europe. The Company offers products in all key categories including Automotive, Fashion, Home&Garden, Electronics, Books and Collectibles, Kids or Health and Beauty. The Company provides deliveries.\n"
     ]
    }
   ],
   "source": [
    "ibtk = tkquery.upper()\n",
    "info = xmltodict.parse(ibe.snapshot(ibtk))\n",
    "# company_name = info['ReportSnapshot']['CoIDs']['CoID'][1]['#text']\n",
    "industries = [e['#text'] for e in info['ReportSnapshot']['peerInfo']['IndustryInfo']['Industry']]\n",
    "print('\\n'.join(industries))\n",
    "print()\n",
    "summary = info['ReportSnapshot']['TextInfo']['Text'][0]['#text']\n",
    "print(summary)"
   ],
   "metadata": {
    "collapsed": false,
    "ExecuteTime": {
     "end_time": "2023-08-29T00:33:04.486746300Z",
     "start_time": "2023-08-29T00:33:03.372122100Z"
    }
   },
   "id": "175d9f5c6559d9c"
  },
  {
   "cell_type": "code",
   "execution_count": 101,
   "outputs": [],
   "source": [
    "ibe = IB_Extractor(True)"
   ],
   "metadata": {
    "collapsed": false,
    "ExecuteTime": {
     "end_time": "2023-08-28T22:13:34.819091500Z",
     "start_time": "2023-08-28T22:13:34.788447500Z"
    }
   },
   "id": "5a35e00d2981a776"
  },
  {
   "cell_type": "code",
   "execution_count": null,
   "outputs": [],
   "source": [],
   "metadata": {
    "collapsed": false
   },
   "id": "3c401eaf60ad4f03"
  },
  {
   "cell_type": "code",
   "execution_count": 173,
   "outputs": [],
   "source": [
    "ibe.ib.disconnect()"
   ],
   "metadata": {
    "collapsed": false,
    "ExecuteTime": {
     "end_time": "2023-08-28T23:48:29.101873400Z",
     "start_time": "2023-08-28T23:48:29.098208800Z"
    }
   },
   "id": "3430ecbfda214d4c"
  },
  {
   "cell_type": "code",
   "execution_count": null,
   "outputs": [],
   "source": [],
   "metadata": {
    "collapsed": false
   },
   "id": "b20db54ca961bf19"
  },
  {
   "cell_type": "code",
   "execution_count": null,
   "outputs": [],
   "source": [],
   "metadata": {
    "collapsed": false
   },
   "id": "e39212fdbb5d0956"
  },
  {
   "cell_type": "code",
   "execution_count": null,
   "outputs": [],
   "source": [],
   "metadata": {
    "collapsed": false
   },
   "id": "c42029427ada5a33"
  },
  {
   "cell_type": "code",
   "execution_count": null,
   "outputs": [],
   "source": [],
   "metadata": {
    "collapsed": false
   },
   "id": "63181c532ad17463"
  }
 ],
 "metadata": {
  "kernelspec": {
   "display_name": "Python 3",
   "language": "python",
   "name": "python3"
  },
  "language_info": {
   "codemirror_mode": {
    "name": "ipython",
    "version": 2
   },
   "file_extension": ".py",
   "mimetype": "text/x-python",
   "name": "python",
   "nbconvert_exporter": "python",
   "pygments_lexer": "ipython2",
   "version": "2.7.6"
  }
 },
 "nbformat": 4,
 "nbformat_minor": 5
}
