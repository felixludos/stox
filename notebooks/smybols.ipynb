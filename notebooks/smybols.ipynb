{
 "cells": [
  {
   "cell_type": "code",
   "execution_count": 72,
   "id": "initial_id",
   "metadata": {
    "collapsed": true,
    "ExecuteTime": {
     "end_time": "2023-08-28T16:46:35.598690600Z",
     "start_time": "2023-08-28T16:46:35.578380500Z"
    }
   },
   "outputs": [
    {
     "name": "stdout",
     "output_type": "stream",
     "text": [
      "C:\\Users\\anwan\\OneDrive\\Khan\\projects\\stox\\testdata\\yahoo_data\n"
     ]
    }
   ],
   "source": [
    "from stox.imports import *\n",
    "from stox.api import IB_Extractor\n",
    "from stox import misc, yahoo\n",
    "from omnibelt import tqdmd_notebook as tqdmd\n",
    "from collections import Counter\n",
    "# from stox.alpha_vantage import AlphaVantageStocks\n",
    "\n",
    "yahoo_root = misc.yahoo_root()\n",
    "yahoo_root = yahoo_root.parent.parent / 'testdata' / 'yahoo_data'\n",
    "print(yahoo_root)"
   ]
  },
  {
   "cell_type": "code",
   "execution_count": 191,
   "outputs": [
    {
     "data": {
      "text/plain": "(176, 176, [('AAPL', 1), ('MC.PA', 1)])"
     },
     "execution_count": 191,
     "metadata": {},
     "output_type": "execute_result"
    }
   ],
   "source": [
    "root = misc.assets_root()\n",
    "path = root / 'symbols.yml'\n",
    "data = load_export(path)\n",
    "existing = Counter(row['yahoo'] for row in data)\n",
    "len(data), len(existing), existing.most_common(2)"
   ],
   "metadata": {
    "collapsed": false,
    "ExecuteTime": {
     "end_time": "2023-08-28T17:45:57.851309Z",
     "start_time": "2023-08-28T17:45:57.775561600Z"
    }
   },
   "id": "89b98327a3876c6b"
  },
  {
   "cell_type": "code",
   "execution_count": 182,
   "outputs": [],
   "source": [
    "matches = {}"
   ],
   "metadata": {
    "collapsed": false,
    "ExecuteTime": {
     "end_time": "2023-08-28T17:44:58.975228900Z",
     "start_time": "2023-08-28T17:44:58.954695600Z"
    }
   },
   "id": "8891c0e0a92f4c7a"
  },
  {
   "cell_type": "code",
   "execution_count": 186,
   "outputs": [
    {
     "data": {
      "text/plain": "[('BLG.BR', 'blg'),\n ('AGB.BR', 'agb'),\n ('TNO.BR', 'tno'),\n ('UCB.BR', 'ucb'),\n ('AVH.BR', 'avh'),\n ('GBL.BR', 'gbl'),\n ('SOL.BR', 'sol'),\n ('INT.BR', 'int'),\n ('GLS.BR', 'gls'),\n ('KBC.BR', 'kbc group'),\n ('UMC.BR', 'umc'),\n ('DEL.BR', 'del'),\n ('ENGI.BR', 'engi'),\n ('ONTEX.BR', 'ontex group'),\n ('COFB.BR', 'cofinimmo'),\n ('ES6.BR', 'es6'),\n ('BEK.BR', 'bek'),\n ('BPO.BR', 'bpo'),\n ('COL.BR', 'col'),\n ('INGA.BR', 'ing groep')]"
     },
     "execution_count": 186,
     "metadata": {},
     "output_type": "execute_result"
    }
   ],
   "source": [
    "raw = '''BLG.BR\tBLG.BR\n",
    "AGB.BR\tAGB.BR\n",
    "TNO.BR\tTNO.BR\n",
    "UCB.BR\tUCB SA\n",
    "AVH.BR\tAVH.BR\n",
    "GBL.BR\tGBL.BR\n",
    "SOL.BR\tSOL.BR\n",
    "INT.BR\tINT.BR\n",
    "GLS.BR\tGLS.BR\n",
    "KBC.BR\tKBC Group NV\n",
    "UMC.BR\tUMC.BR\n",
    "DEL.BR\tDEL.BR\n",
    "ENGI.BR\tENGI.BR\n",
    "ONTEX.BR\tOntex Group NV\n",
    "COFB.BR\tCofinimmo SA\n",
    "ES6.BR\tES6.BR\n",
    "BEK.BR\tBEK.BR\n",
    "BPO.BR\tBPO.BR\n",
    "COL.BR\tCOL.BR\n",
    "INGA.BR\tING Groep NV'''.split('\\n')\n",
    "companies = [row.split('\\t') for row in raw]\n",
    "companies = [(tk, name.lower().replace('.br','').replace('.', '').replace(' spa', '').replace(' nv', '').replace(' sa', '').replace(' plc', '').replace(' aktiengesellschaft', '').replace(' ag', '').replace(' se', '')) for tk, name in companies]\n",
    "companies"
   ],
   "metadata": {
    "collapsed": false,
    "ExecuteTime": {
     "end_time": "2023-08-28T17:45:35.924810Z",
     "start_time": "2023-08-28T17:45:35.872815700Z"
    }
   },
   "id": "84cba1da5b882fb9"
  },
  {
   "cell_type": "code",
   "execution_count": 187,
   "outputs": [],
   "source": [
    "# companies = \n",
    "todo = [c[1] for c in companies]"
   ],
   "metadata": {
    "collapsed": false,
    "ExecuteTime": {
     "end_time": "2023-08-28T17:45:39.096497400Z",
     "start_time": "2023-08-28T17:45:39.072595600Z"
    }
   },
   "id": "6e551d73965a06f3"
  },
  {
   "cell_type": "code",
   "execution_count": 131,
   "outputs": [
    {
     "name": "stderr",
     "output_type": "stream",
     "text": [
      "ERROR:ib_insync.client: Peer closed connection. clientId 1 already in use?\n",
      "ERROR:ib_insync.client: API connection failed: TimeoutError()\n"
     ]
    },
    {
     "ename": "TimeoutError",
     "evalue": "",
     "output_type": "error",
     "traceback": [
      "\u001B[1;31m---------------------------------------------------------------------------\u001B[0m",
      "\u001B[1;31mCancelledError\u001B[0m                            Traceback (most recent call last)",
      "File \u001B[1;32m~\\miniconda3\\envs\\py11\\Lib\\asyncio\\tasks.py:490\u001B[0m, in \u001B[0;36mwait_for\u001B[1;34m(fut, timeout)\u001B[0m\n\u001B[0;32m    489\u001B[0m \u001B[38;5;28;01mtry\u001B[39;00m:\n\u001B[1;32m--> 490\u001B[0m     \u001B[38;5;28;01mreturn\u001B[39;00m \u001B[43mfut\u001B[49m\u001B[38;5;241;43m.\u001B[39;49m\u001B[43mresult\u001B[49m\u001B[43m(\u001B[49m\u001B[43m)\u001B[49m\n\u001B[0;32m    491\u001B[0m \u001B[38;5;28;01mexcept\u001B[39;00m exceptions\u001B[38;5;241m.\u001B[39mCancelledError \u001B[38;5;28;01mas\u001B[39;00m exc:\n",
      "File \u001B[1;32m~\\miniconda3\\envs\\py11\\Lib\\asyncio\\futures.py:198\u001B[0m, in \u001B[0;36mFuture.result\u001B[1;34m(self)\u001B[0m\n\u001B[0;32m    197\u001B[0m     exc \u001B[38;5;241m=\u001B[39m \u001B[38;5;28mself\u001B[39m\u001B[38;5;241m.\u001B[39m_make_cancelled_error()\n\u001B[1;32m--> 198\u001B[0m     \u001B[38;5;28;01mraise\u001B[39;00m exc\n\u001B[0;32m    199\u001B[0m \u001B[38;5;28;01mif\u001B[39;00m \u001B[38;5;28mself\u001B[39m\u001B[38;5;241m.\u001B[39m_state \u001B[38;5;241m!=\u001B[39m _FINISHED:\n",
      "File \u001B[1;32m~\\miniconda3\\envs\\py11\\Lib\\asyncio\\tasks.py:269\u001B[0m, in \u001B[0;36mTask.__step\u001B[1;34m(***failed resolving arguments***)\u001B[0m\n\u001B[0;32m    268\u001B[0m     \u001B[38;5;28;01melse\u001B[39;00m:\n\u001B[1;32m--> 269\u001B[0m         result \u001B[38;5;241m=\u001B[39m coro\u001B[38;5;241m.\u001B[39mthrow(exc)\n\u001B[0;32m    270\u001B[0m \u001B[38;5;28;01mexcept\u001B[39;00m \u001B[38;5;167;01mStopIteration\u001B[39;00m \u001B[38;5;28;01mas\u001B[39;00m exc:\n",
      "File \u001B[1;32m~\\miniconda3\\envs\\py11\\Lib\\asyncio\\tasks.py:684\u001B[0m, in \u001B[0;36m_wrap_awaitable\u001B[1;34m(awaitable)\u001B[0m\n\u001B[0;32m    679\u001B[0m \u001B[38;5;250m\u001B[39m\u001B[38;5;124;03m\"\"\"Helper for asyncio.ensure_future().\u001B[39;00m\n\u001B[0;32m    680\u001B[0m \n\u001B[0;32m    681\u001B[0m \u001B[38;5;124;03mWraps awaitable (an object with __await__) into a coroutine\u001B[39;00m\n\u001B[0;32m    682\u001B[0m \u001B[38;5;124;03mthat will later be wrapped in a Task by ensure_future().\u001B[39;00m\n\u001B[0;32m    683\u001B[0m \u001B[38;5;124;03m\"\"\"\u001B[39;00m\n\u001B[1;32m--> 684\u001B[0m \u001B[38;5;28;01mreturn\u001B[39;00m (\u001B[38;5;28;01myield from\u001B[39;00m awaitable\u001B[38;5;241m.\u001B[39m\u001B[38;5;21m__await__\u001B[39m())\n",
      "File \u001B[1;32m~\\miniconda3\\envs\\py11\\Lib\\asyncio\\futures.py:287\u001B[0m, in \u001B[0;36mFuture.__await__\u001B[1;34m(self)\u001B[0m\n\u001B[0;32m    286\u001B[0m     \u001B[38;5;28mself\u001B[39m\u001B[38;5;241m.\u001B[39m_asyncio_future_blocking \u001B[38;5;241m=\u001B[39m \u001B[38;5;28;01mTrue\u001B[39;00m\n\u001B[1;32m--> 287\u001B[0m     \u001B[38;5;28;01myield\u001B[39;00m \u001B[38;5;28mself\u001B[39m  \u001B[38;5;66;03m# This tells Task to wait for completion.\u001B[39;00m\n\u001B[0;32m    288\u001B[0m \u001B[38;5;28;01mif\u001B[39;00m \u001B[38;5;129;01mnot\u001B[39;00m \u001B[38;5;28mself\u001B[39m\u001B[38;5;241m.\u001B[39mdone():\n",
      "File \u001B[1;32m~\\miniconda3\\envs\\py11\\Lib\\asyncio\\tasks.py:339\u001B[0m, in \u001B[0;36mTask.__wakeup\u001B[1;34m(self, future)\u001B[0m\n\u001B[0;32m    338\u001B[0m \u001B[38;5;28;01mtry\u001B[39;00m:\n\u001B[1;32m--> 339\u001B[0m     \u001B[43mfuture\u001B[49m\u001B[38;5;241;43m.\u001B[39;49m\u001B[43mresult\u001B[49m\u001B[43m(\u001B[49m\u001B[43m)\u001B[49m\n\u001B[0;32m    340\u001B[0m \u001B[38;5;28;01mexcept\u001B[39;00m \u001B[38;5;167;01mBaseException\u001B[39;00m \u001B[38;5;28;01mas\u001B[39;00m exc:\n\u001B[0;32m    341\u001B[0m     \u001B[38;5;66;03m# This may also be a cancellation.\u001B[39;00m\n",
      "File \u001B[1;32m~\\miniconda3\\envs\\py11\\Lib\\asyncio\\futures.py:198\u001B[0m, in \u001B[0;36mFuture.result\u001B[1;34m(self)\u001B[0m\n\u001B[0;32m    197\u001B[0m     exc \u001B[38;5;241m=\u001B[39m \u001B[38;5;28mself\u001B[39m\u001B[38;5;241m.\u001B[39m_make_cancelled_error()\n\u001B[1;32m--> 198\u001B[0m     \u001B[38;5;28;01mraise\u001B[39;00m exc\n\u001B[0;32m    199\u001B[0m \u001B[38;5;28;01mif\u001B[39;00m \u001B[38;5;28mself\u001B[39m\u001B[38;5;241m.\u001B[39m_state \u001B[38;5;241m!=\u001B[39m _FINISHED:\n",
      "\u001B[1;31mCancelledError\u001B[0m: ",
      "\nThe above exception was the direct cause of the following exception:\n",
      "\u001B[1;31mTimeoutError\u001B[0m                              Traceback (most recent call last)",
      "Cell \u001B[1;32mIn[131], line 1\u001B[0m\n\u001B[1;32m----> 1\u001B[0m ibe \u001B[38;5;241m=\u001B[39m \u001B[43mIB_Extractor\u001B[49m\u001B[43m(\u001B[49m\u001B[38;5;28;43;01mTrue\u001B[39;49;00m\u001B[43m)\u001B[49m\n",
      "File \u001B[1;32m~\\OneDrive\\Khan\\projects\\stox\\stox\\api.py:10\u001B[0m, in \u001B[0;36mIB_Extractor.__init__\u001B[1;34m(self, using_notebook, host, port, client_id)\u001B[0m\n\u001B[0;32m      8\u001B[0m \tutil\u001B[38;5;241m.\u001B[39mstartLoop()\n\u001B[0;32m      9\u001B[0m \u001B[38;5;28mself\u001B[39m\u001B[38;5;241m.\u001B[39mib \u001B[38;5;241m=\u001B[39m IB()\n\u001B[1;32m---> 10\u001B[0m \u001B[38;5;28;43mself\u001B[39;49m\u001B[38;5;241;43m.\u001B[39;49m\u001B[43mib\u001B[49m\u001B[38;5;241;43m.\u001B[39;49m\u001B[43mconnect\u001B[49m\u001B[43m(\u001B[49m\u001B[43mhost\u001B[49m\u001B[43m,\u001B[49m\u001B[43m \u001B[49m\u001B[43mport\u001B[49m\u001B[43m,\u001B[49m\u001B[43m \u001B[49m\u001B[43mclientId\u001B[49m\u001B[38;5;241;43m=\u001B[39;49m\u001B[43mclient_id\u001B[49m\u001B[43m)\u001B[49m\n",
      "File \u001B[1;32m~\\miniconda3\\envs\\py11\\Lib\\site-packages\\ib_insync\\ib.py:279\u001B[0m, in \u001B[0;36mIB.connect\u001B[1;34m(self, host, port, clientId, timeout, readonly, account)\u001B[0m\n\u001B[0;32m    257\u001B[0m \u001B[38;5;28;01mdef\u001B[39;00m \u001B[38;5;21mconnect\u001B[39m(\n\u001B[0;32m    258\u001B[0m         \u001B[38;5;28mself\u001B[39m, host: \u001B[38;5;28mstr\u001B[39m \u001B[38;5;241m=\u001B[39m \u001B[38;5;124m'\u001B[39m\u001B[38;5;124m127.0.0.1\u001B[39m\u001B[38;5;124m'\u001B[39m, port: \u001B[38;5;28mint\u001B[39m \u001B[38;5;241m=\u001B[39m \u001B[38;5;241m7497\u001B[39m, clientId: \u001B[38;5;28mint\u001B[39m \u001B[38;5;241m=\u001B[39m \u001B[38;5;241m1\u001B[39m,\n\u001B[0;32m    259\u001B[0m         timeout: \u001B[38;5;28mfloat\u001B[39m \u001B[38;5;241m=\u001B[39m \u001B[38;5;241m4\u001B[39m, readonly: \u001B[38;5;28mbool\u001B[39m \u001B[38;5;241m=\u001B[39m \u001B[38;5;28;01mFalse\u001B[39;00m, account: \u001B[38;5;28mstr\u001B[39m \u001B[38;5;241m=\u001B[39m \u001B[38;5;124m'\u001B[39m\u001B[38;5;124m'\u001B[39m):\n\u001B[0;32m    260\u001B[0m \u001B[38;5;250m    \u001B[39m\u001B[38;5;124;03m\"\"\"\u001B[39;00m\n\u001B[0;32m    261\u001B[0m \u001B[38;5;124;03m    Connect to a running TWS or IB gateway application.\u001B[39;00m\n\u001B[0;32m    262\u001B[0m \u001B[38;5;124;03m    After the connection is made the client is fully synchronized\u001B[39;00m\n\u001B[1;32m   (...)\u001B[0m\n\u001B[0;32m    277\u001B[0m \u001B[38;5;124;03m        account: Main account to receive updates for.\u001B[39;00m\n\u001B[0;32m    278\u001B[0m \u001B[38;5;124;03m    \"\"\"\u001B[39;00m\n\u001B[1;32m--> 279\u001B[0m     \u001B[38;5;28;01mreturn\u001B[39;00m \u001B[38;5;28;43mself\u001B[39;49m\u001B[38;5;241;43m.\u001B[39;49m\u001B[43m_run\u001B[49m\u001B[43m(\u001B[49m\u001B[38;5;28;43mself\u001B[39;49m\u001B[38;5;241;43m.\u001B[39;49m\u001B[43mconnectAsync\u001B[49m\u001B[43m(\u001B[49m\n\u001B[0;32m    280\u001B[0m \u001B[43m        \u001B[49m\u001B[43mhost\u001B[49m\u001B[43m,\u001B[49m\u001B[43m \u001B[49m\u001B[43mport\u001B[49m\u001B[43m,\u001B[49m\u001B[43m \u001B[49m\u001B[43mclientId\u001B[49m\u001B[43m,\u001B[49m\u001B[43m \u001B[49m\u001B[43mtimeout\u001B[49m\u001B[43m,\u001B[49m\u001B[43m \u001B[49m\u001B[43mreadonly\u001B[49m\u001B[43m,\u001B[49m\u001B[43m \u001B[49m\u001B[43maccount\u001B[49m\u001B[43m)\u001B[49m\u001B[43m)\u001B[49m\n",
      "File \u001B[1;32m~\\miniconda3\\envs\\py11\\Lib\\site-packages\\ib_insync\\ib.py:318\u001B[0m, in \u001B[0;36mIB._run\u001B[1;34m(self, *awaitables)\u001B[0m\n\u001B[0;32m    317\u001B[0m \u001B[38;5;28;01mdef\u001B[39;00m \u001B[38;5;21m_run\u001B[39m(\u001B[38;5;28mself\u001B[39m, \u001B[38;5;241m*\u001B[39mawaitables: Awaitable):\n\u001B[1;32m--> 318\u001B[0m     \u001B[38;5;28;01mreturn\u001B[39;00m \u001B[43mutil\u001B[49m\u001B[38;5;241;43m.\u001B[39;49m\u001B[43mrun\u001B[49m\u001B[43m(\u001B[49m\u001B[38;5;241;43m*\u001B[39;49m\u001B[43mawaitables\u001B[49m\u001B[43m,\u001B[49m\u001B[43m \u001B[49m\u001B[43mtimeout\u001B[49m\u001B[38;5;241;43m=\u001B[39;49m\u001B[38;5;28;43mself\u001B[39;49m\u001B[38;5;241;43m.\u001B[39;49m\u001B[43mRequestTimeout\u001B[49m\u001B[43m)\u001B[49m\n",
      "File \u001B[1;32m~\\miniconda3\\envs\\py11\\Lib\\site-packages\\ib_insync\\util.py:341\u001B[0m, in \u001B[0;36mrun\u001B[1;34m(timeout, *awaitables)\u001B[0m\n\u001B[0;32m    339\u001B[0m globalErrorEvent\u001B[38;5;241m.\u001B[39mconnect(onError)\n\u001B[0;32m    340\u001B[0m \u001B[38;5;28;01mtry\u001B[39;00m:\n\u001B[1;32m--> 341\u001B[0m     result \u001B[38;5;241m=\u001B[39m \u001B[43mloop\u001B[49m\u001B[38;5;241;43m.\u001B[39;49m\u001B[43mrun_until_complete\u001B[49m\u001B[43m(\u001B[49m\u001B[43mtask\u001B[49m\u001B[43m)\u001B[49m\n\u001B[0;32m    342\u001B[0m \u001B[38;5;28;01mexcept\u001B[39;00m asyncio\u001B[38;5;241m.\u001B[39mCancelledError \u001B[38;5;28;01mas\u001B[39;00m e:\n\u001B[0;32m    343\u001B[0m     \u001B[38;5;28;01mraise\u001B[39;00m globalErrorEvent\u001B[38;5;241m.\u001B[39mvalue() \u001B[38;5;129;01mor\u001B[39;00m e\n",
      "File \u001B[1;32m~\\miniconda3\\envs\\py11\\Lib\\site-packages\\nest_asyncio.py:99\u001B[0m, in \u001B[0;36m_patch_loop.<locals>.run_until_complete\u001B[1;34m(self, future)\u001B[0m\n\u001B[0;32m     96\u001B[0m \u001B[38;5;28;01mif\u001B[39;00m \u001B[38;5;129;01mnot\u001B[39;00m f\u001B[38;5;241m.\u001B[39mdone():\n\u001B[0;32m     97\u001B[0m     \u001B[38;5;28;01mraise\u001B[39;00m \u001B[38;5;167;01mRuntimeError\u001B[39;00m(\n\u001B[0;32m     98\u001B[0m         \u001B[38;5;124m'\u001B[39m\u001B[38;5;124mEvent loop stopped before Future completed.\u001B[39m\u001B[38;5;124m'\u001B[39m)\n\u001B[1;32m---> 99\u001B[0m \u001B[38;5;28;01mreturn\u001B[39;00m \u001B[43mf\u001B[49m\u001B[38;5;241;43m.\u001B[39;49m\u001B[43mresult\u001B[49m\u001B[43m(\u001B[49m\u001B[43m)\u001B[49m\n",
      "File \u001B[1;32m~\\miniconda3\\envs\\py11\\Lib\\asyncio\\futures.py:203\u001B[0m, in \u001B[0;36mFuture.result\u001B[1;34m(self)\u001B[0m\n\u001B[0;32m    201\u001B[0m \u001B[38;5;28mself\u001B[39m\u001B[38;5;241m.\u001B[39m__log_traceback \u001B[38;5;241m=\u001B[39m \u001B[38;5;28;01mFalse\u001B[39;00m\n\u001B[0;32m    202\u001B[0m \u001B[38;5;28;01mif\u001B[39;00m \u001B[38;5;28mself\u001B[39m\u001B[38;5;241m.\u001B[39m_exception \u001B[38;5;129;01mis\u001B[39;00m \u001B[38;5;129;01mnot\u001B[39;00m \u001B[38;5;28;01mNone\u001B[39;00m:\n\u001B[1;32m--> 203\u001B[0m     \u001B[38;5;28;01mraise\u001B[39;00m \u001B[38;5;28mself\u001B[39m\u001B[38;5;241m.\u001B[39m_exception\u001B[38;5;241m.\u001B[39mwith_traceback(\u001B[38;5;28mself\u001B[39m\u001B[38;5;241m.\u001B[39m_exception_tb)\n\u001B[0;32m    204\u001B[0m \u001B[38;5;28;01mreturn\u001B[39;00m \u001B[38;5;28mself\u001B[39m\u001B[38;5;241m.\u001B[39m_result\n",
      "File \u001B[1;32m~\\miniconda3\\envs\\py11\\Lib\\asyncio\\tasks.py:267\u001B[0m, in \u001B[0;36mTask.__step\u001B[1;34m(***failed resolving arguments***)\u001B[0m\n\u001B[0;32m    263\u001B[0m \u001B[38;5;28;01mtry\u001B[39;00m:\n\u001B[0;32m    264\u001B[0m     \u001B[38;5;28;01mif\u001B[39;00m exc \u001B[38;5;129;01mis\u001B[39;00m \u001B[38;5;28;01mNone\u001B[39;00m:\n\u001B[0;32m    265\u001B[0m         \u001B[38;5;66;03m# We use the `send` method directly, because coroutines\u001B[39;00m\n\u001B[0;32m    266\u001B[0m         \u001B[38;5;66;03m# don't have `__iter__` and `__next__` methods.\u001B[39;00m\n\u001B[1;32m--> 267\u001B[0m         result \u001B[38;5;241m=\u001B[39m coro\u001B[38;5;241m.\u001B[39msend(\u001B[38;5;28;01mNone\u001B[39;00m)\n\u001B[0;32m    268\u001B[0m     \u001B[38;5;28;01melse\u001B[39;00m:\n\u001B[0;32m    269\u001B[0m         result \u001B[38;5;241m=\u001B[39m coro\u001B[38;5;241m.\u001B[39mthrow(exc)\n",
      "File \u001B[1;32m~\\miniconda3\\envs\\py11\\Lib\\site-packages\\ib_insync\\ib.py:1748\u001B[0m, in \u001B[0;36mIB.connectAsync\u001B[1;34m(self, host, port, clientId, timeout, readonly, account)\u001B[0m\n\u001B[0;32m   1745\u001B[0m timeout \u001B[38;5;241m=\u001B[39m timeout \u001B[38;5;129;01mor\u001B[39;00m \u001B[38;5;28;01mNone\u001B[39;00m\n\u001B[0;32m   1746\u001B[0m \u001B[38;5;28;01mtry\u001B[39;00m:\n\u001B[0;32m   1747\u001B[0m     \u001B[38;5;66;03m# establish API connection\u001B[39;00m\n\u001B[1;32m-> 1748\u001B[0m     \u001B[38;5;28;01mawait\u001B[39;00m \u001B[38;5;28mself\u001B[39m\u001B[38;5;241m.\u001B[39mclient\u001B[38;5;241m.\u001B[39mconnectAsync(host, port, clientId, timeout)\n\u001B[0;32m   1750\u001B[0m     \u001B[38;5;66;03m# autobind manual orders\u001B[39;00m\n\u001B[0;32m   1751\u001B[0m     \u001B[38;5;28;01mif\u001B[39;00m clientId \u001B[38;5;241m==\u001B[39m \u001B[38;5;241m0\u001B[39m:\n",
      "File \u001B[1;32m~\\miniconda3\\envs\\py11\\Lib\\site-packages\\ib_insync\\client.py:217\u001B[0m, in \u001B[0;36mClient.connectAsync\u001B[1;34m(self, host, port, clientId, timeout)\u001B[0m\n\u001B[0;32m    213\u001B[0m     msg \u001B[38;5;241m=\u001B[39m \u001B[38;5;124mb\u001B[39m\u001B[38;5;124m'\u001B[39m\u001B[38;5;124mAPI\u001B[39m\u001B[38;5;130;01m\\0\u001B[39;00m\u001B[38;5;124m'\u001B[39m \u001B[38;5;241m+\u001B[39m \u001B[38;5;28mself\u001B[39m\u001B[38;5;241m.\u001B[39m_prefix(\u001B[38;5;124mb\u001B[39m\u001B[38;5;124m'\u001B[39m\u001B[38;5;124mv\u001B[39m\u001B[38;5;132;01m%d\u001B[39;00m\u001B[38;5;124m..\u001B[39m\u001B[38;5;132;01m%d\u001B[39;00m\u001B[38;5;132;01m%s\u001B[39;00m\u001B[38;5;124m'\u001B[39m \u001B[38;5;241m%\u001B[39m (\n\u001B[0;32m    214\u001B[0m         \u001B[38;5;28mself\u001B[39m\u001B[38;5;241m.\u001B[39mMinClientVersion, \u001B[38;5;28mself\u001B[39m\u001B[38;5;241m.\u001B[39mMaxClientVersion,\n\u001B[0;32m    215\u001B[0m         \u001B[38;5;124mb\u001B[39m\u001B[38;5;124m'\u001B[39m\u001B[38;5;124m \u001B[39m\u001B[38;5;124m'\u001B[39m \u001B[38;5;241m+\u001B[39m \u001B[38;5;28mself\u001B[39m\u001B[38;5;241m.\u001B[39mconnectOptions \u001B[38;5;28;01mif\u001B[39;00m \u001B[38;5;28mself\u001B[39m\u001B[38;5;241m.\u001B[39mconnectOptions \u001B[38;5;28;01melse\u001B[39;00m \u001B[38;5;124mb\u001B[39m\u001B[38;5;124m'\u001B[39m\u001B[38;5;124m'\u001B[39m))\n\u001B[0;32m    216\u001B[0m     \u001B[38;5;28mself\u001B[39m\u001B[38;5;241m.\u001B[39mconn\u001B[38;5;241m.\u001B[39msendMsg(msg)\n\u001B[1;32m--> 217\u001B[0m     \u001B[38;5;28;01mawait\u001B[39;00m asyncio\u001B[38;5;241m.\u001B[39mwait_for(\u001B[38;5;28mself\u001B[39m\u001B[38;5;241m.\u001B[39mapiStart, timeout)\n\u001B[0;32m    218\u001B[0m     \u001B[38;5;28mself\u001B[39m\u001B[38;5;241m.\u001B[39m_logger\u001B[38;5;241m.\u001B[39minfo(\u001B[38;5;124m'\u001B[39m\u001B[38;5;124mAPI connection ready\u001B[39m\u001B[38;5;124m'\u001B[39m)\n\u001B[0;32m    219\u001B[0m \u001B[38;5;28;01mexcept\u001B[39;00m \u001B[38;5;167;01mBaseException\u001B[39;00m \u001B[38;5;28;01mas\u001B[39;00m e:\n",
      "File \u001B[1;32m~\\miniconda3\\envs\\py11\\Lib\\asyncio\\tasks.py:492\u001B[0m, in \u001B[0;36mwait_for\u001B[1;34m(fut, timeout)\u001B[0m\n\u001B[0;32m    490\u001B[0m             \u001B[38;5;28;01mreturn\u001B[39;00m fut\u001B[38;5;241m.\u001B[39mresult()\n\u001B[0;32m    491\u001B[0m         \u001B[38;5;28;01mexcept\u001B[39;00m exceptions\u001B[38;5;241m.\u001B[39mCancelledError \u001B[38;5;28;01mas\u001B[39;00m exc:\n\u001B[1;32m--> 492\u001B[0m             \u001B[38;5;28;01mraise\u001B[39;00m exceptions\u001B[38;5;241m.\u001B[39mTimeoutError() \u001B[38;5;28;01mfrom\u001B[39;00m \u001B[38;5;21;01mexc\u001B[39;00m\n\u001B[0;32m    493\u001B[0m \u001B[38;5;28;01mfinally\u001B[39;00m:\n\u001B[0;32m    494\u001B[0m     timeout_handle\u001B[38;5;241m.\u001B[39mcancel()\n",
      "\u001B[1;31mTimeoutError\u001B[0m: "
     ]
    }
   ],
   "source": [
    "ibe = IB_Extractor(True)"
   ],
   "metadata": {
    "collapsed": false,
    "ExecuteTime": {
     "end_time": "2023-08-28T17:27:32.621323200Z",
     "start_time": "2023-08-28T17:27:28.348778Z"
    }
   },
   "id": "127b34eb51c7fd9"
  },
  {
   "cell_type": "code",
   "execution_count": 188,
   "outputs": [],
   "source": [
    "# cts = ibe.search('Dr. Ing. h.c. F. Porsche')\n",
    "def get_matches(query):\n",
    "    cts = ibe.search(query)\n",
    "    matches = list(misc.best_matches([c for c in cts if c.secType == 'STK' and c.currency == 'EUR'], [query],\n",
    "                                     key1=lambda c: c.description))\n",
    "    return matches"
   ],
   "metadata": {
    "collapsed": false,
    "ExecuteTime": {
     "end_time": "2023-08-28T17:45:40.390836Z",
     "start_time": "2023-08-28T17:45:40.366296500Z"
    }
   },
   "id": "3fc3763ca32d3fe4"
  },
  {
   "cell_type": "code",
   "execution_count": 189,
   "outputs": [
    {
     "data": {
      "text/plain": "  0%|          | 0/20 [00:00<?, ?it/s]",
      "application/vnd.jupyter.widget-view+json": {
       "version_major": 2,
       "version_minor": 0,
       "model_id": "6b8c78cbdd084eda84bf1db97c0287be"
      }
     },
     "metadata": {},
     "output_type": "display_data"
    }
   ],
   "source": [
    "for query in tqdmd(todo, key=True):\n",
    "    if not ibe.ib.isConnected():\n",
    "        ibe = IB_Extractor(True)\n",
    "    if query not in matches:\n",
    "        try:\n",
    "            matches[query] = get_matches(query)\n",
    "        except ConnectionError:\n",
    "            matches[query] = []"
   ],
   "metadata": {
    "collapsed": false,
    "ExecuteTime": {
     "end_time": "2023-08-28T17:45:47.153037700Z",
     "start_time": "2023-08-28T17:45:40.618866600Z"
    }
   },
   "id": "c796ad5fb79d09cc"
  },
  {
   "cell_type": "code",
   "execution_count": 190,
   "outputs": [
    {
     "name": "stdout",
     "output_type": "stream",
     "text": [
      "-----------  --------  ----------------------------------------------------------\n",
      "blg          BLG.BR    []\n",
      "agb          AGB.BR    ['D6D', 'GGV9']\n",
      "tno          TNO.BR    ['TNO', 'TNOW']\n",
      "ucb          UCB.BR    ['UCB', 'UCBN']\n",
      "avh          AVH.BR    ['AVH']\n",
      "gbl          GBL.BR    ['GBLB', 'ISPA', 'PR1W', 'FGEQ', 'HAGG', 'GISE']\n",
      "sol          SOL.BR    ['SOL', 'SOLB', 'SOLV', 'SOL1', '13X']\n",
      "int          INT.BR    ['INT', 'INTO', 'INTRK', 'RMS', 'ISP']\n",
      "gls          GLS.BR    []\n",
      "kbc group    KBC.BR    ['KBC']\n",
      "umc          UMC.BR    ['UMCB', 'UM3']\n",
      "del          DEL.BR    ['DELG', 'DEL2', 'DLS', 'AD', 'DHZ', 'DHER', '98D']\n",
      "engi         ENGI.BR   ['ENGI', 'MTX']\n",
      "ontex group  ONTEX.BR  ['ONTEX']\n",
      "cofinimmo    COFB.BR   ['COFB', 'COFB.DRTS', 'COFB.RTS3', 'COFB.RTS', 'COFB.DIV']\n",
      "es6          ES6.BR    []\n",
      "bek          BEK.BR    ['BEKB', 'TERB.DRTS', 'TERB.DIVR', 'TERB.RTS']\n",
      "bpo          BPO.BR    ['BPOST']\n",
      "col          COL.BR    ['COL', 'COLR', 'CCEP', 'EEE1']\n",
      "ing groep    INGA.BR   ['INGA', 'INNA']\n",
      "-----------  --------  ----------------------------------------------------------\n"
     ]
    }
   ],
   "source": [
    "tbl = [(query, tk, [m[1].symbol for m in matches.get(query, [])]) for tk, query in companies]\n",
    "print(tabulate(tbl))"
   ],
   "metadata": {
    "collapsed": false,
    "ExecuteTime": {
     "end_time": "2023-08-28T17:45:47.182945500Z",
     "start_time": "2023-08-28T17:45:47.156933200Z"
    }
   },
   "id": "dc01ef8a7b91a76b"
  },
  {
   "cell_type": "code",
   "execution_count": 192,
   "outputs": [
    {
     "name": "stdout",
     "output_type": "stream",
     "text": [
      "BLG.BR blg\n",
      "GLS.BR gls\n",
      "ES6.BR es6\n"
     ]
    },
    {
     "data": {
      "text/plain": "231"
     },
     "execution_count": 192,
     "metadata": {},
     "output_type": "execute_result"
    }
   ],
   "source": [
    "bad = []\n",
    "for tk, query in companies:\n",
    "    if tk in existing:\n",
    "        continue\n",
    "    ms = matches.get(query, [])\n",
    "    if len(ms) == 0:\n",
    "        bad.append((tk, query))\n",
    "        print(tk, query)\n",
    "    else:\n",
    "        existing[tk] += 1\n",
    "        data.extend({'ibkr': m[1].symbol, 'yahoo': tk} for m in ms)\n",
    "for tk, q in bad:\n",
    "    data.append({'ibkr': tk.split('.')[0], 'yahoo': tk})\n",
    "    existing[tk] += 1\n",
    "len(data)"
   ],
   "metadata": {
    "collapsed": false,
    "ExecuteTime": {
     "end_time": "2023-08-28T17:46:02.209963100Z",
     "start_time": "2023-08-28T17:46:02.155271Z"
    }
   },
   "id": "20971b89a0a9ecf5"
  },
  {
   "cell_type": "code",
   "execution_count": 193,
   "outputs": [],
   "source": [
    "export(data, path);"
   ],
   "metadata": {
    "collapsed": false,
    "ExecuteTime": {
     "end_time": "2023-08-28T17:46:06.202132800Z",
     "start_time": "2023-08-28T17:46:06.134554700Z"
    }
   },
   "id": "1b96b904d96a43d0"
  },
  {
   "cell_type": "code",
   "execution_count": 194,
   "outputs": [
    {
     "name": "stdout",
     "output_type": "stream",
     "text": [
      "------  ---\n",
      "BLG.BR  blg\n",
      "GLS.BR  gls\n",
      "ES6.BR  es6\n",
      "------  ---\n"
     ]
    }
   ],
   "source": [
    "print(tabulate(bad))"
   ],
   "metadata": {
    "collapsed": false,
    "ExecuteTime": {
     "end_time": "2023-08-28T17:46:24.377222900Z",
     "start_time": "2023-08-28T17:46:24.342373300Z"
    }
   },
   "id": "2f3d2466de86f4ab"
  },
  {
   "cell_type": "code",
   "execution_count": 201,
   "outputs": [
    {
     "name": "stdout",
     "output_type": "stream",
     "text": [
      "-----  ---  ----------------------------\n",
      "UMIN   MXN  UMICORE\n",
      "UMI.B  CAD  CI WISDOMTREE US MID DIV-B\n",
      "UMICY  USD  UMICORE - UNSPON ADR\n",
      "UMI    CAD  CI WISDOMTREE US MID DIV\n",
      "UMI    USD  USCF MIDSTREAM ENERGY INCOME\n",
      "UMI    EUR  UMICORE\n",
      "-----  ---  ----------------------------\n"
     ]
    }
   ],
   "source": [
    "out = ibe.search('UMI')\n",
    "options = [c for c in out if c.secType == 'STK']\n",
    "print(tabulate([(c.symbol, c.currency, c.description) for c in reversed(options)]))"
   ],
   "metadata": {
    "collapsed": false,
    "ExecuteTime": {
     "end_time": "2023-08-28T18:01:52.866477900Z",
     "start_time": "2023-08-28T18:01:52.307839500Z"
    }
   },
   "id": "b9752179f4a8407f"
  },
  {
   "cell_type": "code",
   "execution_count": null,
   "outputs": [],
   "source": [],
   "metadata": {
    "collapsed": false
   },
   "id": "56fd7001f235f37c"
  },
  {
   "cell_type": "code",
   "execution_count": null,
   "outputs": [],
   "source": [],
   "metadata": {
    "collapsed": false
   },
   "id": "cfb02d0c9701181d"
  },
  {
   "cell_type": "code",
   "execution_count": 102,
   "outputs": [],
   "source": [
    "ibe.ib.disconnect()"
   ],
   "metadata": {
    "collapsed": false,
    "ExecuteTime": {
     "end_time": "2023-08-28T17:12:08.876158500Z",
     "start_time": "2023-08-28T17:12:08.854875100Z"
    }
   },
   "id": "3430ecbfda214d4c"
  },
  {
   "cell_type": "code",
   "execution_count": null,
   "outputs": [],
   "source": [],
   "metadata": {
    "collapsed": false
   },
   "id": "b20db54ca961bf19"
  },
  {
   "cell_type": "code",
   "execution_count": null,
   "outputs": [],
   "source": [],
   "metadata": {
    "collapsed": false
   },
   "id": "e39212fdbb5d0956"
  },
  {
   "cell_type": "code",
   "execution_count": null,
   "outputs": [],
   "source": [],
   "metadata": {
    "collapsed": false
   },
   "id": "c42029427ada5a33"
  },
  {
   "cell_type": "code",
   "execution_count": null,
   "outputs": [],
   "source": [],
   "metadata": {
    "collapsed": false
   },
   "id": "63181c532ad17463"
  }
 ],
 "metadata": {
  "kernelspec": {
   "display_name": "Python 3",
   "language": "python",
   "name": "python3"
  },
  "language_info": {
   "codemirror_mode": {
    "name": "ipython",
    "version": 2
   },
   "file_extension": ".py",
   "mimetype": "text/x-python",
   "name": "python",
   "nbconvert_exporter": "python",
   "pygments_lexer": "ipython2",
   "version": "2.7.6"
  }
 },
 "nbformat": 4,
 "nbformat_minor": 5
}
