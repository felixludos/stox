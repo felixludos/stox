{
 "cells": [
  {
   "cell_type": "code",
   "execution_count": 1,
   "id": "initial_id",
   "metadata": {
    "collapsed": true,
    "ExecuteTime": {
     "end_time": "2023-08-27T18:39:25.286780200Z",
     "start_time": "2023-08-27T18:39:24.578426300Z"
    }
   },
   "outputs": [],
   "source": [
    "from stox.imports import *\n",
    "from stox.api import IB_Extractor\n",
    "from stox import misc, yahoo\n",
    "from stox.alpha_vantage import AlphaVantageStocks"
   ]
  },
  {
   "cell_type": "code",
   "execution_count": 5,
   "outputs": [],
   "source": [
    "av = AlphaVantageStocks()"
   ],
   "metadata": {
    "collapsed": false,
    "ExecuteTime": {
     "end_time": "2023-08-27T18:33:56.399237Z",
     "start_time": "2023-08-27T18:33:56.397724400Z"
    }
   },
   "id": "8fda22b18527c3a"
  },
  {
   "cell_type": "code",
   "execution_count": 9,
   "outputs": [
    {
     "data": {
      "text/plain": "{}"
     },
     "execution_count": 9,
     "metadata": {},
     "output_type": "execute_result"
    }
   ],
   "source": [
    "av.overview('ETE')"
   ],
   "metadata": {
    "collapsed": false,
    "ExecuteTime": {
     "end_time": "2023-08-27T18:35:22.150659900Z",
     "start_time": "2023-08-27T18:35:21.729975100Z"
    }
   },
   "id": "52aada710a7d32a7"
  },
  {
   "cell_type": "code",
   "execution_count": 3,
   "outputs": [],
   "source": [
    "root = misc.assets_root()\n",
    "path = root / 'symbols.yml'"
   ],
   "metadata": {
    "collapsed": false,
    "ExecuteTime": {
     "end_time": "2023-08-27T18:31:41.182654100Z",
     "start_time": "2023-08-27T18:31:41.179138700Z"
    }
   },
   "id": "89b98327a3876c6b"
  },
  {
   "cell_type": "code",
   "execution_count": null,
   "outputs": [],
   "source": [],
   "metadata": {
    "collapsed": false
   },
   "id": "5f4e82ff099bcf69"
  },
  {
   "cell_type": "code",
   "execution_count": 2,
   "outputs": [
    {
     "name": "stdout",
     "output_type": "stream",
     "text": [
      "AAPL earnings None\n"
     ]
    },
    {
     "ename": "YFNotImplementedError",
     "evalue": "Have not implemented fetching 'earnings' from Yahoo API",
     "output_type": "error",
     "traceback": [
      "\u001B[1;31m---------------------------------------------------------------------------\u001B[0m",
      "\u001B[1;31mYFNotImplementedError\u001B[0m                     Traceback (most recent call last)",
      "Cell \u001B[1;32mIn[2], line 5\u001B[0m\n\u001B[0;32m      2\u001B[0m date \u001B[38;5;241m=\u001B[39m \u001B[38;5;28;01mNone\u001B[39;00m\n\u001B[0;32m      3\u001B[0m date \u001B[38;5;241m=\u001B[39m \u001B[38;5;124m'\u001B[39m\u001B[38;5;124mlast\u001B[39m\u001B[38;5;124m'\u001B[39m\n\u001B[1;32m----> 5\u001B[0m out \u001B[38;5;241m=\u001B[39m \u001B[43myahoo\u001B[49m\u001B[38;5;241;43m.\u001B[39;49m\u001B[43mdownload\u001B[49m\u001B[43m(\u001B[49m\u001B[38;5;124;43m'\u001B[39;49m\u001B[38;5;124;43mAAPL\u001B[39;49m\u001B[38;5;124;43m'\u001B[39;49m\u001B[43m,\u001B[49m\u001B[43m \u001B[49m\u001B[43mdate\u001B[49m\u001B[38;5;241;43m=\u001B[39;49m\u001B[43mdate\u001B[49m\u001B[43m,\u001B[49m\u001B[43m \u001B[49m\u001B[43mroot\u001B[49m\u001B[38;5;241;43m=\u001B[39;49m\u001B[43mmisc\u001B[49m\u001B[38;5;241;43m.\u001B[39;49m\u001B[43myahoo_root\u001B[49m\u001B[43m(\u001B[49m\u001B[43m)\u001B[49m\u001B[43m)\u001B[49m\n",
      "File \u001B[1;32m~\\OneDrive\\Khan\\projects\\stox\\stox\\yahoo.py:158\u001B[0m, in \u001B[0;36mdownload\u001B[1;34m(ticker, date, root, dirname, history_kwargs, ticker_type, skip_failures, keys, pbar, allow_download)\u001B[0m\n\u001B[0;32m    156\u001B[0m data \u001B[38;5;241m=\u001B[39m \u001B[38;5;28;01mNone\u001B[39;00m\n\u001B[0;32m    157\u001B[0m \u001B[38;5;28;01mtry\u001B[39;00m:\n\u001B[1;32m--> 158\u001B[0m \tdata \u001B[38;5;241m=\u001B[39m tk\u001B[38;5;241m.\u001B[39mhistory(\u001B[38;5;241m*\u001B[39m\u001B[38;5;241m*\u001B[39mhistory_kwargs) \u001B[38;5;28;01mif\u001B[39;00m key \u001B[38;5;241m==\u001B[39m \u001B[38;5;124m'\u001B[39m\u001B[38;5;124mhistory\u001B[39m\u001B[38;5;124m'\u001B[39m \u001B[38;5;28;01melse\u001B[39;00m \u001B[38;5;28mgetattr\u001B[39m(tk, key)\n\u001B[0;32m    159\u001B[0m \t\u001B[38;5;66;03m# if data is not None:\u001B[39;00m\n\u001B[0;32m    160\u001B[0m \tstore\u001B[38;5;241m.\u001B[39msave(data, path, key)\n",
      "File \u001B[1;32m~\\miniconda3\\envs\\py11\\Lib\\site-packages\\yfinance\\ticker.py:158\u001B[0m, in \u001B[0;36mTicker.earnings\u001B[1;34m(self)\u001B[0m\n\u001B[0;32m    156\u001B[0m \u001B[38;5;129m@property\u001B[39m\n\u001B[0;32m    157\u001B[0m \u001B[38;5;28;01mdef\u001B[39;00m \u001B[38;5;21mearnings\u001B[39m(\u001B[38;5;28mself\u001B[39m) \u001B[38;5;241m-\u001B[39m\u001B[38;5;241m>\u001B[39m _pd\u001B[38;5;241m.\u001B[39mDataFrame:\n\u001B[1;32m--> 158\u001B[0m     \u001B[38;5;28;01mreturn\u001B[39;00m \u001B[38;5;28;43mself\u001B[39;49m\u001B[38;5;241;43m.\u001B[39;49m\u001B[43mget_earnings\u001B[49m\u001B[43m(\u001B[49m\u001B[43m)\u001B[49m\n",
      "File \u001B[1;32m~\\miniconda3\\envs\\py11\\Lib\\site-packages\\yfinance\\base.py:1754\u001B[0m, in \u001B[0;36mTickerBase.get_earnings\u001B[1;34m(self, proxy, as_dict, freq)\u001B[0m\n\u001B[0;32m   1741\u001B[0m \u001B[38;5;250m\u001B[39m\u001B[38;5;124;03m\"\"\"\u001B[39;00m\n\u001B[0;32m   1742\u001B[0m \u001B[38;5;124;03m:Parameters:\u001B[39;00m\n\u001B[0;32m   1743\u001B[0m \u001B[38;5;124;03m    as_dict: bool\u001B[39;00m\n\u001B[1;32m   (...)\u001B[0m\n\u001B[0;32m   1751\u001B[0m \u001B[38;5;124;03m        Default is None\u001B[39;00m\n\u001B[0;32m   1752\u001B[0m \u001B[38;5;124;03m\"\"\"\u001B[39;00m\n\u001B[0;32m   1753\u001B[0m \u001B[38;5;28mself\u001B[39m\u001B[38;5;241m.\u001B[39m_fundamentals\u001B[38;5;241m.\u001B[39mproxy \u001B[38;5;241m=\u001B[39m proxy\n\u001B[1;32m-> 1754\u001B[0m data \u001B[38;5;241m=\u001B[39m \u001B[38;5;28;43mself\u001B[39;49m\u001B[38;5;241;43m.\u001B[39;49m\u001B[43m_fundamentals\u001B[49m\u001B[38;5;241;43m.\u001B[39;49m\u001B[43mearnings\u001B[49m[freq]\n\u001B[0;32m   1755\u001B[0m \u001B[38;5;28;01mif\u001B[39;00m as_dict:\n\u001B[0;32m   1756\u001B[0m     dict_data \u001B[38;5;241m=\u001B[39m data\u001B[38;5;241m.\u001B[39mto_dict()\n",
      "File \u001B[1;32m~\\miniconda3\\envs\\py11\\Lib\\site-packages\\yfinance\\scrapers\\fundamentals.py:33\u001B[0m, in \u001B[0;36mFundamentals.earnings\u001B[1;34m(self)\u001B[0m\n\u001B[0;32m     30\u001B[0m \u001B[38;5;129m@property\u001B[39m\n\u001B[0;32m     31\u001B[0m \u001B[38;5;28;01mdef\u001B[39;00m \u001B[38;5;21mearnings\u001B[39m(\u001B[38;5;28mself\u001B[39m) \u001B[38;5;241m-\u001B[39m\u001B[38;5;241m>\u001B[39m \u001B[38;5;28mdict\u001B[39m:\n\u001B[0;32m     32\u001B[0m     \u001B[38;5;28;01mif\u001B[39;00m \u001B[38;5;28mself\u001B[39m\u001B[38;5;241m.\u001B[39m_earnings \u001B[38;5;129;01mis\u001B[39;00m \u001B[38;5;28;01mNone\u001B[39;00m:\n\u001B[1;32m---> 33\u001B[0m         \u001B[38;5;28;01mraise\u001B[39;00m YFNotImplementedError(\u001B[38;5;124m'\u001B[39m\u001B[38;5;124mearnings\u001B[39m\u001B[38;5;124m'\u001B[39m)\n\u001B[0;32m     34\u001B[0m     \u001B[38;5;28;01mreturn\u001B[39;00m \u001B[38;5;28mself\u001B[39m\u001B[38;5;241m.\u001B[39m_earnings\n",
      "\u001B[1;31mYFNotImplementedError\u001B[0m: Have not implemented fetching 'earnings' from Yahoo API"
     ]
    }
   ],
   "source": [
    "date = '220208'\n",
    "date = None\n",
    "date = 'last'\n",
    "\n",
    "out = yahoo.download('AAPL', date=date, root=misc.yahoo_root())"
   ],
   "metadata": {
    "collapsed": false,
    "ExecuteTime": {
     "end_time": "2023-08-27T18:39:29.013325700Z",
     "start_time": "2023-08-27T18:39:25.624411100Z"
    }
   },
   "id": "17e38c64c2b9a4a3"
  },
  {
   "cell_type": "code",
   "execution_count": 3,
   "outputs": [
    {
     "ename": "UnknownExportPath",
     "evalue": "C:\\Users\\anwan\\OneDrive\\Khan\\projects\\stox\\assets\\symbols.yml",
     "output_type": "error",
     "traceback": [
      "\u001B[1;31m---------------------------------------------------------------------------\u001B[0m",
      "\u001B[1;31mUnknownExportPath\u001B[0m                         Traceback (most recent call last)",
      "Cell \u001B[1;32mIn[3], line 1\u001B[0m\n\u001B[1;32m----> 1\u001B[0m data \u001B[38;5;241m=\u001B[39m \u001B[43mload_export\u001B[49m\u001B[43m(\u001B[49m\u001B[43mpath\u001B[49m\u001B[43m)\u001B[49m\n\u001B[0;32m      2\u001B[0m \u001B[38;5;28mlen\u001B[39m(data)\n",
      "File \u001B[1;32m~\\OneDrive\\Khan\\research\\belt\\omnibelt\\exporting.py:285\u001B[0m, in \u001B[0;36mload_export\u001B[1;34m(name, root, fmt, path, manager, **kwargs)\u001B[0m\n\u001B[0;32m    283\u001B[0m \u001B[38;5;28;01mif\u001B[39;00m manager \u001B[38;5;129;01mis\u001B[39;00m \u001B[38;5;28;01mNone\u001B[39;00m:\n\u001B[0;32m    284\u001B[0m \tmanager \u001B[38;5;241m=\u001B[39m _current_export_manager\n\u001B[1;32m--> 285\u001B[0m \u001B[38;5;28;01mreturn\u001B[39;00m \u001B[43mmanager\u001B[49m\u001B[38;5;241;43m.\u001B[39;49m\u001B[43mload_export\u001B[49m\u001B[43m(\u001B[49m\u001B[43mname\u001B[49m\u001B[38;5;241;43m=\u001B[39;49m\u001B[43mname\u001B[49m\u001B[43m,\u001B[49m\u001B[43m \u001B[49m\u001B[43mroot\u001B[49m\u001B[38;5;241;43m=\u001B[39;49m\u001B[43mroot\u001B[49m\u001B[43m,\u001B[49m\u001B[43m \u001B[49m\u001B[43mfmt\u001B[49m\u001B[38;5;241;43m=\u001B[39;49m\u001B[43mfmt\u001B[49m\u001B[43m,\u001B[49m\u001B[43m \u001B[49m\u001B[43mpath\u001B[49m\u001B[38;5;241;43m=\u001B[39;49m\u001B[43mpath\u001B[49m\u001B[43m,\u001B[49m\u001B[43m \u001B[49m\u001B[38;5;241;43m*\u001B[39;49m\u001B[38;5;241;43m*\u001B[39;49m\u001B[43mkwargs\u001B[49m\u001B[43m)\u001B[49m\n",
      "File \u001B[1;32m~\\OneDrive\\Khan\\research\\belt\\omnibelt\\exporting.py:222\u001B[0m, in \u001B[0;36mExportManager.load_export\u001B[1;34m(cls, name, root, fmt, path, **kwargs)\u001B[0m\n\u001B[0;32m    219\u001B[0m \tpath \u001B[38;5;241m=\u001B[39m \u001B[38;5;28mcls\u001B[39m\u001B[38;5;241m.\u001B[39mcreate_load_path(name\u001B[38;5;241m=\u001B[39mname, root\u001B[38;5;241m=\u001B[39mroot)\n\u001B[0;32m    220\u001B[0m \tfmts \u001B[38;5;241m=\u001B[39m \u001B[38;5;28mcls\u001B[39m\u001B[38;5;241m.\u001B[39mresolve_fmt_from_path(path)\n\u001B[1;32m--> 222\u001B[0m \u001B[38;5;28;01mfor\u001B[39;00m fmt \u001B[38;5;129;01min\u001B[39;00m fmts:\n\u001B[0;32m    223\u001B[0m \tdest \u001B[38;5;241m=\u001B[39m fmt\u001B[38;5;241m.\u001B[39mcreate_export_path(name\u001B[38;5;241m=\u001B[39mname, root\u001B[38;5;241m=\u001B[39mroot) \u001B[38;5;28;01mif\u001B[39;00m path \u001B[38;5;129;01mis\u001B[39;00m \u001B[38;5;28;01mNone\u001B[39;00m \u001B[38;5;28;01melse\u001B[39;00m Path(path)\n\u001B[0;32m    224\u001B[0m \t\u001B[38;5;28;01mtry\u001B[39;00m:\n",
      "File \u001B[1;32m~\\OneDrive\\Khan\\research\\belt\\omnibelt\\exporting.py:124\u001B[0m, in \u001B[0;36mExportManager.resolve_fmt_from_path\u001B[1;34m(cls, path)\u001B[0m\n\u001B[0;32m    121\u001B[0m \t\t\u001B[38;5;28;01myield\u001B[39;00m fmt\n\u001B[0;32m    123\u001B[0m \u001B[38;5;28;01mif\u001B[39;00m missing:\n\u001B[1;32m--> 124\u001B[0m \t\u001B[38;5;28;01mraise\u001B[39;00m \u001B[38;5;28mcls\u001B[39m\u001B[38;5;241m.\u001B[39mUnknownExportPath(path)\n",
      "\u001B[1;31mUnknownExportPath\u001B[0m: C:\\Users\\anwan\\OneDrive\\Khan\\projects\\stox\\assets\\symbols.yml"
     ]
    }
   ],
   "source": [
    "data = load_export(path)\n",
    "len(data)"
   ],
   "metadata": {
    "collapsed": false,
    "ExecuteTime": {
     "end_time": "2023-08-27T14:33:41.470143200Z",
     "start_time": "2023-08-27T14:33:40.665451100Z"
    }
   },
   "id": "4d7ac949ba12705c"
  },
  {
   "cell_type": "code",
   "execution_count": null,
   "outputs": [],
   "source": [
    "# export(data, path)"
   ],
   "metadata": {
    "collapsed": false,
    "ExecuteTime": {
     "end_time": "2023-08-27T14:33:41.481143600Z",
     "start_time": "2023-08-27T14:33:41.476147100Z"
    }
   },
   "id": "26d238856112b8d6"
  },
  {
   "cell_type": "code",
   "execution_count": 6,
   "outputs": [
    {
     "name": "stderr",
     "output_type": "stream",
     "text": [
      "ERROR:ib_insync.wrapper: Error 321, reqId 2147483647: Error validating request.-'cB' : cause - The API interface is currently in Read-Only mode.\n",
      "ERROR:ib_insync.wrapper: Error 321, reqId -1: Error validating request.-'b_' : cause - The API interface is currently in Read-Only mode.\n",
      "ERROR:ib_insync.ib: open orders request timed out\n",
      "ERROR:ib_insync.ib: completed orders request timed out\n"
     ]
    }
   ],
   "source": [
    "ibe = IB_Extractor(True)"
   ],
   "metadata": {
    "collapsed": false,
    "ExecuteTime": {
     "end_time": "2023-08-27T13:59:10.175763500Z",
     "start_time": "2023-08-27T13:59:06.050503700Z"
    }
   },
   "id": "861393259488cd99"
  },
  {
   "cell_type": "code",
   "execution_count": 7,
   "outputs": [
    {
     "data": {
      "text/plain": "True"
     },
     "execution_count": 7,
     "metadata": {},
     "output_type": "execute_result"
    }
   ],
   "source": [
    "ibe.ib.isConnected()"
   ],
   "metadata": {
    "collapsed": false,
    "ExecuteTime": {
     "end_time": "2023-08-27T13:59:10.198244900Z",
     "start_time": "2023-08-27T13:59:10.176764Z"
    }
   },
   "id": "b2d02f57d42fb097"
  },
  {
   "cell_type": "code",
   "execution_count": 1,
   "outputs": [
    {
     "data": {
      "text/plain": "{'address1': 'One Microsoft Way',\n 'city': 'Redmond',\n 'state': 'WA',\n 'zip': '98052-6399',\n 'country': 'United States',\n 'phone': '425 882 8080',\n 'website': 'https://www.microsoft.com',\n 'industry': 'Software—Infrastructure',\n 'industryDisp': 'Software—Infrastructure',\n 'sector': 'Technology',\n 'sectorDisp': 'Technology',\n 'longBusinessSummary': 'Microsoft Corporation develops and supports software, services, devices and solutions worldwide. The Productivity and Business Processes segment offers office, exchange, SharePoint, Microsoft Teams, office 365 Security and Compliance, Microsoft viva, and Microsoft 365 copilot; and office consumer services, such as Microsoft 365 consumer subscriptions, Office licensed on-premises, and other office services. This segment also provides LinkedIn; and dynamics business solutions, including Dynamics 365, a set of intelligent, cloud-based applications across ERP, CRM, power apps, and power automate; and on-premises ERP and CRM applications. The Intelligent Cloud segment provides server products and cloud services, such as azure and other cloud services; SQL and windows server, visual studio, system center, and related client access licenses, as well as nuance and GitHub; and enterprise services including enterprise support services, industry solutions, and nuance professional services. The More Personal Computing segment offers Windows, including windows OEM licensing and other non-volume licensing of the Windows operating system; Windows commercial comprising volume licensing of the Windows operating system, windows cloud services, and other Windows commercial offerings; patent licensing; and windows Internet of Things; and devices, such as surface, HoloLens, and PC accessories. Additionally, this segment provides gaming, which includes Xbox hardware and content, and first- and third-party content; Xbox game pass and other subscriptions, cloud gaming, advertising, third-party disc royalties, and other cloud services; and search and news advertising, which includes Bing, Microsoft News and Edge, and third-party affiliates. The company sells its products through OEMs, distributors, and resellers; and directly through digital marketplaces, online, and retail stores. The company was founded in 1975 and is headquartered in Redmond, Washington.',\n 'fullTimeEmployees': 221000,\n 'companyOfficers': [{'maxAge': 1,\n   'name': 'Mr. Satya  Nadella',\n   'age': 55,\n   'title': 'Chairman & CEO',\n   'yearBorn': 1967,\n   'fiscalYear': 2022,\n   'totalPay': 12676750,\n   'exercisedValue': 0,\n   'unexercisedValue': 0},\n  {'maxAge': 1,\n   'name': 'Mr. Bradford L. Smith LCA',\n   'age': 63,\n   'title': 'Pres & Vice Chairman',\n   'yearBorn': 1959,\n   'fiscalYear': 2022,\n   'totalPay': 4655274,\n   'exercisedValue': 0,\n   'unexercisedValue': 0},\n  {'maxAge': 1,\n   'name': 'Ms. Amy E. Hood',\n   'age': 50,\n   'title': 'Exec. VP & CFO',\n   'yearBorn': 1972,\n   'fiscalYear': 2022,\n   'totalPay': 4637915,\n   'exercisedValue': 0,\n   'unexercisedValue': 0},\n  {'maxAge': 1,\n   'name': 'Mr. Judson  Althoff',\n   'age': 49,\n   'title': 'Exec. VP & Chief Commercial Officer',\n   'yearBorn': 1973,\n   'fiscalYear': 2022,\n   'totalPay': 4428268,\n   'exercisedValue': 0,\n   'unexercisedValue': 0},\n  {'maxAge': 1,\n   'name': 'Mr. Christopher David Young',\n   'age': 50,\n   'title': 'Exec. VP of Bus. Devel., Strategy & Ventures',\n   'yearBorn': 1972,\n   'fiscalYear': 2022,\n   'totalPay': 4588876,\n   'exercisedValue': 0,\n   'unexercisedValue': 0},\n  {'maxAge': 1,\n   'name': 'Ms. Alice L. Jolla',\n   'age': 55,\n   'title': 'Corp. VP & Chief Accounting Officer',\n   'yearBorn': 1967,\n   'exercisedValue': 0,\n   'unexercisedValue': 0},\n  {'maxAge': 1,\n   'name': 'Mr. James Kevin Scott',\n   'age': 50,\n   'title': 'Exec. VP of AI & CTO',\n   'yearBorn': 1972,\n   'exercisedValue': 0,\n   'unexercisedValue': 0},\n  {'maxAge': 1,\n   'name': 'Brett  Iversen',\n   'title': 'Gen. Mang. of Investor Relations',\n   'exercisedValue': 0,\n   'unexercisedValue': 0},\n  {'maxAge': 1,\n   'name': 'Mr. Frank X. Shaw',\n   'title': 'Corp. VP for Corp. Communications',\n   'exercisedValue': 0,\n   'unexercisedValue': 0},\n  {'maxAge': 1,\n   'name': 'Mr. Christopher C. Capossela',\n   'age': 52,\n   'title': 'Exec. VP & Chief Marketing Officer',\n   'yearBorn': 1970,\n   'exercisedValue': 0,\n   'unexercisedValue': 0}],\n 'auditRisk': 6,\n 'boardRisk': 3,\n 'compensationRisk': 3,\n 'shareHolderRightsRisk': 2,\n 'overallRisk': 2,\n 'governanceEpochDate': 1690848000,\n 'compensationAsOfEpochDate': 1672444800,\n 'maxAge': 86400,\n 'priceHint': 2,\n 'previousClose': 319.97,\n 'open': 321.47,\n 'dayLow': 318.8001,\n 'dayHigh': 325.36,\n 'regularMarketPreviousClose': 319.97,\n 'regularMarketOpen': 321.47,\n 'regularMarketDayLow': 318.8001,\n 'regularMarketDayHigh': 325.36,\n 'dividendRate': 2.72,\n 'dividendYield': 0.0084,\n 'exDividendDate': 1692144000,\n 'payoutRatio': 0.2748,\n 'fiveYearAvgDividendYield': 1.06,\n 'beta': 0.903706,\n 'trailingPE': 33.331272,\n 'forwardPE': 25.59271,\n 'volume': 21684104,\n 'regularMarketVolume': 21684104,\n 'averageVolume': 27314912,\n 'averageVolume10days': 20876450,\n 'averageDailyVolume10Day': 20876450,\n 'bid': 322.51,\n 'ask': 322.95,\n 'bidSize': 1200,\n 'askSize': 800,\n 'marketCap': 2399664078848,\n 'fiftyTwoWeekLow': 213.43,\n 'fiftyTwoWeekHigh': 366.78,\n 'priceToSalesTrailing12Months': 11.32371,\n 'fiftyDayAverage': 333.9956,\n 'twoHundredDayAverage': 286.3207,\n 'trailingAnnualDividendRate': 2.72,\n 'trailingAnnualDividendYield': 0.008500797,\n 'currency': 'USD',\n 'enterpriseValue': 2367850020864,\n 'profitMargins': 0.34146,\n 'floatShares': 7423671316,\n 'sharesOutstanding': 7429760000,\n 'sharesShort': 31028035,\n 'sharesShortPriorMonth': 42497800,\n 'sharesShortPreviousMonthDate': 1689292800,\n 'dateShortInterest': 1692057600,\n 'sharesPercentSharesOut': 0.0042,\n 'heldPercentInsiders': 0.00052,\n 'heldPercentInstitutions': 0.73212,\n 'shortRatio': 1.0,\n 'shortPercentOfFloat': 0.0042,\n 'impliedSharesOutstanding': 7429760000,\n 'bookValue': 27.748,\n 'priceToBook': 11.639758,\n 'lastFiscalYearEnd': 1688083200,\n 'nextFiscalYearEnd': 1719705600,\n 'mostRecentQuarter': 1688083200,\n 'earningsQuarterlyGrowth': 0.2,\n 'netIncomeToCommon': 72361000960,\n 'trailingEps': 9.69,\n 'forwardEps': 12.62,\n 'pegRatio': 2.03,\n 'lastSplitFactor': '2:1',\n 'lastSplitDate': 1045526400,\n 'enterpriseToRevenue': 11.174,\n 'enterpriseToEbitda': 23.209,\n '52WeekChange': 0.21773553,\n 'SandP52WeekChange': 0.09306288,\n 'lastDividendValue': 0.68,\n 'lastDividendDate': 1692144000,\n 'exchange': 'NMS',\n 'quoteType': 'EQUITY',\n 'symbol': 'MSFT',\n 'underlyingSymbol': 'MSFT',\n 'shortName': 'Microsoft Corporation',\n 'longName': 'Microsoft Corporation',\n 'firstTradeDateEpochUtc': 511108200,\n 'timeZoneFullName': 'America/New_York',\n 'timeZoneShortName': 'EDT',\n 'uuid': 'b004b3ec-de24-385e-b2c1-923f10d3fb62',\n 'messageBoardId': 'finmb_21835',\n 'gmtOffSetMilliseconds': -14400000,\n 'currentPrice': 322.98,\n 'targetHighPrice': 440.0,\n 'targetLowPrice': 232.0,\n 'targetMeanPrice': 387.17,\n 'targetMedianPrice': 400.0,\n 'recommendationMean': 1.8,\n 'recommendationKey': 'buy',\n 'numberOfAnalystOpinions': 44,\n 'totalCash': 111256002560,\n 'totalCashPerShare': 14.974,\n 'ebitda': 102022995968,\n 'totalDebt': 79441002496,\n 'quickRatio': 1.536,\n 'currentRatio': 1.769,\n 'totalRevenue': 211914997760,\n 'debtToEquity': 38.522,\n 'revenuePerShare': 28.46,\n 'returnOnAssets': 0.14245,\n 'returnOnEquity': 0.38824,\n 'freeCashflow': 47268999168,\n 'operatingCashflow': 87581999104,\n 'earningsGrowth': 0.202,\n 'revenueGrowth': 0.083,\n 'grossMargins': 0.6892,\n 'ebitdaMargins': 0.48143002,\n 'operatingMargins': 0.41772997,\n 'financialCurrency': 'USD',\n 'trailingPegRatio': 2.3647}"
     },
     "execution_count": 1,
     "metadata": {},
     "output_type": "execute_result"
    }
   ],
   "source": [
    "import yfinance as yf\n",
    "\n",
    "msft = yf.Ticker(\"MSFT\")\n",
    "msft.info"
   ],
   "metadata": {
    "collapsed": false,
    "ExecuteTime": {
     "end_time": "2023-08-27T18:48:03.142267400Z",
     "start_time": "2023-08-27T18:48:01.882608200Z"
    }
   },
   "id": "cf3f1040b35fdc6f"
  },
  {
   "cell_type": "code",
   "execution_count": 2,
   "outputs": [
    {
     "ename": "YFNotImplementedError",
     "evalue": "Have not implemented fetching 'recommendations' from Yahoo API",
     "output_type": "error",
     "traceback": [
      "\u001B[1;31m---------------------------------------------------------------------------\u001B[0m",
      "\u001B[1;31mYFNotImplementedError\u001B[0m                     Traceback (most recent call last)",
      "Cell \u001B[1;32mIn[2], line 1\u001B[0m\n\u001B[1;32m----> 1\u001B[0m \u001B[43mmsft\u001B[49m\u001B[38;5;241;43m.\u001B[39;49m\u001B[43mrecommendations\u001B[49m\n",
      "File \u001B[1;32m~\\miniconda3\\envs\\py11\\Lib\\site-packages\\yfinance\\ticker.py:154\u001B[0m, in \u001B[0;36mTicker.recommendations\u001B[1;34m(self)\u001B[0m\n\u001B[0;32m    152\u001B[0m \u001B[38;5;129m@property\u001B[39m\n\u001B[0;32m    153\u001B[0m \u001B[38;5;28;01mdef\u001B[39;00m \u001B[38;5;21mrecommendations\u001B[39m(\u001B[38;5;28mself\u001B[39m):\n\u001B[1;32m--> 154\u001B[0m     \u001B[38;5;28;01mreturn\u001B[39;00m \u001B[38;5;28;43mself\u001B[39;49m\u001B[38;5;241;43m.\u001B[39;49m\u001B[43mget_recommendations\u001B[49m\u001B[43m(\u001B[49m\u001B[43m)\u001B[49m\n",
      "File \u001B[1;32m~\\miniconda3\\envs\\py11\\Lib\\site-packages\\yfinance\\base.py:1641\u001B[0m, in \u001B[0;36mTickerBase.get_recommendations\u001B[1;34m(self, proxy, as_dict)\u001B[0m\n\u001B[0;32m   1639\u001B[0m \u001B[38;5;28;01mdef\u001B[39;00m \u001B[38;5;21mget_recommendations\u001B[39m(\u001B[38;5;28mself\u001B[39m, proxy\u001B[38;5;241m=\u001B[39m\u001B[38;5;28;01mNone\u001B[39;00m, as_dict\u001B[38;5;241m=\u001B[39m\u001B[38;5;28;01mFalse\u001B[39;00m):\n\u001B[0;32m   1640\u001B[0m     \u001B[38;5;28mself\u001B[39m\u001B[38;5;241m.\u001B[39m_quote\u001B[38;5;241m.\u001B[39mproxy \u001B[38;5;241m=\u001B[39m proxy\n\u001B[1;32m-> 1641\u001B[0m     data \u001B[38;5;241m=\u001B[39m \u001B[38;5;28;43mself\u001B[39;49m\u001B[38;5;241;43m.\u001B[39;49m\u001B[43m_quote\u001B[49m\u001B[38;5;241;43m.\u001B[39;49m\u001B[43mrecommendations\u001B[49m\n\u001B[0;32m   1642\u001B[0m     \u001B[38;5;28;01mif\u001B[39;00m as_dict:\n\u001B[0;32m   1643\u001B[0m         \u001B[38;5;28;01mreturn\u001B[39;00m data\u001B[38;5;241m.\u001B[39mto_dict()\n",
      "File \u001B[1;32m~\\miniconda3\\envs\\py11\\Lib\\site-packages\\yfinance\\scrapers\\quote.py:585\u001B[0m, in \u001B[0;36mQuote.recommendations\u001B[1;34m(self)\u001B[0m\n\u001B[0;32m    582\u001B[0m \u001B[38;5;129m@property\u001B[39m\n\u001B[0;32m    583\u001B[0m \u001B[38;5;28;01mdef\u001B[39;00m \u001B[38;5;21mrecommendations\u001B[39m(\u001B[38;5;28mself\u001B[39m) \u001B[38;5;241m-\u001B[39m\u001B[38;5;241m>\u001B[39m pd\u001B[38;5;241m.\u001B[39mDataFrame:\n\u001B[0;32m    584\u001B[0m     \u001B[38;5;28;01mif\u001B[39;00m \u001B[38;5;28mself\u001B[39m\u001B[38;5;241m.\u001B[39m_recommendations \u001B[38;5;129;01mis\u001B[39;00m \u001B[38;5;28;01mNone\u001B[39;00m:\n\u001B[1;32m--> 585\u001B[0m         \u001B[38;5;28;01mraise\u001B[39;00m YFNotImplementedError(\u001B[38;5;124m'\u001B[39m\u001B[38;5;124mrecommendations\u001B[39m\u001B[38;5;124m'\u001B[39m)\n\u001B[0;32m    586\u001B[0m     \u001B[38;5;28;01mreturn\u001B[39;00m \u001B[38;5;28mself\u001B[39m\u001B[38;5;241m.\u001B[39m_recommendations\n",
      "\u001B[1;31mYFNotImplementedError\u001B[0m: Have not implemented fetching 'recommendations' from Yahoo API"
     ]
    }
   ],
   "source": [
    "msft.recommendations"
   ],
   "metadata": {
    "collapsed": false,
    "ExecuteTime": {
     "end_time": "2023-08-27T18:48:20.433900700Z",
     "start_time": "2023-08-27T18:48:19.857161200Z"
    }
   },
   "id": "ffaf021437adbcc1"
  },
  {
   "cell_type": "code",
   "execution_count": null,
   "outputs": [],
   "source": [],
   "metadata": {
    "collapsed": false
   },
   "id": "10fe275566e67b5b"
  },
  {
   "cell_type": "code",
   "execution_count": 5,
   "outputs": [
    {
     "ename": "YFNotImplementedError",
     "evalue": "Have not implemented fetching 'recommendations' from Yahoo API",
     "output_type": "error",
     "traceback": [
      "\u001B[1;31m---------------------------------------------------------------------------\u001B[0m",
      "\u001B[1;31mYFNotImplementedError\u001B[0m                     Traceback (most recent call last)",
      "Cell \u001B[1;32mIn[5], line 5\u001B[0m\n\u001B[0;32m      1\u001B[0m \u001B[38;5;28;01mimport\u001B[39;00m \u001B[38;5;21;01myfinance\u001B[39;00m \u001B[38;5;28;01mas\u001B[39;00m \u001B[38;5;21;01myf\u001B[39;00m\n\u001B[0;32m      3\u001B[0m tsla \u001B[38;5;241m=\u001B[39m yf\u001B[38;5;241m.\u001B[39mTicker(\u001B[38;5;124m'\u001B[39m\u001B[38;5;124mTSLA\u001B[39m\u001B[38;5;124m'\u001B[39m)\n\u001B[1;32m----> 5\u001B[0m recommendations \u001B[38;5;241m=\u001B[39m \u001B[43mtsla\u001B[49m\u001B[38;5;241;43m.\u001B[39;49m\u001B[43mget_recommendations\u001B[49m\u001B[43m(\u001B[49m\u001B[43m)\u001B[49m\n\u001B[0;32m      7\u001B[0m \u001B[38;5;28mprint\u001B[39m(recommendations)\n",
      "File \u001B[1;32m~\\miniconda3\\envs\\py11\\Lib\\site-packages\\yfinance\\base.py:1641\u001B[0m, in \u001B[0;36mTickerBase.get_recommendations\u001B[1;34m(self, proxy, as_dict)\u001B[0m\n\u001B[0;32m   1639\u001B[0m \u001B[38;5;28;01mdef\u001B[39;00m \u001B[38;5;21mget_recommendations\u001B[39m(\u001B[38;5;28mself\u001B[39m, proxy\u001B[38;5;241m=\u001B[39m\u001B[38;5;28;01mNone\u001B[39;00m, as_dict\u001B[38;5;241m=\u001B[39m\u001B[38;5;28;01mFalse\u001B[39;00m):\n\u001B[0;32m   1640\u001B[0m     \u001B[38;5;28mself\u001B[39m\u001B[38;5;241m.\u001B[39m_quote\u001B[38;5;241m.\u001B[39mproxy \u001B[38;5;241m=\u001B[39m proxy\n\u001B[1;32m-> 1641\u001B[0m     data \u001B[38;5;241m=\u001B[39m \u001B[38;5;28;43mself\u001B[39;49m\u001B[38;5;241;43m.\u001B[39;49m\u001B[43m_quote\u001B[49m\u001B[38;5;241;43m.\u001B[39;49m\u001B[43mrecommendations\u001B[49m\n\u001B[0;32m   1642\u001B[0m     \u001B[38;5;28;01mif\u001B[39;00m as_dict:\n\u001B[0;32m   1643\u001B[0m         \u001B[38;5;28;01mreturn\u001B[39;00m data\u001B[38;5;241m.\u001B[39mto_dict()\n",
      "File \u001B[1;32m~\\miniconda3\\envs\\py11\\Lib\\site-packages\\yfinance\\scrapers\\quote.py:585\u001B[0m, in \u001B[0;36mQuote.recommendations\u001B[1;34m(self)\u001B[0m\n\u001B[0;32m    582\u001B[0m \u001B[38;5;129m@property\u001B[39m\n\u001B[0;32m    583\u001B[0m \u001B[38;5;28;01mdef\u001B[39;00m \u001B[38;5;21mrecommendations\u001B[39m(\u001B[38;5;28mself\u001B[39m) \u001B[38;5;241m-\u001B[39m\u001B[38;5;241m>\u001B[39m pd\u001B[38;5;241m.\u001B[39mDataFrame:\n\u001B[0;32m    584\u001B[0m     \u001B[38;5;28;01mif\u001B[39;00m \u001B[38;5;28mself\u001B[39m\u001B[38;5;241m.\u001B[39m_recommendations \u001B[38;5;129;01mis\u001B[39;00m \u001B[38;5;28;01mNone\u001B[39;00m:\n\u001B[1;32m--> 585\u001B[0m         \u001B[38;5;28;01mraise\u001B[39;00m YFNotImplementedError(\u001B[38;5;124m'\u001B[39m\u001B[38;5;124mrecommendations\u001B[39m\u001B[38;5;124m'\u001B[39m)\n\u001B[0;32m    586\u001B[0m     \u001B[38;5;28;01mreturn\u001B[39;00m \u001B[38;5;28mself\u001B[39m\u001B[38;5;241m.\u001B[39m_recommendations\n",
      "\u001B[1;31mYFNotImplementedError\u001B[0m: Have not implemented fetching 'recommendations' from Yahoo API"
     ]
    }
   ],
   "source": [
    "import yfinance as yf\n",
    "\n",
    "tsla = yf.Ticker('TSLA')\n",
    "\n",
    "recommendations = tsla.get_recommendations()\n",
    "\n",
    "print(recommendations)"
   ],
   "metadata": {
    "collapsed": false,
    "ExecuteTime": {
     "end_time": "2023-08-27T14:39:45.648997400Z",
     "start_time": "2023-08-27T14:39:45.549908100Z"
    }
   },
   "id": "b42e8795032c9ea8"
  },
  {
   "cell_type": "code",
   "execution_count": null,
   "outputs": [],
   "source": [
    "API_KEY = 'YOUR_ALPHA_VANTAGE_API_KEY'\n",
    "symbol = 'TSLA'\n",
    "\n",
    "url = f'https://www.alphavantage.co/query?function=OVERVIEW&symbol={symbol}&apikey={API_KEY}'\n",
    "\n",
    "response = requests.get(url)\n",
    "data = response.json()\n",
    "\n",
    "if 'RecommendationKey' in data:\n",
    "recommendation = data['RecommendationKey']\n",
    "print(f\"Recommendation for {symbol}: {recommendation}\")\n",
    "else:\n",
    "print(\"Recommendation data not available.\")"
   ],
   "metadata": {
    "collapsed": false
   },
   "id": "7f9df2dfd451dd87"
  },
  {
   "cell_type": "code",
   "execution_count": 8,
   "outputs": [],
   "source": [
    "tk = yf.Ticker('MC.PA')"
   ],
   "metadata": {
    "collapsed": false,
    "ExecuteTime": {
     "end_time": "2023-08-27T13:59:12.175656500Z",
     "start_time": "2023-08-27T13:59:12.154132200Z"
    }
   },
   "id": "607ff56389a6194f"
  },
  {
   "cell_type": "code",
   "execution_count": 9,
   "outputs": [
    {
     "name": "stdout",
     "output_type": "stream",
     "text": [
      "LVMH Moët Hennessy - Louis Vuitton, Société Européenne\n",
      "LVMH\n"
     ]
    }
   ],
   "source": [
    "out = tk.info\n",
    "long_name = out['longName']\n",
    "short_name = out['shortName']\n",
    "print(long_name)\n",
    "print(short_name)"
   ],
   "metadata": {
    "collapsed": false,
    "ExecuteTime": {
     "end_time": "2023-08-27T13:59:14.549325800Z",
     "start_time": "2023-08-27T13:59:12.631890500Z"
    }
   },
   "id": "f6066ab411f9dc0c"
  },
  {
   "cell_type": "code",
   "execution_count": 10,
   "outputs": [],
   "source": [
    "cts = ibe.search(short_name)"
   ],
   "metadata": {
    "collapsed": false,
    "ExecuteTime": {
     "end_time": "2023-08-27T13:59:15.786871500Z",
     "start_time": "2023-08-27T13:59:15.348978900Z"
    }
   },
   "id": "85617b6e4e2cd6bc"
  },
  {
   "cell_type": "code",
   "execution_count": 15,
   "outputs": [
    {
     "data": {
      "text/plain": "[0.1428571428571429,\n 0.14814814814814814,\n 0.18181818181818177,\n 0.18181818181818177,\n 0.1428571428571429,\n 0.1428571428571429,\n 0.11428571428571432]"
     },
     "execution_count": 15,
     "metadata": {},
     "output_type": "execute_result"
    }
   ],
   "source": [
    "[misc.str_distance(short_name.lower(), desc.lower()) for desc in descs]"
   ],
   "metadata": {
    "collapsed": false,
    "ExecuteTime": {
     "end_time": "2023-08-27T14:05:37.606777Z",
     "start_time": "2023-08-27T14:05:37.565243400Z"
    }
   },
   "id": "ff07fd72308f20dc"
  },
  {
   "cell_type": "code",
   "execution_count": 18,
   "outputs": [
    {
     "data": {
      "text/plain": "[Contract(secType='STK', conId=29612150, symbol='MC', primaryExchange='SBF', currency='EUR', description='LVMH MOET HENNESSY LOUIS VUI'),\n Contract(secType='STK', conId=172201620, symbol='MCN', primaryExchange='MEXI', currency='MXN', description='LVMH MOET HENNESSY LOUIS VUI'),\n Contract(secType='STK', conId=172604130, symbol='MC', primaryExchange='EBS', currency='CHF', description='LVMH MOET HENNESSY LOUIS VUI'),\n Contract(secType='STK', conId=41601085, symbol='LVMUY', primaryExchange='PINK', currency='USD', description='LVMH MOET HENNESSY-UNSP ADR'),\n Contract(secType='STK', conId=511444683, symbol='3LLV', primaryExchange='SBF', currency='EUR', description='GRANITESHARES +3X LVMH'),\n Contract(secType='STK', conId=511444742, symbol='3SLV', primaryExchange='SBF', currency='EUR', description='GRANITESHARES -3X LVMH')]"
     },
     "execution_count": 18,
     "metadata": {},
     "output_type": "execute_result"
    }
   ],
   "source": [
    "[c for c in sorted(cts, key= lambda c: misc.str_distance(long_name.lower(), c.description.lower()), reverse=True) if c.secType == 'STK']"
   ],
   "metadata": {
    "collapsed": false,
    "ExecuteTime": {
     "end_time": "2023-08-27T14:07:55.641086900Z",
     "start_time": "2023-08-27T14:07:55.605391900Z"
    }
   },
   "id": "80b0877485d657f6"
  },
  {
   "cell_type": "code",
   "execution_count": 18,
   "outputs": [
    {
     "ename": "NameError",
     "evalue": "name 'ibe' is not defined",
     "output_type": "error",
     "traceback": [
      "\u001B[1;31m---------------------------------------------------------------------------\u001B[0m",
      "\u001B[1;31mNameError\u001B[0m                                 Traceback (most recent call last)",
      "Cell \u001B[1;32mIn[18], line 1\u001B[0m\n\u001B[1;32m----> 1\u001B[0m \u001B[43mibe\u001B[49m\u001B[38;5;241m.\u001B[39mib\u001B[38;5;241m.\u001B[39misConnected()\n",
      "\u001B[1;31mNameError\u001B[0m: name 'ibe' is not defined"
     ]
    }
   ],
   "source": [
    "ibe.ib.isConnected()"
   ],
   "metadata": {
    "collapsed": false,
    "ExecuteTime": {
     "end_time": "2023-08-27T13:16:55.574167200Z",
     "start_time": "2023-08-27T13:16:55.510268200Z"
    }
   },
   "id": "9f6cf7b8eecb0fe2"
  },
  {
   "cell_type": "code",
   "execution_count": 10,
   "outputs": [],
   "source": [
    "ibe.ib.disconnect()"
   ],
   "metadata": {
    "collapsed": false,
    "ExecuteTime": {
     "end_time": "2023-08-27T13:19:20.786226800Z",
     "start_time": "2023-08-27T13:19:20.725696500Z"
    }
   },
   "id": "3430ecbfda214d4c"
  },
  {
   "cell_type": "code",
   "execution_count": null,
   "outputs": [],
   "source": [],
   "metadata": {
    "collapsed": false
   },
   "id": "b20db54ca961bf19"
  },
  {
   "cell_type": "code",
   "execution_count": null,
   "outputs": [],
   "source": [],
   "metadata": {
    "collapsed": false
   },
   "id": "e39212fdbb5d0956"
  },
  {
   "cell_type": "code",
   "execution_count": null,
   "outputs": [],
   "source": [],
   "metadata": {
    "collapsed": false
   },
   "id": "c42029427ada5a33"
  },
  {
   "cell_type": "code",
   "execution_count": null,
   "outputs": [],
   "source": [],
   "metadata": {
    "collapsed": false
   },
   "id": "63181c532ad17463"
  }
 ],
 "metadata": {
  "kernelspec": {
   "display_name": "Python 3",
   "language": "python",
   "name": "python3"
  },
  "language_info": {
   "codemirror_mode": {
    "name": "ipython",
    "version": 2
   },
   "file_extension": ".py",
   "mimetype": "text/x-python",
   "name": "python",
   "nbconvert_exporter": "python",
   "pygments_lexer": "ipython2",
   "version": "2.7.6"
  }
 },
 "nbformat": 4,
 "nbformat_minor": 5
}
