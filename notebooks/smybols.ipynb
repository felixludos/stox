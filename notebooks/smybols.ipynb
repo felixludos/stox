{
 "cells": [
  {
   "cell_type": "code",
   "execution_count": 3,
   "id": "initial_id",
   "metadata": {
    "collapsed": true,
    "ExecuteTime": {
     "end_time": "2023-08-27T14:47:21.531572400Z",
     "start_time": "2023-08-27T14:47:21.473001Z"
    }
   },
   "outputs": [
    {
     "data": {
      "text/plain": "dict_keys(['alpha_vantage_api_key'])"
     },
     "execution_count": 3,
     "metadata": {},
     "output_type": "execute_result"
    }
   ],
   "source": [
    "from stox.imports import *\n",
    "from stox.api import IB_Extractor\n",
    "from stox import misc, yahoo\n",
    "secrets = misc.get_secrets()\n",
    "secrets.keys()"
   ]
  },
  {
   "cell_type": "code",
   "execution_count": 2,
   "outputs": [],
   "source": [
    "root = misc.assets_root()\n",
    "path = root / 'symbols.yml'"
   ],
   "metadata": {
    "collapsed": false,
    "ExecuteTime": {
     "end_time": "2023-08-27T14:36:49.524220Z",
     "start_time": "2023-08-27T14:36:49.517209200Z"
    }
   },
   "id": "89b98327a3876c6b"
  },
  {
   "cell_type": "code",
   "execution_count": 8,
   "outputs": [
    {
     "name": "stdout",
     "output_type": "stream",
     "text": [
      "Recommendation data not available.\n"
     ]
    }
   ],
   "source": [
    "symbol = 'AAPL'\n",
    "\n",
    "url = f'https://www.alphavantage.co/query?function=OVERVIEW&symbol={symbol}&apikey={misc.get_secret(\"ALPHA_VANTAGE_API_KEY\"))}'\n",
    "\n",
    "response = requests.get(url)\n",
    "data = response.json()\n",
    "\n",
    "if 'RecommendationKey' in data:\n",
    "\trecommendation = data['RecommendationKey']\n",
    "\tprint(f\"Recommendation for {symbol}: {recommendation}\")\n",
    "else:\n",
    "\tprint(\"Recommendation data not available.\")"
   ],
   "metadata": {
    "collapsed": false,
    "ExecuteTime": {
     "end_time": "2023-08-27T14:52:21.832425800Z",
     "start_time": "2023-08-27T14:52:20.957794200Z"
    }
   },
   "id": "18fd1503f1c2ee13"
  },
  {
   "cell_type": "code",
   "execution_count": null,
   "outputs": [],
   "source": [],
   "metadata": {
    "collapsed": false
   },
   "id": "5f4e82ff099bcf69"
  },
  {
   "cell_type": "code",
   "execution_count": 3,
   "outputs": [
    {
     "name": "stdout",
     "output_type": "stream",
     "text": [
      "AAPL recommendations None\n"
     ]
    },
    {
     "ename": "YFNotImplementedError",
     "evalue": "Have not implemented fetching 'recommendations' from Yahoo API",
     "output_type": "error",
     "traceback": [
      "\u001B[1;31m---------------------------------------------------------------------------\u001B[0m",
      "\u001B[1;31mYFNotImplementedError\u001B[0m                     Traceback (most recent call last)",
      "Cell \u001B[1;32mIn[3], line 5\u001B[0m\n\u001B[0;32m      2\u001B[0m date \u001B[38;5;241m=\u001B[39m \u001B[38;5;28;01mNone\u001B[39;00m\n\u001B[0;32m      3\u001B[0m date \u001B[38;5;241m=\u001B[39m \u001B[38;5;124m'\u001B[39m\u001B[38;5;124mlast\u001B[39m\u001B[38;5;124m'\u001B[39m\n\u001B[1;32m----> 5\u001B[0m out \u001B[38;5;241m=\u001B[39m \u001B[43myahoo\u001B[49m\u001B[38;5;241;43m.\u001B[39;49m\u001B[43mdownload\u001B[49m\u001B[43m(\u001B[49m\u001B[38;5;124;43m'\u001B[39;49m\u001B[38;5;124;43mAAPL\u001B[39;49m\u001B[38;5;124;43m'\u001B[39;49m\u001B[43m,\u001B[49m\u001B[43m \u001B[49m\u001B[43mdate\u001B[49m\u001B[38;5;241;43m=\u001B[39;49m\u001B[43mdate\u001B[49m\u001B[43m,\u001B[49m\u001B[43m \u001B[49m\u001B[43mroot\u001B[49m\u001B[38;5;241;43m=\u001B[39;49m\u001B[43mmisc\u001B[49m\u001B[38;5;241;43m.\u001B[39;49m\u001B[43myahoo_root\u001B[49m\u001B[43m(\u001B[49m\u001B[43m)\u001B[49m\u001B[43m)\u001B[49m\n",
      "File \u001B[1;32m~\\OneDrive\\Khan\\projects\\stox\\stox\\yahoo.py:158\u001B[0m, in \u001B[0;36mdownload\u001B[1;34m(ticker, date, root, dirname, history_kwargs, ticker_type, skip_failures, keys, pbar, allow_download)\u001B[0m\n\u001B[0;32m    156\u001B[0m data \u001B[38;5;241m=\u001B[39m \u001B[38;5;28;01mNone\u001B[39;00m\n\u001B[0;32m    157\u001B[0m \u001B[38;5;28;01mtry\u001B[39;00m:\n\u001B[1;32m--> 158\u001B[0m \tdata \u001B[38;5;241m=\u001B[39m tk\u001B[38;5;241m.\u001B[39mhistory(\u001B[38;5;241m*\u001B[39m\u001B[38;5;241m*\u001B[39mhistory_kwargs) \u001B[38;5;28;01mif\u001B[39;00m key \u001B[38;5;241m==\u001B[39m \u001B[38;5;124m'\u001B[39m\u001B[38;5;124mhistory\u001B[39m\u001B[38;5;124m'\u001B[39m \u001B[38;5;28;01melse\u001B[39;00m \u001B[38;5;28;43mgetattr\u001B[39;49m\u001B[43m(\u001B[49m\u001B[43mtk\u001B[49m\u001B[43m,\u001B[49m\u001B[43m \u001B[49m\u001B[43mkey\u001B[49m\u001B[43m)\u001B[49m\n\u001B[0;32m    159\u001B[0m \t\u001B[38;5;66;03m# if data is not None:\u001B[39;00m\n\u001B[0;32m    160\u001B[0m \tstore\u001B[38;5;241m.\u001B[39msave(data, path, key)\n",
      "File \u001B[1;32m~\\miniconda3\\envs\\py11\\Lib\\site-packages\\yfinance\\ticker.py:154\u001B[0m, in \u001B[0;36mTicker.recommendations\u001B[1;34m(self)\u001B[0m\n\u001B[0;32m    152\u001B[0m \u001B[38;5;129m@property\u001B[39m\n\u001B[0;32m    153\u001B[0m \u001B[38;5;28;01mdef\u001B[39;00m \u001B[38;5;21mrecommendations\u001B[39m(\u001B[38;5;28mself\u001B[39m):\n\u001B[1;32m--> 154\u001B[0m     \u001B[38;5;28;01mreturn\u001B[39;00m \u001B[38;5;28;43mself\u001B[39;49m\u001B[38;5;241;43m.\u001B[39;49m\u001B[43mget_recommendations\u001B[49m\u001B[43m(\u001B[49m\u001B[43m)\u001B[49m\n",
      "File \u001B[1;32m~\\miniconda3\\envs\\py11\\Lib\\site-packages\\yfinance\\base.py:1641\u001B[0m, in \u001B[0;36mTickerBase.get_recommendations\u001B[1;34m(self, proxy, as_dict)\u001B[0m\n\u001B[0;32m   1639\u001B[0m \u001B[38;5;28;01mdef\u001B[39;00m \u001B[38;5;21mget_recommendations\u001B[39m(\u001B[38;5;28mself\u001B[39m, proxy\u001B[38;5;241m=\u001B[39m\u001B[38;5;28;01mNone\u001B[39;00m, as_dict\u001B[38;5;241m=\u001B[39m\u001B[38;5;28;01mFalse\u001B[39;00m):\n\u001B[0;32m   1640\u001B[0m     \u001B[38;5;28mself\u001B[39m\u001B[38;5;241m.\u001B[39m_quote\u001B[38;5;241m.\u001B[39mproxy \u001B[38;5;241m=\u001B[39m proxy\n\u001B[1;32m-> 1641\u001B[0m     data \u001B[38;5;241m=\u001B[39m \u001B[38;5;28;43mself\u001B[39;49m\u001B[38;5;241;43m.\u001B[39;49m\u001B[43m_quote\u001B[49m\u001B[38;5;241;43m.\u001B[39;49m\u001B[43mrecommendations\u001B[49m\n\u001B[0;32m   1642\u001B[0m     \u001B[38;5;28;01mif\u001B[39;00m as_dict:\n\u001B[0;32m   1643\u001B[0m         \u001B[38;5;28;01mreturn\u001B[39;00m data\u001B[38;5;241m.\u001B[39mto_dict()\n",
      "File \u001B[1;32m~\\miniconda3\\envs\\py11\\Lib\\site-packages\\yfinance\\scrapers\\quote.py:585\u001B[0m, in \u001B[0;36mQuote.recommendations\u001B[1;34m(self)\u001B[0m\n\u001B[0;32m    582\u001B[0m \u001B[38;5;129m@property\u001B[39m\n\u001B[0;32m    583\u001B[0m \u001B[38;5;28;01mdef\u001B[39;00m \u001B[38;5;21mrecommendations\u001B[39m(\u001B[38;5;28mself\u001B[39m) \u001B[38;5;241m-\u001B[39m\u001B[38;5;241m>\u001B[39m pd\u001B[38;5;241m.\u001B[39mDataFrame:\n\u001B[0;32m    584\u001B[0m     \u001B[38;5;28;01mif\u001B[39;00m \u001B[38;5;28mself\u001B[39m\u001B[38;5;241m.\u001B[39m_recommendations \u001B[38;5;129;01mis\u001B[39;00m \u001B[38;5;28;01mNone\u001B[39;00m:\n\u001B[1;32m--> 585\u001B[0m         \u001B[38;5;28;01mraise\u001B[39;00m YFNotImplementedError(\u001B[38;5;124m'\u001B[39m\u001B[38;5;124mrecommendations\u001B[39m\u001B[38;5;124m'\u001B[39m)\n\u001B[0;32m    586\u001B[0m     \u001B[38;5;28;01mreturn\u001B[39;00m \u001B[38;5;28mself\u001B[39m\u001B[38;5;241m.\u001B[39m_recommendations\n",
      "\u001B[1;31mYFNotImplementedError\u001B[0m: Have not implemented fetching 'recommendations' from Yahoo API"
     ]
    }
   ],
   "source": [
    "date = '220208'\n",
    "date = None\n",
    "date = 'last'\n",
    "\n",
    "out = yahoo.download('AAPL', date=date, root=misc.yahoo_root())"
   ],
   "metadata": {
    "collapsed": false,
    "ExecuteTime": {
     "end_time": "2023-08-27T14:36:50.544839600Z",
     "start_time": "2023-08-27T14:36:49.529223300Z"
    }
   },
   "id": "17e38c64c2b9a4a3"
  },
  {
   "cell_type": "code",
   "execution_count": 3,
   "outputs": [
    {
     "ename": "UnknownExportPath",
     "evalue": "C:\\Users\\anwan\\OneDrive\\Khan\\projects\\stox\\assets\\symbols.yml",
     "output_type": "error",
     "traceback": [
      "\u001B[1;31m---------------------------------------------------------------------------\u001B[0m",
      "\u001B[1;31mUnknownExportPath\u001B[0m                         Traceback (most recent call last)",
      "Cell \u001B[1;32mIn[3], line 1\u001B[0m\n\u001B[1;32m----> 1\u001B[0m data \u001B[38;5;241m=\u001B[39m \u001B[43mload_export\u001B[49m\u001B[43m(\u001B[49m\u001B[43mpath\u001B[49m\u001B[43m)\u001B[49m\n\u001B[0;32m      2\u001B[0m \u001B[38;5;28mlen\u001B[39m(data)\n",
      "File \u001B[1;32m~\\OneDrive\\Khan\\research\\belt\\omnibelt\\exporting.py:285\u001B[0m, in \u001B[0;36mload_export\u001B[1;34m(name, root, fmt, path, manager, **kwargs)\u001B[0m\n\u001B[0;32m    283\u001B[0m \u001B[38;5;28;01mif\u001B[39;00m manager \u001B[38;5;129;01mis\u001B[39;00m \u001B[38;5;28;01mNone\u001B[39;00m:\n\u001B[0;32m    284\u001B[0m \tmanager \u001B[38;5;241m=\u001B[39m _current_export_manager\n\u001B[1;32m--> 285\u001B[0m \u001B[38;5;28;01mreturn\u001B[39;00m \u001B[43mmanager\u001B[49m\u001B[38;5;241;43m.\u001B[39;49m\u001B[43mload_export\u001B[49m\u001B[43m(\u001B[49m\u001B[43mname\u001B[49m\u001B[38;5;241;43m=\u001B[39;49m\u001B[43mname\u001B[49m\u001B[43m,\u001B[49m\u001B[43m \u001B[49m\u001B[43mroot\u001B[49m\u001B[38;5;241;43m=\u001B[39;49m\u001B[43mroot\u001B[49m\u001B[43m,\u001B[49m\u001B[43m \u001B[49m\u001B[43mfmt\u001B[49m\u001B[38;5;241;43m=\u001B[39;49m\u001B[43mfmt\u001B[49m\u001B[43m,\u001B[49m\u001B[43m \u001B[49m\u001B[43mpath\u001B[49m\u001B[38;5;241;43m=\u001B[39;49m\u001B[43mpath\u001B[49m\u001B[43m,\u001B[49m\u001B[43m \u001B[49m\u001B[38;5;241;43m*\u001B[39;49m\u001B[38;5;241;43m*\u001B[39;49m\u001B[43mkwargs\u001B[49m\u001B[43m)\u001B[49m\n",
      "File \u001B[1;32m~\\OneDrive\\Khan\\research\\belt\\omnibelt\\exporting.py:222\u001B[0m, in \u001B[0;36mExportManager.load_export\u001B[1;34m(cls, name, root, fmt, path, **kwargs)\u001B[0m\n\u001B[0;32m    219\u001B[0m \tpath \u001B[38;5;241m=\u001B[39m \u001B[38;5;28mcls\u001B[39m\u001B[38;5;241m.\u001B[39mcreate_load_path(name\u001B[38;5;241m=\u001B[39mname, root\u001B[38;5;241m=\u001B[39mroot)\n\u001B[0;32m    220\u001B[0m \tfmts \u001B[38;5;241m=\u001B[39m \u001B[38;5;28mcls\u001B[39m\u001B[38;5;241m.\u001B[39mresolve_fmt_from_path(path)\n\u001B[1;32m--> 222\u001B[0m \u001B[38;5;28;01mfor\u001B[39;00m fmt \u001B[38;5;129;01min\u001B[39;00m fmts:\n\u001B[0;32m    223\u001B[0m \tdest \u001B[38;5;241m=\u001B[39m fmt\u001B[38;5;241m.\u001B[39mcreate_export_path(name\u001B[38;5;241m=\u001B[39mname, root\u001B[38;5;241m=\u001B[39mroot) \u001B[38;5;28;01mif\u001B[39;00m path \u001B[38;5;129;01mis\u001B[39;00m \u001B[38;5;28;01mNone\u001B[39;00m \u001B[38;5;28;01melse\u001B[39;00m Path(path)\n\u001B[0;32m    224\u001B[0m \t\u001B[38;5;28;01mtry\u001B[39;00m:\n",
      "File \u001B[1;32m~\\OneDrive\\Khan\\research\\belt\\omnibelt\\exporting.py:124\u001B[0m, in \u001B[0;36mExportManager.resolve_fmt_from_path\u001B[1;34m(cls, path)\u001B[0m\n\u001B[0;32m    121\u001B[0m \t\t\u001B[38;5;28;01myield\u001B[39;00m fmt\n\u001B[0;32m    123\u001B[0m \u001B[38;5;28;01mif\u001B[39;00m missing:\n\u001B[1;32m--> 124\u001B[0m \t\u001B[38;5;28;01mraise\u001B[39;00m \u001B[38;5;28mcls\u001B[39m\u001B[38;5;241m.\u001B[39mUnknownExportPath(path)\n",
      "\u001B[1;31mUnknownExportPath\u001B[0m: C:\\Users\\anwan\\OneDrive\\Khan\\projects\\stox\\assets\\symbols.yml"
     ]
    }
   ],
   "source": [
    "data = load_export(path)\n",
    "len(data)"
   ],
   "metadata": {
    "collapsed": false,
    "ExecuteTime": {
     "end_time": "2023-08-27T14:33:41.470143200Z",
     "start_time": "2023-08-27T14:33:40.665451100Z"
    }
   },
   "id": "4d7ac949ba12705c"
  },
  {
   "cell_type": "code",
   "execution_count": null,
   "outputs": [],
   "source": [
    "# export(data, path)"
   ],
   "metadata": {
    "collapsed": false,
    "ExecuteTime": {
     "end_time": "2023-08-27T14:33:41.481143600Z",
     "start_time": "2023-08-27T14:33:41.476147100Z"
    }
   },
   "id": "26d238856112b8d6"
  },
  {
   "cell_type": "code",
   "execution_count": 6,
   "outputs": [
    {
     "name": "stderr",
     "output_type": "stream",
     "text": [
      "ERROR:ib_insync.wrapper: Error 321, reqId 2147483647: Error validating request.-'cB' : cause - The API interface is currently in Read-Only mode.\n",
      "ERROR:ib_insync.wrapper: Error 321, reqId -1: Error validating request.-'b_' : cause - The API interface is currently in Read-Only mode.\n",
      "ERROR:ib_insync.ib: open orders request timed out\n",
      "ERROR:ib_insync.ib: completed orders request timed out\n"
     ]
    }
   ],
   "source": [
    "ibe = IB_Extractor(True)"
   ],
   "metadata": {
    "collapsed": false,
    "ExecuteTime": {
     "end_time": "2023-08-27T13:59:10.175763500Z",
     "start_time": "2023-08-27T13:59:06.050503700Z"
    }
   },
   "id": "861393259488cd99"
  },
  {
   "cell_type": "code",
   "execution_count": 7,
   "outputs": [
    {
     "data": {
      "text/plain": "True"
     },
     "execution_count": 7,
     "metadata": {},
     "output_type": "execute_result"
    }
   ],
   "source": [
    "ibe.ib.isConnected()"
   ],
   "metadata": {
    "collapsed": false,
    "ExecuteTime": {
     "end_time": "2023-08-27T13:59:10.198244900Z",
     "start_time": "2023-08-27T13:59:10.176764Z"
    }
   },
   "id": "b2d02f57d42fb097"
  },
  {
   "cell_type": "code",
   "execution_count": 5,
   "outputs": [
    {
     "ename": "YFNotImplementedError",
     "evalue": "Have not implemented fetching 'recommendations' from Yahoo API",
     "output_type": "error",
     "traceback": [
      "\u001B[1;31m---------------------------------------------------------------------------\u001B[0m",
      "\u001B[1;31mYFNotImplementedError\u001B[0m                     Traceback (most recent call last)",
      "Cell \u001B[1;32mIn[5], line 5\u001B[0m\n\u001B[0;32m      1\u001B[0m \u001B[38;5;28;01mimport\u001B[39;00m \u001B[38;5;21;01myfinance\u001B[39;00m \u001B[38;5;28;01mas\u001B[39;00m \u001B[38;5;21;01myf\u001B[39;00m\n\u001B[0;32m      3\u001B[0m tsla \u001B[38;5;241m=\u001B[39m yf\u001B[38;5;241m.\u001B[39mTicker(\u001B[38;5;124m'\u001B[39m\u001B[38;5;124mTSLA\u001B[39m\u001B[38;5;124m'\u001B[39m)\n\u001B[1;32m----> 5\u001B[0m recommendations \u001B[38;5;241m=\u001B[39m \u001B[43mtsla\u001B[49m\u001B[38;5;241;43m.\u001B[39;49m\u001B[43mget_recommendations\u001B[49m\u001B[43m(\u001B[49m\u001B[43m)\u001B[49m\n\u001B[0;32m      7\u001B[0m \u001B[38;5;28mprint\u001B[39m(recommendations)\n",
      "File \u001B[1;32m~\\miniconda3\\envs\\py11\\Lib\\site-packages\\yfinance\\base.py:1641\u001B[0m, in \u001B[0;36mTickerBase.get_recommendations\u001B[1;34m(self, proxy, as_dict)\u001B[0m\n\u001B[0;32m   1639\u001B[0m \u001B[38;5;28;01mdef\u001B[39;00m \u001B[38;5;21mget_recommendations\u001B[39m(\u001B[38;5;28mself\u001B[39m, proxy\u001B[38;5;241m=\u001B[39m\u001B[38;5;28;01mNone\u001B[39;00m, as_dict\u001B[38;5;241m=\u001B[39m\u001B[38;5;28;01mFalse\u001B[39;00m):\n\u001B[0;32m   1640\u001B[0m     \u001B[38;5;28mself\u001B[39m\u001B[38;5;241m.\u001B[39m_quote\u001B[38;5;241m.\u001B[39mproxy \u001B[38;5;241m=\u001B[39m proxy\n\u001B[1;32m-> 1641\u001B[0m     data \u001B[38;5;241m=\u001B[39m \u001B[38;5;28;43mself\u001B[39;49m\u001B[38;5;241;43m.\u001B[39;49m\u001B[43m_quote\u001B[49m\u001B[38;5;241;43m.\u001B[39;49m\u001B[43mrecommendations\u001B[49m\n\u001B[0;32m   1642\u001B[0m     \u001B[38;5;28;01mif\u001B[39;00m as_dict:\n\u001B[0;32m   1643\u001B[0m         \u001B[38;5;28;01mreturn\u001B[39;00m data\u001B[38;5;241m.\u001B[39mto_dict()\n",
      "File \u001B[1;32m~\\miniconda3\\envs\\py11\\Lib\\site-packages\\yfinance\\scrapers\\quote.py:585\u001B[0m, in \u001B[0;36mQuote.recommendations\u001B[1;34m(self)\u001B[0m\n\u001B[0;32m    582\u001B[0m \u001B[38;5;129m@property\u001B[39m\n\u001B[0;32m    583\u001B[0m \u001B[38;5;28;01mdef\u001B[39;00m \u001B[38;5;21mrecommendations\u001B[39m(\u001B[38;5;28mself\u001B[39m) \u001B[38;5;241m-\u001B[39m\u001B[38;5;241m>\u001B[39m pd\u001B[38;5;241m.\u001B[39mDataFrame:\n\u001B[0;32m    584\u001B[0m     \u001B[38;5;28;01mif\u001B[39;00m \u001B[38;5;28mself\u001B[39m\u001B[38;5;241m.\u001B[39m_recommendations \u001B[38;5;129;01mis\u001B[39;00m \u001B[38;5;28;01mNone\u001B[39;00m:\n\u001B[1;32m--> 585\u001B[0m         \u001B[38;5;28;01mraise\u001B[39;00m YFNotImplementedError(\u001B[38;5;124m'\u001B[39m\u001B[38;5;124mrecommendations\u001B[39m\u001B[38;5;124m'\u001B[39m)\n\u001B[0;32m    586\u001B[0m     \u001B[38;5;28;01mreturn\u001B[39;00m \u001B[38;5;28mself\u001B[39m\u001B[38;5;241m.\u001B[39m_recommendations\n",
      "\u001B[1;31mYFNotImplementedError\u001B[0m: Have not implemented fetching 'recommendations' from Yahoo API"
     ]
    }
   ],
   "source": [
    "import yfinance as yf\n",
    "\n",
    "tsla = yf.Ticker('TSLA')\n",
    "\n",
    "recommendations = tsla.get_recommendations()\n",
    "\n",
    "print(recommendations)"
   ],
   "metadata": {
    "collapsed": false,
    "ExecuteTime": {
     "end_time": "2023-08-27T14:39:45.648997400Z",
     "start_time": "2023-08-27T14:39:45.549908100Z"
    }
   },
   "id": "b42e8795032c9ea8"
  },
  {
   "cell_type": "code",
   "execution_count": null,
   "outputs": [],
   "source": [
    "API_KEY = 'YOUR_ALPHA_VANTAGE_API_KEY'\n",
    "symbol = 'TSLA'\n",
    "\n",
    "url = f'https://www.alphavantage.co/query?function=OVERVIEW&symbol={symbol}&apikey={API_KEY}'\n",
    "\n",
    "response = requests.get(url)\n",
    "data = response.json()\n",
    "\n",
    "if 'RecommendationKey' in data:\n",
    "recommendation = data['RecommendationKey']\n",
    "print(f\"Recommendation for {symbol}: {recommendation}\")\n",
    "else:\n",
    "print(\"Recommendation data not available.\")"
   ],
   "metadata": {
    "collapsed": false
   },
   "id": "7f9df2dfd451dd87"
  },
  {
   "cell_type": "code",
   "execution_count": 8,
   "outputs": [],
   "source": [
    "tk = yf.Ticker('MC.PA')"
   ],
   "metadata": {
    "collapsed": false,
    "ExecuteTime": {
     "end_time": "2023-08-27T13:59:12.175656500Z",
     "start_time": "2023-08-27T13:59:12.154132200Z"
    }
   },
   "id": "607ff56389a6194f"
  },
  {
   "cell_type": "code",
   "execution_count": 9,
   "outputs": [
    {
     "name": "stdout",
     "output_type": "stream",
     "text": [
      "LVMH Moët Hennessy - Louis Vuitton, Société Européenne\n",
      "LVMH\n"
     ]
    }
   ],
   "source": [
    "out = tk.info\n",
    "long_name = out['longName']\n",
    "short_name = out['shortName']\n",
    "print(long_name)\n",
    "print(short_name)"
   ],
   "metadata": {
    "collapsed": false,
    "ExecuteTime": {
     "end_time": "2023-08-27T13:59:14.549325800Z",
     "start_time": "2023-08-27T13:59:12.631890500Z"
    }
   },
   "id": "f6066ab411f9dc0c"
  },
  {
   "cell_type": "code",
   "execution_count": 10,
   "outputs": [],
   "source": [
    "cts = ibe.search(short_name)"
   ],
   "metadata": {
    "collapsed": false,
    "ExecuteTime": {
     "end_time": "2023-08-27T13:59:15.786871500Z",
     "start_time": "2023-08-27T13:59:15.348978900Z"
    }
   },
   "id": "85617b6e4e2cd6bc"
  },
  {
   "cell_type": "code",
   "execution_count": 15,
   "outputs": [
    {
     "data": {
      "text/plain": "[0.1428571428571429,\n 0.14814814814814814,\n 0.18181818181818177,\n 0.18181818181818177,\n 0.1428571428571429,\n 0.1428571428571429,\n 0.11428571428571432]"
     },
     "execution_count": 15,
     "metadata": {},
     "output_type": "execute_result"
    }
   ],
   "source": [
    "[misc.str_distance(short_name.lower(), desc.lower()) for desc in descs]"
   ],
   "metadata": {
    "collapsed": false,
    "ExecuteTime": {
     "end_time": "2023-08-27T14:05:37.606777Z",
     "start_time": "2023-08-27T14:05:37.565243400Z"
    }
   },
   "id": "ff07fd72308f20dc"
  },
  {
   "cell_type": "code",
   "execution_count": 18,
   "outputs": [
    {
     "data": {
      "text/plain": "[Contract(secType='STK', conId=29612150, symbol='MC', primaryExchange='SBF', currency='EUR', description='LVMH MOET HENNESSY LOUIS VUI'),\n Contract(secType='STK', conId=172201620, symbol='MCN', primaryExchange='MEXI', currency='MXN', description='LVMH MOET HENNESSY LOUIS VUI'),\n Contract(secType='STK', conId=172604130, symbol='MC', primaryExchange='EBS', currency='CHF', description='LVMH MOET HENNESSY LOUIS VUI'),\n Contract(secType='STK', conId=41601085, symbol='LVMUY', primaryExchange='PINK', currency='USD', description='LVMH MOET HENNESSY-UNSP ADR'),\n Contract(secType='STK', conId=511444683, symbol='3LLV', primaryExchange='SBF', currency='EUR', description='GRANITESHARES +3X LVMH'),\n Contract(secType='STK', conId=511444742, symbol='3SLV', primaryExchange='SBF', currency='EUR', description='GRANITESHARES -3X LVMH')]"
     },
     "execution_count": 18,
     "metadata": {},
     "output_type": "execute_result"
    }
   ],
   "source": [
    "[c for c in sorted(cts, key= lambda c: misc.str_distance(long_name.lower(), c.description.lower()), reverse=True) if c.secType == 'STK']"
   ],
   "metadata": {
    "collapsed": false,
    "ExecuteTime": {
     "end_time": "2023-08-27T14:07:55.641086900Z",
     "start_time": "2023-08-27T14:07:55.605391900Z"
    }
   },
   "id": "80b0877485d657f6"
  },
  {
   "cell_type": "code",
   "execution_count": 18,
   "outputs": [
    {
     "ename": "NameError",
     "evalue": "name 'ibe' is not defined",
     "output_type": "error",
     "traceback": [
      "\u001B[1;31m---------------------------------------------------------------------------\u001B[0m",
      "\u001B[1;31mNameError\u001B[0m                                 Traceback (most recent call last)",
      "Cell \u001B[1;32mIn[18], line 1\u001B[0m\n\u001B[1;32m----> 1\u001B[0m \u001B[43mibe\u001B[49m\u001B[38;5;241m.\u001B[39mib\u001B[38;5;241m.\u001B[39misConnected()\n",
      "\u001B[1;31mNameError\u001B[0m: name 'ibe' is not defined"
     ]
    }
   ],
   "source": [
    "ibe.ib.isConnected()"
   ],
   "metadata": {
    "collapsed": false,
    "ExecuteTime": {
     "end_time": "2023-08-27T13:16:55.574167200Z",
     "start_time": "2023-08-27T13:16:55.510268200Z"
    }
   },
   "id": "9f6cf7b8eecb0fe2"
  },
  {
   "cell_type": "code",
   "execution_count": 10,
   "outputs": [],
   "source": [
    "ibe.ib.disconnect()"
   ],
   "metadata": {
    "collapsed": false,
    "ExecuteTime": {
     "end_time": "2023-08-27T13:19:20.786226800Z",
     "start_time": "2023-08-27T13:19:20.725696500Z"
    }
   },
   "id": "3430ecbfda214d4c"
  },
  {
   "cell_type": "code",
   "execution_count": null,
   "outputs": [],
   "source": [],
   "metadata": {
    "collapsed": false
   },
   "id": "b20db54ca961bf19"
  },
  {
   "cell_type": "code",
   "execution_count": null,
   "outputs": [],
   "source": [],
   "metadata": {
    "collapsed": false
   },
   "id": "e39212fdbb5d0956"
  },
  {
   "cell_type": "code",
   "execution_count": null,
   "outputs": [],
   "source": [],
   "metadata": {
    "collapsed": false
   },
   "id": "c42029427ada5a33"
  },
  {
   "cell_type": "code",
   "execution_count": null,
   "outputs": [],
   "source": [],
   "metadata": {
    "collapsed": false
   },
   "id": "63181c532ad17463"
  }
 ],
 "metadata": {
  "kernelspec": {
   "display_name": "Python 3",
   "language": "python",
   "name": "python3"
  },
  "language_info": {
   "codemirror_mode": {
    "name": "ipython",
    "version": 2
   },
   "file_extension": ".py",
   "mimetype": "text/x-python",
   "name": "python",
   "nbconvert_exporter": "python",
   "pygments_lexer": "ipython2",
   "version": "2.7.6"
  }
 },
 "nbformat": 4,
 "nbformat_minor": 5
}
