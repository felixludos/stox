{
 "cells": [
  {
   "cell_type": "code",
   "execution_count": null,
   "id": "initial_id",
   "metadata": {
    "collapsed": true,
    "ExecuteTime": {
     "end_time": "2023-10-05T11:50:52.163406300Z",
     "start_time": "2023-10-05T11:50:52.085412Z"
    }
   },
   "outputs": [],
   "source": []
  },
  {
   "cell_type": "code",
   "execution_count": null,
   "outputs": [],
   "source": [],
   "metadata": {
    "collapsed": false,
    "ExecuteTime": {
     "end_time": "2023-10-05T11:50:52.163406300Z",
     "start_time": "2023-10-05T11:50:52.100426300Z"
    }
   },
   "id": "d406ea5ef990349e"
  },
  {
   "cell_type": "code",
   "execution_count": 1,
   "outputs": [
    {
     "data": {
      "text/plain": "'Has this Google lawyer written the book of the year? The part-time author talks about the inspiration for her thriller about siblings who flee abusive parents and their ‘house of horror’'"
     },
     "execution_count": 1,
     "metadata": {},
     "output_type": "execute_result"
    }
   ],
   "source": [
    "\"Has this Google lawyer written the book of the year? The part-time author talks about the inspiration for her thriller about siblings who flee abusive parents and their \\u2018house of horror\\u2019\""
   ],
   "metadata": {
    "collapsed": false,
    "ExecuteTime": {
     "end_time": "2023-10-05T11:50:56.594701300Z",
     "start_time": "2023-10-05T11:50:56.485019300Z"
    }
   },
   "id": "5bfffab525f35a7f"
  },
  {
   "cell_type": "code",
   "execution_count": null,
   "outputs": [],
   "source": [],
   "metadata": {
    "collapsed": false,
    "ExecuteTime": {
     "end_time": "2023-10-05T11:50:52.163406300Z",
     "start_time": "2023-10-05T11:50:52.115665800Z"
    }
   },
   "id": "54cd4066778d347c"
  },
  {
   "cell_type": "code",
   "execution_count": null,
   "outputs": [],
   "source": [],
   "metadata": {
    "collapsed": false,
    "ExecuteTime": {
     "end_time": "2023-10-05T11:50:52.163406300Z",
     "start_time": "2023-10-05T11:50:52.133610100Z"
    }
   },
   "id": "ad7e788c03950c7b"
  },
  {
   "cell_type": "code",
   "execution_count": null,
   "outputs": [],
   "source": [],
   "metadata": {
    "collapsed": false
   },
   "id": "676b7c62f532e789"
  }
 ],
 "metadata": {
  "kernelspec": {
   "display_name": "Python 3",
   "language": "python",
   "name": "python3"
  },
  "language_info": {
   "codemirror_mode": {
    "name": "ipython",
    "version": 2
   },
   "file_extension": ".py",
   "mimetype": "text/x-python",
   "name": "python",
   "nbconvert_exporter": "python",
   "pygments_lexer": "ipython2",
   "version": "2.7.6"
  }
 },
 "nbformat": 4,
 "nbformat_minor": 5
}
