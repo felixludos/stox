{
 "cells": [
  {
   "cell_type": "code",
   "execution_count": 1,
   "id": "initial_id",
   "metadata": {
    "collapsed": true,
    "ExecuteTime": {
     "end_time": "2023-08-27T11:17:43.373816800Z",
     "start_time": "2023-08-27T11:17:40.949848600Z"
    }
   },
   "outputs": [],
   "source": [
    "import sys, os\n",
    "from pathlib import Path\n",
    "if '_old_cwd' not in locals():\n",
    "    _old_cwd = os.getcwd()\n",
    "    os.chdir(Path(os.getcwd()).parent)\n",
    "    sys.path.append(os.getcwd())\n",
    "# from ib_insync import *\n",
    "# from tqdm.notebook import tqdm\n",
    "from omnibelt import tqdmd_notebook as tqdm\n",
    "from tabulate import tabulate\n",
    "from omnibelt import save_json, load_json\n",
    "from collections import Counter\n",
    "import xmltodict\n",
    "\n",
    "from src.euro import IB_Extractor\n"
   ]
  },
  {
   "cell_type": "code",
   "execution_count": 2,
   "outputs": [],
   "source": [
    "root = Path(os.getcwd()) / 'ibkr'"
   ],
   "metadata": {
    "collapsed": false,
    "ExecuteTime": {
     "end_time": "2023-08-25T14:54:12.312662600Z",
     "start_time": "2023-08-25T14:54:12.299418900Z"
    }
   },
   "id": "ef7b27c91b746698"
  },
  {
   "cell_type": "code",
   "execution_count": 3,
   "outputs": [
    {
     "name": "stderr",
     "output_type": "stream",
     "text": [
      "ERROR:ib_insync.wrapper: Error 321, reqId 2147483647: Error validating request.-'cB' : cause - The API interface is currently in Read-Only mode.\n",
      "ERROR:ib_insync.wrapper: Error 321, reqId -1: Error validating request.-'b_' : cause - The API interface is currently in Read-Only mode.\n",
      "ERROR:ib_insync.ib: open orders request timed out\n",
      "ERROR:ib_insync.ib: completed orders request timed out\n"
     ]
    }
   ],
   "source": [
    "ibe = IB_Extractor(True)"
   ],
   "metadata": {
    "collapsed": false,
    "ExecuteTime": {
     "end_time": "2023-08-25T14:54:16.377491500Z",
     "start_time": "2023-08-25T14:54:12.312662600Z"
    }
   },
   "id": "3226214a69063f7"
  },
  {
   "cell_type": "code",
   "execution_count": 4,
   "outputs": [],
   "source": [
    "raw = ['ASML', 'MC', 'TTE', 'SAP', 'SIE', 'SAN', 'OR', 'SU', 'ALV', 'AI', 'AIR', 'RMS', 'BNP', 'DTE', 'IBE', 'DG', 'SAN1', 'MBG', 'SAF', 'EL', 'CS', 'IFX', 'BAYN', 'PRX', 'ENEL', 'ADYEN', 'INGA', 'ABI', 'MUV2', 'DHL', 'UCG', 'STLAP', 'BBVA', 'BAS', 'ISP', 'RI', 'CRH', 'ITX', 'KER', 'NDA', 'BMW', 'BN', 'DB1', 'FLTR', 'ENI', 'ADS', 'AD', 'VOW3', 'NOKIA', 'VNA']\n",
    "wts = [8.22, 6.88, 4.3, 4.22, 3.63, 3.47, 3.21, 2.89, 2.74, 2.67, 2.46, 2.22, 2.2, 2.15, 2.09, 1.97, 1.89, 1.82, 1.79, 1.73, 1.69, 1.63, 1.63, 1.57, 1.52, 1.51, 1.5, 1.46, 1.46, 1.44, 1.4, 1.37, 1.36, 1.36, 1.33, 1.27, 1.27, 1.21, 1.18, 1.16, 1.11, 1.11, 1.03, 1.0, 0.99, 0.96, 0.96, 0.78, 0.59, 0.45]"
   ],
   "metadata": {
    "collapsed": false,
    "ExecuteTime": {
     "end_time": "2023-08-25T14:54:16.396570700Z",
     "start_time": "2023-08-25T14:54:16.365471700Z"
    }
   },
   "id": "7a7c794bfa68d34a"
  },
  {
   "cell_type": "code",
   "execution_count": 5,
   "outputs": [],
   "source": [
    "cts_data = {}"
   ],
   "metadata": {
    "collapsed": false,
    "ExecuteTime": {
     "end_time": "2023-08-25T14:54:16.399570700Z",
     "start_time": "2023-08-25T14:54:16.380492300Z"
    }
   },
   "id": "1107ab347491844b"
  },
  {
   "cell_type": "code",
   "execution_count": 6,
   "outputs": [
    {
     "data": {
      "text/plain": "  0%|          | 0/50 [00:00<?, ?it/s]",
      "application/vnd.jupyter.widget-view+json": {
       "version_major": 2,
       "version_minor": 0,
       "model_id": "8a925333500f42f5b53819e32679e9f5"
      }
     },
     "metadata": {},
     "output_type": "display_data"
    }
   ],
   "source": [
    "pbar = tqdm(raw)\n",
    "for sym in pbar:\n",
    "    if sym in cts_data:\n",
    "        continue\n",
    "    pbar.set_description(sym)\n",
    "    cts_data[sym] = ibe.find_all_contracts(sym)"
   ],
   "metadata": {
    "collapsed": false,
    "ExecuteTime": {
     "end_time": "2023-08-25T14:54:33.354086200Z",
     "start_time": "2023-08-25T14:54:16.397575800Z"
    }
   },
   "id": "893210ca807766d0"
  },
  {
   "cell_type": "code",
   "execution_count": 16,
   "outputs": [],
   "source": [
    "def extract_contract_info(contract):\n",
    "    return {'currency': contract.currency, 'exchange': contract.exchange, 'symbol': contract.symbol, 'secType': contract.secType, 'conId': contract.conId, 'primaryExchange': contract.primaryExchange}\n",
    "def contract_from_info(info):\n",
    "    return Contract(conId=info['conId'], symbol=info['symbol'], secType=info['secType'], currency=info['currency'], exchange=info['exchange'], primaryExchange=info['primaryExchange'])"
   ],
   "metadata": {
    "collapsed": false,
    "ExecuteTime": {
     "end_time": "2023-08-25T14:58:25.086482200Z",
     "start_time": "2023-08-25T14:58:25.056109Z"
    }
   },
   "id": "63f6093c032d2cf7"
  },
  {
   "cell_type": "code",
   "execution_count": 8,
   "outputs": [
    {
     "data": {
      "text/plain": "50"
     },
     "execution_count": 8,
     "metadata": {},
     "output_type": "execute_result"
    }
   ],
   "source": [
    "cts_options = [[extract_contract_info(c) for c in cts_data[sym]] for sym in raw]\n",
    "len(cts_options)"
   ],
   "metadata": {
    "collapsed": false,
    "ExecuteTime": {
     "end_time": "2023-08-25T14:54:33.447674300Z",
     "start_time": "2023-08-25T14:54:33.371812400Z"
    }
   },
   "id": "fc09c51edec54742"
  },
  {
   "cell_type": "code",
   "execution_count": 9,
   "outputs": [],
   "source": [
    "by_ID = {}\n",
    "for k, vs in cts_data.items():\n",
    "    for v in vs:\n",
    "        if v.conId not in by_ID:\n",
    "            by_ID[v.conId] = extract_contract_info(v)"
   ],
   "metadata": {
    "collapsed": false,
    "ExecuteTime": {
     "end_time": "2023-08-25T14:54:33.465675900Z",
     "start_time": "2023-08-25T14:54:33.395014300Z"
    }
   },
   "id": "3a963916184d8ef4"
  },
  {
   "cell_type": "code",
   "execution_count": 10,
   "outputs": [],
   "source": [
    "# save_json(by_ID, root / 'all-stoxx-contracts.json');"
   ],
   "metadata": {
    "collapsed": false,
    "ExecuteTime": {
     "end_time": "2023-08-25T14:54:33.466678500Z",
     "start_time": "2023-08-25T14:54:33.406112900Z"
    }
   },
   "id": "237ce026f4de48e3"
  },
  {
   "cell_type": "code",
   "execution_count": 11,
   "outputs": [
    {
     "data": {
      "text/plain": "130"
     },
     "execution_count": 11,
     "metadata": {},
     "output_type": "execute_result"
    }
   ],
   "source": [
    "by_ID = load_json(root / 'all-stoxx-contracts.json')\n",
    "len(by_ID)"
   ],
   "metadata": {
    "collapsed": false,
    "ExecuteTime": {
     "end_time": "2023-08-25T14:54:57.384708500Z",
     "start_time": "2023-08-25T14:54:57.352113Z"
    }
   },
   "id": "90570bfcdd0fa6c7"
  },
  {
   "cell_type": "code",
   "execution_count": 12,
   "outputs": [
    {
     "data": {
      "text/plain": "50"
     },
     "execution_count": 12,
     "metadata": {},
     "output_type": "execute_result"
    }
   ],
   "source": [
    "eur = [v for v in by_ID.values() if v['currency'] == 'EUR']\n",
    "len(eur)"
   ],
   "metadata": {
    "collapsed": false,
    "ExecuteTime": {
     "end_time": "2023-08-25T14:55:03.000403900Z",
     "start_time": "2023-08-25T14:55:02.985759Z"
    }
   },
   "id": "6855f07f08d5f683"
  },
  {
   "cell_type": "code",
   "execution_count": 17,
   "outputs": [
    {
     "data": {
      "text/plain": "  0%|          | 0/50 [00:00<?, ?it/s]",
      "application/vnd.jupyter.widget-view+json": {
       "version_major": 2,
       "version_minor": 0,
       "model_id": "2a6128edf54d4421a410f84ce68c81c3"
      }
     },
     "metadata": {},
     "output_type": "display_data"
    }
   ],
   "source": [
    "snaps = [ibe.snapshot(contract_from_info(e)) for e in tqdmd(eur, lambda v: v['symbol'])]"
   ],
   "metadata": {
    "collapsed": false,
    "ExecuteTime": {
     "end_time": "2023-08-25T14:58:59.405959100Z",
     "start_time": "2023-08-25T14:58:36.155617200Z"
    }
   },
   "id": "bcd73d636e9816bc"
  },
  {
   "cell_type": "code",
   "execution_count": 18,
   "outputs": [],
   "source": [],
   "metadata": {
    "collapsed": false,
    "ExecuteTime": {
     "end_time": "2023-08-25T14:59:40.006192100Z",
     "start_time": "2023-08-25T14:59:39.975098200Z"
    }
   },
   "id": "4bc480409e41bc25"
  },
  {
   "cell_type": "code",
   "execution_count": 19,
   "outputs": [
    {
     "data": {
      "text/plain": "50"
     },
     "execution_count": 19,
     "metadata": {},
     "output_type": "execute_result"
    }
   ],
   "source": [
    "snap_dicts = [xmltodict.parse(s) for e, s in zip(eur, snaps)]\n",
    "len(snap_dicts)"
   ],
   "metadata": {
    "collapsed": false,
    "ExecuteTime": {
     "end_time": "2023-08-25T15:00:38.592745500Z",
     "start_time": "2023-08-25T15:00:38.482966800Z"
    }
   },
   "id": "1f992ce5364ea30a"
  },
  {
   "cell_type": "code",
   "execution_count": 22,
   "outputs": [],
   "source": [
    "# save_json(snap_dicts, root / 'all-stoxx-snapshots.json')"
   ],
   "metadata": {
    "collapsed": false,
    "ExecuteTime": {
     "end_time": "2023-08-25T15:10:22.422084400Z",
     "start_time": "2023-08-25T15:10:22.249059400Z"
    }
   },
   "id": "743a4f4c85bcc4db"
  },
  {
   "cell_type": "code",
   "execution_count": 23,
   "outputs": [],
   "source": [
    "out = xmltodict.parse(ibe.recommendations(contract_from_info(eur[0])))"
   ],
   "metadata": {
    "collapsed": false,
    "ExecuteTime": {
     "end_time": "2023-08-25T15:15:54.232120100Z",
     "start_time": "2023-08-25T15:15:52.289273200Z"
    }
   },
   "id": "f3a287446015ec7f"
  },
  {
   "cell_type": "code",
   "execution_count": null,
   "outputs": [],
   "source": [],
   "metadata": {
    "collapsed": false
   },
   "id": "4d94c062bd8c0d23"
  },
  {
   "cell_type": "code",
   "execution_count": 15,
   "outputs": [],
   "source": [
    "from pathlib import Path\n",
    "import pandas as pd\n",
    "from omnibelt import load_csv, save_json, load_json, load_yaml, save_yaml\n",
    "from stox import misc"
   ],
   "metadata": {
    "collapsed": false,
    "ExecuteTime": {
     "end_time": "2023-10-17T18:50:03.228458300Z",
     "start_time": "2023-10-17T18:50:03.198376500Z"
    }
   },
   "id": "70e89d211d4f4968"
  },
  {
   "cell_type": "code",
   "execution_count": 48,
   "outputs": [],
   "source": [
    "root = misc.assets_root() / 'dis'\n",
    "base_path = root / 'stoxx50-oct9.yaml'\n",
    "# path = root / 'stoxx50-oct9.json'"
   ],
   "metadata": {
    "collapsed": false,
    "ExecuteTime": {
     "end_time": "2023-10-17T20:53:37.233771400Z",
     "start_time": "2023-10-17T20:53:37.204503200Z"
    }
   },
   "id": "a750679774c440ea"
  },
  {
   "cell_type": "code",
   "execution_count": 49,
   "outputs": [
    {
     "data": {
      "text/plain": "(241, 241)"
     },
     "execution_count": 49,
     "metadata": {},
     "output_type": "execute_result"
    }
   ],
   "source": [
    "base = load_yaml(base_path)\n",
    "tks = [v['ticker'] for v in base['tickers']]\n",
    "len(tks), len(set(tks))"
   ],
   "metadata": {
    "collapsed": false,
    "ExecuteTime": {
     "end_time": "2023-10-17T20:53:37.586990300Z",
     "start_time": "2023-10-17T20:53:37.554419200Z"
    }
   },
   "id": "1edf16f3eb5370c4"
  },
  {
   "cell_type": "code",
   "execution_count": null,
   "outputs": [],
   "source": [],
   "metadata": {
    "collapsed": false
   },
   "id": "65e0c11b95df0440"
  },
  {
   "cell_type": "code",
   "execution_count": 11,
   "outputs": [
    {
     "data": {
      "text/plain": "49"
     },
     "execution_count": 11,
     "metadata": {},
     "output_type": "execute_result"
    }
   ],
   "source": [
    "# assert path.exists()\n",
    "# base = load_yaml(base_path)\n",
    "# raw = load_json(path)\n",
    "# len(raw)"
   ],
   "metadata": {
    "collapsed": false,
    "ExecuteTime": {
     "end_time": "2023-10-17T18:37:58.837464900Z",
     "start_time": "2023-10-17T18:37:58.751170400Z"
    }
   },
   "id": "b3dc51cd5b52850d"
  },
  {
   "cell_type": "code",
   "execution_count": 13,
   "outputs": [
    {
     "data": {
      "text/plain": "241"
     },
     "execution_count": 13,
     "metadata": {},
     "output_type": "execute_result"
    }
   ],
   "source": [
    "report = {'tickers': []}\n",
    "for k, v in raw.items():\n",
    "    report['tickers'].append({'ticker': k, 'sel': True, 'weight': v})\n",
    "report['tickers'].extend([{'ticker': v['ticker']} for v in base['tickers'] if v['ticker'] not in raw])\n",
    "len(report['tickers'])"
   ],
   "metadata": {
    "collapsed": false,
    "ExecuteTime": {
     "end_time": "2023-10-17T18:39:51.941386900Z",
     "start_time": "2023-10-17T18:39:51.922993200Z"
    }
   },
   "id": "e686277035293183"
  },
  {
   "cell_type": "code",
   "execution_count": 14,
   "outputs": [],
   "source": [
    "# save_yaml(report, root / 'stoxx50-oct9.yaml')"
   ],
   "metadata": {
    "collapsed": false,
    "ExecuteTime": {
     "end_time": "2023-10-17T18:42:00.191581200Z",
     "start_time": "2023-10-17T18:42:00.170573300Z"
    }
   },
   "id": "48a45ba0f8eae90e"
  },
  {
   "cell_type": "code",
   "execution_count": 16,
   "outputs": [
    {
     "data": {
      "text/plain": "      Ticker                  Company Name      Country              Sector  \\\n0    0EXG.IL  Jerónimo Martins, SGPS, S.A.     Portugal  Consumer Defensive   \n1    1COV.DE                   Covestro AG      Germany     Basic Materials   \n2     ABI.BR    Anheuser-Busch InBev SA/NV      Belgium  Consumer Defensive   \n3     ABN.AS            ABN AMRO Bank N.V.  Netherlands  Financial Services   \n4      AC.PA                      Accor SA       France   Consumer Cyclical   \n..       ...                           ...          ...                 ...   \n234   WDP.BR            Warehouses De Pauw      Belgium         Real Estate   \n235   WIE.VI               Wienerberger AG      Austria     Basic Materials   \n236   WKL.AS           Wolters Kluwer N.V.  Netherlands         Industrials   \n237   WLN.PA                  Worldline SA       France          Technology   \n238   ZAL.DE                    Zalando SE      Germany   Consumer Cyclical   \n\n                        Industry  10 Day Average Volume     Price  \\\n0              Food Distribution                 230674  21.6 EUR   \n1            Specialty Chemicals                1011680  50.7 EUR   \n2              Beverages—Brewers                1314375  50.9 EUR   \n3              Banks—Diversified                3428291  13.2 EUR   \n4                        Lodging                 745791  32.4 EUR   \n..                           ...                    ...       ...   \n234              REIT—Industrial                 312079  22.7 EUR   \n235           Building Materials                 196126  23.8 EUR   \n236  Specialty Business Services                 533386   113 EUR   \n237      Software—Infrastructure                 748223    27 EUR   \n238              Internet Retail                1436897  21.2 EUR   \n\n     Current Shares Dividend Yield Recommendation Key  ...  Forward P/E  \\\n0                22         2.55 %               none  ...          NaN   \n1                 0            0 %                buy  ...    19.045113   \n2                 3         1.46 %                buy  ...    15.230539   \n3                 0         9.84 %               hold  ...     5.303213   \n4                 0          2.2 %                buy  ...    16.175000   \n..              ...            ...                ...  ...          ...   \n234              25         4.31 %               hold  ...    15.791666   \n235               0         3.82 %                buy  ...     7.745929   \n236               0         1.67 %                buy  ...    23.604166   \n237               0            0 %                buy  ...     9.418119   \n238              12            0 %                buy  ...    40.750004   \n\n    Trailing EPS Forward EPS 52 Week Change  \\\n0           1.09         NaN        +3.16 %   \n1          -4.47        2.66        +73.3 %   \n2           2.87        3.34        +8.39 %   \n3           2.71        2.49        +45.5 %   \n4           2.03        2.00        +48.9 %   \n..           ...         ...            ...   \n234        -0.45        1.44        -3.89 %   \n235         4.41        3.07        +15.7 %   \n236         4.18        4.80        +16.7 %   \n237         0.83        2.87        -35.6 %   \n238         0.30        0.52        +4.49 %   \n\n    52 Week Relative Price (1=52 week high, 0=52 week low)  Log Market Cap  \\\n0                                             0.366931           10.159659   \n1                                             0.870405            9.980529   \n2                                             0.323413           11.009414   \n3                                             0.543758           10.073495   \n4                                             0.788904            9.951598   \n..                                                 ...                 ...   \n234                                           0.015152            9.684880   \n235                                           0.388303            9.398999   \n236                                           0.631463           10.440227   \n237                                           0.062696            9.905877   \n238                                           0.075479            9.739387   \n\n     Overall Risk (1-10)  Percent of Shares Held by Institutions  \\\n0                   10.0                               24.534000   \n1                    2.0                               55.899000   \n2                    8.0                               14.675000   \n3                    3.0                               39.771000   \n4                    8.0                               52.854997   \n..                   ...                                     ...   \n234                  1.0                               35.825002   \n235                  2.0                               55.573004   \n236                  1.0                               66.273004   \n237                  2.0                               55.799000   \n238                  5.0                               60.481000   \n\n     Percent of Shares Held by Insiders  \\\n0                             56.183000   \n1                              4.578000   \n2                             48.661998   \n3                              6.647000   \n4                             20.865000   \n..                                  ...   \n234                           21.603000   \n235                            1.301000   \n236                            0.041000   \n237                           11.505999   \n238                           10.089000   \n\n                                   Company Description  \n0    Jerónimo Martins, SGPS, S.A. operates in the f...  \n1    Covestro AG supplies high-tech polymer materia...  \n2    Anheuser-Busch InBev SA/NV produces, distribut...  \n3    ABN AMRO Bank N.V. provides various banking pr...  \n4    Accor SA operates a chain of hotels worldwide....  \n..                                                 ...  \n234  WDP develops and invests in logistics real est...  \n235  Wienerberger AG produces and sells bricks, roo...  \n236  Wolters Kluwer N.V. provides professional info...  \n237  Worldline SA provides payments and transaction...  \n238  Zalando SE operates an online platform for fas...  \n\n[239 rows x 28 columns]",
      "text/html": "<div>\n<style scoped>\n    .dataframe tbody tr th:only-of-type {\n        vertical-align: middle;\n    }\n\n    .dataframe tbody tr th {\n        vertical-align: top;\n    }\n\n    .dataframe thead th {\n        text-align: right;\n    }\n</style>\n<table border=\"1\" class=\"dataframe\">\n  <thead>\n    <tr style=\"text-align: right;\">\n      <th></th>\n      <th>Ticker</th>\n      <th>Company Name</th>\n      <th>Country</th>\n      <th>Sector</th>\n      <th>Industry</th>\n      <th>10 Day Average Volume</th>\n      <th>Price</th>\n      <th>Current Shares</th>\n      <th>Dividend Yield</th>\n      <th>Recommendation Key</th>\n      <th>...</th>\n      <th>Forward P/E</th>\n      <th>Trailing EPS</th>\n      <th>Forward EPS</th>\n      <th>52 Week Change</th>\n      <th>52 Week Relative Price (1=52 week high, 0=52 week low)</th>\n      <th>Log Market Cap</th>\n      <th>Overall Risk (1-10)</th>\n      <th>Percent of Shares Held by Institutions</th>\n      <th>Percent of Shares Held by Insiders</th>\n      <th>Company Description</th>\n    </tr>\n  </thead>\n  <tbody>\n    <tr>\n      <th>0</th>\n      <td>0EXG.IL</td>\n      <td>Jerónimo Martins, SGPS, S.A.</td>\n      <td>Portugal</td>\n      <td>Consumer Defensive</td>\n      <td>Food Distribution</td>\n      <td>230674</td>\n      <td>21.6 EUR</td>\n      <td>22</td>\n      <td>2.55 %</td>\n      <td>none</td>\n      <td>...</td>\n      <td>NaN</td>\n      <td>1.09</td>\n      <td>NaN</td>\n      <td>+3.16 %</td>\n      <td>0.366931</td>\n      <td>10.159659</td>\n      <td>10.0</td>\n      <td>24.534000</td>\n      <td>56.183000</td>\n      <td>Jerónimo Martins, SGPS, S.A. operates in the f...</td>\n    </tr>\n    <tr>\n      <th>1</th>\n      <td>1COV.DE</td>\n      <td>Covestro AG</td>\n      <td>Germany</td>\n      <td>Basic Materials</td>\n      <td>Specialty Chemicals</td>\n      <td>1011680</td>\n      <td>50.7 EUR</td>\n      <td>0</td>\n      <td>0 %</td>\n      <td>buy</td>\n      <td>...</td>\n      <td>19.045113</td>\n      <td>-4.47</td>\n      <td>2.66</td>\n      <td>+73.3 %</td>\n      <td>0.870405</td>\n      <td>9.980529</td>\n      <td>2.0</td>\n      <td>55.899000</td>\n      <td>4.578000</td>\n      <td>Covestro AG supplies high-tech polymer materia...</td>\n    </tr>\n    <tr>\n      <th>2</th>\n      <td>ABI.BR</td>\n      <td>Anheuser-Busch InBev SA/NV</td>\n      <td>Belgium</td>\n      <td>Consumer Defensive</td>\n      <td>Beverages—Brewers</td>\n      <td>1314375</td>\n      <td>50.9 EUR</td>\n      <td>3</td>\n      <td>1.46 %</td>\n      <td>buy</td>\n      <td>...</td>\n      <td>15.230539</td>\n      <td>2.87</td>\n      <td>3.34</td>\n      <td>+8.39 %</td>\n      <td>0.323413</td>\n      <td>11.009414</td>\n      <td>8.0</td>\n      <td>14.675000</td>\n      <td>48.661998</td>\n      <td>Anheuser-Busch InBev SA/NV produces, distribut...</td>\n    </tr>\n    <tr>\n      <th>3</th>\n      <td>ABN.AS</td>\n      <td>ABN AMRO Bank N.V.</td>\n      <td>Netherlands</td>\n      <td>Financial Services</td>\n      <td>Banks—Diversified</td>\n      <td>3428291</td>\n      <td>13.2 EUR</td>\n      <td>0</td>\n      <td>9.84 %</td>\n      <td>hold</td>\n      <td>...</td>\n      <td>5.303213</td>\n      <td>2.71</td>\n      <td>2.49</td>\n      <td>+45.5 %</td>\n      <td>0.543758</td>\n      <td>10.073495</td>\n      <td>3.0</td>\n      <td>39.771000</td>\n      <td>6.647000</td>\n      <td>ABN AMRO Bank N.V. provides various banking pr...</td>\n    </tr>\n    <tr>\n      <th>4</th>\n      <td>AC.PA</td>\n      <td>Accor SA</td>\n      <td>France</td>\n      <td>Consumer Cyclical</td>\n      <td>Lodging</td>\n      <td>745791</td>\n      <td>32.4 EUR</td>\n      <td>0</td>\n      <td>2.2 %</td>\n      <td>buy</td>\n      <td>...</td>\n      <td>16.175000</td>\n      <td>2.03</td>\n      <td>2.00</td>\n      <td>+48.9 %</td>\n      <td>0.788904</td>\n      <td>9.951598</td>\n      <td>8.0</td>\n      <td>52.854997</td>\n      <td>20.865000</td>\n      <td>Accor SA operates a chain of hotels worldwide....</td>\n    </tr>\n    <tr>\n      <th>...</th>\n      <td>...</td>\n      <td>...</td>\n      <td>...</td>\n      <td>...</td>\n      <td>...</td>\n      <td>...</td>\n      <td>...</td>\n      <td>...</td>\n      <td>...</td>\n      <td>...</td>\n      <td>...</td>\n      <td>...</td>\n      <td>...</td>\n      <td>...</td>\n      <td>...</td>\n      <td>...</td>\n      <td>...</td>\n      <td>...</td>\n      <td>...</td>\n      <td>...</td>\n      <td>...</td>\n    </tr>\n    <tr>\n      <th>234</th>\n      <td>WDP.BR</td>\n      <td>Warehouses De Pauw</td>\n      <td>Belgium</td>\n      <td>Real Estate</td>\n      <td>REIT—Industrial</td>\n      <td>312079</td>\n      <td>22.7 EUR</td>\n      <td>25</td>\n      <td>4.31 %</td>\n      <td>hold</td>\n      <td>...</td>\n      <td>15.791666</td>\n      <td>-0.45</td>\n      <td>1.44</td>\n      <td>-3.89 %</td>\n      <td>0.015152</td>\n      <td>9.684880</td>\n      <td>1.0</td>\n      <td>35.825002</td>\n      <td>21.603000</td>\n      <td>WDP develops and invests in logistics real est...</td>\n    </tr>\n    <tr>\n      <th>235</th>\n      <td>WIE.VI</td>\n      <td>Wienerberger AG</td>\n      <td>Austria</td>\n      <td>Basic Materials</td>\n      <td>Building Materials</td>\n      <td>196126</td>\n      <td>23.8 EUR</td>\n      <td>0</td>\n      <td>3.82 %</td>\n      <td>buy</td>\n      <td>...</td>\n      <td>7.745929</td>\n      <td>4.41</td>\n      <td>3.07</td>\n      <td>+15.7 %</td>\n      <td>0.388303</td>\n      <td>9.398999</td>\n      <td>2.0</td>\n      <td>55.573004</td>\n      <td>1.301000</td>\n      <td>Wienerberger AG produces and sells bricks, roo...</td>\n    </tr>\n    <tr>\n      <th>236</th>\n      <td>WKL.AS</td>\n      <td>Wolters Kluwer N.V.</td>\n      <td>Netherlands</td>\n      <td>Industrials</td>\n      <td>Specialty Business Services</td>\n      <td>533386</td>\n      <td>113 EUR</td>\n      <td>0</td>\n      <td>1.67 %</td>\n      <td>buy</td>\n      <td>...</td>\n      <td>23.604166</td>\n      <td>4.18</td>\n      <td>4.80</td>\n      <td>+16.7 %</td>\n      <td>0.631463</td>\n      <td>10.440227</td>\n      <td>1.0</td>\n      <td>66.273004</td>\n      <td>0.041000</td>\n      <td>Wolters Kluwer N.V. provides professional info...</td>\n    </tr>\n    <tr>\n      <th>237</th>\n      <td>WLN.PA</td>\n      <td>Worldline SA</td>\n      <td>France</td>\n      <td>Technology</td>\n      <td>Software—Infrastructure</td>\n      <td>748223</td>\n      <td>27 EUR</td>\n      <td>0</td>\n      <td>0 %</td>\n      <td>buy</td>\n      <td>...</td>\n      <td>9.418119</td>\n      <td>0.83</td>\n      <td>2.87</td>\n      <td>-35.6 %</td>\n      <td>0.062696</td>\n      <td>9.905877</td>\n      <td>2.0</td>\n      <td>55.799000</td>\n      <td>11.505999</td>\n      <td>Worldline SA provides payments and transaction...</td>\n    </tr>\n    <tr>\n      <th>238</th>\n      <td>ZAL.DE</td>\n      <td>Zalando SE</td>\n      <td>Germany</td>\n      <td>Consumer Cyclical</td>\n      <td>Internet Retail</td>\n      <td>1436897</td>\n      <td>21.2 EUR</td>\n      <td>12</td>\n      <td>0 %</td>\n      <td>buy</td>\n      <td>...</td>\n      <td>40.750004</td>\n      <td>0.30</td>\n      <td>0.52</td>\n      <td>+4.49 %</td>\n      <td>0.075479</td>\n      <td>9.739387</td>\n      <td>5.0</td>\n      <td>60.481000</td>\n      <td>10.089000</td>\n      <td>Zalando SE operates an online platform for fas...</td>\n    </tr>\n  </tbody>\n</table>\n<p>239 rows × 28 columns</p>\n</div>"
     },
     "execution_count": 16,
     "metadata": {},
     "output_type": "execute_result"
    }
   ],
   "source": [
    "stats = pd.read_csv(root / '..' / 'euro-stats-sep28.csv')\n",
    "stats"
   ],
   "metadata": {
    "collapsed": false,
    "ExecuteTime": {
     "end_time": "2023-10-17T18:50:37.940085400Z",
     "start_time": "2023-10-17T18:50:37.795593600Z"
    }
   },
   "id": "8264731a7b880ac7"
  },
  {
   "cell_type": "code",
   "execution_count": 23,
   "outputs": [
    {
     "data": {
      "text/plain": "      Ticker     Price  Current Shares\n0    0EXG.IL  21.6 EUR              22\n1    1COV.DE  50.7 EUR               0\n2     ABI.BR  50.9 EUR               3\n3     ABN.AS  13.2 EUR               0\n4      AC.PA  32.4 EUR               0\n..       ...       ...             ...\n234   WDP.BR  22.7 EUR              25\n235   WIE.VI  23.8 EUR               0\n236   WKL.AS   113 EUR               0\n237   WLN.PA    27 EUR               0\n238   ZAL.DE  21.2 EUR              12\n\n[239 rows x 3 columns]",
      "text/html": "<div>\n<style scoped>\n    .dataframe tbody tr th:only-of-type {\n        vertical-align: middle;\n    }\n\n    .dataframe tbody tr th {\n        vertical-align: top;\n    }\n\n    .dataframe thead th {\n        text-align: right;\n    }\n</style>\n<table border=\"1\" class=\"dataframe\">\n  <thead>\n    <tr style=\"text-align: right;\">\n      <th></th>\n      <th>Ticker</th>\n      <th>Price</th>\n      <th>Current Shares</th>\n    </tr>\n  </thead>\n  <tbody>\n    <tr>\n      <th>0</th>\n      <td>0EXG.IL</td>\n      <td>21.6 EUR</td>\n      <td>22</td>\n    </tr>\n    <tr>\n      <th>1</th>\n      <td>1COV.DE</td>\n      <td>50.7 EUR</td>\n      <td>0</td>\n    </tr>\n    <tr>\n      <th>2</th>\n      <td>ABI.BR</td>\n      <td>50.9 EUR</td>\n      <td>3</td>\n    </tr>\n    <tr>\n      <th>3</th>\n      <td>ABN.AS</td>\n      <td>13.2 EUR</td>\n      <td>0</td>\n    </tr>\n    <tr>\n      <th>4</th>\n      <td>AC.PA</td>\n      <td>32.4 EUR</td>\n      <td>0</td>\n    </tr>\n    <tr>\n      <th>...</th>\n      <td>...</td>\n      <td>...</td>\n      <td>...</td>\n    </tr>\n    <tr>\n      <th>234</th>\n      <td>WDP.BR</td>\n      <td>22.7 EUR</td>\n      <td>25</td>\n    </tr>\n    <tr>\n      <th>235</th>\n      <td>WIE.VI</td>\n      <td>23.8 EUR</td>\n      <td>0</td>\n    </tr>\n    <tr>\n      <th>236</th>\n      <td>WKL.AS</td>\n      <td>113 EUR</td>\n      <td>0</td>\n    </tr>\n    <tr>\n      <th>237</th>\n      <td>WLN.PA</td>\n      <td>27 EUR</td>\n      <td>0</td>\n    </tr>\n    <tr>\n      <th>238</th>\n      <td>ZAL.DE</td>\n      <td>21.2 EUR</td>\n      <td>12</td>\n    </tr>\n  </tbody>\n</table>\n<p>239 rows × 3 columns</p>\n</div>"
     },
     "execution_count": 23,
     "metadata": {},
     "output_type": "execute_result"
    }
   ],
   "source": [
    "df = stats[['Ticker', 'Price', 'Current Shares']]#.to_dict()\n",
    "df"
   ],
   "metadata": {
    "collapsed": false,
    "ExecuteTime": {
     "end_time": "2023-10-17T18:59:16.548315Z",
     "start_time": "2023-10-17T18:59:16.522522800Z"
    }
   },
   "id": "8a83a39ed062839d"
  },
  {
   "cell_type": "code",
   "execution_count": 27,
   "outputs": [
    {
     "name": "stderr",
     "output_type": "stream",
     "text": [
      "C:\\Users\\anwan\\AppData\\Local\\Temp\\ipykernel_29744\\2794366516.py:2: SettingWithCopyWarning: \n",
      "A value is trying to be set on a copy of a slice from a DataFrame.\n",
      "Try using .loc[row_indexer,col_indexer] = value instead\n",
      "\n",
      "See the caveats in the documentation: https://pandas.pydata.org/pandas-docs/stable/user_guide/indexing.html#returning-a-view-versus-a-copy\n",
      "  df['price'] = df.apply(lambda r: 1000.**('k' in r['Price'].lower()) * float(r['Price'].replace(' EUR', '').replace('k', '').strip()), axis=1)\n"
     ]
    }
   ],
   "source": [
    "# parse prices\n",
    "df['price'] = df.apply(lambda r: 1000.**('k' in r['Price'].lower()) * float(r['Price'].replace(' EUR', '').replace('k', '').strip()), axis=1)"
   ],
   "metadata": {
    "collapsed": false,
    "ExecuteTime": {
     "end_time": "2023-10-17T19:02:32.258648800Z",
     "start_time": "2023-10-17T19:02:32.234593100Z"
    }
   },
   "id": "de310089cc0dfb73"
  },
  {
   "cell_type": "code",
   "execution_count": 29,
   "outputs": [
    {
     "name": "stderr",
     "output_type": "stream",
     "text": [
      "C:\\Users\\anwan\\AppData\\Local\\Temp\\ipykernel_29744\\3214104937.py:1: SettingWithCopyWarning: \n",
      "A value is trying to be set on a copy of a slice from a DataFrame.\n",
      "Try using .loc[row_indexer,col_indexer] = value instead\n",
      "\n",
      "See the caveats in the documentation: https://pandas.pydata.org/pandas-docs/stable/user_guide/indexing.html#returning-a-view-versus-a-copy\n",
      "  df['values'] = df.apply(lambda r: r['price'] * r['Current Shares'], axis=1)\n"
     ]
    },
    {
     "data": {
      "text/plain": "      Ticker     Price  Current Shares  price  values\n0    0EXG.IL  21.6 EUR              22   21.6   475.2\n1    1COV.DE  50.7 EUR               0   50.7     0.0\n2     ABI.BR  50.9 EUR               3   50.9   152.7\n3     ABN.AS  13.2 EUR               0   13.2     0.0\n4      AC.PA  32.4 EUR               0   32.4     0.0\n..       ...       ...             ...    ...     ...\n234   WDP.BR  22.7 EUR              25   22.7   567.5\n235   WIE.VI  23.8 EUR               0   23.8     0.0\n236   WKL.AS   113 EUR               0  113.0     0.0\n237   WLN.PA    27 EUR               0   27.0     0.0\n238   ZAL.DE  21.2 EUR              12   21.2   254.4\n\n[239 rows x 5 columns]",
      "text/html": "<div>\n<style scoped>\n    .dataframe tbody tr th:only-of-type {\n        vertical-align: middle;\n    }\n\n    .dataframe tbody tr th {\n        vertical-align: top;\n    }\n\n    .dataframe thead th {\n        text-align: right;\n    }\n</style>\n<table border=\"1\" class=\"dataframe\">\n  <thead>\n    <tr style=\"text-align: right;\">\n      <th></th>\n      <th>Ticker</th>\n      <th>Price</th>\n      <th>Current Shares</th>\n      <th>price</th>\n      <th>values</th>\n    </tr>\n  </thead>\n  <tbody>\n    <tr>\n      <th>0</th>\n      <td>0EXG.IL</td>\n      <td>21.6 EUR</td>\n      <td>22</td>\n      <td>21.6</td>\n      <td>475.2</td>\n    </tr>\n    <tr>\n      <th>1</th>\n      <td>1COV.DE</td>\n      <td>50.7 EUR</td>\n      <td>0</td>\n      <td>50.7</td>\n      <td>0.0</td>\n    </tr>\n    <tr>\n      <th>2</th>\n      <td>ABI.BR</td>\n      <td>50.9 EUR</td>\n      <td>3</td>\n      <td>50.9</td>\n      <td>152.7</td>\n    </tr>\n    <tr>\n      <th>3</th>\n      <td>ABN.AS</td>\n      <td>13.2 EUR</td>\n      <td>0</td>\n      <td>13.2</td>\n      <td>0.0</td>\n    </tr>\n    <tr>\n      <th>4</th>\n      <td>AC.PA</td>\n      <td>32.4 EUR</td>\n      <td>0</td>\n      <td>32.4</td>\n      <td>0.0</td>\n    </tr>\n    <tr>\n      <th>...</th>\n      <td>...</td>\n      <td>...</td>\n      <td>...</td>\n      <td>...</td>\n      <td>...</td>\n    </tr>\n    <tr>\n      <th>234</th>\n      <td>WDP.BR</td>\n      <td>22.7 EUR</td>\n      <td>25</td>\n      <td>22.7</td>\n      <td>567.5</td>\n    </tr>\n    <tr>\n      <th>235</th>\n      <td>WIE.VI</td>\n      <td>23.8 EUR</td>\n      <td>0</td>\n      <td>23.8</td>\n      <td>0.0</td>\n    </tr>\n    <tr>\n      <th>236</th>\n      <td>WKL.AS</td>\n      <td>113 EUR</td>\n      <td>0</td>\n      <td>113.0</td>\n      <td>0.0</td>\n    </tr>\n    <tr>\n      <th>237</th>\n      <td>WLN.PA</td>\n      <td>27 EUR</td>\n      <td>0</td>\n      <td>27.0</td>\n      <td>0.0</td>\n    </tr>\n    <tr>\n      <th>238</th>\n      <td>ZAL.DE</td>\n      <td>21.2 EUR</td>\n      <td>12</td>\n      <td>21.2</td>\n      <td>254.4</td>\n    </tr>\n  </tbody>\n</table>\n<p>239 rows × 5 columns</p>\n</div>"
     },
     "execution_count": 29,
     "metadata": {},
     "output_type": "execute_result"
    }
   ],
   "source": [
    "df['values'] = df.apply(lambda r: r['price'] * r['Current Shares'], axis=1)\n",
    "df"
   ],
   "metadata": {
    "collapsed": false,
    "ExecuteTime": {
     "end_time": "2023-10-17T19:08:00.716914600Z",
     "start_time": "2023-10-17T19:08:00.677177600Z"
    }
   },
   "id": "c01e9c676adb8afa"
  },
  {
   "cell_type": "code",
   "execution_count": 31,
   "outputs": [],
   "source": [
    "total = df['values'].sum()"
   ],
   "metadata": {
    "collapsed": false,
    "ExecuteTime": {
     "end_time": "2023-10-17T19:08:29.310835100Z",
     "start_time": "2023-10-17T19:08:29.306831300Z"
    }
   },
   "id": "6c9dfde597b0a0ad"
  },
  {
   "cell_type": "code",
   "execution_count": 33,
   "outputs": [
    {
     "name": "stderr",
     "output_type": "stream",
     "text": [
      "C:\\Users\\anwan\\AppData\\Local\\Temp\\ipykernel_29744\\1728317906.py:1: SettingWithCopyWarning: \n",
      "A value is trying to be set on a copy of a slice from a DataFrame.\n",
      "Try using .loc[row_indexer,col_indexer] = value instead\n",
      "\n",
      "See the caveats in the documentation: https://pandas.pydata.org/pandas-docs/stable/user_guide/indexing.html#returning-a-view-versus-a-copy\n",
      "  df['pct'] = df.apply(lambda r: 100 * r['values'] / total, axis=1)\n"
     ]
    },
    {
     "data": {
      "text/plain": "      Ticker     Price  Current Shares  price  values       pct\n0    0EXG.IL  21.6 EUR              22   21.6   475.2  1.312861\n1    1COV.DE  50.7 EUR               0   50.7     0.0  0.000000\n2     ABI.BR  50.9 EUR               3   50.9   152.7  0.421873\n3     ABN.AS  13.2 EUR               0   13.2     0.0  0.000000\n4      AC.PA  32.4 EUR               0   32.4     0.0  0.000000\n..       ...       ...             ...    ...     ...       ...\n234   WDP.BR  22.7 EUR              25   22.7   567.5  1.567864\n235   WIE.VI  23.8 EUR               0   23.8     0.0  0.000000\n236   WKL.AS   113 EUR               0  113.0     0.0  0.000000\n237   WLN.PA    27 EUR               0   27.0     0.0  0.000000\n238   ZAL.DE  21.2 EUR              12   21.2   254.4  0.702845\n\n[239 rows x 6 columns]",
      "text/html": "<div>\n<style scoped>\n    .dataframe tbody tr th:only-of-type {\n        vertical-align: middle;\n    }\n\n    .dataframe tbody tr th {\n        vertical-align: top;\n    }\n\n    .dataframe thead th {\n        text-align: right;\n    }\n</style>\n<table border=\"1\" class=\"dataframe\">\n  <thead>\n    <tr style=\"text-align: right;\">\n      <th></th>\n      <th>Ticker</th>\n      <th>Price</th>\n      <th>Current Shares</th>\n      <th>price</th>\n      <th>values</th>\n      <th>pct</th>\n    </tr>\n  </thead>\n  <tbody>\n    <tr>\n      <th>0</th>\n      <td>0EXG.IL</td>\n      <td>21.6 EUR</td>\n      <td>22</td>\n      <td>21.6</td>\n      <td>475.2</td>\n      <td>1.312861</td>\n    </tr>\n    <tr>\n      <th>1</th>\n      <td>1COV.DE</td>\n      <td>50.7 EUR</td>\n      <td>0</td>\n      <td>50.7</td>\n      <td>0.0</td>\n      <td>0.000000</td>\n    </tr>\n    <tr>\n      <th>2</th>\n      <td>ABI.BR</td>\n      <td>50.9 EUR</td>\n      <td>3</td>\n      <td>50.9</td>\n      <td>152.7</td>\n      <td>0.421873</td>\n    </tr>\n    <tr>\n      <th>3</th>\n      <td>ABN.AS</td>\n      <td>13.2 EUR</td>\n      <td>0</td>\n      <td>13.2</td>\n      <td>0.0</td>\n      <td>0.000000</td>\n    </tr>\n    <tr>\n      <th>4</th>\n      <td>AC.PA</td>\n      <td>32.4 EUR</td>\n      <td>0</td>\n      <td>32.4</td>\n      <td>0.0</td>\n      <td>0.000000</td>\n    </tr>\n    <tr>\n      <th>...</th>\n      <td>...</td>\n      <td>...</td>\n      <td>...</td>\n      <td>...</td>\n      <td>...</td>\n      <td>...</td>\n    </tr>\n    <tr>\n      <th>234</th>\n      <td>WDP.BR</td>\n      <td>22.7 EUR</td>\n      <td>25</td>\n      <td>22.7</td>\n      <td>567.5</td>\n      <td>1.567864</td>\n    </tr>\n    <tr>\n      <th>235</th>\n      <td>WIE.VI</td>\n      <td>23.8 EUR</td>\n      <td>0</td>\n      <td>23.8</td>\n      <td>0.0</td>\n      <td>0.000000</td>\n    </tr>\n    <tr>\n      <th>236</th>\n      <td>WKL.AS</td>\n      <td>113 EUR</td>\n      <td>0</td>\n      <td>113.0</td>\n      <td>0.0</td>\n      <td>0.000000</td>\n    </tr>\n    <tr>\n      <th>237</th>\n      <td>WLN.PA</td>\n      <td>27 EUR</td>\n      <td>0</td>\n      <td>27.0</td>\n      <td>0.0</td>\n      <td>0.000000</td>\n    </tr>\n    <tr>\n      <th>238</th>\n      <td>ZAL.DE</td>\n      <td>21.2 EUR</td>\n      <td>12</td>\n      <td>21.2</td>\n      <td>254.4</td>\n      <td>0.702845</td>\n    </tr>\n  </tbody>\n</table>\n<p>239 rows × 6 columns</p>\n</div>"
     },
     "execution_count": 33,
     "metadata": {},
     "output_type": "execute_result"
    }
   ],
   "source": [
    "df['pct'] = df.apply(lambda r: 100 * r['values'] / total, axis=1)\n",
    "df"
   ],
   "metadata": {
    "collapsed": false,
    "ExecuteTime": {
     "end_time": "2023-10-17T19:08:56.805865800Z",
     "start_time": "2023-10-17T19:08:56.792690400Z"
    }
   },
   "id": "d71987119828445"
  },
  {
   "cell_type": "code",
   "execution_count": 44,
   "outputs": [
    {
     "data": {
      "text/plain": "239"
     },
     "execution_count": 44,
     "metadata": {},
     "output_type": "execute_result"
    }
   ],
   "source": [
    "tks = []\n",
    "for i, row in df.iterrows():\n",
    "    row = row.to_dict()\n",
    "    tks.append({'ticker': row['Ticker'], 'weight': row['pct']})\n",
    "# tks.extend([{'ticker': v['ticker']} for v in base['tickers'] if v['ticker'] not in df['Ticker']])\n",
    "tks.sort(key=lambda v: (v.get('weight',0.), v['ticker']), reverse=True)\n",
    "len(tks)"
   ],
   "metadata": {
    "collapsed": false,
    "ExecuteTime": {
     "end_time": "2023-10-17T19:23:12.552704300Z",
     "start_time": "2023-10-17T19:23:12.528208400Z"
    }
   },
   "id": "74f69bbf86d9b25b"
  },
  {
   "cell_type": "code",
   "execution_count": 45,
   "outputs": [],
   "source": [
    "# save_yaml({'tickers': tks}, root / 'ibkr-full-jan23.yaml')"
   ],
   "metadata": {
    "collapsed": false,
    "ExecuteTime": {
     "end_time": "2023-10-17T19:24:01.919446800Z",
     "start_time": "2023-10-17T19:24:01.869500Z"
    }
   },
   "id": "c4019abcaa26f67d"
  },
  {
   "cell_type": "code",
   "execution_count": null,
   "outputs": [],
   "source": [],
   "metadata": {
    "collapsed": false
   },
   "id": "1f7235d0715c0bde"
  },
  {
   "cell_type": "code",
   "execution_count": null,
   "outputs": [],
   "source": [],
   "metadata": {
    "collapsed": false
   },
   "id": "5a84657117c738d4"
  },
  {
   "cell_type": "code",
   "execution_count": null,
   "outputs": [],
   "source": [],
   "metadata": {
    "collapsed": false
   },
   "id": "bb75f08535af12fc"
  },
  {
   "cell_type": "code",
   "execution_count": null,
   "outputs": [],
   "source": [],
   "metadata": {
    "collapsed": false
   },
   "id": "b1d3a3c8e187b748"
  },
  {
   "cell_type": "code",
   "execution_count": null,
   "outputs": [],
   "source": [],
   "metadata": {
    "collapsed": false
   },
   "id": "9e3238762115626a"
  }
 ],
 "metadata": {
  "kernelspec": {
   "display_name": "Python 3",
   "language": "python",
   "name": "python3"
  },
  "language_info": {
   "codemirror_mode": {
    "name": "ipython",
    "version": 2
   },
   "file_extension": ".py",
   "mimetype": "text/x-python",
   "name": "python",
   "nbconvert_exporter": "python",
   "pygments_lexer": "ipython2",
   "version": "2.7.6"
  }
 },
 "nbformat": 4,
 "nbformat_minor": 5
}
