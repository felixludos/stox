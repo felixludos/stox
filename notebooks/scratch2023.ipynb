{
 "cells": [
  {
   "cell_type": "code",
   "execution_count": 1,
   "id": "initial_id",
   "metadata": {
    "collapsed": true,
    "ExecuteTime": {
     "end_time": "2023-08-27T11:17:43.373816800Z",
     "start_time": "2023-08-27T11:17:40.949848600Z"
    }
   },
   "outputs": [],
   "source": [
    "import sys, os\n",
    "from pathlib import Path\n",
    "if '_old_cwd' not in locals():\n",
    "    _old_cwd = os.getcwd()\n",
    "    os.chdir(Path(os.getcwd()).parent)\n",
    "    sys.path.append(os.getcwd())\n",
    "# from ib_insync import *\n",
    "# from tqdm.notebook import tqdm\n",
    "from omnibelt import tqdmd_notebook as tqdm\n",
    "from tabulate import tabulate\n",
    "from omnibelt import save_json, load_json\n",
    "from collections import Counter\n",
    "import xmltodict\n",
    "\n",
    "from src.euro import IB_Extractor\n"
   ]
  },
  {
   "cell_type": "code",
   "execution_count": 2,
   "outputs": [],
   "source": [
    "root = Path(os.getcwd()) / 'ibkr'"
   ],
   "metadata": {
    "collapsed": false,
    "ExecuteTime": {
     "end_time": "2023-08-25T14:54:12.312662600Z",
     "start_time": "2023-08-25T14:54:12.299418900Z"
    }
   },
   "id": "ef7b27c91b746698"
  },
  {
   "cell_type": "code",
   "execution_count": 3,
   "outputs": [
    {
     "name": "stderr",
     "output_type": "stream",
     "text": [
      "ERROR:ib_insync.wrapper: Error 321, reqId 2147483647: Error validating request.-'cB' : cause - The API interface is currently in Read-Only mode.\n",
      "ERROR:ib_insync.wrapper: Error 321, reqId -1: Error validating request.-'b_' : cause - The API interface is currently in Read-Only mode.\n",
      "ERROR:ib_insync.ib: open orders request timed out\n",
      "ERROR:ib_insync.ib: completed orders request timed out\n"
     ]
    }
   ],
   "source": [
    "ibe = IB_Extractor(True)"
   ],
   "metadata": {
    "collapsed": false,
    "ExecuteTime": {
     "end_time": "2023-08-25T14:54:16.377491500Z",
     "start_time": "2023-08-25T14:54:12.312662600Z"
    }
   },
   "id": "3226214a69063f7"
  },
  {
   "cell_type": "code",
   "execution_count": 4,
   "outputs": [],
   "source": [
    "raw = ['ASML', 'MC', 'TTE', 'SAP', 'SIE', 'SAN', 'OR', 'SU', 'ALV', 'AI', 'AIR', 'RMS', 'BNP', 'DTE', 'IBE', 'DG', 'SAN1', 'MBG', 'SAF', 'EL', 'CS', 'IFX', 'BAYN', 'PRX', 'ENEL', 'ADYEN', 'INGA', 'ABI', 'MUV2', 'DHL', 'UCG', 'STLAP', 'BBVA', 'BAS', 'ISP', 'RI', 'CRH', 'ITX', 'KER', 'NDA', 'BMW', 'BN', 'DB1', 'FLTR', 'ENI', 'ADS', 'AD', 'VOW3', 'NOKIA', 'VNA']\n",
    "wts = [8.22, 6.88, 4.3, 4.22, 3.63, 3.47, 3.21, 2.89, 2.74, 2.67, 2.46, 2.22, 2.2, 2.15, 2.09, 1.97, 1.89, 1.82, 1.79, 1.73, 1.69, 1.63, 1.63, 1.57, 1.52, 1.51, 1.5, 1.46, 1.46, 1.44, 1.4, 1.37, 1.36, 1.36, 1.33, 1.27, 1.27, 1.21, 1.18, 1.16, 1.11, 1.11, 1.03, 1.0, 0.99, 0.96, 0.96, 0.78, 0.59, 0.45]"
   ],
   "metadata": {
    "collapsed": false,
    "ExecuteTime": {
     "end_time": "2023-08-25T14:54:16.396570700Z",
     "start_time": "2023-08-25T14:54:16.365471700Z"
    }
   },
   "id": "7a7c794bfa68d34a"
  },
  {
   "cell_type": "code",
   "execution_count": 5,
   "outputs": [],
   "source": [
    "cts_data = {}"
   ],
   "metadata": {
    "collapsed": false,
    "ExecuteTime": {
     "end_time": "2023-08-25T14:54:16.399570700Z",
     "start_time": "2023-08-25T14:54:16.380492300Z"
    }
   },
   "id": "1107ab347491844b"
  },
  {
   "cell_type": "code",
   "execution_count": 6,
   "outputs": [
    {
     "data": {
      "text/plain": "  0%|          | 0/50 [00:00<?, ?it/s]",
      "application/vnd.jupyter.widget-view+json": {
       "version_major": 2,
       "version_minor": 0,
       "model_id": "8a925333500f42f5b53819e32679e9f5"
      }
     },
     "metadata": {},
     "output_type": "display_data"
    }
   ],
   "source": [
    "pbar = tqdm(raw)\n",
    "for sym in pbar:\n",
    "    if sym in cts_data:\n",
    "        continue\n",
    "    pbar.set_description(sym)\n",
    "    cts_data[sym] = ibe.find_all_contracts(sym)"
   ],
   "metadata": {
    "collapsed": false,
    "ExecuteTime": {
     "end_time": "2023-08-25T14:54:33.354086200Z",
     "start_time": "2023-08-25T14:54:16.397575800Z"
    }
   },
   "id": "893210ca807766d0"
  },
  {
   "cell_type": "code",
   "execution_count": 16,
   "outputs": [],
   "source": [
    "def extract_contract_info(contract):\n",
    "    return {'currency': contract.currency, 'exchange': contract.exchange, 'symbol': contract.symbol, 'secType': contract.secType, 'conId': contract.conId, 'primaryExchange': contract.primaryExchange}\n",
    "def contract_from_info(info):\n",
    "    return Contract(conId=info['conId'], symbol=info['symbol'], secType=info['secType'], currency=info['currency'], exchange=info['exchange'], primaryExchange=info['primaryExchange'])"
   ],
   "metadata": {
    "collapsed": false,
    "ExecuteTime": {
     "end_time": "2023-08-25T14:58:25.086482200Z",
     "start_time": "2023-08-25T14:58:25.056109Z"
    }
   },
   "id": "63f6093c032d2cf7"
  },
  {
   "cell_type": "code",
   "execution_count": 8,
   "outputs": [
    {
     "data": {
      "text/plain": "50"
     },
     "execution_count": 8,
     "metadata": {},
     "output_type": "execute_result"
    }
   ],
   "source": [
    "cts_options = [[extract_contract_info(c) for c in cts_data[sym]] for sym in raw]\n",
    "len(cts_options)"
   ],
   "metadata": {
    "collapsed": false,
    "ExecuteTime": {
     "end_time": "2023-08-25T14:54:33.447674300Z",
     "start_time": "2023-08-25T14:54:33.371812400Z"
    }
   },
   "id": "fc09c51edec54742"
  },
  {
   "cell_type": "code",
   "execution_count": 9,
   "outputs": [],
   "source": [
    "by_ID = {}\n",
    "for k, vs in cts_data.items():\n",
    "    for v in vs:\n",
    "        if v.conId not in by_ID:\n",
    "            by_ID[v.conId] = extract_contract_info(v)"
   ],
   "metadata": {
    "collapsed": false,
    "ExecuteTime": {
     "end_time": "2023-08-25T14:54:33.465675900Z",
     "start_time": "2023-08-25T14:54:33.395014300Z"
    }
   },
   "id": "3a963916184d8ef4"
  },
  {
   "cell_type": "code",
   "execution_count": 10,
   "outputs": [],
   "source": [
    "# save_json(by_ID, root / 'all-stoxx-contracts.json');"
   ],
   "metadata": {
    "collapsed": false,
    "ExecuteTime": {
     "end_time": "2023-08-25T14:54:33.466678500Z",
     "start_time": "2023-08-25T14:54:33.406112900Z"
    }
   },
   "id": "237ce026f4de48e3"
  },
  {
   "cell_type": "code",
   "execution_count": 11,
   "outputs": [
    {
     "data": {
      "text/plain": "130"
     },
     "execution_count": 11,
     "metadata": {},
     "output_type": "execute_result"
    }
   ],
   "source": [
    "by_ID = load_json(root / 'all-stoxx-contracts.json')\n",
    "len(by_ID)"
   ],
   "metadata": {
    "collapsed": false,
    "ExecuteTime": {
     "end_time": "2023-08-25T14:54:57.384708500Z",
     "start_time": "2023-08-25T14:54:57.352113Z"
    }
   },
   "id": "90570bfcdd0fa6c7"
  },
  {
   "cell_type": "code",
   "execution_count": 12,
   "outputs": [
    {
     "data": {
      "text/plain": "50"
     },
     "execution_count": 12,
     "metadata": {},
     "output_type": "execute_result"
    }
   ],
   "source": [
    "eur = [v for v in by_ID.values() if v['currency'] == 'EUR']\n",
    "len(eur)"
   ],
   "metadata": {
    "collapsed": false,
    "ExecuteTime": {
     "end_time": "2023-08-25T14:55:03.000403900Z",
     "start_time": "2023-08-25T14:55:02.985759Z"
    }
   },
   "id": "6855f07f08d5f683"
  },
  {
   "cell_type": "code",
   "execution_count": 17,
   "outputs": [
    {
     "data": {
      "text/plain": "  0%|          | 0/50 [00:00<?, ?it/s]",
      "application/vnd.jupyter.widget-view+json": {
       "version_major": 2,
       "version_minor": 0,
       "model_id": "2a6128edf54d4421a410f84ce68c81c3"
      }
     },
     "metadata": {},
     "output_type": "display_data"
    }
   ],
   "source": [
    "snaps = [ibe.snapshot(contract_from_info(e)) for e in tqdmd(eur, lambda v: v['symbol'])]"
   ],
   "metadata": {
    "collapsed": false,
    "ExecuteTime": {
     "end_time": "2023-08-25T14:58:59.405959100Z",
     "start_time": "2023-08-25T14:58:36.155617200Z"
    }
   },
   "id": "bcd73d636e9816bc"
  },
  {
   "cell_type": "code",
   "execution_count": 18,
   "outputs": [],
   "source": [],
   "metadata": {
    "collapsed": false,
    "ExecuteTime": {
     "end_time": "2023-08-25T14:59:40.006192100Z",
     "start_time": "2023-08-25T14:59:39.975098200Z"
    }
   },
   "id": "4bc480409e41bc25"
  },
  {
   "cell_type": "code",
   "execution_count": 19,
   "outputs": [
    {
     "data": {
      "text/plain": "50"
     },
     "execution_count": 19,
     "metadata": {},
     "output_type": "execute_result"
    }
   ],
   "source": [
    "snap_dicts = [xmltodict.parse(s) for e, s in zip(eur, snaps)]\n",
    "len(snap_dicts)"
   ],
   "metadata": {
    "collapsed": false,
    "ExecuteTime": {
     "end_time": "2023-08-25T15:00:38.592745500Z",
     "start_time": "2023-08-25T15:00:38.482966800Z"
    }
   },
   "id": "1f992ce5364ea30a"
  },
  {
   "cell_type": "code",
   "execution_count": 22,
   "outputs": [],
   "source": [
    "# save_json(snap_dicts, root / 'all-stoxx-snapshots.json')"
   ],
   "metadata": {
    "collapsed": false,
    "ExecuteTime": {
     "end_time": "2023-08-25T15:10:22.422084400Z",
     "start_time": "2023-08-25T15:10:22.249059400Z"
    }
   },
   "id": "743a4f4c85bcc4db"
  },
  {
   "cell_type": "code",
   "execution_count": 23,
   "outputs": [],
   "source": [
    "out = xmltodict.parse(ibe.recommendations(contract_from_info(eur[0])))"
   ],
   "metadata": {
    "collapsed": false,
    "ExecuteTime": {
     "end_time": "2023-08-25T15:15:54.232120100Z",
     "start_time": "2023-08-25T15:15:52.289273200Z"
    }
   },
   "id": "f3a287446015ec7f"
  },
  {
   "cell_type": "code",
   "execution_count": null,
   "outputs": [],
   "source": [],
   "metadata": {
    "collapsed": false
   },
   "id": "4d94c062bd8c0d23"
  },
  {
   "cell_type": "code",
   "execution_count": null,
   "outputs": [],
   "source": [],
   "metadata": {
    "collapsed": false
   },
   "id": "48a45ba0f8eae90e"
  },
  {
   "cell_type": "code",
   "execution_count": null,
   "outputs": [],
   "source": [],
   "metadata": {
    "collapsed": false
   },
   "id": "9e3238762115626a"
  }
 ],
 "metadata": {
  "kernelspec": {
   "display_name": "Python 3",
   "language": "python",
   "name": "python3"
  },
  "language_info": {
   "codemirror_mode": {
    "name": "ipython",
    "version": 2
   },
   "file_extension": ".py",
   "mimetype": "text/x-python",
   "name": "python",
   "nbconvert_exporter": "python",
   "pygments_lexer": "ipython2",
   "version": "2.7.6"
  }
 },
 "nbformat": 4,
 "nbformat_minor": 5
}
