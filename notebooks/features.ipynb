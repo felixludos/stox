{
 "cells": [
  {
   "cell_type": "code",
   "execution_count": 1,
   "id": "initial_id",
   "metadata": {
    "ExecuteTime": {
     "end_time": "2023-09-07T23:35:28.536503200Z",
     "start_time": "2023-09-07T23:35:27.601567100Z"
    }
   },
   "outputs": [
    {
     "data": {
      "text/plain": "<IPython.core.display.HTML object>",
      "text/html": "<style>.container { width:98% !important; }</style>"
     },
     "metadata": {},
     "output_type": "display_data"
    }
   ],
   "source": [
    "\n",
    "import numpy as np\n",
    "%matplotlib notebook\n",
    "import matplotlib.pyplot as plt\n",
    "%load_ext autoreload\n",
    "%autoreload 2\n",
    "from IPython.display import display, HTML\n",
    "display(HTML(\"<style>.container { width:98% !important; }</style>\"))\n",
    "import random\n",
    "from collections import Counter\n",
    "import numpy as np\n",
    "import matplotlib.pyplot as plt\n",
    "import seaborn as sns\n",
    "import stox\n",
    "# from ib_insync import *\n",
    "from stox.imports import *\n",
    "from stox.ibkr import IB_Extractor, describe_contract, download_reports, IBKR_Loader, IBKR_Stats, IBKR_Derived\n",
    "from stox.yahoo import Yahoo_Loader, Yahoo_Info\n",
    "from tqdm.notebook import tqdm\n",
    "import plotly.io as pio\n",
    "import plotly.express as px\n",
    "from omnibelt import tqdmd_notebook as tqdmd\n",
    "from stox import misc, yahoo, ibkr\n",
    "from stox.general import Quantity, PctChange, PopulationStats, country_colors, sector_symbols\n",
    "from collections import namedtuple\n",
    "import pandas as pd\n",
    "# import qgrid\n",
    "from omniply import tool, ToolKit, Context, Scope, Selection\n",
    "sns.set_theme(style=\"darkgrid\")\n",
    "pio.renderers.default = \"browser\""
   ]
  },
  {
   "cell_type": "code",
   "execution_count": 3,
   "id": "eed110f90785953e",
   "metadata": {
    "collapsed": false,
    "ExecuteTime": {
     "end_time": "2023-09-07T23:35:54.548821900Z",
     "start_time": "2023-09-07T23:35:54.457674500Z"
    }
   },
   "outputs": [],
   "source": [
    "# import pandas as pd\n",
    "# import world_bank_data as wb\n",
    "# from pandasgui import show\n",
    "# df = wb.get_countries()\n",
    "# show(df)"
   ]
  },
  {
   "cell_type": "code",
   "execution_count": 4,
   "id": "2729b8583b7bc635",
   "metadata": {
    "collapsed": false,
    "ExecuteTime": {
     "end_time": "2023-09-07T23:35:56.111697100Z",
     "start_time": "2023-09-07T23:35:55.927494800Z"
    }
   },
   "outputs": [
    {
     "data": {
      "text/plain": "274"
     },
     "execution_count": 4,
     "metadata": {},
     "output_type": "execute_result"
    }
   ],
   "source": [
    "symbol_table = stox.load_symbol_table()\n",
    "len(symbol_table)"
   ]
  },
  {
   "cell_type": "code",
   "execution_count": 5,
   "id": "231c0c8a4e9a6940",
   "metadata": {
    "collapsed": false,
    "ExecuteTime": {
     "end_time": "2023-09-07T23:35:56.321503200Z",
     "start_time": "2023-09-07T23:35:56.228469500Z"
    }
   },
   "outputs": [
    {
     "data": {
      "text/plain": "(241, 241)"
     },
     "execution_count": 5,
     "metadata": {},
     "output_type": "execute_result"
    }
   ],
   "source": [
    "rows = [(k, v) for k, v in symbol_table.items() if v['currency'] == 'EUR']\n",
    "def from_yfsym(yfsym):\n",
    "\treturn yfsym, [v for k, v in rows if k == yfsym][0]\n",
    "def from_ibsym(ibsym):\n",
    "\treturn [(k,v) for k, v in rows if v['symbol'] == ibsym][0]\n",
    "yf2ib = {k: v for k, v in rows}\n",
    "yfsyms = [k for k, v in rows]\n",
    "len(rows), len(yf2ib)"
   ]
  },
  {
   "cell_type": "code",
   "execution_count": 6,
   "id": "752379436962e4e8",
   "metadata": {
    "collapsed": false,
    "ExecuteTime": {
     "end_time": "2023-09-07T23:35:57.236636100Z",
     "start_time": "2023-09-07T23:35:57.124921900Z"
    }
   },
   "outputs": [],
   "source": [
    "date = '230829'\n",
    "# date = 'last'\n",
    "\n",
    "def get_context(yfsym):\n",
    "\tibrow = yf2ib[yfsym]\n",
    "\t\n",
    "\tgg = Context(\n",
    "\t\t# Selection(IBKR_Derived(), IBKR_Stats(), IBKR_Loader(root=misc.ibkr_root()),\n",
    "\t\t# \t  gap={\n",
    "\t\t# \t\t  'ckpt_path': 'ib_ckpt_path',\n",
    "\t\t# \t  \t\n",
    "\t\t# \t  \t\t'snapshot': 'snapshot',\n",
    "\t\t# \t  \n",
    "\t\t# \t  }),\n",
    "\t\tScope(Yahoo_Info(), Yahoo_Loader(root=misc.yahoo_root()),\n",
    "\t\t\t  gap={\n",
    "\t\t\t\t  'ckpt_path': 'yahoo_ckpt_path',\n",
    "\t\t\t\t  'ticker': 'yfsym',\n",
    "\t\t\t\t  \n",
    "\t\t\t\t  # 'info': 'info',\n",
    "\t\t\t\t\t#   'splits': 'splits',\n",
    "\t\t\t\t  # \n",
    "\t\t\t\t  # 'recommendation_mean': 'recommendation_mean',\n",
    "\t\t\t\t  # 'recommendation_key': 'recommendation_key',\n",
    "\t\t\t\t  # 'number_of_analysts': 'number_of_analysts',\n",
    "\t\t\t\t  # 'target_mean_price': 'target_mean_price',\n",
    "\t\t\t\t  # 'target_high_price': 'target_high_price',\n",
    "\t\t\t\t  # 'target_low_price': 'target_low_price',\n",
    "\t\t\t\t  # 'target_median_price': 'target_median_price',\n",
    "\t\t\t\t  # \n",
    "\t\t\t\t  # 'isin': 'yf_isin',\n",
    "\t\t\t\t  # \n",
    "\t\t\t\t  # 'market_cap': 'yf_market_cap',\n",
    "\t\t\t\t  # 'sector': 'yf_sector',\n",
    "\t\t\t  }),\n",
    "\t)\n",
    "\tgg.update(ibrow)\n",
    "\tgg['date'] = date\n",
    "\tgg['ibsym'] = ibrow['symbol']\n",
    "\tgg['ibid'] = ibrow['conId']\n",
    "\tgg['yfsym'] = yfsym\n",
    "\treturn gg"
   ]
  },
  {
   "cell_type": "code",
   "execution_count": 7,
   "id": "941300e8c63ebbdb",
   "metadata": {
    "collapsed": false,
    "ExecuteTime": {
     "end_time": "2023-09-07T23:35:59.065775Z",
     "start_time": "2023-09-07T23:35:58.790439100Z"
    }
   },
   "outputs": [
    {
     "data": {
      "text/plain": "241"
     },
     "execution_count": 7,
     "metadata": {},
     "output_type": "execute_result"
    }
   ],
   "source": [
    "ctxs = [get_context(yfsym) for yfsym in yfsyms]\n",
    "len(ctxs)"
   ]
  },
  {
   "cell_type": "code",
   "execution_count": 8,
   "id": "a31822253c4bd05d",
   "metadata": {
    "collapsed": false,
    "ExecuteTime": {
     "end_time": "2023-09-07T23:35:59.276838300Z",
     "start_time": "2023-09-07T23:35:59.187459900Z"
    }
   },
   "outputs": [],
   "source": [
    "# print([ctx['yfsym'] for ctx in bad]) # snapshot ['APAM.BR', 'ARGX.BR', 'BELA.AT', 'CABK.MC', 'EBS.VI', 'HTO.AT', 'KER.PA', 'LR.PA', 'OR.PA', 'PRY.MI', 'RACE.MI', 'SAR.AT', 'STR.VI', 'UMI.BR', 'ZAL.DE']\n",
    "# print([ctx['yfsym'] for ctx in bad]) # recommendations ['APAM.BR', 'ARGX.BR', 'BELA.AT', 'CABK.MC', 'EBS.VI', 'ELLAKTOR.AT', 'EYDAP.AT', 'HTO.AT', 'KER.PA', 'LR.PA', 'OR.PA', 'PRY.MI', 'RACE.MI', 'SAR.AT', 'STR.VI', 'UMI.BR', 'VIO.AT', 'ZAL.DE']\n",
    "# print([ctx['yfsym'] for ctx in bad]) # info ['APAM.BR', 'CON.DE']"
   ]
  },
  {
   "cell_type": "code",
   "execution_count": 9,
   "id": "80e390e88800e409",
   "metadata": {
    "collapsed": false,
    "ExecuteTime": {
     "end_time": "2023-09-07T23:36:02.100499700Z",
     "start_time": "2023-09-07T23:35:59.492080300Z"
    }
   },
   "outputs": [
    {
     "data": {
      "text/plain": "  0%|          | 0/241 [00:00<?, ?it/s]",
      "application/vnd.jupyter.widget-view+json": {
       "version_major": 2,
       "version_minor": 0,
       "model_id": "db79b4af597d457daa003325e08ca448"
      }
     },
     "metadata": {},
     "output_type": "display_data"
    },
    {
     "name": "stdout",
     "output_type": "stream",
     "text": [
      "['APAM.BR', 'CON.DE', 'DSM.AS', 'LIN.DE', 'ML.PA', 'MOCORP.HE', 'NDA FI.HE', 'NDA.ST', 'URW.AS', 'EDP.LS', 'GALP.LS']\n"
     ]
    },
    {
     "data": {
      "text/plain": "(230, 11)"
     },
     "execution_count": 9,
     "metadata": {},
     "output_type": "execute_result"
    }
   ],
   "source": [
    "pop = []\n",
    "bad = []\n",
    "for ctx in tqdmd(ctxs, key=lambda x: x['yfsym']):\n",
    "\ttry:\n",
    "\t\t# ctx['snapshot']\n",
    "\t\t# ctx['recommendations']\n",
    "\t\tctx['info']\n",
    "\t\tassert ctx['sector'] is not None\n",
    "\texcept Exception as e:\n",
    "\t\tbad.append(ctx)\n",
    "\telse:\n",
    "\t\tpop.append(ctx)\n",
    "print([ctx['yfsym'] for ctx in bad])\n",
    "ctx = pop[0]\n",
    "len(pop), len(bad)"
   ]
  },
  {
   "cell_type": "code",
   "execution_count": 10,
   "id": "308dd4621733a617",
   "metadata": {
    "collapsed": false,
    "ExecuteTime": {
     "end_time": "2023-09-07T23:36:02.205042500Z",
     "start_time": "2023-09-07T23:36:02.098502500Z"
    }
   },
   "outputs": [
    {
     "data": {
      "text/plain": "Counter({'Industrials': 47,\n         'Financial Services': 43,\n         'Consumer Cyclical': 24,\n         'Utilities': 20,\n         'Basic Materials': 18,\n         'Consumer Defensive': 15,\n         'Technology': 15,\n         'Healthcare': 14,\n         'Communication Services': 13,\n         'Real Estate': 11,\n         'Energy': 10})"
     },
     "execution_count": 10,
     "metadata": {},
     "output_type": "execute_result"
    }
   ],
   "source": [
    "Counter([ctx['sector'] for ctx in pop])"
   ]
  },
  {
   "cell_type": "code",
   "execution_count": 11,
   "id": "4f017e488d6eb9c5",
   "metadata": {
    "collapsed": false,
    "ExecuteTime": {
     "end_time": "2023-09-07T23:36:02.306762800Z",
     "start_time": "2023-09-07T23:36:02.201042900Z"
    }
   },
   "outputs": [
    {
     "data": {
      "text/plain": "Counter({'France': 32,\n         'Germany': 30,\n         'Italy': 29,\n         'Spain': 28,\n         'Belgium': 21,\n         'Netherlands': 20,\n         'Greece': 20,\n         'Austria': 20,\n         'Finland': 19,\n         'United Kingdom': 5,\n         'Switzerland': 2,\n         'Luxembourg': 2,\n         'Portugal': 1,\n         'Sweden': 1})"
     },
     "execution_count": 11,
     "metadata": {},
     "output_type": "execute_result"
    }
   ],
   "source": [
    "Counter([ctx['country'] for ctx in pop])"
   ]
  },
  {
   "cell_type": "code",
   "execution_count": 12,
   "id": "9514f03c62fea194",
   "metadata": {
    "collapsed": false,
    "ExecuteTime": {
     "end_time": "2023-09-07T23:36:02.378801300Z",
     "start_time": "2023-09-07T23:36:02.298756400Z"
    }
   },
   "outputs": [],
   "source": [
    "# Counter([ctx['industry'] for ctx in pop])"
   ]
  },
  {
   "cell_type": "code",
   "execution_count": 13,
   "id": "de8a3dd1142649b7",
   "metadata": {
    "collapsed": false,
    "ExecuteTime": {
     "end_time": "2023-09-07T23:36:03.853161500Z",
     "start_time": "2023-09-07T23:36:03.764780Z"
    }
   },
   "outputs": [],
   "source": [
    "info = ctx['info']"
   ]
  },
  {
   "cell_type": "code",
   "execution_count": 14,
   "id": "4451c7bf04b0e7da",
   "metadata": {
    "collapsed": false,
    "ExecuteTime": {
     "end_time": "2023-09-07T23:36:04.090554600Z",
     "start_time": "2023-09-07T23:36:04.010501700Z"
    }
   },
   "outputs": [],
   "source": [
    "# key1, key2 = 'peg_ratio', 'beta'\n",
    "# def selector(ctx):\n",
    "# \ttry:\n",
    "# \t\tval = ctx[key1]\n",
    "# \t\tassert (val.amount if isinstance(val, Quantity) else val) is not None\n",
    "# \t\tval = ctx[key2]\n",
    "# \t\tassert (val.amount if isinstance(val, Quantity) else val) is not None\n",
    "# \t\tval = ctx['market_cap']\n",
    "# \t\tassert (val.amount if isinstance(val, Quantity) else val) is not None\n",
    "# \texcept:\n",
    "# \t\treturn False\n",
    "# \treturn True\n",
    "# pts = [c for c in pop if selector(c)]\n",
    "# print(len(pts), len(pop))\n",
    "# x = np.array([p[key1].amount if isinstance(p[key1], Quantity) else p[key1] for p in pts])\n",
    "# y = np.array([p[key2].amount if isinstance(p[key2], Quantity) else p[key2] for p in pts])\n",
    "# sizes = np.array([np.log10(ctx['market_cap'].amount) for ctx in pts])\n",
    "# sizes = 10 + 30 * (sizes - sizes.min()) / (sizes.max() - sizes.min())\n",
    "# r = np.corrcoef(x, y)[0, 1]\n",
    "# fg = px.scatter(x=x, y=y, \n",
    "# \t\t\t\thover_name=[f'{c[\"yfsym\"]}  ::  {c[\"company_short_name\"]}' for c in pts], \n",
    "#     size=sizes, \n",
    "#     color=[c['country'] for c in pts],  # differentiate markers by color\n",
    "#     color_discrete_map=country_colors,  # Map colors\n",
    "#     symbol=[c['sector'] for c in pts],  # differentiate markers by symbol\n",
    "#     symbol_map=sector_symbols,  # Map shapes\n",
    "# \t\t\t\t# trendline='ols'\n",
    "# \t\t\t\ttitle=f'Correlation = {r:.2f}',\n",
    "# \t\t\t\tlog_x=True,\n",
    "# \t\t\t\t# log_y=True,\n",
    "# \t\t\t\t)\n",
    "# fg.update_layout(xaxis_title=key1)\n",
    "# fg.update_layout(yaxis_title=key2)\n",
    "# fg.show();\n",
    "# # sns.regplot(x=x, y=y)\n",
    "# # plt.title(f'Correlation = {r:.2f}');"
   ]
  },
  {
   "cell_type": "code",
   "execution_count": 15,
   "id": "f112cf844edcefcc",
   "metadata": {
    "collapsed": false,
    "ExecuteTime": {
     "end_time": "2023-09-07T23:36:04.338104900Z",
     "start_time": "2023-09-07T23:36:04.236419300Z"
    }
   },
   "outputs": [],
   "source": [
    "# from omniply import AbstractGadget\n",
    "# \n",
    "# class PopulationStats(AbstractGadget):\n",
    "# \tdef __init__(self, population: list, *gizmos: str, percentile=False, location=True):\n",
    "# \t\tsuper().__init__()\n",
    "# \t\tself._population = population\n",
    "# \t\tself._gizmos = gizmos\n",
    "# \t\tself._location = location\n",
    "# \t\tself._percentile = percentile\n",
    "# \n",
    "# \tdef gizmos(self) -> Iterator[str]:\n",
    "# \t\tif self._location:\n",
    "# \t\t\tyield from (f'loc_{gizmo}' for gizmo in self._gizmos)\n",
    "# \t\tif self._percentile:\n",
    "# \t\t\tyield from (f'pct_{gizmo}' for gizmo in self._gizmos)\n",
    "# \n",
    "# \n",
    "# \tdef _base_stats(self, pop, key):\n",
    "# \t\tfor item in pop:\n",
    "# \t\t\tval = item[key]\n",
    "# \t\t\tif val is not None and (not isinstance(val, Quantity) or val.amount is not None):\n",
    "# \t\t\t\tyield val\n",
    "# \n",
    "# \n",
    "# \tdef compute_pct(self, mark, key: str) -> float:\n",
    "# \t\tcount = []\n",
    "# \t\tfor val in self._base_stats(self._population, key):\n",
    "# \t\t\tif val is not None:\n",
    "# \t\t\t\tif val == mark:\n",
    "# \t\t\t\t\tcount.append(0.5)\n",
    "# \t\t\t\telif val < mark:\n",
    "# \t\t\t\t\tcount.append(1)\n",
    "# \t\t\t\telse:\n",
    "# \t\t\t\t\tcount.append(0)\n",
    "# \t\tassert len(count) > 0, f'No values for {key}'\n",
    "# \t\treturn int(100 * sum(count) / len(count))\n",
    "# \n",
    "# \tdef compute_loc(self, mark, key: str) -> str:\n",
    "# \t\tcount = []\n",
    "# \t\tfor val in self._base_stats(self._population, key):\n",
    "# \t\t\tif val is not None:\n",
    "# \t\t\t\tif val == mark:\n",
    "# \t\t\t\t\tcount.append(0.5)\n",
    "# \t\t\t\telif val < mark:\n",
    "# \t\t\t\t\tcount.append(1)\n",
    "# \t\t\t\telse:\n",
    "# \t\t\t\t\tcount.append(0)\n",
    "# \t\tassert len(count) > 0, f'No values for {key}'\n",
    "# \t\treturn f'{int(sum(count))}/{len(count)}'\n",
    "# \n",
    "# \tdef grab_from(self, ctx, gizmo: str):\n",
    "# \t\tif self._percentile and gizmo.startswith('pct_'):\n",
    "# \t\t\tkey = gizmo[4:]\n",
    "# \t\t\tmark = ctx[key]\n",
    "# \t\t\treturn self.compute_pct(mark, key)\n",
    "# \t\tif self._location and gizmo.startswith('loc_'):\n",
    "# \t\t\tkey = gizmo[4:]\n",
    "# \t\t\tmark = ctx[key]\n",
    "# \t\t\treturn self.compute_loc(mark, key)\n",
    "# \t\traise NotImplementedError"
   ]
  },
  {
   "cell_type": "code",
   "execution_count": 16,
   "id": "2cd565e8dd661d16",
   "metadata": {
    "collapsed": false,
    "ExecuteTime": {
     "end_time": "2023-09-07T23:36:04.560806900Z",
     "start_time": "2023-09-07T23:36:04.472620200Z"
    }
   },
   "outputs": [
    {
     "name": "stdout",
     "output_type": "stream",
     "text": [
      "{'Consumer Defensive': 15, 'Basic Materials': 18, 'Financial Services': 43, 'Consumer Cyclical': 24, 'Industrials': 47, 'Technology': 15, 'Real Estate': 11, 'Healthcare': 14, 'Utilities': 20, 'Communication Services': 13, 'Energy': 10}\n",
      "{'Other': 6, 'Germany': 30, 'Belgium': 21, 'Netherlands': 20, 'France': 32, 'Spain': 28, 'Greece': 20, 'Italy': 29, 'Austria': 20, 'Finland': 19, 'United Kingdom': 5}\n"
     ]
    }
   ],
   "source": [
    "pop_sec = {}\n",
    "for ctx in pop:\n",
    "\tpop_sec.setdefault(ctx['sector'], []).append(ctx)\n",
    "print({k:len(v) for k, v in pop_sec.items()})\n",
    "to_group = {\n",
    "\t'Portugal': 'Other', \n",
    "\t'Luxembourg': 'Other', \n",
    "\t'Sweden': 'Other',\n",
    "\t'Switzerland': 'Other',\n",
    "}\n",
    "pop_land = {}\n",
    "for ctx in pop:\n",
    "\tpop_land.setdefault(to_group.get(ctx['country'],ctx['country']), []).append(ctx)\n",
    "print({k:len(v) for k, v in pop_land.items()})"
   ]
  },
  {
   "cell_type": "code",
   "execution_count": 17,
   "id": "68c33dbfce3da221",
   "metadata": {
    "collapsed": false,
    "ExecuteTime": {
     "end_time": "2023-09-07T23:36:05.251569800Z",
     "start_time": "2023-09-07T23:36:05.156195400Z"
    }
   },
   "outputs": [],
   "source": [
    "stat_names = [\n",
    "\t'peg_ratio',\n",
    "\t'market_cap',\n",
    "\t'beta',\n",
    "\t'change_52w',\n",
    "\t'yield',\n",
    "\t'perf52w',\n",
    "\t'recommendation_mean',\n",
    "\t'overall_risk',\n",
    "\t'held_percent_institutions',\n",
    "\t'held_percent_insiders',\n",
    "]\n",
    "basic_names = [\n",
    "\t'employees',\n",
    "]\n",
    "cat_names = [\n",
    "\t'country',\n",
    "\t'sector',\n",
    "\t'industry',\n",
    "\t'recommendation_key',\n",
    "]\n",
    "text_names = [\n",
    "\t'company_name',\n",
    "\t'company_short_name',\n",
    "\t# 'city',\n",
    "]\n",
    "feature_names = [*stat_names, *basic_names, *cat_names, *text_names]"
   ]
  },
  {
   "cell_type": "code",
   "execution_count": 24,
   "id": "703514fea03b9507",
   "metadata": {
    "collapsed": false,
    "ExecuteTime": {
     "end_time": "2023-09-08T00:02:58.681291700Z",
     "start_time": "2023-09-08T00:02:58.574137700Z"
    }
   },
   "outputs": [
    {
     "data": {
      "text/plain": "11"
     },
     "execution_count": 24,
     "metadata": {},
     "output_type": "execute_result"
    }
   ],
   "source": [
    "pop_stat_type = 'pct'\n",
    "global_pop_stats = Scope(\n",
    "\tPopulationStats(pop, *stat_names, percentile=pop_stat_type == 'pct', location=pop_stat_type == 'loc'), \n",
    "\tgap={f'{pop_stat_type}_{key}': f'glob_{pop_stat_type}_{key}' for key in stat_names}\n",
    ")\n",
    "sec_pop_stats = {sec: Scope(\n",
    "\tPopulationStats(pop_sec[sec], *stat_names, percentile=pop_stat_type == 'pct', location=pop_stat_type == 'loc'), \n",
    "\tgap={f'{pop_stat_type}_{key}': f'sec_{pop_stat_type}_{key}' for key in stat_names}\n",
    ") for sec, ctxs in pop_sec.items()}\n",
    "\n",
    "for ctx in pop:\n",
    "\tctx.include(global_pop_stats, sec_pop_stats[ctx['sector']])\n",
    "len(sec_pop_stats)"
   ]
  },
  {
   "cell_type": "code",
   "execution_count": 25,
   "id": "70710d1e1e7852cc",
   "metadata": {
    "collapsed": false,
    "ExecuteTime": {
     "end_time": "2023-09-08T00:02:59.500309700Z",
     "start_time": "2023-09-08T00:02:59.403215900Z"
    }
   },
   "outputs": [
    {
     "data": {
      "text/plain": "Context(conId, currency, exchange, primaryExchange, symbol, date, ibsym, ibid, yfsym, info, sector, country, peg_ratio, glob_loc_peg_ratio, sec_loc_peg_ratio, recommendation_mean, sec_loc_recommendation_mean, yield, change_52w, perf52w, market_cap, overall_risk, held_percent_institutions, held_percent_insiders, company_name, industry, sec_loc_yield, glob_loc_yield, recommendation_key, glob_loc_recommendation_mean, sec_loc_change_52w, glob_loc_change_52w, sec_loc_perf52w, glob_loc_perf52w, sec_loc_market_cap, glob_loc_market_cap, sec_loc_overall_risk, glob_loc_overall_risk, sec_loc_held_percent_institutions, glob_loc_held_percent_institutions, sec_loc_held_percent_insiders, glob_loc_held_percent_insiders, yahoo_ckpt_path, price, high_52w, low_52w, {city}, {website}, {business_summary}, {employees}, {audit_risk}, {board_risk}, {compensation_risk}, {share_holder_risk}, {cash_per_share}, {debt_to_equity}, {earnings_growth}, {revenue}, {gross_profit}, {free_cash_flow}, {operating_cash_flow}, {operating_income}, {ebitda}, {debt}, {cash}, {current_ratio}, {quick_ratio}, {beta}, {trailing_pe}, {forward_pe}, {volume}, {volume_10d}, {price_to_book}, {trailing_eps}, {forward_eps}, {company_short_name}, {number_of_analysts}, {target_mean_price}, {target_high_price}, {target_low_price}, {target_median_price}, {profit_margins}, {target_mean_change}, {target_high_change}, {target_low_change}, {target_median_change}, {splits}, {dividends}, {history}, {isin}, {balancesheet}, {cashflow}, {financials}, {quarterly_balancesheet}, {quarterly_cashflow}, {quarterly_financials}, {glob_loc_beta}, {sec_loc_beta}, {glob_pct_peg_ratio}, {glob_pct_market_cap}, {glob_pct_beta}, {glob_pct_change_52w}, {glob_pct_yield}, {glob_pct_perf52w}, {glob_pct_recommendation_mean}, {glob_pct_overall_risk}, {glob_pct_held_percent_institutions}, {glob_pct_held_percent_insiders}, {sec_pct_peg_ratio}, {sec_pct_market_cap}, {sec_pct_beta}, {sec_pct_change_52w}, {sec_pct_yield}, {sec_pct_perf52w}, {sec_pct_recommendation_mean}, {sec_pct_overall_risk}, {sec_pct_held_percent_institutions}, {sec_pct_held_percent_insiders})"
     },
     "execution_count": 25,
     "metadata": {},
     "output_type": "execute_result"
    }
   ],
   "source": [
    "ctx"
   ]
  },
  {
   "cell_type": "code",
   "execution_count": 26,
   "id": "a2366cc8d4a20d02",
   "metadata": {
    "collapsed": false,
    "ExecuteTime": {
     "end_time": "2023-09-08T00:03:00.274521800Z",
     "start_time": "2023-09-08T00:03:00.170241700Z"
    }
   },
   "outputs": [
    {
     "data": {
      "text/plain": "(95, 93)"
     },
     "execution_count": 26,
     "metadata": {},
     "output_type": "execute_result"
    }
   ],
   "source": [
    "ctx[f'glob_{pop_stat_type}_peg_ratio'], ctx[f'sec_{pop_stat_type}_peg_ratio']"
   ]
  },
  {
   "cell_type": "code",
   "execution_count": 27,
   "id": "6d5364499f3e2073",
   "metadata": {
    "collapsed": false,
    "ExecuteTime": {
     "end_time": "2023-09-08T00:03:01.005821500Z",
     "start_time": "2023-09-08T00:03:00.904498300Z"
    }
   },
   "outputs": [
    {
     "data": {
      "text/plain": "50"
     },
     "execution_count": 27,
     "metadata": {},
     "output_type": "execute_result"
    }
   ],
   "source": [
    "ctx[f'sec_{pop_stat_type}_recommendation_mean']"
   ]
  },
  {
   "cell_type": "code",
   "execution_count": 27,
   "id": "16d0edace346f134",
   "metadata": {
    "collapsed": false,
    "ExecuteTime": {
     "end_time": "2023-09-08T00:03:01.772501800Z",
     "start_time": "2023-09-08T00:03:01.767485700Z"
    }
   },
   "outputs": [],
   "source": []
  },
  {
   "cell_type": "code",
   "execution_count": 28,
   "id": "10974aa49ccdeeaf",
   "metadata": {
    "collapsed": false,
    "ExecuteTime": {
     "end_time": "2023-09-08T00:03:02.878791400Z",
     "start_time": "2023-09-08T00:03:02.188542100Z"
    }
   },
   "outputs": [],
   "source": [
    "feature_names = [\n",
    "\t'yfsym',\n",
    "\t'company_name',\n",
    "\t'country',\n",
    "\t'sector',\n",
    "\t'industry',\n",
    "\n",
    "\t'yield',\n",
    "\tf'sec_{pop_stat_type}_yield',\n",
    "\tf'glob_{pop_stat_type}_yield',\n",
    "\n",
    "\t'recommendation_key',\n",
    "\t'recommendation_mean',\n",
    "\tf'sec_{pop_stat_type}_recommendation_mean',\n",
    "\tf'glob_{pop_stat_type}_recommendation_mean',\n",
    "\n",
    "\t'peg_ratio',\n",
    "\tf'sec_{pop_stat_type}_peg_ratio',\n",
    "\tf'glob_{pop_stat_type}_peg_ratio',\n",
    "\n",
    "\t'change_52w',\n",
    "\tf'sec_{pop_stat_type}_change_52w',\n",
    "\tf'glob_{pop_stat_type}_change_52w',\n",
    "\n",
    "\t'perf52w',\n",
    "\tf'sec_{pop_stat_type}_perf52w',\n",
    "\tf'glob_{pop_stat_type}_perf52w',\n",
    "\n",
    "\t'market_cap',\n",
    "\tf'sec_{pop_stat_type}_market_cap',\n",
    "\tf'glob_{pop_stat_type}_market_cap',\n",
    "\n",
    "\t'overall_risk',\n",
    "\tf'sec_{pop_stat_type}_overall_risk',\n",
    "\tf'glob_{pop_stat_type}_overall_risk',\n",
    "\n",
    "\t'held_percent_institutions',\n",
    "\tf'sec_{pop_stat_type}_held_percent_institutions',\n",
    "\tf'glob_{pop_stat_type}_held_percent_institutions',\n",
    "\n",
    "\t'held_percent_insiders',\n",
    "\tf'sec_{pop_stat_type}_held_percent_insiders',\n",
    "\tf'glob_{pop_stat_type}_held_percent_insiders',\t\n",
    "]\n",
    "\n",
    "table = [[ctx[k] for k in feature_names] for ctx in pop]\n",
    "df = pd.DataFrame(table, columns=feature_names)"
   ]
  },
  {
   "cell_type": "code",
   "execution_count": 30,
   "id": "4b05b1f86c163e9e",
   "metadata": {
    "collapsed": false,
    "ExecuteTime": {
     "end_time": "2023-09-08T00:13:04.768040300Z",
     "start_time": "2023-09-08T00:13:03.645353600Z"
    }
   },
   "outputs": [
    {
     "name": "stderr",
     "output_type": "stream",
     "text": [
      "PandasGUI INFO — pandasgui.gui — Opening PandasGUI\n",
      "INFO:pandasgui.gui: Opening PandasGUI\n"
     ]
    },
    {
     "data": {
      "text/plain": "<pandasgui.gui.PandasGui at 0x213b449dab0>"
     },
     "execution_count": 30,
     "metadata": {},
     "output_type": "execute_result"
    }
   ],
   "source": [
    "from pandasgui import show\n",
    "show(df)"
   ]
  },
  {
   "cell_type": "code",
   "execution_count": null,
   "id": "ee3cfb5acb2165b",
   "metadata": {
    "collapsed": false
   },
   "outputs": [],
   "source": []
  },
  {
   "cell_type": "code",
   "execution_count": null,
   "id": "3291d16239480b73",
   "metadata": {
    "collapsed": false
   },
   "outputs": [],
   "source": [
    "qgrid_widget = qgrid.show_grid(df, show_toolbar=True)\n",
    "qgrid_widget"
   ]
  },
  {
   "cell_type": "code",
   "execution_count": 26,
   "id": "812fa294f1e9fb73",
   "metadata": {
    "ExecuteTime": {
     "end_time": "2023-09-07T16:57:00.637039900Z",
     "start_time": "2023-09-07T16:57:00.378191100Z"
    },
    "collapsed": false
   },
   "outputs": [
    {
     "data": {
      "text/html": [
       "<style>.itables table td {\n",
       "    text-overflow: ellipsis;\n",
       "    overflow: hidden;\n",
       "}\n",
       "\n",
       ".itables table th {\n",
       "    text-overflow: ellipsis;\n",
       "    overflow: hidden;\n",
       "}\n",
       "\n",
       ".itables thead input {\n",
       "    width: 100%;\n",
       "    padding: 3px;\n",
       "    box-sizing: border-box;\n",
       "}\n",
       "\n",
       ".itables tfoot input {\n",
       "    width: 100%;\n",
       "    padding: 3px;\n",
       "    box-sizing: border-box;\n",
       "}\n",
       "</style>\n",
       "<div class=\"itables\">\n",
       "<table id=\"8e6b7c25-d8a7-4e73-808d-57687bf8f718\" class=\"display nowrap\"style=\"table-layout:auto;width:auto;margin:auto;caption-side:bottom\"><thead>\n",
       "    <tr style=\"text-align: right;\">\n",
       "      \n",
       "      <th>yfsym</th>\n",
       "      <th>company_name</th>\n",
       "      <th>country</th>\n",
       "      <th>sector</th>\n",
       "      <th>industry</th>\n",
       "      <th>yield</th>\n",
       "      <th>sec_loc_yield</th>\n",
       "      <th>glob_loc_yield</th>\n",
       "      <th>recommendation_key</th>\n",
       "      <th>recommendation_mean</th>\n",
       "      <th>sec_loc_recommendation_mean</th>\n",
       "      <th>glob_loc_recommendation_mean</th>\n",
       "      <th>peg_ratio</th>\n",
       "      <th>sec_loc_peg_ratio</th>\n",
       "      <th>glob_loc_peg_ratio</th>\n",
       "      <th>change_52w</th>\n",
       "      <th>sec_loc_change_52w</th>\n",
       "      <th>glob_loc_change_52w</th>\n",
       "      <th>perf52w</th>\n",
       "      <th>sec_loc_perf52w</th>\n",
       "      <th>glob_loc_perf52w</th>\n",
       "      <th>market_cap</th>\n",
       "      <th>sec_loc_market_cap</th>\n",
       "      <th>glob_loc_market_cap</th>\n",
       "      <th>overall_risk</th>\n",
       "      <th>sec_loc_overall_risk</th>\n",
       "      <th>glob_loc_overall_risk</th>\n",
       "      <th>held_percent_institutions</th>\n",
       "      <th>sec_loc_held_percent_institutions</th>\n",
       "      <th>glob_loc_held_percent_institutions</th>\n",
       "      <th>held_percent_insiders</th>\n",
       "      <th>sec_loc_held_percent_insiders</th>\n",
       "      <th>glob_loc_held_percent_insiders</th>\n",
       "    </tr>\n",
       "  </thead><tbody><tr><td>Loading... (need <a href=https://mwouts.github.io/itables/troubleshooting.html>help</a>?)</td></tr></tbody></table>\n",
       "<script>\n",
       "    // We use a namespace per table (= the next curly bracket)\n",
       "    // to avoid conflicts between the various tables' data & dt_args\n",
       "    {\n",
       "        // Define the table data\n",
       "        const data = [[\"0EXG.IL\", \"Jer\\u00f3nimo Martins, SGPS, S.A.\", \"Portugal\", \"Consumer Defensive\", \"Food Distribution\", \"2.3 %\", \"7/15\", \"85/230\", \"none\", NaN, \"-\", \"-\", NaN, \"-\", \"-\", \"+9.53 %\", \"6/15\", \"95/230\", 0.611552, \"6/15\", \"103/230\", \"15.2B EUR\", \"6/15\", \"134/229\", 10.0, \"13/15\", \"220/227\", \"24.5 %\", \"6/15\", \"76/230\", \"56.2 %\", \"12/15\", \"197/230\"], [\"1COV.DE\", \"Covestro AG\", \"Germany\", \"Basic Materials\", \"Specialty Chemicals\", \"0 %\", \"1/18\", \"15/230\", \"buy\", 2.3, \"5/18\", \"114/221\", -2.25, \"1/17\", \"12/197\", \"+60.3 %\", \"16/18\", \"212/230\", 0.923144, \"15/18\", \"199/230\", \"9.3B EUR\", \"8/18\", \"104/229\", 2.0, \"6/18\", \"64/227\", \"55.9 %\", \"14/18\", \"202/230\", \"4.58 %\", \"7/18\", \"44/230\"], [\"ABI.BR\", \"Anheuser-Busch InBev SA/NV\", \"Belgium\", \"Consumer Defensive\", \"Beverages\\u2014Brewers\", \"1.44 %\", \"2/15\", \"55/230\", \"buy\", 2.1, \"2/13\", \"72/221\", 2.01, \"4/9\", \"145/197\", \"+7.27 %\", \"5/15\", \"89/230\", 0.441846, \"2/15\", \"65/230\", \"105B EUR\", \"12/15\", \"215/229\", 8.0, \"9/15\", \"198/227\", \"14.7 %\", \"1/15\", \"32/230\", \"48.7 %\", \"7/15\", \"174/230\"], [\"ABN.AS\", \"ABN AMRO Bank N.V.\", \"Netherlands\", \"Financial Services\", \"Banks\\u2014Diversified\", \"9.76 %\", \"41/43\", \"222/230\", \"hold\", 2.6, \"36/43\", \"170/221\", 0.59, \"17/41\", \"70/197\", \"+38.2 %\", \"27/43\", \"187/230\", 0.603948, \"14/43\", \"100/230\", \"12.7B EUR\", \"24/43\", \"124/229\", 3.0, \"24/43\", \"104/227\", \"39.8 %\", \"30/43\", \"147/230\", \"6.65 %\", \"13/43\", \"53/230\"], [\"AC.PA\", \"Accor SA\", \"France\", \"Consumer Cyclical\", \"Lodging\", \"2.2 %\", \"12/24\", \"79/230\", \"buy\", 2.1, \"7/24\", \"72/221\", 0.73, \"8/22\", \"86/197\", \"+38.1 %\", \"17/24\", \"186/230\", 0.90524, \"19/24\", \"194/230\", \"8.76B EUR\", \"10/23\", \"101/229\", 8.0, \"18/24\", \"198/227\", \"52.9 %\", \"19/24\", \"192/230\", \"20.9 %\", \"7/24\", \"94/230\"], [\"ACA.PA\", \"Cr\\u00e9dit Agricole S.A.\", \"France\", \"Financial Services\", \"Banks\\u2014Regional\", \"9.14 %\", \"40/43\", \"219/230\", \"hold\", 2.8, \"42/43\", \"195/221\", 0.71, \"23/41\", \"84/197\", \"+25.5 %\", \"19/43\", \"154/230\", 0.914286, \"35/43\", \"196/230\", \"35.4B EUR\", \"33/43\", \"178/229\", 7.0, \"40/43\", \"182/227\", \"11.1 %\", \"5/43\", \"16/230\", \"63.1 %\", \"38/43\", \"211/230\"], [\"ACKB.BR\", \"Ackermans & Van Haaren NV\", \"Belgium\", \"Industrials\", \"Engineering & Construction\", \"1.95 %\", \"16/47\", \"73/230\", \"buy\", 2.0, \"12/43\", \"50/221\", NaN, \"-\", \"-\", \"+13.5 %\", \"13/47\", \"106/230\", 0.840506, \"28/47\", \"170/230\", \"5.3B EUR\", \"16/47\", \"72/229\", 8.0, \"40/46\", \"198/227\", \"13.4 %\", \"6/47\", \"27/230\", \"33 %\", \"27/47\", \"136/230\"], [\"ACS.MC\", \"ACS, Actividades de Construcci\\u00f3n y Servicios, S.A.\", \"Spain\", \"Industrials\", \"Engineering & Construction\", \"11 %\", \"46/47\", \"225/230\", \"buy\", 2.4, \"28/43\", \"132/221\", 2.88, \"32/38\", \"164/197\", \"+43.7 %\", \"40/47\", \"196/230\", 0.977401, \"44/47\", \"224/230\", \"8.25B EUR\", \"20/47\", \"99/229\", 7.0, \"37/46\", \"182/227\", \"20.9 %\", \"14/47\", \"56/230\", \"19.2 %\", \"13/47\", \"86/230\"], [\"ACX.MC\", \"Acerinox, S.A.\", \"Spain\", \"Basic Materials\", \"Steel\", \"6.66 %\", \"16/18\", \"196/230\", \"buy\", 1.8, \"1/18\", \"23/221\", -0.22, \"4/17\", \"36/197\", \"-0.0219 %\", \"5/18\", \"67/230\", 0.518312, \"9/18\", \"81/230\", \"2.3B EUR\", \"4/18\", \"26/229\", 1.0, \"1/18\", \"21/227\", \"41.7 %\", \"10/18\", \"158/230\", \"5.5 %\", \"9/18\", \"48/230\"], [\"AD.AS\", \"Koninklijke Ahold Delhaize N.V.\", \"Netherlands\", \"Consumer Defensive\", \"Grocery Stores\", \"3.56 %\", \"11/15\", \"118/230\", \"buy\", 2.0, \"0/13\", \"50/221\", 3.08, \"6/9\", \"168/197\", \"+10.9 %\", \"8/15\", \"100/230\", 0.697098, \"9/15\", \"123/230\", \"29.5B EUR\", \"8/15\", \"171/229\", 1.0, \"1/15\", \"21/227\", \"53.6 %\", \"13/15\", \"194/230\", \"0.081 %\", \"0/15\", \"23/230\"], [\"ADS.DE\", \"adidas AG\", \"Germany\", \"Consumer Cyclical\", \"Footwear & Accessories\", \"0.4 %\", \"4/24\", \"32/230\", \"hold\", 2.6, \"17/24\", \"170/221\", -1.39, \"1/22\", \"16/197\", \"+17.3 %\", \"10/24\", \"125/230\", 0.92563, \"20/24\", \"200/230\", \"32.4B EUR\", \"13/23\", \"177/229\", 3.0, \"6/24\", \"104/227\", \"52.2 %\", \"18/24\", \"190/230\", \"11 %\", \"4/24\", \"68/230\"], [\"ADYEN.AS\", \"Adyen N.V.\", \"Netherlands\", \"Technology\", \"Software\\u2014Infrastructure\", \"0 %\", \"2/15\", \"15/230\", \"hold\", 2.7, \"10/13\", \"184/221\", NaN, \"-\", \"-\", \"-49.9 %\", \"0/15\", \"0/230\", 0.020214, \"0/15\", \"0/230\", \"46B EUR\", \"12/15\", \"187/229\", 1.0, \"2/14\", \"21/227\", \"76.9 %\", \"14/15\", \"225/230\", \"16.4 %\", \"9/15\", \"81/230\"], [\"AED.BR\", \"Aedifica NV/SA\", \"Belgium\", \"Real Estate\", \"REIT\\u2014Healthcare Facilities\", \"6.5 %\", \"8/11\", \"190/230\", \"buy\", 2.1, \"4/11\", \"72/221\", 2.5, \"6/10\", \"152/197\", \"-38.4 %\", \"1/11\", \"5/230\", 0.180151, \"2/11\", \"24/230\", \"3.06B EUR\", \"6/11\", \"43/229\", 1.0, \"2/11\", \"21/227\", \"36 %\", \"5/11\", \"125/230\", \"0.061 %\", \"2/11\", \"22/230\"], [\"AEGN.AT\", \"Aegean Airlines S.A.\", \"Greece\", \"Industrials\", \"Airlines\", \"0 %\", \"2/47\", \"15/230\", \"buy\", 2.5, \"33/43\", \"151/221\", 0.44, \"10/38\", \"63/197\", \"+173 %\", \"45/47\", \"227/230\", 0.965957, \"42/47\", \"217/230\", \"1.22B EUR\", \"2/47\", \"9/229\", 10.0, \"45/46\", \"220/227\", \"7.43 %\", \"2/47\", \"9/230\", \"62 %\", \"42/47\", \"210/230\"], [\"AENA.MC\", \"Aena S.M.E., S.A.\", \"Spain\", \"Industrials\", \"Airports & Air Services\", \"3.35 %\", \"26/47\", \"110/230\", \"hold\", 2.6, \"36/43\", \"170/221\", 0.13, \"6/38\", \"48/197\", \"+15.5 %\", \"16/47\", \"112/230\", 0.79702, \"25/47\", \"158/230\", \"21.7B EUR\", \"33/47\", \"153/229\", 3.0, \"20/46\", \"104/227\", \"23.7 %\", \"17/47\", \"72/230\", \"51 %\", \"37/47\", \"181/230\"], [\"AGN.AS\", \"Aegon N.V.\", \"Netherlands\", \"Financial Services\", \"Insurance\\u2014Diversified\", \"5.48 %\", \"20/43\", \"168/230\", \"hold\", 2.6, \"36/43\", \"170/221\", -2.27, \"1/41\", \"11/197\", \"+7.5 %\", \"9/43\", \"91/230\", 0.64344, \"15/43\", \"108/230\", \"9.04B EUR\", \"20/43\", \"102/229\", 1.0, \"6/43\", \"21/227\", \"32.6 %\", \"19/43\", \"108/230\", \"15 %\", \"20/43\", \"76/230\"], [\"AGS.BR\", \"ageas SA/NV\", \"Belgium\", \"Financial Services\", \"Insurance\\u2014Diversified\", \"8.19 %\", \"37/43\", \"214/230\", \"hold\", 2.7, \"39/43\", \"184/221\", 0.76, \"26/41\", \"89/197\", \"-9.09 %\", \"2/43\", \"48/230\", 0.355172, \"5/43\", \"48/230\", \"6.98B EUR\", \"18/43\", \"87/229\", 2.0, \"16/43\", \"64/227\", \"37.8 %\", \"26/43\", \"134/230\", \"7.31 %\", \"14/43\", \"57/230\"], [\"AI.PA\", \"L'Air Liquide S.A.\", \"France\", \"Basic Materials\", \"Specialty Chemicals\", \"1.81 %\", \"4/18\", \"68/230\", \"buy\", 2.1, \"3/18\", \"72/221\", 2.76, \"12/17\", \"159/197\", \"+29.5 %\", \"13/18\", \"170/230\", 0.954766, \"17/18\", \"212/230\", \"86.4B EUR\", \"17/18\", \"211/229\", 2.0, \"6/18\", \"64/227\", \"31.4 %\", \"6/18\", \"102/230\", \"2.93 %\", \"4/18\", \"35/230\"], [\"AIR.PA\", \"Airbus SE\", \"Netherlands\", \"Industrials\", \"Aerospace & Defense\", \"1.39 %\", \"10/47\", \"54/230\", \"buy\", 2.1, \"18/43\", \"72/221\", 1.4, \"23/38\", \"119/197\", \"+31.4 %\", \"31/47\", \"178/230\", 0.881317, \"35/47\", \"188/230\", \"106B EUR\", \"45/47\", \"216/229\", 1.0, \"2/46\", \"21/227\", \"35.9 %\", \"26/47\", \"123/230\", \"25.8 %\", \"17/47\", \"107/230\"], [\"AKZA.AS\", \"Akzo Nobel N.V.\", \"Netherlands\", \"Basic Materials\", \"Specialty Chemicals\", \"2.69 %\", \"6/18\", \"92/230\", \"buy\", 2.5, \"12/18\", \"151/221\", 0.71, \"7/17\", \"84/197\", \"+16.3 %\", \"10/18\", \"118/230\", 0.808388, \"13/18\", \"161/230\", \"12.7B EUR\", \"11/18\", \"125/229\", 2.0, \"6/18\", \"64/227\", \"67.4 %\", \"16/18\", \"220/230\", \"1.54 %\", \"2/18\", \"31/230\"], [\"ALPHA.AT\", \"Alpha Services and Holdings S.A.\", \"Greece\", \"Financial Services\", \"Banks\\u2014Regional\", \"0 %\", \"2/43\", \"15/230\", \"buy\", 2.3, \"30/43\", \"114/221\", 0.11, \"6/41\", \"45/197\", \"+66.3 %\", \"36/43\", \"216/230\", 0.838526, \"27/43\", \"169/230\", \"3.62B EUR\", \"5/43\", \"49/229\", 3.0, \"24/43\", \"104/227\", \"38.8 %\", \"27/43\", \"140/230\", \"9 %\", \"18/43\", \"63/230\"], [\"ALV.DE\", \"Allianz SE\", \"Germany\", \"Financial Services\", \"Insurance\\u2014Diversified\", \"5.13 %\", \"16/43\", \"161/230\", \"buy\", 2.1, \"18/43\", \"72/221\", 0.88, \"28/41\", \"97/197\", \"+32.1 %\", \"26/43\", \"181/230\", 0.959823, \"39/43\", \"214/230\", \"90.6B EUR\", \"42/43\", \"212/229\", 5.0, \"33/43\", \"147/227\", \"39 %\", \"28/43\", \"142/230\", \"0.003 %\", \"5/43\", \"15/230\"], [\"AMP.MI\", \"Amplifon S.p.A.\", \"Italy\", \"Healthcare\", \"Medical Distribution\", \"0.97 %\", \"4/14\", \"43/230\", \"buy\", 2.3, \"6/14\", \"114/221\", 2.51, \"7/12\", \"153/197\", \"+17.2 %\", \"9/14\", \"123/230\", 0.553763, \"5/14\", \"88/230\", \"6.92B EUR\", \"3/14\", \"86/229\", 8.0, \"12/14\", \"198/227\", \"32.5 %\", \"5/14\", \"107/230\", \"42.2 %\", \"11/14\", \"159/230\"], [\"AMS.MC\", \"Amadeus IT Group, S.A.\", \"Spain\", \"Consumer Cyclical\", \"Travel Services\", \"1.21 %\", \"9/24\", \"51/230\", \"buy\", 2.4, \"12/24\", \"132/221\", 0.08, \"4/22\", \"41/197\", \"+16.8 %\", \"9/24\", \"121/230\", 0.723295, \"11/24\", \"129/230\", \"28.2B EUR\", \"12/23\", \"166/229\", 1.0, \"1/24\", \"21/227\", \"71.3 %\", \"23/24\", \"223/230\", \"0.02 %\", \"1/24\", \"18/230\"], [\"ANA.MC\", \"Acciona, S.A.\", \"Spain\", \"Industrials\", \"Engineering & Construction\", \"3.57 %\", \"31/47\", \"119/230\", \"hold\", 2.8, \"39/43\", \"195/221\", 1.73, \"27/38\", \"132/197\", \"-35 %\", \"0/47\", \"8/230\", 0.125832, \"1/47\", \"17/230\", \"7.29B EUR\", \"18/47\", \"92/229\", 5.0, \"27/46\", \"147/227\", \"15.8 %\", \"8/47\", \"38/230\", \"56.3 %\", \"41/47\", \"198/230\"], [\"ANDR.VI\", \"Andritz AG\", \"Austria\", \"Industrials\", \"Industrial Distribution\", \"4.56 %\", \"38/47\", \"149/230\", \"buy\", 1.8, \"5/43\", \"23/221\", 1.68, \"26/38\", \"131/197\", \"+1.95 %\", \"6/47\", \"72/230\", 0.209246, \"2/47\", \"28/230\", \"4.72B EUR\", \"13/47\", \"67/229\", 6.0, \"33/46\", \"167/227\", \"32 %\", \"22/47\", \"104/230\", \"31.5 %\", \"23/47\", \"129/230\"], [\"ANE.MC\", \"Corporaci\\u00f3n Acciona Energ\\u00edas Renovables, S.A.\", \"Spain\", \"Utilities\", \"Utilities\\u2014Renewable\", \"2.69 %\", \"5/20\", \"92/230\", \"buy\", 2.2, \"8/19\", \"95/221\", NaN, \"-\", \"-\", \"-37.1 %\", \"0/20\", \"7/230\", 0.157191, \"2/20\", \"22/230\", \"9.19B EUR\", \"8/20\", \"103/229\", NaN, \"-\", \"-\", \"11.7 %\", \"2/20\", \"18/230\", \"82.6 %\", \"19/20\", \"228/230\"], [\"ARGX.BR\", \"argenx SE\", \"Netherlands\", \"Healthcare\", \"Biotechnology\", \"0 %\", \"2/14\", \"15/230\", \"buy\", 1.9, \"1/14\", \"34/221\", NaN, \"-\", \"-\", \"+23 %\", \"13/14\", \"151/230\", 0.847137, \"10/14\", \"174/230\", \"27.9B EUR\", \"9/14\", \"165/229\", 5.0, \"8/14\", \"147/227\", \"37.8 %\", \"7/14\", \"132/230\", \"0 %\", \"1/14\", \"7/230\"], [\"ASM.AS\", \"ASM International NV\", \"Netherlands\", \"Technology\", \"Semiconductor Equipment & Materials\", \"0.59 %\", \"5/15\", \"36/230\", \"buy\", 2.3, \"8/13\", \"114/221\", 4.31, \"10/12\", \"175/197\", \"+58.8 %\", \"14/15\", \"211/230\", 0.831465, \"13/15\", \"167/230\", \"21.4B EUR\", \"8/15\", \"152/229\", 1.0, \"2/14\", \"21/227\", \"55.7 %\", \"10/15\", \"200/230\", \"5.53 %\", \"3/15\", \"49/230\"], [\"ASML.AS\", \"ASML Holding N.V.\", \"Netherlands\", \"Technology\", \"Semiconductor Equipment & Materials\", \"0.99 %\", \"6/15\", \"44/230\", \"buy\", 2.2, \"5/13\", \"95/221\", 1.34, \"6/12\", \"116/197\", \"+23.7 %\", \"10/15\", \"152/230\", 0.736001, \"11/15\", \"134/230\", \"263B EUR\", \"14/15\", \"227/229\", 1.0, \"2/14\", \"21/227\", \"53 %\", \"9/15\", \"193/230\", \"0.008 %\", \"1/15\", \"17/230\"], [\"ATO.PA\", \"Atos SE\", \"France\", \"Technology\", \"Information Technology Services\", \"0 %\", \"2/15\", \"15/230\", \"hold\", 3.5, \"12/13\", \"219/221\", 0.06, \"1/12\", \"40/197\", \"-30.1 %\", \"1/15\", \"11/230\", 0.065376, \"3/15\", \"7/230\", \"1.56B EUR\", \"2/15\", \"15/229\", 2.0, \"7/14\", \"64/227\", \"28.3 %\", \"3/15\", \"90/230\", \"3.07 %\", \"2/15\", \"37/230\"], [\"ATS.VI\", \"AT & S Austria Technologie & Systemtechnik Aktiengesellschaft\", \"Austria\", \"Technology\", \"Electronic Components\", \"1.24 %\", \"8/15\", \"52/230\", \"none\", NaN, \"-\", \"-\", -0.3, \"0/12\", \"33/197\", \"-26.1 %\", \"3/15\", \"18/230\", 0.417245, \"6/15\", \"58/230\", \"1.3B EUR\", \"1/15\", \"11/229\", 9.0, \"13/14\", \"209/227\", \"15.3 %\", \"1/15\", \"36/230\", \"35.7 %\", \"11/15\", \"147/230\"], [\"AZM.MI\", \"Azimut Holding S.p.A.\", \"Italy\", \"Financial Services\", \"Asset Management\", \"6.27 %\", \"28/43\", \"185/230\", \"buy\", 2.2, \"24/43\", \"95/221\", 1.03, \"29/41\", \"101/197\", \"+29.7 %\", \"23/43\", \"172/230\", 0.731805, \"21/43\", \"131/230\", \"2.97B EUR\", \"2/43\", \"41/229\", 9.0, \"42/43\", \"209/227\", \"20.6 %\", \"8/43\", \"54/230\", \"20.5 %\", \"23/43\", \"91/230\"], [\"BAMI.MI\", \"Banco BPM S.p.A.\", \"Italy\", \"Financial Services\", \"Banks\\u2014Regional\", \"5.3 %\", \"19/43\", \"165/230\", \"buy\", 1.7, \"4/43\", \"12/221\", 0.3, \"13/41\", \"58/197\", \"+77.7 %\", \"38/43\", \"218/230\", 0.908717, \"34/43\", \"195/230\", \"6.72B EUR\", \"16/43\", \"83/229\", 1.0, \"6/43\", \"21/227\", \"37.5 %\", \"25/43\", \"130/230\", \"0 %\", \"2/43\", \"7/230\"], [\"BAS.DE\", \"BASF SE\", \"Germany\", \"Basic Materials\", \"Chemicals\", \"7.55 %\", \"17/18\", \"206/230\", \"buy\", 2.4, \"8/18\", \"132/221\", -1.35, \"2/17\", \"18/197\", \"+7.62 %\", \"8/18\", \"92/230\", 0.50062, \"8/18\", \"79/230\", \"41B EUR\", \"16/18\", \"181/229\", 3.0, \"10/18\", \"104/227\", \"26.2 %\", \"4/18\", \"78/230\", \"0 %\", \"0/18\", \"7/230\"], [\"BAYN.DE\", \"Bayer Aktiengesellschaft\", \"Germany\", \"Healthcare\", \"Drug Manufacturers\\u2014General\", \"4.8 %\", \"13/14\", \"156/230\", \"buy\", 2.2, \"3/14\", \"95/221\", -3.21, \"0/12\", \"8/197\", \"-2.85 %\", \"4/14\", \"60/230\", 0.209388, \"3/14\", \"29/230\", \"49.8B EUR\", \"10/14\", \"191/229\", 6.0, \"9/14\", \"167/227\", \"50.2 %\", \"11/14\", \"184/230\", \"0 %\", \"1/14\", \"7/230\"], [\"BBVA.MC\", \"Banco Bilbao Vizcaya Argentaria, S.A.\", \"Spain\", \"Financial Services\", \"Banks\\u2014Diversified\", \"6.01 %\", \"22/43\", \"176/230\", \"buy\", 2.3, \"30/43\", \"114/221\", 0.26, \"10/41\", \"55/197\", \"+62.3 %\", \"34/43\", \"213/230\", 0.935127, \"36/43\", \"206/230\", \"43.8B EUR\", \"35/43\", \"184/229\", 1.0, \"6/43\", \"21/227\", \"32.8 %\", \"20/43\", \"109/230\", \"0.029 %\", \"7/43\", \"19/230\"], [\"BEI.DE\", \"Beiersdorf Aktiengesellschaft\", \"Germany\", \"Consumer Defensive\", \"Household & Personal Products\", \"0.58 %\", \"1/15\", \"35/230\", \"buy\", 2.5, \"7/13\", \"151/221\", 2.87, \"5/9\", \"163/197\", \"+19.5 %\", \"12/15\", \"135/230\", 0.777115, \"11/15\", \"149/230\", \"27.4B EUR\", \"7/15\", \"162/229\", 8.0, \"9/15\", \"198/227\", \"19.6 %\", \"3/15\", \"49/230\", \"51.2 %\", \"10/15\", \"182/230\"], [\"BELA.AT\", \"Jumbo S.A.\", \"Greece\", \"Consumer Cyclical\", \"Specialty Retail\", \"0 %\", \"2/24\", \"15/230\", \"buy\", 1.6, \"0/24\", \"5/221\", 1.6, \"12/22\", \"128/197\", \"+101 %\", \"23/24\", \"221/230\", 0.987539, \"23/24\", \"227/230\", \"3.95B EUR\", \"6/23\", \"55/229\", 4.0, \"9/24\", \"128/227\", \"39.8 %\", \"14/24\", \"148/230\", \"19.4 %\", \"6/24\", \"87/230\"], [\"BG.VI\", \"BAWAG Group AG\", \"Austria\", \"Financial Services\", \"Banks\\u2014Regional\", \"8.81 %\", \"38/43\", \"216/230\", \"buy\", 1.8, \"7/43\", \"23/221\", 6.74, \"38/41\", \"182/197\", \"-4.56 %\", \"3/43\", \"55/230\", 0.222424, \"1/43\", \"32/230\", \"3.49B EUR\", \"4/43\", \"47/229\", 4.0, \"28/43\", \"128/227\", \"61.7 %\", \"39/43\", \"214/230\", \"3.25 %\", \"10/43\", \"39/230\"], [\"BKT.MC\", \"Bankinter, S.A.\", \"Spain\", \"Financial Services\", \"Banks\\u2014Regional\", \"6.17 %\", \"25/43\", \"182/230\", \"buy\", 2.3, \"30/43\", \"114/221\", 0.69, \"22/41\", \"82/197\", \"+19.9 %\", \"15/43\", \"136/230\", 0.592629, \"11/43\", \"95/230\", \"5.48B EUR\", \"10/43\", \"74/229\", 3.0, \"24/43\", \"104/227\", \"32.4 %\", \"18/43\", \"106/230\", \"29.1 %\", \"27/43\", \"119/230\"], [\"BMED.MI\", \"Banca Mediolanum S.p.A.\", \"Italy\", \"Financial Services\", \"Banks\\u2014Regional\", \"6.09 %\", \"24/43\", \"180/230\", \"strong_buy\", 1.5, \"1/43\", \"2/221\", 1.15, \"31/41\", \"106/197\", \"+30.1 %\", \"24/43\", \"173/230\", 0.669073, \"16/43\", \"113/230\", \"6.29B EUR\", \"15/43\", \"82/229\", 4.0, \"28/43\", \"128/227\", \"12.6 %\", \"6/43\", \"25/230\", \"69.4 %\", \"40/43\", \"217/230\"], [\"BMW.DE\", \"Bayerische Motoren Werke Aktiengesellschaft\", \"Germany\", \"Consumer Cyclical\", \"Auto Manufacturers\", \"8.81 %\", \"23/24\", \"216/230\", \"hold\", 2.8, \"21/24\", \"195/221\", -0.35, \"2/22\", \"31/197\", \"+30.9 %\", \"16/24\", \"175/230\", 0.647268, \"8/24\", \"110/230\", \"64.3B EUR\", \"18/23\", \"205/229\", 7.0, \"15/24\", \"182/227\", \"23 %\", \"9/24\", \"69/230\", \"48.6 %\", \"14/24\", \"173/230\"], [\"BN.PA\", \"Danone S.A.\", \"France\", \"Consumer Defensive\", \"Packaged Foods\", \"3.74 %\", \"13/15\", \"124/230\", \"hold\", 2.6, \"8/13\", \"170/221\", 4.07, \"8/9\", \"174/197\", \"+3.09 %\", \"3/15\", \"77/230\", 0.457369, \"3/15\", \"67/230\", \"36.2B EUR\", \"9/15\", \"179/229\", 1.0, \"1/15\", \"21/227\", \"59.1 %\", \"14/15\", \"210/230\", \"2.19 %\", \"2/15\", \"34/230\"], [\"BNP.PA\", \"BNP Paribas SA\", \"France\", \"Financial Services\", \"Banks\\u2014Regional\", \"6.69 %\", \"32/43\", \"197/230\", \"buy\", 2.0, \"13/43\", \"50/221\", 0.62, \"20/41\", \"76/197\", \"+28.3 %\", \"21/43\", \"165/230\", 0.72073, \"20/43\", \"128/230\", \"72.9B EUR\", \"41/43\", \"209/229\", 3.0, \"24/43\", \"104/227\", \"47.8 %\", \"36/43\", \"175/230\", \"13.1 %\", \"19/43\", \"74/230\"], [\"BPE.MI\", \"BPER Banca SpA\", \"Italy\", \"Financial Services\", \"Banks\\u2014Regional\", \"4.42 %\", \"12/43\", \"142/230\", \"buy\", 2.1, \"18/43\", \"72/221\", 0.11, \"6/41\", \"45/197\", \"+84.5 %\", \"39/43\", \"219/230\", 0.766761, \"24/43\", \"145/230\", \"3.96B EUR\", \"7/43\", \"56/229\", 1.0, \"6/43\", \"21/227\", \"20.9 %\", \"9/43\", \"57/230\", \"30.1 %\", \"28/43\", \"125/230\"], [\"CA.PA\", \"Carrefour SA\", \"France\", \"Consumer Defensive\", \"Grocery Stores\", \"3.08 %\", \"10/15\", \"98/230\", \"buy\", 2.1, \"2/13\", \"72/221\", 0.58, \"0/9\", \"69/197\", \"+10.8 %\", \"7/15\", \"99/230\", 0.66573, \"7/15\", \"112/230\", \"12.4B EUR\", \"4/15\", \"122/229\", 7.0, \"6/15\", \"182/227\", \"39.1 %\", \"9/15\", \"143/230\", \"23.1 %\", \"4/15\", \"98/230\"], [\"CABK.MC\", \"CaixaBank, S.A.\", \"Spain\", \"Financial Services\", \"Banks\\u2014Regional\", \"6.09 %\", \"24/43\", \"180/230\", \"buy\", 2.3, \"30/43\", \"114/221\", 0.53, \"15/41\", \"65/197\", \"+30.2 %\", \"25/43\", \"174/230\", 0.738863, \"22/43\", \"136/230\", \"28.9B EUR\", \"31/43\", \"170/229\", 1.0, \"6/43\", \"21/227\", \"21 %\", \"10/43\", \"58/230\", \"49.6 %\", \"33/43\", \"176/230\"], [\"CAI.VI\", \"CA Immobilien Anlagen AG\", \"Austria\", \"Real Estate\", \"Real Estate Services\", \"3.33 %\", \"3/11\", \"109/230\", \"buy\", 2.1, \"4/11\", \"72/221\", -0.62, \"1/10\", \"25/197\", \"-3.67 %\", \"8/11\", \"58/230\", 0.644144, \"8/11\", \"109/230\", \"2.97B EUR\", \"5/11\", \"42/229\", 7.0, \"9/11\", \"182/227\", \"73.8 %\", \"10/11\", \"224/230\", \"0 %\", \"1/11\", \"7/230\"], [\"CAP.PA\", \"Capgemini SE\", \"France\", \"Technology\", \"Information Technology Services\", \"2 %\", \"10/15\", \"74/230\", \"buy\", 1.8, \"0/13\", \"23/221\", 1.44, \"7/12\", \"120/197\", \"-5.43 %\", \"7/15\", \"54/230\", 0.442667, \"7/15\", \"66/230\", \"30.9B EUR\", \"9/15\", \"175/229\", 2.0, \"7/14\", \"64/227\", \"56.7 %\", \"12/15\", \"204/230\", \"9.82 %\", \"5/15\", \"65/230\"], [\"CENER.AT\", \"Cenergy Holdings SA\", \"Belgium\", \"Industrials\", \"Electrical Equipment & Parts\", \"0.73 %\", \"6/47\", \"40/230\", \"none\", NaN, \"-\", \"-\", NaN, \"-\", \"-\", \"+178 %\", \"46/47\", \"228/230\", 0.985386, \"45/47\", \"226/230\", \"1.38B EUR\", \"4/47\", \"14/229\", NaN, \"-\", \"-\", \"1.7 %\", \"0/47\", \"0/230\", \"79.8 %\", \"45/47\", \"226/230\"], [\"CGCBV.HE\", \"Cargotec Corporation\", \"Finland\", \"Industrials\", \"Specialty Industrial Machinery\", \"3.23 %\", \"25/47\", \"104/230\", \"buy\", 1.9, \"8/43\", \"34/221\", 0.23, \"8/38\", \"53/197\", \"+25.6 %\", \"22/47\", \"155/230\", 0.540394, \"10/47\", \"86/230\", \"2.78B EUR\", \"8/47\", \"38/229\", 8.0, \"40/46\", \"198/227\", \"34 %\", \"24/47\", \"114/230\", \"33.9 %\", \"29/47\", \"143/230\"], [\"CLNX.MC\", \"Cellnex Telecom, S.A.\", \"Spain\", \"Real Estate\", \"Real Estate Services\", \"0.1 %\", \"2/11\", \"30/230\", \"buy\", 1.7, \"1/11\", \"12/221\", -5.01, \"0/10\", \"5/197\", \"-12 %\", \"6/11\", \"39/230\", 0.610544, \"7/11\", \"102/230\", \"24.8B EUR\", \"10/11\", \"157/229\", 1.0, \"2/11\", \"21/227\", \"56.1 %\", \"8/11\", \"203/230\", \"15.2 %\", \"4/11\", \"79/230\"], [\"CNHI.MI\", \"CNH Industrial N.V.\", \"United Kingdom\", \"Industrials\", \"Farm & Heavy Construction Machinery\", \"3.01 %\", \"23/47\", \"95/230\", \"buy\", 2.1, \"18/43\", \"72/221\", 0.11, \"4/38\", \"45/197\", \"-0.647 %\", \"4/47\", \"65/230\", 0.216454, \"3/47\", \"30/230\", \"16.6B EUR\", \"30/47\", \"137/229\", 9.0, \"43/46\", \"209/227\", \"54.8 %\", \"40/47\", \"197/230\", \"27.2 %\", \"19/47\", \"112/230\"], [\"COFB.BR\", \"Cofinimmo SA\", \"Belgium\", \"Real Estate\", \"REIT\\u2014Diversified\", \"8.91 %\", \"9/11\", \"217/230\", \"buy\", 2.5, \"6/11\", \"151/221\", 2.53, \"7/10\", \"154/197\", \"-31.9 %\", \"2/11\", \"10/230\", 0.126138, \"1/11\", \"18/230\", \"2.52B EUR\", \"3/11\", \"31/229\", 2.0, \"5/11\", \"64/227\", \"35.5 %\", \"3/11\", \"121/230\", \"5.85 %\", \"3/11\", \"50/230\"], [\"COL.MC\", \"Inmobiliaria Colonial, SOCIMI, S.A.\", \"Spain\", \"Real Estate\", \"REIT\\u2014Office\", \"4.71 %\", \"7/11\", \"152/230\", \"hold\", 2.6, \"7/11\", \"170/221\", 1.99, \"4/10\", \"140/197\", \"-9.44 %\", \"7/11\", \"47/230\", 0.419856, \"5/11\", \"60/230\", \"2.95B EUR\", \"4/11\", \"40/229\", 5.0, \"8/11\", \"147/227\", \"47.9 %\", \"7/11\", \"177/230\", \"28.1 %\", \"6/11\", \"116/230\"], [\"COLR.BR\", \"Etn. Fr. Colruyt NV\", \"Belgium\", \"Consumer Defensive\", \"Grocery Stores\", \"2.3 %\", \"7/15\", \"85/230\", \"hold\", 3.4, \"12/13\", \"217/221\", 1.34, \"1/9\", \"116/197\", \"+28.3 %\", \"14/15\", \"166/230\", 0.948607, \"14/15\", \"210/230\", \"4.46B EUR\", \"1/15\", \"64/229\", 10.0, \"13/15\", \"220/227\", \"7.57 %\", \"0/15\", \"11/230\", \"60 %\", \"14/15\", \"206/230\"], [\"CPR.MI\", \"Davide Campari-Milano N.V.\", \"Italy\", \"Consumer Defensive\", \"Beverages\\u2014Wineries & Distilleries\", \"0.5 %\", \"0/15\", \"33/230\", \"buy\", 2.5, \"7/13\", \"151/221\", NaN, \"-\", \"-\", \"+17.8 %\", \"10/15\", \"128/230\", 0.809195, \"13/15\", \"162/230\", \"13.8B EUR\", \"5/15\", \"129/229\", 7.0, \"6/15\", \"182/227\", \"23.2 %\", \"5/15\", \"71/230\", \"54.3 %\", \"11/15\", \"192/230\"], [\"CS.PA\", \"AXA SA\", \"France\", \"Financial Services\", \"Insurance\\u2014Diversified\", \"6.21 %\", \"26/43\", \"183/230\", \"buy\", 1.8, \"7/43\", \"23/221\", 1.46, \"33/41\", \"122/197\", \"+17.7 %\", \"11/43\", \"126/230\", 0.718622, \"19/43\", \"127/230\", \"64B EUR\", \"40/43\", \"204/229\", 2.0, \"16/43\", \"64/227\", \"42.3 %\", \"32/43\", \"159/230\", \"20.2 %\", \"22/43\", \"90/230\"], [\"DB1.DE\", \"Deutsche B\\u00f6rse AG\", \"Germany\", \"Financial Services\", \"Financial Data & Stock Exchanges\", \"2.21 %\", \"6/43\", \"80/230\", \"buy\", 2.3, \"30/43\", \"114/221\", 2.0, \"34/41\", \"142/197\", \"-2.49 %\", \"5/43\", \"61/230\", 0.299363, \"3/43\", \"41/230\", \"30.2B EUR\", \"32/43\", \"174/229\", 1.0, \"6/43\", \"21/227\", \"62.4 %\", \"40/43\", \"215/230\", \"0 %\", \"2/43\", \"7/230\"], [\"DBK.DE\", \"Deutsche Bank Aktiengesellschaft\", \"Germany\", \"Financial Services\", \"Banks\\u2014Regional\", \"3.03 %\", \"7/43\", \"96/230\", \"buy\", 2.5, \"34/43\", \"151/221\", -1.55, \"2/41\", \"15/197\", \"+20.7 %\", \"17/43\", \"142/230\", 0.590847, \"10/43\", \"94/230\", \"20.9B EUR\", \"27/43\", \"148/229\", 2.0, \"16/43\", \"64/227\", \"39.2 %\", \"29/43\", \"144/230\", \"7.89 %\", \"15/43\", \"58/230\"], [\"DG.PA\", \"Vinci SA\", \"France\", \"Industrials\", \"Engineering & Construction\", \"3.96 %\", \"32/47\", \"129/230\", \"buy\", 1.8, \"5/43\", \"23/221\", 1.77, \"28/38\", \"134/197\", \"+12.9 %\", \"12/47\", \"103/230\", 0.726869, \"19/47\", \"130/230\", \"62.7B EUR\", \"42/47\", \"200/229\", 2.0, \"11/46\", \"64/227\", \"39.4 %\", \"28/47\", \"145/230\", \"10 %\", \"9/47\", \"66/230\"], [\"DHL.DE\", \"Deutsche Post AG\", \"Germany\", \"Industrials\", \"Integrated Freight & Logistics\", \"4.39 %\", \"37/47\", \"141/230\", \"buy\", 2.1, \"18/43\", \"72/221\", 20.5, \"36/38\", \"191/197\", \"+15.6 %\", \"17/47\", \"113/230\", 0.769718, \"21/47\", \"147/230\", \"51.3B EUR\", \"40/47\", \"192/229\", 2.0, \"11/46\", \"64/227\", \"33.2 %\", \"23/47\", \"110/230\", \"20.5 %\", \"15/47\", \"92/230\"], [\"DIA.MI\", \"DiaSorin S.p.A.\", \"Italy\", \"Healthcare\", \"Diagnostics & Research\", \"1.18 %\", \"5/14\", \"50/230\", \"hold\", 2.8, \"12/14\", \"195/221\", 6.21, \"9/12\", \"181/197\", \"-28.4 %\", \"1/14\", \"15/230\", 0.115077, \"1/14\", \"13/230\", \"5.07B EUR\", \"1/14\", \"68/229\", 10.0, \"13/14\", \"220/227\", \"21 %\", \"0/14\", \"59/230\", \"57.5 %\", \"13/14\", \"202/230\"], [\"DOC.VI\", \"DO & CO Aktiengesellschaft\", \"Austria\", \"Industrials\", \"Airports & Air Services\", \"0.93 %\", \"8/47\", \"42/230\", \"buy\", 2.0, \"12/43\", \"50/221\", NaN, \"-\", \"-\", \"+41.6 %\", \"37/47\", \"192/230\", 0.561379, \"12/47\", \"91/230\", \"1.11B EUR\", \"1/47\", \"6/229\", 5.0, \"27/46\", \"147/227\", \"45 %\", \"33/47\", \"166/230\", \"34.2 %\", \"30/47\", \"145/230\"], [\"DTE.DE\", \"Deutsche Telekom AG\", \"Germany\", \"Communication Services\", \"Telecom Services\", \"3.64 %\", \"4/13\", \"123/230\", \"buy\", 1.9, \"1/13\", \"34/221\", 2.65, \"7/11\", \"156/197\", \"+3.26 %\", \"10/13\", \"78/230\", 0.38303, \"6/13\", \"53/230\", \"97.3B EUR\", \"11/13\", \"214/229\", 3.0, \"3/13\", \"104/227\", \"46.7 %\", \"9/13\", \"171/230\", \"18.3 %\", \"3/13\", \"85/230\"], [\"DTG.DE\", \"Daimler Truck Holding AG\", \"Germany\", \"Industrials\", \"Farm & Heavy Construction Machinery\", \"4.03 %\", \"34/47\", \"132/230\", \"buy\", 1.8, \"5/43\", \"23/221\", 0.55, \"11/38\", \"67/197\", \"+26.3 %\", \"23/47\", \"158/230\", 0.849599, \"29/47\", \"176/230\", \"27.8B EUR\", \"36/47\", \"164/229\", 2.0, \"11/46\", \"64/227\", \"29.6 %\", \"20/47\", \"95/230\", \"42.1 %\", \"32/47\", \"158/230\"], [\"EBS.VI\", \"Erste Group Bank AG\", \"Austria\", \"Financial Services\", \"Banks\\u2014Regional\", \"5.78 %\", \"21/43\", \"175/230\", \"buy\", 2.0, \"13/43\", \"50/221\", 0.61, \"18/41\", \"74/197\", \"+48.9 %\", \"30/43\", \"202/230\", 0.747759, \"23/43\", \"139/230\", \"13.6B EUR\", \"25/43\", \"128/229\", 3.0, \"24/43\", \"104/227\", \"36.4 %\", \"24/43\", \"127/230\", \"24.3 %\", \"24/43\", \"102/230\"], [\"EEE.AT\", \"Coca-Cola HBC AG\", \"Switzerland\", \"Consumer Defensive\", \"Beverages\\u2014Non-Alcoholic\", \"2.95 %\", \"9/15\", \"94/230\", \"hold\", 3.0, \"11/13\", \"205/221\", NaN, \"-\", \"-\", \"+15.7 %\", \"9/15\", \"114/230\", 0.670678, \"8/15\", \"114/230\", \"9.91B EUR\", \"3/15\", \"111/229\", 10.0, \"13/15\", \"220/227\", \"28.7 %\", \"7/15\", \"92/230\", \"46.9 %\", \"6/15\", \"169/230\"], [\"EL.PA\", \"EssilorLuxottica Soci\\u00e9t\\u00e9 anonyme\", \"France\", \"Healthcare\", \"Medical Instruments & Supplies\", \"1.86 %\", \"8/14\", \"70/230\", \"buy\", 2.3, \"6/14\", \"114/221\", 2.15, \"6/12\", \"147/197\", \"+16.6 %\", \"8/14\", \"120/230\", 0.766537, \"8/14\", \"144/230\", \"79.5B EUR\", \"12/14\", \"210/229\", 5.0, \"8/14\", \"147/227\", \"27.1 %\", \"2/14\", \"84/230\", \"36.2 %\", \"9/14\", \"148/230\"], [\"ELE.MC\", \"Endesa, S.A.\", \"Spain\", \"Utilities\", \"Utilities\\u2014Regulated Electric\", \"16.7 %\", \"19/20\", \"227/230\", \"buy\", 2.3, \"9/19\", \"114/221\", 1.62, \"11/15\", \"130/197\", \"+8.8 %\", \"13/20\", \"94/230\", 0.715726, \"14/20\", \"126/230\", \"20.5B EUR\", \"12/20\", \"146/229\", 1.0, \"2/19\", \"21/227\", \"10.1 %\", \"1/20\", \"14/230\", \"70.1 %\", \"17/20\", \"219/230\"], [\"ELI.BR\", \"Elia Group SA/NV\", \"Belgium\", \"Utilities\", \"Utilities\\u2014Regulated Electric\", \"1.83 %\", \"1/20\", \"69/230\", \"buy\", 2.5, \"11/19\", \"151/221\", NaN, \"-\", \"-\", \"-29.8 %\", \"1/20\", \"13/230\", 0.139263, \"1/20\", \"20/230\", \"7.79B EUR\", \"6/20\", \"96/229\", 7.0, \"17/19\", \"182/227\", \"13.2 %\", \"5/20\", \"26/230\", \"54.2 %\", \"15/20\", \"191/230\"], [\"ELISA.HE\", \"Elisa Oyj\", \"Finland\", \"Communication Services\", \"Telecom Services\", \"4.84 %\", \"8/13\", \"157/230\", \"hold\", 3.3, \"12/13\", \"214/221\", 3.8, \"9/11\", \"171/197\", \"-16.5 %\", \"3/13\", \"29/230\", 0.069959, \"2/13\", \"9/230\", \"7.25B EUR\", \"5/13\", \"90/229\", 4.0, \"6/13\", \"128/227\", \"39 %\", \"7/13\", \"141/230\", \"11.5 %\", \"2/13\", \"71/230\"], [\"ELLAKTOR.AT\", \"Ellaktor S.A.\", \"Greece\", \"Industrials\", \"Engineering & Construction\", \"0 %\", \"2/47\", \"15/230\", \"none\", NaN, \"-\", \"-\", NaN, \"-\", \"-\", \"+39.1 %\", \"34/47\", \"188/230\", 0.768761, \"20/47\", \"146/230\", \"848M EUR\", \"0/47\", \"5/229\", 5.0, \"27/46\", \"147/227\", \"57.4 %\", \"41/47\", \"206/230\", \"29.9 %\", \"21/47\", \"123/230\"], [\"ELPE.AT\", \"HELLENiQ ENERGY Holdings S.A.\", \"Greece\", \"Energy\", \"Oil & Gas Integrated\", \"9.39 %\", \"9/10\", \"220/230\", \"hold\", 2.8, \"9/10\", \"195/221\", -0.38, \"4/10\", \"29/197\", \"+19.4 %\", \"7/10\", \"134/230\", 0.860377, \"7/10\", \"180/230\", \"2.54B EUR\", \"2/10\", \"32/229\", 9.0, \"7/10\", \"209/227\", \"2.41 %\", \"0/10\", \"2/230\", \"80.9 %\", \"9/10\", \"227/230\"], [\"EN.PA\", \"Bouygues SA\", \"France\", \"Industrials\", \"Engineering & Construction\", \"5.74 %\", \"42/47\", \"172/230\", \"buy\", 2.5, \"33/43\", \"151/221\", 0.61, \"14/38\", \"74/197\", \"+7.01 %\", \"9/47\", \"87/230\", 0.796813, \"24/47\", \"157/230\", \"12.2B EUR\", \"27/47\", \"121/229\", 4.0, \"24/46\", \"128/227\", \"37.4 %\", \"27/47\", \"129/230\", \"47.5 %\", \"35/47\", \"170/230\"], [\"ENEL.MI\", \"Enel SpA\", \"Italy\", \"Utilities\", \"Utilities\\u2014Diversified\", \"6.55 %\", \"13/20\", \"191/230\", \"buy\", 1.8, \"3/19\", \"23/221\", 1.16, \"8/15\", \"107/197\", \"+27.4 %\", \"17/20\", \"162/230\", 0.92863, \"19/20\", \"201/230\", \"63.1B EUR\", \"18/20\", \"201/229\", 1.0, \"2/19\", \"21/227\", \"35.9 %\", \"13/20\", \"124/230\", \"23.6 %\", \"4/20\", \"99/230\"], [\"ENG.MC\", \"Enag\\u00e1s, S.A.\", \"Spain\", \"Utilities\", \"Utilities\\u2014Regulated Gas\", \"13.3 %\", \"18/20\", \"226/230\", \"hold\", 3.3, \"17/19\", \"214/221\", -0.84, \"4/15\", \"21/197\", \"-16.5 %\", \"4/20\", \"28/230\", 0.283074, \"5/20\", \"38/230\", \"4.1B EUR\", \"4/20\", \"59/229\", 2.0, \"6/19\", \"64/227\", \"28.7 %\", \"11/20\", \"93/230\", \"16.8 %\", \"3/20\", \"83/230\"], [\"ENGI.PA\", \"Engie SA\", \"France\", \"Utilities\", \"Utilities\\u2014Diversified\", \"9.53 %\", \"17/20\", \"221/230\", \"buy\", 1.9, \"4/19\", \"34/221\", -1.07, \"3/15\", \"20/197\", \"+22.4 %\", \"16/20\", \"149/230\", 0.874763, \"18/20\", \"186/230\", \"36.4B EUR\", \"17/20\", \"180/229\", 3.0, \"10/19\", \"104/227\", \"38.3 %\", \"15/20\", \"137/230\", \"27.5 %\", \"6/20\", \"114/230\"], [\"ENI.MI\", \"Eni S.p.A.\", \"Italy\", \"Energy\", \"Oil & Gas Integrated\", \"6.43 %\", \"6/10\", \"187/230\", \"buy\", 2.1, \"5/10\", \"72/221\", -0.31, \"5/10\", \"32/197\", \"+16.9 %\", \"6/10\", \"122/230\", 0.863038, \"8/10\", \"181/230\", \"47.2B EUR\", \"7/10\", \"188/229\", 2.0, \"3/10\", \"64/227\", \"20.8 %\", \"4/10\", \"55/230\", \"32.4 %\", \"3/10\", \"133/230\"], [\"ENR.DE\", \"Siemens Energy AG\", \"Germany\", \"Industrials\", \"Specialty Industrial Machinery\", \"0 %\", \"2/47\", \"15/230\", \"buy\", 2.5, \"33/43\", \"151/221\", -0.02, \"3/38\", \"39/197\", \"-14 %\", \"2/47\", \"35/230\", 0.221497, \"4/47\", \"31/230\", \"10.7B EUR\", \"25/47\", \"116/229\", 3.0, \"20/46\", \"104/227\", \"27 %\", \"18/47\", \"83/230\", \"31.9 %\", \"25/47\", \"132/230\"], [\"EOAN.DE\", \"E.ON SE\", \"Germany\", \"Utilities\", \"Utilities\\u2014Diversified\", \"4.5 %\", \"8/20\", \"146/230\", \"buy\", 2.2, \"8/19\", \"95/221\", -4.47, \"1/15\", \"7/197\", \"+31.6 %\", \"18/20\", \"179/230\", 0.830339, \"15/20\", \"166/230\", \"29.9B EUR\", \"16/20\", \"173/229\", 2.0, \"6/19\", \"64/227\", \"41.1 %\", \"16/20\", \"155/230\", \"15 %\", \"2/20\", \"77/230\"], [\"ETE.AT\", \"National Bank of Greece S.A.\", \"Greece\", \"Financial Services\", \"Banks\\u2014Regional\", \"0 %\", \"2/43\", \"15/230\", \"buy\", 1.8, \"7/43\", \"23/221\", -4.68, \"0/41\", \"6/197\", \"+101 %\", \"40/43\", \"222/230\", 0.955543, \"38/43\", \"213/230\", \"5.81B EUR\", \"11/43\", \"76/229\", 2.0, \"16/43\", \"64/227\", \"28.4 %\", \"14/43\", \"91/230\", \"40.4 %\", \"31/43\", \"155/230\"], [\"EUROB.AT\", \"Eurobank Ergasias Services and Holdings S.A.\", \"Greece\", \"Financial Services\", \"Banks\\u2014Regional\", \"0 %\", \"2/43\", \"15/230\", \"buy\", 2.2, \"24/43\", \"95/221\", 0.3, \"13/41\", \"58/197\", \"+68.2 %\", \"37/43\", \"217/230\", 0.842165, \"28/43\", \"171/230\", \"5.86B EUR\", \"12/43\", \"77/229\", 5.0, \"33/43\", \"147/227\", \"27.5 %\", \"12/43\", \"86/230\", \"33.5 %\", \"30/43\", \"139/230\"], [\"EVN.VI\", \"EVN AG\", \"Austria\", \"Utilities\", \"Utilities\\u2014Diversified\", \"2.39 %\", \"4/20\", \"88/230\", \"buy\", 1.8, \"3/19\", \"23/221\", -128.7, \"0/15\", \"0/197\", \"+11.1 %\", \"14/20\", \"102/230\", 0.86875, \"17/20\", \"183/230\", \"3.98B EUR\", \"3/20\", \"57/229\", 10.0, \"18/19\", \"220/227\", \"4.14 %\", \"0/20\", \"4/230\", \"79.3 %\", \"18/20\", \"225/230\"], [\"EYDAP.AT\", \"Athens Water Supply and Sewerage Company S.A.\", \"Greece\", \"Utilities\", \"Utilities\\u2014Regulated Water\", \"4.31 %\", \"7/20\", \"139/230\", \"none\", NaN, \"-\", \"-\", NaN, \"-\", \"-\", \"-15 %\", \"5/20\", \"33/230\", 0.281407, \"4/20\", \"37/230\", \"705M EUR\", \"0/20\", \"3/229\", 4.0, \"13/19\", \"128/227\", \"16.5 %\", \"6/20\", \"44/230\", \"61.3 %\", \"16/20\", \"209/230\"], [\"FBK.MI\", \"FinecoBank Banca Fineco S.p.A.\", \"Italy\", \"Financial Services\", \"Banks\\u2014Regional\", \"3.89 %\", \"11/43\", \"127/230\", \"buy\", 2.2, \"24/43\", \"95/221\", 0.75, \"25/41\", \"87/197\", \"+17.9 %\", \"13/43\", \"129/230\", 0.340426, \"4/43\", \"47/230\", \"8.07B EUR\", \"19/43\", \"97/229\", 1.0, \"6/43\", \"21/227\", \"80.7 %\", \"42/43\", \"229/230\", \"0 %\", \"2/43\", \"7/230\"], [\"FDR.MC\", \"Fluidra, S.A.\", \"Spain\", \"Industrials\", \"Specialty Industrial Machinery\", \"3.47 %\", \"30/47\", \"116/230\", \"buy\", 2.5, \"33/43\", \"151/221\", 2.6, \"30/38\", \"155/197\", \"+26.8 %\", \"25/47\", \"161/230\", 0.880688, \"34/47\", \"187/230\", \"3.85B EUR\", \"10/47\", \"53/229\", 6.0, \"33/46\", \"167/227\", \"47.9 %\", \"34/47\", \"176/230\", \"49.2 %\", \"36/47\", \"175/230\"], [\"FER.MC\", \"Ferrovial SE\", \"Spain\", \"Industrials\", \"Infrastructure Operations\", \"2.28 %\", \"21/47\", \"82/230\", \"buy\", 2.4, \"28/43\", \"132/221\", NaN, \"-\", \"-\", \"+14.5 %\", \"14/47\", \"110/230\", 0.856787, \"31/47\", \"179/230\", \"21.3B EUR\", \"32/47\", \"150/229\", 2.0, \"11/46\", \"64/227\", \"12.3 %\", \"5/47\", \"22/230\", \"33.5 %\", \"28/47\", \"140/230\"], [\"FORTUM.HE\", \"Fortum Oyj\", \"Finland\", \"Utilities\", \"Utilities\\u2014Renewable\", \"7.49 %\", \"16/20\", \"204/230\", \"buy\", 2.0, \"5/19\", \"50/221\", -0.54, \"6/15\", \"28/197\", \"+15.8 %\", \"15/20\", \"115/230\", 0.474349, \"7/20\", \"71/230\", \"11.1B EUR\", \"9/20\", \"120/229\", 1.0, \"2/19\", \"21/227\", \"20 %\", \"7/20\", \"51/230\", \"53 %\", \"13/20\", \"186/230\"], [\"FRE.DE\", \"Fresenius SE & Co. KGaA\", \"Germany\", \"Healthcare\", \"Medical Care Facilities\", \"3.14 %\", \"10/14\", \"101/230\", \"buy\", 2.1, \"2/14\", \"72/221\", 1.61, \"5/12\", \"129/197\", \"+20.2 %\", \"11/14\", \"139/230\", 0.928705, \"11/14\", \"202/230\", \"16.7B EUR\", \"7/14\", \"139/229\", 1.0, \"0/14\", \"21/227\", \"36.5 %\", \"6/14\", \"128/230\", \"27 %\", \"7/14\", \"110/230\"], [\"G.MI\", \"Assicurazioni Generali S.p.A.\", \"Italy\", \"Financial Services\", \"Insurance\\u2014Diversified\", \"6.23 %\", \"27/43\", \"184/230\", \"hold\", 2.7, \"39/43\", \"184/221\", 0.8, \"27/41\", \"92/197\", \"+26.7 %\", \"20/43\", \"160/230\", 0.896667, \"32/43\", \"191/230\", \"28.8B EUR\", \"30/43\", \"168/229\", 1.0, \"6/43\", \"21/227\", \"34.9 %\", \"22/43\", \"116/230\", \"16.6 %\", \"21/43\", \"82/230\"], [\"GBLB.BR\", \"Groupe Bruxelles Lambert SA\", \"Belgium\", \"Financial Services\", \"Asset Management\", \"3.79 %\", \"10/43\", \"125/230\", \"buy\", 1.8, \"7/43\", \"23/221\", 12.13, \"39/41\", \"188/197\", \"-3.63 %\", \"4/43\", \"59/230\", 0.380952, \"6/43\", \"52/230\", \"10.2B EUR\", \"22/43\", \"114/229\", 5.0, \"33/43\", \"147/227\", \"30.3 %\", \"16/43\", \"99/230\", \"56.6 %\", \"36/43\", \"199/230\"], [\"GEKTERNA.AT\", \"GEK TERNA Holdings, Real Estate, Construction S.A.\", \"Greece\", \"Industrials\", \"Engineering & Construction\", \"1.46 %\", \"11/47\", \"56/230\", \"none\", NaN, \"-\", \"-\", NaN, \"-\", \"-\", \"+40.3 %\", \"36/47\", \"190/230\", 0.787234, \"23/47\", \"153/230\", \"1.29B EUR\", \"3/47\", \"10/229\", 10.0, \"45/46\", \"220/227\", \"11.7 %\", \"3/47\", \"17/230\", \"44.5 %\", \"34/47\", \"165/230\"], [\"GLE.PA\", \"Soci\\u00e9t\\u00e9 G\\u00e9n\\u00e9rale Soci\\u00e9t\\u00e9 anonyme\", \"France\", \"Financial Services\", \"Banks\\u2014Regional\", \"6.56 %\", \"30/43\", \"192/230\", \"buy\", 2.2, \"24/43\", \"95/221\", 0.09, \"4/41\", \"42/197\", \"+19 %\", \"14/43\", \"132/230\", 0.778673, \"25/43\", \"150/230\", \"21.4B EUR\", \"28/43\", \"151/229\", 2.0, \"16/43\", \"64/227\", \"48.2 %\", \"37/43\", \"179/230\", \"8.38 %\", \"17/43\", \"60/230\"], [\"GLPG.AS\", \"Galapagos NV\", \"Belgium\", \"Healthcare\", \"Biotechnology\", \"0 %\", \"2/14\", \"15/230\", \"hold\", 2.7, \"11/14\", \"184/221\", -0.62, \"1/12\", \"25/197\", \"-30.1 %\", \"0/14\", \"12/230\", 0.091826, \"0/14\", \"11/230\", \"2.45B EUR\", \"0/14\", \"27/229\", 7.0, \"11/14\", \"182/227\", \"31.3 %\", \"4/14\", \"101/230\", \"26.2 %\", \"6/14\", \"108/230\"], [\"GRF.MC\", \"Grifols, S.A.\", \"Spain\", \"Healthcare\", \"Drug Manufacturers\\u2014General\", \"0 %\", \"2/14\", \"15/230\", \"buy\", 2.5, \"8/14\", \"151/221\", NaN, \"-\", \"-\", \"+7.16 %\", \"5/14\", \"88/230\", 0.687587, \"6/14\", \"120/230\", \"7.67B EUR\", \"4/14\", \"95/229\", 3.0, \"4/14\", \"104/227\", \"30.2 %\", \"3/14\", \"98/230\", \"30.6 %\", \"8/14\", \"127/230\"], [\"HEI.DE\", \"Heidelberg Materials AG\", \"Germany\", \"Basic Materials\", \"Building Materials\", \"3.54 %\", \"8/18\", \"117/230\", \"buy\", 2.4, \"8/18\", \"132/221\", 0.76, \"8/17\", \"89/197\", \"+62.5 %\", \"17/18\", \"214/230\", 0.933931, \"16/18\", \"204/230\", \"14B EUR\", \"13/18\", \"131/229\", 4.0, \"13/18\", \"128/227\", \"38.3 %\", \"9/18\", \"138/230\", \"27.7 %\", \"11/18\", \"115/230\"], [\"HEIA.AS\", \"Heineken N.V.\", \"Netherlands\", \"Consumer Defensive\", \"Beverages\\u2014Brewers\", \"2.14 %\", \"5/15\", \"77/230\", \"buy\", 2.3, \"5/13\", \"114/221\", 1.48, \"2/9\", \"123/197\", \"-0.111 %\", \"1/15\", \"66/230\", 0.438258, \"1/15\", \"64/230\", \"51.9B EUR\", \"11/15\", \"194/229\", 2.0, \"2/15\", \"64/227\", \"21.1 %\", \"4/15\", \"61/230\", \"50.1 %\", \"8/15\", \"178/230\"], [\"HO.PA\", \"Thales S.A.\", \"France\", \"Industrials\", \"Aerospace & Defense\", \"2.22 %\", \"20/47\", \"81/230\", \"buy\", 2.2, \"22/43\", \"95/221\", 1.22, \"20/38\", \"109/197\", \"+10.5 %\", \"10/47\", \"98/230\", 0.7125, \"18/47\", \"125/230\", \"28.9B EUR\", \"38/47\", \"169/229\", 6.0, \"33/46\", \"167/227\", \"22.2 %\", \"15/47\", \"66/230\", \"54.1 %\", \"39/47\", \"190/230\"], [\"HTO.AT\", \"Hellenic Telecommunications Organization S.A.\", \"Greece\", \"Communication Services\", \"Telecom Services\", \"4.18 %\", \"5/13\", \"136/230\", \"buy\", 2.5, \"7/13\", \"151/221\", 1.78, \"5/11\", \"135/197\", \"-12.9 %\", \"4/13\", \"37/230\", 0.359606, \"4/13\", \"49/230\", \"5.94B EUR\", \"3/13\", \"78/229\", 9.0, \"12/13\", \"209/227\", \"18 %\", \"2/13\", \"46/230\", \"56.8 %\", \"11/13\", \"200/230\"], [\"IAG.MC\", \"International Consolidated Airlines Group S.A.\", \"United Kingdom\", \"Industrials\", \"Airlines\", \"0 %\", \"2/47\", \"15/230\", \"hold\", 2.6, \"36/43\", \"170/221\", 1.53, \"24/38\", \"125/197\", \"+51.1 %\", \"41/47\", \"205/230\", 0.87233, \"33/47\", \"184/230\", \"9.48B EUR\", \"21/47\", \"107/229\", 8.0, \"40/46\", \"198/227\", \"15.8 %\", \"9/47\", \"39/230\", \"25.5 %\", \"16/47\", \"106/230\"], [\"IBE.MC\", \"Iberdrola, S.A.\", \"Spain\", \"Utilities\", \"Utilities\\u2014Diversified\", \"4.52 %\", \"9/20\", \"147/230\", \"buy\", 2.1, \"6/19\", \"72/221\", 1.53, \"10/15\", \"125/197\", \"+3.38 %\", \"12/20\", \"79/230\", 0.683043, \"12/20\", \"117/230\", \"71.4B EUR\", \"19/20\", \"207/229\", 2.0, \"6/19\", \"64/227\", \"44.2 %\", \"17/20\", \"163/230\", \"0.234 %\", \"0/20\", \"26/230\"], [\"IFX.DE\", \"Infineon Technologies AG\", \"Germany\", \"Technology\", \"Semiconductors\", \"1 %\", \"7/15\", \"45/230\", \"buy\", 2.0, \"1/13\", \"50/221\", 0.81, \"3/12\", \"93/197\", \"+31 %\", \"11/15\", \"176/230\", 0.616848, \"9/15\", \"104/230\", \"43.3B EUR\", \"10/15\", \"183/229\", 1.0, \"2/14\", \"21/227\", \"57.3 %\", \"13/15\", \"205/230\", \"0 %\", \"0/15\", \"7/230\"], [\"IG.MI\", \"Italgas S.p.A.\", \"Italy\", \"Utilities\", \"Utilities\\u2014Regulated Gas\", \"6.08 %\", \"11/20\", \"178/230\", \"hold\", 2.6, \"13/19\", \"170/221\", 1.33, \"9/15\", \"114/197\", \"-1.42 %\", \"9/20\", \"63/230\", 0.485623, \"8/20\", \"75/230\", \"4.28B EUR\", \"5/20\", \"61/229\", 2.0, \"6/19\", \"64/227\", \"37.8 %\", \"14/20\", \"135/230\", \"43.8 %\", \"11/20\", \"162/230\"], [\"IIA.VI\", \"IMMOFINANZ AG\", \"Austria\", \"Real Estate\", \"Real Estate\\u2014Diversified\", \"0 %\", \"1/11\", \"15/230\", \"hold\", 3.0, \"10/11\", \"205/221\", 1.89, \"3/10\", \"137/197\", \"+20.3 %\", \"10/11\", \"140/230\", 0.967419, \"10/11\", \"219/230\", \"2.49B EUR\", \"2/11\", \"28/229\", 5.0, \"8/11\", \"147/227\", \"3.18 %\", \"0/11\", \"3/230\", \"78 %\", \"10/11\", \"224/230\"], [\"IMCD.AS\", \"IMCD N.V.\", \"Netherlands\", \"Basic Materials\", \"Specialty Chemicals\", \"1.92 %\", \"5/18\", \"72/230\", \"buy\", 2.4, \"8/18\", \"132/221\", 2.7, \"11/17\", \"157/197\", \"-10.8 %\", \"3/18\", \"43/230\", 0.389002, \"4/18\", \"54/230\", \"7.4B EUR\", \"7/18\", \"93/229\", 1.0, \"1/18\", \"21/227\", \"80.2 %\", \"17/18\", \"228/230\", \"1.73 %\", \"3/18\", \"32/230\"], [\"INGA.AS\", \"ING Groep N.V.\", \"Netherlands\", \"Financial Services\", \"Banks\\u2014Diversified\", \"5.24 %\", \"18/43\", \"164/230\", \"buy\", 2.0, \"13/43\", \"50/221\", 0.2, \"7/41\", \"49/197\", \"+51.2 %\", \"32/43\", \"206/230\", 0.972287, \"41/43\", \"220/230\", \"47.6B EUR\", \"37/43\", \"189/229\", 3.0, \"24/43\", \"104/227\", \"51.8 %\", \"38/43\", \"188/230\", \"0.002 %\", \"4/43\", \"14/230\"], [\"IP.MI\", \"Interpump Group S.p.A.\", \"Italy\", \"Industrials\", \"Specialty Industrial Machinery\", \"0.67 %\", \"5/47\", \"38/230\", \"buy\", 1.7, \"3/43\", \"12/221\", NaN, \"-\", \"-\", \"+28.8 %\", \"27/47\", \"167/230\", 0.64974, \"17/47\", \"111/230\", \"5.15B EUR\", \"14/47\", \"69/229\", 2.0, \"11/46\", \"64/227\", \"39.4 %\", \"29/47\", \"146/230\", \"31.7 %\", \"24/47\", \"131/230\"], [\"ISP.MI\", \"Intesa Sanpaolo S.p.A.\", \"Italy\", \"Financial Services\", \"Banks\\u2014Regional\", \"9.91 %\", \"42/43\", \"223/230\", \"buy\", 2.0, \"13/43\", \"50/221\", 0.27, \"11/41\", \"56/197\", \"+43.2 %\", \"28/43\", \"195/230\", 0.849851, \"30/43\", \"177/230\", \"45.5B EUR\", \"36/43\", \"185/229\", 1.0, \"6/43\", \"21/227\", \"33.4 %\", \"21/43\", \"112/230\", \"5.46 %\", \"12/43\", \"47/230\"], [\"ITX.MC\", \"Industria de Dise\\u00f1o Textil, S.A.\", \"Spain\", \"Consumer Cyclical\", \"Apparel Retail\", \"1.15 %\", \"8/24\", \"49/230\", \"buy\", 2.3, \"9/24\", \"114/221\", 1.89, \"13/22\", \"137/197\", \"+56.2 %\", \"22/24\", \"209/230\", 0.976111, \"22/24\", \"221/230\", \"110B EUR\", \"20/23\", \"217/229\", 2.0, \"4/24\", \"64/227\", \"15.8 %\", \"4/24\", \"40/230\", \"64.4 %\", \"20/24\", \"214/230\"], [\"KBC.BR\", \"KBC Group NV\", \"Belgium\", \"Financial Services\", \"Banks\\u2014Regional\", \"6.64 %\", \"31/43\", \"194/230\", \"hold\", 2.8, \"42/43\", \"195/221\", 0.73, \"24/41\", \"86/197\", \"+29.2 %\", \"22/43\", \"169/230\", 0.602593, \"12/43\", \"98/230\", \"27.3B EUR\", \"29/43\", \"161/229\", 4.0, \"28/43\", \"128/227\", \"34.9 %\", \"23/43\", \"117/230\", \"32.7 %\", \"29/43\", \"134/230\"], [\"KCR.HE\", \"Konecranes Plc\", \"Finland\", \"Industrials\", \"Farm & Heavy Construction Machinery\", \"4.14 %\", \"35/47\", \"134/230\", \"buy\", 2.0, \"12/43\", \"50/221\", 0.33, \"9/38\", \"60/197\", \"+32 %\", \"32/47\", \"180/230\", 0.598801, \"14/47\", \"97/230\", \"2.5B EUR\", \"7/47\", \"29/229\", 3.0, \"20/46\", \"104/227\", \"43.8 %\", \"32/47\", \"162/230\", \"26.6 %\", \"18/47\", \"109/230\"], [\"KEMIRA.HE\", \"Kemira Oyj\", \"Finland\", \"Basic Materials\", \"Chemicals\", \"4.37 %\", \"11/18\", \"140/230\", \"hold\", 2.9, \"17/18\", \"201/221\", 0.86, \"9/17\", \"96/197\", \"+19.3 %\", \"11/18\", \"133/230\", 0.49381, \"7/18\", \"77/230\", \"2.23B EUR\", \"3/18\", \"22/229\", 4.0, \"13/18\", \"128/227\", \"37.8 %\", \"7/18\", \"133/230\", \"29.6 %\", \"12/18\", \"120/230\"], [\"KER.PA\", \"Kering SA\", \"France\", \"Consumer Cyclical\", \"Luxury Goods\", \"2.87 %\", \"13/24\", \"93/230\", \"buy\", 2.4, \"12/24\", \"132/221\", NaN, \"-\", \"-\", \"-4.09 %\", \"5/24\", \"56/230\", 0.405851, \"6/24\", \"57/230\", \"61.4B EUR\", \"16/23\", \"199/229\", 6.0, \"14/24\", \"167/227\", \"26.9 %\", \"12/24\", \"81/230\", \"42.3 %\", \"12/24\", \"160/230\"], [\"KESKOB.HE\", \"Kesko Oyj\", \"Finland\", \"Consumer Defensive\", \"Grocery Stores\", \"6.14 %\", \"14/15\", \"181/230\", \"buy\", 2.2, \"3/13\", \"95/221\", 1.99, \"3/9\", \"140/197\", \"-15.3 %\", \"0/15\", \"31/230\", 0.243578, \"0/15\", \"33/230\", \"7.16B EUR\", \"2/15\", \"88/229\", 7.0, \"6/15\", \"182/227\", \"39.9 %\", \"10/15\", \"149/230\", \"2.03 %\", \"1/15\", \"33/230\"], [\"KNEBV.HE\", \"KONE Oyj\", \"Finland\", \"Industrials\", \"Specialty Industrial Machinery\", \"4.17 %\", \"36/47\", \"135/230\", \"hold\", 2.8, \"39/43\", \"195/221\", 1.56, \"25/38\", \"126/197\", \"+3.69 %\", \"7/47\", \"80/230\", 0.397714, \"6/47\", \"55/230\", \"22.4B EUR\", \"34/47\", \"155/229\", 8.0, \"40/46\", \"198/227\", \"30.6 %\", \"21/47\", \"100/230\", \"28.3 %\", \"20/47\", \"117/230\"], [\"KOJAMO.HE\", \"Kojamo Oyj\", \"Finland\", \"Real Estate\", \"Real Estate Services\", \"4.69 %\", \"6/11\", \"151/230\", \"hold\", 3.0, \"10/11\", \"205/221\", 7.06, \"9/10\", \"184/197\", \"-48.6 %\", \"0/11\", \"2/230\", 0.114035, \"0/11\", \"12/230\", \"2.17B EUR\", \"1/11\", \"21/229\", 1.0, \"2/11\", \"21/227\", \"44.3 %\", \"6/11\", \"164/230\", \"42 %\", \"8/11\", \"157/230\"], [\"KPN.AS\", \"Koninklijke KPN N.V.\", \"Netherlands\", \"Communication Services\", \"Telecom Services\", \"4.62 %\", \"6/13\", \"150/230\", \"buy\", 2.4, \"5/13\", \"132/221\", 1.97, \"6/11\", \"138/197\", \"-0.965 %\", \"7/13\", \"64/230\", 0.787879, \"11/13\", \"154/230\", \"12.7B EUR\", \"8/13\", \"123/229\", 1.0, \"0/13\", \"21/227\", \"58.6 %\", \"11/13\", \"208/230\", \"20.5 %\", \"4/13\", \"93/230\"], [\"LAMDA.AT\", \"Lamda Development S.A.\", \"Greece\", \"Real Estate\", \"Real Estate\\u2014Development\", \"0 %\", \"1/11\", \"15/230\", \"strong_buy\", 1.5, \"0/11\", \"2/221\", NaN, \"-\", \"-\", \"+14.4 %\", \"9/11\", \"109/230\", 0.737745, \"9/11\", \"135/230\", \"1.2B EUR\", \"0/11\", \"8/229\", 9.0, \"10/11\", \"209/227\", \"12.1 %\", \"1/11\", \"19/230\", \"53.3 %\", \"9/11\", \"187/230\"], [\"LDO.MI\", \"Leonardo S.p.a.\", \"Italy\", \"Industrials\", \"Aerospace & Defense\", \"1.08 %\", \"9/47\", \"47/230\", \"buy\", 1.9, \"8/43\", \"34/221\", 0.56, \"12/38\", \"68/197\", \"+58.2 %\", \"42/47\", \"210/230\", 0.941516, \"41/47\", \"209/230\", \"7.62B EUR\", \"19/47\", \"94/229\", 1.0, \"2/46\", \"21/227\", \"19.7 %\", \"13/47\", \"50/230\", \"30.2 %\", \"22/47\", \"126/230\"], [\"LHA.DE\", \"Deutsche Lufthansa AG\", \"Germany\", \"Industrials\", \"Airlines\", \"0 %\", \"2/47\", \"15/230\", \"buy\", 2.3, \"24/43\", \"114/221\", 0.21, \"7/38\", \"51/197\", \"+39.4 %\", \"35/47\", \"189/230\", 0.508009, \"8/47\", \"80/230\", \"10B EUR\", \"23/47\", \"112/229\", 3.0, \"20/46\", \"104/227\", \"19.4 %\", \"12/47\", \"48/230\", \"15.1 %\", \"10/47\", \"78/230\"], [\"LNZ.VI\", \"Lenzing Aktiengesellschaft\", \"Austria\", \"Basic Materials\", \"Chemicals\", \"0 %\", \"1/18\", \"15/230\", \"hold\", 2.8, \"16/18\", \"195/221\", 1.45, \"10/17\", \"121/197\", \"-42.5 %\", \"0/18\", \"4/230\", 0.087898, \"0/18\", \"10/230\", \"1.69B EUR\", \"1/18\", \"16/229\", 9.0, \"17/18\", \"209/227\", \"7.48 %\", \"0/18\", \"10/230\", \"40.7 %\", \"17/18\", \"156/230\"], [\"LOG.MC\", \"Compa\\u00f1\\u00eda de Distribuci\\u00f3n Integral Logista Holdings, S.A.\", \"Spain\", \"Industrials\", \"Integrated Freight & Logistics\", \"5.76 %\", \"43/47\", \"173/230\", \"buy\", 1.7, \"3/43\", \"12/221\", 6.15, \"35/38\", \"180/197\", \"+27.8 %\", \"26/47\", \"164/230\", 0.920213, \"38/47\", \"198/230\", \"3.3B EUR\", \"9/47\", \"46/229\", 5.0, \"27/46\", \"147/227\", \"22.7 %\", \"16/47\", \"68/230\", \"55.3 %\", \"40/47\", \"196/230\"], [\"LR.PA\", \"Legrand SA\", \"France\", \"Industrials\", \"Electrical Equipment & Parts\", \"2.13 %\", \"18/47\", \"76/230\", \"hold\", 2.6, \"36/43\", \"170/221\", 3.83, \"34/38\", \"172/197\", \"+22.8 %\", \"21/47\", \"150/230\", 0.929812, \"39/47\", \"203/230\", \"24.5B EUR\", \"35/47\", \"156/229\", 2.0, \"11/46\", \"64/227\", \"53.7 %\", \"38/47\", \"195/230\", \"5.37 %\", \"4/47\", \"46/230\"], [\"MAP.MC\", \"Mapfre, S.A.\", \"Spain\", \"Financial Services\", \"Insurance\\u2014Diversified\", \"8.93 %\", \"39/43\", \"218/230\", \"hold\", 2.7, \"39/43\", \"184/221\", 2.37, \"35/41\", \"149/197\", \"+17.8 %\", \"12/43\", \"127/230\", 0.790787, \"26/43\", \"155/230\", \"5.96B EUR\", \"13/43\", \"79/229\", 7.0, \"40/43\", \"182/227\", \"6.32 %\", \"0/43\", \"5/230\", \"69.8 %\", \"41/43\", \"218/230\"], [\"MB.MI\", \"Mediobanca Banca di Credito Finanziario S.p.A.\", \"Italy\", \"Financial Services\", \"Banks\\u2014Regional\", \"7.19 %\", \"33/43\", \"201/230\", \"buy\", 2.5, \"34/43\", \"151/221\", 0.64, \"21/41\", \"78/197\", \"+49.5 %\", \"31/43\", \"203/230\", 0.965702, \"40/43\", \"216/230\", \"10.2B EUR\", \"21/43\", \"113/229\", 2.0, \"16/43\", \"64/227\", \"28 %\", \"13/43\", \"88/230\", \"25.4 %\", \"25/43\", \"105/230\"], [\"MBG.DE\", \"Mercedes-Benz Group AG\", \"Germany\", \"Consumer Cyclical\", \"Auto Manufacturers\", \"7.76 %\", \"19/24\", \"208/230\", \"buy\", 2.0, \"5/24\", \"50/221\", 21.58, \"21/22\", \"192/197\", \"+18.8 %\", \"11/24\", \"131/230\", 0.675049, \"9/24\", \"115/230\", \"72.6B EUR\", \"19/23\", \"208/229\", 3.0, \"6/24\", \"104/227\", \"33.8 %\", \"13/24\", \"113/230\", \"21.8 %\", \"8/24\", \"97/230\"], [\"MC.PA\", \"LVMH Mo\\u00ebt Hennessy - Louis Vuitton, Soci\\u00e9t\\u00e9 Europ\\u00e9enne\", \"France\", \"Consumer Cyclical\", \"Luxury Goods\", \"1.53 %\", \"10/24\", \"58/230\", \"buy\", 1.9, \"3/24\", \"34/221\", 2.01, \"15/22\", \"145/197\", \"+20.7 %\", \"12/24\", \"141/230\", 0.69474, \"10/24\", \"122/230\", \"428B EUR\", \"22/23\", \"228/229\", 10.0, \"22/24\", \"220/227\", \"21.4 %\", \"7/24\", \"62/230\", \"48.4 %\", \"13/24\", \"171/230\"], [\"MEL.MC\", \"Meli\\u00e1 Hotels International, S.A.\", \"Spain\", \"Consumer Cyclical\", \"Lodging\", \"0 %\", \"2/24\", \"15/230\", \"hold\", 2.7, \"20/24\", \"184/221\", 2.05, \"16/22\", \"146/197\", \"+2.04 %\", \"6/24\", \"73/230\", 0.735263, \"12/24\", \"133/230\", \"1.35B EUR\", \"2/23\", \"13/229\", 4.0, \"9/24\", \"128/227\", \"22 %\", \"8/24\", \"65/230\", \"54.9 %\", \"17/24\", \"194/230\"], [\"MELE.BR\", \"Melexis NV\", \"Belgium\", \"Technology\", \"Semiconductors\", \"4.11 %\", \"13/15\", \"133/230\", \"hold\", 2.6, \"9/13\", \"170/221\", 3.42, \"9/12\", \"170/197\", \"+13.2 %\", \"8/15\", \"105/230\", 0.499382, \"8/15\", \"78/230\", \"3.59B EUR\", \"4/15\", \"48/229\", 3.0, \"10/14\", \"104/227\", \"21 %\", \"2/15\", \"60/230\", \"50 %\", \"13/15\", \"177/230\"], [\"METSB.HE\", \"Mets\\u00e4 Board Oyj\", \"Finland\", \"Consumer Cyclical\", \"Packaging & Containers\", \"8.01 %\", \"22/24\", \"211/230\", \"hold\", 3.0, \"22/24\", \"205/221\", 1.2, \"11/22\", \"108/197\", \"-15.1 %\", \"3/24\", \"32/230\", 0.377079, \"5/24\", \"50/230\", \"2.64B EUR\", \"4/23\", \"34/229\", 5.0, \"12/24\", \"147/227\", \"23.1 %\", \"10/24\", \"70/230\", \"52.9 %\", \"16/24\", \"185/230\"], [\"MMK.VI\", \"Mayr-Melnhof Karton AG\", \"Austria\", \"Consumer Cyclical\", \"Packaging & Containers\", \"3.23 %\", \"14/24\", \"104/230\", \"buy\", 2.2, \"8/24\", \"95/221\", 0.99, \"9/22\", \"99/197\", \"-13.2 %\", \"4/24\", \"36/230\", 0.168317, \"3/24\", \"23/230\", \"2.62B EUR\", \"3/23\", \"33/229\", 10.0, \"22/24\", \"220/227\", \"15.6 %\", \"3/24\", \"37/230\", \"58.5 %\", \"18/24\", \"203/230\"], [\"MOH.AT\", \"Motor Oil (Hellas) Corinth Refineries S.A.\", \"Greece\", \"Energy\", \"Oil & Gas Refining & Marketing\", \"7.26 %\", \"8/10\", \"202/230\", \"hold\", 2.6, \"8/10\", \"170/221\", 0.21, \"7/10\", \"51/197\", \"+27.4 %\", \"8/10\", \"163/230\", 0.742911, \"4/10\", \"137/230\", \"2.51B EUR\", \"1/10\", \"30/229\", 8.0, \"6/10\", \"198/227\", \"14.9 %\", \"2/10\", \"33/230\", \"46.6 %\", \"7/10\", \"168/230\"], [\"MONC.MI\", \"Moncler S.p.A.\", \"Italy\", \"Consumer Cyclical\", \"Apparel Manufacturing\", \"1.81 %\", \"11/24\", \"68/230\", \"buy\", 2.0, \"5/24\", \"50/221\", 2.38, \"18/22\", \"150/197\", \"+40.7 %\", \"18/24\", \"191/230\", 0.817742, \"16/24\", \"164/230\", \"17.7B EUR\", \"11/23\", \"141/229\", 3.0, \"6/24\", \"104/227\", \"54.8 %\", \"20/24\", \"198/230\", \"23.7 %\", \"9/24\", \"100/230\"], [\"MRK.DE\", \"Merck KGaA\", \"Germany\", \"Healthcare\", \"Drug Manufacturers\\u2014Specialty & Generic\", \"1.37 %\", \"6/14\", \"53/230\", \"buy\", 1.9, \"1/14\", \"34/221\", 7.21, \"10/12\", \"186/197\", \"-5.54 %\", \"3/14\", \"53/230\", 0.325175, \"4/14\", \"44/230\", \"71.4B EUR\", \"11/14\", \"206/229\", 7.0, \"11/14\", \"182/227\", \"58 %\", \"12/14\", \"207/230\", \"0 %\", \"1/14\", \"7/230\"], [\"MRL.MC\", \"MERLIN Properties SOCIMI, S.A.\", \"Spain\", \"Real Estate\", \"REIT\\u2014Diversified\", \"18 %\", \"10/11\", \"228/230\", \"buy\", 2.0, \"2/11\", \"50/221\", 0.93, \"2/10\", \"98/197\", \"-12.6 %\", \"5/11\", \"38/230\", 0.419501, \"4/11\", \"59/230\", \"3.82B EUR\", \"7/11\", \"52/229\", 3.0, \"6/11\", \"104/227\", \"35.3 %\", \"2/11\", \"120/230\", \"33.1 %\", \"7/11\", \"137/230\"], [\"MT.AS\", \"ArcelorMittal S.A.\", \"Luxembourg\", \"Basic Materials\", \"Steel\", \"1.67 %\", \"3/18\", \"64/230\", \"buy\", 2.2, \"4/18\", \"95/221\", -0.35, \"3/17\", \"31/197\", \"+2.67 %\", \"6/18\", \"74/230\", 0.474134, \"6/18\", \"69/230\", \"21.2B EUR\", \"15/18\", \"149/229\", 3.0, \"10/18\", \"104/227\", \"22.4 %\", \"1/18\", \"67/230\", \"38.8 %\", \"16/18\", \"153/230\"], [\"MTX.DE\", \"MTU Aero Engines AG\", \"Germany\", \"Industrials\", \"Aerospace & Defense\", \"1.56 %\", \"12/47\", \"59/230\", \"buy\", 2.4, \"28/43\", \"132/221\", 1.26, \"21/38\", \"110/197\", \"+15.4 %\", \"15/47\", \"111/230\", 0.606882, \"15/47\", \"101/230\", \"11.1B EUR\", \"26/47\", \"119/229\", 2.0, \"11/46\", \"64/227\", \"65 %\", \"43/47\", \"217/230\", \"0 %\", \"1/47\", \"7/230\"], [\"MUV2.DE\", \"M\\u00fcnchener R\\u00fcckversicherungs-Gesellschaft Aktiengesellschaft in M\\u00fcnchen\", \"Germany\", \"Financial Services\", \"Insurance\\u2014Reinsurance\", \"3.26 %\", \"8/43\", \"105/230\", \"buy\", 2.1, \"18/43\", \"72/221\", 0.55, \"16/41\", \"67/197\", \"+51.3 %\", \"33/43\", \"207/230\", 0.990683, \"42/43\", \"228/230\", \"48.8B EUR\", \"38/43\", \"190/229\", 2.0, \"16/43\", \"64/227\", \"46 %\", \"34/43\", \"169/230\", \"0 %\", \"2/43\", \"7/230\"], [\"MYTIL.AT\", \"Mytilineos S.A.\", \"Greece\", \"Industrials\", \"Conglomerates\", \"3.36 %\", \"27/47\", \"112/230\", \"buy\", 1.6, \"1/43\", \"5/221\", 0.13, \"6/38\", \"48/197\", \"+144 %\", \"44/47\", \"226/230\", 0.999199, \"46/47\", \"229/230\", \"5.29B EUR\", \"15/47\", \"71/229\", 3.0, \"20/46\", \"104/227\", \"19.4 %\", \"11/47\", \"47/230\", \"36.3 %\", \"31/47\", \"149/230\"], [\"NESTE.HE\", \"Neste Oyj\", \"Finland\", \"Energy\", \"Oil & Gas Refining & Marketing\", \"3.09 %\", \"1/10\", \"99/230\", \"buy\", 2.1, \"5/10\", \"72/221\", 1.29, \"9/10\", \"112/197\", \"-34.4 %\", \"0/10\", \"9/230\", 0.115779, \"0/10\", \"14/230\", \"26.2B EUR\", \"6/10\", \"159/229\", 1.0, \"1/10\", \"21/227\", \"26.8 %\", \"5/10\", \"79/230\", \"45.1 %\", \"6/10\", \"167/230\"], [\"NEXI.MI\", \"Nexi S.p.A.\", \"Italy\", \"Technology\", \"Software\\u2014Infrastructure\", \"0 %\", \"2/15\", \"15/230\", \"buy\", 2.1, \"2/13\", \"72/221\", NaN, \"-\", \"-\", \"-18.5 %\", \"5/15\", \"27/230\", 0.037462, \"2/15\", \"2/230\", \"9.35B EUR\", \"5/15\", \"106/229\", 5.0, \"11/14\", \"147/227\", \"38.3 %\", \"7/15\", \"139/230\", \"36.6 %\", \"12/15\", \"150/230\"], [\"NN.AS\", \"NN Group N.V.\", \"Netherlands\", \"Financial Services\", \"Insurance\\u2014Diversified\", \"8.17 %\", \"36/43\", \"213/230\", \"buy\", 2.1, \"18/43\", \"72/221\", 1.28, \"32/41\", \"111/197\", \"-14.6 %\", \"0/43\", \"34/230\", 0.482423, \"8/43\", \"73/230\", \"10.9B EUR\", \"23/43\", \"117/229\", 2.0, \"16/43\", \"64/227\", \"63.6 %\", \"41/43\", \"216/230\", \"0.007 %\", \"6/43\", \"16/230\"], [\"NOKIA.HE\", \"Nokia Oyj\", \"Finland\", \"Technology\", \"Communication Equipment\", \"3.43 %\", \"12/15\", \"114/230\", \"buy\", 2.2, \"5/13\", \"95/221\", 4.57, \"11/12\", \"177/197\", \"-26 %\", \"4/15\", \"19/230\", 0.135347, \"5/15\", \"19/230\", \"20.2B EUR\", \"7/15\", \"144/229\", 1.0, \"2/14\", \"21/227\", \"34.5 %\", \"4/15\", \"115/230\", \"6.48 %\", \"4/15\", \"51/230\"], [\"NTGY.MC\", \"Naturgy Energy Group, S.A.\", \"Spain\", \"Utilities\", \"Utilities\\u2014Regulated Gas\", \"6.47 %\", \"12/20\", \"189/230\", \"underperform\", 3.9, \"18/19\", \"220/221\", 13.18, \"14/15\", \"189/197\", \"-6.64 %\", \"7/20\", \"52/230\", 0.678925, \"11/20\", \"116/230\", \"26.1B EUR\", \"13/20\", \"158/229\", 6.0, \"16/19\", \"167/227\", \"44.3 %\", \"18/20\", \"165/230\", \"44.8 %\", \"12/20\", \"166/230\"], [\"OMV.VI\", \"OMV Aktiengesellschaft\", \"Austria\", \"Energy\", \"Oil & Gas Integrated\", \"6.65 %\", \"7/10\", \"195/230\", \"buy\", 2.4, \"7/10\", \"132/221\", 0.65, \"8/10\", \"80/197\", \"+4.55 %\", \"3/10\", \"83/230\", 0.432465, \"2/10\", \"63/230\", \"13.9B EUR\", \"4/10\", \"130/229\", 3.0, \"4/10\", \"104/227\", \"40.9 %\", \"7/10\", \"153/230\", \"31.5 %\", \"2/10\", \"130/230\"], [\"OPAP.AT\", \"Organization of Football Prognostics S.A.\", \"Greece\", \"Consumer Cyclical\", \"Gambling\", \"7.59 %\", \"18/24\", \"207/230\", \"buy\", 2.1, \"7/24\", \"72/221\", 0.62, \"7/22\", \"76/197\", \"+16.5 %\", \"8/24\", \"119/230\", 0.752033, \"14/24\", \"141/230\", \"5.78B EUR\", \"8/23\", \"75/229\", 4.0, \"9/24\", \"128/227\", \"15.3 %\", \"2/24\", \"35/230\", \"50.2 %\", \"15/24\", \"179/230\"], [\"OR.PA\", \"L'Or\\u00e9al S.A.\", \"France\", \"Consumer Defensive\", \"Household & Personal Products\", \"1.49 %\", \"3/15\", \"57/230\", \"hold\", 2.8, \"9/13\", \"195/221\", 4.01, \"7/9\", \"173/197\", \"+18.3 %\", \"11/15\", \"130/230\", 0.764271, \"10/15\", \"143/230\", \"222B EUR\", \"14/15\", \"226/229\", 6.0, \"4/15\", \"167/227\", \"16 %\", \"2/15\", \"43/230\", \"56.9 %\", \"13/15\", \"201/230\"], [\"ORA.PA\", \"Orange S.A.\", \"France\", \"Communication Services\", \"Telecom Services\", \"6.82 %\", \"9/13\", \"199/230\", \"buy\", 2.2, \"3/13\", \"95/221\", 0.65, \"4/11\", \"80/197\", \"+1.48 %\", \"8/13\", \"71/230\", 0.461318, \"7/13\", \"68/230\", \"27.6B EUR\", \"10/13\", \"163/229\", 3.0, \"3/13\", \"104/227\", \"43.6 %\", \"8/13\", \"161/230\", \"21 %\", \"5/13\", \"95/230\"], [\"ORNBV.HE\", \"Orion Oyj\", \"Finland\", \"Healthcare\", \"Drug Manufacturers\\u2014General\", \"4.5 %\", \"12/14\", \"146/230\", \"hold\", 2.6, \"9/14\", \"170/221\", 87.6, \"11/12\", \"195/197\", \"-20.6 %\", \"2/14\", \"26/230\", 0.180512, \"2/14\", \"25/230\", \"5.19B EUR\", \"2/14\", \"70/229\", 3.0, \"4/14\", \"104/227\", \"40.5 %\", \"8/14\", \"150/230\", \"3.43 %\", \"4/14\", \"40/230\"], [\"OTOEL.AT\", \"Autohellas S.A.\", \"Greece\", \"Consumer Cyclical\", \"Auto & Truck Dealerships\", \"4.78 %\", \"16/24\", \"155/230\", \"buy\", 2.5, \"15/24\", \"151/221\", 0.44, \"6/22\", \"63/197\", \"+44.6 %\", \"19/24\", \"197/230\", 0.88582, \"18/24\", \"189/230\", \"680M EUR\", \"0/23\", \"2/229\", 8.0, \"18/24\", \"198/227\", \"15.9 %\", \"5/24\", \"41/230\", \"60.1 %\", \"19/24\", \"207/230\"], [\"OUT1V.HE\", \"Outokumpu Oyj\", \"Finland\", \"Basic Materials\", \"Steel\", \"6.03 %\", \"15/18\", \"177/230\", \"hold\", 2.6, \"15/18\", \"170/221\", -0.2, \"5/17\", \"37/197\", \"+5.28 %\", \"7/18\", \"85/230\", 0.306613, \"1/18\", \"42/230\", \"1.83B EUR\", \"2/18\", \"18/229\", 1.0, \"1/18\", \"21/227\", \"38.3 %\", \"8/18\", \"136/230\", \"19.4 %\", \"10/18\", \"88/230\"], [\"P911.DE\", \"Dr. Ing. h.c. F. Porsche AG\", \"Germany\", \"Consumer Cyclical\", \"Auto Manufacturers\", \"1.01 %\", \"7/24\", \"46/230\", \"hold\", 2.7, \"20/24\", \"184/221\", 2.35, \"17/22\", \"148/197\", \"+21.6 %\", \"13/24\", \"146/230\", 0.548796, \"7/24\", \"87/230\", \"None EUR\", \"-\", \"-\", 10.0, \"22/24\", \"220/227\", \"14.4 %\", \"1/24\", \"30/230\", \"75 %\", \"23/24\", \"223/230\"], [\"PHIA.AS\", \"Koninklijke Philips N.V.\", \"Netherlands\", \"Healthcare\", \"Medical Devices\", \"0 %\", \"2/14\", \"15/230\", \"hold\", 3.2, \"13/14\", \"212/221\", 0.8, \"2/12\", \"92/197\", \"+21.6 %\", \"12/14\", \"145/230\", 0.978434, \"13/14\", \"225/230\", \"19.1B EUR\", \"8/14\", \"143/229\", 3.0, \"4/14\", \"104/227\", \"70.7 %\", \"13/14\", \"222/230\", \"0.119 %\", \"3/14\", \"24/230\"], [\"PIRC.MI\", \"Pirelli & C. S.p.A.\", \"Italy\", \"Consumer Cyclical\", \"Auto Parts\", \"4.85 %\", \"17/24\", \"158/230\", \"buy\", 1.9, \"3/24\", \"34/221\", 1.03, \"10/22\", \"101/197\", \"+22.2 %\", \"14/24\", \"147/230\", 0.750136, \"13/24\", \"140/230\", \"4.65B EUR\", \"7/23\", \"65/229\", 8.0, \"18/24\", \"198/227\", \"20.3 %\", \"6/24\", \"52/230\", \"65.1 %\", \"21/24\", \"215/230\"], [\"POST.VI\", \"\\u00d6sterreichische Post AG\", \"Austria\", \"Industrials\", \"Integrated Freight & Logistics\", \"5.55 %\", \"41/47\", \"169/230\", \"hold\", 3.4, \"41/43\", \"217/221\", -22.36, \"0/38\", \"1/197\", \"+16.1 %\", \"18/47\", \"117/230\", 0.555024, \"11/47\", \"89/230\", \"2.13B EUR\", \"6/47\", \"20/229\", 6.0, \"33/46\", \"167/227\", \"14.1 %\", \"7/47\", \"29/230\", \"52.8 %\", \"38/47\", \"184/230\"], [\"PPC.AT\", \"Public Power Corporation S.A.\", \"Greece\", \"Utilities\", \"Utilities\\u2014Renewable\", \"0 %\", \"0/20\", \"15/230\", \"buy\", 1.7, \"1/19\", \"12/221\", 0.83, \"7/15\", \"94/197\", \"+96 %\", \"19/20\", \"220/230\", 0.847756, \"16/20\", \"175/230\", \"3.92B EUR\", \"2/20\", \"54/229\", 5.0, \"15/19\", \"147/227\", \"25.8 %\", \"8/20\", \"77/230\", \"34.1 %\", \"9/20\", \"144/230\"], [\"PROX.BR\", \"Proximus PLC\", \"Belgium\", \"Communication Services\", \"Telecom Services\", \"21 %\", \"12/13\", \"229/230\", \"hold\", 3.1, \"11/13\", \"210/221\", -0.54, \"1/11\", \"28/197\", \"-47.5 %\", \"1/13\", \"3/230\", 0.066303, \"1/13\", \"8/230\", \"2.29B EUR\", \"0/13\", \"24/229\", 7.0, \"11/13\", \"182/227\", \"14.7 %\", \"1/13\", \"31/230\", \"53.5 %\", \"10/13\", \"188/230\"], [\"PRX.AS\", \"Prosus N.V.\", \"Netherlands\", \"Communication Services\", \"Internet Content & Information\", \"0.22 %\", \"2/13\", \"31/230\", \"buy\", 2.0, \"2/13\", \"50/221\", NaN, \"-\", \"-\", \"+2.85 %\", \"9/13\", \"76/230\", 0.631619, \"9/13\", \"107/230\", \"193B EUR\", \"12/13\", \"224/229\", 6.0, \"10/13\", \"167/227\", \"77 %\", \"12/13\", \"226/230\", \"0.632 %\", \"0/13\", \"29/230\"], [\"PRY.MI\", \"Prysmian S.p.A.\", \"Italy\", \"Industrials\", \"Electrical Equipment & Parts\", \"1.65 %\", \"13/47\", \"63/230\", \"buy\", 2.2, \"22/43\", \"95/221\", 0.6, \"13/38\", \"72/197\", \"+21.5 %\", \"20/47\", \"144/230\", 0.829966, \"26/47\", \"165/230\", \"10.4B EUR\", \"24/47\", \"115/229\", 5.0, \"27/46\", \"147/227\", \"77.7 %\", \"46/47\", \"227/230\", \"0 %\", \"1/47\", \"7/230\"], [\"PST.MI\", \"Poste Italiane S.p.A.\", \"Italy\", \"Industrials\", \"Conglomerates\", \"6.44 %\", \"45/47\", \"188/230\", \"buy\", 2.1, \"18/43\", \"72/221\", 0.77, \"16/38\", \"90/197\", \"+28.9 %\", \"28/47\", \"168/230\", 0.916416, \"37/47\", \"197/230\", \"13.5B EUR\", \"28/47\", \"127/229\", 2.0, \"11/46\", \"64/227\", \"12.2 %\", \"4/47\", \"20/230\", \"64.3 %\", \"43/47\", \"213/230\"], [\"QUEST.AT\", \"Quest Holdings S.A.\", \"Greece\", \"Technology\", \"Electronics & Computer Distribution\", \"3.28 %\", \"11/15\", \"107/230\", \"none\", NaN, \"-\", \"-\", NaN, \"-\", \"-\", \"+36 %\", \"12/15\", \"185/230\", 0.816876, \"12/15\", \"163/230\", \"662M EUR\", \"0/15\", \"1/229\", 8.0, \"12/14\", \"198/227\", \"7.04 %\", \"0/15\", \"7/230\", \"74.7 %\", \"14/15\", \"222/230\"], [\"RACE.MI\", \"Ferrari N.V.\", \"Italy\", \"Consumer Cyclical\", \"Auto Manufacturers\", \"0.63 %\", \"5/24\", \"37/230\", \"buy\", 2.5, \"15/24\", \"151/221\", 2.0, \"14/22\", \"142/197\", \"+47.4 %\", \"21/24\", \"201/230\", 0.941026, \"21/24\", \"208/230\", \"53.3B EUR\", \"14/23\", \"195/229\", 2.0, \"4/24\", \"64/227\", \"42.9 %\", \"15/24\", \"160/230\", \"33.9 %\", \"11/24\", \"142/230\"], [\"RAND.AS\", \"Randstad N.V.\", \"Netherlands\", \"Industrials\", \"Staffing & Employment Services\", \"5.32 %\", \"40/47\", \"166/230\", \"hold\", 3.5, \"42/43\", \"219/221\", -2.38, \"1/38\", \"10/197\", \"+17.3 %\", \"19/47\", \"124/230\", 0.58135, \"13/47\", \"92/230\", \"9.84B EUR\", \"22/47\", \"110/229\", 1.0, \"2/46\", \"21/227\", \"29.1 %\", \"19/47\", \"94/230\", \"32.8 %\", \"26/47\", \"135/230\"], [\"RBI.VI\", \"Raiffeisen Bank International AG\", \"Austria\", \"Financial Services\", \"Banks\\u2014Regional\", \"0 %\", \"2/43\", \"15/230\", \"hold\", 2.6, \"36/43\", \"170/221\", 0.62, \"20/41\", \"76/197\", \"+3.7 %\", \"7/43\", \"81/230\", 0.247331, \"2/43\", \"34/230\", \"4.3B EUR\", \"9/43\", \"62/229\", 5.0, \"33/43\", \"147/227\", \"9.2 %\", \"4/43\", \"13/230\", \"58.8 %\", \"37/43\", \"204/230\"], [\"REC.MI\", \"Recordati Industria Chimica e Farmaceutica S.p.A.\", \"Italy\", \"Healthcare\", \"Drug Manufacturers\\u2014General\", \"2.62 %\", \"9/14\", \"90/230\", \"hold\", 2.7, \"11/14\", \"184/221\", 2.78, \"8/12\", \"160/197\", \"+14 %\", \"6/14\", \"108/230\", 0.964899, \"12/14\", \"215/230\", \"9.63B EUR\", \"5/14\", \"108/229\", 3.0, \"4/14\", \"104/227\", \"26.9 %\", \"1/14\", \"80/230\", \"51.8 %\", \"12/14\", \"183/230\"], [\"RED.MC\", \"Redeia Corporaci\\u00f3n, S.A.\", \"Spain\", \"Utilities\", \"Utilities\\u2014Regulated Electric\", \"6.72 %\", \"14/20\", \"198/230\", \"hold\", 3.3, \"17/19\", \"214/221\", -1.36, \"2/15\", \"17/197\", \"-20.8 %\", \"3/20\", \"25/230\", 0.122492, \"0/20\", \"15/230\", \"8.14B EUR\", \"7/20\", \"98/229\", 4.0, \"13/19\", \"128/227\", \"31.4 %\", \"12/20\", \"103/230\", \"25 %\", \"5/20\", \"104/230\"], [\"REN.AS\", \"RELX PLC\", \"United Kingdom\", \"Industrials\", \"Specialty Business Services\", \"2.2 %\", \"19/47\", \"79/230\", \"buy\", 2.2, \"22/43\", \"95/221\", NaN, \"-\", \"-\", \"+10.9 %\", \"11/47\", \"101/230\", 0.781206, \"22/47\", \"152/230\", \"57.1B EUR\", \"41/47\", \"197/229\", 2.0, \"11/46\", \"64/227\", \"58.9 %\", \"42/47\", \"209/230\", \"0.429 %\", \"3/47\", \"27/230\"], [\"RI.PA\", \"Pernod Ricard SA\", \"France\", \"Consumer Defensive\", \"Beverages\\u2014Wineries & Distilleries\", \"2.39 %\", \"8/15\", \"88/230\", \"buy\", 2.3, \"5/13\", \"114/221\", NaN, \"-\", \"-\", \"+4.71 %\", \"4/15\", \"84/230\", 0.525981, \"5/15\", \"84/230\", \"51.5B EUR\", \"10/15\", \"193/229\", 3.0, \"3/15\", \"104/227\", \"48.7 %\", \"11/15\", \"182/230\", \"24 %\", \"5/15\", \"101/230\"], [\"RMS.PA\", \"Herm\\u00e8s International Soci\\u00e9t\\u00e9 en commandite par actions\", \"France\", \"Consumer Cyclical\", \"Luxury Goods\", \"0.69 %\", \"6/24\", \"39/230\", \"hold\", 2.6, \"17/24\", \"170/221\", 3.26, \"19/22\", \"169/197\", \"+46 %\", \"20/24\", \"200/230\", 0.873371, \"17/24\", \"185/230\", \"208B EUR\", \"21/23\", \"225/229\", 8.0, \"18/24\", \"198/227\", \"10.6 %\", \"0/24\", \"15/230\", \"67.1 %\", \"22/24\", \"216/230\"], [\"RWE.DE\", \"RWE Aktiengesellschaft\", \"Germany\", \"Utilities\", \"Utilities\\u2014Diversified\", \"2.29 %\", \"2/20\", \"83/230\", \"buy\", 1.7, \"1/19\", \"12/221\", -0.57, \"5/15\", \"26/197\", \"+1.26 %\", \"11/20\", \"70/230\", 0.491783, \"9/20\", \"76/230\", \"29.7B EUR\", \"15/20\", \"172/229\", 1.0, \"2/19\", \"21/227\", \"47.4 %\", \"19/20\", \"173/230\", \"3.96 %\", \"1/20\", \"42/230\"], [\"SAB.MC\", \"Banco de Sabadell, S.A.\", \"Spain\", \"Financial Services\", \"Banks\\u2014Diversified\", \"6.42 %\", \"29/43\", \"186/230\", \"buy\", 2.3, \"30/43\", \"114/221\", 0.22, \"8/41\", \"52/197\", \"+64.2 %\", \"35/43\", \"215/230\", 0.68713, \"18/43\", \"119/230\", \"6.19B EUR\", \"14/43\", \"81/229\", 1.0, \"6/43\", \"21/227\", \"29.8 %\", \"15/43\", \"96/230\", \"0.153 %\", \"8/43\", \"25/230\"], [\"SAF.PA\", \"Safran SA\", \"France\", \"Industrials\", \"Aerospace & Defense\", \"0.93 %\", \"8/47\", \"42/230\", \"buy\", 2.0, \"12/43\", \"50/221\", 0.66, \"15/38\", \"81/197\", \"+43.2 %\", \"39/47\", \"194/230\", 0.934931, \"40/47\", \"205/230\", \"63.3B EUR\", \"43/47\", \"203/229\", 4.0, \"24/46\", \"128/227\", \"41.6 %\", \"31/47\", \"157/230\", \"19.5 %\", \"14/47\", \"89/230\"], [\"SAMPO.HE\", \"Sampo Oyj\", \"Finland\", \"Financial Services\", \"Insurance\\u2014Diversified\", \"4.49 %\", \"13/43\", \"144/230\", \"buy\", 2.2, \"24/43\", \"95/221\", 5.35, \"37/41\", \"178/197\", \"-9.8 %\", \"1/43\", \"45/230\", 0.205171, \"0/43\", \"27/230\", \"20.3B EUR\", \"26/43\", \"145/229\", 1.0, \"6/43\", \"21/227\", \"45.8 %\", \"33/43\", \"168/230\", \"8.24 %\", \"16/43\", \"59/230\"], [\"SAN.MC\", \"Banco Santander, S.A.\", \"Spain\", \"Financial Services\", \"Banks\\u2014Diversified\", \"3.36 %\", \"9/43\", \"112/230\", \"buy\", 2.1, \"18/43\", \"72/221\", 0.46, \"14/41\", \"64/197\", \"+46 %\", \"29/43\", \"199/230\", 0.843557, \"29/43\", \"173/230\", \"58.8B EUR\", \"39/43\", \"198/229\", 1.0, \"6/43\", \"21/227\", \"32.3 %\", \"17/43\", \"105/230\", \"0.556 %\", \"9/43\", \"28/230\"], [\"SAN.PA\", \"Sanofi\", \"France\", \"Healthcare\", \"Drug Manufacturers\\u2014General\", \"3.61 %\", \"11/14\", \"121/230\", \"buy\", 2.3, \"6/14\", \"114/221\", 1.57, \"4/12\", \"127/197\", \"+20.2 %\", \"10/14\", \"137/230\", 0.804402, \"9/14\", \"160/230\", \"125B EUR\", \"13/14\", \"220/229\", 2.0, \"1/14\", \"64/227\", \"46.6 %\", \"10/14\", \"170/230\", \"11.4 %\", \"5/14\", \"69/230\"], [\"SAP.DE\", \"SAP SE\", \"Germany\", \"Technology\", \"Software\\u2014Application\", \"1.62 %\", \"9/15\", \"61/230\", \"buy\", 2.2, \"5/13\", \"95/221\", 1.14, \"4/12\", \"105/197\", \"+51.1 %\", \"13/15\", \"204/230\", 0.976587, \"14/15\", \"222/230\", \"151B EUR\", \"13/15\", \"222/229\", 2.0, \"7/14\", \"64/227\", \"37.5 %\", \"6/15\", \"131/230\", \"11.7 %\", \"7/15\", \"72/230\"], [\"SAR.AT\", \"Gr. Sarantis S.A.\", \"Greece\", \"Consumer Defensive\", \"Household & Personal Products\", \"1.88 %\", \"4/15\", \"71/230\", \"hold\", 3.0, \"11/13\", \"205/221\", NaN, \"-\", \"-\", \"+26 %\", \"13/15\", \"156/230\", 0.780576, \"12/15\", \"151/230\", \"501M EUR\", \"0/15\", \"0/229\", 10.0, \"13/15\", \"220/227\", \"35.1 %\", \"8/15\", \"118/230\", \"50.5 %\", \"9/15\", \"180/230\"], [\"SBO.VI\", \"Schoeller-Bleckmann Oilfield Equipment Aktiengesellschaft\", \"Austria\", \"Energy\", \"Oil & Gas Equipment & Services\", \"3.87 %\", \"3/10\", \"126/230\", \"buy\", 1.7, \"1/10\", \"12/221\", 0.11, \"6/10\", \"45/197\", \"-11.2 %\", \"1/10\", \"40/230\", 0.270463, \"1/10\", \"36/230\", \"826M EUR\", \"0/10\", \"4/229\", 10.0, \"9/10\", \"220/227\", \"33.3 %\", \"6/10\", \"111/230\", \"33.4 %\", \"4/10\", \"138/230\"], [\"SGO.PA\", \"Compagnie de Saint-Gobain S.A.\", \"France\", \"Industrials\", \"Building Products & Equipment\", \"3.45 %\", \"29/47\", \"115/230\", \"buy\", 1.9, \"8/43\", \"34/221\", 26.08, \"37/38\", \"193/197\", \"+42.9 %\", \"38/47\", \"193/230\", 0.897255, \"36/47\", \"192/230\", \"31.9B EUR\", \"39/47\", \"176/229\", 2.0, \"11/46\", \"64/227\", \"48.3 %\", \"35/47\", \"180/230\", \"8.88 %\", \"7/47\", \"62/230\"], [\"SHELL.AS\", \"Shell plc\", \"United Kingdom\", \"Energy\", \"Oil & Gas Integrated\", \"4.25 %\", \"4/10\", \"138/230\", \"buy\", 1.7, \"1/10\", \"12/221\", -2.0, \"2/10\", \"14/197\", \"+4.39 %\", \"2/10\", \"82/230\", 0.801519, \"6/10\", \"159/230\", \"189B EUR\", \"9/10\", \"223/229\", 1.0, \"1/10\", \"21/227\", \"40.9 %\", \"8/10\", \"154/230\", \"0.06 %\", \"0/10\", \"21/230\"], [\"SIE.DE\", \"Siemens Aktiengesellschaft\", \"Germany\", \"Industrials\", \"Specialty Industrial Machinery\", \"3.12 %\", \"24/47\", \"100/230\", \"buy\", 2.1, \"18/43\", \"72/221\", 2.0, \"29/38\", \"142/197\", \"+33 %\", \"33/47\", \"182/230\", 0.625747, \"16/47\", \"106/230\", \"111B EUR\", \"46/47\", \"218/229\", 1.0, \"2/46\", \"21/227\", \"40.7 %\", \"30/47\", \"151/230\", \"9.36 %\", \"8/47\", \"64/230\"], [\"SOF.BR\", \"Sofina Soci\\u00e9t\\u00e9 Anonyme\", \"Belgium\", \"Financial Services\", \"Asset Management\", \"1.6 %\", \"5/43\", \"60/230\", \"strong_buy\", 1.5, \"1/43\", \"2/221\", NaN, \"-\", \"-\", \"-1.45 %\", \"6/43\", \"62/230\", 0.523013, \"9/43\", \"82/230\", \"6.91B EUR\", \"17/43\", \"85/229\", 5.0, \"33/43\", \"147/227\", \"7.15 %\", \"2/43\", \"8/230\", \"54.6 %\", \"34/43\", \"193/230\"], [\"SOLB.BR\", \"Solvay SA\", \"Belgium\", \"Basic Materials\", \"Chemicals\", \"3.97 %\", \"10/18\", \"130/230\", \"buy\", 2.5, \"12/18\", \"151/221\", 6.92, \"15/17\", \"183/197\", \"+26.2 %\", \"12/18\", \"157/230\", 0.776506, \"12/18\", \"148/230\", \"10.9B EUR\", \"10/18\", \"118/229\", 3.0, \"10/18\", \"104/227\", \"23.7 %\", \"2/18\", \"73/230\", \"30.7 %\", \"14/18\", \"128/230\"], [\"SPM.MI\", \"Saipem SpA\", \"Italy\", \"Energy\", \"Oil & Gas Equipment & Services\", \"0 %\", \"0/10\", \"15/230\", \"buy\", 2.0, \"3/10\", \"50/221\", -7.03, \"0/10\", \"3/197\", \"+112 %\", \"9/10\", \"224/230\", 0.936508, \"9/10\", \"207/230\", \"3.15B EUR\", \"3/10\", \"44/229\", 7.0, \"5/10\", \"182/227\", \"15.1 %\", \"3/10\", \"34/230\", \"44 %\", \"5/10\", \"163/230\"], [\"SRG.MI\", \"Snam S.p.A.\", \"Italy\", \"Utilities\", \"Utilities\\u2014Regulated Gas\", \"7.07 %\", \"15/20\", \"200/230\", \"hold\", 2.6, \"13/19\", \"170/221\", 7.21, \"13/15\", \"186/197\", \"-3.82 %\", \"8/20\", \"57/230\", 0.622383, \"10/20\", \"105/230\", \"15.9B EUR\", \"11/20\", \"135/229\", 2.0, \"6/19\", \"64/227\", \"27.6 %\", \"10/20\", \"87/230\", \"38.9 %\", \"10/20\", \"154/230\"], [\"STERV.HE\", \"Stora Enso Oyj\", \"Finland\", \"Basic Materials\", \"Paper & Paper Products\", \"5.39 %\", \"13/18\", \"167/230\", \"hold\", 2.6, \"15/18\", \"170/221\", 17.49, \"16/17\", \"190/197\", \"-22.8 %\", \"1/18\", \"22/230\", 0.333016, \"3/18\", \"46/230\", \"9.32B EUR\", \"9/18\", \"105/229\", 2.0, \"6/18\", \"64/227\", \"52.6 %\", \"12/18\", \"191/230\", \"4.27 %\", \"6/18\", \"43/230\"], [\"STLAM.MI\", \"Stellantis N.V.\", \"Netherlands\", \"Consumer Cyclical\", \"Auto Manufacturers\", \"8.01 %\", \"22/24\", \"211/230\", \"buy\", 1.7, \"1/24\", \"12/221\", NaN, \"-\", \"-\", \"+24.3 %\", \"15/24\", \"153/230\", 0.763263, \"15/24\", \"142/230\", \"53.5B EUR\", \"15/23\", \"196/229\", 6.0, \"14/24\", \"167/227\", \"52.1 %\", \"17/24\", \"189/230\", \"24.6 %\", \"10/24\", \"103/230\"], [\"STMPA.PA\", \"STMicroelectronics N.V.\", \"Switzerland\", \"Technology\", \"Semiconductors\", \"0.52 %\", \"4/15\", \"34/230\", \"buy\", 2.3, \"8/13\", \"114/221\", 1.75, \"8/12\", \"133/197\", \"+22.4 %\", \"9/15\", \"148/230\", 0.688513, \"10/15\", \"121/230\", \"45.7B EUR\", \"11/15\", \"186/229\", 3.0, \"10/14\", \"104/227\", \"36 %\", \"5/15\", \"126/230\", \"27.5 %\", \"10/15\", \"113/230\"], [\"STR.VI\", \"Strabag SE\", \"Austria\", \"Industrials\", \"Engineering & Construction\", \"5.13 %\", \"39/47\", \"161/230\", \"strong_buy\", 1.5, \"0/43\", \"2/221\", 1.36, \"22/38\", \"117/197\", \"+1.17 %\", \"5/47\", \"69/230\", 0.483871, \"7/47\", \"74/230\", \"4B EUR\", \"11/47\", \"58/229\", 8.0, \"40/46\", \"198/227\", \"17 %\", \"10/47\", \"45/230\", \"71.4 %\", \"44/47\", \"220/230\"], [\"SU.PA\", \"Schneider Electric S.E.\", \"France\", \"Industrials\", \"Specialty Industrial Machinery\", \"2.01 %\", \"17/47\", \"75/230\", \"buy\", 2.4, \"28/43\", \"132/221\", 2.91, \"33/38\", \"165/197\", \"+29.6 %\", \"29/47\", \"171/230\", 0.867347, \"32/47\", \"182/230\", \"90.9B EUR\", \"44/47\", \"213/229\", 2.0, \"11/46\", \"64/227\", \"69.6 %\", \"45/47\", \"221/230\", \"7.2 %\", \"6/47\", \"56/230\"], [\"SW.PA\", \"Sodexo S.A.\", \"France\", \"Industrials\", \"Specialty Business Services\", \"2.42 %\", \"22/47\", \"89/230\", \"buy\", 2.4, \"28/43\", \"132/221\", 1.11, \"19/38\", \"103/197\", \"+31.4 %\", \"30/47\", \"177/230\", 0.834547, \"27/47\", \"168/230\", \"14.8B EUR\", \"29/47\", \"132/229\", 3.0, \"20/46\", \"104/227\", \"35.1 %\", \"25/47\", \"119/230\", \"44.5 %\", \"33/47\", \"164/230\"], [\"SY1.DE\", \"Symrise AG\", \"Germany\", \"Basic Materials\", \"Specialty Chemicals\", \"1.13 %\", \"2/18\", \"48/230\", \"buy\", 2.4, \"8/18\", \"132/221\", 2.95, \"13/17\", \"167/197\", \"-11.2 %\", \"2/18\", \"41/230\", 0.314762, \"2/18\", \"43/230\", \"13.4B EUR\", \"12/18\", \"126/229\", 4.0, \"13/18\", \"128/227\", \"60.2 %\", \"15/18\", \"212/230\", \"5.02 %\", \"8/18\", \"45/230\"], [\"TEF.MC\", \"Telef\\u00f3nica, S.A.\", \"Spain\", \"Communication Services\", \"Telecom Services\", \"8.14 %\", \"10/13\", \"212/230\", \"hold\", 2.7, \"9/13\", \"184/221\", NaN, \"-\", \"-\", \"-9.79 %\", \"5/13\", \"46/230\", 0.595459, \"8/13\", \"96/230\", \"21.8B EUR\", \"9/13\", \"154/229\", 4.0, \"6/13\", \"128/227\", \"20.4 %\", \"3/13\", \"53/230\", \"8.7 %\", \"1/13\", \"61/230\"], [\"TELIA1.HE\", \"Telia Company AB (publ)\", \"Sweden\", \"Communication Services\", \"Telecom Services\", \"9.97 %\", \"11/13\", \"224/230\", \"buy\", 2.5, \"7/13\", \"151/221\", 200.11, \"10/11\", \"196/197\", \"-48.8 %\", \"0/13\", \"1/230\", 0.050326, \"0/13\", \"4/230\", \"7.29B EUR\", \"6/13\", \"91/229\", 2.0, \"1/13\", \"64/227\", \"26.9 %\", \"5/13\", \"82/230\", \"42.8 %\", \"9/13\", \"161/230\"], [\"TEN.MI\", \"Tenaris S.A.\", \"Luxembourg\", \"Energy\", \"Oil & Gas Equipment & Services\", \"3.21 %\", \"2/10\", \"102/230\", \"buy\", 2.1, \"5/10\", \"72/221\", -5.02, \"1/10\", \"4/197\", \"+10.1 %\", \"4/10\", \"96/230\", 0.5856, \"3/10\", \"93/230\", \"18.5B EUR\", \"5/10\", \"142/229\", 10.0, \"9/10\", \"220/227\", \"12.3 %\", \"1/10\", \"23/230\", \"60.5 %\", \"8/10\", \"208/230\"], [\"TENERGY.AT\", \"TERNA ENERGY Industrial Commercial Technical Societe Anonyme\", \"Greece\", \"Utilities\", \"Utilities\\u2014Renewable\", \"2.33 %\", \"3/20\", \"86/230\", \"buy\", 2.5, \"11/19\", \"151/221\", NaN, \"-\", \"-\", \"-8.24 %\", \"6/20\", \"51/230\", 0.198128, \"3/20\", \"26/230\", \"1.91B EUR\", \"1/20\", \"19/229\", 5.0, \"15/19\", \"147/227\", \"12.3 %\", \"3/20\", \"21/230\", \"53.9 %\", \"14/20\", \"189/230\"], [\"TIETO.HE\", \"TietoEVRY Oyj\", \"Finland\", \"Technology\", \"Information Technology Services\", \"6.63 %\", \"14/15\", \"193/230\", \"hold\", 2.8, \"11/13\", \"195/221\", 1.33, \"5/12\", \"114/197\", \"-11.2 %\", \"6/15\", \"42/230\", 0.125828, \"4/15\", \"16/230\", \"2.68B EUR\", \"3/15\", \"35/229\", NaN, \"-\", \"-\", \"51.5 %\", \"8/15\", \"187/230\", \"12.3 %\", \"8/15\", \"73/230\"], [\"TIT.MI\", \"Telecom Italia S.p.A.\", \"Italy\", \"Communication Services\", \"Telecom Services\", \"0 %\", \"1/13\", \"15/230\", \"buy\", 2.4, \"5/13\", \"132/221\", -1.2, \"0/11\", \"19/197\", \"+33.4 %\", \"11/13\", \"183/230\", 0.732046, \"10/13\", \"132/230\", \"6.18B EUR\", \"4/13\", \"80/229\", 3.0, \"3/13\", \"104/227\", \"21.9 %\", \"4/13\", \"64/230\", \"33.6 %\", \"7/13\", \"141/230\"], [\"TITC.AT\", \"Titan Cement International S.A.\", \"Belgium\", \"Basic Materials\", \"Building Materials\", \"3.3 %\", \"7/18\", \"108/230\", \"buy\", 1.8, \"1/18\", \"23/221\", NaN, \"-\", \"-\", \"+54.1 %\", \"15/18\", \"208/230\", 0.843182, \"14/18\", \"172/230\", \"1.35B EUR\", \"0/18\", \"12/229\", 5.0, \"15/18\", \"147/227\", \"30.1 %\", \"5/18\", \"97/230\", \"37 %\", \"15/18\", \"151/230\"], [\"TKWY.AS\", \"Just Eat Takeaway.com N.V.\", \"Netherlands\", \"Consumer Cyclical\", \"Internet Retail\", \"0 %\", \"2/24\", \"15/230\", \"hold\", 2.6, \"17/24\", \"170/221\", -0.26, \"3/22\", \"34/197\", \"-26.4 %\", \"0/24\", \"17/230\", 0.041231, \"0/24\", \"3/230\", \"2.82B EUR\", \"5/23\", \"39/229\", 1.0, \"1/24\", \"21/227\", \"65.4 %\", \"22/24\", \"218/230\", \"7.16 %\", \"2/24\", \"55/230\"], [\"TNET.BR\", \"Telenet Group Holding NV\", \"Belgium\", \"Communication Services\", \"Telecom Services\", \"4.73 %\", \"7/13\", \"153/230\", \"hold\", 3.0, \"10/13\", \"205/221\", -0.22, \"2/11\", \"36/197\", \"+45 %\", \"12/13\", \"198/230\", 0.977221, \"12/13\", \"223/230\", \"2.3B EUR\", \"1/13\", \"25/229\", 5.0, \"8/13\", \"147/227\", \"13.5 %\", \"0/13\", \"28/230\", \"59.2 %\", \"12/13\", \"205/230\"], [\"TPEIR.AT\", \"Piraeus Financial Holdings S.A.\", \"Greece\", \"Financial Services\", \"Banks\\u2014Regional\", \"0 %\", \"2/43\", \"15/230\", \"buy\", 1.9, \"9/43\", \"34/221\", -0.75, \"3/41\", \"23/197\", \"+219 %\", \"42/43\", \"229/230\", 0.886885, \"31/43\", \"190/230\", \"4.12B EUR\", \"8/43\", \"60/229\", 2.0, \"16/43\", \"64/227\", \"41.4 %\", \"31/43\", \"156/230\", \"27 %\", \"26/43\", \"111/230\"], [\"TRN.MI\", \"Terna S.p.A.\", \"Italy\", \"Utilities\", \"Utilities\\u2014Regulated Electric\", \"5.56 %\", \"10/20\", \"170/230\", \"hold\", 2.9, \"14/19\", \"201/221\", 5.76, \"12/15\", \"179/197\", \"+1.02 %\", \"10/20\", \"68/230\", 0.71115, \"13/20\", \"124/230\", \"15.2B EUR\", \"10/20\", \"133/229\", 3.0, \"10/19\", \"104/227\", \"27.2 %\", \"9/20\", \"85/230\", \"29.8 %\", \"7/20\", \"122/230\"], [\"TTE.PA\", \"TotalEnergies SE\", \"France\", \"Energy\", \"Oil & Gas Integrated\", \"5.16 %\", \"5/10\", \"162/230\", \"buy\", 2.0, \"3/10\", \"50/221\", -0.78, \"3/10\", \"22/197\", \"+10.4 %\", \"5/10\", \"97/230\", 0.792848, \"5/10\", \"156/230\", \"140B EUR\", \"8/10\", \"221/229\", 2.0, \"3/10\", \"64/227\", \"45.4 %\", \"9/10\", \"167/230\", \"7.15 %\", \"1/10\", \"54/230\"], [\"TYRES.HE\", \"Nokian Renkaat Oyj\", \"Finland\", \"Consumer Cyclical\", \"Auto Parts\", \"4.45 %\", \"15/24\", \"143/230\", \"hold\", 3.1, \"23/24\", \"210/221\", -2.99, \"0/22\", \"9/197\", \"-24.2 %\", \"1/24\", \"21/230\", 0.153216, \"2/24\", \"21/230\", \"1.11B EUR\", \"1/23\", \"7/229\", 1.0, \"1/24\", \"21/227\", \"47.7 %\", \"16/24\", \"174/230\", \"14.8 %\", \"5/24\", \"75/230\"], [\"UBI.PA\", \"Ubisoft Entertainment SA\", \"France\", \"Communication Services\", \"Electronic Gaming & Multimedia\", \"0 %\", \"1/13\", \"15/230\", \"hold\", 2.7, \"9/13\", \"184/221\", 2.73, \"8/11\", \"158/197\", \"-37.2 %\", \"2/13\", \"6/230\", 0.380919, \"5/13\", \"51/230\", \"3.64B EUR\", \"2/13\", \"50/229\", 5.0, \"8/13\", \"147/227\", \"48.1 %\", \"10/13\", \"178/230\", \"28.6 %\", \"6/13\", \"118/230\"], [\"UCB.BR\", \"UCB SA\", \"Belgium\", \"Healthcare\", \"Biotechnology\", \"1.63 %\", \"7/14\", \"62/230\", \"buy\", 2.3, \"6/14\", \"114/221\", 1.4, \"3/12\", \"119/197\", \"+15.9 %\", \"7/14\", \"116/230\", 0.744815, \"7/14\", \"138/230\", \"16.2B EUR\", \"6/14\", \"136/229\", 3.0, \"4/14\", \"104/227\", \"40.8 %\", \"9/14\", \"152/230\", \"38 %\", \"10/14\", \"152/230\"], [\"UCG.MI\", \"UniCredit S.p.A.\", \"Italy\", \"Financial Services\", \"Banks\\u2014Regional\", \"4.54 %\", \"14/43\", \"148/230\", \"buy\", 2.0, \"13/43\", \"50/221\", 0.24, \"9/41\", \"54/197\", \"+136 %\", \"41/43\", \"225/230\", 0.950481, \"37/43\", \"211/230\", \"41.6B EUR\", \"34/43\", \"182/229\", 5.0, \"33/43\", \"147/227\", \"47.3 %\", \"35/43\", \"172/230\", \"3.59 %\", \"11/43\", \"41/230\"], [\"UMI.BR\", \"Umicore SA\", \"Belgium\", \"Industrials\", \"Pollution & Treatment Controls\", \"3.42 %\", \"28/47\", \"113/230\", \"hold\", 3.0, \"40/43\", \"205/221\", -2.24, \"2/38\", \"13/197\", \"-26.5 %\", \"1/47\", \"16/230\", 0.051263, \"0/47\", \"5/230\", \"6.8B EUR\", \"17/47\", \"84/229\", 6.0, \"33/46\", \"167/227\", \"48.7 %\", \"36/47\", \"181/230\", \"15.9 %\", \"11/47\", \"80/230\"], [\"UNA.AS\", \"Unilever PLC\", \"United Kingdom\", \"Consumer Defensive\", \"Household & Personal Products\", \"3.63 %\", \"12/15\", \"122/230\", \"none\", NaN, \"-\", \"-\", NaN, \"-\", \"-\", \"+2.78 %\", \"2/15\", \"75/230\", 0.474249, \"4/15\", \"70/230\", \"120B EUR\", \"13/15\", \"219/229\", 8.0, \"9/15\", \"198/227\", \"50.1 %\", \"12/15\", \"183/230\", \"3.06 %\", \"3/15\", \"36/230\"], [\"UNI.MC\", \"Unicaja Banco, S.A.\", \"Spain\", \"Financial Services\", \"Banks\\u2014Regional\", \"4.77 %\", \"15/43\", \"154/230\", \"buy\", 2.2, \"24/43\", \"95/221\", 65.42, \"40/41\", \"194/197\", \"+20.2 %\", \"16/43\", \"138/230\", 0.477738, \"7/43\", \"72/230\", \"2.76B EUR\", \"1/43\", \"37/229\", 6.0, \"37/43\", \"167/227\", \"21.6 %\", \"11/43\", \"63/230\", \"55.2 %\", \"35/43\", \"195/230\"], [\"UNI.MI\", \"Unipol Gruppo S.p.A.\", \"Italy\", \"Financial Services\", \"Insurance\\u2014Diversified\", \"7.39 %\", \"34/43\", \"203/230\", \"buy\", 2.0, \"13/43\", \"50/221\", 2.94, \"36/41\", \"166/197\", \"+21.4 %\", \"18/43\", \"143/230\", 0.903155, \"33/43\", \"193/230\", \"3.79B EUR\", \"6/43\", \"51/229\", 7.0, \"40/43\", \"182/227\", \"16 %\", \"7/43\", \"42/230\", \"48.5 %\", \"32/43\", \"172/230\"], [\"UPM.HE\", \"UPM-Kymmene Oyj\", \"Finland\", \"Basic Materials\", \"Paper & Paper Products\", \"5.02 %\", \"12/18\", \"159/230\", \"buy\", 2.1, \"3/18\", \"72/221\", 4.42, \"14/17\", \"176/197\", \"-10.5 %\", \"4/18\", \"44/230\", 0.423954, \"5/18\", \"61/230\", \"16.6B EUR\", \"14/18\", \"138/229\", 2.0, \"6/18\", \"64/227\", \"50.5 %\", \"11/18\", \"186/230\", \"3.15 %\", \"5/18\", \"38/230\"], [\"UQA.VI\", \"UNIQA Insurance Group AG\", \"Austria\", \"Financial Services\", \"Insurance\\u2014Diversified\", \"7.5 %\", \"35/43\", \"205/230\", \"buy\", 1.7, \"4/43\", \"12/221\", NaN, \"-\", \"-\", \"+13 %\", \"10/43\", \"104/230\", 0.603239, \"13/43\", \"99/230\", \"2.27B EUR\", \"0/43\", \"23/229\", 6.0, \"37/43\", \"167/227\", \"6.5 %\", \"1/43\", \"6/230\", \"63.2 %\", \"39/43\", \"212/230\"], [\"VALMT.HE\", \"Valmet Oyj\", \"Finland\", \"Industrials\", \"Specialty Industrial Machinery\", \"5.77 %\", \"44/47\", \"174/230\", \"buy\", 2.1, \"18/43\", \"72/221\", 1.08, \"18/38\", \"102/197\", \"-8.71 %\", \"3/47\", \"50/230\", 0.265619, \"5/47\", \"35/230\", \"4.31B EUR\", \"12/47\", \"63/229\", 6.0, \"33/46\", \"167/227\", \"50.4 %\", \"37/47\", \"185/230\", \"18.1 %\", \"12/47\", \"84/230\"], [\"VER.VI\", \"VERBUND AG\", \"Austria\", \"Utilities\", \"Utilities\\u2014Renewable\", \"3.27 %\", \"6/20\", \"106/230\", \"hold\", 3.2, \"15/19\", \"212/221\", NaN, \"-\", \"-\", \"-21.2 %\", \"2/20\", \"24/230\", 0.298799, \"6/20\", \"40/230\", \"26.5B EUR\", \"14/20\", \"160/229\", 3.0, \"10/19\", \"104/227\", \"12.4 %\", \"4/20\", \"24/230\", \"30 %\", \"8/20\", \"124/230\"], [\"VIE.PA\", \"Veolia Environnement SA\", \"France\", \"Industrials\", \"Waste Management\", \"3.99 %\", \"33/47\", \"131/230\", \"buy\", 2.0, \"12/43\", \"50/221\", 0.84, \"17/38\", \"95/197\", \"+26.6 %\", \"24/47\", \"159/230\", 0.854047, \"30/47\", \"178/230\", \"20.6B EUR\", \"31/47\", \"147/229\", 2.0, \"11/46\", \"64/227\", \"54.6 %\", \"39/47\", \"196/230\", \"6.5 %\", \"5/47\", \"52/230\"], [\"VIG.VI\", \"Vienna Insurance Group AG\", \"Austria\", \"Financial Services\", \"Insurance\\u2014Diversified\", \"5.21 %\", \"17/43\", \"163/230\", \"buy\", 1.6, \"2/43\", \"5/221\", 1.12, \"30/41\", \"104/197\", \"+7.28 %\", \"8/43\", \"90/230\", 0.686131, \"17/43\", \"118/230\", \"3.23B EUR\", \"3/43\", \"45/229\", 6.0, \"37/43\", \"167/227\", \"8.33 %\", \"3/43\", \"12/230\", \"72.5 %\", \"42/43\", \"221/230\"], [\"VIO.AT\", \"Viohalco S.A.\", \"Belgium\", \"Industrials\", \"Metal Fabrication\", \"1.7 %\", \"14/47\", \"65/230\", \"none\", NaN, \"-\", \"-\", NaN, \"-\", \"-\", \"+105 %\", \"43/47\", \"223/230\", 0.966321, \"43/47\", \"218/230\", \"1.8B EUR\", \"5/47\", \"17/229\", 7.0, \"37/46\", \"182/227\", \"2.35 %\", \"1/47\", \"1/230\", \"83.9 %\", \"46/47\", \"229/230\"], [\"VIV.PA\", \"Vivendi SE\", \"France\", \"Communication Services\", \"Entertainment\", \"3.06 %\", \"3/13\", \"97/230\", \"buy\", 1.9, \"1/13\", \"34/221\", 0.32, \"3/11\", \"59/197\", \"-9.03 %\", \"6/13\", \"49/230\", 0.292015, \"3/13\", \"39/230\", \"8.68B EUR\", \"7/13\", \"100/229\", 6.0, \"10/13\", \"167/227\", \"28.1 %\", \"6/13\", \"89/230\", \"34.3 %\", \"8/13\", \"146/230\"], [\"VNA.DE\", \"Vonovia SE\", \"Germany\", \"Real Estate\", \"Real Estate Services\", \"4.19 %\", \"5/11\", \"137/230\", \"buy\", 2.3, \"5/11\", \"114/221\", 2.42, \"5/10\", \"151/197\", \"-24.4 %\", \"3/11\", \"20/230\", 0.424535, \"6/11\", \"62/230\", \"17.2B EUR\", \"9/11\", \"140/229\", 2.0, \"5/11\", \"64/227\", \"59.6 %\", \"9/11\", \"211/230\", \"0 %\", \"1/11\", \"7/230\"], [\"VOE.VI\", \"Voestalpine AG\", \"Austria\", \"Basic Materials\", \"Steel\", \"5.62 %\", \"14/18\", \"171/230\", \"buy\", 2.5, \"12/18\", \"151/221\", -0.18, \"6/17\", \"38/197\", \"+33.9 %\", \"14/18\", \"184/230\", 0.525741, \"10/18\", \"83/230\", \"4.66B EUR\", \"6/18\", \"66/229\", 8.0, \"16/18\", \"198/227\", \"24.3 %\", \"3/18\", \"75/230\", \"29.8 %\", \"13/18\", \"121/230\"], [\"VOW3.DE\", \"Volkswagen AG\", \"Germany\", \"Consumer Cyclical\", \"Auto Manufacturers\", \"7.81 %\", \"20/24\", \"209/230\", \"buy\", 2.4, \"12/24\", \"132/221\", 0.36, \"5/22\", \"61/197\", \"-22.6 %\", \"2/24\", \"23/230\", 0.058796, \"1/24\", \"6/230\", \"63.1B EUR\", \"17/23\", \"202/229\", 10.0, \"22/24\", \"220/227\", \"23.9 %\", \"11/24\", \"74/230\", \"0 %\", \"0/24\", \"7/230\"], [\"WDP.BR\", \"Warehouses De Pauw\", \"Belgium\", \"Real Estate\", \"REIT\\u2014Industrial\", \"3.91 %\", \"4/11\", \"128/230\", \"hold\", 2.7, \"8/11\", \"184/221\", 2.83, \"8/10\", \"162/197\", \"-15.6 %\", \"4/11\", \"30/230\", 0.399538, \"3/11\", \"56/230\", \"5.41B EUR\", \"8/11\", \"73/229\", 1.0, \"2/11\", \"21/227\", \"35.8 %\", \"4/11\", \"122/230\", \"21.6 %\", \"5/11\", \"96/230\"], [\"WIE.VI\", \"Wienerberger AG\", \"Austria\", \"Basic Materials\", \"Building Materials\", \"3.58 %\", \"9/18\", \"120/230\", \"buy\", 2.5, \"12/18\", \"151/221\", -8.39, \"0/17\", \"2/197\", \"+8 %\", \"9/18\", \"93/230\", 0.555129, \"11/18\", \"90/230\", \"2.69B EUR\", \"5/18\", \"36/229\", 2.0, \"6/18\", \"64/227\", \"55.6 %\", \"13/18\", \"199/230\", \"1.3 %\", \"1/18\", \"30/230\"], [\"WKL.AS\", \"Wolters Kluwer N.V.\", \"Netherlands\", \"Industrials\", \"Specialty Business Services\", \"1.74 %\", \"15/47\", \"66/230\", \"buy\", 2.4, \"28/43\", \"132/221\", 2.81, \"31/38\", \"161/197\", \"+6.45 %\", \"8/47\", \"86/230\", 0.529946, \"9/47\", \"85/230\", \"28.6B EUR\", \"37/47\", \"167/229\", 1.0, \"2/46\", \"21/227\", \"66.3 %\", \"44/47\", \"219/230\", \"0.041 %\", \"2/47\", \"20/230\"], [\"WLN.PA\", \"Worldline SA\", \"France\", \"Technology\", \"Software\\u2014Infrastructure\", \"0 %\", \"2/15\", \"15/230\", \"buy\", 2.2, \"5/13\", \"95/221\", 0.6, \"2/12\", \"72/197\", \"-28.9 %\", \"2/15\", \"14/230\", 0.025123, \"1/15\", \"1/230\", \"9.76B EUR\", \"6/15\", \"109/229\", 2.0, \"7/14\", \"64/227\", \"55.8 %\", \"11/15\", \"201/230\", \"11.5 %\", \"6/15\", \"70/230\"], [\"ZAL.DE\", \"Zalando SE\", \"Germany\", \"Consumer Cyclical\", \"Internet Retail\", \"0 %\", \"2/24\", \"15/230\", \"buy\", 2.4, \"12/24\", \"132/221\", 8.66, \"20/22\", \"187/197\", \"+13.8 %\", \"7/24\", \"107/230\", 0.328201, \"4/24\", \"45/230\", \"7.23B EUR\", \"9/23\", \"89/229\", 5.0, \"12/24\", \"147/227\", \"60.5 %\", \"21/24\", \"213/230\", \"10.1 %\", \"3/24\", \"67/230\"]];\n",
       "        // Display the table\n",
       "        $(document).ready(function () {\n",
       "            window.dataTablePromise.then(() => {\n",
       "                // Define the dt_args\n",
       "                let dt_args = {\"order\": []};\n",
       "                dt_args[\"data\"] = data;\n",
       "\n",
       "                \n",
       "                $('#8e6b7c25-d8a7-4e73-808d-57687bf8f718').DataTable(dt_args);\n",
       "            });\n",
       "        })\n",
       "    }\n",
       "</script>\n",
       "</div>\n"
      ],
      "text/plain": [
       "<IPython.core.display.HTML object>"
      ]
     },
     "metadata": {},
     "output_type": "display_data"
    }
   ],
   "source": [
    "tk_update = {tk: n for tk, n in zip(qgrid_widget.get_changed_df()['Ticker'].tolist(),\n",
    "                                         qgrid_widget.get_changed_df()['Count'].tolist())}\n",
    "print(tk_update)\n",
    "len(tk_update)"
   ]
  },
  {
   "cell_type": "code",
   "execution_count": null,
   "id": "31d6b8ad8817caa6",
   "metadata": {
    "collapsed": false
   },
   "outputs": [],
   "source": []
  },
  {
   "cell_type": "code",
   "execution_count": null,
   "id": "e54a1f9f7dc45490",
   "metadata": {
    "collapsed": false
   },
   "outputs": [],
   "source": [
    "country_colors_hex = {\n",
    "    'France': '#0000FF',       # blue\n",
    "    'Germany': '#808080',     # grey\n",
    "    'Italy': '#008000',       # green\n",
    "    'Spain': '#FF0000',       # red\n",
    "    'Belgium': '#FFFF00',     # yellow\n",
    "    'Netherlands': '#FFA500', # orange\n",
    "    'Greece': '#87CEEB',      # skyblue\n",
    "    'Austria': '#8B0000',     # darkred\n",
    "    'Finland': '#00FFFF',     # cyan\n",
    "    'United Kingdom': '#00008B', # darkblue\n",
    "    'Switzerland': '#F08080', # lightcoral\n",
    "    'Luxembourg': '#4169E1',  # royalblue\n",
    "    'Portugal': '#006400',    # darkgreen\n",
    "    'Sweden': '#FFD700'       # gold\n",
    "}\n"
   ]
  },
  {
   "cell_type": "code",
   "execution_count": null,
   "id": "701c396002207a53",
   "metadata": {
    "collapsed": false
   },
   "outputs": [],
   "source": []
  },
  {
   "cell_type": "code",
   "execution_count": null,
   "id": "7a6bf2e35c975e8a",
   "metadata": {
    "ExecuteTime": {
     "end_time": "2023-08-29T21:18:07.825577Z",
     "start_time": "2023-08-29T21:18:07.822561700Z"
    },
    "collapsed": false
   },
   "outputs": [],
   "source": []
  },
  {
   "cell_type": "code",
   "execution_count": null,
   "id": "6da065f957e36fb7",
   "metadata": {
    "collapsed": false
   },
   "outputs": [],
   "source": []
  }
 ],
 "metadata": {
  "kernelspec": {
   "display_name": "Python 3 (ipykernel)",
   "language": "python",
   "name": "python3"
  },
  "language_info": {
   "codemirror_mode": {
    "name": "ipython",
    "version": 3
   },
   "file_extension": ".py",
   "mimetype": "text/x-python",
   "name": "python",
   "nbconvert_exporter": "python",
   "pygments_lexer": "ipython3",
   "version": "3.11.4"
  }
 },
 "nbformat": 4,
 "nbformat_minor": 5
}
