{
 "cells": [
  {
   "cell_type": "code",
   "execution_count": 1,
   "id": "initial_id",
   "metadata": {
    "ExecuteTime": {
     "end_time": "2023-09-09T21:21:16.407290100Z",
     "start_time": "2023-09-09T21:21:15.518075700Z"
    }
   },
   "outputs": [
    {
     "data": {
      "text/plain": "<IPython.core.display.HTML object>",
      "text/html": "<style>.container { width:98% !important; }</style>"
     },
     "metadata": {},
     "output_type": "display_data"
    }
   ],
   "source": [
    "import numpy as np\n",
    "%matplotlib notebook\n",
    "import matplotlib.pyplot as plt\n",
    "%load_ext autoreload\n",
    "%autoreload 2\n",
    "from IPython.display import display, HTML\n",
    "display(HTML(\"<style>.container { width:98% !important; }</style>\"))\n",
    "import random\n",
    "from collections import Counter\n",
    "import numpy as np\n",
    "import matplotlib.pyplot as plt\n",
    "import seaborn as sns\n",
    "import stox\n",
    "# from ib_insync import *\n",
    "from stox.imports import *\n",
    "from stox.ibkr import IB_Extractor, describe_contract, IBKR_Loader, IBKR_Stats, IBKR_Derived\n",
    "from stox.yahoo import Yahoo_Loader, Yahoo_Info\n",
    "from tqdm.notebook import tqdm\n",
    "import plotly.io as pio\n",
    "import plotly.express as px\n",
    "from omnibelt import tqdmd_notebook as tqdmd\n",
    "from stox import misc, yahoo, ibkr\n",
    "from stox.general import Quantity, PctChange, PopulationStats, country_colors, sector_symbols\n",
    "from collections import namedtuple\n",
    "import pandas as pd\n",
    "# import qgrid\n",
    "from omniply import tool, ToolKit, Context, Scope, Selection\n",
    "sns.set_theme(style=\"darkgrid\")\n",
    "pio.renderers.default = \"browser\""
   ]
  },
  {
   "cell_type": "code",
   "execution_count": 2,
   "id": "2729b8583b7bc635",
   "metadata": {
    "collapsed": false,
    "ExecuteTime": {
     "end_time": "2023-09-09T21:21:16.668737400Z",
     "start_time": "2023-09-09T21:21:16.496118900Z"
    }
   },
   "outputs": [
    {
     "data": {
      "text/plain": "(273, 58)"
     },
     "execution_count": 2,
     "metadata": {},
     "output_type": "execute_result"
    }
   ],
   "source": [
    "ibroot = misc.assets_root() / 'ibkr'\n",
    "path = ibroot / 'fe-aug23.txt'\n",
    "# path = ibroot / 'gu-aug23.txt'\n",
    "portfolio_list = misc.extract_tickers_and_shares(path)\n",
    "current_portfolio = {k: v for k, v in portfolio_list}\n",
    "assert len(current_portfolio) == len(portfolio_list)\n",
    "symbol_table = stox.load_symbol_table()\n",
    "len(symbol_table), len(current_portfolio)"
   ]
  },
  {
   "cell_type": "code",
   "execution_count": 3,
   "id": "231c0c8a4e9a6940",
   "metadata": {
    "collapsed": false,
    "ExecuteTime": {
     "end_time": "2023-09-09T21:21:18.144767200Z",
     "start_time": "2023-09-09T21:21:18.055010100Z"
    }
   },
   "outputs": [
    {
     "data": {
      "text/plain": "(240, 240)"
     },
     "execution_count": 3,
     "metadata": {},
     "output_type": "execute_result"
    }
   ],
   "source": [
    "rows = [(k, v) for k, v in symbol_table.items() if v['currency'] == 'EUR']\n",
    "def from_yfsym(yfsym):\n",
    "\treturn yfsym, [v for k, v in rows if k == yfsym][0]\n",
    "def from_ibsym(ibsym):\n",
    "\treturn [(k,v) for k, v in rows if v['symbol'] == ibsym][0]\n",
    "yf2ib = {k: v for k, v in rows}\n",
    "yfsyms = [k for k, v in rows]\n",
    "len(rows), len(yf2ib)"
   ]
  },
  {
   "cell_type": "code",
   "execution_count": 8,
   "id": "752379436962e4e8",
   "metadata": {
    "collapsed": false,
    "ExecuteTime": {
     "end_time": "2023-09-09T21:21:38.468787900Z",
     "start_time": "2023-09-09T21:21:38.394103600Z"
    }
   },
   "outputs": [],
   "source": [
    "date = '230829'\n",
    "date = '230909'\n",
    "# date = 'last'\n",
    "\n",
    "def get_context(yfsym):\n",
    "\tibrow = yf2ib[yfsym]\n",
    "\t\n",
    "\tgg = Context(\n",
    "\t\t# Selection(IBKR_Derived(), IBKR_Stats(), IBKR_Loader(root=misc.ibkr_root()),\n",
    "\t\t# \t  gap={\n",
    "\t\t# \t\t  'ckpt_path': 'ib_ckpt_path',\n",
    "\t\t# \t  \t\n",
    "\t\t# \t  \t\t'snapshot': 'snapshot',\n",
    "\t\t# \t  \n",
    "\t\t# \t  }),\n",
    "\t\tScope(Yahoo_Info(), Yahoo_Loader(),\n",
    "\t\t\t  gap={\n",
    "\t\t\t\t  # 'ticker': 'yfsym',\n",
    "\t\t\t\t  \n",
    "\t\t\t\t  # 'info': 'info',\n",
    "\t\t\t\t\t#   'splits': 'splits',\n",
    "\t\t\t\t  # \n",
    "\t\t\t\t  # 'recommendation_mean': 'recommendation_mean',\n",
    "\t\t\t\t  # 'recommendation_key': 'recommendation_key',\n",
    "\t\t\t\t  # 'number_of_analysts': 'number_of_analysts',\n",
    "\t\t\t\t  # 'target_mean_price': 'target_mean_price',\n",
    "\t\t\t\t  # 'target_high_price': 'target_high_price',\n",
    "\t\t\t\t  # 'target_low_price': 'target_low_price',\n",
    "\t\t\t\t  # 'target_median_price': 'target_median_price',\n",
    "\t\t\t\t  # \n",
    "\t\t\t\t  # 'isin': 'yf_isin',\n",
    "\t\t\t\t  # \n",
    "\t\t\t\t  # 'market_cap': 'yf_market_cap',\n",
    "\t\t\t\t  # 'sector': 'yf_sector',\n",
    "\t\t\t  }),\n",
    "\t)\n",
    "\t# gg.update(ibrow)\n",
    "\t# gg['date'] = date\n",
    "\t# gg['ibsym'] = ibrow['symbol']\n",
    "\t# gg['ibid'] = ibrow['conId']\n",
    "\t# gg['yfsym'] = yfsym\n",
    "\tgg['ticker'] = yfsym\n",
    "\tgg['date'] = date\n",
    "\treturn gg"
   ]
  },
  {
   "cell_type": "code",
   "execution_count": 9,
   "id": "941300e8c63ebbdb",
   "metadata": {
    "collapsed": false,
    "ExecuteTime": {
     "end_time": "2023-09-09T21:21:39.150550600Z",
     "start_time": "2023-09-09T21:21:38.854166300Z"
    }
   },
   "outputs": [
    {
     "data": {
      "text/plain": "240"
     },
     "execution_count": 9,
     "metadata": {},
     "output_type": "execute_result"
    }
   ],
   "source": [
    "ctxs = [get_context(yfsym) for yfsym in yfsyms]\n",
    "len(ctxs)"
   ]
  },
  {
   "cell_type": "code",
   "execution_count": 10,
   "id": "a31822253c4bd05d",
   "metadata": {
    "collapsed": false,
    "ExecuteTime": {
     "end_time": "2023-09-09T21:21:39.487788800Z",
     "start_time": "2023-09-09T21:21:39.409331900Z"
    }
   },
   "outputs": [],
   "source": [
    "# print([ctx['yfsym'] for ctx in bad]) # snapshot ['APAM.BR', 'ARGX.BR', 'BELA.AT', 'CABK.MC', 'EBS.VI', 'HTO.AT', 'KER.PA', 'LR.PA', 'OR.PA', 'PRY.MI', 'RACE.MI', 'SAR.AT', 'STR.VI', 'UMI.BR', 'ZAL.DE']\n",
    "# print([ctx['yfsym'] for ctx in bad]) # recommendations ['APAM.BR', 'ARGX.BR', 'BELA.AT', 'CABK.MC', 'EBS.VI', 'ELLAKTOR.AT', 'EYDAP.AT', 'HTO.AT', 'KER.PA', 'LR.PA', 'OR.PA', 'PRY.MI', 'RACE.MI', 'SAR.AT', 'STR.VI', 'UMI.BR', 'VIO.AT', 'ZAL.DE']\n",
    "# print([ctx['yfsym'] for ctx in bad]) # info ['APAM.BR', 'CON.DE']"
   ]
  },
  {
   "cell_type": "code",
   "execution_count": null,
   "outputs": [],
   "source": [],
   "metadata": {
    "collapsed": false
   },
   "id": "65f28d1e1fe6d3f7"
  },
  {
   "cell_type": "code",
   "execution_count": 11,
   "id": "80e390e88800e409",
   "metadata": {
    "collapsed": false,
    "ExecuteTime": {
     "end_time": "2023-09-09T21:21:40.337792600Z",
     "start_time": "2023-09-09T21:21:39.991056200Z"
    }
   },
   "outputs": [
    {
     "data": {
      "text/plain": "  0%|          | 0/240 [00:00<?, ?it/s]",
      "application/vnd.jupyter.widget-view+json": {
       "version_major": 2,
       "version_minor": 0,
       "model_id": "f4cbd8cc75f04e8c86066a1bff97bf63"
      }
     },
     "metadata": {},
     "output_type": "display_data"
    },
    {
     "name": "stdout",
     "output_type": "stream",
     "text": [
      "['DSM.AS', 'LIN.DE', 'ML.PA', 'MOCORP.HE', 'NDA FI.HE', 'NDA.ST', 'URW.AS']\n"
     ]
    },
    {
     "data": {
      "text/plain": "(233, 7)"
     },
     "execution_count": 11,
     "metadata": {},
     "output_type": "execute_result"
    }
   ],
   "source": [
    "pop = []\n",
    "bad = []\n",
    "for ctx in tqdmd(ctxs, key=lambda x: x['ticker']):\n",
    "\ttry:\n",
    "\t\t# ctx['snapshot']\n",
    "\t\t# ctx['recommendations']\n",
    "\t\tctx['info']\n",
    "\t\tassert ctx['sector'] is not None, ctx['ticker']\n",
    "\texcept Exception as e:\n",
    "\t\t# raise e\n",
    "\t\tbad.append(ctx)\n",
    "\telse:\n",
    "\t\tpop.append(ctx)\n",
    "print([ctx['ticker'] for ctx in bad])\n",
    "ctx = pop[0]\n",
    "len(pop), len(bad)"
   ]
  },
  {
   "cell_type": "code",
   "execution_count": null,
   "id": "308dd4621733a617",
   "metadata": {
    "collapsed": false,
    "ExecuteTime": {
     "end_time": "2023-09-09T21:05:58.330177900Z",
     "start_time": "2023-09-09T21:05:58.328671600Z"
    }
   },
   "outputs": [],
   "source": [
    "Counter([ctx['sector'] for ctx in pop])"
   ]
  },
  {
   "cell_type": "code",
   "execution_count": null,
   "id": "4f017e488d6eb9c5",
   "metadata": {
    "collapsed": false,
    "ExecuteTime": {
     "start_time": "2023-09-09T11:47:36.293947700Z"
    }
   },
   "outputs": [],
   "source": [
    "Counter([ctx['country'] for ctx in pop])"
   ]
  },
  {
   "cell_type": "code",
   "execution_count": 10,
   "id": "9514f03c62fea194",
   "metadata": {
    "collapsed": false,
    "ExecuteTime": {
     "end_time": "2023-09-09T11:04:44.069275800Z",
     "start_time": "2023-09-09T11:04:43.896796900Z"
    }
   },
   "outputs": [],
   "source": [
    "# Counter([ctx['industry'] for ctx in pop])"
   ]
  },
  {
   "cell_type": "code",
   "execution_count": 11,
   "id": "de8a3dd1142649b7",
   "metadata": {
    "ExecuteTime": {
     "end_time": "2023-09-08T11:56:19.900403900Z",
     "start_time": "2023-09-08T11:56:19.318801Z"
    },
    "collapsed": false
   },
   "outputs": [],
   "source": [
    "info = ctx['info']"
   ]
  },
  {
   "cell_type": "code",
   "execution_count": 12,
   "id": "4451c7bf04b0e7da",
   "metadata": {
    "ExecuteTime": {
     "end_time": "2023-09-08T11:56:20.221286600Z",
     "start_time": "2023-09-08T11:56:19.636799900Z"
    },
    "collapsed": false
   },
   "outputs": [],
   "source": [
    "# key1, key2 = 'peg_ratio', 'beta'\n",
    "# def selector(ctx):\n",
    "# \ttry:\n",
    "# \t\tval = ctx[key1]\n",
    "# \t\tassert (val.amount if isinstance(val, Quantity) else val) is not None\n",
    "# \t\tval = ctx[key2]\n",
    "# \t\tassert (val.amount if isinstance(val, Quantity) else val) is not None\n",
    "# \t\tval = ctx['market_cap']\n",
    "# \t\tassert (val.amount if isinstance(val, Quantity) else val) is not None\n",
    "# \texcept:\n",
    "# \t\treturn False\n",
    "# \treturn True\n",
    "# pts = [c for c in pop if selector(c)]\n",
    "# print(len(pts), len(pop))\n",
    "# x = np.array([p[key1].amount if isinstance(p[key1], Quantity) else p[key1] for p in pts])\n",
    "# y = np.array([p[key2].amount if isinstance(p[key2], Quantity) else p[key2] for p in pts])\n",
    "# sizes = np.array([np.log10(ctx['market_cap'].amount) for ctx in pts])\n",
    "# sizes = 10 + 30 * (sizes - sizes.min()) / (sizes.max() - sizes.min())\n",
    "# r = np.corrcoef(x, y)[0, 1]\n",
    "# fg = px.scatter(x=x, y=y, \n",
    "# \t\t\t\thover_name=[f'{c[\"yfsym\"]}  ::  {c[\"company_short_name\"]}' for c in pts], \n",
    "#     size=sizes, \n",
    "#     color=[c['country'] for c in pts],  # differentiate markers by color\n",
    "#     color_discrete_map=country_colors,  # Map colors\n",
    "#     symbol=[c['sector'] for c in pts],  # differentiate markers by symbol\n",
    "#     symbol_map=sector_symbols,  # Map shapes\n",
    "# \t\t\t\t# trendline='ols'\n",
    "# \t\t\t\ttitle=f'Correlation = {r:.2f}',\n",
    "# \t\t\t\tlog_x=True,\n",
    "# \t\t\t\t# log_y=True,\n",
    "# \t\t\t\t)\n",
    "# fg.update_layout(xaxis_title=key1)\n",
    "# fg.update_layout(yaxis_title=key2)\n",
    "# fg.show();\n",
    "# # sns.regplot(x=x, y=y)\n",
    "# # plt.title(f'Correlation = {r:.2f}');"
   ]
  },
  {
   "cell_type": "code",
   "execution_count": 13,
   "id": "f112cf844edcefcc",
   "metadata": {
    "ExecuteTime": {
     "end_time": "2023-09-08T11:56:20.394937800Z",
     "start_time": "2023-09-08T11:56:20.008981Z"
    },
    "collapsed": false
   },
   "outputs": [],
   "source": [
    "# from omniply import AbstractGadget\n",
    "# \n",
    "# class PopulationStats(AbstractGadget):\n",
    "# \tdef __init__(self, population: list, *gizmos: str, percentile=False, location=True):\n",
    "# \t\tsuper().__init__()\n",
    "# \t\tself._population = population\n",
    "# \t\tself._gizmos = gizmos\n",
    "# \t\tself._location = location\n",
    "# \t\tself._percentile = percentile\n",
    "# \n",
    "# \tdef gizmos(self) -> Iterator[str]:\n",
    "# \t\tif self._location:\n",
    "# \t\t\tyield from (f'loc_{gizmo}' for gizmo in self._gizmos)\n",
    "# \t\tif self._percentile:\n",
    "# \t\t\tyield from (f'pct_{gizmo}' for gizmo in self._gizmos)\n",
    "# \n",
    "# \n",
    "# \tdef _base_stats(self, pop, key):\n",
    "# \t\tfor item in pop:\n",
    "# \t\t\tval = item[key]\n",
    "# \t\t\tif val is not None and (not isinstance(val, Quantity) or val.amount is not None):\n",
    "# \t\t\t\tyield val\n",
    "# \n",
    "# \n",
    "# \tdef compute_pct(self, mark, key: str) -> float:\n",
    "# \t\tcount = []\n",
    "# \t\tfor val in self._base_stats(self._population, key):\n",
    "# \t\t\tif val is not None:\n",
    "# \t\t\t\tif val == mark:\n",
    "# \t\t\t\t\tcount.append(0.5)\n",
    "# \t\t\t\telif val < mark:\n",
    "# \t\t\t\t\tcount.append(1)\n",
    "# \t\t\t\telse:\n",
    "# \t\t\t\t\tcount.append(0)\n",
    "# \t\tassert len(count) > 0, f'No values for {key}'\n",
    "# \t\treturn int(100 * sum(count) / len(count))\n",
    "# \n",
    "# \tdef compute_loc(self, mark, key: str) -> str:\n",
    "# \t\tcount = []\n",
    "# \t\tfor val in self._base_stats(self._population, key):\n",
    "# \t\t\tif val is not None:\n",
    "# \t\t\t\tif val == mark:\n",
    "# \t\t\t\t\tcount.append(0.5)\n",
    "# \t\t\t\telif val < mark:\n",
    "# \t\t\t\t\tcount.append(1)\n",
    "# \t\t\t\telse:\n",
    "# \t\t\t\t\tcount.append(0)\n",
    "# \t\tassert len(count) > 0, f'No values for {key}'\n",
    "# \t\treturn f'{int(sum(count))}/{len(count)}'\n",
    "# \n",
    "# \tdef grab_from(self, ctx, gizmo: str):\n",
    "# \t\tif self._percentile and gizmo.startswith('pct_'):\n",
    "# \t\t\tkey = gizmo[4:]\n",
    "# \t\t\tmark = ctx[key]\n",
    "# \t\t\treturn self.compute_pct(mark, key)\n",
    "# \t\tif self._location and gizmo.startswith('loc_'):\n",
    "# \t\t\tkey = gizmo[4:]\n",
    "# \t\t\tmark = ctx[key]\n",
    "# \t\t\treturn self.compute_loc(mark, key)\n",
    "# \t\traise NotImplementedError"
   ]
  },
  {
   "cell_type": "code",
   "execution_count": 14,
   "id": "2cd565e8dd661d16",
   "metadata": {
    "ExecuteTime": {
     "end_time": "2023-09-08T11:56:20.875808800Z",
     "start_time": "2023-09-08T11:56:20.311404500Z"
    },
    "collapsed": false
   },
   "outputs": [
    {
     "name": "stdout",
     "output_type": "stream",
     "text": [
      "{'Consumer Defensive': 15, 'Basic Materials': 18, 'Financial Services': 43, 'Consumer Cyclical': 24, 'Industrials': 47, 'Technology': 15, 'Real Estate': 11, 'Healthcare': 14, 'Utilities': 20, 'Communication Services': 13, 'Energy': 10}\n",
      "{'Other': 6, 'Germany': 30, 'Belgium': 21, 'Netherlands': 20, 'France': 32, 'Spain': 28, 'Greece': 20, 'Italy': 29, 'Austria': 20, 'Finland': 19, 'United Kingdom': 5}\n"
     ]
    }
   ],
   "source": [
    "pop_sec = {}\n",
    "for ctx in pop:\n",
    "\tpop_sec.setdefault(ctx['sector'], []).append(ctx)\n",
    "print({k:len(v) for k, v in pop_sec.items()})\n",
    "to_group = {\n",
    "\t'Portugal': 'Other', \n",
    "\t'Luxembourg': 'Other', \n",
    "\t'Sweden': 'Other',\n",
    "\t'Switzerland': 'Other',\n",
    "}\n",
    "pop_land = {}\n",
    "for ctx in pop:\n",
    "\tpop_land.setdefault(to_group.get(ctx['country'],ctx['country']), []).append(ctx)\n",
    "print({k:len(v) for k, v in pop_land.items()})"
   ]
  },
  {
   "cell_type": "code",
   "execution_count": 15,
   "id": "68c33dbfce3da221",
   "metadata": {
    "ExecuteTime": {
     "end_time": "2023-09-08T11:56:21.379507700Z",
     "start_time": "2023-09-08T11:56:20.733262Z"
    },
    "collapsed": false
   },
   "outputs": [],
   "source": [
    "stat_names = [\n",
    "\t'peg_ratio',\n",
    "\t'market_cap',\n",
    "\t'beta',\n",
    "\t'change_52w',\n",
    "\t'yield',\n",
    "\t'perf52w',\n",
    "\t'recommendation_mean',\n",
    "\t'overall_risk',\n",
    "\t'held_percent_institutions',\n",
    "\t'held_percent_insiders',\n",
    "]\n",
    "basic_names = [\n",
    "\t'employees',\n",
    "]\n",
    "cat_names = [\n",
    "\t'country',\n",
    "\t'sector',\n",
    "\t'industry',\n",
    "\t'recommendation_key',\n",
    "]\n",
    "text_names = [\n",
    "\t'company_name',\n",
    "\t'company_short_name',\n",
    "\t# 'city',\n",
    "]\n",
    "feature_names = [*stat_names, *basic_names, *cat_names, *text_names]"
   ]
  },
  {
   "cell_type": "code",
   "execution_count": 16,
   "id": "703514fea03b9507",
   "metadata": {
    "ExecuteTime": {
     "end_time": "2023-09-08T11:56:21.819062200Z",
     "start_time": "2023-09-08T11:56:21.150437300Z"
    },
    "collapsed": false
   },
   "outputs": [
    {
     "data": {
      "text/plain": [
       "11"
      ]
     },
     "execution_count": 16,
     "metadata": {},
     "output_type": "execute_result"
    }
   ],
   "source": [
    "pop_stat_type = 'pct'\n",
    "global_pop_stats = Scope(\n",
    "\tPopulationStats(pop, *stat_names, percentile=pop_stat_type == 'pct', location=pop_stat_type == 'loc'), \n",
    "\tgap={f'{pop_stat_type}_{key}': f'glob_{pop_stat_type}_{key}' for key in stat_names}\n",
    ")\n",
    "sec_pop_stats = {sec: Scope(\n",
    "\tPopulationStats(pop_sec[sec], *stat_names, percentile=pop_stat_type == 'pct', location=pop_stat_type == 'loc'), \n",
    "\tgap={f'{pop_stat_type}_{key}': f'sec_{pop_stat_type}_{key}' for key in stat_names}\n",
    ") for sec, ctxs in pop_sec.items()}\n",
    "\n",
    "from stox.general import country_flags, sector_emojis\n",
    "\n",
    "display_countries = {k: f'{e} {k}' for k, e in country_flags.items()}\n",
    "display_sectors = {k: f'{e} {k}' for k, e in sector_emojis.items()}\n",
    "\n",
    "display_country = tool('display_country')(lambda country: display_countries.get(country, country))\n",
    "display_sector = tool('display_sector')(lambda sector: display_sectors.get(sector, sector))\n",
    "\n",
    "share_counter = tool('shares')(lambda ibsym: current_portfolio.get(ibsym, 0))\n",
    "market_cap_raw_tool = tool('market_cap_raw')(lambda market_cap: market_cap.amount)\n",
    "\n",
    "for ctx in pop:\n",
    "\tctx.include(market_cap_raw_tool, share_counter, display_sector, display_country, global_pop_stats, sec_pop_stats[ctx['sector']])\n",
    "len(sec_pop_stats)"
   ]
  },
  {
   "cell_type": "code",
   "execution_count": 17,
   "id": "70710d1e1e7852cc",
   "metadata": {
    "ExecuteTime": {
     "end_time": "2023-09-08T11:56:22.230275500Z",
     "start_time": "2023-09-08T11:56:21.500559300Z"
    },
    "collapsed": false
   },
   "outputs": [
    {
     "data": {
      "text/plain": [
       "Context(conId, currency, exchange, primaryExchange, symbol, date, ibsym, ibid, yfsym, info, sector, country, yahoo_ckpt_path, {city}, {website}, {industry}, {business_summary}, {employees}, {audit_risk}, {board_risk}, {compensation_risk}, {share_holder_risk}, {overall_risk}, {high_52w}, {low_52w}, {cash_per_share}, {debt_to_equity}, {earnings_growth}, {yield}, {revenue}, {gross_profit}, {free_cash_flow}, {operating_cash_flow}, {operating_income}, {ebitda}, {debt}, {cash}, {current_ratio}, {quick_ratio}, {beta}, {trailing_pe}, {forward_pe}, {volume}, {volume_10d}, {market_cap}, {peg_ratio}, {price_to_book}, {trailing_eps}, {forward_eps}, {company_short_name}, {company_name}, {price}, {recommendation_mean}, {recommendation_key}, {number_of_analysts}, {target_mean_price}, {target_high_price}, {target_low_price}, {target_median_price}, {change_52w}, {held_percent_institutions}, {held_percent_insiders}, {profit_margins}, {target_mean_change}, {target_high_change}, {target_low_change}, {target_median_change}, {perf52w}, {splits}, {dividends}, {history}, {isin}, {balancesheet}, {cashflow}, {financials}, {quarterly_balancesheet}, {quarterly_cashflow}, {quarterly_financials}, {market_cap_raw}, {shares}, {display_sector}, {display_country}, {glob_pct_peg_ratio}, {glob_pct_market_cap}, {glob_pct_beta}, {glob_pct_change_52w}, {glob_pct_yield}, {glob_pct_perf52w}, {glob_pct_recommendation_mean}, {glob_pct_overall_risk}, {glob_pct_held_percent_institutions}, {glob_pct_held_percent_insiders}, {sec_pct_peg_ratio}, {sec_pct_market_cap}, {sec_pct_beta}, {sec_pct_change_52w}, {sec_pct_yield}, {sec_pct_perf52w}, {sec_pct_recommendation_mean}, {sec_pct_overall_risk}, {sec_pct_held_percent_institutions}, {sec_pct_held_percent_insiders})"
      ]
     },
     "execution_count": 17,
     "metadata": {},
     "output_type": "execute_result"
    }
   ],
   "source": [
    "ctx"
   ]
  },
  {
   "cell_type": "code",
   "execution_count": 18,
   "id": "a2366cc8d4a20d02",
   "metadata": {
    "ExecuteTime": {
     "end_time": "2023-09-08T11:56:22.972294500Z",
     "start_time": "2023-09-08T11:56:21.794059600Z"
    },
    "collapsed": false
   },
   "outputs": [
    {
     "data": {
      "text/plain": [
       "(95, 93)"
      ]
     },
     "execution_count": 18,
     "metadata": {},
     "output_type": "execute_result"
    }
   ],
   "source": [
    "ctx[f'glob_{pop_stat_type}_peg_ratio'], ctx[f'sec_{pop_stat_type}_peg_ratio']"
   ]
  },
  {
   "cell_type": "code",
   "execution_count": 19,
   "id": "6d5364499f3e2073",
   "metadata": {
    "ExecuteTime": {
     "end_time": "2023-09-08T11:56:23.707114600Z",
     "start_time": "2023-09-08T11:56:22.311559400Z"
    },
    "collapsed": false
   },
   "outputs": [
    {
     "data": {
      "text/plain": [
       "50"
      ]
     },
     "execution_count": 19,
     "metadata": {},
     "output_type": "execute_result"
    }
   ],
   "source": [
    "ctx[f'sec_{pop_stat_type}_recommendation_mean']"
   ]
  },
  {
   "cell_type": "code",
   "execution_count": 28,
   "id": "10974aa49ccdeeaf",
   "metadata": {
    "ExecuteTime": {
     "end_time": "2023-09-08T12:49:17.945889200Z",
     "start_time": "2023-09-08T12:49:17.633533400Z"
    },
    "collapsed": false
   },
   "outputs": [],
   "source": [
    "feature_names = [\n",
    "\t'yfsym',\n",
    "\t'ibsym',\n",
    "\t'company_name',\n",
    "\t'country',\n",
    "\t# 'display_country',\n",
    "\t'sector',\n",
    "\t# 'display_sector',\n",
    "\t'industry',\n",
    "\t\n",
    "\t'price',\n",
    "\t'shares',\n",
    "\n",
    "\t'yield',\n",
    "\tf'sec_{pop_stat_type}_yield',\n",
    "\tf'glob_{pop_stat_type}_yield',\n",
    "\n",
    "\t'recommendation_key',\n",
    "\t'recommendation_mean',\n",
    "\tf'sec_{pop_stat_type}_recommendation_mean',\n",
    "\tf'glob_{pop_stat_type}_recommendation_mean',\n",
    "\n",
    "\t'peg_ratio',\n",
    "\tf'sec_{pop_stat_type}_peg_ratio',\n",
    "\tf'glob_{pop_stat_type}_peg_ratio',\n",
    "\n",
    "\t'change_52w',\n",
    "\tf'sec_{pop_stat_type}_change_52w',\n",
    "\tf'glob_{pop_stat_type}_change_52w',\n",
    "\n",
    "\t'perf52w',\n",
    "\tf'sec_{pop_stat_type}_perf52w',\n",
    "\tf'glob_{pop_stat_type}_perf52w',\n",
    "\n",
    "\t'market_cap',\n",
    "\tf'sec_{pop_stat_type}_market_cap',\n",
    "\tf'glob_{pop_stat_type}_market_cap',\n",
    "\t'market_cap_raw',\n",
    "\t\n",
    "\t'overall_risk',\n",
    "\tf'sec_{pop_stat_type}_overall_risk',\n",
    "\tf'glob_{pop_stat_type}_overall_risk',\n",
    "\n",
    "\t'held_percent_institutions',\n",
    "\tf'sec_{pop_stat_type}_held_percent_institutions',\n",
    "\tf'glob_{pop_stat_type}_held_percent_institutions',\n",
    "\n",
    "\t'held_percent_insiders',\n",
    "\tf'sec_{pop_stat_type}_held_percent_insiders',\n",
    "\tf'glob_{pop_stat_type}_held_percent_insiders',\t\n",
    "]\n",
    "\n",
    "table = [[ctx[k] for k in feature_names] for ctx in pop]\n",
    "\n",
    "df = pd.DataFrame(table, columns=feature_names)"
   ]
  },
  {
   "cell_type": "code",
   "execution_count": 29,
   "id": "62a6b1de10e23fdd",
   "metadata": {
    "ExecuteTime": {
     "end_time": "2023-09-08T12:49:18.553272300Z",
     "start_time": "2023-09-08T12:49:18.111743Z"
    },
    "collapsed": false
   },
   "outputs": [],
   "source": [
    "# import dtale\n",
    "# dtale.show(df)"
   ]
  },
  {
   "cell_type": "code",
   "execution_count": 30,
   "id": "4b05b1f86c163e9e",
   "metadata": {
    "ExecuteTime": {
     "end_time": "2023-09-08T12:49:19.149483600Z",
     "start_time": "2023-09-08T12:49:18.542262400Z"
    },
    "collapsed": false
   },
   "outputs": [],
   "source": [
    "# from pandasgui import show\n",
    "# show(df)"
   ]
  },
  {
   "cell_type": "code",
   "execution_count": 31,
   "id": "c63fa90cffbbad59",
   "metadata": {
    "ExecuteTime": {
     "end_time": "2023-09-08T12:49:19.704559300Z",
     "start_time": "2023-09-08T12:49:19.266623600Z"
    },
    "collapsed": false
   },
   "outputs": [],
   "source": [
    "csv_column_titles = {\n",
    "\t'yfsym': 'Yahoo Symbol',\n",
    "\t'ibsym': 'IBKR Symbol',\n",
    "\t'company_name': 'Company Name',\n",
    "\t'country': 'Country',\n",
    "\t'display_country': 'Country',\n",
    "\t'sector': 'Sector',\n",
    "\t'display_sector': 'Sector',\n",
    "\t'industry': 'Industry',\n",
    "\t\n",
    "\t'price': 'Price',\n",
    "\t'shares': 'Current Shares',\n",
    "\t\n",
    "\t'yield': 'Dividend Yield',\n",
    "\tf'sec_{pop_stat_type}_yield': 'Sector Percentile of Dividend Yield',\n",
    "\tf'glob_{pop_stat_type}_yield': 'Overall Percentile of Dividend Yield',\n",
    "\t\n",
    "\t'recommendation_key': 'Recommendation Key',\n",
    "\t'recommendation_mean': 'Recommendation Mean',\n",
    "\tf'sec_{pop_stat_type}_recommendation_mean': 'Sector Percentile of Recommendation Mean',\n",
    "\tf'glob_{pop_stat_type}_recommendation_mean': 'Overall Percentile of Recommendation Mean',\n",
    "\t\n",
    "\t'peg_ratio': 'PEG Ratio',\n",
    "\tf'sec_{pop_stat_type}_peg_ratio': 'Sector Percentile of PEG Ratio',\n",
    "\tf'glob_{pop_stat_type}_peg_ratio': 'Overall Percentile of PEG Ratio',\n",
    "\t\n",
    "\t'change_52w': 'Change 52w',\n",
    "\tf'sec_{pop_stat_type}_change_52w': 'Sector Percentile of Change 52w',\n",
    "\tf'glob_{pop_stat_type}_change_52w': 'Overall Percentile of Change 52w',\n",
    "\t\n",
    "\t'perf52w': '52 Week Relative Price (1=52 week high, 0=52 week low)',\n",
    "\tf'sec_{pop_stat_type}_perf52w': 'Sector Percentile of 52 Week Relative Price',\n",
    "\tf'glob_{pop_stat_type}_perf52w': 'Overall Percentile of 52 Week Relative Price',\n",
    "\t\n",
    "\t'market_cap': 'Market Cap',\n",
    "\tf'sec_{pop_stat_type}_market_cap': 'Sector Percentile of Market Cap',\n",
    "\tf'glob_{pop_stat_type}_market_cap': 'Overall Percentile of Market Cap',\n",
    "\t# 'market_cap_raw': 'Market Cap Raw',\n",
    "\t\n",
    "\t'overall_risk': 'Overall Risk (1-10)',\n",
    "\tf'sec_{pop_stat_type}_overall_risk': 'Sector Percentile of Overall Risk',\n",
    "\tf'glob_{pop_stat_type}_overall_risk': 'Overall Percentile of Overall Risk',\n",
    "\t\n",
    "\t'held_percent_institutions': 'Percent of Shares Held by Institutions',\n",
    "\tf'sec_{pop_stat_type}_held_percent_institutions': 'Sector Percentile of Percent of Shares Held by Institutions',\n",
    "\tf'glob_{pop_stat_type}_held_percent_institutions': 'Overall Percentile of Percent of Shares Held by Institutions',\n",
    "\t\n",
    "\t'held_percent_insiders': 'Percent of Shares Held by Insiders',\n",
    "\tf'sec_{pop_stat_type}_held_percent_insiders': 'Sector Percentile of Percent of Shares Held by Insiders',\n",
    "\tf'glob_{pop_stat_type}_held_percent_insiders': 'Overall Percentile of Percent of Shares Held by Insiders',\n",
    "}\n",
    "df.rename(columns=csv_column_titles).to_csv(misc.assets_root() / 'stocks.csv', index=False);"
   ]
  },
  {
   "cell_type": "code",
   "execution_count": null,
   "id": "ee3cfb5acb2165b",
   "metadata": {
    "collapsed": false
   },
   "outputs": [],
   "source": []
  },
  {
   "cell_type": "code",
   "execution_count": null,
   "id": "199722ea5ce54999",
   "metadata": {
    "collapsed": false
   },
   "outputs": [],
   "source": []
  },
  {
   "cell_type": "code",
   "execution_count": null,
   "id": "31d6b8ad8817caa6",
   "metadata": {
    "collapsed": false
   },
   "outputs": [],
   "source": []
  },
  {
   "cell_type": "code",
   "execution_count": null,
   "id": "701c396002207a53",
   "metadata": {
    "collapsed": false
   },
   "outputs": [],
   "source": []
  },
  {
   "cell_type": "code",
   "execution_count": null,
   "id": "7a6bf2e35c975e8a",
   "metadata": {
    "ExecuteTime": {
     "end_time": "2023-08-29T21:18:07.825577Z",
     "start_time": "2023-08-29T21:18:07.822561700Z"
    },
    "collapsed": false
   },
   "outputs": [],
   "source": []
  },
  {
   "cell_type": "code",
   "execution_count": null,
   "id": "6da065f957e36fb7",
   "metadata": {
    "collapsed": false
   },
   "outputs": [],
   "source": []
  }
 ],
 "metadata": {
  "kernelspec": {
   "display_name": "Python 3 (ipykernel)",
   "language": "python",
   "name": "python3"
  },
  "language_info": {
   "codemirror_mode": {
    "name": "ipython",
    "version": 3
   },
   "file_extension": ".py",
   "mimetype": "text/x-python",
   "name": "python",
   "nbconvert_exporter": "python",
   "pygments_lexer": "ipython3",
   "version": "3.11.4"
  }
 },
 "nbformat": 4,
 "nbformat_minor": 5
}
