{
 "cells": [
  {
   "cell_type": "code",
   "execution_count": 1,
   "id": "initial_id",
   "metadata": {
    "collapsed": true,
    "ExecuteTime": {
     "end_time": "2023-09-27T22:04:56.881849400Z",
     "start_time": "2023-09-27T22:04:55.705518900Z"
    }
   },
   "outputs": [],
   "source": [
    "# from pathlib import Path\n",
    "# from IPython.display import display, HTML\n",
    "# display(HTML(\"<style>.container { width:98% !important; }</style>\"))\n",
    "# # import umap\n",
    "# from tabulate import tabulate\n",
    "# from tqdm.notebook import tqdm\n",
    "# from src import yahoo, optim, common\n",
    "# from src.euro import *\n",
    "# colors = dict(zip(common.base_sectors, common.mpl_colors))\n",
    "# colors['Industrials'] = '#777777'\n",
    "# colors['Utilities'] = '#a6a119'\n",
    "# colors['Energy'] = '#c5a96e'\n",
    "\n",
    "import random\n",
    "import stox\n",
    "from stox.imports import *\n",
    "from stox.ibkr import IB_Extractor\n",
    "from stox import misc, yahoo\n",
    "from omnibelt import tqdmd_notebook as tqdmd\n",
    "from omnibelt import save_yaml\n",
    "from collections import Counter\n",
    "\n",
    "# from stox.alpha_vantage import AlphaVantageStocks"
   ]
  },
  {
   "cell_type": "code",
   "execution_count": 2,
   "outputs": [
    {
     "data": {
      "text/plain": "454"
     },
     "execution_count": 2,
     "metadata": {},
     "output_type": "execute_result"
    }
   ],
   "source": [
    "symbol_table = stox.load_symbol_table()\n",
    "len(symbol_table)"
   ],
   "metadata": {
    "collapsed": false,
    "ExecuteTime": {
     "end_time": "2023-09-27T22:04:57.138984200Z",
     "start_time": "2023-09-27T22:04:56.882849400Z"
    }
   },
   "id": "9514d3b9fe81c430"
  },
  {
   "cell_type": "code",
   "execution_count": 40,
   "outputs": [
    {
     "data": {
      "text/plain": "True"
     },
     "execution_count": 40,
     "metadata": {},
     "output_type": "execute_result"
    }
   ],
   "source": [
    "ibroot = misc.assets_root() / 'ibkr'\n",
    "path = ibroot / 'fe-aug23.txt'\n",
    "path = ibroot / 'gu-aug23.txt'\n",
    "path.exists()"
   ],
   "metadata": {
    "collapsed": false,
    "ExecuteTime": {
     "end_time": "2023-09-27T22:09:24.594801500Z",
     "start_time": "2023-09-27T22:09:24.561202900Z"
    }
   },
   "id": "95e61b1f4981e340"
  },
  {
   "cell_type": "code",
   "execution_count": 41,
   "outputs": [
    {
     "data": {
      "text/plain": "45"
     },
     "execution_count": 41,
     "metadata": {},
     "output_type": "execute_result"
    }
   ],
   "source": [
    "current_portfolio = misc.extract_tickers_and_shares(path)\n",
    "len(current_portfolio)"
   ],
   "metadata": {
    "collapsed": false,
    "ExecuteTime": {
     "end_time": "2023-09-27T22:09:24.757070200Z",
     "start_time": "2023-09-27T22:09:24.732773200Z"
    }
   },
   "id": "d0e10523ef8a9b53"
  },
  {
   "cell_type": "code",
   "execution_count": 42,
   "outputs": [
    {
     "data": {
      "text/plain": "[('MC', 1),\n ('ASML', 1),\n ('RACE', 2),\n ('PHIA', 22),\n ('VER', 6),\n ('SAP', 3),\n ('LIN', 1),\n ('AI', 2),\n ('MRK', 2),\n ('SU', 2),\n ('IAG', 160),\n ('SAN', 3),\n ('UNA', 6),\n ('SIE', 2),\n ('ITX', 8),\n ('IBE', 24),\n ('AIR', 2),\n ('STMPA', 6),\n ('WDP', 10),\n ('KBC', 4),\n ('BNP', 4),\n ('ENEL', 38),\n ('UBI', 8),\n ('EBS', 7),\n ('ETE', 35),\n ('ALV', 1),\n ('REN', 7),\n ('BMW', 2),\n ('PRX', 3),\n ('JMT', 8),\n ('ATS', 6),\n ('AMS', 3),\n ('FORTUM', 15),\n ('RBI', 14),\n ('NOKIA', 50),\n ('ENI', 12),\n ('DTG', 5),\n ('VNA', 7),\n ('CS', 5),\n ('MRL', 17),\n ('ZAL', 5),\n ('TEN', 8),\n ('BAYN', 2),\n ('CNHI', 8),\n ('IFX', 1)]"
     },
     "execution_count": 42,
     "metadata": {},
     "output_type": "execute_result"
    }
   ],
   "source": [
    "current_portfolio"
   ],
   "metadata": {
    "collapsed": false,
    "ExecuteTime": {
     "end_time": "2023-09-27T22:09:26.031351700Z",
     "start_time": "2023-09-27T22:09:25.993095900Z"
    }
   },
   "id": "9b177d2d3b9e777a"
  },
  {
   "cell_type": "code",
   "execution_count": 46,
   "outputs": [
    {
     "data": {
      "text/plain": "239"
     },
     "execution_count": 46,
     "metadata": {},
     "output_type": "execute_result"
    }
   ],
   "source": [
    "known = {}\n",
    "for tk, info in symbol_table.items():\n",
    "\tif info['ibkr-contract']['currency'] == 'EUR':\n",
    "\t\tif info['ibkr-contract']['symbol'] in known:\n",
    "\t\t\tprint(tk, info['ibkr-contract']['symbol'])\n",
    "\t\tknown[info['ibkr-contract']['symbol']] = tk\n",
    "len(known)"
   ],
   "metadata": {
    "collapsed": false,
    "ExecuteTime": {
     "end_time": "2023-09-27T22:14:23.083912900Z",
     "start_time": "2023-09-27T22:14:23.068392700Z"
    }
   },
   "id": "431ccbe283099ea2"
  },
  {
   "cell_type": "code",
   "execution_count": 13,
   "outputs": [],
   "source": [
    "for tk, num in current_portfolio:\n",
    "\tif tk not in known:\n",
    "\t\tprint(tk, num)"
   ],
   "metadata": {
    "collapsed": false,
    "ExecuteTime": {
     "end_time": "2023-09-27T22:06:24.729211100Z",
     "start_time": "2023-09-27T22:06:24.705766300Z"
    }
   },
   "id": "b3c6f2eafbe836b3"
  },
  {
   "cell_type": "code",
   "execution_count": 38,
   "outputs": [
    {
     "data": {
      "text/plain": "58"
     },
     "execution_count": 38,
     "metadata": {},
     "output_type": "execute_result"
    }
   ],
   "source": [
    "total = Counter()\n",
    "total.update(dict(current_portfolio))\n",
    "len(total)"
   ],
   "metadata": {
    "collapsed": false,
    "ExecuteTime": {
     "end_time": "2023-09-27T22:09:19.407555700Z",
     "start_time": "2023-09-27T22:09:19.376715200Z"
    }
   },
   "id": "1b11104c966bd13b"
  },
  {
   "cell_type": "code",
   "execution_count": 39,
   "outputs": [
    {
     "data": {
      "text/plain": "Counter({'NOKIA': 148,\n         'ISP': 130,\n         'IAG': 120,\n         'ENEL': 101,\n         'IBE': 78,\n         'ETE': 60,\n         'BBVA': 45,\n         'NEXI': 40,\n         'RBI': 31,\n         'ITX': 26,\n         'LHA': 24,\n         'MRL': 23,\n         'IIA': 20,\n         'CNHI': 20,\n         'PHIA': 19,\n         'REN': 16,\n         'EBS': 16,\n         'ENI': 16,\n         'WDP': 15,\n         'JMT': 14,\n         'ATS': 14,\n         'PRX': 13,\n         'TEN': 13,\n         'VNA': 12,\n         'SAN': 10,\n         'CS': 10,\n         'UBI': 10,\n         'IFX': 8,\n         'AMS': 8,\n         'AD': 8,\n         'SHELL': 8,\n         'VER': 8,\n         'SAP': 7,\n         'AIR': 7,\n         'DTE': 7,\n         'ZAL': 7,\n         'SIE': 6,\n         'STMPA': 6,\n         'BAS': 6,\n         'BAYN': 6,\n         'BNP': 5,\n         'KBC': 5,\n         'OMV': 5,\n         'ALV': 4,\n         'RACE': 3,\n         'SU': 3,\n         'AI': 3,\n         'TTE': 3,\n         'UCB': 3,\n         'ABI': 3,\n         'MRK': 3,\n         'ARGX': 2,\n         'ASML': 2,\n         'LIN': 2,\n         'KER': 2,\n         'HO': 2,\n         'NESN': 2,\n         'MC': 1})"
     },
     "execution_count": 39,
     "metadata": {},
     "output_type": "execute_result"
    }
   ],
   "source": [
    "total"
   ],
   "metadata": {
    "collapsed": false,
    "ExecuteTime": {
     "end_time": "2023-09-27T22:09:20.758975100Z",
     "start_time": "2023-09-27T22:09:20.718413600Z"
    }
   },
   "id": "a486fc279622e73c"
  },
  {
   "cell_type": "code",
   "execution_count": 43,
   "outputs": [
    {
     "data": {
      "text/plain": "62"
     },
     "execution_count": 43,
     "metadata": {},
     "output_type": "execute_result"
    }
   ],
   "source": [
    "total.update(dict(current_portfolio))\n",
    "len(total)"
   ],
   "metadata": {
    "collapsed": false,
    "ExecuteTime": {
     "end_time": "2023-09-27T22:09:29.555194900Z",
     "start_time": "2023-09-27T22:09:29.513114200Z"
    }
   },
   "id": "439e5714863c69ba"
  },
  {
   "cell_type": "code",
   "execution_count": 44,
   "outputs": [
    {
     "data": {
      "text/plain": "Counter({'IAG': 280,\n         'NOKIA': 198,\n         'ENEL': 139,\n         'ISP': 130,\n         'IBE': 102,\n         'ETE': 95,\n         'BBVA': 45,\n         'RBI': 45,\n         'PHIA': 41,\n         'MRL': 40,\n         'NEXI': 40,\n         'ITX': 34,\n         'ENI': 28,\n         'CNHI': 28,\n         'WDP': 25,\n         'LHA': 24,\n         'REN': 23,\n         'EBS': 23,\n         'JMT': 22,\n         'TEN': 21,\n         'IIA': 20,\n         'ATS': 20,\n         'VNA': 19,\n         'UBI': 18,\n         'PRX': 16,\n         'CS': 15,\n         'FORTUM': 15,\n         'VER': 14,\n         'SAN': 13,\n         'STMPA': 12,\n         'ZAL': 12,\n         'AMS': 11,\n         'SAP': 10,\n         'AIR': 9,\n         'BNP': 9,\n         'IFX': 9,\n         'KBC': 9,\n         'SIE': 8,\n         'AD': 8,\n         'SHELL': 8,\n         'BAYN': 8,\n         'DTE': 7,\n         'BAS': 6,\n         'UNA': 6,\n         'RACE': 5,\n         'SU': 5,\n         'ALV': 5,\n         'AI': 5,\n         'OMV': 5,\n         'MRK': 5,\n         'DTG': 5,\n         'ASML': 3,\n         'LIN': 3,\n         'TTE': 3,\n         'UCB': 3,\n         'ABI': 3,\n         'ARGX': 2,\n         'MC': 2,\n         'KER': 2,\n         'HO': 2,\n         'NESN': 2,\n         'BMW': 2})"
     },
     "execution_count": 44,
     "metadata": {},
     "output_type": "execute_result"
    }
   ],
   "source": [
    "total"
   ],
   "metadata": {
    "collapsed": false,
    "ExecuteTime": {
     "end_time": "2023-09-27T22:09:31.448743300Z",
     "start_time": "2023-09-27T22:09:31.417125200Z"
    }
   },
   "id": "9fb6110ee44c3aac"
  },
  {
   "cell_type": "code",
   "execution_count": 48,
   "outputs": [],
   "source": [
    "hard = {known[tk]: num for tk, num in total.items() if tk not in ['NESN']}"
   ],
   "metadata": {
    "collapsed": false,
    "ExecuteTime": {
     "end_time": "2023-09-27T22:15:41.524534100Z",
     "start_time": "2023-09-27T22:15:41.511010800Z"
    }
   },
   "id": "738dbdebdfa2198f"
  },
  {
   "cell_type": "code",
   "execution_count": 49,
   "outputs": [
    {
     "name": "stdout",
     "output_type": "stream",
     "text": [
      "{'ITX.MC': 34, 'RACE.MI': 5, 'ARGX.BR': 2, 'SAP.DE': 10, 'PRX.AS': 16, 'ASML.AS': 3, 'MC.PA': 2, 'ETE.AT': 95, 'AIR.PA': 9, 'PHIA.AS': 41, 'LIN.DE': 3, 'SU.PA': 5, 'SIE.DE': 8, 'BBVA.MC': 45, 'IIA.VI': 20, 'ENEL.MI': 139, 'STMPA.PA': 12, 'ISP.MI': 130, 'IAG.MC': 280, 'ALV.DE': 5, 'SAN.PA': 13, 'BNP.PA': 9, '0EXG.IL': 22, 'REN.AS': 23, 'EBS.VI': 23, 'AI.PA': 5, 'KER.PA': 2, 'TTE.PA': 3, 'IFX.DE': 9, 'HO.PA': 2, 'UCB.BR': 3, 'DTE.DE': 7, 'AMS.MC': 11, 'AD.AS': 8, 'CS.PA': 15, 'ENI.MI': 28, 'SHELL.AS': 8, 'LHA.DE': 24, 'KBC.BR': 9, 'ABI.BR': 3, 'RBI.VI': 45, 'BAS.DE': 6, 'UBI.PA': 18, 'ATS.VI': 20, 'IBE.MC': 102, 'MRL.MC': 40, 'TEN.MI': 21, 'OMV.VI': 5, 'MRK.DE': 5, 'ZAL.DE': 12, 'BAYN.DE': 8, 'CNHI.MI': 28, 'VER.VI': 14, 'NEXI.MI': 40, 'WDP.BR': 25, 'NOKIA.HE': 198, 'VNA.DE': 19, 'UNA.AS': 6, 'BMW.DE': 2, 'FORTUM.HE': 15, 'DTG.DE': 5}\n"
     ]
    }
   ],
   "source": [
    "print(hard)"
   ],
   "metadata": {
    "collapsed": false,
    "ExecuteTime": {
     "end_time": "2023-09-27T22:15:46.232167400Z",
     "start_time": "2023-09-27T22:15:46.218092100Z"
    }
   },
   "id": "6cc4efa4d3e95286"
  },
  {
   "cell_type": "code",
   "execution_count": null,
   "outputs": [],
   "source": [],
   "metadata": {
    "collapsed": false
   },
   "id": "744d9e87fddf658f"
  }
 ],
 "metadata": {
  "kernelspec": {
   "display_name": "Python 3",
   "language": "python",
   "name": "python3"
  },
  "language_info": {
   "codemirror_mode": {
    "name": "ipython",
    "version": 2
   },
   "file_extension": ".py",
   "mimetype": "text/x-python",
   "name": "python",
   "nbconvert_exporter": "python",
   "pygments_lexer": "ipython2",
   "version": "2.7.6"
  }
 },
 "nbformat": 4,
 "nbformat_minor": 5
}
