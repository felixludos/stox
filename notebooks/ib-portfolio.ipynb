{
 "cells": [
  {
   "cell_type": "code",
   "execution_count": 5,
   "id": "initial_id",
   "metadata": {
    "collapsed": true,
    "ExecuteTime": {
     "end_time": "2023-08-29T14:28:42.328760600Z",
     "start_time": "2023-08-29T14:28:42.258756800Z"
    }
   },
   "outputs": [],
   "source": [
    "# from pathlib import Path\n",
    "# from IPython.display import display, HTML\n",
    "# display(HTML(\"<style>.container { width:98% !important; }</style>\"))\n",
    "# # import umap\n",
    "# from tabulate import tabulate\n",
    "# from tqdm.notebook import tqdm\n",
    "# from src import yahoo, optim, common\n",
    "# from src.euro import *\n",
    "# colors = dict(zip(common.base_sectors, common.mpl_colors))\n",
    "# colors['Industrials'] = '#777777'\n",
    "# colors['Utilities'] = '#a6a119'\n",
    "# colors['Energy'] = '#c5a96e'\n",
    "\n",
    "import random\n",
    "import stox\n",
    "from stox.imports import *\n",
    "from stox.api import IB_Extractor\n",
    "from stox import misc, yahoo\n",
    "from omnibelt import tqdmd_notebook as tqdmd\n",
    "from omnibelt import save_yaml\n",
    "from collections import Counter\n",
    "\n",
    "# from stox.alpha_vantage import AlphaVantageStocks"
   ]
  },
  {
   "cell_type": "code",
   "execution_count": 6,
   "outputs": [
    {
     "data": {
      "text/plain": "271"
     },
     "execution_count": 6,
     "metadata": {},
     "output_type": "execute_result"
    }
   ],
   "source": [
    "symbol_table = stox.load_symbol_table()\n",
    "len(symbol_table)"
   ],
   "metadata": {
    "collapsed": false,
    "ExecuteTime": {
     "end_time": "2023-08-29T14:28:43.587101100Z",
     "start_time": "2023-08-29T14:28:43.348083700Z"
    }
   },
   "id": "9514d3b9fe81c430"
  },
  {
   "cell_type": "code",
   "execution_count": 7,
   "outputs": [],
   "source": [
    "path = ibroot / 'fe-aug23.txt'\n",
    "# path = ibroot / 'gu-aug23.txt'"
   ],
   "metadata": {
    "collapsed": false,
    "ExecuteTime": {
     "end_time": "2023-08-29T14:28:48.423366500Z",
     "start_time": "2023-08-29T14:28:48.382242500Z"
    }
   },
   "id": "95e61b1f4981e340"
  },
  {
   "cell_type": "code",
   "execution_count": 8,
   "outputs": [
    {
     "data": {
      "text/plain": "45"
     },
     "execution_count": 8,
     "metadata": {},
     "output_type": "execute_result"
    }
   ],
   "source": [
    "current_portfolio = misc.extract_tickers_and_shares(path)\n",
    "len(current_portfolio)"
   ],
   "metadata": {
    "collapsed": false,
    "ExecuteTime": {
     "end_time": "2023-08-29T14:28:50.018975200Z",
     "start_time": "2023-08-29T14:28:49.859764700Z"
    }
   },
   "id": "d0e10523ef8a9b53"
  },
  {
   "cell_type": "code",
   "execution_count": 9,
   "outputs": [
    {
     "data": {
      "text/plain": "[('MC', 1),\n ('ASML', 1),\n ('RACE', 2),\n ('PHIA', 22),\n ('VER', 6),\n ('SAP', 3),\n ('LIN', 1),\n ('AI', 2),\n ('MRK', 2),\n ('SU', 2),\n ('IAG', 160),\n ('SAN', 3),\n ('UNA', 6),\n ('SIE', 2),\n ('ITX', 8),\n ('IBE', 24),\n ('AIR', 2),\n ('STMPA', 6),\n ('WDP', 10),\n ('KBC', 4),\n ('BNP', 4),\n ('ENEL', 38),\n ('UBI', 8),\n ('EBS', 7),\n ('ETE', 35),\n ('ALV', 1),\n ('REN', 7),\n ('BMW', 2),\n ('PRX', 3),\n ('JMT', 8),\n ('ATS', 6),\n ('AMS', 3),\n ('FORTUM', 15),\n ('RBI', 14),\n ('NOKIA', 50),\n ('ENI', 12),\n ('DTG', 5),\n ('VNA', 7),\n ('CS', 5),\n ('MRL', 17),\n ('ZAL', 5),\n ('TEN', 8),\n ('BAYN', 2),\n ('CNHI', 8),\n ('IFX', 1)]"
     },
     "execution_count": 9,
     "metadata": {},
     "output_type": "execute_result"
    }
   ],
   "source": [
    "current_portfolio"
   ],
   "metadata": {
    "collapsed": false,
    "ExecuteTime": {
     "end_time": "2023-08-29T14:28:52.615143100Z",
     "start_time": "2023-08-29T14:28:52.505573100Z"
    }
   },
   "id": "9b177d2d3b9e777a"
  },
  {
   "cell_type": "code",
   "execution_count": 11,
   "outputs": [
    {
     "data": {
      "text/plain": "[('JMT', 1), ('1COV', 1), ('AAF', 1), ('ABDN', 1), ('ABI', 1)]"
     },
     "execution_count": 11,
     "metadata": {},
     "output_type": "execute_result"
    }
   ],
   "source": [
    "known = Counter(v['symbol'] for v in symbol_table.values())\n",
    "known.most_common(5)"
   ],
   "metadata": {
    "collapsed": false,
    "ExecuteTime": {
     "end_time": "2023-08-29T14:29:14.909938800Z",
     "start_time": "2023-08-29T14:29:14.860703900Z"
    }
   },
   "id": "431ccbe283099ea2"
  },
  {
   "cell_type": "code",
   "execution_count": 12,
   "outputs": [],
   "source": [
    "for tk, num in current_portfolio:\n",
    "\tif tk not in known:\n",
    "\t\tprint(tk, num)"
   ],
   "metadata": {
    "collapsed": false,
    "ExecuteTime": {
     "end_time": "2023-08-29T14:29:28.594240300Z",
     "start_time": "2023-08-29T14:29:28.558445300Z"
    }
   },
   "id": "b3c6f2eafbe836b3"
  },
  {
   "cell_type": "code",
   "execution_count": 4,
   "outputs": [],
   "source": [],
   "metadata": {
    "collapsed": false,
    "ExecuteTime": {
     "end_time": "2023-08-23T13:46:24.891366200Z",
     "start_time": "2023-08-23T13:46:24.860591200Z"
    }
   },
   "id": "1b11104c966bd13b"
  },
  {
   "cell_type": "code",
   "execution_count": 4,
   "outputs": [],
   "source": [],
   "metadata": {
    "collapsed": false,
    "ExecuteTime": {
     "end_time": "2023-08-23T13:46:25.078247800Z",
     "start_time": "2023-08-23T13:46:25.063174500Z"
    }
   },
   "id": "9fb6110ee44c3aac"
  },
  {
   "cell_type": "code",
   "execution_count": 4,
   "outputs": [],
   "source": [],
   "metadata": {
    "collapsed": false,
    "ExecuteTime": {
     "end_time": "2023-08-23T13:46:25.257268700Z",
     "start_time": "2023-08-23T13:46:25.243617900Z"
    }
   },
   "id": "6cc4efa4d3e95286"
  },
  {
   "cell_type": "code",
   "execution_count": null,
   "outputs": [],
   "source": [],
   "metadata": {
    "collapsed": false
   },
   "id": "744d9e87fddf658f"
  }
 ],
 "metadata": {
  "kernelspec": {
   "display_name": "Python 3",
   "language": "python",
   "name": "python3"
  },
  "language_info": {
   "codemirror_mode": {
    "name": "ipython",
    "version": 2
   },
   "file_extension": ".py",
   "mimetype": "text/x-python",
   "name": "python",
   "nbconvert_exporter": "python",
   "pygments_lexer": "ipython2",
   "version": "2.7.6"
  }
 },
 "nbformat": 4,
 "nbformat_minor": 5
}
