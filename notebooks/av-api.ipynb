{
 "cells": [
  {
   "cell_type": "code",
   "execution_count": 1,
   "id": "initial_id",
   "metadata": {
    "collapsed": true,
    "ExecuteTime": {
     "end_time": "2023-09-12T19:25:31.537330Z",
     "start_time": "2023-09-12T19:25:30.911561Z"
    }
   },
   "outputs": [],
   "source": [
    "import random\n",
    "from tqdm.notebook import tqdm\n",
    "from stox.alpha_vantage import AlphaVantageStocks\n",
    "from stox.ibkr import load_symbol_table, save_symbol_table\n",
    "import omnifig as fig\n",
    "fig.initialize()"
   ]
  },
  {
   "cell_type": "code",
   "execution_count": 2,
   "outputs": [
    {
     "data": {
      "text/plain": "dict_keys(['Symbol', 'AssetType', 'Name', 'Description', 'CIK', 'Exchange', 'Currency', 'Country', 'Sector', 'Industry', 'Address', 'FiscalYearEnd', 'LatestQuarter', 'MarketCapitalization', 'EBITDA', 'PERatio', 'PEGRatio', 'BookValue', 'DividendPerShare', 'DividendYield', 'EPS', 'RevenuePerShareTTM', 'ProfitMargin', 'OperatingMarginTTM', 'ReturnOnAssetsTTM', 'ReturnOnEquityTTM', 'RevenueTTM', 'GrossProfitTTM', 'DilutedEPSTTM', 'QuarterlyEarningsGrowthYOY', 'QuarterlyRevenueGrowthYOY', 'AnalystTargetPrice', 'TrailingPE', 'ForwardPE', 'PriceToSalesRatioTTM', 'PriceToBookRatio', 'EVToRevenue', 'EVToEBITDA', 'Beta', '52WeekHigh', '52WeekLow', '50DayMovingAverage', '200DayMovingAverage', 'SharesOutstanding', 'DividendDate', 'ExDividendDate'])"
     },
     "execution_count": 2,
     "metadata": {},
     "output_type": "execute_result"
    }
   ],
   "source": [
    "av = AlphaVantageStocks()\n",
    "info = av.overview('BBVA')\n",
    "info.keys()"
   ],
   "metadata": {
    "collapsed": false,
    "ExecuteTime": {
     "end_time": "2023-09-12T19:25:32.542366Z",
     "start_time": "2023-09-12T19:25:31.538334400Z"
    }
   },
   "id": "a953f3cf77ba3c2a"
  },
  {
   "cell_type": "code",
   "execution_count": 3,
   "outputs": [
    {
     "data": {
      "text/plain": "(454, 239)"
     },
     "execution_count": 3,
     "metadata": {},
     "output_type": "execute_result"
    }
   ],
   "source": [
    "symbols_table = load_symbol_table()\n",
    "eur = {yfsym: info for yfsym, info in symbols_table.items() if info['ibkr-contract']['currency'] == 'EUR'}\n",
    "len(symbols_table), len(eur)"
   ],
   "metadata": {
    "collapsed": false,
    "ExecuteTime": {
     "end_time": "2023-09-12T19:25:37.780456800Z",
     "start_time": "2023-09-12T19:25:37.552546500Z"
    }
   },
   "id": "738cc42407964442"
  },
  {
   "cell_type": "code",
   "execution_count": 4,
   "outputs": [
    {
     "data": {
      "text/plain": "(182, 182)"
     },
     "execution_count": 4,
     "metadata": {},
     "output_type": "execute_result"
    }
   ],
   "source": [
    "adr_srcs = {yfsym: info['adr'] for yfsym, info in symbols_table.items() if 'adr' in info}\n",
    "adrs = {yfsym: info['adr-src'] for yfsym, info in symbols_table.items() if 'adr-src' in info}\n",
    "assert all(adr_srcs[adrs[yfsym]] == yfsym for yfsym in adrs)\n",
    "len(adr_srcs), len(adrs)"
   ],
   "metadata": {
    "collapsed": false,
    "ExecuteTime": {
     "end_time": "2023-09-12T19:25:40.586082500Z",
     "start_time": "2023-09-12T19:25:40.569283200Z"
    }
   },
   "id": "3aa83c32cd7c3f58"
  },
  {
   "cell_type": "code",
   "execution_count": 5,
   "outputs": [
    {
     "data": {
      "text/plain": "31"
     },
     "execution_count": 5,
     "metadata": {},
     "output_type": "execute_result"
    }
   ],
   "source": [
    "nys = [adr for adr in adrs if symbols_table[adr]['ibkr-contract']['primaryExchange'] in {'NYSE', 'NASDAQ'}]\n",
    "len(nys)"
   ],
   "metadata": {
    "collapsed": false,
    "ExecuteTime": {
     "end_time": "2023-09-12T19:25:41.008379100Z",
     "start_time": "2023-09-12T19:25:40.998038700Z"
    }
   },
   "id": "e3180b4383cd45d3"
  },
  {
   "cell_type": "code",
   "execution_count": 8,
   "outputs": [
    {
     "data": {
      "text/plain": "<stox.alpha_vantage.Alpha_Vantage_Downloader at 0x1d93ba97c50>"
     },
     "execution_count": 8,
     "metadata": {},
     "output_type": "execute_result"
    }
   ],
   "source": [
    "dl = fig.create_config(_type='downloader/alpha-vantage',).create_silent()\n",
    "dl"
   ],
   "metadata": {
    "collapsed": false,
    "ExecuteTime": {
     "end_time": "2023-09-12T19:27:20.164090400Z",
     "start_time": "2023-09-12T19:27:20.152121100Z"
    }
   },
   "id": "a0fd3d68826a96c8"
  },
  {
   "cell_type": "code",
   "execution_count": 9,
   "outputs": [
    {
     "data": {
      "text/plain": "  0%|          | 0/8 [00:00<?, ?it/s]",
      "application/vnd.jupyter.widget-view+json": {
       "version_major": 2,
       "version_minor": 0,
       "model_id": "a3c13a62baa24d0dbbd58b09a55b4dca"
      }
     },
     "metadata": {},
     "output_type": "display_data"
    },
    {
     "data": {
      "text/plain": "{}"
     },
     "execution_count": 9,
     "metadata": {},
     "output_type": "execute_result"
    }
   ],
   "source": [
    "dl.download_reports('BBVA', date='230909', pbar=tqdm)"
   ],
   "metadata": {
    "collapsed": false,
    "ExecuteTime": {
     "end_time": "2023-09-12T19:27:21.774005900Z",
     "start_time": "2023-09-12T19:27:21.746604300Z"
    }
   },
   "id": "96f1e2dfbf1dd41d"
  },
  {
   "cell_type": "code",
   "execution_count": 21,
   "outputs": [],
   "source": [
    "date = '230909'\n",
    "config = fig.create_config(**{'container._type': 'context', \n",
    "\t\t\t\t\t\t\t  'container.gadgets.av._type': 'loader/alpha-vantage'})\n",
    "_container_source = config.peek('container')\n",
    "def create_container(yfsym):\n",
    "\twith _container_source.silence():\n",
    "\t\tctx = _container_source.create()\n",
    "\tctx['ticker'] = yfsym\n",
    "\tctx['date'] = date\n",
    "\treturn ctx"
   ],
   "metadata": {
    "collapsed": false,
    "ExecuteTime": {
     "end_time": "2023-09-12T19:05:01.364102600Z",
     "start_time": "2023-09-12T19:05:01.348757400Z"
    }
   },
   "id": "a96cea933330d8be"
  },
  {
   "cell_type": "code",
   "execution_count": 22,
   "outputs": [
    {
     "data": {
      "text/plain": "31"
     },
     "execution_count": 22,
     "metadata": {},
     "output_type": "execute_result"
    }
   ],
   "source": [
    "pop = {yfsym: create_container(yfsym) for yfsym in nys}\n",
    "len(pop)"
   ],
   "metadata": {
    "collapsed": false,
    "ExecuteTime": {
     "end_time": "2023-09-12T19:05:02.014997Z",
     "start_time": "2023-09-12T19:05:01.994713800Z"
    }
   },
   "id": "84df79908b3d8b4f"
  },
  {
   "cell_type": "code",
   "execution_count": 23,
   "outputs": [
    {
     "data": {
      "text/plain": "Context(ticker, date, {overview}, {income_statement}, {balance_sheet}, {cash_flow}, {earnings}, {earnings_calendar}, {ipo_calendar}, {listing_status})"
     },
     "execution_count": 23,
     "metadata": {},
     "output_type": "execute_result"
    }
   ],
   "source": [
    "# ctx = pop[0]\n",
    "# ctx = random.choice(pop)\n",
    "ctx = pop['BBVA']\n",
    "ctx"
   ],
   "metadata": {
    "collapsed": false,
    "ExecuteTime": {
     "end_time": "2023-09-12T19:05:02.533667900Z",
     "start_time": "2023-09-12T19:05:02.512339400Z"
    }
   },
   "id": "e1b471df386eda61"
  },
  {
   "cell_type": "code",
   "execution_count": 24,
   "outputs": [
    {
     "data": {
      "text/plain": "dict_keys([])"
     },
     "execution_count": 24,
     "metadata": {},
     "output_type": "execute_result"
    }
   ],
   "source": [
    "overview = ctx['overview']\n",
    "overview.keys()"
   ],
   "metadata": {
    "collapsed": false,
    "ExecuteTime": {
     "end_time": "2023-09-12T19:05:03.030314600Z",
     "start_time": "2023-09-12T19:05:03.026690900Z"
    }
   },
   "id": "2e07d99b8586641e"
  },
  {
   "cell_type": "code",
   "execution_count": null,
   "outputs": [],
   "source": [],
   "metadata": {
    "collapsed": false
   },
   "id": "3d655069c631c867"
  },
  {
   "cell_type": "code",
   "execution_count": null,
   "outputs": [],
   "source": [],
   "metadata": {
    "collapsed": false
   },
   "id": "cc32819a4f9c02ce"
  }
 ],
 "metadata": {
  "kernelspec": {
   "display_name": "Python 3",
   "language": "python",
   "name": "python3"
  },
  "language_info": {
   "codemirror_mode": {
    "name": "ipython",
    "version": 2
   },
   "file_extension": ".py",
   "mimetype": "text/x-python",
   "name": "python",
   "nbconvert_exporter": "python",
   "pygments_lexer": "ipython2",
   "version": "2.7.6"
  }
 },
 "nbformat": 4,
 "nbformat_minor": 5
}
