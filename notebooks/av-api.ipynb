{
 "cells": [
  {
   "cell_type": "code",
   "execution_count": 1,
   "id": "initial_id",
   "metadata": {
    "collapsed": true,
    "ExecuteTime": {
     "end_time": "2023-09-11T23:45:08.919523900Z",
     "start_time": "2023-09-11T23:45:08.513046500Z"
    }
   },
   "outputs": [],
   "source": [
    "from tqdm.notebook import tqdm\n",
    "from stox.alpha_vantage import AlphaVantageStocks\n",
    "from stox.ibkr import load_symbol_table, save_symbol_table\n",
    "import omnifig as fig\n",
    "fig.initialize()"
   ]
  },
  {
   "cell_type": "code",
   "execution_count": 2,
   "outputs": [
    {
     "data": {
      "text/plain": "dict_keys(['Symbol', 'AssetType', 'Name', 'Description', 'CIK', 'Exchange', 'Currency', 'Country', 'Sector', 'Industry', 'Address', 'FiscalYearEnd', 'LatestQuarter', 'MarketCapitalization', 'EBITDA', 'PERatio', 'PEGRatio', 'BookValue', 'DividendPerShare', 'DividendYield', 'EPS', 'RevenuePerShareTTM', 'ProfitMargin', 'OperatingMarginTTM', 'ReturnOnAssetsTTM', 'ReturnOnEquityTTM', 'RevenueTTM', 'GrossProfitTTM', 'DilutedEPSTTM', 'QuarterlyEarningsGrowthYOY', 'QuarterlyRevenueGrowthYOY', 'AnalystTargetPrice', 'TrailingPE', 'ForwardPE', 'PriceToSalesRatioTTM', 'PriceToBookRatio', 'EVToRevenue', 'EVToEBITDA', 'Beta', '52WeekHigh', '52WeekLow', '50DayMovingAverage', '200DayMovingAverage', 'SharesOutstanding', 'DividendDate', 'ExDividendDate'])"
     },
     "execution_count": 2,
     "metadata": {},
     "output_type": "execute_result"
    }
   ],
   "source": [
    "av = AlphaVantageStocks()\n",
    "info = av.overview('BBVA')\n",
    "info.keys()"
   ],
   "metadata": {
    "collapsed": false,
    "ExecuteTime": {
     "end_time": "2023-09-11T23:45:09.699842700Z",
     "start_time": "2023-09-11T23:45:08.920549400Z"
    }
   },
   "id": "a953f3cf77ba3c2a"
  },
  {
   "cell_type": "code",
   "execution_count": 3,
   "outputs": [
    {
     "data": {
      "text/plain": "(454, 239)"
     },
     "execution_count": 3,
     "metadata": {},
     "output_type": "execute_result"
    }
   ],
   "source": [
    "symbols_table = load_symbol_table()\n",
    "eur = {yfsym: info for yfsym, info in symbols_table.items() if info['ibkr-contract']['currency'] == 'EUR'}\n",
    "len(symbols_table), len(eur)"
   ],
   "metadata": {
    "collapsed": false,
    "ExecuteTime": {
     "end_time": "2023-09-11T23:45:10.056107900Z",
     "start_time": "2023-09-11T23:45:09.700845800Z"
    }
   },
   "id": "738cc42407964442"
  },
  {
   "cell_type": "code",
   "execution_count": 4,
   "outputs": [
    {
     "data": {
      "text/plain": "(182, 182)"
     },
     "execution_count": 4,
     "metadata": {},
     "output_type": "execute_result"
    }
   ],
   "source": [
    "adr_srcs = {yfsym: info['adr'] for yfsym, info in symbols_table.items() if 'adr' in info}\n",
    "adrs = {yfsym: info['adr-src'] for yfsym, info in symbols_table.items() if 'adr-src' in info}\n",
    "assert all(adr_srcs[adrs[yfsym]] == yfsym for yfsym in adrs)\n",
    "len(adr_srcs), len(adrs)"
   ],
   "metadata": {
    "collapsed": false,
    "ExecuteTime": {
     "end_time": "2023-09-11T23:45:11.089728700Z",
     "start_time": "2023-09-11T23:45:11.065160500Z"
    }
   },
   "id": "3aa83c32cd7c3f58"
  },
  {
   "cell_type": "code",
   "execution_count": 5,
   "outputs": [
    {
     "data": {
      "text/plain": "31"
     },
     "execution_count": 5,
     "metadata": {},
     "output_type": "execute_result"
    }
   ],
   "source": [
    "nys = [adr for adr in adrs if symbols_table[adr]['ibkr-contract']['primaryExchange'] in {'NYSE', 'NASDAQ'}]\n",
    "len(nys)"
   ],
   "metadata": {
    "collapsed": false,
    "ExecuteTime": {
     "end_time": "2023-09-11T23:45:12.043207800Z",
     "start_time": "2023-09-11T23:45:12.013062100Z"
    }
   },
   "id": "e3180b4383cd45d3"
  },
  {
   "cell_type": "code",
   "execution_count": 6,
   "outputs": [
    {
     "name": "stdout",
     "output_type": "stream",
     "text": [
      "| av: None (by default)\n",
      "| root: None (by default)\n",
      "| keys: None (by default)\n",
      "| date: None (by default)\n"
     ]
    },
    {
     "data": {
      "text/plain": "<stox.alpha_vantage.Alpha_Vantage_Downloader at 0x1c97c081690>"
     },
     "execution_count": 6,
     "metadata": {},
     "output_type": "execute_result"
    }
   ],
   "source": [
    "dl = fig.create_config(_type='downloader/alpha-vantage',).pull(silent=True)\n",
    "dl"
   ],
   "metadata": {
    "collapsed": false,
    "ExecuteTime": {
     "end_time": "2023-09-11T23:45:12.702941600Z",
     "start_time": "2023-09-11T23:45:12.664862600Z"
    }
   },
   "id": "a0fd3d68826a96c8"
  },
  {
   "cell_type": "code",
   "execution_count": 9,
   "outputs": [
    {
     "data": {
      "text/plain": "  0%|          | 0/8 [00:00<?, ?it/s]",
      "application/vnd.jupyter.widget-view+json": {
       "version_major": 2,
       "version_minor": 0,
       "model_id": "3a2bea1a222d4a9eb823e288a3ce2c51"
      }
     },
     "metadata": {},
     "output_type": "display_data"
    },
    {
     "data": {
      "text/plain": "{'overview': WindowsPath('C:/Users/anwan/OneDrive/Khan/projects/stox/stoxdata/alpha_vantage_data/AAVMY/230909/overview.json'),\n 'income_statement': WindowsPath('C:/Users/anwan/OneDrive/Khan/projects/stox/stoxdata/alpha_vantage_data/AAVMY/230909/income_statement.json'),\n 'balance_sheet': WindowsPath('C:/Users/anwan/OneDrive/Khan/projects/stox/stoxdata/alpha_vantage_data/AAVMY/230909/balance_sheet.json'),\n 'cash_flow': WindowsPath('C:/Users/anwan/OneDrive/Khan/projects/stox/stoxdata/alpha_vantage_data/AAVMY/230909/cash_flow.json'),\n 'earnings': WindowsPath('C:/Users/anwan/OneDrive/Khan/projects/stox/stoxdata/alpha_vantage_data/AAVMY/230909/earnings.json'),\n 'earnings_calendar': WindowsPath('C:/Users/anwan/OneDrive/Khan/projects/stox/stoxdata/alpha_vantage_data/AAVMY/230909/earnings_calendar.json'),\n 'ipo_calendar': WindowsPath('C:/Users/anwan/OneDrive/Khan/projects/stox/stoxdata/alpha_vantage_data/AAVMY/230909/ipo_calendar.json'),\n 'listing_status': WindowsPath('C:/Users/anwan/OneDrive/Khan/projects/stox/stoxdata/alpha_vantage_data/AAVMY/230909/listing_status.json')}"
     },
     "execution_count": 9,
     "metadata": {},
     "output_type": "execute_result"
    }
   ],
   "source": [
    "dl.download_reports('AAVMY', date='230909', pbar=tqdm)"
   ],
   "metadata": {
    "collapsed": false,
    "ExecuteTime": {
     "end_time": "2023-09-11T23:52:36.270268600Z",
     "start_time": "2023-09-11T23:52:31.281343200Z"
    }
   },
   "id": "8b54aa8a7382a0c"
  },
  {
   "cell_type": "code",
   "execution_count": null,
   "outputs": [],
   "source": [],
   "metadata": {
    "collapsed": false,
    "ExecuteTime": {
     "start_time": "2023-09-10T13:42:54.796790700Z"
    }
   },
   "id": "c631fab370070f1d"
  },
  {
   "cell_type": "code",
   "execution_count": null,
   "outputs": [],
   "source": [],
   "metadata": {
    "collapsed": false
   },
   "id": "cc32819a4f9c02ce"
  }
 ],
 "metadata": {
  "kernelspec": {
   "display_name": "Python 3",
   "language": "python",
   "name": "python3"
  },
  "language_info": {
   "codemirror_mode": {
    "name": "ipython",
    "version": 2
   },
   "file_extension": ".py",
   "mimetype": "text/x-python",
   "name": "python",
   "nbconvert_exporter": "python",
   "pygments_lexer": "ipython2",
   "version": "2.7.6"
  }
 },
 "nbformat": 4,
 "nbformat_minor": 5
}
