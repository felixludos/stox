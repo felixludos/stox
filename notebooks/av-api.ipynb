{
 "cells": [
  {
   "cell_type": "code",
   "execution_count": 1,
   "id": "initial_id",
   "metadata": {
    "collapsed": true,
    "ExecuteTime": {
     "end_time": "2023-09-11T00:02:33.066949300Z",
     "start_time": "2023-09-11T00:02:32.700073300Z"
    }
   },
   "outputs": [],
   "source": [
    "from stox.alpha_vantage import AlphaVantageStocks"
   ]
  },
  {
   "cell_type": "code",
   "execution_count": 2,
   "outputs": [],
   "source": [
    "av = AlphaVantageStocks()"
   ],
   "metadata": {
    "collapsed": false,
    "ExecuteTime": {
     "end_time": "2023-09-11T00:02:33.084955500Z",
     "start_time": "2023-09-11T00:02:33.069949600Z"
    }
   },
   "id": "57017d540930ed33"
  },
  {
   "cell_type": "code",
   "execution_count": 7,
   "outputs": [],
   "source": [
    "info = av.overview('TTE')"
   ],
   "metadata": {
    "collapsed": false,
    "ExecuteTime": {
     "end_time": "2023-09-11T00:05:15.103296700Z",
     "start_time": "2023-09-11T00:05:14.527297600Z"
    }
   },
   "id": "f8439774c4c3819b"
  },
  {
   "cell_type": "code",
   "execution_count": null,
   "outputs": [],
   "source": [],
   "metadata": {
    "collapsed": false,
    "ExecuteTime": {
     "end_time": "2023-09-10T13:42:54.781263500Z",
     "start_time": "2023-09-10T13:42:54.779253200Z"
    }
   },
   "id": "a0fd3d68826a96c8"
  },
  {
   "cell_type": "code",
   "execution_count": null,
   "outputs": [],
   "source": [],
   "metadata": {
    "collapsed": false,
    "ExecuteTime": {
     "start_time": "2023-09-10T13:42:54.785789800Z"
    }
   },
   "id": "8b54aa8a7382a0c"
  },
  {
   "cell_type": "code",
   "execution_count": null,
   "outputs": [],
   "source": [],
   "metadata": {
    "collapsed": false,
    "ExecuteTime": {
     "start_time": "2023-09-10T13:42:54.796790700Z"
    }
   },
   "id": "c631fab370070f1d"
  },
  {
   "cell_type": "code",
   "execution_count": null,
   "outputs": [],
   "source": [],
   "metadata": {
    "collapsed": false
   },
   "id": "cc32819a4f9c02ce"
  }
 ],
 "metadata": {
  "kernelspec": {
   "display_name": "Python 3",
   "language": "python",
   "name": "python3"
  },
  "language_info": {
   "codemirror_mode": {
    "name": "ipython",
    "version": 2
   },
   "file_extension": ".py",
   "mimetype": "text/x-python",
   "name": "python",
   "nbconvert_exporter": "python",
   "pygments_lexer": "ipython2",
   "version": "2.7.6"
  }
 },
 "nbformat": 4,
 "nbformat_minor": 5
}
