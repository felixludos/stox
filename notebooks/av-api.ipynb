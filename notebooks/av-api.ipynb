{
 "cells": [
  {
   "cell_type": "code",
   "execution_count": 4,
   "id": "initial_id",
   "metadata": {
    "collapsed": true,
    "ExecuteTime": {
     "end_time": "2023-09-18T00:53:00.640784800Z",
     "start_time": "2023-09-18T00:53:00.638272100Z"
    }
   },
   "outputs": [],
   "source": [
    "import os\n",
    "import random\n",
    "from tqdm.notebook import tqdm\n",
    "from stox.alpha_vantage import AlphaVantageStocks\n",
    "from stox.ibkr import load_symbol_table, save_symbol_table\n",
    "import omnifig as fig\n",
    "fig.initialize()"
   ]
  },
  {
   "cell_type": "code",
   "execution_count": 5,
   "outputs": [
    {
     "name": "stdout",
     "output_type": "stream",
     "text": [
      "container:\n",
      "  _type: context\n",
      "  gadgets:\n",
      "    common: {_type: common-stats}\n",
      "    yahoo:\n",
      "      _type: scope\n",
      "      gadgets:\n",
      "        info: {_type: yahoo-info}\n",
      "        loader: {_type: yahoo-loader}\n",
      "        portfolio-loader: <>portfolio\n",
      "features: {business_summary: Company Description, change_52w: 52 Week Change, company_name: Company\n",
      "    Name, country: Country, forward_eps: Forward EPS, forward_pe: Forward P/E, held_percent_insiders: Percent\n",
      "    of Shares Held by Insiders, held_percent_institutions: Percent of Shares Held\n",
      "    by Institutions, industry: Industry, log_market_cap: Log Market Cap, overall_risk: Overall\n",
      "    Risk (1-10), peg_ratio: PEG Ratio, perf52w: '52 Week Relative Price (1=52 week\n",
      "    high, 0=52 week low)', price: Price, recommendation_key: Recommendation Key, recommendation_mean: 'Recommendation\n",
      "    Mean (1=Strong Buy, 5=Strong Sell)', sector: Sector, shares: Current Shares, target_high_price: Target\n",
      "    High Price, target_low_price: Target Low Price, target_mean_price: Target Mean\n",
      "    Price, target_median_price: Target Median Price, ticker: Ticker, trailing_eps: Trailing\n",
      "    EPS, trailing_pe: Trailing P/E, volume_10d: 10 Day Average Volume, yield: Dividend\n",
      "    Yield}\n",
      "portfolio: {_type: portfolio-loader, name: <>portfolio-name}\n",
      "portfolio_name: fe-aug23.txt\n"
     ]
    }
   ],
   "source": [
    "cfg = fig.create_config('container', 'euro', portfolio_name='fe-aug23.txt')\n",
    "# cfg = fig.create_config('container', 'euro')\n",
    "print(cfg)"
   ],
   "metadata": {
    "collapsed": false,
    "ExecuteTime": {
     "end_time": "2023-09-18T00:53:01.419995600Z",
     "start_time": "2023-09-18T00:53:01.387586600Z"
    }
   },
   "id": "2a3326faddc54ec5"
  },
  {
   "cell_type": "code",
   "execution_count": 6,
   "outputs": [
    {
     "name": "stdout",
     "output_type": "stream",
     "text": [
      "| CREATING container type='context'\n"
     ]
    },
    {
     "ename": "KeyboardInterrupt",
     "evalue": "",
     "output_type": "error",
     "traceback": [
      "\u001B[1;31m---------------------------------------------------------------------------\u001B[0m",
      "\u001B[1;31mKeyboardInterrupt\u001B[0m                         Traceback (most recent call last)",
      "Cell \u001B[1;32mIn[6], line 1\u001B[0m\n\u001B[1;32m----> 1\u001B[0m ctx \u001B[38;5;241m=\u001B[39m \u001B[43mcfg\u001B[49m\u001B[38;5;241;43m.\u001B[39;49m\u001B[43mpeek_create\u001B[49m\u001B[43m(\u001B[49m\u001B[38;5;124;43m'\u001B[39;49m\u001B[38;5;124;43mcontainer\u001B[39;49m\u001B[38;5;124;43m'\u001B[39;49m\u001B[43m)\u001B[49m\n\u001B[0;32m      2\u001B[0m ctx\n",
      "File \u001B[1;32m~\\OneDrive\\Khan\\research\\omni-fig\\omnifig\\config\\nodes.py:1280\u001B[0m, in \u001B[0;36mConfigNode.peek_create\u001B[1;34m(self, query, default, *args, **kwargs)\u001B[0m\n\u001B[0;32m   1278\u001B[0m \t\u001B[38;5;28;01mreturn\u001B[39;00m default\n\u001B[0;32m   1279\u001B[0m \u001B[38;5;28;01melse\u001B[39;00m:\n\u001B[1;32m-> 1280\u001B[0m \tout \u001B[38;5;241m=\u001B[39m \u001B[43mnode\u001B[49m\u001B[38;5;241;43m.\u001B[39;49m\u001B[43mcreate\u001B[49m\u001B[43m(\u001B[49m\u001B[38;5;241;43m*\u001B[39;49m\u001B[43margs\u001B[49m\u001B[43m,\u001B[49m\u001B[43m \u001B[49m\u001B[38;5;241;43m*\u001B[39;49m\u001B[38;5;241;43m*\u001B[39;49m\u001B[43mkwargs\u001B[49m\u001B[43m)\u001B[49m\n\u001B[0;32m   1281\u001B[0m \t\u001B[38;5;28;01mreturn\u001B[39;00m out\n",
      "File \u001B[1;32m~\\OneDrive\\Khan\\research\\omni-fig\\omnifig\\config\\nodes.py:1596\u001B[0m, in \u001B[0;36mConfigNode.create\u001B[1;34m(self, *args, **kwargs)\u001B[0m\n\u001B[0;32m   1584\u001B[0m \u001B[38;5;28;01mdef\u001B[39;00m \u001B[38;5;21mcreate\u001B[39m(\u001B[38;5;28mself\u001B[39m, \u001B[38;5;241m*\u001B[39margs: Any, \u001B[38;5;241m*\u001B[39m\u001B[38;5;241m*\u001B[39mkwargs: Any) \u001B[38;5;241m-\u001B[39m\u001B[38;5;241m>\u001B[39m Any:\n\u001B[0;32m   1585\u001B[0m \u001B[38;5;250m\t\u001B[39m\u001B[38;5;124;03m'''\u001B[39;00m\n\u001B[0;32m   1586\u001B[0m \u001B[38;5;124;03m\tCreates a new value based on the contents of self.\u001B[39;00m\n\u001B[0;32m   1587\u001B[0m \n\u001B[1;32m   (...)\u001B[0m\n\u001B[0;32m   1594\u001B[0m \n\u001B[0;32m   1595\u001B[0m \u001B[38;5;124;03m\t'''\u001B[39;00m\n\u001B[1;32m-> 1596\u001B[0m \t\u001B[38;5;28;01mreturn\u001B[39;00m \u001B[38;5;28;43mself\u001B[39;49m\u001B[38;5;241;43m.\u001B[39;49m\u001B[43m_create\u001B[49m\u001B[43m(\u001B[49m\u001B[43margs\u001B[49m\u001B[43m,\u001B[49m\u001B[43m \u001B[49m\u001B[43mkwargs\u001B[49m\u001B[43m,\u001B[49m\u001B[43m \u001B[49m\u001B[43msilent\u001B[49m\u001B[38;5;241;43m=\u001B[39;49m\u001B[38;5;28;43mself\u001B[39;49m\u001B[38;5;241;43m.\u001B[39;49m\u001B[43msettings\u001B[49m\u001B[38;5;241;43m.\u001B[39;49m\u001B[43mget\u001B[49m\u001B[43m(\u001B[49m\u001B[38;5;124;43m'\u001B[39;49m\u001B[38;5;124;43msilent\u001B[39;49m\u001B[38;5;124;43m'\u001B[39;49m\u001B[43m,\u001B[49m\u001B[43m \u001B[49m\u001B[38;5;28;43;01mNone\u001B[39;49;00m\u001B[43m)\u001B[49m\u001B[43m)\u001B[49m\n",
      "File \u001B[1;32m~\\OneDrive\\Khan\\research\\omni-fig\\omnifig\\config\\nodes.py:1552\u001B[0m, in \u001B[0;36mConfigNode._create\u001B[1;34m(self, component_args, component_kwargs, silent, creator, **kwargs)\u001B[0m\n\u001B[0;32m   1549\u001B[0m \tcreator \u001B[38;5;241m=\u001B[39m \u001B[38;5;28mself\u001B[39m\u001B[38;5;241m.\u001B[39msettings\u001B[38;5;241m.\u001B[39mget(\u001B[38;5;124m'\u001B[39m\u001B[38;5;124mcreator\u001B[39m\u001B[38;5;124m'\u001B[39m)\n\u001B[0;32m   1550\u001B[0m creator \u001B[38;5;241m=\u001B[39m \u001B[38;5;28mself\u001B[39m\u001B[38;5;241m.\u001B[39mDefaultCreator \u001B[38;5;28;01mif\u001B[39;00m creator \u001B[38;5;129;01mis\u001B[39;00m \u001B[38;5;28;01mNone\u001B[39;00m \u001B[38;5;28;01melse\u001B[39;00m \u001B[38;5;28mself\u001B[39m\u001B[38;5;241m.\u001B[39mproject\u001B[38;5;241m.\u001B[39mfind_artifact(\u001B[38;5;124m'\u001B[39m\u001B[38;5;124mcreator\u001B[39m\u001B[38;5;124m'\u001B[39m, creator)\u001B[38;5;241m.\u001B[39mcls\n\u001B[0;32m   1551\u001B[0m out \u001B[38;5;241m=\u001B[39m \u001B[43mcreator\u001B[49m\u001B[43m(\u001B[49m\u001B[38;5;28;43mself\u001B[39;49m\u001B[43m,\u001B[49m\u001B[43m \u001B[49m\u001B[43msilent\u001B[49m\u001B[38;5;241;43m=\u001B[39;49m\u001B[43msilent\u001B[49m\u001B[43m,\u001B[49m\u001B[43m \u001B[49m\u001B[43mproject\u001B[49m\u001B[38;5;241;43m=\u001B[39;49m\u001B[38;5;28;43mself\u001B[39;49m\u001B[38;5;241;43m.\u001B[39;49m\u001B[43mproject\u001B[49m\u001B[43m,\u001B[49m\u001B[43m  \u001B[49m\u001B[38;5;241;43m*\u001B[39;49m\u001B[38;5;241;43m*\u001B[39;49m\u001B[43mkwargs\u001B[49m\u001B[43m)\u001B[49m\u001B[43m\\\u001B[49m\n\u001B[1;32m-> 1552\u001B[0m \u001B[43m\t\u001B[49m\u001B[38;5;241;43m.\u001B[39;49m\u001B[43mcreate_product\u001B[49m\u001B[43m(\u001B[49m\u001B[38;5;28;43mself\u001B[39;49m\u001B[43m,\u001B[49m\u001B[43m \u001B[49m\u001B[43margs\u001B[49m\u001B[38;5;241;43m=\u001B[39;49m\u001B[43mcomponent_args\u001B[49m\u001B[43m,\u001B[49m\u001B[43m \u001B[49m\u001B[43mkwargs\u001B[49m\u001B[38;5;241;43m=\u001B[39;49m\u001B[43mcomponent_kwargs\u001B[49m\u001B[43m,\u001B[49m\u001B[43m \u001B[49m\u001B[43msilent\u001B[49m\u001B[38;5;241;43m=\u001B[39;49m\u001B[43msilent\u001B[49m\u001B[43m)\u001B[49m\n\u001B[0;32m   1553\u001B[0m \u001B[38;5;28;01mreturn\u001B[39;00m out\n",
      "File \u001B[1;32m~\\OneDrive\\Khan\\research\\omni-fig\\omnifig\\config\\nodes.py:1001\u001B[0m, in \u001B[0;36mConfigNode.DefaultCreator.create_product\u001B[1;34m(self, config, args, kwargs, silent)\u001B[0m\n\u001B[0;32m    999\u001B[0m \t\tvalue \u001B[38;5;241m=\u001B[39m \u001B[38;5;28mself\u001B[39m\u001B[38;5;241m.\u001B[39m_create_container(config, silent\u001B[38;5;241m=\u001B[39msilent)\n\u001B[0;32m   1000\u001B[0m \u001B[38;5;28;01melse\u001B[39;00m:\n\u001B[1;32m-> 1001\u001B[0m \tvalue \u001B[38;5;241m=\u001B[39m \u001B[38;5;28;43mself\u001B[39;49m\u001B[38;5;241;43m.\u001B[39;49m\u001B[43m_create_component\u001B[49m\u001B[43m(\u001B[49m\u001B[43mconfig\u001B[49m\u001B[43m,\u001B[49m\u001B[43m \u001B[49m\u001B[43margs\u001B[49m\u001B[38;5;241;43m=\u001B[39;49m\u001B[43margs\u001B[49m\u001B[43m,\u001B[49m\u001B[43m \u001B[49m\u001B[43mkwargs\u001B[49m\u001B[38;5;241;43m=\u001B[39;49m\u001B[43mkwargs\u001B[49m\u001B[43m,\u001B[49m\u001B[43m \u001B[49m\u001B[43msilent\u001B[49m\u001B[38;5;241;43m=\u001B[39;49m\u001B[43msilent\u001B[49m\u001B[43m)\u001B[49m\n\u001B[0;32m   1003\u001B[0m \u001B[38;5;28mself\u001B[39m\u001B[38;5;241m.\u001B[39m_end_context(config, value)\n\u001B[0;32m   1004\u001B[0m \u001B[38;5;28;01mreturn\u001B[39;00m value\n",
      "File \u001B[1;32m~\\OneDrive\\Khan\\research\\omni-fig\\omnifig\\config\\nodes.py:849\u001B[0m, in \u001B[0;36mConfigNode.DefaultCreator._create_component\u001B[1;34m(self, config, args, kwargs, silent)\u001B[0m\n\u001B[0;32m    845\u001B[0m \u001B[38;5;28mcls\u001B[39m \u001B[38;5;241m=\u001B[39m \u001B[38;5;28mself\u001B[39m\u001B[38;5;241m.\u001B[39m_modify_component(\u001B[38;5;28mself\u001B[39m\u001B[38;5;241m.\u001B[39mcomponent_entry,\n\u001B[0;32m    846\u001B[0m                              [\u001B[38;5;28mself\u001B[39m\u001B[38;5;241m.\u001B[39mproject\u001B[38;5;241m.\u001B[39mfind_artifact(\u001B[38;5;124m'\u001B[39m\u001B[38;5;124mmodifier\u001B[39m\u001B[38;5;124m'\u001B[39m, mod) \u001B[38;5;28;01mfor\u001B[39;00m mod \u001B[38;5;129;01min\u001B[39;00m \u001B[38;5;28mself\u001B[39m\u001B[38;5;241m.\u001B[39mmodifiers])\n\u001B[0;32m    848\u001B[0m \u001B[38;5;28;01mif\u001B[39;00m \u001B[38;5;28misinstance\u001B[39m(\u001B[38;5;28mcls\u001B[39m, \u001B[38;5;28mtype\u001B[39m) \u001B[38;5;129;01mand\u001B[39;00m \u001B[38;5;28missubclass\u001B[39m(\u001B[38;5;28mcls\u001B[39m, AbstractConfigurable):\n\u001B[1;32m--> 849\u001B[0m \tobj \u001B[38;5;241m=\u001B[39m \u001B[38;5;28;43mcls\u001B[39;49m\u001B[38;5;241;43m.\u001B[39;49m\u001B[43minit_from_config\u001B[49m\u001B[43m(\u001B[49m\u001B[43mconfig\u001B[49m\u001B[43m,\u001B[49m\u001B[43m \u001B[49m\u001B[43margs\u001B[49m\u001B[43m,\u001B[49m\u001B[43m \u001B[49m\u001B[43mkwargs\u001B[49m\u001B[43m,\u001B[49m\u001B[43m \u001B[49m\u001B[43msilent\u001B[49m\u001B[38;5;241;43m=\u001B[39;49m\u001B[43msilent\u001B[49m\u001B[43m)\u001B[49m\n\u001B[0;32m    850\u001B[0m \u001B[38;5;28;01melse\u001B[39;00m:\n\u001B[0;32m    851\u001B[0m \tsettings \u001B[38;5;241m=\u001B[39m config\u001B[38;5;241m.\u001B[39msettings\n",
      "File \u001B[1;32m~\\OneDrive\\Khan\\research\\omni-fig\\omnifig\\configurable.py:186\u001B[0m, in \u001B[0;36mConfigurable.init_from_config\u001B[1;34m(cls, config, args, kwargs, silent)\u001B[0m\n\u001B[0;32m    184\u001B[0m \u001B[38;5;28;01mif\u001B[39;00m kwargs \u001B[38;5;129;01mis\u001B[39;00m \u001B[38;5;28;01mNone\u001B[39;00m:\n\u001B[0;32m    185\u001B[0m \tkwargs \u001B[38;5;241m=\u001B[39m {}\n\u001B[1;32m--> 186\u001B[0m \u001B[38;5;28;01mreturn\u001B[39;00m \u001B[38;5;28;43mcls\u001B[39;49m\u001B[38;5;241;43m.\u001B[39;49m\u001B[43m_config_builder\u001B[49m\u001B[43m(\u001B[49m\u001B[43mconfig\u001B[49m\u001B[43m,\u001B[49m\u001B[43m \u001B[49m\u001B[43msilent\u001B[49m\u001B[38;5;241;43m=\u001B[39;49m\u001B[43msilent\u001B[49m\u001B[43m)\u001B[49m\u001B[38;5;241;43m.\u001B[39;49m\u001B[43mbuild\u001B[49m\u001B[43m(\u001B[49m\u001B[38;5;241;43m*\u001B[39;49m\u001B[43margs\u001B[49m\u001B[43m,\u001B[49m\u001B[43m \u001B[49m\u001B[38;5;241;43m*\u001B[39;49m\u001B[38;5;241;43m*\u001B[39;49m\u001B[43mkwargs\u001B[49m\u001B[43m)\u001B[49m\n",
      "File \u001B[1;32m~\\OneDrive\\Khan\\research\\omni-fig\\omnifig\\configurable.py:150\u001B[0m, in \u001B[0;36mConfigurable._config_builder_type.build\u001B[1;34m(self, *args, **kwargs)\u001B[0m\n\u001B[0;32m    146\u001B[0m init_capture \u001B[38;5;241m=\u001B[39m dynamic_capture(\u001B[38;5;28mself\u001B[39m\u001B[38;5;241m.\u001B[39mconfigurable_parents(\u001B[38;5;28mself\u001B[39m\u001B[38;5;241m.\u001B[39mproduct), \u001B[38;5;28mself\u001B[39m\u001B[38;5;241m.\u001B[39mfixer, \u001B[38;5;124m'\u001B[39m\u001B[38;5;124m__init__\u001B[39m\u001B[38;5;124m'\u001B[39m)\u001B[38;5;241m.\u001B[39mactivate()\n\u001B[0;32m    148\u001B[0m \u001B[38;5;28mself\u001B[39m\u001B[38;5;241m.\u001B[39mproduct\u001B[38;5;241m.\u001B[39m_my_config \u001B[38;5;241m=\u001B[39m \u001B[38;5;28mself\u001B[39m\u001B[38;5;241m.\u001B[39mconfig\n\u001B[1;32m--> 150\u001B[0m obj \u001B[38;5;241m=\u001B[39m \u001B[38;5;28;43mself\u001B[39;49m\u001B[38;5;241;43m.\u001B[39;49m\u001B[43mproduct\u001B[49m\u001B[43m(\u001B[49m\u001B[38;5;241;43m*\u001B[39;49m\u001B[43margs\u001B[49m\u001B[43m,\u001B[49m\u001B[43m \u001B[49m\u001B[38;5;241;43m*\u001B[39;49m\u001B[38;5;241;43m*\u001B[39;49m\u001B[43mkwargs\u001B[49m\u001B[43m)\u001B[49m\n\u001B[0;32m    152\u001B[0m \u001B[38;5;28;01mdel\u001B[39;00m \u001B[38;5;28mself\u001B[39m\u001B[38;5;241m.\u001B[39mproduct\u001B[38;5;241m.\u001B[39m_my_config\n\u001B[0;32m    153\u001B[0m obj\u001B[38;5;241m.\u001B[39m_my_config \u001B[38;5;241m=\u001B[39m \u001B[38;5;28mself\u001B[39m\u001B[38;5;241m.\u001B[39mconfig\n",
      "File \u001B[1;32m~\\OneDrive\\Khan\\research\\belt\\omnibelt\\tricks.py:472\u001B[0m, in \u001B[0;36mdynamic_capture.capture_context.__call__\u001B[1;34m(self, *args, **kwargs)\u001B[0m\n\u001B[0;32m    470\u001B[0m \u001B[38;5;28;01mdef\u001B[39;00m \u001B[38;5;21m__call__\u001B[39m(\u001B[38;5;28mself\u001B[39m, \u001B[38;5;241m*\u001B[39margs, \u001B[38;5;241m*\u001B[39m\u001B[38;5;241m*\u001B[39mkwargs):\n\u001B[0;32m    471\u001B[0m \t\u001B[38;5;66;03m# assert self.instance is not None, 'cannot call a captured method without an instance'\u001B[39;00m\n\u001B[1;32m--> 472\u001B[0m \t\u001B[38;5;28;01mreturn\u001B[39;00m \u001B[38;5;28;43mself\u001B[39;49m\u001B[38;5;241;43m.\u001B[39;49m\u001B[43mfn\u001B[49m\u001B[43m(\u001B[49m\u001B[38;5;28;43mself\u001B[39;49m\u001B[38;5;241;43m.\u001B[39;49m\u001B[43mowner\u001B[49m\u001B[43m,\u001B[49m\u001B[43m \u001B[49m\u001B[38;5;28;43mself\u001B[39;49m\u001B[38;5;241;43m.\u001B[39;49m\u001B[43mmethod_fn\u001B[49m\u001B[43m,\u001B[49m\u001B[43m \u001B[49m\u001B[38;5;28;43mself\u001B[39;49m\u001B[38;5;241;43m.\u001B[39;49m\u001B[43minstance\u001B[49m\u001B[43m,\u001B[49m\u001B[43m \u001B[49m\u001B[43margs\u001B[49m\u001B[43m,\u001B[49m\u001B[43m \u001B[49m\u001B[43mkwargs\u001B[49m\u001B[43m)\u001B[49m\n",
      "File \u001B[1;32m~\\OneDrive\\Khan\\research\\omni-fig\\omnifig\\configurable.py:140\u001B[0m, in \u001B[0;36mConfigurable._config_builder_type.fixer\u001B[1;34m(self, owner, method, obj, args, kwargs)\u001B[0m\n\u001B[0;32m    137\u001B[0m \u001B[38;5;28mself\u001B[39m\u001B[38;5;241m.\u001B[39maliases \u001B[38;5;241m=\u001B[39m \u001B[38;5;28mgetattr\u001B[39m(method, \u001B[38;5;124m'\u001B[39m\u001B[38;5;124m_my_config_aliases\u001B[39m\u001B[38;5;124m'\u001B[39m, {})\n\u001B[0;32m    138\u001B[0m \u001B[38;5;28mself\u001B[39m\u001B[38;5;241m.\u001B[39msilences \u001B[38;5;241m=\u001B[39m \u001B[38;5;28mgetattr\u001B[39m(method, \u001B[38;5;124m'\u001B[39m\u001B[38;5;124m_my_silent_config\u001B[39m\u001B[38;5;124m'\u001B[39m, \u001B[38;5;28;01mNone\u001B[39;00m)\n\u001B[1;32m--> 140\u001B[0m fixed_args, fixed_kwargs \u001B[38;5;241m=\u001B[39m \u001B[38;5;28;43mself\u001B[39;49m\u001B[38;5;241m.\u001B[39mfix_args(method, obj, args, kwargs)\n\u001B[0;32m    141\u001B[0m \u001B[38;5;28;01mreturn\u001B[39;00m method(\u001B[38;5;241m*\u001B[39mfixed_args, \u001B[38;5;241m*\u001B[39m\u001B[38;5;241m*\u001B[39mfixed_kwargs)\n",
      "File \u001B[1;32m_pydevd_bundle\\pydevd_cython_win32_311_64.pyx:1179\u001B[0m, in \u001B[0;36m_pydevd_bundle.pydevd_cython_win32_311_64.SafeCallWrapper.__call__\u001B[1;34m()\u001B[0m\n",
      "File \u001B[1;32m_pydevd_bundle\\pydevd_cython_win32_311_64.pyx:620\u001B[0m, in \u001B[0;36m_pydevd_bundle.pydevd_cython_win32_311_64.PyDBFrame.trace_dispatch\u001B[1;34m()\u001B[0m\n",
      "File \u001B[1;32m_pydevd_bundle\\pydevd_cython_win32_311_64.pyx:929\u001B[0m, in \u001B[0;36m_pydevd_bundle.pydevd_cython_win32_311_64.PyDBFrame.trace_dispatch\u001B[1;34m()\u001B[0m\n",
      "File \u001B[1;32m_pydevd_bundle\\pydevd_cython_win32_311_64.pyx:920\u001B[0m, in \u001B[0;36m_pydevd_bundle.pydevd_cython_win32_311_64.PyDBFrame.trace_dispatch\u001B[1;34m()\u001B[0m\n",
      "File \u001B[1;32m_pydevd_bundle\\pydevd_cython_win32_311_64.pyx:317\u001B[0m, in \u001B[0;36m_pydevd_bundle.pydevd_cython_win32_311_64.PyDBFrame.do_wait_suspend\u001B[1;34m()\u001B[0m\n",
      "File \u001B[1;32mC:\\Program Files\\JetBrains\\PyCharm 2022.2.3\\plugins\\python\\helpers\\pydev\\pydevd.py:1160\u001B[0m, in \u001B[0;36mPyDB.do_wait_suspend\u001B[1;34m(self, thread, frame, event, arg, send_suspend_message, is_unhandled_exception)\u001B[0m\n\u001B[0;32m   1157\u001B[0m         from_this_thread\u001B[38;5;241m.\u001B[39mappend(frame_id)\n\u001B[0;32m   1159\u001B[0m \u001B[38;5;28;01mwith\u001B[39;00m \u001B[38;5;28mself\u001B[39m\u001B[38;5;241m.\u001B[39m_threads_suspended_single_notification\u001B[38;5;241m.\u001B[39mnotify_thread_suspended(thread_id, stop_reason):\n\u001B[1;32m-> 1160\u001B[0m     \u001B[38;5;28;43mself\u001B[39;49m\u001B[38;5;241;43m.\u001B[39;49m\u001B[43m_do_wait_suspend\u001B[49m\u001B[43m(\u001B[49m\u001B[43mthread\u001B[49m\u001B[43m,\u001B[49m\u001B[43m \u001B[49m\u001B[43mframe\u001B[49m\u001B[43m,\u001B[49m\u001B[43m \u001B[49m\u001B[43mevent\u001B[49m\u001B[43m,\u001B[49m\u001B[43m \u001B[49m\u001B[43marg\u001B[49m\u001B[43m,\u001B[49m\u001B[43m \u001B[49m\u001B[43msuspend_type\u001B[49m\u001B[43m,\u001B[49m\u001B[43m \u001B[49m\u001B[43mfrom_this_thread\u001B[49m\u001B[43m)\u001B[49m\n",
      "File \u001B[1;32mC:\\Program Files\\JetBrains\\PyCharm 2022.2.3\\plugins\\python\\helpers\\pydev\\pydevd.py:1175\u001B[0m, in \u001B[0;36mPyDB._do_wait_suspend\u001B[1;34m(self, thread, frame, event, arg, suspend_type, from_this_thread)\u001B[0m\n\u001B[0;32m   1172\u001B[0m             \u001B[38;5;28mself\u001B[39m\u001B[38;5;241m.\u001B[39m_call_mpl_hook()\n\u001B[0;32m   1174\u001B[0m         \u001B[38;5;28mself\u001B[39m\u001B[38;5;241m.\u001B[39mprocess_internal_commands()\n\u001B[1;32m-> 1175\u001B[0m         \u001B[43mtime\u001B[49m\u001B[38;5;241;43m.\u001B[39;49m\u001B[43msleep\u001B[49m\u001B[43m(\u001B[49m\u001B[38;5;241;43m0.01\u001B[39;49m\u001B[43m)\u001B[49m\n\u001B[0;32m   1177\u001B[0m \u001B[38;5;28mself\u001B[39m\u001B[38;5;241m.\u001B[39mcancel_async_evaluation(get_current_thread_id(thread), \u001B[38;5;28mstr\u001B[39m(\u001B[38;5;28mid\u001B[39m(frame)))\n\u001B[0;32m   1179\u001B[0m \u001B[38;5;66;03m# process any stepping instructions\u001B[39;00m\n",
      "\u001B[1;31mKeyboardInterrupt\u001B[0m: "
     ]
    }
   ],
   "source": [
    "ctx = cfg.peek_create('container')\n",
    "ctx"
   ],
   "metadata": {
    "collapsed": false,
    "ExecuteTime": {
     "end_time": "2023-09-18T00:54:37.713413Z",
     "start_time": "2023-09-18T00:53:05.564350200Z"
    }
   },
   "id": "ad593673621f1050"
  },
  {
   "cell_type": "code",
   "execution_count": 2,
   "outputs": [],
   "source": [
    "# av = AlphaVantageStocks()\n",
    "# info = av.overview('BBVA')\n",
    "# info.keys()"
   ],
   "metadata": {
    "collapsed": false,
    "ExecuteTime": {
     "end_time": "2023-09-17T23:18:37.832672700Z",
     "start_time": "2023-09-17T23:18:37.826020Z"
    }
   },
   "id": "a953f3cf77ba3c2a"
  },
  {
   "cell_type": "code",
   "execution_count": 2,
   "outputs": [],
   "source": [],
   "metadata": {
    "collapsed": false,
    "ExecuteTime": {
     "end_time": "2023-09-17T23:18:37.832672700Z",
     "start_time": "2023-09-17T23:18:37.829622800Z"
    }
   },
   "id": "be1f7436f0b71ee"
  },
  {
   "cell_type": "code",
   "execution_count": null,
   "outputs": [],
   "source": [],
   "metadata": {
    "collapsed": false
   },
   "id": "69214c3259032926"
  },
  {
   "cell_type": "code",
   "execution_count": 3,
   "outputs": [
    {
     "data": {
      "text/plain": "(454, 239)"
     },
     "execution_count": 3,
     "metadata": {},
     "output_type": "execute_result"
    }
   ],
   "source": [
    "symbols_table = load_symbol_table()\n",
    "eur = {yfsym: info for yfsym, info in symbols_table.items() if info['ibkr-contract']['currency'] == 'EUR'}\n",
    "len(symbols_table), len(eur)"
   ],
   "metadata": {
    "collapsed": false,
    "ExecuteTime": {
     "end_time": "2023-09-17T20:58:33.300256Z",
     "start_time": "2023-09-17T20:58:33.082592100Z"
    }
   },
   "id": "738cc42407964442"
  },
  {
   "cell_type": "code",
   "execution_count": 4,
   "outputs": [
    {
     "data": {
      "text/plain": "(182, 182)"
     },
     "execution_count": 4,
     "metadata": {},
     "output_type": "execute_result"
    }
   ],
   "source": [
    "adr_srcs = {yfsym: info['adr'] for yfsym, info in symbols_table.items() if 'adr' in info}\n",
    "adrs = {yfsym: info['adr-src'] for yfsym, info in symbols_table.items() if 'adr-src' in info}\n",
    "assert all(adr_srcs[adrs[yfsym]] == yfsym for yfsym in adrs)\n",
    "len(adr_srcs), len(adrs)"
   ],
   "metadata": {
    "collapsed": false,
    "ExecuteTime": {
     "end_time": "2023-09-17T20:58:33.846386100Z",
     "start_time": "2023-09-17T20:58:33.837774300Z"
    }
   },
   "id": "3aa83c32cd7c3f58"
  },
  {
   "cell_type": "code",
   "execution_count": 5,
   "outputs": [
    {
     "data": {
      "text/plain": "31"
     },
     "execution_count": 5,
     "metadata": {},
     "output_type": "execute_result"
    }
   ],
   "source": [
    "nys = [adr for adr in adrs if symbols_table[adr]['ibkr-contract']['primaryExchange'] in {'NYSE', 'NASDAQ'}]\n",
    "len(nys)"
   ],
   "metadata": {
    "collapsed": false,
    "ExecuteTime": {
     "end_time": "2023-09-17T20:58:34.561385700Z",
     "start_time": "2023-09-17T20:58:34.541327300Z"
    }
   },
   "id": "e3180b4383cd45d3"
  },
  {
   "cell_type": "code",
   "execution_count": 7,
   "outputs": [],
   "source": [
    "# dl = fig.create_config(_type='downloader/alpha-vantage',).create_silent()\n",
    "# dl"
   ],
   "metadata": {
    "collapsed": false,
    "ExecuteTime": {
     "end_time": "2023-09-17T19:31:25.285332400Z",
     "start_time": "2023-09-17T19:31:25.261212900Z"
    }
   },
   "id": "a0fd3d68826a96c8"
  },
  {
   "cell_type": "code",
   "execution_count": 8,
   "outputs": [],
   "source": [
    "# dl.download_reports('BBVA', date='230909', pbar=tqdm)"
   ],
   "metadata": {
    "collapsed": false,
    "ExecuteTime": {
     "end_time": "2023-09-17T19:31:25.740037700Z",
     "start_time": "2023-09-17T19:31:25.738519300Z"
    }
   },
   "id": "96f1e2dfbf1dd41d"
  },
  {
   "cell_type": "code",
   "execution_count": 6,
   "outputs": [],
   "source": [
    "date = '230909'\n",
    "_av_container_source = fig.create_config(**{'_type': 'context', 'gadgets':  {'loader._type': 'loader/alpha-vantage', 'stats._type': 'stats/alpha-vantage'}})\n",
    "def create_av_container(yfsym):\n",
    "\twith _av_container_source.silence():\n",
    "\t\tctx = _av_container_source.create()\n",
    "\tctx['ticker'] = yfsym\n",
    "\tctx['date'] = date\n",
    "\treturn ctx\n",
    "_yf_container_source = fig.create_config(**{'_type': 'context', 'gadgets': {'loader._type': 'yahoo-loader', 'info._type': 'yahoo-info'}})\n",
    "def create_yf_container(yfsym):\n",
    "\twith _yf_container_source.silence():\n",
    "\t\tctx = _yf_container_source.create()\n",
    "\tctx['ticker'] = yfsym\n",
    "\tctx['date'] = date\n",
    "\treturn ctx"
   ],
   "metadata": {
    "collapsed": false,
    "ExecuteTime": {
     "end_time": "2023-09-17T20:58:37.119360400Z",
     "start_time": "2023-09-17T20:58:37.093966800Z"
    }
   },
   "id": "a96cea933330d8be"
  },
  {
   "cell_type": "code",
   "execution_count": 7,
   "outputs": [
    {
     "data": {
      "text/plain": "31"
     },
     "execution_count": 7,
     "metadata": {},
     "output_type": "execute_result"
    }
   ],
   "source": [
    "apop = {yfsym: create_av_container(yfsym) for yfsym in nys}\n",
    "len(apop)"
   ],
   "metadata": {
    "collapsed": false,
    "ExecuteTime": {
     "end_time": "2023-09-17T20:58:38.298786400Z",
     "start_time": "2023-09-17T20:58:38.282293100Z"
    }
   },
   "id": "84df79908b3d8b4f"
  },
  {
   "cell_type": "code",
   "execution_count": 8,
   "outputs": [
    {
     "data": {
      "text/plain": "Context(ticker, date, {overview}, {income_statement}, {balance_sheet}, {cash_flow}, {earnings}, {earnings_calendar}, {ipo_calendar}, {listing_status}, {sector}, {industry}, {market_cap}, {peg_ratio}, {pe_ratio}, {dividend_yield}, {eps}, {beta}, {profit_margin}, {target_price}, {trailing_pe}, {forward_pe}, {high_52w}, {low_52w}, {av_50d}, {av_200d}, {ebitda}, {description}, {name})"
     },
     "execution_count": 8,
     "metadata": {},
     "output_type": "execute_result"
    }
   ],
   "source": [
    "# ctx = pop[0]\n",
    "# ctx = random.choice(pop)\n",
    "ctx = apop['BBVA']\n",
    "ctx"
   ],
   "metadata": {
    "collapsed": false,
    "ExecuteTime": {
     "end_time": "2023-09-17T20:58:39.580872200Z",
     "start_time": "2023-09-17T20:58:39.576339Z"
    }
   },
   "id": "e1b471df386eda61"
  },
  {
   "cell_type": "code",
   "execution_count": 10,
   "outputs": [
    {
     "data": {
      "text/plain": "31"
     },
     "execution_count": 10,
     "metadata": {},
     "output_type": "execute_result"
    }
   ],
   "source": [
    "spop = {adr: create_yf_container(adrs[adr]) for adr in nys}\n",
    "len(spop)"
   ],
   "metadata": {
    "collapsed": false,
    "ExecuteTime": {
     "end_time": "2023-09-17T20:58:46.539328500Z",
     "start_time": "2023-09-17T20:58:46.529722300Z"
    }
   },
   "id": "3d655069c631c867"
  },
  {
   "cell_type": "code",
   "execution_count": 56,
   "outputs": [
    {
     "data": {
      "text/plain": "'SNY'"
     },
     "execution_count": 56,
     "metadata": {},
     "output_type": "execute_result"
    }
   ],
   "source": [
    "tk = random.choice(nys)\n",
    "s = spop[tk]\n",
    "a = apop[tk]\n",
    "tk"
   ],
   "metadata": {
    "collapsed": false,
    "ExecuteTime": {
     "end_time": "2023-09-17T21:09:54.236683900Z",
     "start_time": "2023-09-17T21:09:54.222279Z"
    }
   },
   "id": "b37f9b07095a6d4f"
  },
  {
   "cell_type": "code",
   "execution_count": 57,
   "outputs": [
    {
     "data": {
      "text/plain": "(1.58, 1.65)"
     },
     "execution_count": 57,
     "metadata": {},
     "output_type": "execute_result"
    }
   ],
   "source": [
    "s['peg_ratio'], a['peg_ratio']"
   ],
   "metadata": {
    "collapsed": false,
    "ExecuteTime": {
     "end_time": "2023-09-17T21:09:54.736343500Z",
     "start_time": "2023-09-17T21:09:54.716302100Z"
    }
   },
   "id": "a63d94a67e549729"
  },
  {
   "cell_type": "code",
   "execution_count": 58,
   "outputs": [
    {
     "data": {
      "text/plain": "(11.376417, 10.49)"
     },
     "execution_count": 58,
     "metadata": {},
     "output_type": "execute_result"
    }
   ],
   "source": [
    "s['forward_pe'], a['forward_pe']"
   ],
   "metadata": {
    "collapsed": false,
    "ExecuteTime": {
     "end_time": "2023-09-17T21:09:55.123595Z",
     "start_time": "2023-09-17T21:09:55.113939Z"
    }
   },
   "id": "705256c2d7ae2f63"
  },
  {
   "cell_type": "code",
   "execution_count": 59,
   "outputs": [
    {
     "data": {
      "text/plain": "(0.400525, 0.401)"
     },
     "execution_count": 59,
     "metadata": {},
     "output_type": "execute_result"
    }
   ],
   "source": [
    "s['beta'], a['beta']"
   ],
   "metadata": {
    "collapsed": false,
    "ExecuteTime": {
     "end_time": "2023-09-17T21:09:55.506586400Z",
     "start_time": "2023-09-17T21:09:55.490236100Z"
    }
   },
   "id": "8bb851e9639cd143"
  },
  {
   "cell_type": "code",
   "execution_count": 60,
   "outputs": [
    {
     "data": {
      "text/plain": "('Sanofi', 'Sanofi ADR')"
     },
     "execution_count": 60,
     "metadata": {},
     "output_type": "execute_result"
    }
   ],
   "source": [
    "s['company_name'], a['name']"
   ],
   "metadata": {
    "collapsed": false,
    "ExecuteTime": {
     "end_time": "2023-09-17T21:09:55.944934200Z",
     "start_time": "2023-09-17T21:09:55.940445500Z"
    }
   },
   "id": "2152da5bbd4af2bc"
  },
  {
   "cell_type": "code",
   "execution_count": 61,
   "outputs": [
    {
     "data": {
      "text/plain": "(126B EUR, 137B USD)"
     },
     "execution_count": 61,
     "metadata": {},
     "output_type": "execute_result"
    }
   ],
   "source": [
    "s['market_cap'], a['market_cap']"
   ],
   "metadata": {
    "collapsed": false,
    "ExecuteTime": {
     "end_time": "2023-09-17T21:09:56.393844400Z",
     "start_time": "2023-09-17T21:09:56.376764100Z"
    }
   },
   "id": "6dc96605705de422"
  },
  {
   "cell_type": "code",
   "execution_count": null,
   "outputs": [],
   "source": [],
   "metadata": {
    "collapsed": false
   },
   "id": "5e0aa5371139ff15"
  },
  {
   "cell_type": "code",
   "execution_count": null,
   "outputs": [],
   "source": [],
   "metadata": {
    "collapsed": false
   },
   "id": "cc32819a4f9c02ce"
  }
 ],
 "metadata": {
  "kernelspec": {
   "display_name": "Python 3",
   "language": "python",
   "name": "python3"
  },
  "language_info": {
   "codemirror_mode": {
    "name": "ipython",
    "version": 2
   },
   "file_extension": ".py",
   "mimetype": "text/x-python",
   "name": "python",
   "nbconvert_exporter": "python",
   "pygments_lexer": "ipython2",
   "version": "2.7.6"
  }
 },
 "nbformat": 4,
 "nbformat_minor": 5
}
