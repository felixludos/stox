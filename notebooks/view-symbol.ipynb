{
 "cells": [
  {
   "cell_type": "code",
   "execution_count": 1,
   "id": "initial_id",
   "metadata": {
    "collapsed": true,
    "ExecuteTime": {
     "end_time": "2023-09-06T21:47:48.982722600Z",
     "start_time": "2023-09-06T21:47:47.870088700Z"
    }
   },
   "outputs": [],
   "source": [
    "import random\n",
    "from collections import Counter\n",
    "import stox\n",
    "# from ib_insync import *\n",
    "from stox.imports import *\n",
    "from stox.ibkr import IB_Extractor, describe_contract, download_reports, IBKR_Loader, IBKR_Stats, IBKR_Derived\n",
    "from stox.yahoo import Yahoo_Loader, Yahoo_Info\n",
    "from tqdm.notebook import tqdm\n",
    "from omnibelt import tqdmd_notebook as tqdmd\n",
    "from stox import misc, yahoo, ibkr\n",
    "from collections import namedtuple\n",
    "from omniply import tool, ToolKit, Context, Scope, Selection"
   ]
  },
  {
   "cell_type": "code",
   "execution_count": 2,
   "outputs": [
    {
     "data": {
      "text/plain": "272"
     },
     "execution_count": 2,
     "metadata": {},
     "output_type": "execute_result"
    }
   ],
   "source": [
    "symbol_table = stox.load_symbol_table()\n",
    "len(symbol_table)"
   ],
   "metadata": {
    "collapsed": false,
    "ExecuteTime": {
     "end_time": "2023-09-06T21:47:49.168545Z",
     "start_time": "2023-09-06T21:47:48.981722700Z"
    }
   },
   "id": "b580bd1c33ae0bf7"
  },
  {
   "cell_type": "code",
   "execution_count": 3,
   "outputs": [
    {
     "data": {
      "text/plain": "239"
     },
     "execution_count": 3,
     "metadata": {},
     "output_type": "execute_result"
    }
   ],
   "source": [
    "rows = [(k, v) for k, v in symbol_table.items() if v['currency'] == 'EUR']\n",
    "def from_yfsym(yfsym):\n",
    "\treturn yfsym, [v for k, v in rows if k == yfsym][0]\n",
    "def from_ibsym(ibsym):\n",
    "\treturn [(k,v) for k, v in rows if v['symbol'] == ibsym][0]\n",
    "len(rows)"
   ],
   "metadata": {
    "collapsed": false,
    "ExecuteTime": {
     "end_time": "2023-09-06T21:47:49.168545Z",
     "start_time": "2023-09-06T21:47:49.162562700Z"
    }
   },
   "id": "231c0c8a4e9a6940"
  },
  {
   "cell_type": "code",
   "execution_count": 4,
   "outputs": [],
   "source": [
    "date = '230829'\n",
    "# date = 'last'"
   ],
   "metadata": {
    "collapsed": false,
    "ExecuteTime": {
     "end_time": "2023-09-06T21:47:49.204987Z",
     "start_time": "2023-09-06T21:47:49.187467200Z"
    }
   },
   "id": "4c20ba9474b50325"
  },
  {
   "cell_type": "code",
   "execution_count": 8,
   "outputs": [
    {
     "name": "stdout",
     "output_type": "stream",
     "text": [
      "EEE.AT\n"
     ]
    }
   ],
   "source": [
    "yfsym, ibrow = random.choice(rows)\n",
    "\n",
    "# yfsym, ibrow = from_yfsym('EUROB.AT')\n",
    "# yfsym, ibrow = from_ibsym('LHA')\n",
    "\n",
    "gg = Context(\n",
    "\tScope(IBKR_Derived(), IBKR_Stats(), IBKR_Loader(root=misc.ibkr_root()),\n",
    "\t\t  gap={\n",
    "\t\t\t  'ckpt_path': 'ib_ckpt_path',\n",
    "\t\t  }),\n",
    "\tSelection(Yahoo_Info(), Yahoo_Loader(root=misc.yahoo_root()),\n",
    "\t\t  gap={\n",
    "\t\t\t  'ckpt_path': 'yahoo_ckpt_path',\n",
    "\t\t\t  'ticker': 'yfsym',\n",
    "\t\t\t  \n",
    "\t\t\t  'info': 'info',\n",
    "\t\t\t\t  'splits': 'splits',\n",
    "\n",
    "\t\t\t  'recommendation_mean': 'recommendation_mean',\n",
    "\t\t\t  'recommendation_key': 'recommendation_key',\n",
    "\t\t\t  'number_of_analysts': 'number_of_analysts',\n",
    "\t\t\t  'target_mean_price': 'target_mean_price',\n",
    "\t\t\t  'target_high_price': 'target_high_price',\n",
    "\t\t\t  'target_low_price': 'target_low_price',\n",
    "\t\t\t  'target_median_price': 'target_median_price',\n",
    "\t\t\t  \n",
    "\t\t\t  'isin': 'yf_isin',\n",
    "\t\t  }),\n",
    ")\n",
    "gg.update(ibrow)\n",
    "gg['date'] = date\n",
    "gg['ibsym'] = ibrow['symbol']\n",
    "gg['ibid'] = ibrow['conId']\n",
    "gg['yfsym'] = yfsym\n",
    "print(yfsym)"
   ],
   "metadata": {
    "collapsed": false,
    "ExecuteTime": {
     "end_time": "2023-09-06T21:48:06.663694100Z",
     "start_time": "2023-09-06T21:48:06.629160800Z"
    }
   },
   "id": "cb6da46884305a52"
  },
  {
   "cell_type": "code",
   "execution_count": 9,
   "outputs": [
    {
     "data": {
      "text/plain": "Context(conId, currency, exchange, primaryExchange, symbol, date, ibsym, ibid, yfsym, {sector}, {company_name}, {exchange_name}, {country}, {isin}, {price}, {market_cap}, {high_52w}, {low_52w}, {employees}, {employees_date}, {business_summary}, {brief}, {brief_date}, {country_code}, {country_name}, {city}, {website}, {industry_trbc}, {industry}, {industry_trbc_code}, {industry_naics}, {industry_naics_code}, {industry_sic}, {industry_sic_code}, {ib_ckpt_path}, {snapshot}, {ownership}, {finances}, {statements}, {recommendations}, {recommendation_mean}, {recommendation_key}, {number_of_analysts}, {target_mean_price}, {target_high_price}, {target_low_price}, {target_median_price}, {yahoo_ckpt_path}, {info}, {splits}, {yf_isin})"
     },
     "execution_count": 9,
     "metadata": {},
     "output_type": "execute_result"
    }
   ],
   "source": [
    "gg"
   ],
   "metadata": {
    "collapsed": false,
    "ExecuteTime": {
     "end_time": "2023-09-06T21:48:07.696124400Z",
     "start_time": "2023-09-06T21:48:07.672514Z"
    }
   },
   "id": "2cbe811509a87109"
  },
  {
   "cell_type": "code",
   "execution_count": 10,
   "outputs": [
    {
     "name": "stdout",
     "output_type": "stream",
     "text": [
      "Coca Cola HBC AG  ::  EEE.AT  ::  EEE1\n",
      "Price: 26.5 EUR (21.1 EUR - 30.1 EUR)\n",
      "\n",
      "Consumer Non-Cyclicals  ::  Non-Alcoholic Beverages (NEC)\n",
      "Steinhausen, Switzerland\n",
      "Market cap: 9.76B EUR | Employees: 32561\n"
     ]
    }
   ],
   "source": [
    "print(f'{gg[\"company_name\"]}  ::  {gg[\"yfsym\"]}  ::  {gg[\"ibsym\"]}')\n",
    "print(f'Price: {gg[\"price\"]} ({gg[\"low_52w\"]} - {gg[\"high_52w\"]})')\n",
    "print()\n",
    "print(f'{gg[\"sector\"]}  ::  {gg[\"industry\"]}')\n",
    "print(f'{gg[\"city\"]}, {gg[\"country_name\"]}')\n",
    "print(f'Market cap: {gg[\"market_cap\"]} | Employees: {gg[\"employees\"]}')"
   ],
   "metadata": {
    "collapsed": false,
    "ExecuteTime": {
     "end_time": "2023-09-06T21:48:08.029382800Z",
     "start_time": "2023-09-06T21:48:07.992803400Z"
    }
   },
   "id": "d93bd741ee416d33"
  },
  {
   "cell_type": "code",
   "execution_count": 11,
   "outputs": [
    {
     "name": "stdout",
     "output_type": "stream",
     "text": [
      "Coca Cola HBC AG is a Switzerland-based bottler of Coca-Cola products. The Company's segments include Established markets, including Austria, Cyprus, Greece, Italy, Northern Ireland, Republic of Ireland and Switzerland; Developing markets, including Croatia, the Czech Republic, Estonia, Hungary, Latvia, Lithuania, Poland, Slovakia and Slovenia, and Emerging markets, including Armenia, Belarus, Bosnia and Herzegovina, Bulgaria, Macedonia, Moldova, Montenegro, Nigeria, Romania, Russian Federation, Serbia and Ukraine. The Company produces, sells and distributes beverage brands. The Company markets Coca-Cola, Coca-Cola Zero, Coca-Cola Light, Fanta and Sprite, as well as water, juice and energy drinks.\n"
     ]
    }
   ],
   "source": [
    "print(gg['business_summary'])"
   ],
   "metadata": {
    "collapsed": false,
    "ExecuteTime": {
     "end_time": "2023-09-06T21:48:09.776447500Z",
     "start_time": "2023-09-06T21:48:09.751197Z"
    }
   },
   "id": "4c33bcd66eb4bf6f"
  },
  {
   "cell_type": "code",
   "execution_count": null,
   "outputs": [],
   "source": [
    "info = gg['splits']\n",
    "info"
   ],
   "metadata": {
    "collapsed": false,
    "ExecuteTime": {
     "start_time": "2023-09-05T12:35:07.274661300Z"
    }
   },
   "id": "63de8e115c5c5416"
  },
  {
   "cell_type": "code",
   "execution_count": 8,
   "outputs": [],
   "source": [
    "rec = gg['recommendations']"
   ],
   "metadata": {
    "collapsed": false,
    "ExecuteTime": {
     "end_time": "2023-09-05T12:35:10.595187600Z",
     "start_time": "2023-09-05T12:35:10.564160400Z"
    }
   },
   "id": "c66d2a19db040e48"
  },
  {
   "cell_type": "code",
   "execution_count": null,
   "outputs": [],
   "source": [],
   "metadata": {
    "collapsed": false
   },
   "id": "a31822253c4bd05d"
  },
  {
   "cell_type": "code",
   "execution_count": null,
   "outputs": [],
   "source": [],
   "metadata": {
    "collapsed": false
   },
   "id": "4f017e488d6eb9c5"
  },
  {
   "cell_type": "code",
   "execution_count": null,
   "outputs": [],
   "source": [],
   "metadata": {
    "collapsed": false
   },
   "id": "701c396002207a53"
  },
  {
   "cell_type": "code",
   "execution_count": null,
   "outputs": [],
   "source": [],
   "metadata": {
    "collapsed": false,
    "ExecuteTime": {
     "end_time": "2023-08-29T21:18:07.825577Z",
     "start_time": "2023-08-29T21:18:07.822561700Z"
    }
   },
   "id": "7a6bf2e35c975e8a"
  },
  {
   "cell_type": "code",
   "execution_count": null,
   "outputs": [],
   "source": [],
   "metadata": {
    "collapsed": false
   },
   "id": "6da065f957e36fb7"
  }
 ],
 "metadata": {
  "kernelspec": {
   "display_name": "Python 3",
   "language": "python",
   "name": "python3"
  },
  "language_info": {
   "codemirror_mode": {
    "name": "ipython",
    "version": 2
   },
   "file_extension": ".py",
   "mimetype": "text/x-python",
   "name": "python",
   "nbconvert_exporter": "python",
   "pygments_lexer": "ipython2",
   "version": "2.7.6"
  }
 },
 "nbformat": 4,
 "nbformat_minor": 5
}
