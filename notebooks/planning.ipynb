{
 "cells": [
  {
   "cell_type": "code",
   "execution_count": 1,
   "id": "initial_id",
   "metadata": {
    "collapsed": true,
    "ExecuteTime": {
     "end_time": "2023-09-04T22:24:56.904170200Z",
     "start_time": "2023-09-04T22:24:55.967190800Z"
    }
   },
   "outputs": [],
   "source": [
    "import random\n",
    "from collections import Counter\n",
    "import stox\n",
    "# from ib_insync import *\n",
    "from stox.imports import *\n",
    "from stox.ibkr import IB_Extractor, describe_contract, download_reports, IBKR_Loader, IBKR_Stats, IBKR_Derived\n",
    "from stox.yahoo import Yahoo_Loader\n",
    "from tqdm.notebook import tqdm\n",
    "from omnibelt import tqdmd_notebook as tqdmd\n",
    "from stox import misc, yahoo, ibkr\n",
    "from collections import namedtuple\n",
    "from omniply import tool, ToolKit, Context, Scope, Selection"
   ]
  },
  {
   "cell_type": "code",
   "execution_count": 2,
   "outputs": [
    {
     "data": {
      "text/plain": "272"
     },
     "execution_count": 2,
     "metadata": {},
     "output_type": "execute_result"
    }
   ],
   "source": [
    "symbol_table = stox.load_symbol_table()\n",
    "len(symbol_table)"
   ],
   "metadata": {
    "collapsed": false,
    "ExecuteTime": {
     "end_time": "2023-09-04T22:24:57.057494700Z",
     "start_time": "2023-09-04T22:24:56.906191500Z"
    }
   },
   "id": "b580bd1c33ae0bf7"
  },
  {
   "cell_type": "code",
   "execution_count": 3,
   "outputs": [
    {
     "data": {
      "text/plain": "239"
     },
     "execution_count": 3,
     "metadata": {},
     "output_type": "execute_result"
    }
   ],
   "source": [
    "rows = [(k, v) for k, v in symbol_table.items() if v['currency'] == 'EUR']\n",
    "len(rows)"
   ],
   "metadata": {
    "collapsed": false,
    "ExecuteTime": {
     "end_time": "2023-09-04T22:24:57.057494700Z",
     "start_time": "2023-09-04T22:24:57.040035Z"
    }
   },
   "id": "231c0c8a4e9a6940"
  },
  {
   "cell_type": "code",
   "execution_count": 4,
   "outputs": [],
   "source": [
    "date = '230829'\n",
    "# date = 'last'"
   ],
   "metadata": {
    "collapsed": false,
    "ExecuteTime": {
     "end_time": "2023-09-04T22:24:57.058523100Z",
     "start_time": "2023-09-04T22:24:57.042039200Z"
    }
   },
   "id": "4c20ba9474b50325"
  },
  {
   "cell_type": "code",
   "execution_count": 15,
   "outputs": [
    {
     "name": "stdout",
     "output_type": "stream",
     "text": [
      "VER.VI\n"
     ]
    }
   ],
   "source": [
    "yfsym, ibrow = random.choice(rows)\n",
    "gg = Context(\n",
    "\tScope(IBKR_Derived(), IBKR_Stats(), IBKR_Loader(root=misc.ibkr_root()),\n",
    "\t\t  gap={\n",
    "\t\t\t  'ckpt_path': 'ib_ckpt_path',\n",
    "\t\t  }),\n",
    "\tSelection(Yahoo_Loader(root=misc.yahoo_root()),\n",
    "\t\t  gap={\n",
    "\t\t\t  'ckpt_path': 'yahoo_ckpt_path',\n",
    "\t\t\t  'ticker': 'yfsym',\n",
    "\t\t  }),\n",
    ")\n",
    "gg.update(ibrow)\n",
    "gg['date'] = date\n",
    "gg['ibsym'] = ibrow['symbol']\n",
    "gg['ibid'] = ibrow['conId']\n",
    "gg['yfsym'] = yfsym\n",
    "print(yfsym)"
   ],
   "metadata": {
    "collapsed": false,
    "ExecuteTime": {
     "end_time": "2023-09-04T22:25:16.246275200Z",
     "start_time": "2023-09-04T22:25:16.228140300Z"
    }
   },
   "id": "cb6da46884305a52"
  },
  {
   "cell_type": "code",
   "execution_count": 16,
   "outputs": [],
   "source": [
    "# gg['snapshot'];"
   ],
   "metadata": {
    "collapsed": false,
    "ExecuteTime": {
     "end_time": "2023-09-04T22:25:16.753086Z",
     "start_time": "2023-09-04T22:25:16.742529100Z"
    }
   },
   "id": "ee957f4dc10a5a51"
  },
  {
   "cell_type": "code",
   "execution_count": 17,
   "outputs": [
    {
     "data": {
      "text/plain": "Context(conId, currency, exchange, primaryExchange, symbol, date, ibsym, ibid, yfsym, {sector}, {company_name}, {exchange_name}, {country}, {isin}, {price}, {market_cap}, {high_52w}, {low_52w}, {employees}, {employees_date}, {business_summary}, {brief}, {brief_date}, {country_code}, {country_name}, {city}, {website}, {industry_trbc}, {industry}, {industry_trbc_code}, {industry_naics}, {industry_naics_code}, {industry_sic}, {industry_sic_code}, {ib_ckpt_path}, {snapshot}, {ownership}, {finances}, {statements}, {recommendations}, {yahoo_ckpt_path}, {info}, {splits})"
     },
     "execution_count": 17,
     "metadata": {},
     "output_type": "execute_result"
    }
   ],
   "source": [
    "gg"
   ],
   "metadata": {
    "collapsed": false,
    "ExecuteTime": {
     "end_time": "2023-09-04T22:25:17.776983300Z",
     "start_time": "2023-09-04T22:25:17.772408Z"
    }
   },
   "id": "2cbe811509a87109"
  },
  {
   "cell_type": "code",
   "execution_count": 18,
   "outputs": [
    {
     "data": {
      "text/plain": "'VERBUND AG'"
     },
     "execution_count": 18,
     "metadata": {},
     "output_type": "execute_result"
    }
   ],
   "source": [
    "gg['company_name']"
   ],
   "metadata": {
    "collapsed": false,
    "ExecuteTime": {
     "end_time": "2023-09-04T22:25:18.178911900Z",
     "start_time": "2023-09-04T22:25:18.148583Z"
    }
   },
   "id": "d93bd741ee416d33"
  },
  {
   "cell_type": "code",
   "execution_count": 19,
   "outputs": [
    {
     "data": {
      "text/plain": "(74.7 EUR, 115 EUR, 66.5 EUR, 12.8B EUR)"
     },
     "execution_count": 19,
     "metadata": {},
     "output_type": "execute_result"
    }
   ],
   "source": [
    "gg['price'], gg['high_52w'], gg['low_52w'], gg['market_cap']"
   ],
   "metadata": {
    "collapsed": false,
    "ExecuteTime": {
     "end_time": "2023-09-04T22:25:18.736987900Z",
     "start_time": "2023-09-04T22:25:18.699914400Z"
    }
   },
   "id": "cb1b1f6db264a08"
  },
  {
   "cell_type": "code",
   "execution_count": 20,
   "outputs": [
    {
     "data": {
      "text/plain": "('Utilities', 'Electric Utilities (NEC)')"
     },
     "execution_count": 20,
     "metadata": {},
     "output_type": "execute_result"
    }
   ],
   "source": [
    "gg['sector'], gg['industry']"
   ],
   "metadata": {
    "collapsed": false,
    "ExecuteTime": {
     "end_time": "2023-09-04T22:25:19.017206900Z",
     "start_time": "2023-09-04T22:25:18.995219900Z"
    }
   },
   "id": "72e5d1e43664d956"
  },
  {
   "cell_type": "code",
   "execution_count": 21,
   "outputs": [
    {
     "data": {
      "text/plain": "('Wien', 'Austria', 3696)"
     },
     "execution_count": 21,
     "metadata": {},
     "output_type": "execute_result"
    }
   ],
   "source": [
    "gg['city'], gg['country_name'], gg['employees']"
   ],
   "metadata": {
    "collapsed": false,
    "ExecuteTime": {
     "end_time": "2023-09-04T22:25:19.201969100Z",
     "start_time": "2023-09-04T22:25:19.175925Z"
    }
   },
   "id": "f7938989778bc745"
  },
  {
   "cell_type": "code",
   "execution_count": 22,
   "outputs": [
    {
     "data": {
      "text/plain": "\"VERBUND AG is an Austria-based energy company. The Company is engaged in the generation and transmission of electricity in Austria. It is also active in the energy trading markets. Through its trading platform, VERBUND Energy4Business GmbH, which trades power and energy derivatives over-the-counter and at the major power exchanges across Europe. VERBUND generates electricity via its large network of hydroelectric power plants, which accounts for approximately 90% of the power generated, supplemented by wind, solar and thermal power plants, powered by fossil fuels. The Company's transmission business is run by VERBUND-Austrian Power Grid AG, which operates, maintains and extends Austria's high-voltage and extra-high-voltage power grids. Verbund has further subsidiary operations in Germany, Italy, Poland, Hungary and Slovenia. Furthermore, the Company acquired Gas Connect Austria GmbH to operate its infrastructure.\""
     },
     "execution_count": 22,
     "metadata": {},
     "output_type": "execute_result"
    }
   ],
   "source": [
    "gg['business_summary']"
   ],
   "metadata": {
    "collapsed": false,
    "ExecuteTime": {
     "end_time": "2023-09-04T22:25:19.469477400Z",
     "start_time": "2023-09-04T22:25:19.465836300Z"
    }
   },
   "id": "67775739ad28e302"
  },
  {
   "cell_type": "code",
   "execution_count": 23,
   "outputs": [],
   "source": [
    "# gg['industry_naics']"
   ],
   "metadata": {
    "collapsed": false,
    "ExecuteTime": {
     "end_time": "2023-09-04T22:25:20.070716400Z",
     "start_time": "2023-09-04T22:25:20.046177500Z"
    }
   },
   "id": "6c75d408a1bce46d"
  },
  {
   "cell_type": "code",
   "execution_count": 25,
   "outputs": [],
   "source": [
    "info = gg['splits']"
   ],
   "metadata": {
    "collapsed": false,
    "ExecuteTime": {
     "end_time": "2023-09-04T23:21:06.298969600Z",
     "start_time": "2023-09-04T23:21:06.281206400Z"
    }
   },
   "id": "63de8e115c5c5416"
  },
  {
   "cell_type": "code",
   "execution_count": 26,
   "outputs": [
    {
     "data": {
      "text/plain": "                           Stock Splits\nDate                                   \n2006-05-23 00:00:00+02:00          10.0",
      "text/html": "<div>\n<style scoped>\n    .dataframe tbody tr th:only-of-type {\n        vertical-align: middle;\n    }\n\n    .dataframe tbody tr th {\n        vertical-align: top;\n    }\n\n    .dataframe thead th {\n        text-align: right;\n    }\n</style>\n<table border=\"1\" class=\"dataframe\">\n  <thead>\n    <tr style=\"text-align: right;\">\n      <th></th>\n      <th>Stock Splits</th>\n    </tr>\n    <tr>\n      <th>Date</th>\n      <th></th>\n    </tr>\n  </thead>\n  <tbody>\n    <tr>\n      <th>2006-05-23 00:00:00+02:00</th>\n      <td>10.0</td>\n    </tr>\n  </tbody>\n</table>\n</div>"
     },
     "execution_count": 26,
     "metadata": {},
     "output_type": "execute_result"
    }
   ],
   "source": [
    "info"
   ],
   "metadata": {
    "collapsed": false,
    "ExecuteTime": {
     "end_time": "2023-09-04T23:21:23.119156400Z",
     "start_time": "2023-09-04T23:21:23.105733600Z"
    }
   },
   "id": "7094c90ac9370e80"
  },
  {
   "cell_type": "code",
   "execution_count": 10,
   "outputs": [
    {
     "data": {
      "text/plain": "[_ToolSkill(IBKR_Stats.get_exchange_from_snapshot: exchange),\n _ToolSkill(IBKR_Stats.get_exchange_from_rec: exchange)]"
     },
     "execution_count": 10,
     "metadata": {},
     "output_type": "execute_result"
    }
   ],
   "source": [
    "list(gg.vendors('exchange'))"
   ],
   "metadata": {
    "collapsed": false,
    "ExecuteTime": {
     "end_time": "2023-09-04T12:40:40.100680900Z",
     "start_time": "2023-09-04T12:40:40.059971600Z"
    }
   },
   "id": "b45847e3f8d2f05e"
  },
  {
   "cell_type": "code",
   "execution_count": null,
   "outputs": [],
   "source": [],
   "metadata": {
    "collapsed": false
   },
   "id": "701c396002207a53"
  },
  {
   "cell_type": "code",
   "execution_count": null,
   "outputs": [],
   "source": [],
   "metadata": {
    "collapsed": false,
    "ExecuteTime": {
     "end_time": "2023-08-29T21:18:07.825577Z",
     "start_time": "2023-08-29T21:18:07.822561700Z"
    }
   },
   "id": "7a6bf2e35c975e8a"
  },
  {
   "cell_type": "code",
   "execution_count": null,
   "outputs": [],
   "source": [],
   "metadata": {
    "collapsed": false
   },
   "id": "6da065f957e36fb7"
  }
 ],
 "metadata": {
  "kernelspec": {
   "display_name": "Python 3",
   "language": "python",
   "name": "python3"
  },
  "language_info": {
   "codemirror_mode": {
    "name": "ipython",
    "version": 2
   },
   "file_extension": ".py",
   "mimetype": "text/x-python",
   "name": "python",
   "nbconvert_exporter": "python",
   "pygments_lexer": "ipython2",
   "version": "2.7.6"
  }
 },
 "nbformat": 4,
 "nbformat_minor": 5
}
