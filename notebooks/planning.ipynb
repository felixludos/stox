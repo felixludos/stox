{
 "cells": [
  {
   "cell_type": "code",
   "execution_count": 1,
   "id": "initial_id",
   "metadata": {
    "collapsed": true,
    "ExecuteTime": {
     "end_time": "2023-09-03T14:38:42.974681600Z",
     "start_time": "2023-09-03T14:38:38.878686400Z"
    }
   },
   "outputs": [],
   "source": [
    "import random\n",
    "from collections import Counter\n",
    "import stox\n",
    "# from ib_insync import *\n",
    "from stox.imports import *\n",
    "from stox.ibkr import IB_Extractor, describe_contract, download_reports, IBKR_Loader, IBKR_Stats\n",
    "from tqdm.notebook import tqdm\n",
    "from omnibelt import tqdmd_notebook as tqdmd\n",
    "from stox import misc, yahoo, ibkr\n",
    "from collections import namedtuple\n",
    "from omniply import tool, ToolKit, Context"
   ]
  },
  {
   "cell_type": "code",
   "execution_count": 2,
   "outputs": [
    {
     "data": {
      "text/plain": "272"
     },
     "execution_count": 2,
     "metadata": {},
     "output_type": "execute_result"
    }
   ],
   "source": [
    "symbol_table = stox.load_symbol_table()\n",
    "len(symbol_table)"
   ],
   "metadata": {
    "collapsed": false,
    "ExecuteTime": {
     "end_time": "2023-09-03T14:38:43.241245200Z",
     "start_time": "2023-09-03T14:38:42.978203200Z"
    }
   },
   "id": "b580bd1c33ae0bf7"
  },
  {
   "cell_type": "code",
   "execution_count": 3,
   "outputs": [
    {
     "data": {
      "text/plain": "239"
     },
     "execution_count": 3,
     "metadata": {},
     "output_type": "execute_result"
    }
   ],
   "source": [
    "rows = [(k, v) for k, v in symbol_table.items() if v['currency'] == 'EUR']\n",
    "len(rows)"
   ],
   "metadata": {
    "collapsed": false,
    "ExecuteTime": {
     "end_time": "2023-09-03T14:38:43.259401100Z",
     "start_time": "2023-09-03T14:38:43.237014400Z"
    }
   },
   "id": "231c0c8a4e9a6940"
  },
  {
   "cell_type": "code",
   "execution_count": 4,
   "outputs": [],
   "source": [
    "date = '230829'\n",
    "# date = 'last'"
   ],
   "metadata": {
    "collapsed": false,
    "ExecuteTime": {
     "end_time": "2023-09-03T14:38:43.347159300Z",
     "start_time": "2023-09-03T14:38:43.255036900Z"
    }
   },
   "id": "4c20ba9474b50325"
  },
  {
   "cell_type": "code",
   "execution_count": 13,
   "outputs": [
    {
     "ename": "KeyboardInterrupt",
     "evalue": "",
     "output_type": "error",
     "traceback": [
      "\u001B[1;31m---------------------------------------------------------------------------\u001B[0m",
      "\u001B[1;31mKeyboardInterrupt\u001B[0m                         Traceback (most recent call last)",
      "Cell \u001B[1;32mIn[13], line 2\u001B[0m\n\u001B[0;32m      1\u001B[0m yfsym, ibrow \u001B[38;5;241m=\u001B[39m random\u001B[38;5;241m.\u001B[39mchoice(rows)\n\u001B[1;32m----> 2\u001B[0m gg \u001B[38;5;241m=\u001B[39m Context(IBKR_Loader(date\u001B[38;5;241m=\u001B[39mdate, root\u001B[38;5;241m=\u001B[39mmisc\u001B[38;5;241m.\u001B[39mibkr_root()), \u001B[43mIBKR_Stats\u001B[49m\u001B[43m(\u001B[49m\u001B[43m)\u001B[49m)\n\u001B[0;32m      3\u001B[0m gg\u001B[38;5;241m.\u001B[39mupdate(ibrow)\n\u001B[0;32m      4\u001B[0m gg[\u001B[38;5;124m'\u001B[39m\u001B[38;5;124mibsym\u001B[39m\u001B[38;5;124m'\u001B[39m] \u001B[38;5;241m=\u001B[39m ibrow[\u001B[38;5;124m'\u001B[39m\u001B[38;5;124msymbol\u001B[39m\u001B[38;5;124m'\u001B[39m]\n",
      "File \u001B[1;32m~\\OneDrive\\Khan\\research\\data-foundation\\omniply\\core\\top.py:17\u001B[0m, in \u001B[0;36mToolKit.__init__\u001B[1;34m(self, *args, **kwargs)\u001B[0m\n\u001B[0;32m     15\u001B[0m \u001B[38;5;28;01mdef\u001B[39;00m \u001B[38;5;21m__init__\u001B[39m(\u001B[38;5;28mself\u001B[39m, \u001B[38;5;241m*\u001B[39margs, \u001B[38;5;241m*\u001B[39m\u001B[38;5;241m*\u001B[39mkwargs):\n\u001B[0;32m     16\u001B[0m \t\u001B[38;5;28msuper\u001B[39m()\u001B[38;5;241m.\u001B[39m\u001B[38;5;21m__init__\u001B[39m(\u001B[38;5;241m*\u001B[39margs, \u001B[38;5;241m*\u001B[39m\u001B[38;5;241m*\u001B[39mkwargs)\n\u001B[1;32m---> 17\u001B[0m \t\u001B[38;5;28;43mself\u001B[39;49m\u001B[38;5;241;43m.\u001B[39;49m\u001B[43m_process_crafts\u001B[49m\u001B[43m(\u001B[49m\u001B[43m)\u001B[49m\n",
      "File \u001B[1;32m~\\OneDrive\\Khan\\research\\data-foundation\\omniply\\core\\gaggles.py:149\u001B[0m, in \u001B[0;36mCraftyGaggle._process_crafts\u001B[1;34m(self)\u001B[0m\n\u001B[0;32m    146\u001B[0m \t\ttable\u001B[38;5;241m.\u001B[39msetdefault(gizmo, [])\u001B[38;5;241m.\u001B[39mappend(skill)\n\u001B[0;32m    148\u001B[0m \u001B[38;5;66;03m# add O-N skills in reverse order for O-N _tools_table\u001B[39;00m\n\u001B[1;32m--> 149\u001B[0m \u001B[38;5;28;01mfor\u001B[39;00m gizmo, gadgets \u001B[38;5;129;01min\u001B[39;00m \u001B[43mtable\u001B[49m\u001B[38;5;241m.\u001B[39mitems(): \u001B[38;5;66;03m# tools is N-O\u001B[39;00m\n\u001B[0;32m    150\u001B[0m \t\u001B[38;5;28mself\u001B[39m\u001B[38;5;241m.\u001B[39m_gadgets_table\u001B[38;5;241m.\u001B[39msetdefault(gizmo, [])\u001B[38;5;241m.\u001B[39mextend(gadgets)\n",
      "File \u001B[1;32m_pydevd_bundle\\pydevd_cython_win32_311_64.pyx:1179\u001B[0m, in \u001B[0;36m_pydevd_bundle.pydevd_cython_win32_311_64.SafeCallWrapper.__call__\u001B[1;34m()\u001B[0m\n",
      "File \u001B[1;32m_pydevd_bundle\\pydevd_cython_win32_311_64.pyx:620\u001B[0m, in \u001B[0;36m_pydevd_bundle.pydevd_cython_win32_311_64.PyDBFrame.trace_dispatch\u001B[1;34m()\u001B[0m\n",
      "File \u001B[1;32m_pydevd_bundle\\pydevd_cython_win32_311_64.pyx:929\u001B[0m, in \u001B[0;36m_pydevd_bundle.pydevd_cython_win32_311_64.PyDBFrame.trace_dispatch\u001B[1;34m()\u001B[0m\n",
      "File \u001B[1;32m_pydevd_bundle\\pydevd_cython_win32_311_64.pyx:920\u001B[0m, in \u001B[0;36m_pydevd_bundle.pydevd_cython_win32_311_64.PyDBFrame.trace_dispatch\u001B[1;34m()\u001B[0m\n",
      "File \u001B[1;32m_pydevd_bundle\\pydevd_cython_win32_311_64.pyx:317\u001B[0m, in \u001B[0;36m_pydevd_bundle.pydevd_cython_win32_311_64.PyDBFrame.do_wait_suspend\u001B[1;34m()\u001B[0m\n",
      "File \u001B[1;32mC:\\Program Files\\JetBrains\\PyCharm 2023.2.1\\plugins\\python\\helpers\\pydev\\pydevd.py:1160\u001B[0m, in \u001B[0;36mPyDB.do_wait_suspend\u001B[1;34m(self, thread, frame, event, arg, send_suspend_message, is_unhandled_exception)\u001B[0m\n\u001B[0;32m   1157\u001B[0m         from_this_thread\u001B[38;5;241m.\u001B[39mappend(frame_id)\n\u001B[0;32m   1159\u001B[0m \u001B[38;5;28;01mwith\u001B[39;00m \u001B[38;5;28mself\u001B[39m\u001B[38;5;241m.\u001B[39m_threads_suspended_single_notification\u001B[38;5;241m.\u001B[39mnotify_thread_suspended(thread_id, stop_reason):\n\u001B[1;32m-> 1160\u001B[0m     \u001B[38;5;28;43mself\u001B[39;49m\u001B[38;5;241;43m.\u001B[39;49m\u001B[43m_do_wait_suspend\u001B[49m\u001B[43m(\u001B[49m\u001B[43mthread\u001B[49m\u001B[43m,\u001B[49m\u001B[43m \u001B[49m\u001B[43mframe\u001B[49m\u001B[43m,\u001B[49m\u001B[43m \u001B[49m\u001B[43mevent\u001B[49m\u001B[43m,\u001B[49m\u001B[43m \u001B[49m\u001B[43marg\u001B[49m\u001B[43m,\u001B[49m\u001B[43m \u001B[49m\u001B[43msuspend_type\u001B[49m\u001B[43m,\u001B[49m\u001B[43m \u001B[49m\u001B[43mfrom_this_thread\u001B[49m\u001B[43m)\u001B[49m\n",
      "File \u001B[1;32mC:\\Program Files\\JetBrains\\PyCharm 2023.2.1\\plugins\\python\\helpers\\pydev\\pydevd.py:1175\u001B[0m, in \u001B[0;36mPyDB._do_wait_suspend\u001B[1;34m(self, thread, frame, event, arg, suspend_type, from_this_thread)\u001B[0m\n\u001B[0;32m   1172\u001B[0m             \u001B[38;5;28mself\u001B[39m\u001B[38;5;241m.\u001B[39m_call_mpl_hook()\n\u001B[0;32m   1174\u001B[0m         \u001B[38;5;28mself\u001B[39m\u001B[38;5;241m.\u001B[39mprocess_internal_commands()\n\u001B[1;32m-> 1175\u001B[0m         time\u001B[38;5;241m.\u001B[39msleep(\u001B[38;5;241m0.01\u001B[39m)\n\u001B[0;32m   1177\u001B[0m \u001B[38;5;28mself\u001B[39m\u001B[38;5;241m.\u001B[39mcancel_async_evaluation(get_current_thread_id(thread), \u001B[38;5;28mstr\u001B[39m(\u001B[38;5;28mid\u001B[39m(frame)))\n\u001B[0;32m   1179\u001B[0m \u001B[38;5;66;03m# process any stepping instructions\u001B[39;00m\n",
      "\u001B[1;31mKeyboardInterrupt\u001B[0m: "
     ]
    }
   ],
   "source": [
    "yfsym, ibrow = random.choice(rows)\n",
    "gg = Context(IBKR_Loader(date=date, root=misc.ibkr_root()), IBKR_Stats())\n",
    "gg.update(ibrow)\n",
    "gg['ibsym'] = ibrow['symbol']\n",
    "gg['ibid'] = ibrow['conId']\n",
    "gg['yfsym'] = yfsym\n",
    "print(yfsym)"
   ],
   "metadata": {
    "collapsed": false,
    "ExecuteTime": {
     "end_time": "2023-09-03T15:04:01.535607Z",
     "start_time": "2023-09-03T14:47:37.960607200Z"
    }
   },
   "id": "cb6da46884305a52"
  },
  {
   "cell_type": "code",
   "execution_count": 6,
   "outputs": [
    {
     "data": {
      "text/plain": "Context(conId, currency, exchange, primaryExchange, symbol, ibsym, ibid, yfsym, {ckpt_date}, {ckpt_path}, {snapshot}, {ownership}, {finances}, {statements}, {recommendations}, {company_name}, {exchange_name}, {country}, {isin}, {clprice}, {price}, {market_cap}, {high_52w}, {low_52w}, {sector}, {employees}, {employees_date}, {business_summary}, {brief}, {brief_date}, {country_code}, {country_name}, {city}, {website}, {industry_trbc}, {industry_trbc_code}, {industry}, {industry_naics_code}, {industry_sic}, {industry_sic_code})"
     },
     "execution_count": 6,
     "metadata": {},
     "output_type": "execute_result"
    }
   ],
   "source": [
    "gg"
   ],
   "metadata": {
    "collapsed": false,
    "ExecuteTime": {
     "end_time": "2023-09-03T14:38:43.372820600Z",
     "start_time": "2023-09-03T14:38:43.297880300Z"
    }
   },
   "id": "2cbe811509a87109"
  },
  {
   "cell_type": "code",
   "execution_count": 7,
   "outputs": [
    {
     "data": {
      "text/plain": "'AEGON N.V.'"
     },
     "execution_count": 7,
     "metadata": {},
     "output_type": "execute_result"
    }
   ],
   "source": [
    "gg['company_name']"
   ],
   "metadata": {
    "collapsed": false,
    "ExecuteTime": {
     "end_time": "2023-09-03T14:38:43.392861200Z",
     "start_time": "2023-09-03T14:38:43.317822700Z"
    }
   },
   "id": "d93bd741ee416d33"
  },
  {
   "cell_type": "code",
   "execution_count": 10,
   "outputs": [
    {
     "data": {
      "text/plain": "{'@Major': '1',\n '@Minor': '0',\n '@Revision': '1',\n 'CoIDs': {'CoID': [{'@Type': 'RepNo', '#text': 'A475E'},\n   {'@Type': 'CompanyName', '#text': 'AEGON N.V.'},\n   {'@Type': 'OrganizationPermID', '#text': '4295884931'}]},\n 'Issues': {'Issue': [{'@ID': '1',\n    '@Type': 'C',\n    '@Desc': 'Common Stock',\n    '@Order': '1',\n    'IssueID': [{'@Type': 'Name', '#text': 'Ordinary Shares'},\n     {'@Type': 'Ticker', '#text': 'AGN'},\n     {'@Type': 'ISIN', '#text': 'NL0000303709'},\n     {'@Type': 'RIC', '#text': 'AEGN.AS'},\n     {'@Type': 'DisplayRIC', '#text': 'AEGN.AS'},\n     {'@Type': 'InstrumentPI', '#text': '271052'},\n     {'@Type': 'QuotePI', '#text': '717150'},\n     {'@Type': 'InstrumentPermID', '#text': '8590934513'},\n     {'@Type': 'QuotePermID', '#text': '55838224545'}],\n    'Exchange': {'@Code': 'AMS',\n     '@Country': 'NLD',\n     '#text': 'Euronext Amsterdam Stock Exchange'},\n    'GlobalListingType': 'OSR'},\n   {'@ID': '4',\n    '@Type': 'C',\n    '@Desc': 'Common Stock',\n    '@Order': '2',\n    'IssueID': [{'@Type': 'Name', '#text': 'Ordinary Shares Class B'},\n     {'@Type': 'InstrumentPI', '#text': '145537828'},\n     {'@Type': 'InstrumentPermID', '#text': '21532167549'}],\n    'Exchange': {'@Code': 'NA', '@Country': '', '#text': 'Not Available'}},\n   {'@ID': '2',\n    '@Type': 'P',\n    '@Desc': 'Preferred Stock',\n    '@Order': '1',\n    'IssueID': [{'@Type': 'Name', '#text': 'Preference Shares'},\n     {'@Type': 'InstrumentPI', '#text': '121769030'},\n     {'@Type': 'InstrumentPermID', '#text': '21515444502'}],\n    'Exchange': {'@Code': 'AMS',\n     '@Country': 'NLD',\n     '#text': 'Euronext Amsterdam Stock Exchange'}},\n   {'@ID': '3',\n    '@Type': 'P',\n    '@Desc': 'Preferred Stock',\n    '@Order': '2',\n    'IssueID': [{'@Type': 'Name', '#text': 'Preference Shares'},\n     {'@Type': 'InstrumentPI', '#text': '121769031'},\n     {'@Type': 'InstrumentPermID', '#text': '21515444503'}],\n    'Exchange': {'@Code': 'AMS',\n     '@Country': 'NLD',\n     '#text': 'Euronext Amsterdam Stock Exchange'}}]},\n 'CoGeneralInfo': {'CoStatus': {'@Code': '1', '#text': 'Active'},\n  'CoType': {'@Code': 'EQU', '#text': 'Equity Issue'},\n  'LastModified': '2023-08-20',\n  'LatestAvailableAnnual': '2022-12-31',\n  'LatestAvailableInterim': '2023-06-30',\n  'Employees': {'@LastUpdated': '2023-06-30', '#text': '18500'},\n  'SharesOut': {'@Date': '2023-06-30',\n   '@TotalFloat': '1567364209.0',\n   '#text': '1975184223.0'},\n  'ReportingCurrency': {'@Code': 'EUR', '#text': 'Euro'},\n  'MostRecentExchange': {'@Date': '2023-08-25', '#text': '0.92593'}},\n 'TextInfo': {'Text': [{'@Type': 'Business Summary',\n    '@lastModified': '2019-01-09T09:22:19',\n    '#text': \"Aegon N.V. (Aegon) is an international life insurance, pensions and asset management company. The Company's segments include the Americas, which includes the United States, Mexico and Brazil; the Netherlands; the United Kingdom; Central & Eastern Europe; Spain & Portugal; Asia, and Aegon Asset Management. It offers protection against mortality, morbidity and longevity risks, including traditional and universal life. It offers products with mortality, morbidity, and longevity risks, including traditional and universal life; mortgages; annuity products, and banking products. It offers individual protection products, such as annuities, term insurance, income protection and international/offshore bonds. It has activities in Hungary, Poland, Romania and Turkey. It offers life insurance marketed to high-net-worth individuals in Hong Kong and Singapore. It also offers investment products covering third-party customers, insurance-linked solutions.\"},\n   {'@Type': 'Financial Summary',\n    '@lastModified': '2023-08-20T21:12:09',\n    '#text': 'BRIEF: For the six months ended 30 June 2023, AEGON N.V. revenues decreased 6% to EUR1.71B. Net loss applicable to common stockholders excluding extraordinary items totaled EUR143M vs. income of EUR518M. Revenues reflect Net Insurance Fin Inc/Exp - IFRS 17 decrease from EUR24.96B to -EUR9.25B, Net Insurance Fin Inc/Exp decrease from EUR10.57B to -EUR3.65B, Insurance Revenue - IFRS 17 decrease of 2% to EUR5.37B.'}]},\n 'contactInfo': {'@lastUpdated': '2023-08-20T21:12:36',\n  'streetAddress': [{'@line': '1', '#text': 'AEGONplein 50'},\n   {'@line': '2'},\n   {'@line': '3'}],\n  'city': \"'S-GRAVENHAGE\",\n  'state-region': None,\n  'postalCode': '2591 TV',\n  'country': {'@code': 'NLD', '#text': 'Netherlands'},\n  'contactName': 'Jan Willem Weidema',\n  'contactTitle': 'Head of Investor Relations',\n  'phone': {'phone': [{'@type': 'mainphone',\n     'countryPhoneCode': '31',\n     'city-areacode': '70',\n     'number': '3443210'},\n    {'@type': 'mainfax',\n     'countryPhoneCode': '31',\n     'city-areacode': '70',\n     'number': '3448445'},\n    {'@type': 'contactphone',\n     'countryPhoneCode': '31',\n     'city-areacode': '70',\n     'number': '3448028'}]}},\n 'webLinks': {'@lastUpdated': '2015-07-31T07:11:32',\n  'webSite': {'@mainCategory': 'Home Page', '#text': 'https://www.aegon.nl'},\n  'eMail': {'@mainCategory': 'Company Contact/E-mail',\n   '#text': 'ir@aegon.com'}},\n 'peerInfo': {'@lastUpdated': '2023-08-20T21:12:36',\n  'IndustryInfo': {'Industry': [{'@type': 'TRBC',\n     '@order': '1',\n     '@reported': '0',\n     '@code': '5530103010',\n     '@mnem': '',\n     '#text': 'Life & Health Insurance (NEC)'},\n    {'@type': 'NAICS',\n     '@order': '1',\n     '@reported': '0',\n     '@code': '524113',\n     '@mnem': '',\n     '#text': 'Direct Life Insurance Carriers'},\n    {'@type': 'NAICS',\n     '@order': '2',\n     '@reported': '0',\n     '@code': '524114',\n     '@mnem': '',\n     '#text': 'Direct Health and Medical Insurance Carriers'},\n    {'@type': 'NAICS',\n     '@order': '3',\n     '@reported': '0',\n     '@code': '524126',\n     '@mnem': '',\n     '#text': 'Direct Property and Casualty Insurance Carriers'},\n    {'@type': 'NAICS',\n     '@order': '4',\n     '@reported': '0',\n     '@code': '523940',\n     '@mnem': '',\n     '#text': 'Portfolio Management and Investment Advice'},\n    {'@type': 'NAICS',\n     '@order': '5',\n     '@reported': '0',\n     '@code': '522180',\n     '@mnem': '',\n     '#text': 'Savings Institutions and Other Depository Credit Intermediation'},\n    {'@type': 'NAICS',\n     '@order': '6',\n     '@reported': '0',\n     '@code': '522292',\n     '@mnem': '',\n     '#text': 'Real Estate Credit'},\n    {'@type': 'NAICS',\n     '@order': '7',\n     '@reported': '0',\n     '@code': '524292',\n     '@mnem': '',\n     '#text': 'Pharmacy Benefit Management and Other Third Party Administration of Insurance and Pension Funds'},\n    {'@type': 'SIC',\n     '@order': '0',\n     '@reported': '1',\n     '@code': '6311',\n     '@mnem': '',\n     '#text': 'Life Insurance'},\n    {'@type': 'SIC',\n     '@order': '1',\n     '@reported': '0',\n     '@code': '6311',\n     '@mnem': '',\n     '#text': 'Life Insurance'},\n    {'@type': 'SIC',\n     '@order': '2',\n     '@reported': '0',\n     '@code': '6324',\n     '@mnem': '',\n     '#text': 'Hospital/medical Service Plans'},\n    {'@type': 'SIC',\n     '@order': '3',\n     '@reported': '0',\n     '@code': '6331',\n     '@mnem': '',\n     '#text': 'Fire/marine/casualty Insurance'},\n    {'@type': 'SIC',\n     '@order': '4',\n     '@reported': '0',\n     '@code': '6282',\n     '@mnem': '',\n     '#text': 'Investment Advice'},\n    {'@type': 'SIC',\n     '@order': '5',\n     '@reported': '0',\n     '@code': '6035',\n     '@mnem': '',\n     '#text': 'Federal Savings Institutions'},\n    {'@type': 'SIC',\n     '@order': '6',\n     '@reported': '0',\n     '@code': '6162',\n     '@mnem': '',\n     '#text': 'Mortgage Bankers/correspondents'},\n    {'@type': 'SIC',\n     '@order': '7',\n     '@reported': '0',\n     '@code': '6371',\n     '@mnem': '',\n     '#text': 'Pension/health/welfare Funds'}]}},\n 'officers': {'officer': [{'@rank': '1',\n    '@since': '05/2018',\n    'firstName': 'William',\n    'mI': 'L.',\n    'lastName': 'Connelly',\n    'age': '65',\n    'title': {'@startYear': '2018',\n     '@startMonth': '05',\n     '@startDay': '',\n     '@iD1': 'CSU',\n     '@abbr1': 'Chmn.-Sup.',\n     '@iD2': 'IND',\n     '@abbr2': 'Ind. Dir.',\n     '#text': 'Independent Chairman of the Supervisory Board'}},\n   {'@rank': '2',\n    '@since': '04/15/2020',\n    'firstName': 'Lard',\n    'mI': None,\n    'lastName': 'Friese',\n    'age': '61',\n    'title': {'@startYear': '2020',\n     '@startMonth': '04',\n     '@startDay': '15',\n     '@iD1': 'CEO',\n     '@abbr1': 'CEO',\n     '@iD2': 'MGB',\n     '@abbr2': 'Mgt.Bd.',\n     '#text': 'Chief Executive Officer, Member of the Management Board, Member of the Executive Board'}},\n   {'@rank': '3',\n    '@since': '2017',\n    'firstName': 'Corien',\n    'mI': 'M.',\n    'lastName': 'Wortmann-Kool',\n    'age': '64',\n    'title': {'@startYear': '2017',\n     '@startMonth': '',\n     '@startDay': '',\n     '@iD1': 'VSU',\n     '@abbr1': 'Vice Ch.-Sup.',\n     '@iD2': 'DRC',\n     '@abbr2': 'Dir.',\n     '#text': 'Independent Vice Chairman of the Supervisory Board'}},\n   {'@rank': '4',\n    '@since': '05/19/2017',\n    'firstName': 'Matthew',\n    'mI': 'J.',\n    'lastName': 'Rider',\n    'age': '60',\n    'title': {'@startYear': '2017',\n     '@startMonth': '05',\n     '@startDay': '19',\n     '@iD1': 'CFO',\n     '@abbr1': 'CFO',\n     '@iD2': 'MGB',\n     '@abbr2': 'Mgt.Bd.',\n     '#text': 'Chief Financial Officer, Member of the Management Board, Member of the Executive Board'}},\n   {'@rank': '5',\n    '@since': '06/01/2021',\n    'firstName': 'Elisabetta',\n    'mI': None,\n    'lastName': 'Caldera',\n    'age': '52',\n    'title': {'@startYear': '2021',\n     '@startMonth': '06',\n     '@startDay': '01',\n     '@iD1': 'CHO',\n     '@abbr1': 'Chief HR',\n     '@iD2': 'MGB',\n     '@abbr2': 'Mgt.Bd.',\n     '#text': 'Chief Human Resource Officer, Member of the Management Board'}},\n   {'@rank': '6',\n    '@since': '02/07/2022',\n    'firstName': 'Deborah',\n    'mI': None,\n    'lastName': 'Waters',\n    'age': '56',\n    'title': {'@startYear': '2022',\n     '@startMonth': '02',\n     '@startDay': '07',\n     '@iD1': 'CTO',\n     '@abbr1': 'CTO',\n     '@iD2': 'MGB',\n     '@abbr2': 'Mgt.Bd.',\n     '#text': 'Chief Technology Officer, Member of the Management Board'}},\n   {'@rank': '7',\n    '@since': '03/01/2022',\n    'firstName': 'Astrid',\n    'mI': None,\n    'lastName': 'Jaekel',\n    'age': '46',\n    'title': {'@startYear': '2022',\n     '@startMonth': '03',\n     '@startDay': '01',\n     '@iD1': 'CRO',\n     '@abbr1': 'CRO',\n     '@iD2': 'MGB',\n     '@abbr2': 'Mgt.Bd.',\n     '#text': 'Chief Risk Officer, Member of the Management Board'}},\n   {'@rank': '8',\n    '@since': '2014',\n    'firstName': 'Onno',\n    'mI': None,\n    'lastName': 'Van Klinken',\n    'age': '54',\n    'title': {'@startYear': '2016',\n     '@startMonth': '08',\n     '@startDay': '',\n     '@iD1': 'GCN',\n     '@abbr1': 'Counsel',\n     '@iD2': 'MGB',\n     '@abbr2': 'Mgt.Bd.',\n     '#text': 'General Counsel, Member of the Management Board'}},\n   {'@rank': '9',\n    '@since': '03/31/2021',\n    'firstName': 'Will',\n    'mI': None,\n    'lastName': 'Fuller',\n    'age': '52',\n    'title': {'@startYear': '2021',\n     '@startMonth': '03',\n     '@startDay': '31',\n     '@iD1': 'MGB',\n     '@abbr1': 'Mgt.Bd.',\n     '@iD2': '',\n     '@abbr2': '',\n     '#text': 'Chief Executive Officer - Aegon Americas, Member of the Management Board'}},\n   {'@rank': '10',\n    '@since': '03/2020',\n    'firstName': 'Michael Anthony',\n    'mI': None,\n    'lastName': 'Holliday-Williams',\n    'age': '52',\n    'title': {'@startYear': '2020',\n     '@startMonth': '03',\n     '@startDay': '',\n     '@iD1': 'MGB',\n     '@abbr1': 'Mgt.Bd.',\n     '@iD2': '',\n     '@abbr2': '',\n     '#text': 'Chief Executive Officer - Aegon UK, Member of the Management Board'}}]},\n 'Ratios': {'@PriceCurrency': 'EUR',\n  '@ReportingCurrency': 'EUR',\n  '@ExchangeRate': '1.00000',\n  '@LatestAvailableDate': '2022-12-31',\n  'Group': [{'@ID': 'Price and Volume',\n    'Ratio': [{'@FieldName': 'NPRICE', '@Type': 'N', '#text': '4.80200'},\n     {'@FieldName': 'NHIG', '@Type': 'N', '#text': '5.30600'},\n     {'@FieldName': 'NLOW', '@Type': 'N', '#text': '3.71300'},\n     {'@FieldName': 'PDATE', '@Type': 'D', '#text': '2023-08-28T00:00:00'},\n     {'@FieldName': 'VOL10DAVG', '@Type': 'N', '#text': '8.02991'},\n     {'@FieldName': 'EV', '@Type': 'N', '#text': '12808.74900'}]},\n   {'@ID': 'Income Statement',\n    'Ratio': [{'@FieldName': 'MKTCAP', '@Type': 'N', '#text': '9746.74900'},\n     {'@FieldName': 'AREV', '@Type': 'N', '#text': '-10864.00000'},\n     {'@FieldName': 'AEBITD', '@Type': 'N', '#text': '287.00000'},\n     {'@FieldName': 'ANIAC', '@Type': 'N', '#text': '-1090.00000'}]},\n   {'@ID': 'Per share data',\n    'Ratio': [{'@FieldName': 'AEPSXCLXOR', '@Type': 'N', '#text': '-0.53870'},\n     {'@FieldName': 'AREVPS', '@Type': 'N', '#text': '-5.36918'},\n     {'@FieldName': 'ABVPS', '@Type': 'N', '#text': '5.44709'},\n     {'@FieldName': 'ACSHPS', '@Type': 'N', '#text': '1.72237'},\n     {'@FieldName': 'ACFSHR', '@Type': 'N', '#text': '0.06672'},\n     {'@FieldName': 'ADIVSHR', '@Type': 'N', '#text': '0.19550'}]},\n   {'@ID': 'Other Ratios',\n    'Ratio': [{'@FieldName': 'AGROSMGN',\n      '@Type': 'N',\n      '#text': '-99999.99000'},\n     {'@FieldName': 'AROEPCT', '@Type': 'N', '#text': '-5.82825'},\n     {'@FieldName': 'APR2REV', '@Type': 'N', '#text': '-99999.99000'},\n     {'@FieldName': 'APEEXCLXOR', '@Type': 'N', '#text': '-99999.99000'},\n     {'@FieldName': 'APRICE2BK', '@Type': 'N', '#text': '0.88157'},\n     {'@FieldName': 'Employees', '@Type': 'N', '#text': '18500'}]}]},\n 'ForecastData': {'@ConsensusType': 'Mean',\n  '@CurFiscalYear': '2023',\n  '@CurFiscalYearEndMonth': '12',\n  '@CurInterimEndCalYear': '2023',\n  '@CurInterimEndMonth': '9',\n  '@EarningsBasis': 'PRX',\n  'Ratio': [{'@FieldName': 'ConsRecom',\n    '@Type': 'N',\n    'Value': {'@PeriodType': 'CURR', '#text': '2.4'}},\n   {'@FieldName': 'TargetPrice',\n    '@Type': 'N',\n    'Value': {'@PeriodType': 'CURR', '#text': '5.34800'}},\n   {'@FieldName': 'ProjLTGrowthRate',\n    '@Type': 'N',\n    'Value': {'@PeriodType': 'CURR', '#text': '-99999.99000'}},\n   {'@FieldName': 'ProjPE',\n    '@Type': 'N',\n    'Value': {'@PeriodType': 'CURR', '#text': '7.53255'}},\n   {'@FieldName': 'ProjSales',\n    '@Type': 'N',\n    'Value': {'@PeriodType': 'CURR', '#text': '14433.75000'}},\n   {'@FieldName': 'ProjSalesQ',\n    '@Type': 'N',\n    'Value': {'@PeriodType': 'CURR', '#text': '-99999.99000'}},\n   {'@FieldName': 'ProjEPS',\n    '@Type': 'N',\n    'Value': {'@PeriodType': 'CURR', '#text': '0.63750'}},\n   {'@FieldName': 'ProjEPSQ',\n    '@Type': 'N',\n    'Value': {'@PeriodType': 'CURR', '#text': '-0.43000'}},\n   {'@FieldName': 'ProjProfit',\n    '@Type': 'N',\n    'Value': {'@PeriodType': 'CURR', '#text': '1290.30730'}},\n   {'@FieldName': 'ProjDPS',\n    '@Type': 'N',\n    'Value': {'@PeriodType': 'CURR', '#text': '0.30210'}}]}}"
     },
     "execution_count": 10,
     "metadata": {},
     "output_type": "execute_result"
    }
   ],
   "source": [],
   "metadata": {
    "collapsed": false,
    "ExecuteTime": {
     "end_time": "2023-09-03T14:42:25.354342Z",
     "start_time": "2023-09-03T14:42:25.323396600Z"
    }
   },
   "id": "72e5d1e43664d956"
  },
  {
   "cell_type": "code",
   "execution_count": null,
   "outputs": [],
   "source": [],
   "metadata": {
    "collapsed": false
   },
   "id": "4460928b68c7276b"
  },
  {
   "cell_type": "code",
   "execution_count": null,
   "outputs": [],
   "source": [
    "Money = namedtuple('Money', 'amount currency')\n",
    "\n",
    "class IBKR_Loader(TestCraftyKitBase):\n",
    "\tdef __init__(self, date='last', root=None):\n",
    "\t\tsuper().__init__()\n",
    "\t\tif root is None:\n",
    "\t\t\troot = misc.ibkr_root()\n",
    "\t\tself.root = root\n",
    "\t\tself.date = date\n",
    "\t\n",
    "\t@tool('ckpt_date')\n",
    "\tdef get_ckpt_date(self, conId):\n",
    "\t\tpath = misc.get_date_path(self.root / str(conId), self.date)\n",
    "\t\treturn path.name\n",
    "\n",
    "\t@tool('ckpt_path')\n",
    "\tdef get_ckpt_path(self, conId, ckpt_date):\n",
    "\t\treturn misc.get_date_path(self.root / str(conId), ckpt_date)\n",
    "\n",
    "\tdef _load_xml(self, path):\n",
    "\t\twith open(path, 'r') as f:\n",
    "\t\t\treturn xmltodict.parse(f.read())\n",
    "\n",
    "\t@tool('snapshot')\n",
    "\tdef load_snapshot(self, ckpt_path):\n",
    "\t\treturn self._load_xml(ckpt_path / 'snapshot.xml')\n",
    "\t\t\n",
    "\t@tool('ownership')\n",
    "\tdef load_ownership(self, ckpt_path):\n",
    "\t\treturn self._load_xml(ckpt_path / 'ownership.xml')\n",
    "\t\t\n",
    "\t@tool('finances')\n",
    "\tdef load_finances(self, ckpt_path):\n",
    "\t\treturn self._load_xml(ckpt_path / 'finances.xml')\n",
    "\t\n",
    "\t@tool('statements')\n",
    "\tdef load_statements(self, ckpt_path):\n",
    "\t\treturn self._load_xml(ckpt_path / 'statements.xml')\n",
    "\t\t\n",
    "\t@tool('recommendations')\n",
    "\tdef load_recommendations(self, ckpt_path):\n",
    "\t\treturn self._load_xml(ckpt_path / 'recommendations.xml')\n",
    "\t\t\n",
    "\n",
    "class IBKR_Stats(TestCraftyKitBase):\n",
    "\t@tool('company_name')\n",
    "\tdef get_company_name_from_snapshot(self, snapshot):\n",
    "\t\tval = snapshot['ColIDs']['CoID'][1]\n",
    "\t\tassert val['@type'] == 'CompanyName', f'Expected CompanyName in {val}'\n",
    "\t\treturn val['#text']\n",
    "\t@tool('company_name')\n",
    "\tdef get_company_name_from_rec(self, recommendations):\n",
    "\t\treturn recommendations['Company']['CoName']['Name']['#text']\n",
    "\t\n",
    "\t@tool('exchange')\n",
    "\tdef get_exchange_from_snapshot(self, snapshot):\n",
    "\t\tval = snapshot['Issues']['Issue']['Exchange']\n",
    "\t\treturn val['@Code']\n",
    "\t@tool('exchange')\n",
    "\tdef get_exchange_from_rec(self, recommendations):\n",
    "\t\treturn recommendations['Company']['SecurityInfo']['Security']['Exchange']['@code']\n",
    "\t\n",
    "\t@tool('exchange_name')\n",
    "\tdef get_exchange_name(self, snapshot):\n",
    "\t\tval = snapshot['Issues']['Issue']['Exchange']\n",
    "\t\treturn val['#text']\n",
    "\t\n",
    "\t@tool('country')\n",
    "\tdef get_country_code_from_snapshot(self, snapshot):\n",
    "\t\tval = snapshot['Issues']['Issue']['Exchange']\n",
    "\t\treturn val['@Country']\n",
    "\t@tool('country')\n",
    "\tdef get_country_code_from_rec(self, recommendations):\n",
    "\t\tloc = recommendations['Company']['SecurityInfo']['Security']['SecIds']['SecId'][0]\n",
    "\t\tassert loc['@type'] == 'ISIN', f'Expected ISIN in {loc}'\n",
    "\t\treturn loc['#text']\n",
    "\t\n",
    "\t@tool('isin')\n",
    "\tdef get_isin_from_snapshot(self, snapshot):\n",
    "\t\tval = snapshot['Issues']['Issue']['IssueID'][2]\n",
    "\t\tassert val['@Type'] == 'ISIN', f'Expected ISIN in {val}'\n",
    "\t\treturn val['#text']\n",
    "\t@tool('isin')\n",
    "\tdef get_isin_from_rec(self, recommendations):\n",
    "\t\treturn recommendations['Company']['SecurityInfo']['Security']['ISIN']['#text']\n",
    "\t@tool('clprice')\n",
    "\tdef get_clprice(self, recommendations):\n",
    "\t\treturn recommendations['Company']['SecurityInfo']['Security']['@clprice']\n",
    "\t@tool('price')\n",
    "\tdef get_price(self, recommendations):\n",
    "\t\tentry = recommendations['Company']['SecurityInfo']['MarketData']['MarketDataItem'][0]\n",
    "\t\tassert entry['@unit'] == 'U' and entry['@type'] == 'CLPRICE', f'Expected CLPRICE in {entry}'\n",
    "\t\treturn Money(float(entry['#text']), entry['@currCode'])\n",
    "\t@tool('market_cap')\n",
    "\tdef get_market_cap(self, recommendations):\n",
    "\t\tentry = recommendations['Company']['SecurityInfo']['MarketData']['MarketDataItem'][1]\n",
    "\t\tassert entry['@unit'] == 'M' and entry['@type'] == 'MARKETCAP', f'Expected MARKETCAP in {entry}'\n",
    "\t\treturn Money(float(entry['#text']) * 1e6, entry['@currCode'])\n",
    "\t@tool('high_52w')\n",
    "\tdef get_high_52w(self, recommendations):\n",
    "\t\tentry = recommendations['Company']['SecurityInfo']['MarketData']['MarketDataItem'][2]\n",
    "\t\tassert entry['@unit'] == 'U' and entry['@type'] == '52WKHIGH', f'Expected 52WKHIGH in {entry}'\n",
    "\t\treturn Money(float(entry['#text']), entry['@currCode'])\n",
    "\t@tool('low_52w')\n",
    "\tdef get_low_52w(self, recommendations):\n",
    "\t\tentry = recommendations['Company']['SecurityInfo']['MarketData']['MarketDataItem'][3]\n",
    "\t\tassert entry['@unit'] == 'U' and entry['@type'] == '52WKLOW', f'Expected 52WKLOW in {entry}'\n",
    "\t\treturn Money(float(entry['#text']), entry['@currCode'])\n",
    "\t@tool('sector')\n",
    "\tdef get_sector(self, recommendations):\n",
    "\t\treturn recommendations['Company']['CompanyInfo']['Sector']['#text']\n",
    "\t\n",
    "\t@tool('employees')\n",
    "\tdef get_employees(self, snapshot):\n",
    "\t\tval = snapshot['CoGeneralInfo']['Employees']\n",
    "\t\treturn int(val['#text'])\n",
    "\t@tool('employees_date')\n",
    "\tdef get_employees_date(self, snapshot):\n",
    "\t\tval = snapshot['CoGeneralInfo']['Employees']\n",
    "\t\treturn val['@LastUpdated']\n",
    "\t\n",
    "\t@tool('business_summary')\n",
    "\tdef get_company_summary(self, snapshot):\n",
    "\t\tval = snapshot['TextInfo']['Text'][0]\n",
    "\t\tassert val['@Type'] == 'Business Summary', f'Expected Business Summary in {val}'\n",
    "\t\treturn val['#text']\n",
    "\t\n",
    "\t@tool('brief')\n",
    "\tdef get_brief(self, snapshot):\n",
    "\t\tval = snapshot['TextInfo']['Text'][1]\n",
    "\t\tassert val['@Type'] == 'Financial Summary', f'Expected Financial Summary in {val}'\n",
    "\t\treturn val['#text']\n",
    "\t@tool('brief_date')\n",
    "\tdef get_brief_date(self, snapshot):\n",
    "\t\tval = snapshot['TextInfo']['Text'][1]\n",
    "\t\tassert val['@Type'] == 'Financial Summary', f'Expected Financial Summary in {val}'\n",
    "\t\treturn val['@LastModified']\n",
    "\t\n",
    "\t@tool('country_code')\n",
    "\tdef get_country(self, snapshot):\n",
    "\t\tval = snapshot['contactInfo']['country']\n",
    "\t\treturn val['@code']\n",
    "\t@tool('country_name')\n",
    "\tdef get_country_name(self, snapshot):\n",
    "\t\tval = snapshot['contactInfo']['country']\n",
    "\t\treturn val['#text']\n",
    "\t@tool('city')\n",
    "\tdef get_city(self, snapshot):\n",
    "\t\tval = snapshot['contactInfo']['city']\n",
    "\t\treturn val['#text']\n",
    "\t# skipped address and phone and contact person info and email\n",
    "\t@tool('website')\n",
    "\tdef get_website(self, snapshot):\n",
    "\t\tval = snapshot['webLinks']['webSite']\n",
    "\t\treturn val['#text']\n",
    "\t\n",
    "\t@tool('industry_trbc')\n",
    "\tdef get_industry_trbc(self, snapshot):\n",
    "\t\tfull = snapshot['peerInfo']['IndustryInfo']['Industry']\n",
    "\t\tvals = [row for row in full if row['@type'] == 'TRBC']\n",
    "\t\tassert len(vals) == 1, f'Expected 1 TRBC in {vals}'\n",
    "\t\treturn vals[0]['#text']\n",
    "\t@tool('industry_trbc_code')\n",
    "\tdef get_industry_trbc_code(self, snapshot):\n",
    "\t\tfull = snapshot['peerInfo']['IndustryInfo']['Industry']\n",
    "\t\tvals = [row for row in full if row['@type'] == 'TRBC']\n",
    "\t\tassert len(vals) == 1, f'Expected 1 TRBC in {vals}'\n",
    "\t\treturn vals[0]['@code']\n",
    "\t\n",
    "\t@tool('industry')\n",
    "\t@tool('industry_naics')\n",
    "\tdef get_industry_naics(self, snapshot):\n",
    "\t\tfull = snapshot['peerInfo']['IndustryInfo']['Industry']\n",
    "\t\tvals = [row for row in full if row['@type'] == 'NAICS']\n",
    "\t\tassert len(vals), f'Expected NAICS in {vals}'\n",
    "\t\treturn [v['#text'] for v in vals]\n",
    "\t@tool('industry_naics_code')\n",
    "\tdef get_industry_naics_code(self, snapshot):\n",
    "\t\tfull = snapshot['peerInfo']['IndustryInfo']['Industry']\n",
    "\t\tvals = [row for row in full if row['@type'] == 'NAICS']\n",
    "\t\tassert len(vals), f'Expected NAICS in {vals}'\n",
    "\t\treturn [v['@code'] for v in vals]\n",
    "\t\n",
    "\t@tool('industry_sic')\n",
    "\tdef get_industry_sic(self, snapshot):\n",
    "\t\tfull = snapshot['peerInfo']['IndustryInfo']['Industry']\n",
    "\t\tvals = [row for row in full if row['@type'] == 'SIC']\n",
    "\t\tassert len(vals), f'Expected SIC in {vals}'\n",
    "\t\treturn [v['#text'] for v in vals]\n",
    "\t@tool('industry_sic_code')\n",
    "\tdef get_industry_sic_code(self, snapshot):\n",
    "\t\tfull = snapshot['peerInfo']['IndustryInfo']['Industry']\n",
    "\t\tvals = [row for row in full if row['@type'] == 'SIC']\n",
    "\t\tassert len(vals), f'Expected SIC in {vals}'\n",
    "\t\treturn [v['@code'] for v in vals]"
   ],
   "metadata": {
    "collapsed": false
   },
   "id": "a7d7ad39a819d040"
  },
  {
   "cell_type": "code",
   "execution_count": null,
   "outputs": [],
   "source": [],
   "metadata": {
    "collapsed": false
   },
   "id": "b45847e3f8d2f05e"
  },
  {
   "cell_type": "code",
   "execution_count": null,
   "outputs": [],
   "source": [],
   "metadata": {
    "collapsed": false
   },
   "id": "701c396002207a53"
  },
  {
   "cell_type": "code",
   "execution_count": null,
   "outputs": [],
   "source": [],
   "metadata": {
    "collapsed": false,
    "ExecuteTime": {
     "end_time": "2023-08-29T21:18:07.825577Z",
     "start_time": "2023-08-29T21:18:07.822561700Z"
    }
   },
   "id": "7a6bf2e35c975e8a"
  },
  {
   "cell_type": "code",
   "execution_count": null,
   "outputs": [],
   "source": [],
   "metadata": {
    "collapsed": false
   },
   "id": "6da065f957e36fb7"
  }
 ],
 "metadata": {
  "kernelspec": {
   "display_name": "Python 3",
   "language": "python",
   "name": "python3"
  },
  "language_info": {
   "codemirror_mode": {
    "name": "ipython",
    "version": 2
   },
   "file_extension": ".py",
   "mimetype": "text/x-python",
   "name": "python",
   "nbconvert_exporter": "python",
   "pygments_lexer": "ipython2",
   "version": "2.7.6"
  }
 },
 "nbformat": 4,
 "nbformat_minor": 5
}
