{
 "cells": [
  {
   "cell_type": "code",
   "execution_count": 1,
   "id": "initial_id",
   "metadata": {
    "collapsed": true,
    "ExecuteTime": {
     "end_time": "2023-09-03T23:57:43.019952500Z",
     "start_time": "2023-09-03T23:57:42.048731800Z"
    }
   },
   "outputs": [],
   "source": [
    "import random\n",
    "from collections import Counter\n",
    "import stox\n",
    "# from ib_insync import *\n",
    "from stox.imports import *\n",
    "from stox.ibkr import IB_Extractor, describe_contract, download_reports, IBKR_Loader, IBKR_Stats\n",
    "from tqdm.notebook import tqdm\n",
    "from omnibelt import tqdmd_notebook as tqdmd\n",
    "from stox import misc, yahoo, ibkr\n",
    "from collections import namedtuple\n",
    "from omniply import tool, ToolKit, Context"
   ]
  },
  {
   "cell_type": "code",
   "execution_count": 2,
   "outputs": [
    {
     "data": {
      "text/plain": "272"
     },
     "execution_count": 2,
     "metadata": {},
     "output_type": "execute_result"
    }
   ],
   "source": [
    "symbol_table = stox.load_symbol_table()\n",
    "len(symbol_table)"
   ],
   "metadata": {
    "collapsed": false,
    "ExecuteTime": {
     "end_time": "2023-09-03T23:57:43.155139800Z",
     "start_time": "2023-09-03T23:57:43.013951800Z"
    }
   },
   "id": "b580bd1c33ae0bf7"
  },
  {
   "cell_type": "code",
   "execution_count": 3,
   "outputs": [
    {
     "data": {
      "text/plain": "239"
     },
     "execution_count": 3,
     "metadata": {},
     "output_type": "execute_result"
    }
   ],
   "source": [
    "rows = [(k, v) for k, v in symbol_table.items() if v['currency'] == 'EUR']\n",
    "len(rows)"
   ],
   "metadata": {
    "collapsed": false,
    "ExecuteTime": {
     "end_time": "2023-09-03T23:57:43.156140200Z",
     "start_time": "2023-09-03T23:57:43.147590400Z"
    }
   },
   "id": "231c0c8a4e9a6940"
  },
  {
   "cell_type": "code",
   "execution_count": 4,
   "outputs": [],
   "source": [
    "date = '230829'\n",
    "# date = 'last'"
   ],
   "metadata": {
    "collapsed": false,
    "ExecuteTime": {
     "end_time": "2023-09-03T23:57:43.268088700Z",
     "start_time": "2023-09-03T23:57:43.249043800Z"
    }
   },
   "id": "4c20ba9474b50325"
  },
  {
   "cell_type": "code",
   "execution_count": 5,
   "outputs": [
    {
     "name": "stdout",
     "output_type": "stream",
     "text": [
      "TIT.MI\n"
     ]
    }
   ],
   "source": [
    "yfsym, ibrow = random.choice(rows)\n",
    "gg = Context(IBKR_Loader(date=date, root=misc.ibkr_root()), IBKR_Stats())\n",
    "gg.update(ibrow)\n",
    "gg['ibsym'] = ibrow['symbol']\n",
    "gg['ibid'] = ibrow['conId']\n",
    "gg['yfsym'] = yfsym\n",
    "print(yfsym)"
   ],
   "metadata": {
    "collapsed": false,
    "ExecuteTime": {
     "end_time": "2023-09-03T23:57:44.780880400Z",
     "start_time": "2023-09-03T23:57:44.759904900Z"
    }
   },
   "id": "cb6da46884305a52"
  },
  {
   "cell_type": "code",
   "execution_count": 6,
   "outputs": [
    {
     "data": {
      "text/plain": "Context(conId, currency, exchange, primaryExchange, symbol, ibsym, ibid, yfsym, {recommendations}, {statements}, {finances}, {ownership}, {snapshot}, {ckpt_path}, {ckpt_date}, {industry_sic_code}, {industry_sic}, {industry_naics_code}, {industry}, {industry_naics}, {industry_trbc_code}, {industry_trbc}, {website}, {city}, {country_name}, {country_code}, {brief_date}, {brief}, {business_summary}, {employees_date}, {employees}, {sector}, {low_52w}, {high_52w}, {market_cap}, {price}, {clprice}, {isin}, {country}, {exchange_name}, {company_name})"
     },
     "execution_count": 6,
     "metadata": {},
     "output_type": "execute_result"
    }
   ],
   "source": [
    "gg"
   ],
   "metadata": {
    "collapsed": false,
    "ExecuteTime": {
     "end_time": "2023-09-03T23:57:46.176313700Z",
     "start_time": "2023-09-03T23:57:46.158290100Z"
    }
   },
   "id": "2cbe811509a87109"
  },
  {
   "cell_type": "code",
   "execution_count": 7,
   "outputs": [
    {
     "ename": "KeyError",
     "evalue": "'ColIDs'",
     "output_type": "error",
     "traceback": [
      "\u001B[1;31m---------------------------------------------------------------------------\u001B[0m",
      "\u001B[1;31mKeyError\u001B[0m                                  Traceback (most recent call last)",
      "Cell \u001B[1;32mIn[7], line 1\u001B[0m\n\u001B[1;32m----> 1\u001B[0m \u001B[43mgg\u001B[49m\u001B[43m[\u001B[49m\u001B[38;5;124;43m'\u001B[39;49m\u001B[38;5;124;43mcompany_name\u001B[39;49m\u001B[38;5;124;43m'\u001B[39;49m\u001B[43m]\u001B[49m\n",
      "File \u001B[1;32m~\\OneDrive\\Khan\\research\\data-foundation\\omniply\\core\\abstract.py:80\u001B[0m, in \u001B[0;36mAbstractGig.__getitem__\u001B[1;34m(self, item)\u001B[0m\n\u001B[0;32m     79\u001B[0m \u001B[38;5;28;01mdef\u001B[39;00m \u001B[38;5;21m__getitem__\u001B[39m(\u001B[38;5;28mself\u001B[39m, item):\n\u001B[1;32m---> 80\u001B[0m \t\u001B[38;5;28;01mreturn\u001B[39;00m \u001B[38;5;28;43mself\u001B[39;49m\u001B[38;5;241;43m.\u001B[39;49m\u001B[43mgrab\u001B[49m\u001B[43m(\u001B[49m\u001B[43mitem\u001B[49m\u001B[43m)\u001B[49m\n",
      "File \u001B[1;32m~\\OneDrive\\Khan\\research\\data-foundation\\omniply\\core\\abstract.py:72\u001B[0m, in \u001B[0;36mAbstractGig.grab\u001B[1;34m(self, gizmo, default)\u001B[0m\n\u001B[0;32m     67\u001B[0m \u001B[38;5;250m\u001B[39m\u001B[38;5;124;03m'''\u001B[39;00m\n\u001B[0;32m     68\u001B[0m \u001B[38;5;124;03mconvenience function for grab_from to match dict.get api\u001B[39;00m\n\u001B[0;32m     69\u001B[0m \u001B[38;5;124;03mreturns the given gizmo from this gadget, or raises ToolFailedError\u001B[39;00m\n\u001B[0;32m     70\u001B[0m \u001B[38;5;124;03m'''\u001B[39;00m\n\u001B[0;32m     71\u001B[0m \u001B[38;5;28;01mtry\u001B[39;00m:\n\u001B[1;32m---> 72\u001B[0m \t\u001B[38;5;28;01mreturn\u001B[39;00m \u001B[38;5;28;43mself\u001B[39;49m\u001B[38;5;241;43m.\u001B[39;49m\u001B[43mgrab_from\u001B[49m\u001B[43m(\u001B[49m\u001B[38;5;28;43;01mNone\u001B[39;49;00m\u001B[43m,\u001B[49m\u001B[43m \u001B[49m\u001B[43mgizmo\u001B[49m\u001B[43m)\u001B[49m\n\u001B[0;32m     73\u001B[0m \u001B[38;5;28;01mexcept\u001B[39;00m AbstractGadgetFailedError:\n\u001B[0;32m     74\u001B[0m \t\u001B[38;5;28;01mif\u001B[39;00m default \u001B[38;5;129;01mis\u001B[39;00m unspecified_argument:\n",
      "File \u001B[1;32m~\\OneDrive\\Khan\\research\\data-foundation\\omniply\\core\\gigs.py:61\u001B[0m, in \u001B[0;36mCacheGig.grab_from\u001B[1;34m(self, ctx, gizmo)\u001B[0m\n\u001B[0;32m     59\u001B[0m \u001B[38;5;28;01mif\u001B[39;00m \u001B[38;5;28mself\u001B[39m\u001B[38;5;241m.\u001B[39mis_cached(gizmo):\n\u001B[0;32m     60\u001B[0m \t\u001B[38;5;28;01mreturn\u001B[39;00m \u001B[38;5;28mself\u001B[39m\u001B[38;5;241m.\u001B[39mdata[gizmo]\n\u001B[1;32m---> 61\u001B[0m val \u001B[38;5;241m=\u001B[39m \u001B[38;5;28;43msuper\u001B[39;49m\u001B[43m(\u001B[49m\u001B[43m)\u001B[49m\u001B[38;5;241;43m.\u001B[39;49m\u001B[43mgrab_from\u001B[49m\u001B[43m(\u001B[49m\u001B[43mctx\u001B[49m\u001B[43m,\u001B[49m\u001B[43m \u001B[49m\u001B[43mgizmo\u001B[49m\u001B[43m)\u001B[49m\n\u001B[0;32m     62\u001B[0m \u001B[38;5;28mself\u001B[39m\u001B[38;5;241m.\u001B[39mdata[gizmo] \u001B[38;5;241m=\u001B[39m val  \u001B[38;5;66;03m# cache loaded val\u001B[39;00m\n\u001B[0;32m     63\u001B[0m \u001B[38;5;28;01mreturn\u001B[39;00m val\n",
      "File \u001B[1;32m~\\OneDrive\\Khan\\research\\data-foundation\\omniply\\core\\gigs.py:25\u001B[0m, in \u001B[0;36mGigBase.grab_from\u001B[1;34m(self, ctx, gizmo)\u001B[0m\n\u001B[0;32m     23\u001B[0m \u001B[38;5;28;01mdef\u001B[39;00m \u001B[38;5;21mgrab_from\u001B[39m(\u001B[38;5;28mself\u001B[39m, ctx: Optional[AbstractGig], gizmo: \u001B[38;5;28mstr\u001B[39m) \u001B[38;5;241m-\u001B[39m\u001B[38;5;241m>\u001B[39m Any:\n\u001B[0;32m     24\u001B[0m \t\u001B[38;5;28;01mtry\u001B[39;00m:\n\u001B[1;32m---> 25\u001B[0m \t\tout \u001B[38;5;241m=\u001B[39m \u001B[38;5;28;43mself\u001B[39;49m\u001B[38;5;241;43m.\u001B[39;49m\u001B[43m_grab\u001B[49m\u001B[43m(\u001B[49m\u001B[43mgizmo\u001B[49m\u001B[43m)\u001B[49m\n\u001B[0;32m     26\u001B[0m \t\u001B[38;5;28;01mexcept\u001B[39;00m \u001B[38;5;28mself\u001B[39m\u001B[38;5;241m.\u001B[39m_GadgetFailedError \u001B[38;5;28;01mas\u001B[39;00m error:\n\u001B[0;32m     27\u001B[0m \t\tout \u001B[38;5;241m=\u001B[39m \u001B[38;5;28mself\u001B[39m\u001B[38;5;241m.\u001B[39m_grab_from_fallback(error, ctx, gizmo)\n",
      "File \u001B[1;32m~\\OneDrive\\Khan\\research\\data-foundation\\omniply\\core\\gigs.py:20\u001B[0m, in \u001B[0;36mGigBase._grab\u001B[1;34m(self, gizmo)\u001B[0m\n\u001B[0;32m     19\u001B[0m \u001B[38;5;28;01mdef\u001B[39;00m \u001B[38;5;21m_grab\u001B[39m(\u001B[38;5;28mself\u001B[39m, gizmo: \u001B[38;5;28mstr\u001B[39m) \u001B[38;5;241m-\u001B[39m\u001B[38;5;241m>\u001B[39m Any:\n\u001B[1;32m---> 20\u001B[0m \t\u001B[38;5;28;01mreturn\u001B[39;00m \u001B[38;5;28;43msuper\u001B[39;49m\u001B[43m(\u001B[49m\u001B[43m)\u001B[49m\u001B[38;5;241;43m.\u001B[39;49m\u001B[43mgrab_from\u001B[49m\u001B[43m(\u001B[49m\u001B[38;5;28;43mself\u001B[39;49m\u001B[43m,\u001B[49m\u001B[43m \u001B[49m\u001B[43mgizmo\u001B[49m\u001B[43m)\u001B[49m\n",
      "File \u001B[1;32m~\\OneDrive\\Khan\\research\\data-foundation\\omniply\\core\\gaggles.py:85\u001B[0m, in \u001B[0;36mLoopyGaggle.grab_from\u001B[1;34m(self, ctx, gizmo)\u001B[0m\n\u001B[0;32m     83\u001B[0m \u001B[38;5;28;01mfor\u001B[39;00m gadget \u001B[38;5;129;01min\u001B[39;00m itr:\n\u001B[0;32m     84\u001B[0m \t\u001B[38;5;28;01mtry\u001B[39;00m:\n\u001B[1;32m---> 85\u001B[0m \t\tout \u001B[38;5;241m=\u001B[39m \u001B[43mgadget\u001B[49m\u001B[38;5;241;43m.\u001B[39;49m\u001B[43mgrab_from\u001B[49m\u001B[43m(\u001B[49m\u001B[43mctx\u001B[49m\u001B[43m,\u001B[49m\u001B[43m \u001B[49m\u001B[43mgizmo\u001B[49m\u001B[43m)\u001B[49m\n\u001B[0;32m     86\u001B[0m \t\u001B[38;5;28;01mexcept\u001B[39;00m \u001B[38;5;28mself\u001B[39m\u001B[38;5;241m.\u001B[39m_GadgetFailedError \u001B[38;5;28;01mas\u001B[39;00m e:\n\u001B[0;32m     87\u001B[0m \t\tfailures[e] \u001B[38;5;241m=\u001B[39m gadget\n",
      "File \u001B[1;32m~\\OneDrive\\Khan\\research\\data-foundation\\omniply\\core\\gadgets.py:74\u001B[0m, in \u001B[0;36mAutoFunctionGadget.grab_from\u001B[1;34m(self, ctx, gizmo)\u001B[0m\n\u001B[0;32m     71\u001B[0m \t\u001B[38;5;28;01mraise\u001B[39;00m \u001B[38;5;28mself\u001B[39m\u001B[38;5;241m.\u001B[39m_MissingGizmoError(gizmo)\n\u001B[0;32m     73\u001B[0m args, kwargs \u001B[38;5;241m=\u001B[39m \u001B[38;5;28mself\u001B[39m\u001B[38;5;241m.\u001B[39m_extract_gizmo_args(\u001B[38;5;28mself\u001B[39m\u001B[38;5;241m.\u001B[39m_fn, ctx)\n\u001B[1;32m---> 74\u001B[0m \u001B[38;5;28;01mreturn\u001B[39;00m \u001B[38;5;28;43mself\u001B[39;49m\u001B[38;5;241;43m.\u001B[39;49m\u001B[43m_fn\u001B[49m\u001B[43m(\u001B[49m\u001B[38;5;241;43m*\u001B[39;49m\u001B[43margs\u001B[49m\u001B[43m,\u001B[49m\u001B[43m \u001B[49m\u001B[38;5;241;43m*\u001B[39;49m\u001B[38;5;241;43m*\u001B[39;49m\u001B[43mkwargs\u001B[49m\u001B[43m)\u001B[49m\n",
      "File \u001B[1;32m~\\OneDrive\\Khan\\projects\\stox\\stox\\ibkr.py:280\u001B[0m, in \u001B[0;36mIBKR_Stats.get_company_name_from_snapshot\u001B[1;34m(self, snapshot)\u001B[0m\n\u001B[0;32m    278\u001B[0m \u001B[38;5;129m@tool\u001B[39m(\u001B[38;5;124m'\u001B[39m\u001B[38;5;124mcompany_name\u001B[39m\u001B[38;5;124m'\u001B[39m)\n\u001B[0;32m    279\u001B[0m \u001B[38;5;28;01mdef\u001B[39;00m \u001B[38;5;21mget_company_name_from_snapshot\u001B[39m(\u001B[38;5;28mself\u001B[39m, snapshot):\n\u001B[1;32m--> 280\u001B[0m \tval \u001B[38;5;241m=\u001B[39m \u001B[43msnapshot\u001B[49m\u001B[43m[\u001B[49m\u001B[38;5;124;43m'\u001B[39;49m\u001B[38;5;124;43mColIDs\u001B[39;49m\u001B[38;5;124;43m'\u001B[39;49m\u001B[43m]\u001B[49m[\u001B[38;5;124m'\u001B[39m\u001B[38;5;124mCoID\u001B[39m\u001B[38;5;124m'\u001B[39m][\u001B[38;5;241m1\u001B[39m]\n\u001B[0;32m    281\u001B[0m \t\u001B[38;5;28;01massert\u001B[39;00m val[\u001B[38;5;124m'\u001B[39m\u001B[38;5;124m@type\u001B[39m\u001B[38;5;124m'\u001B[39m] \u001B[38;5;241m==\u001B[39m \u001B[38;5;124m'\u001B[39m\u001B[38;5;124mCompanyName\u001B[39m\u001B[38;5;124m'\u001B[39m, \u001B[38;5;124mf\u001B[39m\u001B[38;5;124m'\u001B[39m\u001B[38;5;124mExpected CompanyName in \u001B[39m\u001B[38;5;132;01m{\u001B[39;00mval\u001B[38;5;132;01m}\u001B[39;00m\u001B[38;5;124m'\u001B[39m\n\u001B[0;32m    282\u001B[0m \t\u001B[38;5;28;01mreturn\u001B[39;00m val[\u001B[38;5;124m'\u001B[39m\u001B[38;5;124m#text\u001B[39m\u001B[38;5;124m'\u001B[39m]\n",
      "\u001B[1;31mKeyError\u001B[0m: 'ColIDs'"
     ]
    }
   ],
   "source": [
    "gg['company_name']"
   ],
   "metadata": {
    "collapsed": false,
    "ExecuteTime": {
     "end_time": "2023-09-03T23:57:47.934270100Z",
     "start_time": "2023-09-03T23:57:47.406157500Z"
    }
   },
   "id": "d93bd741ee416d33"
  },
  {
   "cell_type": "code",
   "execution_count": 14,
   "outputs": [
    {
     "data": {
      "text/plain": "'NL0000395903'"
     },
     "execution_count": 14,
     "metadata": {},
     "output_type": "execute_result"
    }
   ],
   "source": [
    "gg['country']"
   ],
   "metadata": {
    "collapsed": false,
    "ExecuteTime": {
     "end_time": "2023-09-03T23:37:02.102510200Z",
     "start_time": "2023-09-03T23:36:49.552192200Z"
    }
   },
   "id": "72e5d1e43664d956"
  },
  {
   "cell_type": "code",
   "execution_count": null,
   "outputs": [],
   "source": [],
   "metadata": {
    "collapsed": false
   },
   "id": "b45847e3f8d2f05e"
  },
  {
   "cell_type": "code",
   "execution_count": null,
   "outputs": [],
   "source": [],
   "metadata": {
    "collapsed": false
   },
   "id": "701c396002207a53"
  },
  {
   "cell_type": "code",
   "execution_count": null,
   "outputs": [],
   "source": [],
   "metadata": {
    "collapsed": false,
    "ExecuteTime": {
     "end_time": "2023-08-29T21:18:07.825577Z",
     "start_time": "2023-08-29T21:18:07.822561700Z"
    }
   },
   "id": "7a6bf2e35c975e8a"
  },
  {
   "cell_type": "code",
   "execution_count": null,
   "outputs": [],
   "source": [],
   "metadata": {
    "collapsed": false
   },
   "id": "6da065f957e36fb7"
  }
 ],
 "metadata": {
  "kernelspec": {
   "display_name": "Python 3",
   "language": "python",
   "name": "python3"
  },
  "language_info": {
   "codemirror_mode": {
    "name": "ipython",
    "version": 2
   },
   "file_extension": ".py",
   "mimetype": "text/x-python",
   "name": "python",
   "nbconvert_exporter": "python",
   "pygments_lexer": "ipython2",
   "version": "2.7.6"
  }
 },
 "nbformat": 4,
 "nbformat_minor": 5
}
