{
 "cells": [
  {
   "cell_type": "code",
   "execution_count": 10,
   "id": "initial_id",
   "metadata": {
    "collapsed": true,
    "ExecuteTime": {
     "end_time": "2023-08-29T23:11:19.824080900Z",
     "start_time": "2023-08-29T23:11:19.813073300Z"
    }
   },
   "outputs": [],
   "source": [
    "import random\n",
    "from collections import Counter\n",
    "import stox\n",
    "# from ib_insync import *\n",
    "from stox.imports import *\n",
    "from stox.api import IB_Extractor, describe_contract, download_reports\n",
    "from tqdm.notebook import tqdm\n",
    "from omnibelt import tqdmd_notebook as tqdmd\n",
    "from stox import misc, yahoo\n",
    "from collections import namedtuple\n",
    "from omniply.novo.test_novo import TestCraftyKitBase, tool"
   ]
  },
  {
   "cell_type": "code",
   "execution_count": 2,
   "outputs": [
    {
     "data": {
      "text/plain": "272"
     },
     "execution_count": 2,
     "metadata": {},
     "output_type": "execute_result"
    }
   ],
   "source": [
    "symbol_table = stox.load_symbol_table()\n",
    "len(symbol_table)"
   ],
   "metadata": {
    "collapsed": false,
    "ExecuteTime": {
     "end_time": "2023-08-29T23:08:47.367568200Z",
     "start_time": "2023-08-29T23:08:47.231929700Z"
    }
   },
   "id": "b580bd1c33ae0bf7"
  },
  {
   "cell_type": "code",
   "execution_count": 4,
   "outputs": [
    {
     "data": {
      "text/plain": "239"
     },
     "execution_count": 4,
     "metadata": {},
     "output_type": "execute_result"
    }
   ],
   "source": [
    "rows = [(k, v) for k, v in symbol_table.items() if v['currency'] == 'EUR']\n",
    "len(rows)"
   ],
   "metadata": {
    "collapsed": false,
    "ExecuteTime": {
     "end_time": "2023-08-29T23:08:50.124231400Z",
     "start_time": "2023-08-29T23:08:50.115022900Z"
    }
   },
   "id": "231c0c8a4e9a6940"
  },
  {
   "cell_type": "code",
   "execution_count": 5,
   "outputs": [],
   "source": [
    "date = '230829'\n",
    "# date = 'last'"
   ],
   "metadata": {
    "collapsed": false,
    "ExecuteTime": {
     "end_time": "2023-08-29T23:08:51.312356300Z",
     "start_time": "2023-08-29T23:08:51.310339300Z"
    }
   },
   "id": "4c20ba9474b50325"
  },
  {
   "cell_type": "code",
   "execution_count": 6,
   "outputs": [],
   "source": [
    "# ibe = IB_Extractor(True,client_id=2)"
   ],
   "metadata": {
    "collapsed": false,
    "ExecuteTime": {
     "end_time": "2023-08-29T23:08:54.789661100Z",
     "start_time": "2023-08-29T23:08:54.779148900Z"
    }
   },
   "id": "8b5f0447b7bd838b"
  },
  {
   "cell_type": "code",
   "execution_count": 7,
   "outputs": [
    {
     "name": "stdout",
     "output_type": "stream",
     "text": [
      "PHIA.AS\n"
     ]
    }
   ],
   "source": [
    "yfsym, ibrow = random.choice(rows)\n",
    "print(yfsym)"
   ],
   "metadata": {
    "collapsed": false,
    "ExecuteTime": {
     "end_time": "2023-08-29T23:08:55.434426600Z",
     "start_time": "2023-08-29T23:08:55.422375200Z"
    }
   },
   "id": "cb6da46884305a52"
  },
  {
   "cell_type": "code",
   "execution_count": 8,
   "outputs": [
    {
     "data": {
      "text/plain": "dict_keys(['ReportSnapshot', 'OwnershipDetails', 'FinancialSummary', 'ReportFinancialStatements', 'REarnEstCons'])"
     },
     "execution_count": 8,
     "metadata": {},
     "output_type": "execute_result"
    }
   ],
   "source": [
    "data = stox.load_stock_data(ibrow, date=date, root=None)\n",
    "data.keys()"
   ],
   "metadata": {
    "collapsed": false,
    "ExecuteTime": {
     "end_time": "2023-08-29T23:09:00.865075800Z",
     "start_time": "2023-08-29T23:09:00.658961500Z"
    }
   },
   "id": "b8e070ddafc1703c"
  },
  {
   "cell_type": "code",
   "execution_count": null,
   "outputs": [],
   "source": [
    "Money = namedtuple('Money', 'amount currency')\n",
    "\n",
    "class IBKR_Loader(TestCraftyKitBase):\n",
    "\tdef __init__(self, date='last', root=None):\n",
    "\t\tsuper().__init__()\n",
    "\t\tif root is None:\n",
    "\t\t\troot = misc.ibkr_root()\n",
    "\t\tself.root = root\n",
    "\t\tself.date = date\n",
    "\t\n",
    "\t@tool('ckpt_date')\n",
    "\tdef get_ckpt_date(self, conId):\n",
    "\t\tpath = misc.get_date_path(self.root / str(conId), self.date)\n",
    "\t\treturn path.name\n",
    "\n",
    "\t@tool('ckpt_path')\n",
    "\tdef get_ckpt_path(self, conId, ckpt_date):\n",
    "\t\treturn misc.get_date_path(self.root / str(conId), ckpt_date)\n",
    "\n",
    "\tdef _load_xml(self, path):\n",
    "\t\twith open(path, 'r') as f:\n",
    "\t\t\treturn xmltodict.parse(f.read())\n",
    "\n",
    "\t@tool('snapshot')\n",
    "\tdef load_snapshot(self, ckpt_path):\n",
    "\t\treturn self._load_xml(ckpt_path / 'snapshot.xml')\n",
    "\t\t\n",
    "\t@tool('ownership')\n",
    "\tdef load_ownership(self, ckpt_path):\n",
    "\t\treturn self._load_xml(ckpt_path / 'ownership.xml')\n",
    "\t\t\n",
    "\t@tool('finances')\n",
    "\tdef load_finances(self, ckpt_path):\n",
    "\t\treturn self._load_xml(ckpt_path / 'finances.xml')\n",
    "\t\n",
    "\t@tool('statements')\n",
    "\tdef load_statements(self, ckpt_path):\n",
    "\t\treturn self._load_xml(ckpt_path / 'statements.xml')\n",
    "\t\t\n",
    "\t@tool('recommendations')\n",
    "\tdef load_recommendations(self, ckpt_path):\n",
    "\t\treturn self._load_xml(ckpt_path / 'recommendations.xml')\n",
    "\t\t\n",
    "\n",
    "class IBKR_Stats(TestCraftyKitBase):\n",
    "\t@tool('company_name')\n",
    "\tdef get_company_name_from_snapshot(self, snapshot):\n",
    "\t\tval = snapshot['ColIDs']['CoID'][1]\n",
    "\t\tassert val['@type'] == 'CompanyName', f'Expected CompanyName in {val}'\n",
    "\t\treturn val['#text']\n",
    "\t@tool('company_name')\n",
    "\tdef get_company_name_from_rec(self, recommendations):\n",
    "\t\treturn recommendations['Company']['CoName']['Name']['#text']\n",
    "\t\n",
    "\t@tool('exchange')\n",
    "\tdef get_exchange_from_snapshot(self, snapshot):\n",
    "\t\tval = snapshot['Issues']['Issue']['Exchange']\n",
    "\t\treturn val['@Code']\n",
    "\t@tool('exchange')\n",
    "\tdef get_exchange_from_rec(self, recommendations):\n",
    "\t\treturn recommendations['Company']['SecurityInfo']['Security']['Exchange']['@code']\n",
    "\t\n",
    "\t@tool('exchange_name')\n",
    "\tdef get_exchange_name(self, snapshot):\n",
    "\t\tval = snapshot['Issues']['Issue']['Exchange']\n",
    "\t\treturn val['#text']\n",
    "\t\n",
    "\t@tool('country')\n",
    "\tdef get_country_code_from_snapshot(self, snapshot):\n",
    "\t\tval = snapshot['Issues']['Issue']['Exchange']\n",
    "\t\treturn val['@Country']\n",
    "\t@tool('country')\n",
    "\tdef get_country_code_from_rec(self, recommendations):\n",
    "\t\tloc = recommendations['Company']['SecurityInfo']['Security']['SecIds']['SecId'][0]\n",
    "\t\tassert loc['@type'] == 'ISIN', f'Expected ISIN in {loc}'\n",
    "\t\treturn loc['#text']\n",
    "\t\n",
    "\t@tool('isin')\n",
    "\tdef get_isin_from_snapshot(self, snapshot):\n",
    "\t\tval = snapshot['Issues']['Issue']['IssueID'][2]\n",
    "\t\tassert val['@Type'] == 'ISIN', f'Expected ISIN in {val}'\n",
    "\t\treturn val['#text']\n",
    "\t@tool('isin')\n",
    "\tdef get_isin_from_rec(self, recommendations):\n",
    "\t\treturn recommendations['Company']['SecurityInfo']['Security']['ISIN']['#text']\n",
    "\t@tool('clprice')\n",
    "\tdef get_clprice(self, recommendations):\n",
    "\t\treturn recommendations['Company']['SecurityInfo']['Security']['@clprice']\n",
    "\t@tool('price')\n",
    "\tdef get_price(self, recommendations):\n",
    "\t\tentry = recommendations['Company']['SecurityInfo']['MarketData']['MarketDataItem'][0]\n",
    "\t\tassert entry['@unit'] == 'U' and entry['@type'] == 'CLPRICE', f'Expected CLPRICE in {entry}'\n",
    "\t\treturn Money(float(entry['#text']), entry['@currCode'])\n",
    "\t@tool('market_cap')\n",
    "\tdef get_market_cap(self, recommendations):\n",
    "\t\tentry = recommendations['Company']['SecurityInfo']['MarketData']['MarketDataItem'][1]\n",
    "\t\tassert entry['@unit'] == 'M' and entry['@type'] == 'MARKETCAP', f'Expected MARKETCAP in {entry}'\n",
    "\t\treturn Money(float(entry['#text']) * 1e6, entry['@currCode'])\n",
    "\t@tool('high_52w')\n",
    "\tdef get_high_52w(self, recommendations):\n",
    "\t\tentry = recommendations['Company']['SecurityInfo']['MarketData']['MarketDataItem'][2]\n",
    "\t\tassert entry['@unit'] == 'U' and entry['@type'] == '52WKHIGH', f'Expected 52WKHIGH in {entry}'\n",
    "\t\treturn Money(float(entry['#text']), entry['@currCode'])\n",
    "\t@tool('low_52w')\n",
    "\tdef get_low_52w(self, recommendations):\n",
    "\t\tentry = recommendations['Company']['SecurityInfo']['MarketData']['MarketDataItem'][3]\n",
    "\t\tassert entry['@unit'] == 'U' and entry['@type'] == '52WKLOW', f'Expected 52WKLOW in {entry}'\n",
    "\t\treturn Money(float(entry['#text']), entry['@currCode'])\n",
    "\t@tool('sector')\n",
    "\tdef get_sector(self, recommendations):\n",
    "\t\treturn recommendations['Company']['CompanyInfo']['Sector']['#text']\n",
    "\t\n",
    "\t@tool('employees')\n",
    "\tdef get_employees(self, snapshot):\n",
    "\t\tval = snapshot['CoGeneralInfo']['Employees']\n",
    "\t\treturn int(val['#text'])\n",
    "\t@tool('employees_date')\n",
    "\tdef get_employees_date(self, snapshot):\n",
    "\t\tval = snapshot['CoGeneralInfo']['Employees']\n",
    "\t\treturn val['@LastUpdated']\n",
    "\t\n",
    "\t@tool('business_summary')\n",
    "\tdef get_company_summary(self, snapshot):\n",
    "\t\tval = snapshot['TextInfo']['Text'][0]\n",
    "\t\tassert val['@Type'] == 'Business Summary', f'Expected Business Summary in {val}'\n",
    "\t\treturn val['#text']\n",
    "\t\n",
    "\t@tool('brief')\n",
    "\tdef get_brief(self, snapshot):\n",
    "\t\tval = snapshot['TextInfo']['Text'][1]\n",
    "\t\tassert val['@Type'] == 'Financial Summary', f'Expected Financial Summary in {val}'\n",
    "\t\treturn val['#text']\n",
    "\t@tool('brief_date')\n",
    "\tdef get_brief_date(self, snapshot):\n",
    "\t\tval = snapshot['TextInfo']['Text'][1]\n",
    "\t\tassert val['@Type'] == 'Financial Summary', f'Expected Financial Summary in {val}'\n",
    "\t\treturn val['@LastModified']\n",
    "\t\n",
    "\t@tool('country_code')\n",
    "\tdef get_country(self, snapshot):\n",
    "\t\tval = snapshot['contactInfo']['country']\n",
    "\t\treturn val['@code']\n",
    "\t@tool('country_name')\n",
    "\tdef get_country_name(self, snapshot):\n",
    "\t\tval = snapshot['contactInfo']['country']\n",
    "\t\treturn val['#text']\n",
    "\t@tool('city')\n",
    "\tdef get_city(self, snapshot):\n",
    "\t\tval = snapshot['contactInfo']['city']\n",
    "\t\treturn val['#text']\n",
    "\t# skipped address and phone and contact person info and email\n",
    "\t@tool('website')\n",
    "\tdef get_website(self, snapshot):\n",
    "\t\tval = snapshot['webLinks']['webSite']\n",
    "\t\treturn val['#text']\n",
    "\t\n",
    "\t@tool('industry_trbc')\n",
    "\tdef get_industry_trbc(self, snapshot):\n",
    "\t\tfull = snapshot['peerInfo']['IndustryInfo']['Industry']\n",
    "\t\tvals = [row for row in full if row['@type'] == 'TRBC']\n",
    "\t\tassert len(vals) == 1, f'Expected 1 TRBC in {vals}'\n",
    "\t\treturn vals[0]['#text']\n",
    "\t@tool('industry_trbc_code')\n",
    "\tdef get_industry_trbc_code(self, snapshot):\n",
    "\t\tfull = snapshot['peerInfo']['IndustryInfo']['Industry']\n",
    "\t\tvals = [row for row in full if row['@type'] == 'TRBC']\n",
    "\t\tassert len(vals) == 1, f'Expected 1 TRBC in {vals}'\n",
    "\t\treturn vals[0]['@code']\n",
    "\t\n",
    "\t@tool('industry')\n",
    "\t@tool('industry_naics')\n",
    "\tdef get_industry_naics(self, snapshot):\n",
    "\t\tfull = snapshot['peerInfo']['IndustryInfo']['Industry']\n",
    "\t\tvals = [row for row in full if row['@type'] == 'NAICS']\n",
    "\t\tassert len(vals), f'Expected NAICS in {vals}'\n",
    "\t\treturn [v['#text'] for v in vals]\n",
    "\t@tool('industry_naics_code')\n",
    "\tdef get_industry_naics_code(self, snapshot):\n",
    "\t\tfull = snapshot['peerInfo']['IndustryInfo']['Industry']\n",
    "\t\tvals = [row for row in full if row['@type'] == 'NAICS']\n",
    "\t\tassert len(vals), f'Expected NAICS in {vals}'\n",
    "\t\treturn [v['@code'] for v in vals]\n",
    "\t\n",
    "\t@tool('industry_sic')\n",
    "\tdef get_industry_sic(self, snapshot):\n",
    "\t\tfull = snapshot['peerInfo']['IndustryInfo']['Industry']\n",
    "\t\tvals = [row for row in full if row['@type'] == 'SIC']\n",
    "\t\tassert len(vals), f'Expected SIC in {vals}'\n",
    "\t\treturn [v['#text'] for v in vals]\n",
    "\t@tool('industry_sic_code')\n",
    "\tdef get_industry_sic_code(self, snapshot):\n",
    "\t\tfull = snapshot['peerInfo']['IndustryInfo']['Industry']\n",
    "\t\tvals = [row for row in full if row['@type'] == 'SIC']\n",
    "\t\tassert len(vals), f'Expected SIC in {vals}'\n",
    "\t\treturn [v['@code'] for v in vals]"
   ],
   "metadata": {
    "collapsed": false
   },
   "id": "a7d7ad39a819d040"
  },
  {
   "cell_type": "code",
   "execution_count": null,
   "outputs": [],
   "source": [],
   "metadata": {
    "collapsed": false
   },
   "id": "b45847e3f8d2f05e"
  },
  {
   "cell_type": "code",
   "execution_count": null,
   "outputs": [],
   "source": [],
   "metadata": {
    "collapsed": false
   },
   "id": "701c396002207a53"
  },
  {
   "cell_type": "code",
   "execution_count": null,
   "outputs": [],
   "source": [],
   "metadata": {
    "collapsed": false,
    "ExecuteTime": {
     "end_time": "2023-08-29T21:18:07.825577Z",
     "start_time": "2023-08-29T21:18:07.822561700Z"
    }
   },
   "id": "7a6bf2e35c975e8a"
  },
  {
   "cell_type": "code",
   "execution_count": null,
   "outputs": [],
   "source": [],
   "metadata": {
    "collapsed": false
   },
   "id": "6da065f957e36fb7"
  }
 ],
 "metadata": {
  "kernelspec": {
   "display_name": "Python 3",
   "language": "python",
   "name": "python3"
  },
  "language_info": {
   "codemirror_mode": {
    "name": "ipython",
    "version": 2
   },
   "file_extension": ".py",
   "mimetype": "text/x-python",
   "name": "python",
   "nbconvert_exporter": "python",
   "pygments_lexer": "ipython2",
   "version": "2.7.6"
  }
 },
 "nbformat": 4,
 "nbformat_minor": 5
}
