{
 "cells": [
  {
   "cell_type": "code",
   "execution_count": 1,
   "id": "initial_id",
   "metadata": {
    "collapsed": true,
    "ExecuteTime": {
     "end_time": "2023-09-05T12:35:05.752796200Z",
     "start_time": "2023-09-05T12:35:00.594881200Z"
    }
   },
   "outputs": [],
   "source": [
    "import random\n",
    "from collections import Counter\n",
    "import stox\n",
    "# from ib_insync import *\n",
    "from stox.imports import *\n",
    "from stox.ibkr import IB_Extractor, describe_contract, download_reports, IBKR_Loader, IBKR_Stats, IBKR_Derived\n",
    "from stox.yahoo import Yahoo_Loader, Yahoo_Info\n",
    "from tqdm.notebook import tqdm\n",
    "from omnibelt import tqdmd_notebook as tqdmd\n",
    "from stox import misc, yahoo, ibkr\n",
    "from collections import namedtuple\n",
    "from omniply import tool, ToolKit, Context, Scope, Selection"
   ]
  },
  {
   "cell_type": "code",
   "execution_count": 2,
   "outputs": [
    {
     "data": {
      "text/plain": "272"
     },
     "execution_count": 2,
     "metadata": {},
     "output_type": "execute_result"
    }
   ],
   "source": [
    "symbol_table = stox.load_symbol_table()\n",
    "len(symbol_table)"
   ],
   "metadata": {
    "collapsed": false,
    "ExecuteTime": {
     "end_time": "2023-09-05T12:35:06.088468100Z",
     "start_time": "2023-09-05T12:35:05.753900100Z"
    }
   },
   "id": "b580bd1c33ae0bf7"
  },
  {
   "cell_type": "code",
   "execution_count": 3,
   "outputs": [
    {
     "data": {
      "text/plain": "239"
     },
     "execution_count": 3,
     "metadata": {},
     "output_type": "execute_result"
    }
   ],
   "source": [
    "rows = [(k, v) for k, v in symbol_table.items() if v['currency'] == 'EUR']\n",
    "def from_yfsym(yfsym):\n",
    "\treturn yfsym, [v for k, v in rows if k == yfsym][0]\n",
    "def from_ibsym(ibsym):\n",
    "\treturn [(k,v) for k, v in rows if v['symbol'] == ibsym][0]\n",
    "len(rows)"
   ],
   "metadata": {
    "collapsed": false,
    "ExecuteTime": {
     "end_time": "2023-09-05T12:35:06.173585600Z",
     "start_time": "2023-09-05T12:35:06.060737100Z"
    }
   },
   "id": "231c0c8a4e9a6940"
  },
  {
   "cell_type": "code",
   "execution_count": 4,
   "outputs": [],
   "source": [
    "date = '230829'\n",
    "# date = 'last'"
   ],
   "metadata": {
    "collapsed": false,
    "ExecuteTime": {
     "end_time": "2023-09-05T12:35:06.214118Z",
     "start_time": "2023-09-05T12:35:06.085187900Z"
    }
   },
   "id": "4c20ba9474b50325"
  },
  {
   "cell_type": "code",
   "execution_count": 5,
   "outputs": [
    {
     "name": "stdout",
     "output_type": "stream",
     "text": [
      "EUROB.AT\n"
     ]
    }
   ],
   "source": [
    "yfsym, ibrow = random.choice(rows)\n",
    "\n",
    "yfsym, ibrow = from_yfsym('EUROB.AT')\n",
    "# yfsym, ibrow = from_ibsym('LHA')\n",
    "\n",
    "gg = Context(\n",
    "\tScope(IBKR_Derived(), IBKR_Stats(), IBKR_Loader(root=misc.ibkr_root()),\n",
    "\t\t  gap={\n",
    "\t\t\t  'ckpt_path': 'ib_ckpt_path',\n",
    "\t\t  }),\n",
    "\tSelection(Yahoo_Info(), Yahoo_Loader(root=misc.yahoo_root()),\n",
    "\t\t  gap={\n",
    "\t\t\t  'ckpt_path': 'yahoo_ckpt_path',\n",
    "\t\t\t  'ticker': 'yfsym',\n",
    "\t\t\t  \n",
    "\t\t\t  'info': 'info',\n",
    "\t\t\t\t  'splits': 'splits',\n",
    "\n",
    "\t\t\t  'recommendation_mean': 'recommendation_mean',\n",
    "\t\t\t  'recommendation_key': 'recommendation_key',\n",
    "\t\t\t  'number_of_analysts': 'number_of_analysts',\n",
    "\t\t\t  'target_mean_price': 'target_mean_price',\n",
    "\t\t\t  'target_high_price': 'target_high_price',\n",
    "\t\t\t  'target_low_price': 'target_low_price',\n",
    "\t\t\t  'target_median_price': 'target_median_price',\n",
    "\t\t\t  \n",
    "\t\t\t  'isin': 'yf_isin',\n",
    "\t\t  }),\n",
    ")\n",
    "gg.update(ibrow)\n",
    "gg['date'] = date\n",
    "gg['ibsym'] = ibrow['symbol']\n",
    "gg['ibid'] = ibrow['conId']\n",
    "gg['yfsym'] = yfsym\n",
    "print(yfsym)"
   ],
   "metadata": {
    "collapsed": false,
    "ExecuteTime": {
     "end_time": "2023-09-05T12:35:06.216119300Z",
     "start_time": "2023-09-05T12:35:06.106995600Z"
    }
   },
   "id": "cb6da46884305a52"
  },
  {
   "cell_type": "code",
   "execution_count": 6,
   "outputs": [
    {
     "data": {
      "text/plain": "Context(conId, currency, exchange, primaryExchange, symbol, date, ibsym, ibid, yfsym, {sector}, {company_name}, {exchange_name}, {country}, {isin}, {price}, {market_cap}, {high_52w}, {low_52w}, {employees}, {employees_date}, {business_summary}, {brief}, {brief_date}, {country_code}, {country_name}, {city}, {website}, {industry_trbc}, {industry}, {industry_trbc_code}, {industry_naics}, {industry_naics_code}, {industry_sic}, {industry_sic_code}, {ib_ckpt_path}, {snapshot}, {ownership}, {finances}, {statements}, {recommendations}, {recommendation_mean}, {recommendation_key}, {number_of_analysts}, {target_mean_price}, {target_high_price}, {target_low_price}, {target_median_price}, {yahoo_ckpt_path}, {info}, {splits}, {yf_isin})"
     },
     "execution_count": 6,
     "metadata": {},
     "output_type": "execute_result"
    }
   ],
   "source": [
    "gg"
   ],
   "metadata": {
    "collapsed": false,
    "ExecuteTime": {
     "end_time": "2023-09-05T12:35:06.217120200Z",
     "start_time": "2023-09-05T12:35:06.138834100Z"
    }
   },
   "id": "2cbe811509a87109"
  },
  {
   "cell_type": "code",
   "execution_count": 7,
   "outputs": [
    {
     "name": "stdout",
     "output_type": "stream",
     "text": [
      "Eurobank Ergasias Services and Hldngs SA  ::  EUROB.AT  ::  EUROB\n"
     ]
    },
    {
     "ename": "AssemblyError",
     "evalue": "'price' due to 1 failures: 'price' due to 1 failures: No price",
     "output_type": "error",
     "traceback": [
      "\u001B[1;31m---------------------------------------------------------------------------\u001B[0m",
      "\u001B[1;31mAssemblyError\u001B[0m                             Traceback (most recent call last)",
      "    \u001B[1;31m[... skipping hidden 1 frame]\u001B[0m\n",
      "Cell \u001B[1;32mIn[7], line 2\u001B[0m\n\u001B[0;32m      1\u001B[0m \u001B[38;5;28mprint\u001B[39m(\u001B[38;5;124mf\u001B[39m\u001B[38;5;124m'\u001B[39m\u001B[38;5;132;01m{\u001B[39;00mgg[\u001B[38;5;124m\"\u001B[39m\u001B[38;5;124mcompany_name\u001B[39m\u001B[38;5;124m\"\u001B[39m]\u001B[38;5;132;01m}\u001B[39;00m\u001B[38;5;124m  ::  \u001B[39m\u001B[38;5;132;01m{\u001B[39;00mgg[\u001B[38;5;124m\"\u001B[39m\u001B[38;5;124myfsym\u001B[39m\u001B[38;5;124m\"\u001B[39m]\u001B[38;5;132;01m}\u001B[39;00m\u001B[38;5;124m  ::  \u001B[39m\u001B[38;5;132;01m{\u001B[39;00mgg[\u001B[38;5;124m\"\u001B[39m\u001B[38;5;124mibsym\u001B[39m\u001B[38;5;124m\"\u001B[39m]\u001B[38;5;132;01m}\u001B[39;00m\u001B[38;5;124m'\u001B[39m)\n\u001B[1;32m----> 2\u001B[0m \u001B[38;5;28mprint\u001B[39m(\u001B[38;5;124mf\u001B[39m\u001B[38;5;124m'\u001B[39m\u001B[38;5;124mPrice: \u001B[39m\u001B[38;5;132;01m{\u001B[39;00m\u001B[43mgg\u001B[49m\u001B[43m[\u001B[49m\u001B[38;5;124;43m\"\u001B[39;49m\u001B[38;5;124;43mprice\u001B[39;49m\u001B[38;5;124;43m\"\u001B[39;49m\u001B[43m]\u001B[49m\u001B[38;5;132;01m}\u001B[39;00m\u001B[38;5;124m (\u001B[39m\u001B[38;5;132;01m{\u001B[39;00mgg[\u001B[38;5;124m\"\u001B[39m\u001B[38;5;124mlow_52w\u001B[39m\u001B[38;5;124m\"\u001B[39m]\u001B[38;5;132;01m}\u001B[39;00m\u001B[38;5;124m - \u001B[39m\u001B[38;5;132;01m{\u001B[39;00mgg[\u001B[38;5;124m\"\u001B[39m\u001B[38;5;124mhigh_52w\u001B[39m\u001B[38;5;124m\"\u001B[39m]\u001B[38;5;132;01m}\u001B[39;00m\u001B[38;5;124m)\u001B[39m\u001B[38;5;124m'\u001B[39m)\n\u001B[0;32m      3\u001B[0m \u001B[38;5;28mprint\u001B[39m()\n",
      "File \u001B[1;32m~\\OneDrive\\Khan\\research\\data-foundation\\omniply\\core\\abstract.py:80\u001B[0m, in \u001B[0;36mAbstractGig.__getitem__\u001B[1;34m(self, item)\u001B[0m\n\u001B[0;32m     79\u001B[0m \u001B[38;5;28;01mdef\u001B[39;00m \u001B[38;5;21m__getitem__\u001B[39m(\u001B[38;5;28mself\u001B[39m, item):\n\u001B[1;32m---> 80\u001B[0m \t\u001B[38;5;28;01mreturn\u001B[39;00m \u001B[38;5;28;43mself\u001B[39;49m\u001B[38;5;241;43m.\u001B[39;49m\u001B[43mgrab\u001B[49m\u001B[43m(\u001B[49m\u001B[43mitem\u001B[49m\u001B[43m)\u001B[49m\n",
      "File \u001B[1;32m~\\OneDrive\\Khan\\research\\data-foundation\\omniply\\core\\abstract.py:72\u001B[0m, in \u001B[0;36mAbstractGig.grab\u001B[1;34m(self, gizmo, default)\u001B[0m\n\u001B[0;32m     71\u001B[0m \u001B[38;5;28;01mtry\u001B[39;00m:\n\u001B[1;32m---> 72\u001B[0m \t\u001B[38;5;28;01mreturn\u001B[39;00m \u001B[38;5;28;43mself\u001B[39;49m\u001B[38;5;241;43m.\u001B[39;49m\u001B[43mgrab_from\u001B[49m\u001B[43m(\u001B[49m\u001B[38;5;28;43;01mNone\u001B[39;49;00m\u001B[43m,\u001B[49m\u001B[43m \u001B[49m\u001B[43mgizmo\u001B[49m\u001B[43m)\u001B[49m\n\u001B[0;32m     73\u001B[0m \u001B[38;5;28;01mexcept\u001B[39;00m AbstractGadgetFailedError:\n",
      "File \u001B[1;32m~\\OneDrive\\Khan\\research\\data-foundation\\omniply\\core\\gigs.py:61\u001B[0m, in \u001B[0;36mCacheGig.grab_from\u001B[1;34m(self, ctx, gizmo)\u001B[0m\n\u001B[0;32m     60\u001B[0m \t\u001B[38;5;28;01mreturn\u001B[39;00m \u001B[38;5;28mself\u001B[39m\u001B[38;5;241m.\u001B[39mdata[gizmo]\n\u001B[1;32m---> 61\u001B[0m val \u001B[38;5;241m=\u001B[39m \u001B[38;5;28;43msuper\u001B[39;49m\u001B[43m(\u001B[49m\u001B[43m)\u001B[49m\u001B[38;5;241;43m.\u001B[39;49m\u001B[43mgrab_from\u001B[49m\u001B[43m(\u001B[49m\u001B[43mctx\u001B[49m\u001B[43m,\u001B[49m\u001B[43m \u001B[49m\u001B[43mgizmo\u001B[49m\u001B[43m)\u001B[49m\n\u001B[0;32m     62\u001B[0m \u001B[38;5;28mself\u001B[39m\u001B[38;5;241m.\u001B[39mdata[gizmo] \u001B[38;5;241m=\u001B[39m val  \u001B[38;5;66;03m# cache packaged val\u001B[39;00m\n",
      "File \u001B[1;32m~\\OneDrive\\Khan\\research\\data-foundation\\omniply\\core\\gigs.py:27\u001B[0m, in \u001B[0;36mGigBase.grab_from\u001B[1;34m(self, ctx, gizmo)\u001B[0m\n\u001B[0;32m     26\u001B[0m \u001B[38;5;28;01mexcept\u001B[39;00m \u001B[38;5;167;01mException\u001B[39;00m \u001B[38;5;28;01mas\u001B[39;00m error:\n\u001B[1;32m---> 27\u001B[0m \tout \u001B[38;5;241m=\u001B[39m \u001B[38;5;28;43mself\u001B[39;49m\u001B[38;5;241;43m.\u001B[39;49m\u001B[43m_grab_from_fallback\u001B[49m\u001B[43m(\u001B[49m\u001B[43merror\u001B[49m\u001B[43m,\u001B[49m\u001B[43m \u001B[49m\u001B[43mctx\u001B[49m\u001B[43m,\u001B[49m\u001B[43m \u001B[49m\u001B[43mgizmo\u001B[49m\u001B[43m)\u001B[49m\n\u001B[0;32m     28\u001B[0m \u001B[38;5;28;01mreturn\u001B[39;00m \u001B[38;5;28mself\u001B[39m\u001B[38;5;241m.\u001B[39mpackage(out, gizmo\u001B[38;5;241m=\u001B[39mgizmo)\n",
      "File \u001B[1;32m~\\OneDrive\\Khan\\research\\data-foundation\\omniply\\core\\gigs.py:16\u001B[0m, in \u001B[0;36mGigBase._grab_from_fallback\u001B[1;34m(self, error, ctx, gizmo)\u001B[0m\n\u001B[0;32m     15\u001B[0m \t\u001B[38;5;28;01mreturn\u001B[39;00m ctx\u001B[38;5;241m.\u001B[39mgrab(gizmo)\n\u001B[1;32m---> 16\u001B[0m \u001B[38;5;28;01mraise\u001B[39;00m error \u001B[38;5;28;01mfrom\u001B[39;00m \u001B[38;5;21;01merror\u001B[39;00m\n",
      "File \u001B[1;32m~\\OneDrive\\Khan\\research\\data-foundation\\omniply\\core\\gigs.py:25\u001B[0m, in \u001B[0;36mGigBase.grab_from\u001B[1;34m(self, ctx, gizmo)\u001B[0m\n\u001B[0;32m     24\u001B[0m \u001B[38;5;28;01mtry\u001B[39;00m:\n\u001B[1;32m---> 25\u001B[0m \tout \u001B[38;5;241m=\u001B[39m \u001B[38;5;28;43mself\u001B[39;49m\u001B[38;5;241;43m.\u001B[39;49m\u001B[43m_grab\u001B[49m\u001B[43m(\u001B[49m\u001B[43mgizmo\u001B[49m\u001B[43m)\u001B[49m\n\u001B[0;32m     26\u001B[0m \u001B[38;5;28;01mexcept\u001B[39;00m \u001B[38;5;167;01mException\u001B[39;00m \u001B[38;5;28;01mas\u001B[39;00m error:\n",
      "File \u001B[1;32m~\\OneDrive\\Khan\\research\\data-foundation\\omniply\\core\\gigs.py:20\u001B[0m, in \u001B[0;36mGigBase._grab\u001B[1;34m(self, gizmo)\u001B[0m\n\u001B[0;32m     19\u001B[0m \u001B[38;5;28;01mdef\u001B[39;00m \u001B[38;5;21m_grab\u001B[39m(\u001B[38;5;28mself\u001B[39m, gizmo: \u001B[38;5;28mstr\u001B[39m) \u001B[38;5;241m-\u001B[39m\u001B[38;5;241m>\u001B[39m Any:\n\u001B[1;32m---> 20\u001B[0m \t\u001B[38;5;28;01mreturn\u001B[39;00m \u001B[38;5;28;43msuper\u001B[39;49m\u001B[43m(\u001B[49m\u001B[43m)\u001B[49m\u001B[38;5;241;43m.\u001B[39;49m\u001B[43mgrab_from\u001B[49m\u001B[43m(\u001B[49m\u001B[38;5;28;43mself\u001B[39;49m\u001B[43m,\u001B[49m\u001B[43m \u001B[49m\u001B[43mgizmo\u001B[49m\u001B[43m)\u001B[49m\n",
      "File \u001B[1;32m~\\OneDrive\\Khan\\research\\data-foundation\\omniply\\core\\gaggles.py:99\u001B[0m, in \u001B[0;36mLoopyGaggle.grab_from\u001B[1;34m(self, ctx, gizmo)\u001B[0m\n\u001B[0;32m     98\u001B[0m \u001B[38;5;28;01mif\u001B[39;00m failures:\n\u001B[1;32m---> 99\u001B[0m \t\u001B[38;5;28;01mraise\u001B[39;00m \u001B[38;5;28mself\u001B[39m\u001B[38;5;241m.\u001B[39m_AssemblyFailedError(gizmo, failures)\n\u001B[0;32m    100\u001B[0m \u001B[38;5;28;01mraise\u001B[39;00m \u001B[38;5;28mself\u001B[39m\u001B[38;5;241m.\u001B[39m_GadgetError(gizmo)\n",
      "\u001B[1;31mAssemblyError\u001B[0m: 'price' due to 1 failures: 'price' due to 1 failures: No price",
      "\nThe above exception was the direct cause of the following exception:\n",
      "\u001B[1;31mAssemblyError\u001B[0m                             Traceback (most recent call last)",
      "    \u001B[1;31m[... skipping hidden 1 frame]\u001B[0m\n",
      "Cell \u001B[1;32mIn[7], line 2\u001B[0m\n\u001B[0;32m      1\u001B[0m \u001B[38;5;28mprint\u001B[39m(\u001B[38;5;124mf\u001B[39m\u001B[38;5;124m'\u001B[39m\u001B[38;5;132;01m{\u001B[39;00mgg[\u001B[38;5;124m\"\u001B[39m\u001B[38;5;124mcompany_name\u001B[39m\u001B[38;5;124m\"\u001B[39m]\u001B[38;5;132;01m}\u001B[39;00m\u001B[38;5;124m  ::  \u001B[39m\u001B[38;5;132;01m{\u001B[39;00mgg[\u001B[38;5;124m\"\u001B[39m\u001B[38;5;124myfsym\u001B[39m\u001B[38;5;124m\"\u001B[39m]\u001B[38;5;132;01m}\u001B[39;00m\u001B[38;5;124m  ::  \u001B[39m\u001B[38;5;132;01m{\u001B[39;00mgg[\u001B[38;5;124m\"\u001B[39m\u001B[38;5;124mibsym\u001B[39m\u001B[38;5;124m\"\u001B[39m]\u001B[38;5;132;01m}\u001B[39;00m\u001B[38;5;124m'\u001B[39m)\n\u001B[1;32m----> 2\u001B[0m \u001B[38;5;28mprint\u001B[39m(\u001B[38;5;124mf\u001B[39m\u001B[38;5;124m'\u001B[39m\u001B[38;5;124mPrice: \u001B[39m\u001B[38;5;132;01m{\u001B[39;00m\u001B[43mgg\u001B[49m\u001B[43m[\u001B[49m\u001B[38;5;124;43m\"\u001B[39;49m\u001B[38;5;124;43mprice\u001B[39;49m\u001B[38;5;124;43m\"\u001B[39;49m\u001B[43m]\u001B[49m\u001B[38;5;132;01m}\u001B[39;00m\u001B[38;5;124m (\u001B[39m\u001B[38;5;132;01m{\u001B[39;00mgg[\u001B[38;5;124m\"\u001B[39m\u001B[38;5;124mlow_52w\u001B[39m\u001B[38;5;124m\"\u001B[39m]\u001B[38;5;132;01m}\u001B[39;00m\u001B[38;5;124m - \u001B[39m\u001B[38;5;132;01m{\u001B[39;00mgg[\u001B[38;5;124m\"\u001B[39m\u001B[38;5;124mhigh_52w\u001B[39m\u001B[38;5;124m\"\u001B[39m]\u001B[38;5;132;01m}\u001B[39;00m\u001B[38;5;124m)\u001B[39m\u001B[38;5;124m'\u001B[39m)\n\u001B[0;32m      3\u001B[0m \u001B[38;5;28mprint\u001B[39m()\n",
      "File \u001B[1;32m~\\OneDrive\\Khan\\research\\data-foundation\\omniply\\core\\abstract.py:80\u001B[0m, in \u001B[0;36mAbstractGig.__getitem__\u001B[1;34m(self, item)\u001B[0m\n\u001B[0;32m     79\u001B[0m \u001B[38;5;28;01mdef\u001B[39;00m \u001B[38;5;21m__getitem__\u001B[39m(\u001B[38;5;28mself\u001B[39m, item):\n\u001B[1;32m---> 80\u001B[0m \t\u001B[38;5;28;01mreturn\u001B[39;00m \u001B[38;5;28;43mself\u001B[39;49m\u001B[38;5;241;43m.\u001B[39;49m\u001B[43mgrab\u001B[49m\u001B[43m(\u001B[49m\u001B[43mitem\u001B[49m\u001B[43m)\u001B[49m\n",
      "File \u001B[1;32m~\\OneDrive\\Khan\\research\\data-foundation\\omniply\\core\\abstract.py:72\u001B[0m, in \u001B[0;36mAbstractGig.grab\u001B[1;34m(self, gizmo, default)\u001B[0m\n\u001B[0;32m     71\u001B[0m \u001B[38;5;28;01mtry\u001B[39;00m:\n\u001B[1;32m---> 72\u001B[0m \t\u001B[38;5;28;01mreturn\u001B[39;00m \u001B[38;5;28;43mself\u001B[39;49m\u001B[38;5;241;43m.\u001B[39;49m\u001B[43mgrab_from\u001B[49m\u001B[43m(\u001B[49m\u001B[38;5;28;43;01mNone\u001B[39;49;00m\u001B[43m,\u001B[49m\u001B[43m \u001B[49m\u001B[43mgizmo\u001B[49m\u001B[43m)\u001B[49m\n\u001B[0;32m     73\u001B[0m \u001B[38;5;28;01mexcept\u001B[39;00m AbstractGadgetFailedError:\n",
      "File \u001B[1;32m~\\OneDrive\\Khan\\research\\data-foundation\\omniply\\core\\gigs.py:61\u001B[0m, in \u001B[0;36mCacheGig.grab_from\u001B[1;34m(self, ctx, gizmo)\u001B[0m\n\u001B[0;32m     60\u001B[0m \t\u001B[38;5;28;01mreturn\u001B[39;00m \u001B[38;5;28mself\u001B[39m\u001B[38;5;241m.\u001B[39mdata[gizmo]\n\u001B[1;32m---> 61\u001B[0m val \u001B[38;5;241m=\u001B[39m \u001B[38;5;28;43msuper\u001B[39;49m\u001B[43m(\u001B[49m\u001B[43m)\u001B[49m\u001B[38;5;241;43m.\u001B[39;49m\u001B[43mgrab_from\u001B[49m\u001B[43m(\u001B[49m\u001B[43mctx\u001B[49m\u001B[43m,\u001B[49m\u001B[43m \u001B[49m\u001B[43mgizmo\u001B[49m\u001B[43m)\u001B[49m\n\u001B[0;32m     62\u001B[0m \u001B[38;5;28mself\u001B[39m\u001B[38;5;241m.\u001B[39mdata[gizmo] \u001B[38;5;241m=\u001B[39m val  \u001B[38;5;66;03m# cache packaged val\u001B[39;00m\n",
      "File \u001B[1;32m~\\OneDrive\\Khan\\research\\data-foundation\\omniply\\core\\gigs.py:27\u001B[0m, in \u001B[0;36mGigBase.grab_from\u001B[1;34m(self, ctx, gizmo)\u001B[0m\n\u001B[0;32m     26\u001B[0m \u001B[38;5;28;01mexcept\u001B[39;00m \u001B[38;5;167;01mException\u001B[39;00m \u001B[38;5;28;01mas\u001B[39;00m error:\n\u001B[1;32m---> 27\u001B[0m \tout \u001B[38;5;241m=\u001B[39m \u001B[38;5;28;43mself\u001B[39;49m\u001B[38;5;241;43m.\u001B[39;49m\u001B[43m_grab_from_fallback\u001B[49m\u001B[43m(\u001B[49m\u001B[43merror\u001B[49m\u001B[43m,\u001B[49m\u001B[43m \u001B[49m\u001B[43mctx\u001B[49m\u001B[43m,\u001B[49m\u001B[43m \u001B[49m\u001B[43mgizmo\u001B[49m\u001B[43m)\u001B[49m\n\u001B[0;32m     28\u001B[0m \u001B[38;5;28;01mreturn\u001B[39;00m \u001B[38;5;28mself\u001B[39m\u001B[38;5;241m.\u001B[39mpackage(out, gizmo\u001B[38;5;241m=\u001B[39mgizmo)\n",
      "File \u001B[1;32m~\\OneDrive\\Khan\\research\\data-foundation\\omniply\\core\\gigs.py:16\u001B[0m, in \u001B[0;36mGigBase._grab_from_fallback\u001B[1;34m(self, error, ctx, gizmo)\u001B[0m\n\u001B[0;32m     15\u001B[0m \t\u001B[38;5;28;01mreturn\u001B[39;00m ctx\u001B[38;5;241m.\u001B[39mgrab(gizmo)\n\u001B[1;32m---> 16\u001B[0m \u001B[38;5;28;01mraise\u001B[39;00m error \u001B[38;5;28;01mfrom\u001B[39;00m \u001B[38;5;21;01merror\u001B[39;00m\n",
      "File \u001B[1;32m~\\OneDrive\\Khan\\research\\data-foundation\\omniply\\core\\gigs.py:25\u001B[0m, in \u001B[0;36mGigBase.grab_from\u001B[1;34m(self, ctx, gizmo)\u001B[0m\n\u001B[0;32m     24\u001B[0m \u001B[38;5;28;01mtry\u001B[39;00m:\n\u001B[1;32m---> 25\u001B[0m \tout \u001B[38;5;241m=\u001B[39m \u001B[38;5;28;43mself\u001B[39;49m\u001B[38;5;241;43m.\u001B[39;49m\u001B[43m_grab\u001B[49m\u001B[43m(\u001B[49m\u001B[43mgizmo\u001B[49m\u001B[43m)\u001B[49m\n\u001B[0;32m     26\u001B[0m \u001B[38;5;28;01mexcept\u001B[39;00m \u001B[38;5;167;01mException\u001B[39;00m \u001B[38;5;28;01mas\u001B[39;00m error:\n",
      "File \u001B[1;32m~\\OneDrive\\Khan\\research\\data-foundation\\omniply\\core\\gigs.py:20\u001B[0m, in \u001B[0;36mGigBase._grab\u001B[1;34m(self, gizmo)\u001B[0m\n\u001B[0;32m     19\u001B[0m \u001B[38;5;28;01mdef\u001B[39;00m \u001B[38;5;21m_grab\u001B[39m(\u001B[38;5;28mself\u001B[39m, gizmo: \u001B[38;5;28mstr\u001B[39m) \u001B[38;5;241m-\u001B[39m\u001B[38;5;241m>\u001B[39m Any:\n\u001B[1;32m---> 20\u001B[0m \t\u001B[38;5;28;01mreturn\u001B[39;00m \u001B[38;5;28;43msuper\u001B[39;49m\u001B[43m(\u001B[49m\u001B[43m)\u001B[49m\u001B[38;5;241;43m.\u001B[39;49m\u001B[43mgrab_from\u001B[49m\u001B[43m(\u001B[49m\u001B[38;5;28;43mself\u001B[39;49m\u001B[43m,\u001B[49m\u001B[43m \u001B[49m\u001B[43mgizmo\u001B[49m\u001B[43m)\u001B[49m\n",
      "File \u001B[1;32m~\\OneDrive\\Khan\\research\\data-foundation\\omniply\\core\\gaggles.py:99\u001B[0m, in \u001B[0;36mLoopyGaggle.grab_from\u001B[1;34m(self, ctx, gizmo)\u001B[0m\n\u001B[0;32m     98\u001B[0m \u001B[38;5;28;01mif\u001B[39;00m failures:\n\u001B[1;32m---> 99\u001B[0m \t\u001B[38;5;28;01mraise\u001B[39;00m \u001B[38;5;28mself\u001B[39m\u001B[38;5;241m.\u001B[39m_AssemblyFailedError(gizmo, failures)\n\u001B[0;32m    100\u001B[0m \u001B[38;5;28;01mraise\u001B[39;00m \u001B[38;5;28mself\u001B[39m\u001B[38;5;241m.\u001B[39m_GadgetError(gizmo)\n",
      "\u001B[1;31mAssemblyError\u001B[0m: 'price' due to 1 failures: 'price' due to 1 failures: No price",
      "\nThe above exception was the direct cause of the following exception:\n",
      "\u001B[1;31mAssemblyError\u001B[0m                             Traceback (most recent call last)",
      "Cell \u001B[1;32mIn[7], line 2\u001B[0m\n\u001B[0;32m      1\u001B[0m \u001B[38;5;28mprint\u001B[39m(\u001B[38;5;124mf\u001B[39m\u001B[38;5;124m'\u001B[39m\u001B[38;5;132;01m{\u001B[39;00mgg[\u001B[38;5;124m\"\u001B[39m\u001B[38;5;124mcompany_name\u001B[39m\u001B[38;5;124m\"\u001B[39m]\u001B[38;5;132;01m}\u001B[39;00m\u001B[38;5;124m  ::  \u001B[39m\u001B[38;5;132;01m{\u001B[39;00mgg[\u001B[38;5;124m\"\u001B[39m\u001B[38;5;124myfsym\u001B[39m\u001B[38;5;124m\"\u001B[39m]\u001B[38;5;132;01m}\u001B[39;00m\u001B[38;5;124m  ::  \u001B[39m\u001B[38;5;132;01m{\u001B[39;00mgg[\u001B[38;5;124m\"\u001B[39m\u001B[38;5;124mibsym\u001B[39m\u001B[38;5;124m\"\u001B[39m]\u001B[38;5;132;01m}\u001B[39;00m\u001B[38;5;124m'\u001B[39m)\n\u001B[1;32m----> 2\u001B[0m \u001B[38;5;28mprint\u001B[39m(\u001B[38;5;124mf\u001B[39m\u001B[38;5;124m'\u001B[39m\u001B[38;5;124mPrice: \u001B[39m\u001B[38;5;132;01m{\u001B[39;00m\u001B[43mgg\u001B[49m\u001B[43m[\u001B[49m\u001B[38;5;124;43m\"\u001B[39;49m\u001B[38;5;124;43mprice\u001B[39;49m\u001B[38;5;124;43m\"\u001B[39;49m\u001B[43m]\u001B[49m\u001B[38;5;132;01m}\u001B[39;00m\u001B[38;5;124m (\u001B[39m\u001B[38;5;132;01m{\u001B[39;00mgg[\u001B[38;5;124m\"\u001B[39m\u001B[38;5;124mlow_52w\u001B[39m\u001B[38;5;124m\"\u001B[39m]\u001B[38;5;132;01m}\u001B[39;00m\u001B[38;5;124m - \u001B[39m\u001B[38;5;132;01m{\u001B[39;00mgg[\u001B[38;5;124m\"\u001B[39m\u001B[38;5;124mhigh_52w\u001B[39m\u001B[38;5;124m\"\u001B[39m]\u001B[38;5;132;01m}\u001B[39;00m\u001B[38;5;124m)\u001B[39m\u001B[38;5;124m'\u001B[39m)\n\u001B[0;32m      3\u001B[0m \u001B[38;5;28mprint\u001B[39m()\n\u001B[0;32m      4\u001B[0m \u001B[38;5;28mprint\u001B[39m(\u001B[38;5;124mf\u001B[39m\u001B[38;5;124m'\u001B[39m\u001B[38;5;132;01m{\u001B[39;00mgg[\u001B[38;5;124m\"\u001B[39m\u001B[38;5;124msector\u001B[39m\u001B[38;5;124m\"\u001B[39m]\u001B[38;5;132;01m}\u001B[39;00m\u001B[38;5;124m  ::  \u001B[39m\u001B[38;5;132;01m{\u001B[39;00mgg[\u001B[38;5;124m\"\u001B[39m\u001B[38;5;124mindustry\u001B[39m\u001B[38;5;124m\"\u001B[39m]\u001B[38;5;132;01m}\u001B[39;00m\u001B[38;5;124m'\u001B[39m)\n",
      "File \u001B[1;32m~\\OneDrive\\Khan\\research\\data-foundation\\omniply\\core\\abstract.py:80\u001B[0m, in \u001B[0;36mAbstractGig.__getitem__\u001B[1;34m(self, item)\u001B[0m\n\u001B[0;32m     79\u001B[0m \u001B[38;5;28;01mdef\u001B[39;00m \u001B[38;5;21m__getitem__\u001B[39m(\u001B[38;5;28mself\u001B[39m, item):\n\u001B[1;32m---> 80\u001B[0m \t\u001B[38;5;28;01mreturn\u001B[39;00m \u001B[38;5;28;43mself\u001B[39;49m\u001B[38;5;241;43m.\u001B[39;49m\u001B[43mgrab\u001B[49m\u001B[43m(\u001B[49m\u001B[43mitem\u001B[49m\u001B[43m)\u001B[49m\n",
      "File \u001B[1;32m~\\OneDrive\\Khan\\research\\data-foundation\\omniply\\core\\abstract.py:72\u001B[0m, in \u001B[0;36mAbstractGig.grab\u001B[1;34m(self, gizmo, default)\u001B[0m\n\u001B[0;32m     67\u001B[0m \u001B[38;5;250m\u001B[39m\u001B[38;5;124;03m'''\u001B[39;00m\n\u001B[0;32m     68\u001B[0m \u001B[38;5;124;03mconvenience function for grab_from to match dict.get api\u001B[39;00m\n\u001B[0;32m     69\u001B[0m \u001B[38;5;124;03mreturns the given gizmo from this gadget, or raises ToolFailedError\u001B[39;00m\n\u001B[0;32m     70\u001B[0m \u001B[38;5;124;03m'''\u001B[39;00m\n\u001B[0;32m     71\u001B[0m \u001B[38;5;28;01mtry\u001B[39;00m:\n\u001B[1;32m---> 72\u001B[0m \t\u001B[38;5;28;01mreturn\u001B[39;00m \u001B[38;5;28;43mself\u001B[39;49m\u001B[38;5;241;43m.\u001B[39;49m\u001B[43mgrab_from\u001B[49m\u001B[43m(\u001B[49m\u001B[38;5;28;43;01mNone\u001B[39;49;00m\u001B[43m,\u001B[49m\u001B[43m \u001B[49m\u001B[43mgizmo\u001B[49m\u001B[43m)\u001B[49m\n\u001B[0;32m     73\u001B[0m \u001B[38;5;28;01mexcept\u001B[39;00m AbstractGadgetFailedError:\n\u001B[0;32m     74\u001B[0m \t\u001B[38;5;28;01mif\u001B[39;00m default \u001B[38;5;129;01mis\u001B[39;00m unspecified_argument:\n",
      "File \u001B[1;32m~\\OneDrive\\Khan\\research\\data-foundation\\omniply\\core\\gigs.py:61\u001B[0m, in \u001B[0;36mCacheGig.grab_from\u001B[1;34m(self, ctx, gizmo)\u001B[0m\n\u001B[0;32m     59\u001B[0m \u001B[38;5;28;01mif\u001B[39;00m gizmo \u001B[38;5;129;01min\u001B[39;00m \u001B[38;5;28mself\u001B[39m\u001B[38;5;241m.\u001B[39mdata:\n\u001B[0;32m     60\u001B[0m \t\u001B[38;5;28;01mreturn\u001B[39;00m \u001B[38;5;28mself\u001B[39m\u001B[38;5;241m.\u001B[39mdata[gizmo]\n\u001B[1;32m---> 61\u001B[0m val \u001B[38;5;241m=\u001B[39m \u001B[38;5;28;43msuper\u001B[39;49m\u001B[43m(\u001B[49m\u001B[43m)\u001B[49m\u001B[38;5;241;43m.\u001B[39;49m\u001B[43mgrab_from\u001B[49m\u001B[43m(\u001B[49m\u001B[43mctx\u001B[49m\u001B[43m,\u001B[49m\u001B[43m \u001B[49m\u001B[43mgizmo\u001B[49m\u001B[43m)\u001B[49m\n\u001B[0;32m     62\u001B[0m \u001B[38;5;28mself\u001B[39m\u001B[38;5;241m.\u001B[39mdata[gizmo] \u001B[38;5;241m=\u001B[39m val  \u001B[38;5;66;03m# cache packaged val\u001B[39;00m\n\u001B[0;32m     63\u001B[0m \u001B[38;5;28;01mreturn\u001B[39;00m val\n",
      "File \u001B[1;32m~\\OneDrive\\Khan\\research\\data-foundation\\omniply\\core\\gigs.py:27\u001B[0m, in \u001B[0;36mGigBase.grab_from\u001B[1;34m(self, ctx, gizmo)\u001B[0m\n\u001B[0;32m     25\u001B[0m \tout \u001B[38;5;241m=\u001B[39m \u001B[38;5;28mself\u001B[39m\u001B[38;5;241m.\u001B[39m_grab(gizmo)\n\u001B[0;32m     26\u001B[0m \u001B[38;5;28;01mexcept\u001B[39;00m \u001B[38;5;167;01mException\u001B[39;00m \u001B[38;5;28;01mas\u001B[39;00m error:\n\u001B[1;32m---> 27\u001B[0m \tout \u001B[38;5;241m=\u001B[39m \u001B[38;5;28;43mself\u001B[39;49m\u001B[38;5;241;43m.\u001B[39;49m\u001B[43m_grab_from_fallback\u001B[49m\u001B[43m(\u001B[49m\u001B[43merror\u001B[49m\u001B[43m,\u001B[49m\u001B[43m \u001B[49m\u001B[43mctx\u001B[49m\u001B[43m,\u001B[49m\u001B[43m \u001B[49m\u001B[43mgizmo\u001B[49m\u001B[43m)\u001B[49m\n\u001B[0;32m     28\u001B[0m \u001B[38;5;28;01mreturn\u001B[39;00m \u001B[38;5;28mself\u001B[39m\u001B[38;5;241m.\u001B[39mpackage(out, gizmo\u001B[38;5;241m=\u001B[39mgizmo)\n",
      "File \u001B[1;32m~\\OneDrive\\Khan\\research\\data-foundation\\omniply\\core\\gigs.py:16\u001B[0m, in \u001B[0;36mGigBase._grab_from_fallback\u001B[1;34m(self, error, ctx, gizmo)\u001B[0m\n\u001B[0;32m     14\u001B[0m \u001B[38;5;28;01mif\u001B[39;00m \u001B[38;5;28misinstance\u001B[39m(error, \u001B[38;5;28mself\u001B[39m\u001B[38;5;241m.\u001B[39m_GadgetError) \u001B[38;5;129;01mand\u001B[39;00m ctx \u001B[38;5;129;01mis\u001B[39;00m \u001B[38;5;129;01mnot\u001B[39;00m \u001B[38;5;28;01mNone\u001B[39;00m \u001B[38;5;129;01mand\u001B[39;00m ctx \u001B[38;5;129;01mis\u001B[39;00m \u001B[38;5;129;01mnot\u001B[39;00m \u001B[38;5;28mself\u001B[39m: \u001B[38;5;66;03m# default to parent\u001B[39;00m\n\u001B[0;32m     15\u001B[0m \t\u001B[38;5;28;01mreturn\u001B[39;00m ctx\u001B[38;5;241m.\u001B[39mgrab(gizmo)\n\u001B[1;32m---> 16\u001B[0m \u001B[38;5;28;01mraise\u001B[39;00m error \u001B[38;5;28;01mfrom\u001B[39;00m \u001B[38;5;21;01merror\u001B[39;00m\n",
      "File \u001B[1;32m~\\OneDrive\\Khan\\research\\data-foundation\\omniply\\core\\gigs.py:25\u001B[0m, in \u001B[0;36mGigBase.grab_from\u001B[1;34m(self, ctx, gizmo)\u001B[0m\n\u001B[0;32m     23\u001B[0m \u001B[38;5;28;01mdef\u001B[39;00m \u001B[38;5;21mgrab_from\u001B[39m(\u001B[38;5;28mself\u001B[39m, ctx: Optional[AbstractGig], gizmo: \u001B[38;5;28mstr\u001B[39m) \u001B[38;5;241m-\u001B[39m\u001B[38;5;241m>\u001B[39m Any:\n\u001B[0;32m     24\u001B[0m \t\u001B[38;5;28;01mtry\u001B[39;00m:\n\u001B[1;32m---> 25\u001B[0m \t\tout \u001B[38;5;241m=\u001B[39m \u001B[38;5;28;43mself\u001B[39;49m\u001B[38;5;241;43m.\u001B[39;49m\u001B[43m_grab\u001B[49m\u001B[43m(\u001B[49m\u001B[43mgizmo\u001B[49m\u001B[43m)\u001B[49m\n\u001B[0;32m     26\u001B[0m \t\u001B[38;5;28;01mexcept\u001B[39;00m \u001B[38;5;167;01mException\u001B[39;00m \u001B[38;5;28;01mas\u001B[39;00m error:\n\u001B[0;32m     27\u001B[0m \t\tout \u001B[38;5;241m=\u001B[39m \u001B[38;5;28mself\u001B[39m\u001B[38;5;241m.\u001B[39m_grab_from_fallback(error, ctx, gizmo)\n",
      "File \u001B[1;32m~\\OneDrive\\Khan\\research\\data-foundation\\omniply\\core\\gigs.py:20\u001B[0m, in \u001B[0;36mGigBase._grab\u001B[1;34m(self, gizmo)\u001B[0m\n\u001B[0;32m     19\u001B[0m \u001B[38;5;28;01mdef\u001B[39;00m \u001B[38;5;21m_grab\u001B[39m(\u001B[38;5;28mself\u001B[39m, gizmo: \u001B[38;5;28mstr\u001B[39m) \u001B[38;5;241m-\u001B[39m\u001B[38;5;241m>\u001B[39m Any:\n\u001B[1;32m---> 20\u001B[0m \t\u001B[38;5;28;01mreturn\u001B[39;00m \u001B[38;5;28;43msuper\u001B[39;49m\u001B[43m(\u001B[49m\u001B[43m)\u001B[49m\u001B[38;5;241;43m.\u001B[39;49m\u001B[43mgrab_from\u001B[49m\u001B[43m(\u001B[49m\u001B[38;5;28;43mself\u001B[39;49m\u001B[43m,\u001B[49m\u001B[43m \u001B[49m\u001B[43mgizmo\u001B[49m\u001B[43m)\u001B[49m\n",
      "File \u001B[1;32m~\\OneDrive\\Khan\\research\\data-foundation\\omniply\\core\\gaggles.py:99\u001B[0m, in \u001B[0;36mLoopyGaggle.grab_from\u001B[1;34m(self, ctx, gizmo)\u001B[0m\n\u001B[0;32m     97\u001B[0m \t\u001B[38;5;28mself\u001B[39m\u001B[38;5;241m.\u001B[39m_grabber_stack\u001B[38;5;241m.\u001B[39mpop(gizmo)\n\u001B[0;32m     98\u001B[0m \u001B[38;5;28;01mif\u001B[39;00m failures:\n\u001B[1;32m---> 99\u001B[0m \t\u001B[38;5;28;01mraise\u001B[39;00m \u001B[38;5;28mself\u001B[39m\u001B[38;5;241m.\u001B[39m_AssemblyFailedError(gizmo, failures)\n\u001B[0;32m    100\u001B[0m \u001B[38;5;28;01mraise\u001B[39;00m \u001B[38;5;28mself\u001B[39m\u001B[38;5;241m.\u001B[39m_GadgetError(gizmo)\n",
      "\u001B[1;31mAssemblyError\u001B[0m: 'price' due to 1 failures: 'price' due to 1 failures: No price"
     ]
    }
   ],
   "source": [
    "print(f'{gg[\"company_name\"]}  ::  {gg[\"yfsym\"]}  ::  {gg[\"ibsym\"]}')\n",
    "print(f'Price: {gg[\"price\"]} ({gg[\"low_52w\"]} - {gg[\"high_52w\"]})')\n",
    "print()\n",
    "print(f'{gg[\"sector\"]}  ::  {gg[\"industry\"]}')\n",
    "print(f'{gg[\"city\"]}, {gg[\"country_name\"]}')\n",
    "print(f'Market cap: {gg[\"market_cap\"]} | Employees: {gg[\"employees\"]}')"
   ],
   "metadata": {
    "collapsed": false,
    "ExecuteTime": {
     "end_time": "2023-09-05T12:35:07.287672400Z",
     "start_time": "2023-09-05T12:35:06.158585100Z"
    }
   },
   "id": "d93bd741ee416d33"
  },
  {
   "cell_type": "code",
   "execution_count": null,
   "outputs": [],
   "source": [
    "print(gg['business_summary'])"
   ],
   "metadata": {
    "collapsed": false,
    "ExecuteTime": {
     "start_time": "2023-09-05T12:35:07.269661300Z"
    }
   },
   "id": "4c33bcd66eb4bf6f"
  },
  {
   "cell_type": "code",
   "execution_count": null,
   "outputs": [],
   "source": [
    "info = gg['splits']\n",
    "info"
   ],
   "metadata": {
    "collapsed": false,
    "ExecuteTime": {
     "start_time": "2023-09-05T12:35:07.274661300Z"
    }
   },
   "id": "63de8e115c5c5416"
  },
  {
   "cell_type": "code",
   "execution_count": 8,
   "outputs": [],
   "source": [
    "rec = gg['recommendations']"
   ],
   "metadata": {
    "collapsed": false,
    "ExecuteTime": {
     "end_time": "2023-09-05T12:35:10.595187600Z",
     "start_time": "2023-09-05T12:35:10.564160400Z"
    }
   },
   "id": "c66d2a19db040e48"
  },
  {
   "cell_type": "code",
   "execution_count": null,
   "outputs": [],
   "source": [],
   "metadata": {
    "collapsed": false
   },
   "id": "a31822253c4bd05d"
  },
  {
   "cell_type": "code",
   "execution_count": null,
   "outputs": [],
   "source": [],
   "metadata": {
    "collapsed": false
   },
   "id": "4f017e488d6eb9c5"
  },
  {
   "cell_type": "code",
   "execution_count": null,
   "outputs": [],
   "source": [],
   "metadata": {
    "collapsed": false
   },
   "id": "701c396002207a53"
  },
  {
   "cell_type": "code",
   "execution_count": null,
   "outputs": [],
   "source": [],
   "metadata": {
    "collapsed": false,
    "ExecuteTime": {
     "end_time": "2023-08-29T21:18:07.825577Z",
     "start_time": "2023-08-29T21:18:07.822561700Z"
    }
   },
   "id": "7a6bf2e35c975e8a"
  },
  {
   "cell_type": "code",
   "execution_count": null,
   "outputs": [],
   "source": [],
   "metadata": {
    "collapsed": false
   },
   "id": "6da065f957e36fb7"
  }
 ],
 "metadata": {
  "kernelspec": {
   "display_name": "Python 3",
   "language": "python",
   "name": "python3"
  },
  "language_info": {
   "codemirror_mode": {
    "name": "ipython",
    "version": 2
   },
   "file_extension": ".py",
   "mimetype": "text/x-python",
   "name": "python",
   "nbconvert_exporter": "python",
   "pygments_lexer": "ipython2",
   "version": "2.7.6"
  }
 },
 "nbformat": 4,
 "nbformat_minor": 5
}
