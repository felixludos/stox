{
 "cells": [
  {
   "cell_type": "code",
   "execution_count": 1,
   "id": "initial_id",
   "metadata": {
    "collapsed": true,
    "ExecuteTime": {
     "end_time": "2023-09-04T14:12:43.542543700Z",
     "start_time": "2023-09-04T14:12:41.437871700Z"
    }
   },
   "outputs": [],
   "source": [
    "import random\n",
    "from collections import Counter\n",
    "import stox\n",
    "# from ib_insync import *\n",
    "from stox.imports import *\n",
    "from stox.ibkr import IB_Extractor, describe_contract, download_reports, IBKR_Loader, IBKR_Stats, IBKR_Derived\n",
    "from tqdm.notebook import tqdm\n",
    "from omnibelt import tqdmd_notebook as tqdmd\n",
    "from stox import misc, yahoo, ibkr\n",
    "from collections import namedtuple\n",
    "from omniply import tool, ToolKit, Context"
   ]
  },
  {
   "cell_type": "code",
   "execution_count": 2,
   "outputs": [
    {
     "data": {
      "text/plain": "272"
     },
     "execution_count": 2,
     "metadata": {},
     "output_type": "execute_result"
    }
   ],
   "source": [
    "symbol_table = stox.load_symbol_table()\n",
    "len(symbol_table)"
   ],
   "metadata": {
    "collapsed": false,
    "ExecuteTime": {
     "end_time": "2023-09-04T14:12:43.809240800Z",
     "start_time": "2023-09-04T14:12:43.535541300Z"
    }
   },
   "id": "b580bd1c33ae0bf7"
  },
  {
   "cell_type": "code",
   "execution_count": 3,
   "outputs": [
    {
     "data": {
      "text/plain": "239"
     },
     "execution_count": 3,
     "metadata": {},
     "output_type": "execute_result"
    }
   ],
   "source": [
    "rows = [(k, v) for k, v in symbol_table.items() if v['currency'] == 'EUR']\n",
    "len(rows)"
   ],
   "metadata": {
    "collapsed": false,
    "ExecuteTime": {
     "end_time": "2023-09-04T14:12:43.838856700Z",
     "start_time": "2023-09-04T14:12:43.804236600Z"
    }
   },
   "id": "231c0c8a4e9a6940"
  },
  {
   "cell_type": "code",
   "execution_count": 4,
   "outputs": [],
   "source": [
    "date = '230829'\n",
    "# date = 'last'"
   ],
   "metadata": {
    "collapsed": false,
    "ExecuteTime": {
     "end_time": "2023-09-04T14:12:43.839860Z",
     "start_time": "2023-09-04T14:12:43.823336200Z"
    }
   },
   "id": "4c20ba9474b50325"
  },
  {
   "cell_type": "code",
   "execution_count": 68,
   "outputs": [
    {
     "name": "stdout",
     "output_type": "stream",
     "text": [
      "QUEST.AT\n"
     ]
    }
   ],
   "source": [
    "yfsym, ibrow = random.choice(rows)\n",
    "gg = Context(IBKR_Derived(), IBKR_Stats(), IBKR_Loader(date=date, root=misc.ibkr_root()))\n",
    "gg.update(ibrow)\n",
    "gg['ibsym'] = ibrow['symbol']\n",
    "gg['ibid'] = ibrow['conId']\n",
    "gg['yfsym'] = yfsym\n",
    "print(yfsym)"
   ],
   "metadata": {
    "collapsed": false,
    "ExecuteTime": {
     "end_time": "2023-09-04T14:17:25.373918300Z",
     "start_time": "2023-09-04T14:17:25.352758Z"
    }
   },
   "id": "cb6da46884305a52"
  },
  {
   "cell_type": "code",
   "execution_count": 69,
   "outputs": [
    {
     "data": {
      "text/plain": "Context(conId, currency, exchange, primaryExchange, symbol, ibsym, ibid, yfsym, {sector}, {company_name}, {exchange_name}, {country}, {isin}, {price}, {market_cap}, {high_52w}, {low_52w}, {employees}, {employees_date}, {business_summary}, {brief}, {brief_date}, {country_code}, {country_name}, {city}, {website}, {industry_trbc}, {industry}, {industry_trbc_code}, {industry_naics}, {industry_naics_code}, {industry_sic}, {industry_sic_code}, {ckpt_date}, {ckpt_path}, {snapshot}, {ownership}, {finances}, {statements}, {recommendations})"
     },
     "execution_count": 69,
     "metadata": {},
     "output_type": "execute_result"
    }
   ],
   "source": [
    "gg"
   ],
   "metadata": {
    "collapsed": false,
    "ExecuteTime": {
     "end_time": "2023-09-04T14:17:25.605491800Z",
     "start_time": "2023-09-04T14:17:25.579422400Z"
    }
   },
   "id": "2cbe811509a87109"
  },
  {
   "cell_type": "code",
   "execution_count": 70,
   "outputs": [
    {
     "data": {
      "text/plain": "'Quest Holdings SA'"
     },
     "execution_count": 70,
     "metadata": {},
     "output_type": "execute_result"
    }
   ],
   "source": [
    "gg['company_name']"
   ],
   "metadata": {
    "collapsed": false,
    "ExecuteTime": {
     "end_time": "2023-09-04T14:17:25.839493100Z",
     "start_time": "2023-09-04T14:17:25.800909400Z"
    }
   },
   "id": "d93bd741ee416d33"
  },
  {
   "cell_type": "code",
   "execution_count": 73,
   "outputs": [
    {
     "ename": "AssertionError",
     "evalue": "Expected CLPRICE in {'@type': 'MARKETCAP', '@unit': 'M', '@currCode': 'EUR', '#text': '654.06'}",
     "output_type": "error",
     "traceback": [
      "\u001B[1;31m---------------------------------------------------------------------------\u001B[0m",
      "\u001B[1;31mAssertionError\u001B[0m                            Traceback (most recent call last)",
      "Cell \u001B[1;32mIn[73], line 1\u001B[0m\n\u001B[1;32m----> 1\u001B[0m \u001B[43mgg\u001B[49m\u001B[43m[\u001B[49m\u001B[38;5;124;43m'\u001B[39;49m\u001B[38;5;124;43mprice\u001B[39;49m\u001B[38;5;124;43m'\u001B[39;49m\u001B[43m]\u001B[49m, gg[\u001B[38;5;124m'\u001B[39m\u001B[38;5;124mhigh_52w\u001B[39m\u001B[38;5;124m'\u001B[39m], gg[\u001B[38;5;124m'\u001B[39m\u001B[38;5;124mlow_52w\u001B[39m\u001B[38;5;124m'\u001B[39m], gg[\u001B[38;5;124m'\u001B[39m\u001B[38;5;124mmarket_cap\u001B[39m\u001B[38;5;124m'\u001B[39m]\n",
      "File \u001B[1;32m~\\OneDrive\\Khan\\research\\data-foundation\\omniply\\core\\abstract.py:80\u001B[0m, in \u001B[0;36mAbstractGig.__getitem__\u001B[1;34m(self, item)\u001B[0m\n\u001B[0;32m     79\u001B[0m \u001B[38;5;28;01mdef\u001B[39;00m \u001B[38;5;21m__getitem__\u001B[39m(\u001B[38;5;28mself\u001B[39m, item):\n\u001B[1;32m---> 80\u001B[0m \t\u001B[38;5;28;01mreturn\u001B[39;00m \u001B[38;5;28;43mself\u001B[39;49m\u001B[38;5;241;43m.\u001B[39;49m\u001B[43mgrab\u001B[49m\u001B[43m(\u001B[49m\u001B[43mitem\u001B[49m\u001B[43m)\u001B[49m\n",
      "File \u001B[1;32m~\\OneDrive\\Khan\\research\\data-foundation\\omniply\\core\\abstract.py:72\u001B[0m, in \u001B[0;36mAbstractGig.grab\u001B[1;34m(self, gizmo, default)\u001B[0m\n\u001B[0;32m     67\u001B[0m \u001B[38;5;250m\u001B[39m\u001B[38;5;124;03m'''\u001B[39;00m\n\u001B[0;32m     68\u001B[0m \u001B[38;5;124;03mconvenience function for grab_from to match dict.get api\u001B[39;00m\n\u001B[0;32m     69\u001B[0m \u001B[38;5;124;03mreturns the given gizmo from this gadget, or raises ToolFailedError\u001B[39;00m\n\u001B[0;32m     70\u001B[0m \u001B[38;5;124;03m'''\u001B[39;00m\n\u001B[0;32m     71\u001B[0m \u001B[38;5;28;01mtry\u001B[39;00m:\n\u001B[1;32m---> 72\u001B[0m \t\u001B[38;5;28;01mreturn\u001B[39;00m \u001B[38;5;28;43mself\u001B[39;49m\u001B[38;5;241;43m.\u001B[39;49m\u001B[43mgrab_from\u001B[49m\u001B[43m(\u001B[49m\u001B[38;5;28;43;01mNone\u001B[39;49;00m\u001B[43m,\u001B[49m\u001B[43m \u001B[49m\u001B[43mgizmo\u001B[49m\u001B[43m)\u001B[49m\n\u001B[0;32m     73\u001B[0m \u001B[38;5;28;01mexcept\u001B[39;00m AbstractGadgetFailedError:\n\u001B[0;32m     74\u001B[0m \t\u001B[38;5;28;01mif\u001B[39;00m default \u001B[38;5;129;01mis\u001B[39;00m unspecified_argument:\n",
      "File \u001B[1;32m~\\OneDrive\\Khan\\research\\data-foundation\\omniply\\core\\gigs.py:61\u001B[0m, in \u001B[0;36mCacheGig.grab_from\u001B[1;34m(self, ctx, gizmo)\u001B[0m\n\u001B[0;32m     59\u001B[0m \u001B[38;5;28;01mif\u001B[39;00m \u001B[38;5;28mself\u001B[39m\u001B[38;5;241m.\u001B[39mis_cached(gizmo):\n\u001B[0;32m     60\u001B[0m \t\u001B[38;5;28;01mreturn\u001B[39;00m \u001B[38;5;28mself\u001B[39m\u001B[38;5;241m.\u001B[39mdata[gizmo]\n\u001B[1;32m---> 61\u001B[0m val \u001B[38;5;241m=\u001B[39m \u001B[38;5;28;43msuper\u001B[39;49m\u001B[43m(\u001B[49m\u001B[43m)\u001B[49m\u001B[38;5;241;43m.\u001B[39;49m\u001B[43mgrab_from\u001B[49m\u001B[43m(\u001B[49m\u001B[43mctx\u001B[49m\u001B[43m,\u001B[49m\u001B[43m \u001B[49m\u001B[43mgizmo\u001B[49m\u001B[43m)\u001B[49m\n\u001B[0;32m     62\u001B[0m \u001B[38;5;28mself\u001B[39m\u001B[38;5;241m.\u001B[39mdata[gizmo] \u001B[38;5;241m=\u001B[39m val  \u001B[38;5;66;03m# cache loaded val\u001B[39;00m\n\u001B[0;32m     63\u001B[0m \u001B[38;5;28;01mreturn\u001B[39;00m val\n",
      "File \u001B[1;32m~\\OneDrive\\Khan\\research\\data-foundation\\omniply\\core\\gigs.py:25\u001B[0m, in \u001B[0;36mGigBase.grab_from\u001B[1;34m(self, ctx, gizmo)\u001B[0m\n\u001B[0;32m     23\u001B[0m \u001B[38;5;28;01mdef\u001B[39;00m \u001B[38;5;21mgrab_from\u001B[39m(\u001B[38;5;28mself\u001B[39m, ctx: Optional[AbstractGig], gizmo: \u001B[38;5;28mstr\u001B[39m) \u001B[38;5;241m-\u001B[39m\u001B[38;5;241m>\u001B[39m Any:\n\u001B[0;32m     24\u001B[0m \t\u001B[38;5;28;01mtry\u001B[39;00m:\n\u001B[1;32m---> 25\u001B[0m \t\tout \u001B[38;5;241m=\u001B[39m \u001B[38;5;28;43mself\u001B[39;49m\u001B[38;5;241;43m.\u001B[39;49m\u001B[43m_grab\u001B[49m\u001B[43m(\u001B[49m\u001B[43mgizmo\u001B[49m\u001B[43m)\u001B[49m\n\u001B[0;32m     26\u001B[0m \t\u001B[38;5;28;01mexcept\u001B[39;00m \u001B[38;5;28mself\u001B[39m\u001B[38;5;241m.\u001B[39m_GadgetFailedError \u001B[38;5;28;01mas\u001B[39;00m error:\n\u001B[0;32m     27\u001B[0m \t\tout \u001B[38;5;241m=\u001B[39m \u001B[38;5;28mself\u001B[39m\u001B[38;5;241m.\u001B[39m_grab_from_fallback(error, ctx, gizmo)\n",
      "File \u001B[1;32m~\\OneDrive\\Khan\\research\\data-foundation\\omniply\\core\\gigs.py:20\u001B[0m, in \u001B[0;36mGigBase._grab\u001B[1;34m(self, gizmo)\u001B[0m\n\u001B[0;32m     19\u001B[0m \u001B[38;5;28;01mdef\u001B[39;00m \u001B[38;5;21m_grab\u001B[39m(\u001B[38;5;28mself\u001B[39m, gizmo: \u001B[38;5;28mstr\u001B[39m) \u001B[38;5;241m-\u001B[39m\u001B[38;5;241m>\u001B[39m Any:\n\u001B[1;32m---> 20\u001B[0m \t\u001B[38;5;28;01mreturn\u001B[39;00m \u001B[38;5;28;43msuper\u001B[39;49m\u001B[43m(\u001B[49m\u001B[43m)\u001B[49m\u001B[38;5;241;43m.\u001B[39;49m\u001B[43mgrab_from\u001B[49m\u001B[43m(\u001B[49m\u001B[38;5;28;43mself\u001B[39;49m\u001B[43m,\u001B[49m\u001B[43m \u001B[49m\u001B[43mgizmo\u001B[49m\u001B[43m)\u001B[49m\n",
      "File \u001B[1;32m~\\OneDrive\\Khan\\research\\data-foundation\\omniply\\core\\gaggles.py:85\u001B[0m, in \u001B[0;36mLoopyGaggle.grab_from\u001B[1;34m(self, ctx, gizmo)\u001B[0m\n\u001B[0;32m     83\u001B[0m \u001B[38;5;28;01mfor\u001B[39;00m gadget \u001B[38;5;129;01min\u001B[39;00m itr:\n\u001B[0;32m     84\u001B[0m \t\u001B[38;5;28;01mtry\u001B[39;00m:\n\u001B[1;32m---> 85\u001B[0m \t\tout \u001B[38;5;241m=\u001B[39m \u001B[43mgadget\u001B[49m\u001B[38;5;241;43m.\u001B[39;49m\u001B[43mgrab_from\u001B[49m\u001B[43m(\u001B[49m\u001B[43mctx\u001B[49m\u001B[43m,\u001B[49m\u001B[43m \u001B[49m\u001B[43mgizmo\u001B[49m\u001B[43m)\u001B[49m\n\u001B[0;32m     86\u001B[0m \t\u001B[38;5;28;01mexcept\u001B[39;00m \u001B[38;5;28mself\u001B[39m\u001B[38;5;241m.\u001B[39m_GadgetFailedError \u001B[38;5;28;01mas\u001B[39;00m e:\n\u001B[0;32m     87\u001B[0m \t\tfailures[e] \u001B[38;5;241m=\u001B[39m gadget\n",
      "File \u001B[1;32m~\\OneDrive\\Khan\\research\\data-foundation\\omniply\\core\\gadgets.py:74\u001B[0m, in \u001B[0;36mAutoFunctionGadget.grab_from\u001B[1;34m(self, ctx, gizmo)\u001B[0m\n\u001B[0;32m     71\u001B[0m \t\u001B[38;5;28;01mraise\u001B[39;00m \u001B[38;5;28mself\u001B[39m\u001B[38;5;241m.\u001B[39m_MissingGizmoError(gizmo)\n\u001B[0;32m     73\u001B[0m args, kwargs \u001B[38;5;241m=\u001B[39m \u001B[38;5;28mself\u001B[39m\u001B[38;5;241m.\u001B[39m_extract_gizmo_args(\u001B[38;5;28mself\u001B[39m\u001B[38;5;241m.\u001B[39m_fn, ctx)\n\u001B[1;32m---> 74\u001B[0m \u001B[38;5;28;01mreturn\u001B[39;00m \u001B[38;5;28;43mself\u001B[39;49m\u001B[38;5;241;43m.\u001B[39;49m\u001B[43m_fn\u001B[49m\u001B[43m(\u001B[49m\u001B[38;5;241;43m*\u001B[39;49m\u001B[43margs\u001B[49m\u001B[43m,\u001B[49m\u001B[43m \u001B[49m\u001B[38;5;241;43m*\u001B[39;49m\u001B[38;5;241;43m*\u001B[39;49m\u001B[43mkwargs\u001B[49m\u001B[43m)\u001B[49m\n",
      "File \u001B[1;32m~\\OneDrive\\Khan\\projects\\stox\\stox\\ibkr.py:339\u001B[0m, in \u001B[0;36mIBKR_Stats.get_price\u001B[1;34m(self, recommendations)\u001B[0m\n\u001B[0;32m    336\u001B[0m \u001B[38;5;129m@tool\u001B[39m(\u001B[38;5;124m'\u001B[39m\u001B[38;5;124mprice\u001B[39m\u001B[38;5;124m'\u001B[39m)\n\u001B[0;32m    337\u001B[0m \u001B[38;5;28;01mdef\u001B[39;00m \u001B[38;5;21mget_price\u001B[39m(\u001B[38;5;28mself\u001B[39m, recommendations):\n\u001B[0;32m    338\u001B[0m \tentry \u001B[38;5;241m=\u001B[39m recommendations[\u001B[38;5;124m'\u001B[39m\u001B[38;5;124mCompany\u001B[39m\u001B[38;5;124m'\u001B[39m][\u001B[38;5;124m'\u001B[39m\u001B[38;5;124mSecurityInfo\u001B[39m\u001B[38;5;124m'\u001B[39m][\u001B[38;5;124m'\u001B[39m\u001B[38;5;124mSecurity\u001B[39m\u001B[38;5;124m'\u001B[39m][\u001B[38;5;124m'\u001B[39m\u001B[38;5;124mMarketData\u001B[39m\u001B[38;5;124m'\u001B[39m][\u001B[38;5;124m'\u001B[39m\u001B[38;5;124mMarketDataItem\u001B[39m\u001B[38;5;124m'\u001B[39m][\u001B[38;5;241m0\u001B[39m]\n\u001B[1;32m--> 339\u001B[0m \t\u001B[38;5;28;01massert\u001B[39;00m entry[\u001B[38;5;124m'\u001B[39m\u001B[38;5;124m@unit\u001B[39m\u001B[38;5;124m'\u001B[39m] \u001B[38;5;241m==\u001B[39m \u001B[38;5;124m'\u001B[39m\u001B[38;5;124mU\u001B[39m\u001B[38;5;124m'\u001B[39m \u001B[38;5;129;01mand\u001B[39;00m entry[\u001B[38;5;124m'\u001B[39m\u001B[38;5;124m@type\u001B[39m\u001B[38;5;124m'\u001B[39m] \u001B[38;5;241m==\u001B[39m \u001B[38;5;124m'\u001B[39m\u001B[38;5;124mCLPRICE\u001B[39m\u001B[38;5;124m'\u001B[39m, \u001B[38;5;124mf\u001B[39m\u001B[38;5;124m'\u001B[39m\u001B[38;5;124mExpected CLPRICE in \u001B[39m\u001B[38;5;132;01m{\u001B[39;00mentry\u001B[38;5;132;01m}\u001B[39;00m\u001B[38;5;124m'\u001B[39m\n\u001B[0;32m    340\u001B[0m \t\u001B[38;5;28;01mreturn\u001B[39;00m Money(\u001B[38;5;28mfloat\u001B[39m(entry[\u001B[38;5;124m'\u001B[39m\u001B[38;5;124m#text\u001B[39m\u001B[38;5;124m'\u001B[39m]), entry[\u001B[38;5;124m'\u001B[39m\u001B[38;5;124m@currCode\u001B[39m\u001B[38;5;124m'\u001B[39m])\n",
      "\u001B[1;31mAssertionError\u001B[0m: Expected CLPRICE in {'@type': 'MARKETCAP', '@unit': 'M', '@currCode': 'EUR', '#text': '654.06'}"
     ]
    }
   ],
   "source": [
    "gg['price'], gg['high_52w'], gg['low_52w'], gg['market_cap']"
   ],
   "metadata": {
    "collapsed": false,
    "ExecuteTime": {
     "end_time": "2023-09-04T14:19:33.513267800Z",
     "start_time": "2023-09-04T14:18:01.861175200Z"
    }
   },
   "id": "cb1b1f6db264a08"
  },
  {
   "cell_type": "code",
   "execution_count": 77,
   "outputs": [
    {
     "data": {
      "text/plain": "('Technology', 'IT Services & Consulting (NEC)')"
     },
     "execution_count": 77,
     "metadata": {},
     "output_type": "execute_result"
    }
   ],
   "source": [
    "gg['sector'], gg['industry']"
   ],
   "metadata": {
    "collapsed": false,
    "ExecuteTime": {
     "end_time": "2023-09-04T14:21:01.867291100Z",
     "start_time": "2023-09-04T14:21:01.842242500Z"
    }
   },
   "id": "72e5d1e43664d956"
  },
  {
   "cell_type": "code",
   "execution_count": 78,
   "outputs": [
    {
     "data": {
      "text/plain": "('Athina', 'Greece', 2621)"
     },
     "execution_count": 78,
     "metadata": {},
     "output_type": "execute_result"
    }
   ],
   "source": [
    "gg['city'], gg['country_name'], gg['employees']"
   ],
   "metadata": {
    "collapsed": false,
    "ExecuteTime": {
     "end_time": "2023-09-04T14:21:02.058364800Z",
     "start_time": "2023-09-04T14:21:02.016830200Z"
    }
   },
   "id": "f7938989778bc745"
  },
  {
   "cell_type": "code",
   "execution_count": 54,
   "outputs": [],
   "source": [],
   "metadata": {
    "collapsed": false,
    "ExecuteTime": {
     "end_time": "2023-09-04T14:16:54.457973700Z",
     "start_time": "2023-09-04T14:16:54.428962Z"
    }
   },
   "id": "67775739ad28e302"
  },
  {
   "cell_type": "code",
   "execution_count": 76,
   "outputs": [
    {
     "data": {
      "text/plain": "['Custom Computer Programming Services',\n 'Web Search Portals and All Other Information Services',\n 'Computing Infrastructure Providers, Data Processing, Web Hosting, and Related Services',\n 'Computer Systems Design Services',\n 'Postal Service',\n 'All Other Miscellaneous Retailers',\n 'Offices of Other Holding Companies']"
     },
     "execution_count": 76,
     "metadata": {},
     "output_type": "execute_result"
    }
   ],
   "source": [
    "gg['industry_naics']"
   ],
   "metadata": {
    "collapsed": false,
    "ExecuteTime": {
     "end_time": "2023-09-04T14:20:56.053962Z",
     "start_time": "2023-09-04T14:20:56.039659100Z"
    }
   },
   "id": "6c75d408a1bce46d"
  },
  {
   "cell_type": "code",
   "execution_count": null,
   "outputs": [],
   "source": [],
   "metadata": {
    "collapsed": false
   },
   "id": "63de8e115c5c5416"
  },
  {
   "cell_type": "code",
   "execution_count": 10,
   "outputs": [
    {
     "data": {
      "text/plain": "[_ToolSkill(IBKR_Stats.get_exchange_from_snapshot: exchange),\n _ToolSkill(IBKR_Stats.get_exchange_from_rec: exchange)]"
     },
     "execution_count": 10,
     "metadata": {},
     "output_type": "execute_result"
    }
   ],
   "source": [
    "list(gg.vendors('exchange'))"
   ],
   "metadata": {
    "collapsed": false,
    "ExecuteTime": {
     "end_time": "2023-09-04T12:40:40.100680900Z",
     "start_time": "2023-09-04T12:40:40.059971600Z"
    }
   },
   "id": "b45847e3f8d2f05e"
  },
  {
   "cell_type": "code",
   "execution_count": null,
   "outputs": [],
   "source": [],
   "metadata": {
    "collapsed": false
   },
   "id": "701c396002207a53"
  },
  {
   "cell_type": "code",
   "execution_count": null,
   "outputs": [],
   "source": [],
   "metadata": {
    "collapsed": false,
    "ExecuteTime": {
     "end_time": "2023-08-29T21:18:07.825577Z",
     "start_time": "2023-08-29T21:18:07.822561700Z"
    }
   },
   "id": "7a6bf2e35c975e8a"
  },
  {
   "cell_type": "code",
   "execution_count": null,
   "outputs": [],
   "source": [],
   "metadata": {
    "collapsed": false
   },
   "id": "6da065f957e36fb7"
  }
 ],
 "metadata": {
  "kernelspec": {
   "display_name": "Python 3",
   "language": "python",
   "name": "python3"
  },
  "language_info": {
   "codemirror_mode": {
    "name": "ipython",
    "version": 2
   },
   "file_extension": ".py",
   "mimetype": "text/x-python",
   "name": "python",
   "nbconvert_exporter": "python",
   "pygments_lexer": "ipython2",
   "version": "2.7.6"
  }
 },
 "nbformat": 4,
 "nbformat_minor": 5
}
