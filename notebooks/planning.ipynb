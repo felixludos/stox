{
 "cells": [
  {
   "cell_type": "code",
   "execution_count": 12,
   "id": "initial_id",
   "metadata": {
    "collapsed": true,
    "ExecuteTime": {
     "end_time": "2023-08-30T12:00:39.935390500Z",
     "start_time": "2023-08-30T12:00:39.910211400Z"
    }
   },
   "outputs": [],
   "source": [
    "import random\n",
    "from collections import Counter\n",
    "import stox\n",
    "# from ib_insync import *\n",
    "from stox.imports import *\n",
    "from stox.ibkr import IB_Extractor, describe_contract, download_reports, IBKR_Loader, IBKR_Stats\n",
    "from tqdm.notebook import tqdm\n",
    "from omnibelt import tqdmd_notebook as tqdmd\n",
    "from stox import misc, yahoo, ibkr\n",
    "from collections import namedtuple\n",
    "from omniply.novo.test_novo import TestCraftyKitBase, tool, TestContext"
   ]
  },
  {
   "cell_type": "code",
   "execution_count": 2,
   "outputs": [
    {
     "data": {
      "text/plain": "272"
     },
     "execution_count": 2,
     "metadata": {},
     "output_type": "execute_result"
    }
   ],
   "source": [
    "symbol_table = stox.load_symbol_table()\n",
    "len(symbol_table)"
   ],
   "metadata": {
    "collapsed": false,
    "ExecuteTime": {
     "end_time": "2023-08-30T11:57:53.793759300Z",
     "start_time": "2023-08-30T11:57:53.584361400Z"
    }
   },
   "id": "b580bd1c33ae0bf7"
  },
  {
   "cell_type": "code",
   "execution_count": 3,
   "outputs": [
    {
     "data": {
      "text/plain": "239"
     },
     "execution_count": 3,
     "metadata": {},
     "output_type": "execute_result"
    }
   ],
   "source": [
    "rows = [(k, v) for k, v in symbol_table.items() if v['currency'] == 'EUR']\n",
    "len(rows)"
   ],
   "metadata": {
    "collapsed": false,
    "ExecuteTime": {
     "end_time": "2023-08-30T11:57:53.821278600Z",
     "start_time": "2023-08-30T11:57:53.793759300Z"
    }
   },
   "id": "231c0c8a4e9a6940"
  },
  {
   "cell_type": "code",
   "execution_count": 5,
   "outputs": [],
   "source": [
    "date = '230829'\n",
    "# date = 'last'\n",
    "loader = IBKR_Loader(date=date, root=misc.ibkr_root())"
   ],
   "metadata": {
    "collapsed": false,
    "ExecuteTime": {
     "end_time": "2023-08-30T11:58:03.583902100Z",
     "start_time": "2023-08-30T11:58:03.526612100Z"
    }
   },
   "id": "4c20ba9474b50325"
  },
  {
   "cell_type": "code",
   "execution_count": 13,
   "outputs": [
    {
     "name": "stdout",
     "output_type": "stream",
     "text": [
      "COL.MC\n"
     ]
    }
   ],
   "source": [
    "yfsym, ibrow = random.choice(rows)\n",
    "gg = TestContext().include(loader, IBKR_Stats())\n",
    "gg.update(ibrow)\n",
    "gg['ibsym'] = ibrow['symbol']\n",
    "gg['ibid'] = ibrow['conId']\n",
    "gg['yfsym'] = yfsym\n",
    "print(yfsym)"
   ],
   "metadata": {
    "collapsed": false,
    "ExecuteTime": {
     "end_time": "2023-08-30T12:00:42.568934900Z",
     "start_time": "2023-08-30T12:00:42.464555400Z"
    }
   },
   "id": "cb6da46884305a52"
  },
  {
   "cell_type": "code",
   "execution_count": 14,
   "outputs": [
    {
     "data": {
      "text/plain": "TestContext(conId, currency, exchange, primaryExchange, symbol, ibsym, ibid, yfsym, {ckpt_date}, {ckpt_path}, {snapshot}, {ownership}, {finances}, {statements}, {recommendations}, {company_name}, {exchange_name}, {country}, {isin}, {clprice}, {price}, {market_cap}, {high_52w}, {low_52w}, {sector}, {employees}, {employees_date}, {business_summary}, {brief}, {brief_date}, {country_code}, {country_name}, {city}, {website}, {industry_trbc}, {industry_trbc_code}, {industry}, {industry_naics_code}, {industry_sic}, {industry_sic_code})"
     },
     "execution_count": 14,
     "metadata": {},
     "output_type": "execute_result"
    }
   ],
   "source": [
    "gg"
   ],
   "metadata": {
    "collapsed": false,
    "ExecuteTime": {
     "end_time": "2023-08-30T12:00:50.583770200Z",
     "start_time": "2023-08-30T12:00:50.501120300Z"
    }
   },
   "id": "2cbe811509a87109"
  },
  {
   "cell_type": "code",
   "execution_count": 15,
   "outputs": [
    {
     "ename": "FileNotFoundError",
     "evalue": "[WinError 3] The system cannot find the path specified: 'C:\\\\Users\\\\anwan\\\\OneDrive\\\\Khan\\\\projects\\\\stox\\\\stockdata\\\\ibkr_data\\\\241892013'",
     "output_type": "error",
     "traceback": [
      "\u001B[1;31m---------------------------------------------------------------------------\u001B[0m",
      "\u001B[1;31mFileNotFoundError\u001B[0m                         Traceback (most recent call last)",
      "Cell \u001B[1;32mIn[15], line 1\u001B[0m\n\u001B[1;32m----> 1\u001B[0m \u001B[43mgg\u001B[49m\u001B[43m[\u001B[49m\u001B[38;5;124;43m'\u001B[39;49m\u001B[38;5;124;43mcompany_name\u001B[39;49m\u001B[38;5;124;43m'\u001B[39;49m\u001B[43m]\u001B[49m\n",
      "File \u001B[1;32m~\\OneDrive\\Khan\\research\\data-foundation\\omniply\\novo\\abstract.py:94\u001B[0m, in \u001B[0;36mAbstractContext.__getitem__\u001B[1;34m(self, item)\u001B[0m\n\u001B[0;32m     93\u001B[0m \u001B[38;5;28;01mdef\u001B[39;00m \u001B[38;5;21m__getitem__\u001B[39m(\u001B[38;5;28mself\u001B[39m, item):\n\u001B[1;32m---> 94\u001B[0m \t\u001B[38;5;28;01mreturn\u001B[39;00m \u001B[38;5;28;43mself\u001B[39;49m\u001B[38;5;241;43m.\u001B[39;49m\u001B[43mgrab\u001B[49m\u001B[43m(\u001B[49m\u001B[43mitem\u001B[49m\u001B[43m)\u001B[49m\n",
      "File \u001B[1;32m~\\OneDrive\\Khan\\research\\data-foundation\\omniply\\novo\\abstract.py:86\u001B[0m, in \u001B[0;36mAbstractContext.grab\u001B[1;34m(self, gizmo, default)\u001B[0m\n\u001B[0;32m     84\u001B[0m \u001B[38;5;28;01mdef\u001B[39;00m \u001B[38;5;21mgrab\u001B[39m(\u001B[38;5;28mself\u001B[39m, gizmo: \u001B[38;5;28mstr\u001B[39m, default: Any \u001B[38;5;241m=\u001B[39m unspecified_argument):\n\u001B[0;32m     85\u001B[0m \t\u001B[38;5;28;01mtry\u001B[39;00m:\n\u001B[1;32m---> 86\u001B[0m \t\t\u001B[38;5;28;01mreturn\u001B[39;00m \u001B[38;5;28;43mself\u001B[39;49m\u001B[38;5;241;43m.\u001B[39;49m\u001B[43mgrab_from\u001B[49m\u001B[43m(\u001B[49m\u001B[38;5;28;43;01mNone\u001B[39;49;00m\u001B[43m,\u001B[49m\u001B[43m \u001B[49m\u001B[43mgizmo\u001B[49m\u001B[43m)\u001B[49m\n\u001B[0;32m     87\u001B[0m \t\u001B[38;5;28;01mexcept\u001B[39;00m AbstractToolFailedError:\n\u001B[0;32m     88\u001B[0m \t\t\u001B[38;5;28;01mif\u001B[39;00m default \u001B[38;5;129;01mis\u001B[39;00m unspecified_argument:\n",
      "File \u001B[1;32m~\\OneDrive\\Khan\\research\\data-foundation\\omniply\\novo\\contexts.py:59\u001B[0m, in \u001B[0;36mCached.grab_from\u001B[1;34m(self, ctx, gizmo)\u001B[0m\n\u001B[0;32m     57\u001B[0m \u001B[38;5;28;01mif\u001B[39;00m \u001B[38;5;28mself\u001B[39m\u001B[38;5;241m.\u001B[39mis_cached(gizmo):\n\u001B[0;32m     58\u001B[0m \t\u001B[38;5;28;01mreturn\u001B[39;00m \u001B[38;5;28mself\u001B[39m\u001B[38;5;241m.\u001B[39mdata[gizmo]\n\u001B[1;32m---> 59\u001B[0m val \u001B[38;5;241m=\u001B[39m \u001B[38;5;28;43msuper\u001B[39;49m\u001B[43m(\u001B[49m\u001B[43m)\u001B[49m\u001B[38;5;241;43m.\u001B[39;49m\u001B[43mgrab_from\u001B[49m\u001B[43m(\u001B[49m\u001B[43mctx\u001B[49m\u001B[43m,\u001B[49m\u001B[43m \u001B[49m\u001B[43mgizmo\u001B[49m\u001B[43m)\u001B[49m\n\u001B[0;32m     60\u001B[0m \u001B[38;5;28mself\u001B[39m\u001B[38;5;241m.\u001B[39mdata[gizmo] \u001B[38;5;241m=\u001B[39m val  \u001B[38;5;66;03m# cache loaded val\u001B[39;00m\n\u001B[0;32m     61\u001B[0m \u001B[38;5;28;01mreturn\u001B[39;00m val\n",
      "File \u001B[1;32m~\\OneDrive\\Khan\\research\\data-foundation\\omniply\\novo\\contexts.py:21\u001B[0m, in \u001B[0;36mContext.grab_from\u001B[1;34m(self, ctx, gizmo)\u001B[0m\n\u001B[0;32m     19\u001B[0m \u001B[38;5;28;01mdef\u001B[39;00m \u001B[38;5;21mgrab_from\u001B[39m(\u001B[38;5;28mself\u001B[39m, ctx: Optional[\u001B[38;5;124m'\u001B[39m\u001B[38;5;124mAbstractContext\u001B[39m\u001B[38;5;124m'\u001B[39m], gizmo: \u001B[38;5;28mstr\u001B[39m) \u001B[38;5;241m-\u001B[39m\u001B[38;5;241m>\u001B[39m Any:\n\u001B[0;32m     20\u001B[0m \t\u001B[38;5;28;01mtry\u001B[39;00m:\n\u001B[1;32m---> 21\u001B[0m \t\tout \u001B[38;5;241m=\u001B[39m \u001B[38;5;28;43mself\u001B[39;49m\u001B[38;5;241;43m.\u001B[39;49m\u001B[43m_grab\u001B[49m\u001B[43m(\u001B[49m\u001B[43mgizmo\u001B[49m\u001B[43m)\u001B[49m\n\u001B[0;32m     22\u001B[0m \t\u001B[38;5;28;01mexcept\u001B[39;00m ToolFailedError \u001B[38;5;28;01mas\u001B[39;00m error:\n\u001B[0;32m     23\u001B[0m \t\tout \u001B[38;5;241m=\u001B[39m \u001B[38;5;28mself\u001B[39m\u001B[38;5;241m.\u001B[39m_grab_from_fallback(error, ctx, gizmo)\n",
      "File \u001B[1;32m~\\OneDrive\\Khan\\research\\data-foundation\\omniply\\novo\\contexts.py:16\u001B[0m, in \u001B[0;36mContext._grab\u001B[1;34m(self, gizmo)\u001B[0m\n\u001B[0;32m     15\u001B[0m \u001B[38;5;28;01mdef\u001B[39;00m \u001B[38;5;21m_grab\u001B[39m(\u001B[38;5;28mself\u001B[39m, gizmo: \u001B[38;5;28mstr\u001B[39m) \u001B[38;5;241m-\u001B[39m\u001B[38;5;241m>\u001B[39m Any:\n\u001B[1;32m---> 16\u001B[0m \t\u001B[38;5;28;01mreturn\u001B[39;00m \u001B[38;5;28;43msuper\u001B[39;49m\u001B[43m(\u001B[49m\u001B[43m)\u001B[49m\u001B[38;5;241;43m.\u001B[39;49m\u001B[43mgrab_from\u001B[49m\u001B[43m(\u001B[49m\u001B[38;5;28;43mself\u001B[39;49m\u001B[43m,\u001B[49m\u001B[43m \u001B[49m\u001B[43mgizmo\u001B[49m\u001B[43m)\u001B[49m\n",
      "File \u001B[1;32m~\\OneDrive\\Khan\\research\\data-foundation\\omniply\\novo\\kits.py:73\u001B[0m, in \u001B[0;36mLoopyKit.grab_from\u001B[1;34m(self, ctx, gizmo)\u001B[0m\n\u001B[0;32m     71\u001B[0m \u001B[38;5;28;01mfor\u001B[39;00m tool \u001B[38;5;129;01min\u001B[39;00m itr:\n\u001B[0;32m     72\u001B[0m \t\u001B[38;5;28;01mtry\u001B[39;00m:\n\u001B[1;32m---> 73\u001B[0m \t\tout \u001B[38;5;241m=\u001B[39m \u001B[43mtool\u001B[49m\u001B[38;5;241;43m.\u001B[39;49m\u001B[43mgrab_from\u001B[49m\u001B[43m(\u001B[49m\u001B[43mctx\u001B[49m\u001B[43m,\u001B[49m\u001B[43m \u001B[49m\u001B[43mgizmo\u001B[49m\u001B[43m)\u001B[49m\n\u001B[0;32m     74\u001B[0m \t\u001B[38;5;28;01mexcept\u001B[39;00m ToolFailedError \u001B[38;5;28;01mas\u001B[39;00m e:\n\u001B[0;32m     75\u001B[0m \t\te\u001B[38;5;241m.\u001B[39mtool \u001B[38;5;241m=\u001B[39m tool\n",
      "File \u001B[1;32m~\\OneDrive\\Khan\\research\\data-foundation\\omniply\\novo\\tools.py:90\u001B[0m, in \u001B[0;36mAutoFunctionTool.grab_from\u001B[1;34m(self, ctx, gizmo)\u001B[0m\n\u001B[0;32m     87\u001B[0m \u001B[38;5;28;01mif\u001B[39;00m gizmo \u001B[38;5;241m!=\u001B[39m \u001B[38;5;28mself\u001B[39m\u001B[38;5;241m.\u001B[39m_gizmo:\n\u001B[0;32m     88\u001B[0m \t\u001B[38;5;28;01mraise\u001B[39;00m \u001B[38;5;28mself\u001B[39m\u001B[38;5;241m.\u001B[39m_MissingGizmoError(gizmo)\n\u001B[1;32m---> 90\u001B[0m args, kwargs \u001B[38;5;241m=\u001B[39m \u001B[38;5;28;43mself\u001B[39;49m\u001B[38;5;241;43m.\u001B[39;49m\u001B[43m_extract_gizmo_args\u001B[49m\u001B[43m(\u001B[49m\u001B[38;5;28;43mself\u001B[39;49m\u001B[38;5;241;43m.\u001B[39;49m\u001B[43m_fn\u001B[49m\u001B[43m,\u001B[49m\u001B[43m \u001B[49m\u001B[43mctx\u001B[49m\u001B[43m)\u001B[49m\n\u001B[0;32m     91\u001B[0m \u001B[38;5;28;01mreturn\u001B[39;00m \u001B[38;5;28mself\u001B[39m\u001B[38;5;241m.\u001B[39m_fn(\u001B[38;5;241m*\u001B[39margs, \u001B[38;5;241m*\u001B[39m\u001B[38;5;241m*\u001B[39mkwargs)\n",
      "File \u001B[1;32m~\\OneDrive\\Khan\\research\\data-foundation\\omniply\\novo\\tools.py:83\u001B[0m, in \u001B[0;36mAutoFunctionTool._extract_gizmo_args\u001B[1;34m(fn, ctx, args, kwargs)\u001B[0m\n\u001B[0;32m     79\u001B[0m \u001B[38;5;129m@staticmethod\u001B[39m\n\u001B[0;32m     80\u001B[0m \u001B[38;5;28;01mdef\u001B[39;00m \u001B[38;5;21m_extract_gizmo_args\u001B[39m(fn: Callable, ctx: AbstractContext,\n\u001B[0;32m     81\u001B[0m                         args: Optional[Tuple] \u001B[38;5;241m=\u001B[39m \u001B[38;5;28;01mNone\u001B[39;00m, kwargs: Optional[Dict[\u001B[38;5;28mstr\u001B[39m, Any]] \u001B[38;5;241m=\u001B[39m \u001B[38;5;28;01mNone\u001B[39;00m) \\\n\u001B[0;32m     82\u001B[0m \t\t\u001B[38;5;241m-\u001B[39m\u001B[38;5;241m>\u001B[39m Tuple[Tuple, Dict[\u001B[38;5;28mstr\u001B[39m, Any]]:\n\u001B[1;32m---> 83\u001B[0m \t\u001B[38;5;28;01mreturn\u001B[39;00m \u001B[43mextract_function_signature\u001B[49m\u001B[43m(\u001B[49m\u001B[43mfn\u001B[49m\u001B[43m,\u001B[49m\u001B[43m \u001B[49m\u001B[43mdefault_fn\u001B[49m\u001B[38;5;241;43m=\u001B[39;49m\u001B[38;5;28;43;01mlambda\u001B[39;49;00m\u001B[43m \u001B[49m\u001B[43mgizmo\u001B[49m\u001B[43m,\u001B[49m\u001B[43m \u001B[49m\u001B[43mdefault\u001B[49m\u001B[43m:\u001B[49m\u001B[43m \u001B[49m\u001B[43mctx\u001B[49m\u001B[38;5;241;43m.\u001B[39;49m\u001B[43mgrab_from\u001B[49m\u001B[43m(\u001B[49m\u001B[43mctx\u001B[49m\u001B[43m,\u001B[49m\u001B[43m \u001B[49m\u001B[43mgizmo\u001B[49m\u001B[43m)\u001B[49m\u001B[43m)\u001B[49m\n",
      "File \u001B[1;32m~\\OneDrive\\Khan\\research\\belt\\omnibelt\\tricks.py:1299\u001B[0m, in \u001B[0;36mextract_function_signature\u001B[1;34m(fn, args, kwargs, default_fn, include_missing, allow_positional, force_no_positional, skip_first)\u001B[0m\n\u001B[0;32m   1297\u001B[0m \t\u001B[38;5;28;01mif\u001B[39;00m default_fn \u001B[38;5;129;01mis\u001B[39;00m \u001B[38;5;28;01mNone\u001B[39;00m:\n\u001B[0;32m   1298\u001B[0m \t\t\u001B[38;5;28;01mraise\u001B[39;00m \u001B[38;5;167;01mKeyError\u001B[39;00m\n\u001B[1;32m-> 1299\u001B[0m \tval \u001B[38;5;241m=\u001B[39m \u001B[43mdefault_fn\u001B[49m\u001B[43m(\u001B[49m\u001B[43mn\u001B[49m\u001B[43m,\u001B[49m\u001B[43m \u001B[49m\u001B[43mp\u001B[49m\u001B[38;5;241;43m.\u001B[39;49m\u001B[43mdefault\u001B[49m\u001B[43m)\u001B[49m\n\u001B[0;32m   1300\u001B[0m \u001B[38;5;28;01mexcept\u001B[39;00m \u001B[38;5;167;01mKeyError\u001B[39;00m:\n\u001B[0;32m   1301\u001B[0m \t\u001B[38;5;28;01mif\u001B[39;00m p\u001B[38;5;241m.\u001B[39mdefault \u001B[38;5;129;01mis\u001B[39;00m p\u001B[38;5;241m.\u001B[39mempty:\n",
      "File \u001B[1;32m~\\OneDrive\\Khan\\research\\data-foundation\\omniply\\novo\\tools.py:83\u001B[0m, in \u001B[0;36mAutoFunctionTool._extract_gizmo_args.<locals>.<lambda>\u001B[1;34m(gizmo, default)\u001B[0m\n\u001B[0;32m     79\u001B[0m \u001B[38;5;129m@staticmethod\u001B[39m\n\u001B[0;32m     80\u001B[0m \u001B[38;5;28;01mdef\u001B[39;00m \u001B[38;5;21m_extract_gizmo_args\u001B[39m(fn: Callable, ctx: AbstractContext,\n\u001B[0;32m     81\u001B[0m                         args: Optional[Tuple] \u001B[38;5;241m=\u001B[39m \u001B[38;5;28;01mNone\u001B[39;00m, kwargs: Optional[Dict[\u001B[38;5;28mstr\u001B[39m, Any]] \u001B[38;5;241m=\u001B[39m \u001B[38;5;28;01mNone\u001B[39;00m) \\\n\u001B[0;32m     82\u001B[0m \t\t\u001B[38;5;241m-\u001B[39m\u001B[38;5;241m>\u001B[39m Tuple[Tuple, Dict[\u001B[38;5;28mstr\u001B[39m, Any]]:\n\u001B[1;32m---> 83\u001B[0m \t\u001B[38;5;28;01mreturn\u001B[39;00m extract_function_signature(fn, default_fn\u001B[38;5;241m=\u001B[39m\u001B[38;5;28;01mlambda\u001B[39;00m gizmo, default: \u001B[43mctx\u001B[49m\u001B[38;5;241;43m.\u001B[39;49m\u001B[43mgrab_from\u001B[49m\u001B[43m(\u001B[49m\u001B[43mctx\u001B[49m\u001B[43m,\u001B[49m\u001B[43m \u001B[49m\u001B[43mgizmo\u001B[49m\u001B[43m)\u001B[49m)\n",
      "File \u001B[1;32m~\\OneDrive\\Khan\\research\\data-foundation\\omniply\\novo\\contexts.py:59\u001B[0m, in \u001B[0;36mCached.grab_from\u001B[1;34m(self, ctx, gizmo)\u001B[0m\n\u001B[0;32m     57\u001B[0m \u001B[38;5;28;01mif\u001B[39;00m \u001B[38;5;28mself\u001B[39m\u001B[38;5;241m.\u001B[39mis_cached(gizmo):\n\u001B[0;32m     58\u001B[0m \t\u001B[38;5;28;01mreturn\u001B[39;00m \u001B[38;5;28mself\u001B[39m\u001B[38;5;241m.\u001B[39mdata[gizmo]\n\u001B[1;32m---> 59\u001B[0m val \u001B[38;5;241m=\u001B[39m \u001B[38;5;28;43msuper\u001B[39;49m\u001B[43m(\u001B[49m\u001B[43m)\u001B[49m\u001B[38;5;241;43m.\u001B[39;49m\u001B[43mgrab_from\u001B[49m\u001B[43m(\u001B[49m\u001B[43mctx\u001B[49m\u001B[43m,\u001B[49m\u001B[43m \u001B[49m\u001B[43mgizmo\u001B[49m\u001B[43m)\u001B[49m\n\u001B[0;32m     60\u001B[0m \u001B[38;5;28mself\u001B[39m\u001B[38;5;241m.\u001B[39mdata[gizmo] \u001B[38;5;241m=\u001B[39m val  \u001B[38;5;66;03m# cache loaded val\u001B[39;00m\n\u001B[0;32m     61\u001B[0m \u001B[38;5;28;01mreturn\u001B[39;00m val\n",
      "File \u001B[1;32m~\\OneDrive\\Khan\\research\\data-foundation\\omniply\\novo\\contexts.py:21\u001B[0m, in \u001B[0;36mContext.grab_from\u001B[1;34m(self, ctx, gizmo)\u001B[0m\n\u001B[0;32m     19\u001B[0m \u001B[38;5;28;01mdef\u001B[39;00m \u001B[38;5;21mgrab_from\u001B[39m(\u001B[38;5;28mself\u001B[39m, ctx: Optional[\u001B[38;5;124m'\u001B[39m\u001B[38;5;124mAbstractContext\u001B[39m\u001B[38;5;124m'\u001B[39m], gizmo: \u001B[38;5;28mstr\u001B[39m) \u001B[38;5;241m-\u001B[39m\u001B[38;5;241m>\u001B[39m Any:\n\u001B[0;32m     20\u001B[0m \t\u001B[38;5;28;01mtry\u001B[39;00m:\n\u001B[1;32m---> 21\u001B[0m \t\tout \u001B[38;5;241m=\u001B[39m \u001B[38;5;28;43mself\u001B[39;49m\u001B[38;5;241;43m.\u001B[39;49m\u001B[43m_grab\u001B[49m\u001B[43m(\u001B[49m\u001B[43mgizmo\u001B[49m\u001B[43m)\u001B[49m\n\u001B[0;32m     22\u001B[0m \t\u001B[38;5;28;01mexcept\u001B[39;00m ToolFailedError \u001B[38;5;28;01mas\u001B[39;00m error:\n\u001B[0;32m     23\u001B[0m \t\tout \u001B[38;5;241m=\u001B[39m \u001B[38;5;28mself\u001B[39m\u001B[38;5;241m.\u001B[39m_grab_from_fallback(error, ctx, gizmo)\n",
      "File \u001B[1;32m~\\OneDrive\\Khan\\research\\data-foundation\\omniply\\novo\\contexts.py:16\u001B[0m, in \u001B[0;36mContext._grab\u001B[1;34m(self, gizmo)\u001B[0m\n\u001B[0;32m     15\u001B[0m \u001B[38;5;28;01mdef\u001B[39;00m \u001B[38;5;21m_grab\u001B[39m(\u001B[38;5;28mself\u001B[39m, gizmo: \u001B[38;5;28mstr\u001B[39m) \u001B[38;5;241m-\u001B[39m\u001B[38;5;241m>\u001B[39m Any:\n\u001B[1;32m---> 16\u001B[0m \t\u001B[38;5;28;01mreturn\u001B[39;00m \u001B[38;5;28;43msuper\u001B[39;49m\u001B[43m(\u001B[49m\u001B[43m)\u001B[49m\u001B[38;5;241;43m.\u001B[39;49m\u001B[43mgrab_from\u001B[49m\u001B[43m(\u001B[49m\u001B[38;5;28;43mself\u001B[39;49m\u001B[43m,\u001B[49m\u001B[43m \u001B[49m\u001B[43mgizmo\u001B[49m\u001B[43m)\u001B[49m\n",
      "File \u001B[1;32m~\\OneDrive\\Khan\\research\\data-foundation\\omniply\\novo\\kits.py:73\u001B[0m, in \u001B[0;36mLoopyKit.grab_from\u001B[1;34m(self, ctx, gizmo)\u001B[0m\n\u001B[0;32m     71\u001B[0m \u001B[38;5;28;01mfor\u001B[39;00m tool \u001B[38;5;129;01min\u001B[39;00m itr:\n\u001B[0;32m     72\u001B[0m \t\u001B[38;5;28;01mtry\u001B[39;00m:\n\u001B[1;32m---> 73\u001B[0m \t\tout \u001B[38;5;241m=\u001B[39m \u001B[43mtool\u001B[49m\u001B[38;5;241;43m.\u001B[39;49m\u001B[43mgrab_from\u001B[49m\u001B[43m(\u001B[49m\u001B[43mctx\u001B[49m\u001B[43m,\u001B[49m\u001B[43m \u001B[49m\u001B[43mgizmo\u001B[49m\u001B[43m)\u001B[49m\n\u001B[0;32m     74\u001B[0m \t\u001B[38;5;28;01mexcept\u001B[39;00m ToolFailedError \u001B[38;5;28;01mas\u001B[39;00m e:\n\u001B[0;32m     75\u001B[0m \t\te\u001B[38;5;241m.\u001B[39mtool \u001B[38;5;241m=\u001B[39m tool\n",
      "File \u001B[1;32m~\\OneDrive\\Khan\\research\\data-foundation\\omniply\\novo\\tools.py:90\u001B[0m, in \u001B[0;36mAutoFunctionTool.grab_from\u001B[1;34m(self, ctx, gizmo)\u001B[0m\n\u001B[0;32m     87\u001B[0m \u001B[38;5;28;01mif\u001B[39;00m gizmo \u001B[38;5;241m!=\u001B[39m \u001B[38;5;28mself\u001B[39m\u001B[38;5;241m.\u001B[39m_gizmo:\n\u001B[0;32m     88\u001B[0m \t\u001B[38;5;28;01mraise\u001B[39;00m \u001B[38;5;28mself\u001B[39m\u001B[38;5;241m.\u001B[39m_MissingGizmoError(gizmo)\n\u001B[1;32m---> 90\u001B[0m args, kwargs \u001B[38;5;241m=\u001B[39m \u001B[38;5;28;43mself\u001B[39;49m\u001B[38;5;241;43m.\u001B[39;49m\u001B[43m_extract_gizmo_args\u001B[49m\u001B[43m(\u001B[49m\u001B[38;5;28;43mself\u001B[39;49m\u001B[38;5;241;43m.\u001B[39;49m\u001B[43m_fn\u001B[49m\u001B[43m,\u001B[49m\u001B[43m \u001B[49m\u001B[43mctx\u001B[49m\u001B[43m)\u001B[49m\n\u001B[0;32m     91\u001B[0m \u001B[38;5;28;01mreturn\u001B[39;00m \u001B[38;5;28mself\u001B[39m\u001B[38;5;241m.\u001B[39m_fn(\u001B[38;5;241m*\u001B[39margs, \u001B[38;5;241m*\u001B[39m\u001B[38;5;241m*\u001B[39mkwargs)\n",
      "File \u001B[1;32m~\\OneDrive\\Khan\\research\\data-foundation\\omniply\\novo\\tools.py:83\u001B[0m, in \u001B[0;36mAutoFunctionTool._extract_gizmo_args\u001B[1;34m(fn, ctx, args, kwargs)\u001B[0m\n\u001B[0;32m     79\u001B[0m \u001B[38;5;129m@staticmethod\u001B[39m\n\u001B[0;32m     80\u001B[0m \u001B[38;5;28;01mdef\u001B[39;00m \u001B[38;5;21m_extract_gizmo_args\u001B[39m(fn: Callable, ctx: AbstractContext,\n\u001B[0;32m     81\u001B[0m                         args: Optional[Tuple] \u001B[38;5;241m=\u001B[39m \u001B[38;5;28;01mNone\u001B[39;00m, kwargs: Optional[Dict[\u001B[38;5;28mstr\u001B[39m, Any]] \u001B[38;5;241m=\u001B[39m \u001B[38;5;28;01mNone\u001B[39;00m) \\\n\u001B[0;32m     82\u001B[0m \t\t\u001B[38;5;241m-\u001B[39m\u001B[38;5;241m>\u001B[39m Tuple[Tuple, Dict[\u001B[38;5;28mstr\u001B[39m, Any]]:\n\u001B[1;32m---> 83\u001B[0m \t\u001B[38;5;28;01mreturn\u001B[39;00m \u001B[43mextract_function_signature\u001B[49m\u001B[43m(\u001B[49m\u001B[43mfn\u001B[49m\u001B[43m,\u001B[49m\u001B[43m \u001B[49m\u001B[43mdefault_fn\u001B[49m\u001B[38;5;241;43m=\u001B[39;49m\u001B[38;5;28;43;01mlambda\u001B[39;49;00m\u001B[43m \u001B[49m\u001B[43mgizmo\u001B[49m\u001B[43m,\u001B[49m\u001B[43m \u001B[49m\u001B[43mdefault\u001B[49m\u001B[43m:\u001B[49m\u001B[43m \u001B[49m\u001B[43mctx\u001B[49m\u001B[38;5;241;43m.\u001B[39;49m\u001B[43mgrab_from\u001B[49m\u001B[43m(\u001B[49m\u001B[43mctx\u001B[49m\u001B[43m,\u001B[49m\u001B[43m \u001B[49m\u001B[43mgizmo\u001B[49m\u001B[43m)\u001B[49m\u001B[43m)\u001B[49m\n",
      "File \u001B[1;32m~\\OneDrive\\Khan\\research\\belt\\omnibelt\\tricks.py:1299\u001B[0m, in \u001B[0;36mextract_function_signature\u001B[1;34m(fn, args, kwargs, default_fn, include_missing, allow_positional, force_no_positional, skip_first)\u001B[0m\n\u001B[0;32m   1297\u001B[0m \t\u001B[38;5;28;01mif\u001B[39;00m default_fn \u001B[38;5;129;01mis\u001B[39;00m \u001B[38;5;28;01mNone\u001B[39;00m:\n\u001B[0;32m   1298\u001B[0m \t\t\u001B[38;5;28;01mraise\u001B[39;00m \u001B[38;5;167;01mKeyError\u001B[39;00m\n\u001B[1;32m-> 1299\u001B[0m \tval \u001B[38;5;241m=\u001B[39m \u001B[43mdefault_fn\u001B[49m\u001B[43m(\u001B[49m\u001B[43mn\u001B[49m\u001B[43m,\u001B[49m\u001B[43m \u001B[49m\u001B[43mp\u001B[49m\u001B[38;5;241;43m.\u001B[39;49m\u001B[43mdefault\u001B[49m\u001B[43m)\u001B[49m\n\u001B[0;32m   1300\u001B[0m \u001B[38;5;28;01mexcept\u001B[39;00m \u001B[38;5;167;01mKeyError\u001B[39;00m:\n\u001B[0;32m   1301\u001B[0m \t\u001B[38;5;28;01mif\u001B[39;00m p\u001B[38;5;241m.\u001B[39mdefault \u001B[38;5;129;01mis\u001B[39;00m p\u001B[38;5;241m.\u001B[39mempty:\n",
      "File \u001B[1;32m~\\OneDrive\\Khan\\research\\data-foundation\\omniply\\novo\\tools.py:83\u001B[0m, in \u001B[0;36mAutoFunctionTool._extract_gizmo_args.<locals>.<lambda>\u001B[1;34m(gizmo, default)\u001B[0m\n\u001B[0;32m     79\u001B[0m \u001B[38;5;129m@staticmethod\u001B[39m\n\u001B[0;32m     80\u001B[0m \u001B[38;5;28;01mdef\u001B[39;00m \u001B[38;5;21m_extract_gizmo_args\u001B[39m(fn: Callable, ctx: AbstractContext,\n\u001B[0;32m     81\u001B[0m                         args: Optional[Tuple] \u001B[38;5;241m=\u001B[39m \u001B[38;5;28;01mNone\u001B[39;00m, kwargs: Optional[Dict[\u001B[38;5;28mstr\u001B[39m, Any]] \u001B[38;5;241m=\u001B[39m \u001B[38;5;28;01mNone\u001B[39;00m) \\\n\u001B[0;32m     82\u001B[0m \t\t\u001B[38;5;241m-\u001B[39m\u001B[38;5;241m>\u001B[39m Tuple[Tuple, Dict[\u001B[38;5;28mstr\u001B[39m, Any]]:\n\u001B[1;32m---> 83\u001B[0m \t\u001B[38;5;28;01mreturn\u001B[39;00m extract_function_signature(fn, default_fn\u001B[38;5;241m=\u001B[39m\u001B[38;5;28;01mlambda\u001B[39;00m gizmo, default: \u001B[43mctx\u001B[49m\u001B[38;5;241;43m.\u001B[39;49m\u001B[43mgrab_from\u001B[49m\u001B[43m(\u001B[49m\u001B[43mctx\u001B[49m\u001B[43m,\u001B[49m\u001B[43m \u001B[49m\u001B[43mgizmo\u001B[49m\u001B[43m)\u001B[49m)\n",
      "File \u001B[1;32m~\\OneDrive\\Khan\\research\\data-foundation\\omniply\\novo\\contexts.py:59\u001B[0m, in \u001B[0;36mCached.grab_from\u001B[1;34m(self, ctx, gizmo)\u001B[0m\n\u001B[0;32m     57\u001B[0m \u001B[38;5;28;01mif\u001B[39;00m \u001B[38;5;28mself\u001B[39m\u001B[38;5;241m.\u001B[39mis_cached(gizmo):\n\u001B[0;32m     58\u001B[0m \t\u001B[38;5;28;01mreturn\u001B[39;00m \u001B[38;5;28mself\u001B[39m\u001B[38;5;241m.\u001B[39mdata[gizmo]\n\u001B[1;32m---> 59\u001B[0m val \u001B[38;5;241m=\u001B[39m \u001B[38;5;28;43msuper\u001B[39;49m\u001B[43m(\u001B[49m\u001B[43m)\u001B[49m\u001B[38;5;241;43m.\u001B[39;49m\u001B[43mgrab_from\u001B[49m\u001B[43m(\u001B[49m\u001B[43mctx\u001B[49m\u001B[43m,\u001B[49m\u001B[43m \u001B[49m\u001B[43mgizmo\u001B[49m\u001B[43m)\u001B[49m\n\u001B[0;32m     60\u001B[0m \u001B[38;5;28mself\u001B[39m\u001B[38;5;241m.\u001B[39mdata[gizmo] \u001B[38;5;241m=\u001B[39m val  \u001B[38;5;66;03m# cache loaded val\u001B[39;00m\n\u001B[0;32m     61\u001B[0m \u001B[38;5;28;01mreturn\u001B[39;00m val\n",
      "File \u001B[1;32m~\\OneDrive\\Khan\\research\\data-foundation\\omniply\\novo\\contexts.py:21\u001B[0m, in \u001B[0;36mContext.grab_from\u001B[1;34m(self, ctx, gizmo)\u001B[0m\n\u001B[0;32m     19\u001B[0m \u001B[38;5;28;01mdef\u001B[39;00m \u001B[38;5;21mgrab_from\u001B[39m(\u001B[38;5;28mself\u001B[39m, ctx: Optional[\u001B[38;5;124m'\u001B[39m\u001B[38;5;124mAbstractContext\u001B[39m\u001B[38;5;124m'\u001B[39m], gizmo: \u001B[38;5;28mstr\u001B[39m) \u001B[38;5;241m-\u001B[39m\u001B[38;5;241m>\u001B[39m Any:\n\u001B[0;32m     20\u001B[0m \t\u001B[38;5;28;01mtry\u001B[39;00m:\n\u001B[1;32m---> 21\u001B[0m \t\tout \u001B[38;5;241m=\u001B[39m \u001B[38;5;28;43mself\u001B[39;49m\u001B[38;5;241;43m.\u001B[39;49m\u001B[43m_grab\u001B[49m\u001B[43m(\u001B[49m\u001B[43mgizmo\u001B[49m\u001B[43m)\u001B[49m\n\u001B[0;32m     22\u001B[0m \t\u001B[38;5;28;01mexcept\u001B[39;00m ToolFailedError \u001B[38;5;28;01mas\u001B[39;00m error:\n\u001B[0;32m     23\u001B[0m \t\tout \u001B[38;5;241m=\u001B[39m \u001B[38;5;28mself\u001B[39m\u001B[38;5;241m.\u001B[39m_grab_from_fallback(error, ctx, gizmo)\n",
      "File \u001B[1;32m~\\OneDrive\\Khan\\research\\data-foundation\\omniply\\novo\\contexts.py:16\u001B[0m, in \u001B[0;36mContext._grab\u001B[1;34m(self, gizmo)\u001B[0m\n\u001B[0;32m     15\u001B[0m \u001B[38;5;28;01mdef\u001B[39;00m \u001B[38;5;21m_grab\u001B[39m(\u001B[38;5;28mself\u001B[39m, gizmo: \u001B[38;5;28mstr\u001B[39m) \u001B[38;5;241m-\u001B[39m\u001B[38;5;241m>\u001B[39m Any:\n\u001B[1;32m---> 16\u001B[0m \t\u001B[38;5;28;01mreturn\u001B[39;00m \u001B[38;5;28;43msuper\u001B[39;49m\u001B[43m(\u001B[49m\u001B[43m)\u001B[49m\u001B[38;5;241;43m.\u001B[39;49m\u001B[43mgrab_from\u001B[49m\u001B[43m(\u001B[49m\u001B[38;5;28;43mself\u001B[39;49m\u001B[43m,\u001B[49m\u001B[43m \u001B[49m\u001B[43mgizmo\u001B[49m\u001B[43m)\u001B[49m\n",
      "File \u001B[1;32m~\\OneDrive\\Khan\\research\\data-foundation\\omniply\\novo\\kits.py:73\u001B[0m, in \u001B[0;36mLoopyKit.grab_from\u001B[1;34m(self, ctx, gizmo)\u001B[0m\n\u001B[0;32m     71\u001B[0m \u001B[38;5;28;01mfor\u001B[39;00m tool \u001B[38;5;129;01min\u001B[39;00m itr:\n\u001B[0;32m     72\u001B[0m \t\u001B[38;5;28;01mtry\u001B[39;00m:\n\u001B[1;32m---> 73\u001B[0m \t\tout \u001B[38;5;241m=\u001B[39m \u001B[43mtool\u001B[49m\u001B[38;5;241;43m.\u001B[39;49m\u001B[43mgrab_from\u001B[49m\u001B[43m(\u001B[49m\u001B[43mctx\u001B[49m\u001B[43m,\u001B[49m\u001B[43m \u001B[49m\u001B[43mgizmo\u001B[49m\u001B[43m)\u001B[49m\n\u001B[0;32m     74\u001B[0m \t\u001B[38;5;28;01mexcept\u001B[39;00m ToolFailedError \u001B[38;5;28;01mas\u001B[39;00m e:\n\u001B[0;32m     75\u001B[0m \t\te\u001B[38;5;241m.\u001B[39mtool \u001B[38;5;241m=\u001B[39m tool\n",
      "File \u001B[1;32m~\\OneDrive\\Khan\\research\\data-foundation\\omniply\\novo\\tools.py:90\u001B[0m, in \u001B[0;36mAutoFunctionTool.grab_from\u001B[1;34m(self, ctx, gizmo)\u001B[0m\n\u001B[0;32m     87\u001B[0m \u001B[38;5;28;01mif\u001B[39;00m gizmo \u001B[38;5;241m!=\u001B[39m \u001B[38;5;28mself\u001B[39m\u001B[38;5;241m.\u001B[39m_gizmo:\n\u001B[0;32m     88\u001B[0m \t\u001B[38;5;28;01mraise\u001B[39;00m \u001B[38;5;28mself\u001B[39m\u001B[38;5;241m.\u001B[39m_MissingGizmoError(gizmo)\n\u001B[1;32m---> 90\u001B[0m args, kwargs \u001B[38;5;241m=\u001B[39m \u001B[38;5;28;43mself\u001B[39;49m\u001B[38;5;241;43m.\u001B[39;49m\u001B[43m_extract_gizmo_args\u001B[49m\u001B[43m(\u001B[49m\u001B[38;5;28;43mself\u001B[39;49m\u001B[38;5;241;43m.\u001B[39;49m\u001B[43m_fn\u001B[49m\u001B[43m,\u001B[49m\u001B[43m \u001B[49m\u001B[43mctx\u001B[49m\u001B[43m)\u001B[49m\n\u001B[0;32m     91\u001B[0m \u001B[38;5;28;01mreturn\u001B[39;00m \u001B[38;5;28mself\u001B[39m\u001B[38;5;241m.\u001B[39m_fn(\u001B[38;5;241m*\u001B[39margs, \u001B[38;5;241m*\u001B[39m\u001B[38;5;241m*\u001B[39mkwargs)\n",
      "File \u001B[1;32m~\\OneDrive\\Khan\\research\\data-foundation\\omniply\\novo\\tools.py:83\u001B[0m, in \u001B[0;36mAutoFunctionTool._extract_gizmo_args\u001B[1;34m(fn, ctx, args, kwargs)\u001B[0m\n\u001B[0;32m     79\u001B[0m \u001B[38;5;129m@staticmethod\u001B[39m\n\u001B[0;32m     80\u001B[0m \u001B[38;5;28;01mdef\u001B[39;00m \u001B[38;5;21m_extract_gizmo_args\u001B[39m(fn: Callable, ctx: AbstractContext,\n\u001B[0;32m     81\u001B[0m                         args: Optional[Tuple] \u001B[38;5;241m=\u001B[39m \u001B[38;5;28;01mNone\u001B[39;00m, kwargs: Optional[Dict[\u001B[38;5;28mstr\u001B[39m, Any]] \u001B[38;5;241m=\u001B[39m \u001B[38;5;28;01mNone\u001B[39;00m) \\\n\u001B[0;32m     82\u001B[0m \t\t\u001B[38;5;241m-\u001B[39m\u001B[38;5;241m>\u001B[39m Tuple[Tuple, Dict[\u001B[38;5;28mstr\u001B[39m, Any]]:\n\u001B[1;32m---> 83\u001B[0m \t\u001B[38;5;28;01mreturn\u001B[39;00m \u001B[43mextract_function_signature\u001B[49m\u001B[43m(\u001B[49m\u001B[43mfn\u001B[49m\u001B[43m,\u001B[49m\u001B[43m \u001B[49m\u001B[43mdefault_fn\u001B[49m\u001B[38;5;241;43m=\u001B[39;49m\u001B[38;5;28;43;01mlambda\u001B[39;49;00m\u001B[43m \u001B[49m\u001B[43mgizmo\u001B[49m\u001B[43m,\u001B[49m\u001B[43m \u001B[49m\u001B[43mdefault\u001B[49m\u001B[43m:\u001B[49m\u001B[43m \u001B[49m\u001B[43mctx\u001B[49m\u001B[38;5;241;43m.\u001B[39;49m\u001B[43mgrab_from\u001B[49m\u001B[43m(\u001B[49m\u001B[43mctx\u001B[49m\u001B[43m,\u001B[49m\u001B[43m \u001B[49m\u001B[43mgizmo\u001B[49m\u001B[43m)\u001B[49m\u001B[43m)\u001B[49m\n",
      "File \u001B[1;32m~\\OneDrive\\Khan\\research\\belt\\omnibelt\\tricks.py:1299\u001B[0m, in \u001B[0;36mextract_function_signature\u001B[1;34m(fn, args, kwargs, default_fn, include_missing, allow_positional, force_no_positional, skip_first)\u001B[0m\n\u001B[0;32m   1297\u001B[0m \t\u001B[38;5;28;01mif\u001B[39;00m default_fn \u001B[38;5;129;01mis\u001B[39;00m \u001B[38;5;28;01mNone\u001B[39;00m:\n\u001B[0;32m   1298\u001B[0m \t\t\u001B[38;5;28;01mraise\u001B[39;00m \u001B[38;5;167;01mKeyError\u001B[39;00m\n\u001B[1;32m-> 1299\u001B[0m \tval \u001B[38;5;241m=\u001B[39m \u001B[43mdefault_fn\u001B[49m\u001B[43m(\u001B[49m\u001B[43mn\u001B[49m\u001B[43m,\u001B[49m\u001B[43m \u001B[49m\u001B[43mp\u001B[49m\u001B[38;5;241;43m.\u001B[39;49m\u001B[43mdefault\u001B[49m\u001B[43m)\u001B[49m\n\u001B[0;32m   1300\u001B[0m \u001B[38;5;28;01mexcept\u001B[39;00m \u001B[38;5;167;01mKeyError\u001B[39;00m:\n\u001B[0;32m   1301\u001B[0m \t\u001B[38;5;28;01mif\u001B[39;00m p\u001B[38;5;241m.\u001B[39mdefault \u001B[38;5;129;01mis\u001B[39;00m p\u001B[38;5;241m.\u001B[39mempty:\n",
      "File \u001B[1;32m~\\OneDrive\\Khan\\research\\data-foundation\\omniply\\novo\\tools.py:83\u001B[0m, in \u001B[0;36mAutoFunctionTool._extract_gizmo_args.<locals>.<lambda>\u001B[1;34m(gizmo, default)\u001B[0m\n\u001B[0;32m     79\u001B[0m \u001B[38;5;129m@staticmethod\u001B[39m\n\u001B[0;32m     80\u001B[0m \u001B[38;5;28;01mdef\u001B[39;00m \u001B[38;5;21m_extract_gizmo_args\u001B[39m(fn: Callable, ctx: AbstractContext,\n\u001B[0;32m     81\u001B[0m                         args: Optional[Tuple] \u001B[38;5;241m=\u001B[39m \u001B[38;5;28;01mNone\u001B[39;00m, kwargs: Optional[Dict[\u001B[38;5;28mstr\u001B[39m, Any]] \u001B[38;5;241m=\u001B[39m \u001B[38;5;28;01mNone\u001B[39;00m) \\\n\u001B[0;32m     82\u001B[0m \t\t\u001B[38;5;241m-\u001B[39m\u001B[38;5;241m>\u001B[39m Tuple[Tuple, Dict[\u001B[38;5;28mstr\u001B[39m, Any]]:\n\u001B[1;32m---> 83\u001B[0m \t\u001B[38;5;28;01mreturn\u001B[39;00m extract_function_signature(fn, default_fn\u001B[38;5;241m=\u001B[39m\u001B[38;5;28;01mlambda\u001B[39;00m gizmo, default: \u001B[43mctx\u001B[49m\u001B[38;5;241;43m.\u001B[39;49m\u001B[43mgrab_from\u001B[49m\u001B[43m(\u001B[49m\u001B[43mctx\u001B[49m\u001B[43m,\u001B[49m\u001B[43m \u001B[49m\u001B[43mgizmo\u001B[49m\u001B[43m)\u001B[49m)\n",
      "File \u001B[1;32m~\\OneDrive\\Khan\\research\\data-foundation\\omniply\\novo\\contexts.py:59\u001B[0m, in \u001B[0;36mCached.grab_from\u001B[1;34m(self, ctx, gizmo)\u001B[0m\n\u001B[0;32m     57\u001B[0m \u001B[38;5;28;01mif\u001B[39;00m \u001B[38;5;28mself\u001B[39m\u001B[38;5;241m.\u001B[39mis_cached(gizmo):\n\u001B[0;32m     58\u001B[0m \t\u001B[38;5;28;01mreturn\u001B[39;00m \u001B[38;5;28mself\u001B[39m\u001B[38;5;241m.\u001B[39mdata[gizmo]\n\u001B[1;32m---> 59\u001B[0m val \u001B[38;5;241m=\u001B[39m \u001B[38;5;28;43msuper\u001B[39;49m\u001B[43m(\u001B[49m\u001B[43m)\u001B[49m\u001B[38;5;241;43m.\u001B[39;49m\u001B[43mgrab_from\u001B[49m\u001B[43m(\u001B[49m\u001B[43mctx\u001B[49m\u001B[43m,\u001B[49m\u001B[43m \u001B[49m\u001B[43mgizmo\u001B[49m\u001B[43m)\u001B[49m\n\u001B[0;32m     60\u001B[0m \u001B[38;5;28mself\u001B[39m\u001B[38;5;241m.\u001B[39mdata[gizmo] \u001B[38;5;241m=\u001B[39m val  \u001B[38;5;66;03m# cache loaded val\u001B[39;00m\n\u001B[0;32m     61\u001B[0m \u001B[38;5;28;01mreturn\u001B[39;00m val\n",
      "File \u001B[1;32m~\\OneDrive\\Khan\\research\\data-foundation\\omniply\\novo\\contexts.py:21\u001B[0m, in \u001B[0;36mContext.grab_from\u001B[1;34m(self, ctx, gizmo)\u001B[0m\n\u001B[0;32m     19\u001B[0m \u001B[38;5;28;01mdef\u001B[39;00m \u001B[38;5;21mgrab_from\u001B[39m(\u001B[38;5;28mself\u001B[39m, ctx: Optional[\u001B[38;5;124m'\u001B[39m\u001B[38;5;124mAbstractContext\u001B[39m\u001B[38;5;124m'\u001B[39m], gizmo: \u001B[38;5;28mstr\u001B[39m) \u001B[38;5;241m-\u001B[39m\u001B[38;5;241m>\u001B[39m Any:\n\u001B[0;32m     20\u001B[0m \t\u001B[38;5;28;01mtry\u001B[39;00m:\n\u001B[1;32m---> 21\u001B[0m \t\tout \u001B[38;5;241m=\u001B[39m \u001B[38;5;28;43mself\u001B[39;49m\u001B[38;5;241;43m.\u001B[39;49m\u001B[43m_grab\u001B[49m\u001B[43m(\u001B[49m\u001B[43mgizmo\u001B[49m\u001B[43m)\u001B[49m\n\u001B[0;32m     22\u001B[0m \t\u001B[38;5;28;01mexcept\u001B[39;00m ToolFailedError \u001B[38;5;28;01mas\u001B[39;00m error:\n\u001B[0;32m     23\u001B[0m \t\tout \u001B[38;5;241m=\u001B[39m \u001B[38;5;28mself\u001B[39m\u001B[38;5;241m.\u001B[39m_grab_from_fallback(error, ctx, gizmo)\n",
      "File \u001B[1;32m~\\OneDrive\\Khan\\research\\data-foundation\\omniply\\novo\\contexts.py:16\u001B[0m, in \u001B[0;36mContext._grab\u001B[1;34m(self, gizmo)\u001B[0m\n\u001B[0;32m     15\u001B[0m \u001B[38;5;28;01mdef\u001B[39;00m \u001B[38;5;21m_grab\u001B[39m(\u001B[38;5;28mself\u001B[39m, gizmo: \u001B[38;5;28mstr\u001B[39m) \u001B[38;5;241m-\u001B[39m\u001B[38;5;241m>\u001B[39m Any:\n\u001B[1;32m---> 16\u001B[0m \t\u001B[38;5;28;01mreturn\u001B[39;00m \u001B[38;5;28;43msuper\u001B[39;49m\u001B[43m(\u001B[49m\u001B[43m)\u001B[49m\u001B[38;5;241;43m.\u001B[39;49m\u001B[43mgrab_from\u001B[49m\u001B[43m(\u001B[49m\u001B[38;5;28;43mself\u001B[39;49m\u001B[43m,\u001B[49m\u001B[43m \u001B[49m\u001B[43mgizmo\u001B[49m\u001B[43m)\u001B[49m\n",
      "File \u001B[1;32m~\\OneDrive\\Khan\\research\\data-foundation\\omniply\\novo\\kits.py:73\u001B[0m, in \u001B[0;36mLoopyKit.grab_from\u001B[1;34m(self, ctx, gizmo)\u001B[0m\n\u001B[0;32m     71\u001B[0m \u001B[38;5;28;01mfor\u001B[39;00m tool \u001B[38;5;129;01min\u001B[39;00m itr:\n\u001B[0;32m     72\u001B[0m \t\u001B[38;5;28;01mtry\u001B[39;00m:\n\u001B[1;32m---> 73\u001B[0m \t\tout \u001B[38;5;241m=\u001B[39m \u001B[43mtool\u001B[49m\u001B[38;5;241;43m.\u001B[39;49m\u001B[43mgrab_from\u001B[49m\u001B[43m(\u001B[49m\u001B[43mctx\u001B[49m\u001B[43m,\u001B[49m\u001B[43m \u001B[49m\u001B[43mgizmo\u001B[49m\u001B[43m)\u001B[49m\n\u001B[0;32m     74\u001B[0m \t\u001B[38;5;28;01mexcept\u001B[39;00m ToolFailedError \u001B[38;5;28;01mas\u001B[39;00m e:\n\u001B[0;32m     75\u001B[0m \t\te\u001B[38;5;241m.\u001B[39mtool \u001B[38;5;241m=\u001B[39m tool\n",
      "File \u001B[1;32m~\\OneDrive\\Khan\\research\\data-foundation\\omniply\\novo\\tools.py:91\u001B[0m, in \u001B[0;36mAutoFunctionTool.grab_from\u001B[1;34m(self, ctx, gizmo)\u001B[0m\n\u001B[0;32m     88\u001B[0m \t\u001B[38;5;28;01mraise\u001B[39;00m \u001B[38;5;28mself\u001B[39m\u001B[38;5;241m.\u001B[39m_MissingGizmoError(gizmo)\n\u001B[0;32m     90\u001B[0m args, kwargs \u001B[38;5;241m=\u001B[39m \u001B[38;5;28mself\u001B[39m\u001B[38;5;241m.\u001B[39m_extract_gizmo_args(\u001B[38;5;28mself\u001B[39m\u001B[38;5;241m.\u001B[39m_fn, ctx)\n\u001B[1;32m---> 91\u001B[0m \u001B[38;5;28;01mreturn\u001B[39;00m \u001B[38;5;28;43mself\u001B[39;49m\u001B[38;5;241;43m.\u001B[39;49m\u001B[43m_fn\u001B[49m\u001B[43m(\u001B[49m\u001B[38;5;241;43m*\u001B[39;49m\u001B[43margs\u001B[49m\u001B[43m,\u001B[49m\u001B[43m \u001B[49m\u001B[38;5;241;43m*\u001B[39;49m\u001B[38;5;241;43m*\u001B[39;49m\u001B[43mkwargs\u001B[49m\u001B[43m)\u001B[49m\n",
      "File \u001B[1;32m~\\OneDrive\\Khan\\projects\\stox\\stox\\ibkr.py:235\u001B[0m, in \u001B[0;36mIBKR_Loader.get_ckpt_date\u001B[1;34m(self, conId)\u001B[0m\n\u001B[0;32m    233\u001B[0m \u001B[38;5;129m@tool\u001B[39m(\u001B[38;5;124m'\u001B[39m\u001B[38;5;124mckpt_date\u001B[39m\u001B[38;5;124m'\u001B[39m)\n\u001B[0;32m    234\u001B[0m \u001B[38;5;28;01mdef\u001B[39;00m \u001B[38;5;21mget_ckpt_date\u001B[39m(\u001B[38;5;28mself\u001B[39m, conId):\n\u001B[1;32m--> 235\u001B[0m \tpath \u001B[38;5;241m=\u001B[39m \u001B[43mmisc\u001B[49m\u001B[38;5;241;43m.\u001B[39;49m\u001B[43mget_date_path\u001B[49m\u001B[43m(\u001B[49m\u001B[38;5;28;43mself\u001B[39;49m\u001B[38;5;241;43m.\u001B[39;49m\u001B[43mroot\u001B[49m\u001B[43m \u001B[49m\u001B[38;5;241;43m/\u001B[39;49m\u001B[43m \u001B[49m\u001B[38;5;28;43mstr\u001B[39;49m\u001B[43m(\u001B[49m\u001B[43mconId\u001B[49m\u001B[43m)\u001B[49m\u001B[43m,\u001B[49m\u001B[43m \u001B[49m\u001B[38;5;28;43mself\u001B[39;49m\u001B[38;5;241;43m.\u001B[39;49m\u001B[43mdate\u001B[49m\u001B[43m)\u001B[49m\n\u001B[0;32m    236\u001B[0m \t\u001B[38;5;28;01mreturn\u001B[39;00m path\u001B[38;5;241m.\u001B[39mname\n",
      "File \u001B[1;32m~\\OneDrive\\Khan\\projects\\stox\\stox\\misc.py:15\u001B[0m, in \u001B[0;36mget_date_path\u001B[1;34m(tickerroot, date)\u001B[0m\n\u001B[0;32m     14\u001B[0m \u001B[38;5;28;01mdef\u001B[39;00m \u001B[38;5;21mget_date_path\u001B[39m(tickerroot, date\u001B[38;5;241m=\u001B[39m\u001B[38;5;28;01mNone\u001B[39;00m):\n\u001B[1;32m---> 15\u001B[0m \t\u001B[43mtickerroot\u001B[49m\u001B[38;5;241;43m.\u001B[39;49m\u001B[43mmkdir\u001B[49m\u001B[43m(\u001B[49m\u001B[43mexist_ok\u001B[49m\u001B[38;5;241;43m=\u001B[39;49m\u001B[38;5;28;43;01mTrue\u001B[39;49;00m\u001B[43m)\u001B[49m\n\u001B[0;32m     16\u001B[0m \t\u001B[38;5;28;01mif\u001B[39;00m date \u001B[38;5;241m==\u001B[39m \u001B[38;5;124m'\u001B[39m\u001B[38;5;124mlast\u001B[39m\u001B[38;5;124m'\u001B[39m:\n\u001B[0;32m     17\u001B[0m \t\toptions \u001B[38;5;241m=\u001B[39m \u001B[38;5;28msorted\u001B[39m(tickerroot\u001B[38;5;241m.\u001B[39mglob(\u001B[38;5;124m'\u001B[39m\u001B[38;5;124m*\u001B[39m\u001B[38;5;124m'\u001B[39m), key\u001B[38;5;241m=\u001B[39m\u001B[38;5;28;01mlambda\u001B[39;00m p: p\u001B[38;5;241m.\u001B[39mname)\u001B[38;5;66;03m#[-1]\u001B[39;00m\n",
      "File \u001B[1;32m~\\miniconda3\\envs\\py11\\Lib\\pathlib.py:1116\u001B[0m, in \u001B[0;36mPath.mkdir\u001B[1;34m(self, mode, parents, exist_ok)\u001B[0m\n\u001B[0;32m   1112\u001B[0m \u001B[38;5;250m\u001B[39m\u001B[38;5;124;03m\"\"\"\u001B[39;00m\n\u001B[0;32m   1113\u001B[0m \u001B[38;5;124;03mCreate a new directory at this given path.\u001B[39;00m\n\u001B[0;32m   1114\u001B[0m \u001B[38;5;124;03m\"\"\"\u001B[39;00m\n\u001B[0;32m   1115\u001B[0m \u001B[38;5;28;01mtry\u001B[39;00m:\n\u001B[1;32m-> 1116\u001B[0m     \u001B[43mos\u001B[49m\u001B[38;5;241;43m.\u001B[39;49m\u001B[43mmkdir\u001B[49m\u001B[43m(\u001B[49m\u001B[38;5;28;43mself\u001B[39;49m\u001B[43m,\u001B[49m\u001B[43m \u001B[49m\u001B[43mmode\u001B[49m\u001B[43m)\u001B[49m\n\u001B[0;32m   1117\u001B[0m \u001B[38;5;28;01mexcept\u001B[39;00m \u001B[38;5;167;01mFileNotFoundError\u001B[39;00m:\n\u001B[0;32m   1118\u001B[0m     \u001B[38;5;28;01mif\u001B[39;00m \u001B[38;5;129;01mnot\u001B[39;00m parents \u001B[38;5;129;01mor\u001B[39;00m \u001B[38;5;28mself\u001B[39m\u001B[38;5;241m.\u001B[39mparent \u001B[38;5;241m==\u001B[39m \u001B[38;5;28mself\u001B[39m:\n",
      "\u001B[1;31mFileNotFoundError\u001B[0m: [WinError 3] The system cannot find the path specified: 'C:\\\\Users\\\\anwan\\\\OneDrive\\\\Khan\\\\projects\\\\stox\\\\stockdata\\\\ibkr_data\\\\241892013'"
     ]
    }
   ],
   "source": [
    "gg['company_name']"
   ],
   "metadata": {
    "collapsed": false,
    "ExecuteTime": {
     "end_time": "2023-08-30T12:01:11.826826500Z",
     "start_time": "2023-08-30T12:01:09.410434700Z"
    }
   },
   "id": "d93bd741ee416d33"
  },
  {
   "cell_type": "code",
   "execution_count": null,
   "outputs": [],
   "source": [],
   "metadata": {
    "collapsed": false
   },
   "id": "4460928b68c7276b"
  },
  {
   "cell_type": "code",
   "execution_count": null,
   "outputs": [],
   "source": [
    "Money = namedtuple('Money', 'amount currency')\n",
    "\n",
    "class IBKR_Loader(TestCraftyKitBase):\n",
    "\tdef __init__(self, date='last', root=None):\n",
    "\t\tsuper().__init__()\n",
    "\t\tif root is None:\n",
    "\t\t\troot = misc.ibkr_root()\n",
    "\t\tself.root = root\n",
    "\t\tself.date = date\n",
    "\t\n",
    "\t@tool('ckpt_date')\n",
    "\tdef get_ckpt_date(self, conId):\n",
    "\t\tpath = misc.get_date_path(self.root / str(conId), self.date)\n",
    "\t\treturn path.name\n",
    "\n",
    "\t@tool('ckpt_path')\n",
    "\tdef get_ckpt_path(self, conId, ckpt_date):\n",
    "\t\treturn misc.get_date_path(self.root / str(conId), ckpt_date)\n",
    "\n",
    "\tdef _load_xml(self, path):\n",
    "\t\twith open(path, 'r') as f:\n",
    "\t\t\treturn xmltodict.parse(f.read())\n",
    "\n",
    "\t@tool('snapshot')\n",
    "\tdef load_snapshot(self, ckpt_path):\n",
    "\t\treturn self._load_xml(ckpt_path / 'snapshot.xml')\n",
    "\t\t\n",
    "\t@tool('ownership')\n",
    "\tdef load_ownership(self, ckpt_path):\n",
    "\t\treturn self._load_xml(ckpt_path / 'ownership.xml')\n",
    "\t\t\n",
    "\t@tool('finances')\n",
    "\tdef load_finances(self, ckpt_path):\n",
    "\t\treturn self._load_xml(ckpt_path / 'finances.xml')\n",
    "\t\n",
    "\t@tool('statements')\n",
    "\tdef load_statements(self, ckpt_path):\n",
    "\t\treturn self._load_xml(ckpt_path / 'statements.xml')\n",
    "\t\t\n",
    "\t@tool('recommendations')\n",
    "\tdef load_recommendations(self, ckpt_path):\n",
    "\t\treturn self._load_xml(ckpt_path / 'recommendations.xml')\n",
    "\t\t\n",
    "\n",
    "class IBKR_Stats(TestCraftyKitBase):\n",
    "\t@tool('company_name')\n",
    "\tdef get_company_name_from_snapshot(self, snapshot):\n",
    "\t\tval = snapshot['ColIDs']['CoID'][1]\n",
    "\t\tassert val['@type'] == 'CompanyName', f'Expected CompanyName in {val}'\n",
    "\t\treturn val['#text']\n",
    "\t@tool('company_name')\n",
    "\tdef get_company_name_from_rec(self, recommendations):\n",
    "\t\treturn recommendations['Company']['CoName']['Name']['#text']\n",
    "\t\n",
    "\t@tool('exchange')\n",
    "\tdef get_exchange_from_snapshot(self, snapshot):\n",
    "\t\tval = snapshot['Issues']['Issue']['Exchange']\n",
    "\t\treturn val['@Code']\n",
    "\t@tool('exchange')\n",
    "\tdef get_exchange_from_rec(self, recommendations):\n",
    "\t\treturn recommendations['Company']['SecurityInfo']['Security']['Exchange']['@code']\n",
    "\t\n",
    "\t@tool('exchange_name')\n",
    "\tdef get_exchange_name(self, snapshot):\n",
    "\t\tval = snapshot['Issues']['Issue']['Exchange']\n",
    "\t\treturn val['#text']\n",
    "\t\n",
    "\t@tool('country')\n",
    "\tdef get_country_code_from_snapshot(self, snapshot):\n",
    "\t\tval = snapshot['Issues']['Issue']['Exchange']\n",
    "\t\treturn val['@Country']\n",
    "\t@tool('country')\n",
    "\tdef get_country_code_from_rec(self, recommendations):\n",
    "\t\tloc = recommendations['Company']['SecurityInfo']['Security']['SecIds']['SecId'][0]\n",
    "\t\tassert loc['@type'] == 'ISIN', f'Expected ISIN in {loc}'\n",
    "\t\treturn loc['#text']\n",
    "\t\n",
    "\t@tool('isin')\n",
    "\tdef get_isin_from_snapshot(self, snapshot):\n",
    "\t\tval = snapshot['Issues']['Issue']['IssueID'][2]\n",
    "\t\tassert val['@Type'] == 'ISIN', f'Expected ISIN in {val}'\n",
    "\t\treturn val['#text']\n",
    "\t@tool('isin')\n",
    "\tdef get_isin_from_rec(self, recommendations):\n",
    "\t\treturn recommendations['Company']['SecurityInfo']['Security']['ISIN']['#text']\n",
    "\t@tool('clprice')\n",
    "\tdef get_clprice(self, recommendations):\n",
    "\t\treturn recommendations['Company']['SecurityInfo']['Security']['@clprice']\n",
    "\t@tool('price')\n",
    "\tdef get_price(self, recommendations):\n",
    "\t\tentry = recommendations['Company']['SecurityInfo']['MarketData']['MarketDataItem'][0]\n",
    "\t\tassert entry['@unit'] == 'U' and entry['@type'] == 'CLPRICE', f'Expected CLPRICE in {entry}'\n",
    "\t\treturn Money(float(entry['#text']), entry['@currCode'])\n",
    "\t@tool('market_cap')\n",
    "\tdef get_market_cap(self, recommendations):\n",
    "\t\tentry = recommendations['Company']['SecurityInfo']['MarketData']['MarketDataItem'][1]\n",
    "\t\tassert entry['@unit'] == 'M' and entry['@type'] == 'MARKETCAP', f'Expected MARKETCAP in {entry}'\n",
    "\t\treturn Money(float(entry['#text']) * 1e6, entry['@currCode'])\n",
    "\t@tool('high_52w')\n",
    "\tdef get_high_52w(self, recommendations):\n",
    "\t\tentry = recommendations['Company']['SecurityInfo']['MarketData']['MarketDataItem'][2]\n",
    "\t\tassert entry['@unit'] == 'U' and entry['@type'] == '52WKHIGH', f'Expected 52WKHIGH in {entry}'\n",
    "\t\treturn Money(float(entry['#text']), entry['@currCode'])\n",
    "\t@tool('low_52w')\n",
    "\tdef get_low_52w(self, recommendations):\n",
    "\t\tentry = recommendations['Company']['SecurityInfo']['MarketData']['MarketDataItem'][3]\n",
    "\t\tassert entry['@unit'] == 'U' and entry['@type'] == '52WKLOW', f'Expected 52WKLOW in {entry}'\n",
    "\t\treturn Money(float(entry['#text']), entry['@currCode'])\n",
    "\t@tool('sector')\n",
    "\tdef get_sector(self, recommendations):\n",
    "\t\treturn recommendations['Company']['CompanyInfo']['Sector']['#text']\n",
    "\t\n",
    "\t@tool('employees')\n",
    "\tdef get_employees(self, snapshot):\n",
    "\t\tval = snapshot['CoGeneralInfo']['Employees']\n",
    "\t\treturn int(val['#text'])\n",
    "\t@tool('employees_date')\n",
    "\tdef get_employees_date(self, snapshot):\n",
    "\t\tval = snapshot['CoGeneralInfo']['Employees']\n",
    "\t\treturn val['@LastUpdated']\n",
    "\t\n",
    "\t@tool('business_summary')\n",
    "\tdef get_company_summary(self, snapshot):\n",
    "\t\tval = snapshot['TextInfo']['Text'][0]\n",
    "\t\tassert val['@Type'] == 'Business Summary', f'Expected Business Summary in {val}'\n",
    "\t\treturn val['#text']\n",
    "\t\n",
    "\t@tool('brief')\n",
    "\tdef get_brief(self, snapshot):\n",
    "\t\tval = snapshot['TextInfo']['Text'][1]\n",
    "\t\tassert val['@Type'] == 'Financial Summary', f'Expected Financial Summary in {val}'\n",
    "\t\treturn val['#text']\n",
    "\t@tool('brief_date')\n",
    "\tdef get_brief_date(self, snapshot):\n",
    "\t\tval = snapshot['TextInfo']['Text'][1]\n",
    "\t\tassert val['@Type'] == 'Financial Summary', f'Expected Financial Summary in {val}'\n",
    "\t\treturn val['@LastModified']\n",
    "\t\n",
    "\t@tool('country_code')\n",
    "\tdef get_country(self, snapshot):\n",
    "\t\tval = snapshot['contactInfo']['country']\n",
    "\t\treturn val['@code']\n",
    "\t@tool('country_name')\n",
    "\tdef get_country_name(self, snapshot):\n",
    "\t\tval = snapshot['contactInfo']['country']\n",
    "\t\treturn val['#text']\n",
    "\t@tool('city')\n",
    "\tdef get_city(self, snapshot):\n",
    "\t\tval = snapshot['contactInfo']['city']\n",
    "\t\treturn val['#text']\n",
    "\t# skipped address and phone and contact person info and email\n",
    "\t@tool('website')\n",
    "\tdef get_website(self, snapshot):\n",
    "\t\tval = snapshot['webLinks']['webSite']\n",
    "\t\treturn val['#text']\n",
    "\t\n",
    "\t@tool('industry_trbc')\n",
    "\tdef get_industry_trbc(self, snapshot):\n",
    "\t\tfull = snapshot['peerInfo']['IndustryInfo']['Industry']\n",
    "\t\tvals = [row for row in full if row['@type'] == 'TRBC']\n",
    "\t\tassert len(vals) == 1, f'Expected 1 TRBC in {vals}'\n",
    "\t\treturn vals[0]['#text']\n",
    "\t@tool('industry_trbc_code')\n",
    "\tdef get_industry_trbc_code(self, snapshot):\n",
    "\t\tfull = snapshot['peerInfo']['IndustryInfo']['Industry']\n",
    "\t\tvals = [row for row in full if row['@type'] == 'TRBC']\n",
    "\t\tassert len(vals) == 1, f'Expected 1 TRBC in {vals}'\n",
    "\t\treturn vals[0]['@code']\n",
    "\t\n",
    "\t@tool('industry')\n",
    "\t@tool('industry_naics')\n",
    "\tdef get_industry_naics(self, snapshot):\n",
    "\t\tfull = snapshot['peerInfo']['IndustryInfo']['Industry']\n",
    "\t\tvals = [row for row in full if row['@type'] == 'NAICS']\n",
    "\t\tassert len(vals), f'Expected NAICS in {vals}'\n",
    "\t\treturn [v['#text'] for v in vals]\n",
    "\t@tool('industry_naics_code')\n",
    "\tdef get_industry_naics_code(self, snapshot):\n",
    "\t\tfull = snapshot['peerInfo']['IndustryInfo']['Industry']\n",
    "\t\tvals = [row for row in full if row['@type'] == 'NAICS']\n",
    "\t\tassert len(vals), f'Expected NAICS in {vals}'\n",
    "\t\treturn [v['@code'] for v in vals]\n",
    "\t\n",
    "\t@tool('industry_sic')\n",
    "\tdef get_industry_sic(self, snapshot):\n",
    "\t\tfull = snapshot['peerInfo']['IndustryInfo']['Industry']\n",
    "\t\tvals = [row for row in full if row['@type'] == 'SIC']\n",
    "\t\tassert len(vals), f'Expected SIC in {vals}'\n",
    "\t\treturn [v['#text'] for v in vals]\n",
    "\t@tool('industry_sic_code')\n",
    "\tdef get_industry_sic_code(self, snapshot):\n",
    "\t\tfull = snapshot['peerInfo']['IndustryInfo']['Industry']\n",
    "\t\tvals = [row for row in full if row['@type'] == 'SIC']\n",
    "\t\tassert len(vals), f'Expected SIC in {vals}'\n",
    "\t\treturn [v['@code'] for v in vals]"
   ],
   "metadata": {
    "collapsed": false
   },
   "id": "a7d7ad39a819d040"
  },
  {
   "cell_type": "code",
   "execution_count": null,
   "outputs": [],
   "source": [],
   "metadata": {
    "collapsed": false
   },
   "id": "b45847e3f8d2f05e"
  },
  {
   "cell_type": "code",
   "execution_count": null,
   "outputs": [],
   "source": [],
   "metadata": {
    "collapsed": false
   },
   "id": "701c396002207a53"
  },
  {
   "cell_type": "code",
   "execution_count": null,
   "outputs": [],
   "source": [],
   "metadata": {
    "collapsed": false,
    "ExecuteTime": {
     "end_time": "2023-08-29T21:18:07.825577Z",
     "start_time": "2023-08-29T21:18:07.822561700Z"
    }
   },
   "id": "7a6bf2e35c975e8a"
  },
  {
   "cell_type": "code",
   "execution_count": null,
   "outputs": [],
   "source": [],
   "metadata": {
    "collapsed": false
   },
   "id": "6da065f957e36fb7"
  }
 ],
 "metadata": {
  "kernelspec": {
   "display_name": "Python 3",
   "language": "python",
   "name": "python3"
  },
  "language_info": {
   "codemirror_mode": {
    "name": "ipython",
    "version": 2
   },
   "file_extension": ".py",
   "mimetype": "text/x-python",
   "name": "python",
   "nbconvert_exporter": "python",
   "pygments_lexer": "ipython2",
   "version": "2.7.6"
  }
 },
 "nbformat": 4,
 "nbformat_minor": 5
}
