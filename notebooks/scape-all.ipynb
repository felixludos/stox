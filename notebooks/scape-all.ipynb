{
 "cells": [
  {
   "cell_type": "code",
   "execution_count": 1,
   "outputs": [],
   "source": [
    "import random\n",
    "from collections import Counter\n",
    "import stox\n",
    "from ib_insync import *\n",
    "from stox.imports import *\n",
    "from stox.api import IB_Extractor, describe_contract, download_reports\n",
    "from tqdm.notebook import tqdm\n",
    "from omnibelt import tqdmd_notebook as tqdmd\n",
    "from stox import misc, yahoo"
   ],
   "metadata": {
    "collapsed": false,
    "ExecuteTime": {
     "end_time": "2023-08-29T16:17:51.455354300Z",
     "start_time": "2023-08-29T16:17:48.596981900Z"
    }
   },
   "id": "89afeb8419607f6c"
  },
  {
   "cell_type": "code",
   "execution_count": 2,
   "outputs": [
    {
     "data": {
      "text/plain": "272"
     },
     "execution_count": 2,
     "metadata": {},
     "output_type": "execute_result"
    }
   ],
   "source": [
    "symbol_table = stox.load_symbol_table()\n",
    "len(symbol_table)"
   ],
   "metadata": {
    "collapsed": false,
    "ExecuteTime": {
     "end_time": "2023-08-29T16:17:51.731229Z",
     "start_time": "2023-08-29T16:17:51.459367100Z"
    }
   },
   "id": "efa0a21bb005ad34"
  },
  {
   "cell_type": "code",
   "execution_count": 3,
   "outputs": [],
   "source": [
    "date = '230829'\n",
    "# date = 'last'"
   ],
   "metadata": {
    "collapsed": false,
    "ExecuteTime": {
     "end_time": "2023-08-29T16:17:51.757374900Z",
     "start_time": "2023-08-29T16:17:51.734227900Z"
    }
   },
   "id": "faa79aa8f077b273"
  },
  {
   "cell_type": "code",
   "execution_count": 4,
   "outputs": [
    {
     "name": "stdout",
     "output_type": "stream",
     "text": [
      "C:\\Users\\anwan\\OneDrive\\Khan\\projects\\stox\\testdata\\yahoo_data\n",
      "C:\\Users\\anwan\\OneDrive\\Khan\\projects\\stox\\testdata\\ib_data\n"
     ]
    }
   ],
   "source": [
    "yfroot = misc.yahoo_root()\n",
    "yfroot = yfroot.parent.parent / 'testdata' / 'yahoo_data'\n",
    "ibroot = misc.ibkr_root()\n",
    "ibroot = ibroot.parent.parent / 'testdata' / 'ib_data'\n",
    "print(yfroot)\n",
    "print(ibroot)"
   ],
   "metadata": {
    "collapsed": false,
    "ExecuteTime": {
     "end_time": "2023-08-29T16:17:55.211731100Z",
     "start_time": "2023-08-29T16:17:55.142463900Z"
    }
   },
   "id": "11d9365b4f0d6ac6"
  },
  {
   "cell_type": "code",
   "execution_count": 5,
   "outputs": [
    {
     "data": {
      "text/plain": "239"
     },
     "execution_count": 5,
     "metadata": {},
     "output_type": "execute_result"
    }
   ],
   "source": [
    "rows = [(k, v) for k, v in symbol_table.items() if v['currency'] == 'EUR']\n",
    "len(rows)"
   ],
   "metadata": {
    "collapsed": false,
    "ExecuteTime": {
     "end_time": "2023-08-29T16:17:58.832190400Z",
     "start_time": "2023-08-29T16:17:58.794016Z"
    }
   },
   "id": "db1c8d097383ea7c"
  },
  {
   "cell_type": "code",
   "execution_count": 6,
   "outputs": [
    {
     "data": {
      "text/plain": "'ABI.BR'"
     },
     "execution_count": 6,
     "metadata": {},
     "output_type": "execute_result"
    }
   ],
   "source": [
    "yfsym, ibrow = random.choice(rows)\n",
    "yfsym#, ibrow"
   ],
   "metadata": {
    "collapsed": false,
    "ExecuteTime": {
     "end_time": "2023-08-29T16:18:01.026966700Z",
     "start_time": "2023-08-29T16:18:00.997087500Z"
    }
   },
   "id": "abcbd8320d3382f8"
  },
  {
   "cell_type": "code",
   "execution_count": 7,
   "outputs": [
    {
     "data": {
      "text/plain": "  0%|          | 0/14 [00:00<?, ?it/s]",
      "application/vnd.jupyter.widget-view+json": {
       "version_major": 2,
       "version_minor": 0,
       "model_id": "44d7ef9072d941f58f964961e2935ba6"
      }
     },
     "metadata": {},
     "output_type": "display_data"
    },
    {
     "data": {
      "text/plain": "<CGCBV.HE>"
     },
     "execution_count": 7,
     "metadata": {},
     "output_type": "execute_result"
    }
   ],
   "source": [
    "tk = yahoo.download(yfsym, date=date, root=yfroot, pbar=tqdm)\n",
    "tk"
   ],
   "metadata": {
    "collapsed": false,
    "ExecuteTime": {
     "end_time": "2023-08-29T14:59:29.584101400Z",
     "start_time": "2023-08-29T14:59:11.477899200Z"
    }
   },
   "id": "f0623f81231a6029"
  },
  {
   "cell_type": "code",
   "execution_count": 8,
   "outputs": [
    {
     "name": "stderr",
     "output_type": "stream",
     "text": [
      "ERROR:ib_insync.wrapper: Error 321, reqId 2147483647: Error validating request.-'cB' : cause - The API interface is currently in Read-Only mode.\n",
      "ERROR:ib_insync.wrapper: Error 321, reqId -1: Error validating request.-'b_' : cause - The API interface is currently in Read-Only mode.\n",
      "ERROR:ib_insync.ib: open orders request timed out\n",
      "ERROR:ib_insync.ib: completed orders request timed out\n"
     ]
    }
   ],
   "source": [
    "ibe = IB_Extractor(True)\n",
    "ib = ibe.ib"
   ],
   "metadata": {
    "collapsed": false,
    "ExecuteTime": {
     "end_time": "2023-08-29T16:18:53.854487Z",
     "start_time": "2023-08-29T16:18:49.771681100Z"
    }
   },
   "id": "4e7a4f41aa8bd1d8"
  },
  {
   "cell_type": "code",
   "execution_count": 11,
   "outputs": [
    {
     "data": {
      "text/plain": "  0%|          | 0/5 [00:00<?, ?it/s]",
      "application/vnd.jupyter.widget-view+json": {
       "version_major": 2,
       "version_minor": 0,
       "model_id": "0ad864cce334414fbffce1d93d9f87bd"
      }
     },
     "metadata": {},
     "output_type": "display_data"
    }
   ],
   "source": [
    "path = download_reports(ibe, ibrow, date=date, root=ibroot, pbar=tqdm)"
   ],
   "metadata": {
    "collapsed": false,
    "ExecuteTime": {
     "end_time": "2023-08-29T16:19:43.974243900Z",
     "start_time": "2023-08-29T16:19:28.128670900Z"
    }
   },
   "id": "4fc41465bdb2b912"
  },
  {
   "cell_type": "code",
   "execution_count": 8,
   "outputs": [
    {
     "name": "stdout",
     "output_type": "stream",
     "text": [
      "AMS | EUR | BM | 74792133\n"
     ]
    }
   ],
   "source": [
    "# ct = Stock(**ibrow)\n",
    "# print(' | '.join(map(str, [ct.symbol, ct.currency, ct.primaryExchange, ct.conId])))"
   ],
   "metadata": {
    "collapsed": false,
    "ExecuteTime": {
     "end_time": "2023-08-29T16:07:45.252154500Z",
     "start_time": "2023-08-29T16:07:45.187080100Z"
    }
   },
   "id": "e187b51589594e09"
  },
  {
   "cell_type": "code",
   "execution_count": 17,
   "outputs": [
    {
     "data": {
      "text/plain": "  0%|          | 0/272 [00:00<?, ?it/s]",
      "application/vnd.jupyter.widget-view+json": {
       "version_major": 2,
       "version_minor": 0,
       "model_id": "c0849d1718bf46509794bf669f502820"
      }
     },
     "metadata": {},
     "output_type": "display_data"
    },
    {
     "ename": "NameError",
     "evalue": "name 'download_reports' is not defined",
     "output_type": "error",
     "traceback": [
      "\u001B[1;31m---------------------------------------------------------------------------\u001B[0m",
      "\u001B[1;31mNameError\u001B[0m                                 Traceback (most recent call last)",
      "Cell \u001B[1;32mIn[17], line 3\u001B[0m\n\u001B[0;32m      1\u001B[0m \u001B[38;5;28;01mfor\u001B[39;00m yftk, ibrow \u001B[38;5;129;01min\u001B[39;00m tqdmd(symbol_table\u001B[38;5;241m.\u001B[39mitems(), total\u001B[38;5;241m=\u001B[39m\u001B[38;5;28mlen\u001B[39m(symbol_table), key\u001B[38;5;241m=\u001B[39m\u001B[38;5;28;01mlambda\u001B[39;00m x: x[\u001B[38;5;241m1\u001B[39m][\u001B[38;5;124m'\u001B[39m\u001B[38;5;124msymbol\u001B[39m\u001B[38;5;124m'\u001B[39m]):\n\u001B[0;32m      2\u001B[0m \ttk \u001B[38;5;241m=\u001B[39m yahoo\u001B[38;5;241m.\u001B[39mdownload(yfsym, date\u001B[38;5;241m=\u001B[39mdate, root\u001B[38;5;241m=\u001B[39myfroot, pbar\u001B[38;5;241m=\u001B[39m\u001B[38;5;28;01mNone\u001B[39;00m)\n\u001B[1;32m----> 3\u001B[0m \tpath \u001B[38;5;241m=\u001B[39m \u001B[43mdownload_reports\u001B[49m(ibe, ibrow, date\u001B[38;5;241m=\u001B[39mdate, root\u001B[38;5;241m=\u001B[39mibroot, pbar\u001B[38;5;241m=\u001B[39m\u001B[38;5;28;01mNone\u001B[39;00m)\n\u001B[0;32m      4\u001B[0m \t\u001B[38;5;28;01mbreak\u001B[39;00m\n",
      "\u001B[1;31mNameError\u001B[0m: name 'download_reports' is not defined"
     ]
    }
   ],
   "source": [
    "for yfsym, ibrow in tqdmd(symbol_table.items(), total=len(symbol_table), key=lambda x: x[1]['symbol']):\n",
    "\ttk = yahoo.download(yfsym, date=date, root=yfroot, pbar=None)\n",
    "\tpath = download_reports(ibe, ibrow, date=date, root=ibroot, pbar=None)\n",
    "\tbreak"
   ],
   "metadata": {
    "collapsed": false,
    "ExecuteTime": {
     "end_time": "2023-08-29T16:17:08.504481700Z",
     "start_time": "2023-08-29T16:16:48.584408900Z"
    }
   },
   "id": "51e8cdce95e8f231"
  },
  {
   "cell_type": "code",
   "execution_count": null,
   "outputs": [],
   "source": [
    "\n",
    "tk = yahoo.download(yfsym, date=date, root=yfroot, pbar=tqdm)\n",
    "path = download_reports(ibe, ibrow, date=date, root=ibroot, pbar=tqdm)"
   ],
   "metadata": {
    "collapsed": false
   },
   "id": "a31a963530b44eb9"
  },
  {
   "cell_type": "code",
   "execution_count": null,
   "outputs": [],
   "source": [],
   "metadata": {
    "collapsed": false
   },
   "id": "e5ca8b4c6ace434c"
  },
  {
   "cell_type": "code",
   "execution_count": null,
   "outputs": [],
   "source": [],
   "metadata": {
    "collapsed": false
   },
   "id": "32e7257196733ae2"
  },
  {
   "cell_type": "code",
   "execution_count": null,
   "outputs": [],
   "source": [
    "for name, report in zip(report_names, reports):\n",
    "\twith open()\n",
    "\tprint(name, report)"
   ],
   "metadata": {
    "collapsed": false
   },
   "id": "9237f32612499960"
  },
  {
   "cell_type": "code",
   "execution_count": 15,
   "outputs": [
    {
     "data": {
      "text/plain": "Contract(secType='STK', conId=34764029, symbol='CGCBV', exchange='SMART', primaryExchange='HEX', currency='EUR')"
     },
     "execution_count": 15,
     "metadata": {},
     "output_type": "execute_result"
    }
   ],
   "source": [
    "ct.exchange = 'SMART'\n",
    "ct"
   ],
   "metadata": {
    "collapsed": false,
    "ExecuteTime": {
     "end_time": "2023-08-29T15:01:24.188675200Z",
     "start_time": "2023-08-29T15:01:24.103901400Z"
    }
   },
   "id": "14082ca2029747f"
  },
  {
   "cell_type": "code",
   "execution_count": 9,
   "outputs": [
    {
     "data": {
      "text/plain": "Contract(secType='STK', conId=2487794, symbol='MEL', exchange='SMART', primaryExchange='BM', currency='EUR', localSymbol='MEL', tradingClass='MEL')"
     },
     "execution_count": 9,
     "metadata": {},
     "output_type": "execute_result"
    }
   ],
   "source": [
    "fixed = ib.reqContractDetails(ct)\n",
    "fixed[0].contract"
   ],
   "metadata": {
    "collapsed": false,
    "ExecuteTime": {
     "end_time": "2023-08-29T15:15:49.704797900Z",
     "start_time": "2023-08-29T15:15:48.609561100Z"
    }
   },
   "id": "23fbe55c9b2832c5"
  },
  {
   "cell_type": "code",
   "execution_count": null,
   "outputs": [],
   "source": [],
   "metadata": {
    "collapsed": false
   },
   "id": "28f71f52ec090a25"
  },
  {
   "cell_type": "code",
   "execution_count": null,
   "outputs": [],
   "source": [],
   "metadata": {
    "collapsed": false
   },
   "id": "7334239d6f0d0cef"
  },
  {
   "cell_type": "code",
   "execution_count": null,
   "outputs": [],
   "source": [
    "# unused"
   ],
   "metadata": {
    "collapsed": false
   },
   "id": "adce3c3fe6793232"
  },
  {
   "cell_type": "code",
   "execution_count": 16,
   "outputs": [],
   "source": [
    "report = ibe.snapshot(ct)"
   ],
   "metadata": {
    "collapsed": false
   },
   "id": "f596fac8887e38ec"
  },
  {
   "cell_type": "code",
   "execution_count": null,
   "outputs": [],
   "source": [
    "bysym = {v['symbol']: v for k, v in symbol_table.items()}\n",
    "len(bysym)"
   ],
   "metadata": {
    "collapsed": false
   },
   "id": "9b42d01fa9614acd"
  },
  {
   "cell_type": "code",
   "execution_count": 16,
   "outputs": [
    {
     "data": {
      "text/plain": "{'conId': 208908717,\n 'currency': 'EUR',\n 'primaryExchange': 'IBIS',\n 'symbol': '1COV'}"
     },
     "execution_count": 16,
     "metadata": {},
     "output_type": "execute_result"
    }
   ],
   "source": [
    "row = next(iter(symbol_table.values()))\n",
    "row = bysym['1COV']\n",
    "row"
   ],
   "metadata": {
    "collapsed": false
   },
   "id": "6a89e28ecf017aff"
  },
  {
   "cell_type": "code",
   "execution_count": 41,
   "outputs": [],
   "source": [
    "# fix = ib.reqContractDetails(Stock(**row))[0].contract\n",
    "options = ib.reqContractDetails(Stock(\n",
    "\t# currency='EUR', \n",
    "\tsymbol='ZAL',\n",
    "))"
   ],
   "metadata": {
    "collapsed": false,
    "ExecuteTime": {
     "end_time": "2023-08-29T15:40:44.494194700Z",
     "start_time": "2023-08-29T15:40:42.978176900Z"
    }
   },
   "id": "e7852cf2ff8cde48"
  },
  {
   "cell_type": "code",
   "execution_count": 42,
   "outputs": [
    {
     "name": "stdout",
     "output_type": "stream",
     "text": [
      "--  ---  ---  ----  ---------\n",
      "18  ZAL  CHF  EBS   172604484\n",
      "17  ZAL  CHF  EBS   172604484\n",
      "16  ZAL  NOK  OSE   158032384\n",
      "15  ZAL  NOK  OSE   158032384\n",
      "14  ZAL  NOK  OSE   158032384\n",
      "13  ZAL  EUR  IBIS  168731675\n",
      "12  ZAL  EUR  IBIS  168731675\n",
      "11  ZAL  EUR  IBIS  168731675\n",
      "10  ZAL  EUR  IBIS  168731675\n",
      " 9  ZAL  EUR  IBIS  168731675\n",
      " 8  ZAL  EUR  IBIS  168731675\n",
      " 7  ZAL  EUR  IBIS  168731675\n",
      " 6  ZAL  EUR  IBIS  168731675\n",
      " 5  ZAL  EUR  IBIS  168731675\n",
      " 4  ZAL  EUR  IBIS  168731675\n",
      " 3  ZAL  EUR  IBIS  168731675\n",
      " 2  ZAL  EUR  IBIS  168731675\n",
      " 1  ZAL  EUR  IBIS  168731675\n",
      " 0  ZAL  EUR  IBIS  168731675\n",
      "--  ---  ---  ----  ---------\n"
     ]
    }
   ],
   "source": [
    "print(tabulate([(i, c.contract.symbol, c.contract.currency, c.contract.primaryExchange, c.contract.conId, c.contract.description) \n",
    "\t\t\t\tfor i, c in reversed(list(enumerate(options)))]))"
   ],
   "metadata": {
    "collapsed": false,
    "ExecuteTime": {
     "end_time": "2023-08-29T15:40:48.029043900Z",
     "start_time": "2023-08-29T15:40:47.897945200Z"
    }
   },
   "id": "b3620e3ab27b3cf0"
  },
  {
   "cell_type": "code",
   "execution_count": 43,
   "outputs": [
    {
     "data": {
      "text/plain": "Contract(secType='STK', conId=168731675, symbol='ZAL', exchange='SMART', primaryExchange='IBIS', currency='EUR', localSymbol='ZAL', tradingClass='XETRA')"
     },
     "execution_count": 43,
     "metadata": {},
     "output_type": "execute_result"
    }
   ],
   "source": [
    "fix = options[0].contract\n",
    "fix"
   ],
   "metadata": {
    "collapsed": false,
    "ExecuteTime": {
     "end_time": "2023-08-29T15:40:54.365839600Z",
     "start_time": "2023-08-29T15:40:54.263300400Z"
    }
   },
   "id": "86a27edf2f2c54f"
  },
  {
   "cell_type": "code",
   "execution_count": 44,
   "outputs": [
    {
     "data": {
      "text/plain": "(True, True)"
     },
     "execution_count": 44,
     "metadata": {},
     "output_type": "execute_result"
    }
   ],
   "source": [
    "fix.primaryExchange == row['primaryExchange'], fix.currency == row['currency']"
   ],
   "metadata": {
    "collapsed": false,
    "ExecuteTime": {
     "end_time": "2023-08-29T15:41:04.945038600Z",
     "start_time": "2023-08-29T15:41:04.822801700Z"
    }
   },
   "id": "50cdb4fca0e0cb6f"
  },
  {
   "cell_type": "code",
   "execution_count": 45,
   "outputs": [],
   "source": [
    "row['exchange'] = fix.exchange"
   ],
   "metadata": {
    "collapsed": false,
    "ExecuteTime": {
     "end_time": "2023-08-29T15:41:06.346741600Z",
     "start_time": "2023-08-29T15:41:06.241873200Z"
    }
   },
   "id": "b7bf8c2777a3b904"
  },
  {
   "cell_type": "code",
   "execution_count": null,
   "outputs": [],
   "source": [],
   "metadata": {
    "collapsed": false
   },
   "id": "cd9fb11a2f0a82f0"
  },
  {
   "cell_type": "code",
   "execution_count": 46,
   "outputs": [
    {
     "data": {
      "text/plain": "  0%|          | 0/272 [00:00<?, ?it/s]",
      "application/vnd.jupyter.widget-view+json": {
       "version_major": 2,
       "version_minor": 0,
       "model_id": "470b9175752540e39cef024ed816e970"
      }
     },
     "metadata": {},
     "output_type": "display_data"
    }
   ],
   "source": [
    "bad = []\n",
    "for row in tqdmd(symbol_table.values(), key=lambda x: x['symbol']):\n",
    "\tif 'exchange' not in row:\n",
    "\t\tq = Stock(currency=row['currency'], \n",
    "\t\t\t\t  # primaryExchange=row['primaryExchange'], \n",
    "\t\t\t\t  symbol=row['symbol'])\n",
    "\t\tcts = [cd.contract for cd in ib.reqContractDetails(q) \n",
    "\t\t\t   if cd.contract.conId == row['conId'] \n",
    "\t\t\t   and cd.contract.primaryExchange == row['primaryExchange']]\n",
    "\t\tif len(cts):\n",
    "\t\t\tct = cts[0]\n",
    "\t\t\trow['exchange'] = ct.exchange\n",
    "\t\telse:\n",
    "\t\t\tbad.append(row)"
   ],
   "metadata": {
    "collapsed": false,
    "ExecuteTime": {
     "end_time": "2023-08-29T15:41:16.269220200Z",
     "start_time": "2023-08-29T15:41:15.022931500Z"
    }
   },
   "id": "ebae83609333cf66"
  },
  {
   "cell_type": "code",
   "execution_count": 31,
   "outputs": [
    {
     "data": {
      "text/plain": "(4, ['WIE', 'WKL', 'WLN', 'ZAL'])"
     },
     "execution_count": 31,
     "metadata": {},
     "output_type": "execute_result"
    }
   ],
   "source": [
    "len(bad), [b['symbol'] for b in bad]"
   ],
   "metadata": {
    "collapsed": false,
    "ExecuteTime": {
     "end_time": "2023-08-29T15:34:35.415964300Z",
     "start_time": "2023-08-29T15:34:35.303846500Z"
    }
   },
   "id": "2c4a2a8cc4792ce2"
  },
  {
   "cell_type": "code",
   "execution_count": null,
   "outputs": [],
   "source": [],
   "metadata": {
    "collapsed": false
   },
   "id": "d8f3b64dd5242dbc"
  },
  {
   "cell_type": "code",
   "execution_count": 47,
   "outputs": [
    {
     "data": {
      "text/plain": "WindowsPath('C:/Users/anwan/OneDrive/Khan/projects/stox/assets/yahoo2ibkr.yml')"
     },
     "execution_count": 47,
     "metadata": {},
     "output_type": "execute_result"
    }
   ],
   "source": [
    "# stox.save_symbol_table(symbol_table)"
   ],
   "metadata": {
    "collapsed": false,
    "ExecuteTime": {
     "end_time": "2023-08-29T15:41:22.413833100Z",
     "start_time": "2023-08-29T15:41:21.913450800Z"
    }
   },
   "id": "8e1f6639535e1528"
  },
  {
   "cell_type": "code",
   "execution_count": null,
   "outputs": [],
   "source": [],
   "metadata": {
    "collapsed": false
   },
   "id": "20cf41814e8bb74b"
  },
  {
   "cell_type": "code",
   "execution_count": null,
   "outputs": [],
   "source": [],
   "metadata": {
    "collapsed": false
   },
   "id": "78ce10c1a65fcfac"
  },
  {
   "cell_type": "code",
   "execution_count": null,
   "outputs": [],
   "source": [],
   "metadata": {
    "collapsed": false
   },
   "id": "f588de12645a47bc"
  },
  {
   "cell_type": "code",
   "execution_count": null,
   "id": "initial_id",
   "metadata": {
    "collapsed": true
   },
   "outputs": [],
   "source": []
  }
 ],
 "metadata": {
  "kernelspec": {
   "display_name": "Python 3",
   "language": "python",
   "name": "python3"
  },
  "language_info": {
   "codemirror_mode": {
    "name": "ipython",
    "version": 2
   },
   "file_extension": ".py",
   "mimetype": "text/x-python",
   "name": "python",
   "nbconvert_exporter": "python",
   "pygments_lexer": "ipython2",
   "version": "2.7.6"
  }
 },
 "nbformat": 4,
 "nbformat_minor": 5
}
