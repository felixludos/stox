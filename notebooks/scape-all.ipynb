{
 "cells": [
  {
   "cell_type": "code",
   "execution_count": 6,
   "outputs": [],
   "source": [
    "import random\n",
    "from collections import Counter\n",
    "import stox\n",
    "from ib_insync import *\n",
    "from stox.imports import *\n",
    "from stox.ibkr import IB_Extractor, describe_contract\n",
    "from tqdm.notebook import tqdm\n",
    "from omnibelt import tqdmd_notebook as tqdmd\n",
    "from stox import misc, yahoo"
   ],
   "metadata": {
    "collapsed": false,
    "ExecuteTime": {
     "end_time": "2023-09-08T21:35:26.820619200Z",
     "start_time": "2023-09-08T21:35:26.788800600Z"
    }
   },
   "id": "89afeb8419607f6c"
  },
  {
   "cell_type": "markdown",
   "source": [
    "# USE the 'download' script instead"
   ],
   "metadata": {
    "collapsed": false
   },
   "id": "eafb3dd89541d1e0"
  },
  {
   "cell_type": "code",
   "execution_count": 7,
   "outputs": [
    {
     "data": {
      "text/plain": "274"
     },
     "execution_count": 7,
     "metadata": {},
     "output_type": "execute_result"
    }
   ],
   "source": [
    "symbol_table = stox.load_symbol_table()\n",
    "len(symbol_table)"
   ],
   "metadata": {
    "collapsed": false,
    "ExecuteTime": {
     "end_time": "2023-09-08T21:35:27.257396600Z",
     "start_time": "2023-09-08T21:35:27.109798300Z"
    }
   },
   "id": "efa0a21bb005ad34"
  },
  {
   "cell_type": "code",
   "execution_count": 8,
   "outputs": [],
   "source": [
    "# date = '230829'\n",
    "# date = 'last'\n",
    "date = None"
   ],
   "metadata": {
    "collapsed": false,
    "ExecuteTime": {
     "end_time": "2023-09-08T21:35:27.707438300Z",
     "start_time": "2023-09-08T21:35:27.701280700Z"
    }
   },
   "id": "faa79aa8f077b273"
  },
  {
   "cell_type": "code",
   "execution_count": 9,
   "outputs": [
    {
     "name": "stdout",
     "output_type": "stream",
     "text": [
      "C:\\Users\\anwan\\OneDrive\\Khan\\projects\\stox\\stoxdata\\yahoo_data\n",
      "C:\\Users\\anwan\\OneDrive\\Khan\\projects\\stox\\stoxdata\\ibkr_data\n"
     ]
    }
   ],
   "source": [
    "yfroot = misc.yahoo_root()\n",
    "ibroot = misc.ibkr_root()\n",
    "# yfroot = yfroot.parent.parent / 'testdata' / 'yahoo_data'\n",
    "# ibroot = ibroot.parent.parent / 'testdata' / 'ib_data'\n",
    "yfroot.mkdir(exist_ok=True, parents=True)\n",
    "ibroot.mkdir(exist_ok=True, parents=True)\n",
    "print(yfroot)\n",
    "print(ibroot)"
   ],
   "metadata": {
    "collapsed": false,
    "ExecuteTime": {
     "end_time": "2023-09-08T21:35:28.219223Z",
     "start_time": "2023-09-08T21:35:28.203706900Z"
    }
   },
   "id": "11d9365b4f0d6ac6"
  },
  {
   "cell_type": "code",
   "execution_count": 10,
   "outputs": [],
   "source": [
    "# rows = [(k, v) for k, v in symbol_table.items() if v['currency'] == 'EUR']\n",
    "# len(rows)"
   ],
   "metadata": {
    "collapsed": false,
    "ExecuteTime": {
     "end_time": "2023-09-08T21:35:29.791699900Z",
     "start_time": "2023-09-08T21:35:29.786631200Z"
    }
   },
   "id": "db1c8d097383ea7c"
  },
  {
   "cell_type": "code",
   "execution_count": 11,
   "outputs": [],
   "source": [
    "# keys = dict(yahoo._default_datatypes)\n",
    "# del keys['institutional_holders']\n",
    "# del keys['major_holders']\n",
    "# del keys['mutualfund_holders']\n",
    "# idx = 0"
   ],
   "metadata": {
    "collapsed": false,
    "ExecuteTime": {
     "end_time": "2023-09-08T21:35:30.232617800Z",
     "start_time": "2023-09-08T21:35:30.214459700Z"
    }
   },
   "id": "db9afe399a7e1360"
  },
  {
   "cell_type": "code",
   "execution_count": 142,
   "outputs": [
    {
     "name": "stdout",
     "output_type": "stream",
     "text": [
      "AD.AS\n"
     ]
    }
   ],
   "source": [
    "yfsym, ibrow = random.choice(rows)\n",
    "\n",
    "# manual = ['VIO']\n",
    "\n",
    "# yfsym = bad_yf[idx]\n",
    "# yfsym = bad_ib[idx]\n",
    "# ibrow = symbol_table[yfsym]\n",
    "# idx += 1\n",
    "\n",
    "print(yfsym)#, ibrow"
   ],
   "metadata": {
    "collapsed": false,
    "ExecuteTime": {
     "end_time": "2023-08-29T19:33:06.466787500Z",
     "start_time": "2023-08-29T19:33:06.431700300Z"
    }
   },
   "id": "abcbd8320d3382f8"
  },
  {
   "cell_type": "code",
   "execution_count": 84,
   "outputs": [
    {
     "data": {
      "text/plain": "  0%|          | 0/11 [00:00<?, ?it/s]",
      "application/vnd.jupyter.widget-view+json": {
       "version_major": 2,
       "version_minor": 0,
       "model_id": "30a082528ffa4222957b9254495c3d7e"
      }
     },
     "metadata": {},
     "output_type": "display_data"
    },
    {
     "data": {
      "text/plain": "<ZAL.DE>"
     },
     "execution_count": 84,
     "metadata": {},
     "output_type": "execute_result"
    }
   ],
   "source": [
    "# tk = yahoo.download(yfsym, date=date, root=yfroot, pbar=tqdm, keys=keys)\n",
    "tk = yahoo.download(yfsym, date=date, root=yfroot, pbar=tqdm)\n",
    "tk"
   ],
   "metadata": {
    "collapsed": false,
    "ExecuteTime": {
     "end_time": "2023-08-29T19:09:46.451686600Z",
     "start_time": "2023-08-29T19:09:44.031079700Z"
    }
   },
   "id": "f0623f81231a6029"
  },
  {
   "cell_type": "code",
   "execution_count": 13,
   "outputs": [
    {
     "name": "stderr",
     "output_type": "stream",
     "text": [
      "ERROR:ib_insync.wrapper: Error 321, reqId 2147483647: Error validating request.-'cG' : cause - The API interface is currently in Read-Only mode.\n",
      "ERROR:ib_insync.wrapper: Error 321, reqId -1: Error validating request.-'ce' : cause - The API interface is currently in Read-Only mode.\n",
      "ERROR:ib_insync.ib: open orders request timed out\n",
      "ERROR:ib_insync.ib: completed orders request timed out\n"
     ]
    }
   ],
   "source": [
    "ibe = IB_Extractor(True)\n",
    "ib = ibe.ib"
   ],
   "metadata": {
    "collapsed": false,
    "ExecuteTime": {
     "end_time": "2023-09-08T21:37:54.260555600Z",
     "start_time": "2023-09-08T21:37:50.178084900Z"
    }
   },
   "id": "4e7a4f41aa8bd1d8"
  },
  {
   "cell_type": "code",
   "execution_count": 33,
   "outputs": [
    {
     "data": {
      "text/plain": "  0%|          | 0/5 [00:00<?, ?it/s]",
      "application/vnd.jupyter.widget-view+json": {
       "version_major": 2,
       "version_minor": 0,
       "model_id": "205ba84f9e3f452ca72c48a14dd170bf"
      }
     },
     "metadata": {},
     "output_type": "display_data"
    }
   ],
   "source": [
    "path = download_reports(ibe, ibrow, date=date, root=ibroot, pbar=tqdm)"
   ],
   "metadata": {
    "collapsed": false,
    "ExecuteTime": {
     "end_time": "2023-08-29T19:01:38.080080200Z",
     "start_time": "2023-08-29T19:01:32.564996700Z"
    }
   },
   "id": "4fc41465bdb2b912"
  },
  {
   "cell_type": "code",
   "execution_count": 8,
   "outputs": [
    {
     "name": "stdout",
     "output_type": "stream",
     "text": [
      "AMS | EUR | BM | 74792133\n"
     ]
    }
   ],
   "source": [
    "# ct = Stock(**ibrow)\n",
    "# print(' | '.join(map(str, [ct.symbol, ct.currency, ct.primaryExchange, ct.conId])))"
   ],
   "metadata": {
    "collapsed": false,
    "ExecuteTime": {
     "end_time": "2023-08-29T16:07:45.252154500Z",
     "start_time": "2023-08-29T16:07:45.187080100Z"
    }
   },
   "id": "e187b51589594e09"
  },
  {
   "cell_type": "markdown",
   "source": [
    "# Bulk Download"
   ],
   "metadata": {
    "collapsed": false
   },
   "id": "2c40ba9481e39bb6"
  },
  {
   "cell_type": "code",
   "execution_count": null,
   "outputs": [],
   "source": [
    "ibe = IB_Extractor(True)\n",
    "ib = ibe.ib"
   ],
   "metadata": {
    "collapsed": false
   },
   "id": "ff0a721714605827"
  },
  {
   "cell_type": "code",
   "execution_count": 14,
   "outputs": [
    {
     "data": {
      "text/plain": "  0%|          | 0/274 [00:00<?, ?it/s]",
      "application/vnd.jupyter.widget-view+json": {
       "version_major": 2,
       "version_minor": 0,
       "model_id": "05e6e72832fa4ec7a7cca159c4c577e4"
      }
     },
     "metadata": {},
     "output_type": "display_data"
    },
    {
     "name": "stdout",
     "output_type": "stream",
     "text": [
      "ADYEN.AS institutional_holders None\n",
      "Failed to download yahoo: ADYEN.AS\n"
     ]
    },
    {
     "name": "stderr",
     "output_type": "stream",
     "text": [
      "ERROR:ib_insync.wrapper: Error 430, reqId 144: The fundamentals data for the security specified is not available.failed to fetch, contract: Stock(conId=500029613, symbol='ANE', exchange='SMART', primaryExchange='BM', currency='EUR')\n"
     ]
    },
    {
     "name": "stdout",
     "output_type": "stream",
     "text": [
      "Failed to download IBKR: ANE.MC\n",
      "APAM.BR isin None\n",
      "Failed to download yahoo: APAM.BR\n",
      "ARGX.BR institutional_holders None\n",
      "Failed to download yahoo: ARGX.BR\n"
     ]
    },
    {
     "name": "stderr",
     "output_type": "stream",
     "text": [
      "ERROR:ib_insync.wrapper: Error 430, reqId 251: The fundamentals data for the security specified is not available.failed to fetch, contract: Stock(conId=11516717, symbol='BPE', exchange='SMART', primaryExchange='BVME', currency='EUR')\n"
     ]
    },
    {
     "name": "stdout",
     "output_type": "stream",
     "text": [
      "Failed to download IBKR: BPE.MI\n",
      "CABK.MC institutional_holders None\n",
      "Failed to download yahoo: CABK.MC\n"
     ]
    },
    {
     "name": "stderr",
     "output_type": "stream",
     "text": [
      "ERROR:ib_insync.wrapper: Error 430, reqId 273: The fundamentals data for the security specified is not available.failed to fetch, contract: Stock(conId=259937347, symbol='CENER', exchange='SMART', primaryExchange='ENEXT.BE', currency='EUR')\n"
     ]
    },
    {
     "name": "stdout",
     "output_type": "stream",
     "text": [
      "Failed to download IBKR: CENER.AT\n"
     ]
    },
    {
     "name": "stderr",
     "output_type": "stream",
     "text": [
      "ERROR:yfinance: DSM.AS: No data found, symbol may be delisted\n",
      "ERROR:yfinance: DSM.AS: No data found, symbol may be delisted\n",
      "ERROR:yfinance: DSM.AS: No data found, symbol may be delisted\n"
     ]
    },
    {
     "name": "stdout",
     "output_type": "stream",
     "text": [
      "EBS.VI institutional_holders None\n",
      "Failed to download yahoo: EBS.VI\n"
     ]
    },
    {
     "name": "stderr",
     "output_type": "stream",
     "text": [
      "ERROR:ib_insync.wrapper: Error 430, reqId 408: The fundamentals data for the security specified is not available.failed to fetch, contract: Stock(conId=16490116, symbol='ELLAKTOR', exchange='SMART', primaryExchange='ATH', currency='EUR')\n"
     ]
    },
    {
     "name": "stdout",
     "output_type": "stream",
     "text": [
      "Failed to download IBKR: ELLAKTOR.AT\n"
     ]
    },
    {
     "name": "stderr",
     "output_type": "stream",
     "text": [
      "ERROR:ib_insync.wrapper: Error 430, reqId 465: The fundamentals data for the security specified is not available.failed to fetch, contract: Stock(conId=3306468, symbol='EVN', exchange='SMART', primaryExchange='VSE', currency='EUR')\n"
     ]
    },
    {
     "name": "stdout",
     "output_type": "stream",
     "text": [
      "Failed to download IBKR: EVN.VI\n"
     ]
    },
    {
     "name": "stderr",
     "output_type": "stream",
     "text": [
      "ERROR:ib_insync.wrapper: Error 430, reqId 475: The fundamentals data for the security specified is not available.failed to fetch, contract: Stock(conId=16490113, symbol='EYDAP', exchange='FWB2', primaryExchange='ATH', currency='EUR')\n"
     ]
    },
    {
     "name": "stdout",
     "output_type": "stream",
     "text": [
      "Failed to download IBKR: EYDAP.AT\n"
     ]
    },
    {
     "name": "stderr",
     "output_type": "stream",
     "text": [
      "ERROR:ib_insync.wrapper: Error 430, reqId 487: The fundamentals data for the security specified is not available.failed to fetch, contract: Stock(conId=636678546, symbol='FER', exchange='SMART', primaryExchange='BM', currency='EUR')\n"
     ]
    },
    {
     "name": "stdout",
     "output_type": "stream",
     "text": [
      "Failed to download IBKR: FER.MC\n"
     ]
    },
    {
     "name": "stderr",
     "output_type": "stream",
     "text": [
      "ERROR:ib_insync.wrapper: Error 430, reqId 549: The fundamentals data for the security specified is not available.failed to fetch, contract: Stock(conId=573136108, symbol='HLN', exchange='SMART', primaryExchange='LSE', currency='GBP')\n"
     ]
    },
    {
     "name": "stdout",
     "output_type": "stream",
     "text": [
      "Failed to download IBKR: HLN.L\n",
      "HTO.AT institutional_holders None\n",
      "Failed to download yahoo: HTO.AT\n",
      "KER.PA institutional_holders None\n",
      "Failed to download yahoo: KER.PA\n"
     ]
    },
    {
     "name": "stderr",
     "output_type": "stream",
     "text": [
      "ERROR:ib_insync.wrapper: Error 430, reqId 656: The fundamentals data for the security specified is not available.failed to fetch, contract: Stock(conId=617155589, symbol='LIN', exchange='SMART', primaryExchange='IBIS', currency='EUR')\n"
     ]
    },
    {
     "name": "stdout",
     "output_type": "stream",
     "text": [
      "Failed to download IBKR: LIN.DE\n",
      "LR.PA institutional_holders None\n",
      "Failed to download yahoo: LR.PA\n"
     ]
    },
    {
     "name": "stderr",
     "output_type": "stream",
     "text": [
      "ERROR:ib_insync.wrapper: Error 430, reqId 703: The fundamentals data for the security specified is not available.failed to fetch, contract: Stock(conId=562418770, symbol='ML', exchange='SMART', primaryExchange='SBF', currency='EUR')\n"
     ]
    },
    {
     "name": "stdout",
     "output_type": "stream",
     "text": [
      "Failed to download IBKR: ML.PA\n",
      "MNG.L isin None\n",
      "Failed to download yahoo: MNG.L\n"
     ]
    },
    {
     "name": "stderr",
     "output_type": "stream",
     "text": [
      "ERROR:yfinance: MOCORP.HE: No timezone found, symbol may be delisted\n",
      "ERROR:yfinance: MOCORP.HE: No timezone found, symbol may be delisted\n",
      "ERROR:yfinance: MOCORP.HE: No timezone found, symbol may be delisted\n",
      "ERROR:yfinance: NDA FI.HE: No timezone found, symbol may be delisted\n",
      "ERROR:yfinance: NDA FI.HE: No timezone found, symbol may be delisted\n",
      "ERROR:yfinance: NDA FI.HE: No timezone found, symbol may be delisted\n",
      "ERROR:yfinance: NDA.ST: No price data found, symbol may be delisted (1d 1924-10-01 -> 2023-09-08)\n",
      "ERROR:yfinance: NDA.ST: No price data found, symbol may be delisted (1d 1924-10-01 -> 2023-09-08)\n",
      "ERROR:yfinance: NDA.ST: No price data found, symbol may be delisted (1d 1924-10-01 -> 2023-09-08)\n"
     ]
    },
    {
     "name": "stdout",
     "output_type": "stream",
     "text": [
      "OR.PA institutional_holders None\n",
      "Failed to download yahoo: OR.PA\n"
     ]
    },
    {
     "name": "stderr",
     "output_type": "stream",
     "text": [
      "ERROR:ib_insync.wrapper: Error 430, reqId 825: The fundamentals data for the security specified is not available.failed to fetch, contract: Stock(conId=588392767, symbol='P911', exchange='SMART', primaryExchange='IBIS', currency='EUR')\n"
     ]
    },
    {
     "name": "stdout",
     "output_type": "stream",
     "text": [
      "Failed to download IBKR: P911.DE\n",
      "PRY.MI institutional_holders None\n",
      "Failed to download yahoo: PRY.MI\n"
     ]
    },
    {
     "name": "stderr",
     "output_type": "stream",
     "text": [
      "ERROR:ib_insync.wrapper: Error 430, reqId 872: The fundamentals data for the security specified is not available.failed to fetch, contract: Stock(conId=404782997, symbol='QUEST', exchange='FWB2', primaryExchange='ATH', currency='EUR')\n"
     ]
    },
    {
     "name": "stdout",
     "output_type": "stream",
     "text": [
      "Failed to download IBKR: QUEST.AT\n",
      "RACE.MI institutional_holders None\n",
      "Failed to download yahoo: RACE.MI\n"
     ]
    },
    {
     "name": "stderr",
     "output_type": "stream",
     "text": [
      "ERROR:ib_insync.wrapper: Error 430, reqId 974: The fundamentals data for the security specified is not available.failed to fetch, contract: Stock(conId=586245618, symbol='SDR', exchange='SMART', primaryExchange='LSE', currency='GBP')\n"
     ]
    },
    {
     "name": "stdout",
     "output_type": "stream",
     "text": [
      "Failed to download IBKR: SDR.L\n"
     ]
    },
    {
     "name": "stderr",
     "output_type": "stream",
     "text": [
      "ERROR:ib_insync.wrapper: Error 430, reqId 981: The fundamentals data for the security specified is not available.failed to fetch, contract: Stock(conId=542125742, symbol='SHEL', exchange='SMART', primaryExchange='LSE', currency='GBP')\n"
     ]
    },
    {
     "name": "stdout",
     "output_type": "stream",
     "text": [
      "Failed to download IBKR: SHEL.L\n"
     ]
    },
    {
     "name": "stderr",
     "output_type": "stream",
     "text": [
      "ERROR:ib_insync.wrapper: Error 430, reqId 983: The fundamentals data for the security specified is not available.failed to fetch, contract: Stock(conId=541411967, symbol='SHELL', exchange='SMART', primaryExchange='AEB', currency='EUR')\n"
     ]
    },
    {
     "name": "stdout",
     "output_type": "stream",
     "text": [
      "Failed to download IBKR: SHELL.AS\n",
      "SMT.L institutional_holders None\n",
      "Failed to download yahoo: SMT.L\n"
     ]
    },
    {
     "name": "stderr",
     "output_type": "stream",
     "text": [
      "ERROR:ib_insync.wrapper: Error 430, reqId 1005: The fundamentals data for the security specified is not available.failed to fetch, contract: Stock(conId=566597407, symbol='SPM', exchange='SMART', primaryExchange='BVME', currency='EUR')\n"
     ]
    },
    {
     "name": "stdout",
     "output_type": "stream",
     "text": [
      "Failed to download IBKR: SPM.MI\n"
     ]
    },
    {
     "name": "stderr",
     "output_type": "stream",
     "text": [
      "ERROR:ib_insync.wrapper: Error 430, reqId 1022: The fundamentals data for the security specified is not available.failed to fetch, contract: Stock(conId=29816588, symbol='STERV', exchange='SMART', primaryExchange='HEX', currency='EUR')\n"
     ]
    },
    {
     "name": "stdout",
     "output_type": "stream",
     "text": [
      "Failed to download IBKR: STERV.HE\n",
      "UMI.BR institutional_holders None\n",
      "Failed to download yahoo: UMI.BR\n"
     ]
    },
    {
     "name": "stderr",
     "output_type": "stream",
     "text": [
      "ERROR:ib_insync.wrapper: Error 430, reqId 1164: The fundamentals data for the security specified is not available.failed to fetch, contract: Stock(conId=14317525, symbol='UQA', exchange='SMART', primaryExchange='VSE', currency='EUR')\n"
     ]
    },
    {
     "name": "stdout",
     "output_type": "stream",
     "text": [
      "Failed to download IBKR: UQA.VI\n"
     ]
    },
    {
     "name": "stderr",
     "output_type": "stream",
     "text": [
      "ERROR:yfinance: URW.AS: No data found, symbol may be delisted\n",
      "ERROR:yfinance: URW.AS: No data found, symbol may be delisted\n",
      "ERROR:yfinance: URW.AS: No data found, symbol may be delisted\n",
      "ERROR:ib_insync.wrapper: Error 430, reqId 1191: The fundamentals data for the security specified is not available.failed to fetch, contract: Stock(conId=138171445, symbol='VIO', exchange='SMART', primaryExchange='ENEXT.BE', currency='EUR')\n"
     ]
    },
    {
     "name": "stdout",
     "output_type": "stream",
     "text": [
      "Failed to download IBKR: VIO.AT\n",
      "ZAL.DE institutional_holders None\n",
      "Failed to download yahoo: ZAL.DE\n",
      "GALP.LS institutional_holders None\n",
      "Failed to download yahoo: GALP.LS\n"
     ]
    }
   ],
   "source": [
    "bad_yf, bad_ib = [], []\n",
    "for yfsym, ibrow in tqdmd(symbol_table.items(), total=len(symbol_table), key=lambda x: x[1]['symbol']):\n",
    "\ttry:\n",
    "\t\ttk = yahoo.download(yfsym, date=date, root=yfroot, pbar=None)\n",
    "\texcept KeyboardInterrupt:\n",
    "\t\traise\n",
    "\texcept:\n",
    "\t\tbad_yf.append(yfsym)\n",
    "\t\tprint('Failed to download yahoo:', yfsym)\n",
    "\t\tcontinue\n",
    "\tif not ibe.ib.isConnected():\n",
    "\t\tibe = IB_Extractor(True)\n",
    "\ttry:\n",
    "\t\tpath = download_reports(ibe, ibrow, date=date, root=ibroot, pbar=None)\n",
    "\texcept KeyboardInterrupt:\n",
    "\t\traise\n",
    "\texcept:\n",
    "\t\tbad_ib.append(yfsym)\n",
    "\t\tprint('Failed to download IBKR:', yfsym)\n",
    "\t\tcontinue"
   ],
   "metadata": {
    "collapsed": false,
    "ExecuteTime": {
     "end_time": "2023-09-08T22:36:33.760453100Z",
     "start_time": "2023-09-08T21:37:57.130802700Z"
    }
   },
   "id": "51e8cdce95e8f231"
  },
  {
   "cell_type": "code",
   "execution_count": 15,
   "outputs": [
    {
     "data": {
      "text/plain": "(16, 19)"
     },
     "execution_count": 15,
     "metadata": {},
     "output_type": "execute_result"
    }
   ],
   "source": [
    "len(bad_yf), len(bad_ib)"
   ],
   "metadata": {
    "collapsed": false,
    "ExecuteTime": {
     "end_time": "2023-09-08T22:43:09.858056800Z",
     "start_time": "2023-09-08T22:43:09.853669400Z"
    }
   },
   "id": "32e7257196733ae2"
  },
  {
   "cell_type": "code",
   "execution_count": 16,
   "outputs": [
    {
     "name": "stdout",
     "output_type": "stream",
     "text": [
      "['ANE.MC', 'BPE.MI', 'CENER.AT', 'ELLAKTOR.AT', 'EVN.VI', 'EYDAP.AT', 'FER.MC', 'HLN.L', 'LIN.DE', 'ML.PA', 'P911.DE', 'QUEST.AT', 'SDR.L', 'SHEL.L', 'SHELL.AS', 'SPM.MI', 'STERV.HE', 'UQA.VI', 'VIO.AT']\n"
     ]
    }
   ],
   "source": [
    "print(bad_ib) # ['ANE.MC', 'BPE.MI', 'CENER.AT', 'ELLAKTOR.AT', 'EVN.VI', 'EYDAP.AT', 'FER.MC', 'HLN.L', 'LIN.DE', 'ML.PA', 'P911.DE', 'QUEST.AT', 'SDR.L', 'SHEL.L', 'SHELL.AS', 'SPM.MI', 'STERV.HE', 'UQA.VI', 'VIO.AT']"
   ],
   "metadata": {
    "collapsed": false,
    "ExecuteTime": {
     "end_time": "2023-09-08T22:43:12.801745300Z",
     "start_time": "2023-09-08T22:43:12.769070300Z"
    }
   },
   "id": "526de33eefa508c9"
  },
  {
   "cell_type": "code",
   "execution_count": 17,
   "outputs": [
    {
     "name": "stdout",
     "output_type": "stream",
     "text": [
      "['ADYEN.AS', 'APAM.BR', 'ARGX.BR', 'CABK.MC', 'EBS.VI', 'HTO.AT', 'KER.PA', 'LR.PA', 'MNG.L', 'OR.PA', 'PRY.MI', 'RACE.MI', 'SMT.L', 'UMI.BR', 'ZAL.DE', 'GALP.LS']\n"
     ]
    }
   ],
   "source": [
    "print(bad_yf) # ['ADYEN.AS', 'APAM.BR', 'ARGX.BR', 'CABK.MC', 'EBS.VI', 'HTO.AT', 'KER.PA', 'LR.PA', 'MNG.L', 'OR.PA', 'PRY.MI', 'RACE.MI', 'SMT.L', 'UMI.BR', 'ZAL.DE', 'GALP.LS']"
   ],
   "metadata": {
    "collapsed": false,
    "ExecuteTime": {
     "end_time": "2023-09-08T22:43:13.079715400Z",
     "start_time": "2023-09-08T22:43:13.072684600Z"
    }
   },
   "id": "28f71f52ec090a25"
  },
  {
   "cell_type": "code",
   "execution_count": null,
   "outputs": [],
   "source": [],
   "metadata": {
    "collapsed": false
   },
   "id": "7334239d6f0d0cef"
  },
  {
   "cell_type": "code",
   "execution_count": null,
   "outputs": [],
   "source": [
    "# unused"
   ],
   "metadata": {
    "collapsed": false
   },
   "id": "adce3c3fe6793232"
  },
  {
   "cell_type": "code",
   "execution_count": 16,
   "outputs": [],
   "source": [
    "report = ibe.snapshot(ct)"
   ],
   "metadata": {
    "collapsed": false
   },
   "id": "f596fac8887e38ec"
  },
  {
   "cell_type": "code",
   "execution_count": null,
   "outputs": [],
   "source": [
    "bysym = {v['symbol']: v for k, v in symbol_table.items()}\n",
    "len(bysym)"
   ],
   "metadata": {
    "collapsed": false
   },
   "id": "9b42d01fa9614acd"
  },
  {
   "cell_type": "code",
   "execution_count": 16,
   "outputs": [
    {
     "data": {
      "text/plain": "{'conId': 208908717,\n 'currency': 'EUR',\n 'primaryExchange': 'IBIS',\n 'symbol': '1COV'}"
     },
     "execution_count": 16,
     "metadata": {},
     "output_type": "execute_result"
    }
   ],
   "source": [
    "row = next(iter(symbol_table.values()))\n",
    "row = bysym['1COV']\n",
    "row"
   ],
   "metadata": {
    "collapsed": false
   },
   "id": "6a89e28ecf017aff"
  },
  {
   "cell_type": "code",
   "execution_count": 41,
   "outputs": [],
   "source": [
    "# fix = ib.reqContractDetails(Stock(**row))[0].contract\n",
    "options = ib.reqContractDetails(Stock(\n",
    "\t# currency='EUR', \n",
    "\tsymbol='ZAL',\n",
    "))"
   ],
   "metadata": {
    "collapsed": false,
    "ExecuteTime": {
     "end_time": "2023-08-29T15:40:44.494194700Z",
     "start_time": "2023-08-29T15:40:42.978176900Z"
    }
   },
   "id": "e7852cf2ff8cde48"
  },
  {
   "cell_type": "code",
   "execution_count": 42,
   "outputs": [
    {
     "name": "stdout",
     "output_type": "stream",
     "text": [
      "--  ---  ---  ----  ---------\n",
      "18  ZAL  CHF  EBS   172604484\n",
      "17  ZAL  CHF  EBS   172604484\n",
      "16  ZAL  NOK  OSE   158032384\n",
      "15  ZAL  NOK  OSE   158032384\n",
      "14  ZAL  NOK  OSE   158032384\n",
      "13  ZAL  EUR  IBIS  168731675\n",
      "12  ZAL  EUR  IBIS  168731675\n",
      "11  ZAL  EUR  IBIS  168731675\n",
      "10  ZAL  EUR  IBIS  168731675\n",
      " 9  ZAL  EUR  IBIS  168731675\n",
      " 8  ZAL  EUR  IBIS  168731675\n",
      " 7  ZAL  EUR  IBIS  168731675\n",
      " 6  ZAL  EUR  IBIS  168731675\n",
      " 5  ZAL  EUR  IBIS  168731675\n",
      " 4  ZAL  EUR  IBIS  168731675\n",
      " 3  ZAL  EUR  IBIS  168731675\n",
      " 2  ZAL  EUR  IBIS  168731675\n",
      " 1  ZAL  EUR  IBIS  168731675\n",
      " 0  ZAL  EUR  IBIS  168731675\n",
      "--  ---  ---  ----  ---------\n"
     ]
    }
   ],
   "source": [
    "print(tabulate([(i, c.contract.symbol, c.contract.currency, c.contract.primaryExchange, c.contract.conId, c.contract.description) \n",
    "\t\t\t\tfor i, c in reversed(list(enumerate(options)))]))"
   ],
   "metadata": {
    "collapsed": false,
    "ExecuteTime": {
     "end_time": "2023-08-29T15:40:48.029043900Z",
     "start_time": "2023-08-29T15:40:47.897945200Z"
    }
   },
   "id": "b3620e3ab27b3cf0"
  },
  {
   "cell_type": "code",
   "execution_count": 43,
   "outputs": [
    {
     "data": {
      "text/plain": "Contract(secType='STK', conId=168731675, symbol='ZAL', exchange='SMART', primaryExchange='IBIS', currency='EUR', localSymbol='ZAL', tradingClass='XETRA')"
     },
     "execution_count": 43,
     "metadata": {},
     "output_type": "execute_result"
    }
   ],
   "source": [
    "fix = options[0].contract\n",
    "fix"
   ],
   "metadata": {
    "collapsed": false,
    "ExecuteTime": {
     "end_time": "2023-08-29T15:40:54.365839600Z",
     "start_time": "2023-08-29T15:40:54.263300400Z"
    }
   },
   "id": "86a27edf2f2c54f"
  },
  {
   "cell_type": "code",
   "execution_count": 44,
   "outputs": [
    {
     "data": {
      "text/plain": "(True, True)"
     },
     "execution_count": 44,
     "metadata": {},
     "output_type": "execute_result"
    }
   ],
   "source": [
    "fix.primaryExchange == row['primaryExchange'], fix.currency == row['currency']"
   ],
   "metadata": {
    "collapsed": false,
    "ExecuteTime": {
     "end_time": "2023-08-29T15:41:04.945038600Z",
     "start_time": "2023-08-29T15:41:04.822801700Z"
    }
   },
   "id": "50cdb4fca0e0cb6f"
  },
  {
   "cell_type": "code",
   "execution_count": 45,
   "outputs": [],
   "source": [
    "row['exchange'] = fix.exchange"
   ],
   "metadata": {
    "collapsed": false,
    "ExecuteTime": {
     "end_time": "2023-08-29T15:41:06.346741600Z",
     "start_time": "2023-08-29T15:41:06.241873200Z"
    }
   },
   "id": "b7bf8c2777a3b904"
  },
  {
   "cell_type": "code",
   "execution_count": null,
   "outputs": [],
   "source": [],
   "metadata": {
    "collapsed": false
   },
   "id": "cd9fb11a2f0a82f0"
  },
  {
   "cell_type": "code",
   "execution_count": 46,
   "outputs": [
    {
     "data": {
      "text/plain": "  0%|          | 0/272 [00:00<?, ?it/s]",
      "application/vnd.jupyter.widget-view+json": {
       "version_major": 2,
       "version_minor": 0,
       "model_id": "470b9175752540e39cef024ed816e970"
      }
     },
     "metadata": {},
     "output_type": "display_data"
    }
   ],
   "source": [
    "bad = []\n",
    "for row in tqdmd(symbol_table.values(), key=lambda x: x['symbol']):\n",
    "\tif 'exchange' not in row:\n",
    "\t\tq = Stock(currency=row['currency'], \n",
    "\t\t\t\t  # primaryExchange=row['primaryExchange'], \n",
    "\t\t\t\t  symbol=row['symbol'])\n",
    "\t\tcts = [cd.contract for cd in ib.reqContractDetails(q) \n",
    "\t\t\t   if cd.contract.conId == row['conId'] \n",
    "\t\t\t   and cd.contract.primaryExchange == row['primaryExchange']]\n",
    "\t\tif len(cts):\n",
    "\t\t\tct = cts[0]\n",
    "\t\t\trow['exchange'] = ct.exchange\n",
    "\t\telse:\n",
    "\t\t\tbad.append(row)"
   ],
   "metadata": {
    "collapsed": false,
    "ExecuteTime": {
     "end_time": "2023-08-29T15:41:16.269220200Z",
     "start_time": "2023-08-29T15:41:15.022931500Z"
    }
   },
   "id": "ebae83609333cf66"
  },
  {
   "cell_type": "code",
   "execution_count": 31,
   "outputs": [
    {
     "data": {
      "text/plain": "(4, ['WIE', 'WKL', 'WLN', 'ZAL'])"
     },
     "execution_count": 31,
     "metadata": {},
     "output_type": "execute_result"
    }
   ],
   "source": [
    "len(bad), [b['symbol'] for b in bad]"
   ],
   "metadata": {
    "collapsed": false,
    "ExecuteTime": {
     "end_time": "2023-08-29T15:34:35.415964300Z",
     "start_time": "2023-08-29T15:34:35.303846500Z"
    }
   },
   "id": "2c4a2a8cc4792ce2"
  },
  {
   "cell_type": "code",
   "execution_count": null,
   "outputs": [],
   "source": [],
   "metadata": {
    "collapsed": false
   },
   "id": "d8f3b64dd5242dbc"
  },
  {
   "cell_type": "code",
   "execution_count": 47,
   "outputs": [
    {
     "data": {
      "text/plain": "WindowsPath('C:/Users/anwan/OneDrive/Khan/projects/stox/assets/yahoo2ibkr.yml')"
     },
     "execution_count": 47,
     "metadata": {},
     "output_type": "execute_result"
    }
   ],
   "source": [
    "# stox.save_symbol_table(symbol_table)"
   ],
   "metadata": {
    "collapsed": false,
    "ExecuteTime": {
     "end_time": "2023-08-29T15:41:22.413833100Z",
     "start_time": "2023-08-29T15:41:21.913450800Z"
    }
   },
   "id": "8e1f6639535e1528"
  },
  {
   "cell_type": "code",
   "execution_count": null,
   "outputs": [],
   "source": [],
   "metadata": {
    "collapsed": false
   },
   "id": "20cf41814e8bb74b"
  },
  {
   "cell_type": "code",
   "execution_count": null,
   "outputs": [],
   "source": [],
   "metadata": {
    "collapsed": false
   },
   "id": "78ce10c1a65fcfac"
  },
  {
   "cell_type": "code",
   "execution_count": null,
   "outputs": [],
   "source": [],
   "metadata": {
    "collapsed": false
   },
   "id": "f588de12645a47bc"
  },
  {
   "cell_type": "code",
   "execution_count": null,
   "id": "initial_id",
   "metadata": {
    "collapsed": true
   },
   "outputs": [],
   "source": []
  }
 ],
 "metadata": {
  "kernelspec": {
   "display_name": "Python 3",
   "language": "python",
   "name": "python3"
  },
  "language_info": {
   "codemirror_mode": {
    "name": "ipython",
    "version": 2
   },
   "file_extension": ".py",
   "mimetype": "text/x-python",
   "name": "python",
   "nbconvert_exporter": "python",
   "pygments_lexer": "ipython2",
   "version": "2.7.6"
  }
 },
 "nbformat": 4,
 "nbformat_minor": 5
}
