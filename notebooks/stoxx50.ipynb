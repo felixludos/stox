{
 "cells": [
  {
   "cell_type": "code",
   "execution_count": 1,
   "id": "initial_id",
   "metadata": {
    "collapsed": true,
    "ExecuteTime": {
     "end_time": "2023-10-14T12:27:11.576752600Z",
     "start_time": "2023-10-14T12:27:09.488871500Z"
    }
   },
   "outputs": [
    {
     "data": {
      "text/plain": "<IPython.core.display.HTML object>",
      "text/html": "<style>.container { width:98% !important; }</style>"
     },
     "metadata": {},
     "output_type": "display_data"
    }
   ],
   "source": [
    "from pathlib import Path\n",
    "import math, random\n",
    "from tqdm.notebook import tqdm\n",
    "from tabulate import tabulate\n",
    "from unidecode import unidecode\n",
    "from IPython.display import display, HTML\n",
    "display(HTML(\"<style>.container { width:98% !important; }</style>\"))\n",
    "import pandas as pd\n",
    "from omnibelt import save_yaml, load_json, save_json, load_csv, load_csv_rows, yaml_str\n",
    "import omnifig as fig\n",
    "from stox import misc\n",
    "from stox.general import load_symbol_table\n",
    "# from stox.ibkr import \n",
    "fig.initialize()"
   ]
  },
  {
   "cell_type": "code",
   "execution_count": 2,
   "outputs": [
    {
     "data": {
      "text/plain": "(454, 239)"
     },
     "execution_count": 2,
     "metadata": {},
     "output_type": "execute_result"
    }
   ],
   "source": [
    "symbols_table = load_symbol_table()\n",
    "eur = {yfsym: info for yfsym, info in symbols_table.items() if info['ibkr-contract']['currency'] == 'EUR'}\n",
    "for yfsym, info in symbols_table.items():\n",
    "\tinfo['yfsym'] = yfsym\n",
    "len(symbols_table), len(eur)"
   ],
   "metadata": {
    "collapsed": false,
    "ExecuteTime": {
     "end_time": "2023-10-14T12:27:12.669380700Z",
     "start_time": "2023-10-14T12:27:12.031850300Z"
    }
   },
   "id": "d04d93b937285114"
  },
  {
   "cell_type": "code",
   "execution_count": 3,
   "outputs": [
    {
     "data": {
      "text/plain": "True"
     },
     "execution_count": 3,
     "metadata": {},
     "output_type": "execute_result"
    }
   ],
   "source": [
    "path = Path('../assets/stoxx50.csv')\n",
    "path.exists()"
   ],
   "metadata": {
    "collapsed": false,
    "ExecuteTime": {
     "end_time": "2023-10-14T12:27:13.552442500Z",
     "start_time": "2023-10-14T12:27:13.532659200Z"
    }
   },
   "id": "2c236c013bb97bd"
  },
  {
   "cell_type": "code",
   "execution_count": 4,
   "outputs": [
    {
     "data": {
      "text/plain": "50"
     },
     "execution_count": 4,
     "metadata": {},
     "output_type": "execute_result"
    }
   ],
   "source": [
    "entries = list(load_csv_rows(path))\n",
    "len(entries)"
   ],
   "metadata": {
    "collapsed": false,
    "ExecuteTime": {
     "end_time": "2023-10-14T12:27:14.544777700Z",
     "start_time": "2023-10-14T12:27:14.501019900Z"
    }
   },
   "id": "a09e3046b4d2c3a9"
  },
  {
   "cell_type": "code",
   "execution_count": 5,
   "outputs": [
    {
     "data": {
      "text/plain": "726"
     },
     "execution_count": 5,
     "metadata": {},
     "output_type": "execute_result"
    }
   ],
   "source": [
    "options = {}\n",
    "options.update(symbols_table)\n",
    "options.update({s['ibkr-contract']['symbol']: s for s in symbols_table.values()})\n",
    "options.update({k.split('.')[0]: s for k, s in symbols_table.items()})\n",
    "len(options)"
   ],
   "metadata": {
    "collapsed": false,
    "ExecuteTime": {
     "end_time": "2023-10-14T12:27:15.874899800Z",
     "start_time": "2023-10-14T12:27:15.845121100Z"
    }
   },
   "id": "1110b70c275f7cef"
  },
  {
   "cell_type": "code",
   "execution_count": 6,
   "outputs": [
    {
     "data": {
      "text/plain": "0"
     },
     "execution_count": 6,
     "metadata": {},
     "output_type": "execute_result"
    }
   ],
   "source": [
    "missing = [e for e in entries if e['Symbol'] not in options]\n",
    "len(missing)"
   ],
   "metadata": {
    "collapsed": false,
    "ExecuteTime": {
     "end_time": "2023-10-14T12:27:17.548346900Z",
     "start_time": "2023-10-14T12:27:17.539464500Z"
    }
   },
   "id": "78ae17089855fa75"
  },
  {
   "cell_type": "code",
   "execution_count": 7,
   "outputs": [],
   "source": [
    "bad = []\n",
    "for e in entries:\n",
    "\tif e['Symbol'] not in options:\n",
    "\t\tbad.append(e)\n",
    "\t\tprint(e)\n",
    "\telse:\n",
    "\t\te['yfsym'] = options[e['Symbol']]['yfsym']\n",
    "# bad[0]['yfsym'] = 'INGA.AS'"
   ],
   "metadata": {
    "collapsed": false,
    "ExecuteTime": {
     "end_time": "2023-10-14T12:27:18.435422800Z",
     "start_time": "2023-10-14T12:27:18.419484800Z"
    }
   },
   "id": "3ea7479466e8aa53"
  },
  {
   "cell_type": "code",
   "execution_count": 8,
   "outputs": [
    {
     "data": {
      "text/plain": "99.98000000000002"
     },
     "execution_count": 8,
     "metadata": {},
     "output_type": "execute_result"
    }
   ],
   "source": [
    "sum(e['Weight'] for e in entries)"
   ],
   "metadata": {
    "collapsed": false,
    "ExecuteTime": {
     "end_time": "2023-10-14T12:27:19.597565300Z",
     "start_time": "2023-10-14T12:27:19.586969Z"
    }
   },
   "id": "f7de512f598edd2a"
  },
  {
   "cell_type": "code",
   "execution_count": 9,
   "outputs": [
    {
     "name": "stdout",
     "output_type": "stream",
     "text": [
      "{ABI.BR: 0.015300000000000001, AD.AS: 0.009300000000000001, ADS.DE: 0.0088, ADYEN.AS: 0.006500000000000001,\n",
      "  AI.PA: 0.0282, AIR.PA: 0.025099999999999997, ALV.DE: 0.0311, ASML.AS: 0.0748, BAS.DE: 0.0128,\n",
      "  BAYN.DE: 0.015, BBVA.MC: 0.0155, BMW.DE: 0.0098, BN.PA: 0.0111, BNP.PA: 0.0239,\n",
      "  CS.PA: 0.0181, DB1.DE: 0.0105, DG.PA: 0.0212, DHL.DE: 0.0127, DTE.DE: 0.0232, EL.PA: 0.017,\n",
      "  ENEL.MI: 0.0152, ENI.MI: 0.011899999999999999, FLTR.L: 0.009300000000000001, IBE.MC: 0.0207,\n",
      "  IFX.DE: 0.0138, INGA.AS: 0.015300000000000001, ISP.MI: 0.013300000000000001, ITX.MC: 0.013300000000000001,\n",
      "  KER.PA: 0.0104, MBG.DE: 0.0178, MC.PA: 0.061500000000000006, MUV2.DE: 0.0172, NDA-FI.HE: 0.0125,\n",
      "  NOKIA.HE: 0.0063, OR.PA: 0.0319, PRX.AS: 0.014499999999999999, RACE.MI: 0.011000000000000001,\n",
      "  RI.PA: 0.010700000000000001, RMS.PA: 0.0204, SAF.PA: 0.0192, SAN.PA: 0.0199, SAP.DE: 0.04190000000000001,\n",
      "  SGO.PA: 0.0098, SIE.DE: 0.0342, STLA: 0.013999999999999999, SU.PA: 0.0302, TTE.PA: 0.0536,\n",
      "  UCG.MI: 0.013600000000000001, VOW3.DE: 0.0076}\n"
     ]
    }
   ],
   "source": [
    "print(yaml_str({e['yfsym']: e['Weight']/100 for e in entries}))"
   ],
   "metadata": {
    "collapsed": false,
    "ExecuteTime": {
     "end_time": "2023-10-09T12:38:53.365178Z",
     "start_time": "2023-10-09T12:38:53.338947700Z"
    }
   },
   "id": "4256028068524254"
  },
  {
   "cell_type": "code",
   "execution_count": 11,
   "outputs": [],
   "source": [
    "# save_json({e['yfsym']: e['Weight'] for e in entries}, misc.assets_root() / 'stoxx50-oct10.json')"
   ],
   "metadata": {
    "collapsed": false,
    "ExecuteTime": {
     "end_time": "2023-10-14T12:30:20.830861200Z",
     "start_time": "2023-10-14T12:30:20.761202300Z"
    }
   },
   "id": "3eea07468c64c501"
  },
  {
   "cell_type": "code",
   "execution_count": null,
   "outputs": [],
   "source": [],
   "metadata": {
    "collapsed": false
   },
   "id": "9dd90547eaa63ad1"
  }
 ],
 "metadata": {
  "kernelspec": {
   "display_name": "Python 3",
   "language": "python",
   "name": "python3"
  },
  "language_info": {
   "codemirror_mode": {
    "name": "ipython",
    "version": 2
   },
   "file_extension": ".py",
   "mimetype": "text/x-python",
   "name": "python",
   "nbconvert_exporter": "python",
   "pygments_lexer": "ipython2",
   "version": "2.7.6"
  }
 },
 "nbformat": 4,
 "nbformat_minor": 5
}
