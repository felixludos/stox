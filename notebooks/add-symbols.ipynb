{
 "cells": [
  {
   "cell_type": "code",
   "execution_count": 1,
   "id": "initial_id",
   "metadata": {
    "collapsed": true,
    "ExecuteTime": {
     "end_time": "2023-08-29T15:21:12.377207Z",
     "start_time": "2023-08-29T15:21:10.357194Z"
    }
   },
   "outputs": [],
   "source": [
    "import random\n",
    "import stox\n",
    "from stox.imports import *\n",
    "from stox.api import IB_Extractor, describe_contract\n",
    "from stox import misc, yahoo\n",
    "from omnibelt import tqdmd_notebook as tqdmd\n",
    "from omnibelt import save_yaml\n",
    "from collections import Counter\n",
    "# from stox.alpha_vantage import AlphaVantageStocks"
   ]
  },
  {
   "cell_type": "markdown",
   "source": [
    "# USE the 'add-ibsym' script instead"
   ],
   "metadata": {
    "collapsed": false
   },
   "id": "b3166b1ff2b874d2"
  },
  {
   "cell_type": "code",
   "execution_count": 2,
   "outputs": [
    {
     "data": {
      "text/plain": "272"
     },
     "execution_count": 2,
     "metadata": {},
     "output_type": "execute_result"
    }
   ],
   "source": [
    "symbol_table = stox.load_symbol_table()\n",
    "len(symbol_table)"
   ],
   "metadata": {
    "collapsed": false,
    "ExecuteTime": {
     "end_time": "2023-08-29T15:21:12.655698400Z",
     "start_time": "2023-08-29T15:21:12.384227800Z"
    }
   },
   "id": "f76d42953d8f8316"
  },
  {
   "cell_type": "code",
   "execution_count": null,
   "outputs": [],
   "source": [
    "yfsym = 'STMPA.DE' \n",
    "\n",
    "tk = yf.Ticker(yfsym)\n",
    "yf_info = tk.info\n",
    "print(f'{yf_info[\"longName\"]} ')\n",
    "len(yf_info)"
   ],
   "metadata": {
    "collapsed": false,
    "ExecuteTime": {
     "start_time": "2023-08-29T14:31:18.306269400Z"
    }
   },
   "id": "89a25033974ae022"
  },
  {
   "cell_type": "code",
   "execution_count": 3,
   "outputs": [
    {
     "name": "stderr",
     "output_type": "stream",
     "text": [
      "ERROR:ib_insync.wrapper: Error 321, reqId 2147483647: Error validating request.-'cB' : cause - The API interface is currently in Read-Only mode.\n",
      "ERROR:ib_insync.wrapper: Error 321, reqId -1: Error validating request.-'b_' : cause - The API interface is currently in Read-Only mode.\n",
      "ERROR:ib_insync.ib: open orders request timed out\n",
      "ERROR:ib_insync.ib: completed orders request timed out\n"
     ]
    }
   ],
   "source": [
    "ibe = IB_Extractor(True,client_id=11)"
   ],
   "metadata": {
    "collapsed": false,
    "ExecuteTime": {
     "end_time": "2023-08-29T15:21:17.084196300Z",
     "start_time": "2023-08-29T15:21:12.991798500Z"
    }
   },
   "id": "2b275ff636d3e904"
  },
  {
   "cell_type": "code",
   "execution_count": 7,
   "outputs": [],
   "source": [
    "ibsym = '1COV'\n",
    "\n",
    "currency = ''\n",
    "currency = 'EUR'\n",
    "\n",
    "ib_query = ibsym\n",
    "ib_query = 'zalando'"
   ],
   "metadata": {
    "collapsed": false,
    "ExecuteTime": {
     "end_time": "2023-08-29T15:39:21.760622700Z",
     "start_time": "2023-08-29T15:39:21.648639300Z"
    }
   },
   "id": "575fc227efc0ab8e"
  },
  {
   "cell_type": "code",
   "execution_count": 8,
   "outputs": [
    {
     "name": "stdout",
     "output_type": "stream",
     "text": [
      "-  -------  ---  -------  ---------  ----------------------------\n",
      "5  ZAL.DUM  SEK  CORPACT  500998673  ZALANDO SE - DUMMY SHARES\n",
      "4  ZAL.V    SEK  VALUE    497881693  ZALANDO SE\n",
      "3  ZALN     MXN  MEXI     287304372  ZALANDO SE\n",
      "2  ZAL      CHF  EBS      172604484  ZALANDO SE\n",
      "1  ZAL      EUR  IBIS     168731675  ZALANDO SE\n",
      "0  ZLNDY    USD  PINK     193468277  ZALANDO SE - UNSPONSORED ADR\n",
      "-  -------  ---  -------  ---------  ----------------------------\n"
     ]
    }
   ],
   "source": [
    "search_results = [c for c in ibe.search(ib_query) if c.secType == 'STK']\n",
    "print(tabulate([(i, c.symbol, c.currency, c.primaryExchange, c.conId, c.description) \n",
    "\t\t\t\tfor i, c in reversed(list(enumerate(search_results)))]))\n",
    "# ibsym = ib_query.upper()"
   ],
   "metadata": {
    "collapsed": false,
    "ExecuteTime": {
     "end_time": "2023-08-29T15:39:22.660107500Z",
     "start_time": "2023-08-29T15:39:22.043524700Z"
    }
   },
   "id": "8b48aec5e15955d1"
  },
  {
   "cell_type": "code",
   "execution_count": null,
   "outputs": [],
   "source": [
    "cts = ibe.find_all_contracts(ibsym, currency=currency, secType='STK')\n",
    "print(tabulate([(i, c.symbol, c.currency, c.primaryExchange, c.conId, c.description) \n",
    "\t\t\t\tfor i, c in reversed(list(enumerate(cts)))]))"
   ],
   "metadata": {
    "collapsed": false
   },
   "id": "e1633c4809762d91"
  },
  {
   "cell_type": "code",
   "execution_count": null,
   "outputs": [],
   "source": [],
   "metadata": {
    "collapsed": false
   },
   "id": "9534fedf3c055a5f"
  },
  {
   "cell_type": "code",
   "execution_count": null,
   "outputs": [],
   "source": [
    "# ct = search_results[2]\n",
    "ct = cts[0]\n",
    "describe_contract(ibe, ct, name=False, industries=False, summary=False, price=False);"
   ],
   "metadata": {
    "collapsed": false
   },
   "id": "135b70453f3612c"
  },
  {
   "cell_type": "code",
   "execution_count": null,
   "outputs": [],
   "source": [
    "ibq = ibsym\n",
    "ibq = ct\n",
    "# ibq = search_results[2]\n",
    "snapshot = describe_contract(ibe, ibq, name=True, info=True, industries=False, summary=True)"
   ],
   "metadata": {
    "collapsed": false
   },
   "id": "c24bf860bca69577"
  },
  {
   "cell_type": "code",
   "execution_count": null,
   "outputs": [],
   "source": [
    "# yfsymbol = yfsym\n",
    "\n",
    "yfsymbol = 'NEXI.MI'"
   ],
   "metadata": {
    "collapsed": false
   },
   "id": "2dfc3b3d45c1bbf1"
  },
  {
   "cell_type": "code",
   "execution_count": null,
   "outputs": [],
   "source": [
    "stox.add_symbol_row(symbol_table, yfsymbol, ct)"
   ],
   "metadata": {
    "collapsed": false
   },
   "id": "3867ad9c7ad823ab"
  },
  {
   "cell_type": "code",
   "execution_count": null,
   "outputs": [],
   "source": [],
   "metadata": {
    "collapsed": false
   },
   "id": "801f68ec7e09c421"
  },
  {
   "cell_type": "code",
   "execution_count": null,
   "outputs": [],
   "source": [
    "# stox.save_symbol_table(symbol_table)"
   ],
   "metadata": {
    "collapsed": false
   },
   "id": "5cd232aaef6e4963"
  },
  {
   "cell_type": "code",
   "execution_count": null,
   "outputs": [],
   "source": [],
   "metadata": {
    "collapsed": false
   },
   "id": "facffab57d602d4a"
  },
  {
   "cell_type": "code",
   "execution_count": null,
   "outputs": [],
   "source": [],
   "metadata": {
    "collapsed": false
   },
   "id": "a3c91e873d71a6bc"
  },
  {
   "cell_type": "code",
   "execution_count": null,
   "outputs": [],
   "source": [
    "contracts = {}"
   ],
   "metadata": {
    "collapsed": false
   },
   "id": "6f49ecf82757ea7e"
  },
  {
   "cell_type": "code",
   "execution_count": null,
   "outputs": [],
   "source": [
    "root = misc.assets_root()\n",
    "path = root / 'yahoo2ibkr.yml'\n",
    "data = load_export(path)\n",
    "len(data)"
   ],
   "metadata": {
    "collapsed": false
   },
   "id": "4491a6805987bda7"
  },
  {
   "cell_type": "code",
   "execution_count": null,
   "outputs": [],
   "source": [
    "reformat = {}\n",
    "\n",
    "for row in data:\n",
    "\tyfsym = row['yahoo']\n",
    "\tdel row['yahoo']\n",
    "\treformat[yfsym] = row\n",
    "\t# reformat.append( [yfsym, row] )\n",
    "\n",
    "# save_yaml(reformat, root / 'yahoo2ibkr.yml')"
   ],
   "metadata": {
    "collapsed": false
   },
   "id": "ea6ba64de0cf7cf2"
  },
  {
   "cell_type": "code",
   "execution_count": null,
   "outputs": [],
   "source": [
    "len(reformat)"
   ],
   "metadata": {
    "collapsed": false
   },
   "id": "18aa3ee69590a9b8"
  },
  {
   "cell_type": "code",
   "execution_count": null,
   "outputs": [],
   "source": [],
   "metadata": {
    "collapsed": false
   },
   "id": "4c65f277edb9d9b6"
  },
  {
   "cell_type": "code",
   "execution_count": null,
   "outputs": [],
   "source": [
    "ibe = IB_Extractor(True)"
   ],
   "metadata": {
    "collapsed": false
   },
   "id": "567f963bf2e4a45a"
  },
  {
   "cell_type": "code",
   "execution_count": null,
   "outputs": [],
   "source": [
    "bad = []\n",
    "for row in tqdmd(data,key=lambda x: x['ibkr']):\n",
    "\tif row['ibkr'] not in contracts:\n",
    "\t\tcontracts[row['ibkr']] = ibe.find_all_contracts(row['ibkr'], currency=row['currency'])\n",
    "\tcts = contracts[row['ibkr']]\n",
    "\tif len(cts) == 0 or len(set(c.conId for c in cts)) > 1:\n",
    "\t\tbad.append((row, cts))\n",
    "\t\tcontinue\n",
    "\trow['ibkr-ID'] = cts[0].conId\n",
    "\trow['ibkr-exchange'] = cts[0].primaryExchange\n",
    "len(bad)"
   ],
   "metadata": {
    "collapsed": false
   },
   "id": "3633b975a28445d8"
  },
  {
   "cell_type": "code",
   "execution_count": null,
   "outputs": [],
   "source": [
    "# save_yaml(data, path);"
   ],
   "metadata": {
    "collapsed": false
   },
   "id": "3dfcdb10851723df"
  },
  {
   "cell_type": "code",
   "execution_count": null,
   "outputs": [],
   "source": [
    "print(tabulate([[row['ibkr'], row['yahoo'], len(cts)] for row, cts in bad], headers=['IBKR', 'Yahoo', 'Num']))"
   ],
   "metadata": {
    "collapsed": false
   },
   "id": "325a838b28889130"
  },
  {
   "cell_type": "code",
   "execution_count": null,
   "outputs": [],
   "source": [
    "bad = [row for row in data if 'ibkr-ID' not in row]\n",
    "bad"
   ],
   "metadata": {
    "collapsed": false
   },
   "id": "561f4c359023cd7a"
  },
  {
   "cell_type": "code",
   "execution_count": null,
   "outputs": [],
   "source": [
    "row = bad[1]\n",
    "row"
   ],
   "metadata": {
    "collapsed": false
   },
   "id": "3453fd041c69a284"
  },
  {
   "cell_type": "code",
   "execution_count": null,
   "outputs": [],
   "source": [
    "cts = ibe.find_all_contracts(row['ibkr'], currency=row['currency'], secType='STK')\n",
    "len(cts)"
   ],
   "metadata": {
    "collapsed": false
   },
   "id": "2cba519b004025aa"
  },
  {
   "cell_type": "code",
   "execution_count": null,
   "outputs": [],
   "source": [
    "cts[0]"
   ],
   "metadata": {
    "collapsed": false
   },
   "id": "62b5013e2bfa4ef9"
  },
  {
   "cell_type": "code",
   "execution_count": null,
   "outputs": [],
   "source": [
    "row['ibkr-ID'] = cts[0].conId\n",
    "row['ibkr-exchange'] = cts[0].primaryExchange"
   ],
   "metadata": {
    "collapsed": false
   },
   "id": "794d1246ef598b0d"
  },
  {
   "cell_type": "code",
   "execution_count": 6,
   "outputs": [
    {
     "name": "stderr",
     "output_type": "stream",
     "text": [
      "ERROR:ib_insync.wrapper: Error 10159, reqId 7: Failed to request matching symbols:Error sending message to a CCP.\n"
     ]
    },
    {
     "name": "stdout",
     "output_type": "stream",
     "text": []
    }
   ],
   "source": [
    "tkquery = 'WIE'\n",
    "out = ibe.search(tkquery)\n",
    "options = [c for c in out if c.secType == 'STK']\n",
    "print(tabulate([(c.symbol, c.currency, c.description) for c in reversed(options)]))"
   ],
   "metadata": {
    "collapsed": false,
    "ExecuteTime": {
     "end_time": "2023-08-29T15:35:18.046654400Z",
     "start_time": "2023-08-29T15:35:17.875791300Z"
    }
   },
   "id": "ba4eef30348f450e"
  },
  {
   "cell_type": "code",
   "execution_count": null,
   "outputs": [],
   "source": [
    "ibtk = tkquery.upper()\n",
    "info = xmltodict.parse(ibe.snapshot(ibtk))\n",
    "# company_name = info['ReportSnapshot']['CoIDs']['CoID'][1]['#text']\n",
    "industries = [e['#text'] for e in info['ReportSnapshot']['peerInfo']['IndustryInfo']['Industry']]\n",
    "print('\\n'.join(industries))\n",
    "print()\n",
    "summary = info['ReportSnapshot']['TextInfo']['Text'][0]['#text']\n",
    "print(summary)"
   ],
   "metadata": {
    "collapsed": false
   },
   "id": "926322ec462d8def"
  },
  {
   "cell_type": "code",
   "execution_count": null,
   "outputs": [],
   "source": [],
   "metadata": {
    "collapsed": false
   },
   "id": "f69ee701c8329945"
  },
  {
   "cell_type": "code",
   "execution_count": null,
   "outputs": [],
   "source": [],
   "metadata": {
    "collapsed": false
   },
   "id": "996d5a304f8fee23"
  },
  {
   "cell_type": "code",
   "execution_count": null,
   "outputs": [],
   "source": [
    "ibe.ib.disconnect()"
   ],
   "metadata": {
    "collapsed": false
   },
   "id": "418d1aba905a8b03"
  },
  {
   "cell_type": "code",
   "execution_count": null,
   "outputs": [],
   "source": [],
   "metadata": {
    "collapsed": false
   },
   "id": "5b9c2a463b11f17e"
  },
  {
   "cell_type": "code",
   "execution_count": null,
   "outputs": [],
   "source": [],
   "metadata": {
    "collapsed": false
   },
   "id": "5ecf5809e2dd72a9"
  }
 ],
 "metadata": {
  "kernelspec": {
   "display_name": "Python 3",
   "language": "python",
   "name": "python3"
  },
  "language_info": {
   "codemirror_mode": {
    "name": "ipython",
    "version": 2
   },
   "file_extension": ".py",
   "mimetype": "text/x-python",
   "name": "python",
   "nbconvert_exporter": "python",
   "pygments_lexer": "ipython2",
   "version": "2.7.6"
  }
 },
 "nbformat": 4,
 "nbformat_minor": 5
}
