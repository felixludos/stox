{
 "cells": [
  {
   "cell_type": "code",
   "execution_count": 1,
   "outputs": [],
   "source": [
    "from ib_insync import *\n",
    "from bs4 import BeautifulSoup\n",
    "import yfinance as yf\n",
    "import xmltodict\n",
    "util.startLoop()"
   ],
   "metadata": {
    "collapsed": false,
    "ExecuteTime": {
     "end_time": "2023-08-27T11:19:01.956167200Z",
     "start_time": "2023-08-27T11:19:00.210328100Z"
    }
   },
   "id": "c086d263b0cf7297"
  },
  {
   "cell_type": "code",
   "execution_count": 29,
   "outputs": [
    {
     "name": "stderr",
     "output_type": "stream",
     "text": [
      "Error 321, reqId 2147483647: Error validating request.-'cB' : cause - The API interface is currently in Read-Only mode.\n",
      "Error 321, reqId -1: Error validating request.-'b_' : cause - The API interface is currently in Read-Only mode.\n",
      "open orders request timed out\n",
      "completed orders request timed out\n"
     ]
    }
   ],
   "source": [
    "ib = IB()\n",
    "ib.connect('127.0.0.1', 4001, clientId=1);"
   ],
   "metadata": {
    "collapsed": false,
    "ExecuteTime": {
     "end_time": "2023-08-27T11:27:17.248436800Z",
     "start_time": "2023-08-27T11:27:13.225619400Z"
    }
   },
   "id": "40816bf0d636754f"
  },
  {
   "cell_type": "code",
   "execution_count": 33,
   "outputs": [
    {
     "data": {
      "text/plain": "True"
     },
     "execution_count": 33,
     "metadata": {},
     "output_type": "execute_result"
    }
   ],
   "source": [
    "ib.isConnected()"
   ],
   "metadata": {
    "collapsed": false,
    "ExecuteTime": {
     "end_time": "2023-08-27T11:29:59.497275600Z",
     "start_time": "2023-08-27T11:29:59.389643200Z"
    }
   },
   "id": "e65b2421a2cb6ee9"
  },
  {
   "cell_type": "code",
   "execution_count": 31,
   "outputs": [
    {
     "data": {
      "text/plain": "str"
     },
     "execution_count": 31,
     "metadata": {},
     "output_type": "execute_result"
    }
   ],
   "source": [
    "tk = Stock('AAPL', 'SMART', 'USD')\n",
    "out = ib.reqFundamentalData(tk, 'ReportsFinStatements')\n",
    "data_dict = xmltodict.parse(out)\n",
    "type(out)"
   ],
   "metadata": {
    "collapsed": false,
    "ExecuteTime": {
     "end_time": "2023-08-27T11:27:20.020335200Z",
     "start_time": "2023-08-27T11:27:19.689123300Z"
    }
   },
   "id": "935a8eeeadafb9c1"
  },
  {
   "cell_type": "code",
   "execution_count": 32,
   "outputs": [],
   "source": [
    "company_name = \"Apple\"  # Replace with the desired company name\n",
    "\n",
    "# Create a contract with the company name\n",
    "contract = Contract()\n",
    "contract.symbol = company_name\n",
    "contract.secType = \"STK\"\n",
    "contract.currency = \"USD\""
   ],
   "metadata": {
    "collapsed": false,
    "ExecuteTime": {
     "end_time": "2023-08-27T11:27:25.550001700Z",
     "start_time": "2023-08-27T11:27:25.530143300Z"
    }
   },
   "id": "2f98f115f01aa118"
  },
  {
   "cell_type": "code",
   "execution_count": 34,
   "outputs": [],
   "source": [
    "\n",
    "# Search for matching contracts\n",
    "# contracts = ib.reqMatchingSymbols(contract)\n",
    "contracts = ib.reqMatchingSymbols('Apple')\n",
    "\n"
   ],
   "metadata": {
    "collapsed": false,
    "ExecuteTime": {
     "end_time": "2023-08-27T11:30:01.473393800Z",
     "start_time": "2023-08-27T11:30:01.131229700Z"
    }
   },
   "id": "26a939a184d7b820"
  },
  {
   "cell_type": "code",
   "execution_count": 35,
   "outputs": [
    {
     "name": "stdout",
     "output_type": "stream",
     "text": [
      "APPLE INC -> AAPL\n",
      "APPLE HOSPITALITY REIT INC -> APLE\n",
      "APPLEGREEN PLC -> APGN1\n",
      "APPLE INTERNATIONAL CO LTD -> 2788\n",
      "APPLE YLD SHARES PURPOSE -> APLY\n",
      "LEVERAGE SHARES 2X APPLE -> AAP2\n",
      "LEVERAGE SHARES 2X APPLE -> AAPE\n",
      "LEVERAGE SHARES 2X APPLE -> 2AAP\n",
      "LEVERAGE SHARES 3X APPLE -> AAP3\n",
      "LEVERAGE SHARES 3X APPLE -> 3APE\n",
      "LEVERAGE SHARES 3X APPLE -> 3AAP\n",
      "GRANITESHARES 3X SHORT APPLE -> 3SAP\n",
      "GRANITESHARES 3X SHORT APPLE -> 3SAE\n",
      "GRANITESHARES 3X SHORT APPLE -> 3SWP\n",
      "GRANITESHARES 3X LONG APPLE -> 3LAP\n",
      "Apple Inc -> \n",
      "Apple Bank for Savings -> \n",
      "Apple Financial Holdings Inc -> \n",
      "Appleton Papers Inc -> \n",
      "Farmers & Merchants State Bank of Appleton -> \n",
      "Appletree Securities DAC -> \n"
     ]
    }
   ],
   "source": [
    "\n",
    "# Print the matches\n",
    "for c in contracts:\n",
    "    print(c.contract.description, \"->\", c.contract.symbol)"
   ],
   "metadata": {
    "collapsed": false,
    "ExecuteTime": {
     "end_time": "2023-08-27T11:30:03.688203200Z",
     "start_time": "2023-08-27T11:30:03.660112900Z"
    }
   },
   "id": "495e99042bd62e73"
  },
  {
   "cell_type": "code",
   "execution_count": 37,
   "outputs": [
    {
     "data": {
      "text/plain": "yfinance.Ticker object <AAPL>"
     },
     "execution_count": 37,
     "metadata": {},
     "output_type": "execute_result"
    }
   ],
   "source": [
    "tk = yf.Ticker('AAPL')\n",
    "tk"
   ],
   "metadata": {
    "collapsed": false,
    "ExecuteTime": {
     "end_time": "2023-08-27T12:03:12.712177600Z",
     "start_time": "2023-08-27T12:03:12.641128Z"
    }
   },
   "id": "cfb30086099cbe78"
  },
  {
   "cell_type": "code",
   "execution_count": 39,
   "outputs": [
    {
     "data": {
      "text/plain": "{'address1': 'One Apple Park Way',\n 'city': 'Cupertino',\n 'state': 'CA',\n 'zip': '95014',\n 'country': 'United States',\n 'phone': '408 996 1010',\n 'website': 'https://www.apple.com',\n 'industry': 'Consumer Electronics',\n 'industryDisp': 'Consumer Electronics',\n 'sector': 'Technology',\n 'sectorDisp': 'Technology',\n 'longBusinessSummary': 'Apple Inc. designs, manufactures, and markets smartphones, personal computers, tablets, wearables, and accessories worldwide. The company offers iPhone, a line of smartphones; Mac, a line of personal computers; iPad, a line of multi-purpose tablets; and wearables, home, and accessories comprising AirPods, Apple TV, Apple Watch, Beats products, and HomePod. It also provides AppleCare support and cloud services; and operates various platforms, including the App Store that allow customers to discover and download applications and digital content, such as books, music, video, games, and podcasts. In addition, the company offers various services, such as Apple Arcade, a game subscription service; Apple Fitness+, a personalized fitness service; Apple Music, which offers users a curated listening experience with on-demand radio stations; Apple News+, a subscription news and magazine service; Apple TV+, which offers exclusive original content; Apple Card, a co-branded credit card; and Apple Pay, a cashless payment service, as well as licenses its intellectual property. The company serves consumers, and small and mid-sized businesses; and the education, enterprise, and government markets. It distributes third-party applications for its products through the App Store. The company also sells its products through its retail and online stores, and direct sales force; and third-party cellular network carriers, wholesalers, retailers, and resellers. Apple Inc. was incorporated in 1977 and is headquartered in Cupertino, California.',\n 'fullTimeEmployees': 164000,\n 'companyOfficers': [{'maxAge': 1,\n   'name': 'Mr. Timothy D. Cook',\n   'age': 61,\n   'title': 'CEO & Director',\n   'yearBorn': 1961,\n   'fiscalYear': 2022,\n   'totalPay': 16425933,\n   'exercisedValue': 0,\n   'unexercisedValue': 0},\n  {'maxAge': 1,\n   'name': 'Mr. Luca  Maestri',\n   'age': 59,\n   'title': 'CFO & Sr. VP',\n   'yearBorn': 1963,\n   'fiscalYear': 2022,\n   'totalPay': 5019783,\n   'exercisedValue': 0,\n   'unexercisedValue': 0},\n  {'maxAge': 1,\n   'name': 'Mr. Jeffrey E. Williams',\n   'age': 58,\n   'title': 'Chief Operating Officer',\n   'yearBorn': 1964,\n   'fiscalYear': 2022,\n   'totalPay': 5018337,\n   'exercisedValue': 0,\n   'unexercisedValue': 0},\n  {'maxAge': 1,\n   'name': 'Ms. Katherine L. Adams',\n   'age': 58,\n   'title': 'Sr. VP, Gen. Counsel & Sec.',\n   'yearBorn': 1964,\n   'fiscalYear': 2022,\n   'totalPay': 5015208,\n   'exercisedValue': 0,\n   'unexercisedValue': 0},\n  {'maxAge': 1,\n   'name': \"Ms. Deirdre  O'Brien\",\n   'age': 55,\n   'title': 'Sr. VP of Retail',\n   'yearBorn': 1967,\n   'fiscalYear': 2022,\n   'totalPay': 5019783,\n   'exercisedValue': 0,\n   'unexercisedValue': 0},\n  {'maxAge': 1,\n   'name': 'Mr. Chris  Kondo',\n   'title': 'Sr. Director of Corp. Accounting',\n   'exercisedValue': 0,\n   'unexercisedValue': 0},\n  {'maxAge': 1,\n   'name': 'Mr. James  Wilson',\n   'title': 'Chief Technology Officer',\n   'exercisedValue': 0,\n   'unexercisedValue': 0},\n  {'maxAge': 1,\n   'name': 'Ms. Mary  Demby',\n   'title': 'Chief Information Officer',\n   'exercisedValue': 0,\n   'unexercisedValue': 0},\n  {'maxAge': 1,\n   'name': 'Ms. Nancy  Paxton',\n   'title': 'Sr. Director of Investor Relations & Treasury',\n   'exercisedValue': 0,\n   'unexercisedValue': 0},\n  {'maxAge': 1,\n   'name': 'Mr. Greg  Joswiak',\n   'title': 'Sr. VP of Worldwide Marketing',\n   'exercisedValue': 0,\n   'unexercisedValue': 0}],\n 'auditRisk': 4,\n 'boardRisk': 1,\n 'compensationRisk': 5,\n 'shareHolderRightsRisk': 1,\n 'overallRisk': 1,\n 'governanceEpochDate': 1690848000,\n 'compensationAsOfEpochDate': 1672444800,\n 'maxAge': 86400,\n 'priceHint': 2,\n 'previousClose': 176.38,\n 'open': 177.38,\n 'dayLow': 175.8201,\n 'dayHigh': 179.1496,\n 'regularMarketPreviousClose': 176.38,\n 'regularMarketOpen': 177.38,\n 'regularMarketDayLow': 175.8201,\n 'regularMarketDayHigh': 179.1496,\n 'dividendRate': 0.96,\n 'dividendYield': 0.0054,\n 'exDividendDate': 1683849600,\n 'payoutRatio': 0.156,\n 'fiveYearAvgDividendYield': 0.87,\n 'beta': 1.286802,\n 'trailingPE': 29.917925,\n 'forwardPE': 29.18464,\n 'volume': 45650607,\n 'regularMarketVolume': 45650607,\n 'averageVolume': 57302140,\n 'averageVolume10days': 50892360,\n 'averageDailyVolume10Day': 50892360,\n 'bid': 178.53,\n 'ask': 178.48,\n 'bidSize': 1300,\n 'askSize': 800,\n 'marketCap': 2792424472576,\n 'fiftyTwoWeekLow': 124.17,\n 'fiftyTwoWeekHigh': 198.23,\n 'priceToSalesTrailing12Months': 7.273208,\n 'fiftyDayAverage': 186.661,\n 'twoHundredDayAverage': 162.3564,\n 'trailingAnnualDividendRate': 0.93,\n 'trailingAnnualDividendYield': 0.0052727065,\n 'currency': 'USD',\n 'enterpriseValue': 2839228186624,\n 'profitMargins': 0.24681,\n 'floatShares': 15616878002,\n 'sharesOutstanding': 15634199552,\n 'sharesShort': 88852352,\n 'sharesShortPriorMonth': 126626604,\n 'sharesShortPreviousMonthDate': 1689292800,\n 'dateShortInterest': 1692057600,\n 'sharesPercentSharesOut': 0.0057,\n 'heldPercentInsiders': 0.00071999995,\n 'heldPercentInstitutions': 0.61317,\n 'shortRatio': 1.55,\n 'shortPercentOfFloat': 0.0057,\n 'impliedSharesOutstanding': 15634199552,\n 'bookValue': 3.852,\n 'priceToBook': 46.368122,\n 'lastFiscalYearEnd': 1663977600,\n 'nextFiscalYearEnd': 1695513600,\n 'mostRecentQuarter': 1688169600,\n 'earningsQuarterlyGrowth': 0.023,\n 'netIncomeToCommon': 94760001536,\n 'trailingEps': 5.97,\n 'forwardEps': 6.12,\n 'pegRatio': 5.33,\n 'lastSplitFactor': '4:1',\n 'lastSplitDate': 1598832000,\n 'enterpriseToRevenue': 7.395,\n 'enterpriseToEbitda': 22.905,\n '52WeekChange': 0.10676658,\n 'SandP52WeekChange': 0.09306288,\n 'lastDividendValue': 0.24,\n 'lastDividendDate': 1691712000,\n 'exchange': 'NMS',\n 'quoteType': 'EQUITY',\n 'symbol': 'AAPL',\n 'underlyingSymbol': 'AAPL',\n 'shortName': 'Apple Inc.',\n 'longName': 'Apple Inc.',\n 'firstTradeDateEpochUtc': 345479400,\n 'timeZoneFullName': 'America/New_York',\n 'timeZoneShortName': 'EDT',\n 'uuid': '8b10e4ae-9eeb-3684-921a-9ab27e4d87aa',\n 'messageBoardId': 'finmb_24937',\n 'gmtOffSetMilliseconds': -14400000,\n 'currentPrice': 178.61,\n 'targetHighPrice': 222.24,\n 'targetLowPrice': 137.97,\n 'targetMeanPrice': 185.83,\n 'targetMedianPrice': 185.2,\n 'recommendationMean': 2.0,\n 'recommendationKey': 'buy',\n 'numberOfAnalystOpinions': 40,\n 'totalCash': 62482001920,\n 'totalCashPerShare': 3.996,\n 'ebitda': 123957002240,\n 'totalDebt': 109280002048,\n 'quickRatio': 0.814,\n 'currentRatio': 0.982,\n 'totalRevenue': 383932989440,\n 'debtToEquity': 181.305,\n 'revenuePerShare': 24.22,\n 'returnOnAssets': 0.20896,\n 'returnOnEquity': 1.60093,\n 'grossProfits': 170782000000,\n 'freeCashflow': 90680500224,\n 'operatingCashflow': 113071996928,\n 'earningsGrowth': 0.05,\n 'revenueGrowth': -0.014,\n 'grossMargins': 0.43449003,\n 'ebitdaMargins': 0.32286,\n 'operatingMargins': 0.29231,\n 'financialCurrency': 'USD',\n 'trailingPegRatio': 2.275}"
     },
     "execution_count": 39,
     "metadata": {},
     "output_type": "execute_result"
    }
   ],
   "source": [
    "out = tk.info\n",
    "out"
   ],
   "metadata": {
    "collapsed": false,
    "ExecuteTime": {
     "end_time": "2023-08-27T12:04:06.663334600Z",
     "start_time": "2023-08-27T12:04:04.466977400Z"
    }
   },
   "id": "8fe3610c7bf4b0bc"
  },
  {
   "cell_type": "code",
   "execution_count": null,
   "outputs": [],
   "source": [],
   "metadata": {
    "collapsed": false
   },
   "id": "e0169eb5a76a2485"
  },
  {
   "cell_type": "code",
   "execution_count": null,
   "outputs": [],
   "source": [],
   "metadata": {
    "collapsed": false
   },
   "id": "182cb01ef2db6aa4"
  },
  {
   "cell_type": "code",
   "execution_count": null,
   "outputs": [],
   "source": [
    "ib.disconnect()"
   ],
   "metadata": {
    "collapsed": false
   },
   "id": "295f4fa4c232094f"
  },
  {
   "cell_type": "code",
   "execution_count": 10,
   "outputs": [],
   "source": [
    "pos = ib.positions()\n",
    "len(pos)"
   ],
   "metadata": {
    "collapsed": false,
    "ExecuteTime": {
     "end_time": "2023-08-25T12:47:52.821091300Z",
     "start_time": "2023-08-25T12:47:52.785505200Z"
    }
   },
   "id": "e35f8777a7e3eb00"
  },
  {
   "cell_type": "code",
   "execution_count": 19,
   "outputs": [],
   "source": [
    "tk = Stock('AAPL', 'SMART', 'USD')"
   ],
   "metadata": {
    "collapsed": false,
    "ExecuteTime": {
     "end_time": "2023-08-25T12:56:28.511510200Z",
     "start_time": "2023-08-25T12:56:27.027929800Z"
    }
   },
   "id": "de8d79a0b4f13efd"
  },
  {
   "cell_type": "code",
   "execution_count": 20,
   "outputs": [
    {
     "data": {
      "text/plain": "19"
     },
     "execution_count": 20,
     "metadata": {},
     "output_type": "execute_result"
    }
   ],
   "source": [
    "out = ib.reqFundamentalData(tk, 'ReportsFinStatements')\n",
    "data_dict = xmltodict.parse(out)\n",
    "type(out)"
   ],
   "metadata": {
    "collapsed": false,
    "ExecuteTime": {
     "end_time": "2023-08-25T12:56:28.543496200Z",
     "start_time": "2023-08-25T12:56:28.514519200Z"
    }
   },
   "id": "95aebe13ed7aa6a3"
  },
  {
   "cell_type": "code",
   "execution_count": null,
   "outputs": [],
   "source": [
    "# soup = BeautifulSoup(out, 'lxml')\n",
    "# print(soup.prettify())"
   ],
   "metadata": {
    "collapsed": false
   },
   "id": "f25554afbc5f548e"
  },
  {
   "cell_type": "code",
   "execution_count": 19,
   "outputs": [
    {
     "name": "stderr",
     "output_type": "stream",
     "text": [
      "Error 10276, reqId 10: News feed is not allowed.\n"
     ]
    },
    {
     "name": "stdout",
     "output_type": "stream",
     "text": []
    }
   ],
   "source": [
    "meta = ib.getWshMetaData()\n",
    "print(meta)\n"
   ],
   "metadata": {
    "collapsed": false,
    "ExecuteTime": {
     "end_time": "2023-08-23T22:51:57.262494900Z",
     "start_time": "2023-08-23T22:51:57.226515100Z"
    }
   },
   "id": "3b2d7a106df56bbb"
  },
  {
   "cell_type": "code",
   "execution_count": 20,
   "outputs": [
    {
     "name": "stdout",
     "output_type": "stream",
     "text": [
      "[NewsProvider(code='BRFG', name='Briefing.com General Market Columns'), NewsProvider(code='BRFUPDN', name='Briefing.com Analyst Actions'), NewsProvider(code='DJNL', name='Dow Jones Newsletters')]\n"
     ]
    }
   ],
   "source": [
    "newsProviders = ib.reqNewsProviders()\n",
    "print(newsProviders)\n",
    "codes = '+'.join(np.code for np in newsProviders)"
   ],
   "metadata": {
    "collapsed": false,
    "ExecuteTime": {
     "end_time": "2023-08-23T23:09:34.962997Z",
     "start_time": "2023-08-23T23:09:34.925478100Z"
    }
   },
   "id": "2d70822be64d46ac"
  },
  {
   "cell_type": "code",
   "execution_count": 21,
   "outputs": [
    {
     "name": "stdout",
     "output_type": "stream",
     "text": [
      "HistoricalNews(time=datetime.datetime(2023, 8, 2, 15, 10, 14), providerCode='BRFUPDN', articleId='BRFUPDN$1509cd81', headline='{A:800015:L:en:K:n/a:C:0.9002453684806824}!JP Morgan reiterated Advanced Micro (AMD) coverage with Neutral and target $130')\n",
      "NewsArticle(articleType=0, articleText='JP Morgan reiterated Advanced Micro (AMD) coverage with Neutral rating and price target $130&#10;Previous price target: $92&#10;Issuance Date: 2023-08-02&#10;&#10;Copyright 2023 Briefing.com, Inc.')\n"
     ]
    }
   ],
   "source": [
    "\n",
    "amd = Stock('AMD', 'SMART', 'USD')\n",
    "ib.qualifyContracts(amd)\n",
    "headlines = ib.reqHistoricalNews(amd.conId, codes, '', '', 10)\n",
    "latest = headlines[0]\n",
    "print(latest)\n",
    "article = ib.reqNewsArticle(latest.providerCode, latest.articleId)\n",
    "print(article)"
   ],
   "metadata": {
    "collapsed": false,
    "ExecuteTime": {
     "end_time": "2023-08-23T23:10:26.316971400Z",
     "start_time": "2023-08-23T23:10:24.686817Z"
    }
   },
   "id": "3f02ae19e570c0fd"
  },
  {
   "cell_type": "code",
   "execution_count": 23,
   "outputs": [
    {
     "data": {
      "text/plain": "list"
     },
     "execution_count": 23,
     "metadata": {},
     "output_type": "execute_result"
    }
   ],
   "source": [
    "ib.reqNewsBulletins(True)\n",
    "ib.sleep(5)\n",
    "news = ib.newsBulletins()\n",
    "type(news)"
   ],
   "metadata": {
    "collapsed": false,
    "ExecuteTime": {
     "end_time": "2023-08-23T23:12:34.153600700Z",
     "start_time": "2023-08-23T23:12:29.135633Z"
    }
   },
   "id": "b7d447a9758da718"
  },
  {
   "cell_type": "code",
   "execution_count": 25,
   "outputs": [
    {
     "name": "stderr",
     "output_type": "stream",
     "text": [
      "Error 200, reqId 15: The contract description specified for IBM is ambiguous., contract: Stock(symbol='IBM', exchange='SMART', currency='USD')\n"
     ]
    },
    {
     "name": "stdout",
     "output_type": "stream",
     "text": [
      "None\n"
     ]
    }
   ],
   "source": [
    "contract = Stock('IBM', 'SMART', 'USD')\n",
    "ticker = ib.reqMktData(contract, '258')\n",
    "ib.sleep(2)\n",
    "print(ticker.fundamentalRatios)"
   ],
   "metadata": {
    "collapsed": false,
    "ExecuteTime": {
     "end_time": "2023-08-23T23:16:07.820340900Z",
     "start_time": "2023-08-23T23:16:05.779104100Z"
    }
   },
   "id": "518b359fa6e23d5b"
  },
  {
   "cell_type": "code",
   "execution_count": 26,
   "outputs": [
    {
     "name": "stderr",
     "output_type": "stream",
     "text": [
      "Error 10089, reqId 16: Requested market data requires additional subscription for API. See link in 'Market Data Connections' dialog for more details.Delayed market data is available.AAPL NASDAQ.NMS/TOP/ALL, contract: Stock(symbol='AAPL', exchange='SMART', currency='USD')\n"
     ]
    },
    {
     "data": {
      "text/plain": "True"
     },
     "execution_count": 26,
     "metadata": {},
     "output_type": "execute_result"
    }
   ],
   "source": [
    "# Specify the stock of interest\n",
    "contract = Stock('AAPL', 'SMART', 'USD')\n",
    "\n",
    "# Request market data\n",
    "ticker = ib.reqMktData(contract, '456')\n",
    "\n",
    "# Give it a little time to receive the data (in real implementations, you'd likely want to handle this in a non-blocking way)\n",
    "ib.sleep(5)\n"
   ],
   "metadata": {
    "collapsed": false,
    "ExecuteTime": {
     "end_time": "2023-08-23T23:25:08.858146100Z",
     "start_time": "2023-08-23T23:25:03.829139300Z"
    }
   },
   "id": "f81a306f6dabf46c"
  },
  {
   "cell_type": "code",
   "execution_count": 27,
   "outputs": [
    {
     "name": "stdout",
     "output_type": "stream",
     "text": [
      "Dividends:\n",
      "Date\n",
      "1987-05-11 00:00:00-04:00    0.000536\n",
      "1987-08-10 00:00:00-04:00    0.000536\n",
      "1987-11-17 00:00:00-05:00    0.000714\n",
      "1988-02-12 00:00:00-05:00    0.000714\n",
      "1988-05-16 00:00:00-04:00    0.000714\n",
      "                               ...   \n",
      "2022-08-05 00:00:00-04:00    0.230000\n",
      "2022-11-04 00:00:00-04:00    0.230000\n",
      "2023-02-10 00:00:00-05:00    0.230000\n",
      "2023-05-12 00:00:00-04:00    0.240000\n",
      "2023-08-11 00:00:00-04:00    0.240000\n",
      "Name: Dividends, Length: 80, dtype: float64\n",
      "\n",
      "Stock Splits:\n",
      "Date\n",
      "1987-06-16 00:00:00-04:00    2.0\n",
      "2000-06-21 00:00:00-04:00    2.0\n",
      "2005-02-28 00:00:00-05:00    2.0\n",
      "2014-06-09 00:00:00-04:00    7.0\n",
      "2020-08-31 00:00:00-04:00    4.0\n",
      "Name: Stock Splits, dtype: float64\n"
     ]
    }
   ],
   "source": [
    "\n",
    "# Define the stock of interest\n",
    "ticker_symbol = 'AAPL'\n",
    "\n",
    "# Fetch the data\n",
    "stock = yf.Ticker(ticker_symbol)\n",
    "\n",
    "# Get dividend data\n",
    "dividends = stock.dividends\n",
    "print(\"Dividends:\")\n",
    "print(dividends)\n",
    "\n",
    "# Get stock split data\n",
    "splits = stock.splits\n",
    "print(\"\\nStock Splits:\")\n",
    "print(splits)\n"
   ],
   "metadata": {
    "collapsed": false,
    "ExecuteTime": {
     "end_time": "2023-08-23T23:26:51.486579600Z",
     "start_time": "2023-08-23T23:26:49.514266200Z"
    }
   },
   "id": "1b2da820097c4812"
  },
  {
   "cell_type": "code",
   "execution_count": null,
   "outputs": [],
   "source": [],
   "metadata": {
    "collapsed": false
   },
   "id": "26d136be2eff463d"
  },
  {
   "cell_type": "code",
   "execution_count": null,
   "outputs": [],
   "source": [],
   "metadata": {
    "collapsed": false
   },
   "id": "70140fd26f5c24ac"
  },
  {
   "cell_type": "code",
   "execution_count": 4,
   "outputs": [
    {
     "name": "stderr",
     "output_type": "stream",
     "text": [
      "Error 321, reqId 2147483647: Error validating request.-'cG' : cause - The API interface is currently in Read-Only mode.\n",
      "Error 321, reqId -1: Error validating request.-'ce' : cause - The API interface is currently in Read-Only mode.\n",
      "open orders request timed out\n",
      "completed orders request timed out\n"
     ]
    }
   ],
   "source": [
    "\n",
    "ib = IB()\n",
    "ib.connect('127.0.0.1', 4001, clientId=1)\n",
    "\n",
    "contract = Forex('EURUSD')\n",
    "bars = ib.reqHistoricalData(\n",
    "    contract, endDateTime='', durationStr='30 D',\n",
    "    barSizeSetting='1 hour', whatToShow='MIDPOINT', useRTH=True)\n",
    "\n"
   ],
   "metadata": {
    "collapsed": false,
    "ExecuteTime": {
     "end_time": "2023-08-23T21:24:52.822386700Z",
     "start_time": "2023-08-23T21:24:47.260546100Z"
    }
   },
   "id": "e5dd87caa29e84d5"
  },
  {
   "cell_type": "code",
   "execution_count": 5,
   "outputs": [
    {
     "name": "stdout",
     "output_type": "stream",
     "text": [
      "                         date      open      high       low     close  volume  \\\n",
      "0   2023-07-13 17:15:00-04:00  1.122140  1.122635  1.122055  1.122490    -1.0   \n",
      "1   2023-07-13 18:00:00-04:00  1.122490  1.122970  1.122385  1.122475    -1.0   \n",
      "2   2023-07-13 19:00:00-04:00  1.122475  1.122805  1.122185  1.122350    -1.0   \n",
      "3   2023-07-13 20:00:00-04:00  1.122350  1.122495  1.121335  1.122290    -1.0   \n",
      "4   2023-07-13 21:00:00-04:00  1.122290  1.123380  1.122230  1.123320    -1.0   \n",
      "..                        ...       ...       ...       ...       ...     ...   \n",
      "692 2023-08-23 13:00:00-04:00  1.086290  1.087020  1.085975  1.086470    -1.0   \n",
      "693 2023-08-23 14:00:00-04:00  1.086470  1.086485  1.085580  1.085875    -1.0   \n",
      "694 2023-08-23 15:00:00-04:00  1.085875  1.086665  1.085845  1.086395    -1.0   \n",
      "695 2023-08-23 16:00:00-04:00  1.086395  1.086585  1.086090  1.086295    -1.0   \n",
      "696 2023-08-23 17:15:00-04:00  1.086595  1.086605  1.086475  1.086510    -1.0   \n",
      "\n",
      "     average  barCount  \n",
      "0       -1.0        -1  \n",
      "1       -1.0        -1  \n",
      "2       -1.0        -1  \n",
      "3       -1.0        -1  \n",
      "4       -1.0        -1  \n",
      "..       ...       ...  \n",
      "692     -1.0        -1  \n",
      "693     -1.0        -1  \n",
      "694     -1.0        -1  \n",
      "695     -1.0        -1  \n",
      "696     -1.0        -1  \n",
      "\n",
      "[697 rows x 8 columns]\n"
     ]
    }
   ],
   "source": [
    "# convert to pandas dataframe (pandas needs to be installed):\n",
    "df = util.df(bars)\n",
    "print(df)"
   ],
   "metadata": {
    "collapsed": false,
    "ExecuteTime": {
     "end_time": "2023-08-23T21:24:54.396831200Z",
     "start_time": "2023-08-23T21:24:53.840891200Z"
    }
   },
   "id": "177110d1bd0ec7c"
  },
  {
   "cell_type": "code",
   "execution_count": null,
   "outputs": [],
   "source": [],
   "metadata": {
    "collapsed": false
   },
   "id": "e56fd6bf7513b95a"
  },
  {
   "cell_type": "code",
   "execution_count": null,
   "outputs": [],
   "source": [
    "ib.disconnect()"
   ],
   "metadata": {
    "collapsed": false
   },
   "id": "2cf422c11a63508c"
  },
  {
   "cell_type": "code",
   "execution_count": null,
   "outputs": [],
   "source": [],
   "metadata": {
    "collapsed": false
   },
   "id": "759f91428e1af549"
  },
  {
   "cell_type": "code",
   "execution_count": 2,
   "outputs": [],
   "source": [
    "from ibapi.client import EClient\n",
    "from ibapi.wrapper import EWrapper\n",
    "from ibapi.contract import Contract, ContractDetails\n",
    "\n",
    "import threading\n",
    "import time"
   ],
   "metadata": {
    "collapsed": false,
    "ExecuteTime": {
     "end_time": "2023-08-23T19:53:43.508262Z",
     "start_time": "2023-08-23T19:53:43.457877500Z"
    }
   },
   "id": "d9d3fd7a851b6c8e"
  },
  {
   "cell_type": "code",
   "execution_count": 3,
   "outputs": [],
   "source": [
    "\n",
    "class IBapi(EWrapper, EClient):\n",
    "\tdef __init__(self):\n",
    "\t\tEClient.__init__(self, self)\n",
    "\tdef tickPrice(self, reqId, tickType, price, attrib):\n",
    "\t\tif tickType == 2 and reqId == 1:\n",
    "\t\t\tprint('The current ask price is: ', price)\n",
    "\tdef contractDetails(self, reqId: int, contractDetails: ContractDetails):\n",
    "\t\tprint(\"Contract Details:\")\n",
    "\t\tprint(\"Symbol:\", contractDetails.contract.symbol)\n",
    "\t\tprint(\"Security Type:\", contractDetails.contract.secType)\n",
    "\t\tprint(\"Primary Exchange:\", contractDetails.contract.primaryExchange)\n",
    "\t\tprint(\"Currency:\", contractDetails.contract.currency)\n",
    "\tdef error(self, reqId, errorCode, errorString):\n",
    "\t\tprint(f\"Error {errorCode}: {errorString}\")\n",
    "\n",
    "def run_loop():\n",
    "\tapp.run()\n"
   ],
   "metadata": {
    "collapsed": false,
    "ExecuteTime": {
     "end_time": "2023-08-23T19:53:44.067619400Z",
     "start_time": "2023-08-23T19:53:44.046731600Z"
    }
   },
   "id": "d6075ca64d84c0e2"
  },
  {
   "cell_type": "code",
   "execution_count": 4,
   "outputs": [
    {
     "name": "stdout",
     "output_type": "stream",
     "text": [
      "Error 2104: Market data farm connection is OK:usfarm.nj\n",
      "Error 2104: Market data farm connection is OK:eufarm\n",
      "Error 2104: Market data farm connection is OK:cashfarm\n",
      "Error 2104: Market data farm connection is OK:usfarm\n",
      "Error 2106: HMDS data farm connection is OK:euhmds\n",
      "Error 2106: HMDS data farm connection is OK:ushmds\n",
      "Error 2158: Sec-def data farm connection is OK:secdefeu\n"
     ]
    }
   ],
   "source": [
    "app = IBapi()\n",
    "app.connect('127.0.0.1', 7496, 123)\n",
    "\n",
    "api_thread = threading.Thread(target=run_loop, daemon=True)\n",
    "api_thread.start()\n",
    "time.sleep(1) #Sleep interval to allow time for connection to server"
   ],
   "metadata": {
    "collapsed": false,
    "ExecuteTime": {
     "end_time": "2023-08-23T19:53:47.768819300Z",
     "start_time": "2023-08-23T19:53:46.745933300Z"
    }
   },
   "id": "8b2dc77358bbffeb"
  },
  {
   "cell_type": "code",
   "execution_count": 5,
   "outputs": [],
   "source": [
    "\n",
    "# Define a minimal contract with just the ticker symbol\n",
    "contract = Contract()\n",
    "contract.symbol = \"AAPL\"\n",
    "contract.secType = \"STK\"  # You can start with STK for stocks, but in a real-world scenario, you might need to consider other security types.\n",
    "\n",
    "# Request contract details\n",
    "app.reqContractDetails(1, contract)\n"
   ],
   "metadata": {
    "collapsed": false,
    "ExecuteTime": {
     "end_time": "2023-08-23T19:53:49.756000300Z",
     "start_time": "2023-08-23T19:53:49.731826100Z"
    }
   },
   "id": "187764e883183663"
  },
  {
   "cell_type": "code",
   "execution_count": null,
   "outputs": [],
   "source": [],
   "metadata": {
    "collapsed": false
   },
   "id": "beb43c00836c40f2"
  },
  {
   "cell_type": "code",
   "execution_count": 6,
   "outputs": [],
   "source": [
    "app.disconnect()"
   ],
   "metadata": {
    "collapsed": false,
    "ExecuteTime": {
     "end_time": "2023-08-23T19:48:16.663882400Z",
     "start_time": "2023-08-23T19:48:16.655977300Z"
    }
   },
   "id": "bc515ca42457a7c"
  },
  {
   "cell_type": "code",
   "execution_count": null,
   "outputs": [],
   "source": [],
   "metadata": {
    "collapsed": false
   },
   "id": "642e1c8354c35701"
  },
  {
   "cell_type": "code",
   "execution_count": null,
   "outputs": [],
   "source": [],
   "metadata": {
    "collapsed": false
   },
   "id": "84fd55c9cde29cbb"
  },
  {
   "cell_type": "code",
   "execution_count": null,
   "outputs": [],
   "source": [],
   "metadata": {
    "collapsed": false
   },
   "id": "4d4164177b6d9372"
  },
  {
   "cell_type": "code",
   "execution_count": null,
   "outputs": [],
   "source": [],
   "metadata": {
    "collapsed": false
   },
   "id": "da3903cecd9c2cc"
  },
  {
   "cell_type": "code",
   "execution_count": 5,
   "outputs": [],
   "source": [
    "\n",
    "contract = Contract()\n",
    "contract.symbol = \"AAPL\"\n",
    "contract.secType = \"STK\"\n",
    "contract.exchange = \"SMART\"\n",
    "contract.currency = \"USD\"\n",
    "contract.primaryExchange = \"NASDAQ\"\n",
    "\n",
    "\n",
    "# Request historical bars for AAPL - e.g., 1 day of 1-minute bars:\n",
    "endDateTime = ''  # Empty string means the most recent data.\n",
    "durationStr = '1 D'  # Duration is 1 day\n",
    "barSizeSetting = '1 min'  # Bar size is 1 minute\n",
    "whatToShow = 'TRADES'  # Use trade data to construct bars\n",
    "useRTH = True  # Only data within regular trading hours\n",
    "formatDate = 1  # Return data in yyyyMMdd HH:mm:ss format\n",
    "keepUpToDate = False  # Don't keep the data feed live\n",
    "\n",
    "# Send the historical data request\n",
    "app.reqHistoricalData(1, contract, endDateTime, durationStr, barSizeSetting, whatToShow, useRTH, formatDate, keepUpToDate, [])\n"
   ],
   "metadata": {
    "collapsed": false,
    "ExecuteTime": {
     "end_time": "2023-08-23T19:34:40.553411400Z",
     "start_time": "2023-08-23T19:34:40.533485100Z"
    }
   },
   "id": "6391fcb31282bdb5"
  },
  {
   "cell_type": "code",
   "execution_count": null,
   "outputs": [],
   "source": [
    "app."
   ],
   "metadata": {
    "collapsed": false
   },
   "id": "c402a84e0809ce50"
  },
  {
   "cell_type": "code",
   "execution_count": null,
   "outputs": [],
   "source": [],
   "metadata": {
    "collapsed": false
   },
   "id": "ac51aca270f1183e"
  },
  {
   "cell_type": "code",
   "execution_count": 1,
   "outputs": [
    {
     "ename": "NameError",
     "evalue": "name 'app' is not defined",
     "output_type": "error",
     "traceback": [
      "\u001B[1;31m---------------------------------------------------------------------------\u001B[0m",
      "\u001B[1;31mNameError\u001B[0m                                 Traceback (most recent call last)",
      "Cell \u001B[1;32mIn[1], line 4\u001B[0m\n\u001B[0;32m      1\u001B[0m \u001B[38;5;66;03m# Give the request some time to complete\u001B[39;00m\n\u001B[0;32m      2\u001B[0m \u001B[38;5;66;03m# time.sleep(5)\u001B[39;00m\n\u001B[1;32m----> 4\u001B[0m \u001B[43mapp\u001B[49m\u001B[38;5;241m.\u001B[39mdisconnect()\n",
      "\u001B[1;31mNameError\u001B[0m: name 'app' is not defined"
     ]
    }
   ],
   "source": [
    "# Give the request some time to complete\n",
    "# time.sleep(5)\n",
    "\n",
    "app.disconnect()"
   ],
   "metadata": {
    "collapsed": false,
    "ExecuteTime": {
     "end_time": "2023-08-23T20:14:57.455377400Z",
     "start_time": "2023-08-23T20:14:57.188280900Z"
    }
   },
   "id": "3db7385032d808fe"
  },
  {
   "cell_type": "code",
   "execution_count": null,
   "outputs": [],
   "source": [],
   "metadata": {
    "collapsed": false
   },
   "id": "23fbe7590d4bf516"
  }
 ],
 "metadata": {
  "kernelspec": {
   "display_name": "Python 3",
   "language": "python",
   "name": "python3"
  },
  "language_info": {
   "codemirror_mode": {
    "name": "ipython",
    "version": 2
   },
   "file_extension": ".py",
   "mimetype": "text/x-python",
   "name": "python",
   "nbconvert_exporter": "python",
   "pygments_lexer": "ipython2",
   "version": "2.7.6"
  }
 },
 "nbformat": 4,
 "nbformat_minor": 5
}
