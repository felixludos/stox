{
 "cells": [
  {
   "cell_type": "code",
   "execution_count": 3,
   "id": "initial_id",
   "metadata": {
    "collapsed": true,
    "ExecuteTime": {
     "end_time": "2023-09-04T13:51:01.267954700Z",
     "start_time": "2023-09-04T13:51:01.224046900Z"
    }
   },
   "outputs": [],
   "source": [
    "import json\n",
    "from stox import misc"
   ]
  },
  {
   "cell_type": "code",
   "execution_count": null,
   "outputs": [],
   "source": [
    "# done with chatgpt :)"
   ],
   "metadata": {
    "collapsed": false
   },
   "id": "73ed23645185a05b"
  },
  {
   "cell_type": "markdown",
   "source": [
    "Great, now I need a python function that takes a TRBC code as input and returns a tuple with all the names of the classifications going to the hierarchy. For example, given \"5010101010\", the function should return ('Energy', 'Energy - Fossil Fuels', 'Coal', 'Coal', 'Coal (NEC)')"
   ],
   "metadata": {
    "collapsed": false
   },
   "id": "8fae7ae3ea546026"
  },
  {
   "cell_type": "code",
   "execution_count": 2,
   "outputs": [],
   "source": [
    "json_output_path = misc.assets_root() / 'trbc_codes.json'"
   ],
   "metadata": {
    "collapsed": false,
    "ExecuteTime": {
     "end_time": "2023-09-04T13:50:55.391020200Z",
     "start_time": "2023-09-04T13:50:55.359293Z"
    }
   },
   "id": "6fba5e6ea270d9c0"
  },
  {
   "cell_type": "code",
   "execution_count": 4,
   "outputs": [],
   "source": [
    "with open(json_output_path, 'r') as json_file:\n",
    "    data = json.load(json_file)\n",
    "\n",
    "# Create a dictionary with TRBC ID as the key for easy lookup\n",
    "trbc_to_data = {item['TRBC ID']: item['Name'] for item in data}\n"
   ],
   "metadata": {
    "collapsed": false,
    "ExecuteTime": {
     "end_time": "2023-09-04T13:51:03.140777400Z",
     "start_time": "2023-09-04T13:51:03.098565900Z"
    }
   },
   "id": "f8ab97e680895bf6"
  },
  {
   "cell_type": "code",
   "execution_count": 6,
   "outputs": [],
   "source": [
    "def get_classification_hierarchy_corrected(trbc_code):\n",
    "    \"\"\"\n",
    "    Get the hierarchy of classifications based on the TRBC code.\n",
    "    \n",
    "    Args:\n",
    "    - trbc_code (str): The TRBC code.\n",
    "    \n",
    "    Returns:\n",
    "    - tuple: A tuple containing the hierarchy of classifications.\n",
    "    \"\"\"\n",
    "    hierarchy = []\n",
    "    \n",
    "    while trbc_code:\n",
    "        name = trbc_to_data.get(trbc_code)\n",
    "        if not name:\n",
    "            break\n",
    "        hierarchy.insert(0, name)\n",
    "        trbc_code = trbc_code[:-2]  # Remove two characters at a time\n",
    "        \n",
    "    return tuple(hierarchy)\n"
   ],
   "metadata": {
    "collapsed": false,
    "ExecuteTime": {
     "end_time": "2023-09-04T13:51:21.640434700Z",
     "start_time": "2023-09-04T13:51:21.617436400Z"
    }
   },
   "id": "2b5f54481fe3fe5a"
  },
  {
   "cell_type": "code",
   "execution_count": 7,
   "outputs": [
    {
     "data": {
      "text/plain": "('Energy', 'Energy - Fossil Fuels', 'Coal', 'Coal', 'Coal (NEC)')"
     },
     "execution_count": 7,
     "metadata": {},
     "output_type": "execute_result"
    }
   ],
   "source": [
    "\n",
    "test_code = \"5010101010\"\n",
    "# Test the corrected function with the provided example\n",
    "get_classification_hierarchy_corrected(test_code)"
   ],
   "metadata": {
    "collapsed": false,
    "ExecuteTime": {
     "end_time": "2023-09-04T13:51:21.924425600Z",
     "start_time": "2023-09-04T13:51:21.846223Z"
    }
   },
   "id": "b9234e2da5d10fa"
  },
  {
   "cell_type": "code",
   "execution_count": null,
   "outputs": [],
   "source": [],
   "metadata": {
    "collapsed": false
   },
   "id": "14ae0696224162b6"
  },
  {
   "cell_type": "code",
   "execution_count": null,
   "outputs": [],
   "source": [],
   "metadata": {
    "collapsed": false
   },
   "id": "4ae14081edec870b"
  },
  {
   "cell_type": "code",
   "execution_count": null,
   "outputs": [],
   "source": [],
   "metadata": {
    "collapsed": false
   },
   "id": "8a62bedd0eb31ed9"
  },
  {
   "cell_type": "code",
   "execution_count": null,
   "outputs": [],
   "source": [],
   "metadata": {
    "collapsed": false
   },
   "id": "77d9300995baff0f"
  },
  {
   "cell_type": "code",
   "execution_count": null,
   "outputs": [],
   "source": [],
   "metadata": {
    "collapsed": false
   },
   "id": "d9aa2a78adae474"
  }
 ],
 "metadata": {
  "kernelspec": {
   "display_name": "Python 3",
   "language": "python",
   "name": "python3"
  },
  "language_info": {
   "codemirror_mode": {
    "name": "ipython",
    "version": 2
   },
   "file_extension": ".py",
   "mimetype": "text/x-python",
   "name": "python",
   "nbconvert_exporter": "python",
   "pygments_lexer": "ipython2",
   "version": "2.7.6"
  }
 },
 "nbformat": 4,
 "nbformat_minor": 5
}
