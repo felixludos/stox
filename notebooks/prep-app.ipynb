{
 "cells": [
  {
   "cell_type": "code",
   "execution_count": 2,
   "id": "initial_id",
   "metadata": {
    "collapsed": true,
    "ExecuteTime": {
     "end_time": "2023-10-14T12:22:09.585469900Z",
     "start_time": "2023-10-14T12:22:07.215942500Z"
    }
   },
   "outputs": [],
   "source": [
    "from omnibelt import load_csv, load_csv_rows, load_json, save_json\n",
    "import omnifig as fig\n",
    "fig.initialize()"
   ]
  },
  {
   "cell_type": "code",
   "execution_count": 3,
   "outputs": [
    {
     "data": {
      "text/plain": "239"
     },
     "execution_count": 3,
     "metadata": {},
     "output_type": "execute_result"
    }
   ],
   "source": [
    "cfg = fig.create_config('eur-tickers')\n",
    "tickers = cfg.pull('tickers', silent=True)\n",
    "len(tickers)"
   ],
   "metadata": {
    "collapsed": false,
    "ExecuteTime": {
     "end_time": "2023-10-14T12:23:01.281427800Z",
     "start_time": "2023-10-14T12:23:01.225289300Z"
    }
   },
   "id": "7d3dcd2e002be56e"
  },
  {
   "cell_type": "code",
   "execution_count": null,
   "outputs": [],
   "source": [],
   "metadata": {
    "collapsed": false
   },
   "id": "3041b9eb878e1e46"
  },
  {
   "cell_type": "code",
   "execution_count": null,
   "outputs": [],
   "source": [],
   "metadata": {
    "collapsed": false,
    "ExecuteTime": {
     "end_time": "2023-10-14T12:21:29.189776200Z",
     "start_time": "2023-10-14T12:21:29.181835500Z"
    }
   },
   "id": "faf94be7b6dc9f71"
  },
  {
   "cell_type": "code",
   "execution_count": null,
   "outputs": [],
   "source": [],
   "metadata": {
    "collapsed": false
   },
   "id": "ea185c90aae8f0d4"
  }
 ],
 "metadata": {
  "kernelspec": {
   "display_name": "Python 3",
   "language": "python",
   "name": "python3"
  },
  "language_info": {
   "codemirror_mode": {
    "name": "ipython",
    "version": 2
   },
   "file_extension": ".py",
   "mimetype": "text/x-python",
   "name": "python",
   "nbconvert_exporter": "python",
   "pygments_lexer": "ipython2",
   "version": "2.7.6"
  }
 },
 "nbformat": 4,
 "nbformat_minor": 5
}
