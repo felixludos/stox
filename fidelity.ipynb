{
 "cells": [
  {
   "cell_type": "code",
   "execution_count": null,
   "metadata": {},
   "outputs": [],
   "source": [
    "%load_ext autoreload\n",
    "%autoreload 2\n",
    "import sys, os\n",
    "import random\n",
    "from tqdm.notebook import tqdm\n",
    "from pathlib import Path\n",
    "from collections import Counter\n",
    "import requests\n",
    "import json\n",
    "from googlefinance import getQuotes\n",
    "from bs4 import BeautifulSoup\n",
    "import requests, sys, lxml.html\n",
    "# from finquant.portfolio import build_portfolio\n",
    "\n",
    "# import yfinance as yf\n",
    "from yahooquery import Ticker\n",
    "\n",
    "from src import URLS, extract_html, extract_table, load_etf_snapshot, \\\n",
    "    load_etf_analyst, load_etf_pie, load_etf_holdings, get_yf, get_ticker, \\\n",
    "    get_recommendations, get_fund_holdings, get_fund_sectors, get_type, get_fund_categories, \\\n",
    "    load_stock_snapshot, load_stock_contained\n",
    "from src.fidelity import _stock_company"
   ]
  },
  {
   "cell_type": "code",
   "execution_count": 2,
   "metadata": {},
   "outputs": [
    {
     "data": {
      "text/plain": [
       "'MINT'"
      ]
     },
     "execution_count": 2,
     "metadata": {},
     "output_type": "execute_result"
    }
   ],
   "source": [
    "names = set(['MSFT', 'SNE', 'AMD', 'TSLA', 'NIO', 'LI', \n",
    "         'ARKK', 'VONG', 'IBB', 'SPY', 'ESPO', 'PHO', 'ACES', 'SCHO', 'LQD', 'ICVT', \n",
    "        'ACES', 'AGG', 'ASHR', 'BIDU'])\n",
    "names.update(['ACES', 'AGG', 'AMD', 'AMZN', 'ASHR', 'BABA', 'BIDU', 'CIBR', 'CNYA', 'DIS', 'EMXC', 'ESPO', \n",
    "              'EWC', 'EWG', 'EWY', 'FB', 'FHLC', 'FIDU', 'FIPDX', 'FLJP', 'FNCL',\n",
    "               'GOOG', 'IAGG', 'IAU', 'IBB', 'ICLN', 'IGOV', 'KWEB', 'LQD', 'MCHI', \n",
    "              'MINT', 'MSFT', 'NFLX', 'NIO', 'NTDOY', 'NVDA', 'PHO', 'PYPL', 'SCHO', 'SKYY', 'SNE', 'SOCL', \n",
    "              'TCEHY', 'TSLA', 'VCLT', 'VCSH', 'VGK', 'VGLT', 'VONG', 'XITK'])\n",
    "names.update(['FSGGX', 'FSMAX', 'FSPSX', 'FUAMX', 'FZIPX', 'FZROX',])\n",
    "\n",
    "names = list(names)\n",
    "\n",
    "cats = {}\n",
    "for n in names:\n",
    "    t = get_type(n)\n",
    "    if t not in cats:\n",
    "        cats[t] = []\n",
    "    cats[t].append(n)\n",
    "\n",
    "name = random.choice(names)\n",
    "name"
   ]
  },
  {
   "cell_type": "code",
   "execution_count": 3,
   "metadata": {
    "scrolled": true
   },
   "outputs": [
    {
     "data": {
      "text/plain": [
       "{'ETF': ['FIDU',\n",
       "  'ASHR',\n",
       "  'EWC',\n",
       "  'KWEB',\n",
       "  'SPY',\n",
       "  'VCLT',\n",
       "  'IBB',\n",
       "  'VGLT',\n",
       "  'VONG',\n",
       "  'FHLC',\n",
       "  'CNYA',\n",
       "  'LQD',\n",
       "  'SKYY',\n",
       "  'EMXC',\n",
       "  'XITK',\n",
       "  'ICLN',\n",
       "  'IAGG',\n",
       "  'MCHI',\n",
       "  'FNCL',\n",
       "  'SOCL',\n",
       "  'VCSH',\n",
       "  'EWG',\n",
       "  'CIBR',\n",
       "  'IGOV',\n",
       "  'SCHO',\n",
       "  'VGK',\n",
       "  'ESPO',\n",
       "  'PHO',\n",
       "  'MINT',\n",
       "  'IAU',\n",
       "  'AGG',\n",
       "  'ACES',\n",
       "  'EWY',\n",
       "  'ARKK',\n",
       "  'ICVT',\n",
       "  'FLJP'],\n",
       " 'EQUITY': ['AMZN',\n",
       "  'NVDA',\n",
       "  'SNE',\n",
       "  'NFLX',\n",
       "  'BIDU',\n",
       "  'DIS',\n",
       "  'NTDOY',\n",
       "  'GOOG',\n",
       "  'AMD',\n",
       "  'LI',\n",
       "  'TSLA',\n",
       "  'PYPL',\n",
       "  'MSFT',\n",
       "  'NIO',\n",
       "  'TCEHY',\n",
       "  'FB',\n",
       "  'BABA'],\n",
       " 'MUTUALFUND': ['FSMAX', 'FZROX', 'FIPDX', 'FSGGX', 'FSPSX', 'FZIPX', 'FUAMX']}"
      ]
     },
     "execution_count": 3,
     "metadata": {},
     "output_type": "execute_result"
    }
   ],
   "source": [
    "cats"
   ]
  },
  {
   "cell_type": "code",
   "execution_count": 102,
   "metadata": {
    "scrolled": true
   },
   "outputs": [
    {
     "name": "stdout",
     "output_type": "stream",
     "text": [
      "https://eresearch.fidelity.com/eresearch/evaluate/snapshot.jhtml?symbols=GOOG\n",
      "https://screener.fidelity.com/ftgw/etf/goto/snapshot/portfolioComposition.jhtml?symbols=SCHO\n"
     ]
    }
   ],
   "source": [
    "# print(URLS['stocks']['snapshot'].format(ticker='GOOG'))\n",
    "print(URLS['etfs']['composition'].format(ticker='SCHO'))\n",
    "# for name in cats['EQUITY']:\n",
    "# #     print(URLS['etf']['holdings'].format(ticker=etf))\n",
    "#     print(URLS['stocks']['snapshot'].format(ticker=name))"
   ]
  },
  {
   "cell_type": "code",
   "execution_count": null,
   "metadata": {},
   "outputs": [],
   "source": []
  },
  {
   "cell_type": "code",
   "execution_count": 5,
   "metadata": {},
   "outputs": [
    {
     "data": {
      "text/plain": [
       "'EWG'"
      ]
     },
     "execution_count": 5,
     "metadata": {},
     "output_type": "execute_result"
    }
   ],
   "source": [
    "tk = get_ticker(name)\n",
    "tk.symbols[0]"
   ]
  },
  {
   "cell_type": "code",
   "execution_count": 6,
   "metadata": {},
   "outputs": [
    {
     "data": {
      "text/plain": [
       "['EWU', 'EWQ', 'EWP', 'EWI', 'EWL']"
      ]
     },
     "execution_count": 6,
     "metadata": {},
     "output_type": "execute_result"
    }
   ],
   "source": [
    "recs = get_recommendations(name)\n",
    "recs"
   ]
  },
  {
   "cell_type": "code",
   "execution_count": 35,
   "metadata": {},
   "outputs": [
    {
     "data": {
      "text/plain": [
       "'ETF'"
      ]
     },
     "execution_count": 35,
     "metadata": {},
     "output_type": "execute_result"
    }
   ],
   "source": [
    "get_type(name)"
   ]
  },
  {
   "cell_type": "code",
   "execution_count": 37,
   "metadata": {},
   "outputs": [],
   "source": [
    "# [get_type(n) for n in names]"
   ]
  },
  {
   "cell_type": "code",
   "execution_count": 49,
   "metadata": {},
   "outputs": [
    {
     "data": {
      "text/plain": [
       "{'stocks': 0.9958, 'bonds': 0.0}"
      ]
     },
     "execution_count": 49,
     "metadata": {},
     "output_type": "execute_result"
    }
   ],
   "source": [
    "assets = get_fund_categories(name)\n",
    "assets"
   ]
  },
  {
   "cell_type": "code",
   "execution_count": null,
   "metadata": {},
   "outputs": [],
   "source": []
  },
  {
   "cell_type": "code",
   "execution_count": null,
   "metadata": {},
   "outputs": [],
   "source": []
  },
  {
   "cell_type": "code",
   "execution_count": 3,
   "metadata": {},
   "outputs": [
    {
     "data": {
      "text/plain": [
       "WindowsPath('raw/dates/6-1-21/equity')"
      ]
     },
     "execution_count": 3,
     "metadata": {},
     "output_type": "execute_result"
    }
   ],
   "source": [
    "# root = Path('raw/27-12-20/')\n",
    "root = Path('raw/')\n",
    "root = Path('raw/stocks')\n",
    "root = Path('raw/dates/6-1-21/equity')\n",
    "root"
   ]
  },
  {
   "cell_type": "code",
   "execution_count": 7,
   "metadata": {},
   "outputs": [
    {
     "data": {
      "text/plain": [
       "(20, WindowsPath('raw/dates/6-1-21/equity/snapshot (9).html'))"
      ]
     },
     "execution_count": 7,
     "metadata": {},
     "output_type": "execute_result"
    }
   ],
   "source": [
    "# paths = list(root.glob('etf*'))\n",
    "paths = sorted(list(root.glob('snapshot*')))\n",
    "# paths = sorted(list(root.glob('*Details*')))\n",
    "# paths = sorted(list(root.glob('etfholdings*')))\n",
    "path = paths[18]\n",
    "len(paths), path"
   ]
  },
  {
   "cell_type": "code",
   "execution_count": 8,
   "metadata": {},
   "outputs": [],
   "source": [
    "bs = extract_html(path)"
   ]
  },
  {
   "cell_type": "code",
   "execution_count": 9,
   "metadata": {},
   "outputs": [
    {
     "data": {
      "text/plain": [
       "'DIS'"
      ]
     },
     "execution_count": 9,
     "metadata": {},
     "output_type": "execute_result"
    }
   ],
   "source": [
    "ticker = bs.findAll('title')[0].contents[0].split(' | ')[0].strip()\n",
    "ticker"
   ]
  },
  {
   "cell_type": "code",
   "execution_count": 10,
   "metadata": {
    "scrolled": true
   },
   "outputs": [],
   "source": [
    "# bs"
   ]
  },
  {
   "cell_type": "code",
   "execution_count": 11,
   "metadata": {},
   "outputs": [
    {
     "data": {
      "text/plain": [
       "33"
      ]
     },
     "execution_count": 11,
     "metadata": {},
     "output_type": "execute_result"
    }
   ],
   "source": [
    "tbs = bs.findAll(\"table\")\n",
    "len(tbs)"
   ]
  },
  {
   "cell_type": "code",
   "execution_count": 20,
   "metadata": {},
   "outputs": [],
   "source": [
    "table = tbs[13]"
   ]
  },
  {
   "cell_type": "code",
   "execution_count": 29,
   "metadata": {},
   "outputs": [],
   "source": [
    "\n",
    "sector, industry = [x.text.strip() for x in table.find_all('span', {'class': 'right'})[:2]]\n",
    "\n",
    "elms = table.find_all('p')\n",
    "info = [el.text for el in elms]\n",
    "start_idx = [i for i, x in enumerate(info) if x.startswith('Executives')][0] + 1\n",
    "end_idx = [i for i, x in enumerate(info) if x.startswith('Environmental, Social, and')][0]\n",
    "*people, addr, phone = elms[start_idx:end_idx]"
   ]
  },
  {
   "cell_type": "code",
   "execution_count": 30,
   "metadata": {},
   "outputs": [
    {
     "data": {
      "text/plain": [
       "('Communication Services', 'Entertainment')"
      ]
     },
     "execution_count": 30,
     "metadata": {},
     "output_type": "execute_result"
    }
   ],
   "source": [
    "sector, industry"
   ]
  },
  {
   "cell_type": "code",
   "execution_count": 31,
   "metadata": {},
   "outputs": [
    {
     "data": {
      "text/plain": [
       "(12, 14)"
      ]
     },
     "execution_count": 31,
     "metadata": {},
     "output_type": "execute_result"
    }
   ],
   "source": [
    "start_idx, end_idx"
   ]
  },
  {
   "cell_type": "code",
   "execution_count": 35,
   "metadata": {
    "scrolled": true
   },
   "outputs": [
    {
     "data": {
      "text/plain": [
       "[<p>The Walt Disney Company, together with its subsidiaries, operates as an entertainment company worldwide. The company's Media Networks segment operates domestic cable networks under the Disney, ESPN, Freeform, FX, and National Geographic brands; and television broadcast network under the ABC brand, as well as eight domestic television stations. This segment is also involved in the television production and distribution. Its Parks, Experiences and Products segment operates theme parks and resorts, such as Walt Disney World Resort in Florida; Disneyland Resort in California; Disneyland Paris; Hong Kong Disneyland Resort; and Shanghai Disney Resort; Disney Cruise Line, Disney Vacation Club, National Geographic Expeditions, and Adventures by Disney and Aulani, a Disney resort and spa in Hawaii, as well as licenses its intellectual property to a third party for the operations of the Tokyo Disney Resort in Japan. The company's Studio Entertainment segment produces and distributes motion pictures under the Walt Disney Pictures, Twentieth Century Studios, Marvel, Lucasfilm, Pixar, Searchlight Pictures, and Blue Sky Studios banners; develops, produces, and licenses live entertainment events; produces and distributes music; and provides post-production services through Industrial Light &amp; Magic and Skywalker Sound. Its Direct-To-Consumer &amp; International segment operates international television networks and channels comprising Disney, ESPN, Fox, National Geographic, and Star; direct-to-consumer videos streaming services consisting of Disney+/Disney+Hotstar, ESPN+, and Hulu; and operates branded apps and Websites, such as Disney Movie Club and Disney Digital Network, as well as provides streaming technology support services. The company was founded in 1923 and is based in Burbank, California.</p>,\n",
       " <p>\n",
       " \t\tESG ratings enable you to leverage independent ESG research to evaluate how companies are managing ESG risks and addressing ESG opportunities.\n",
       " \t\t<a href=\"javascript:showpop2('agr_popup2','agr_hlp-a2');showpop2content('pop-upcontent1', 'pop-uplink1');\" id=\"esglink\">Learn more</a>\n",
       " </p>,\n",
       " <p><span class=\"bold\">Full Time Employees: 203,000</span></p>,\n",
       " <p><span class=\"bold\">Executives</span></p>,\n",
       " <p>500 South Buena Vista Street<br/>\n",
       " \t\t\tBurbank, CA 91521<br/>\n",
       " \t\t\tUnited States of America<br/>\n",
       " </p>,\n",
       " <p>1-818-560-1000</p>,\n",
       " <p>Environmental, Social, and Governance (ESG) Flags:  MSCI Ratings publishes Environmental, Social and Governance (ESG) ratings on over 6,000 companies worldwide. These ratings provide an independent assessment of the sustainable investment value of public companies.  The ESG Ratings model is based on a carefully crafted and applied list of KeyMetrics® that result in an overall ESG concern level as expressed by Red (High Concern), Yellow (Average Concern), and Green (Low Concern) flags.  Unlike traditional ESG risk models, MSCI's rating methodology is designed to identify risks most likely to affect equity valuations. Specifically, these ratings reflect actual corporate behaviors rather than policies or affirmations of intent to adhere to best ESG practices. Further, unlike other models with evenly weighted metrics, we assign context-sensitive relative weightings to our key metrics, based on market, regional, ownership or sector differences.  Individual company scores are then assigned as a percentile rank, ranging from 1 (worst ranked) to 100 (best) on the basis of these KeyMetrics® and then converted to the Red, Yellow or Green flag designation.</p>,\n",
       " <p>Company Reports:  In addition to a company's overall risk rating, ESG reports also include an industry rating based on a comparison between the company's risk levels in each ESG component area relative to its industry peers.  Further, the ESG analysis serves as a summary of behavioral events that contributed to the company's overall risk level.</p>,\n",
       " <p>\n",
       " <img alt=\"\" border=\"0\" height=\"11\" src=\"https://www.fidelity.com/common/always-cached/eresearch/4.5/images/circlearrow.gif\" width=\"11\"/> <a href=\"http://research2.fidelity.com/fidelity/research/reports/Release2/ResearchFirmDetails.asp?page=MSCI.asp\" target=\"_top\">More About MSCI</a>\n",
       " </p>,\n",
       " <p><span class=\"bold\">The Equity Summary Score</span> is an accuracy-weighted sentiment derived from the ratings of independent research providers on Fidelity.com.  It uses the past relative accuracy of the providers in determining the emphasis placed on any individual opinion.</p>,\n",
       " <p>This <span class=\"bold\">generated report*</span> compiles independent, third-party information highlighting key fundamental and technical data, analyst opinions, stock price movement, earnings data, and industry comparisons. Available only to Fidelity customers.</p>,\n",
       " <p>This <span class=\"bold\">generated report*</span> has historical data on financials with interactive charts, technical indicators, and five-year peer comparison trend charts.</p>]"
      ]
     },
     "execution_count": 35,
     "metadata": {},
     "output_type": "execute_result"
    }
   ],
   "source": [
    "elms[8:]"
   ]
  },
  {
   "cell_type": "code",
   "execution_count": 18,
   "metadata": {
    "scrolled": true
   },
   "outputs": [
    {
     "name": "stdout",
     "output_type": "stream",
     "text": [
      "[<p>The Walt Disney Company (<span fmr-attach-component=\"fmr.qnr.components.snapshot.Mini\" fmr-param-symbol=\"DIS\">DIS</span>) will discuss fiscal first quarter 2021 financial results via a live audio webcast beginning at 4:30 p.m. ET / 1:30 p.m. PT on Thursday, February 11, 2021. Results will be released after the close of regular trading on February 11, 2021. To listen to the webcast, please visit www.disney.com/investors. The webcast presentation will be archived.</p>, <p>In a virtual gathering of chief executives convened to discuss political turbulence stemming from the 2020 election, leaders of some of the largest U.S. companies said they were considering withholding donations to Republican lawmakers seeking to impede the presidential transition. During an hourlong meeting Tuesday, a group of about three dozen chief executives discussed divisions in the country, efforts to thwart the presidential transition and what voice they...</p>, <p>http://archive.fast-edgar.com/20210105/ARBZQ22CZ222C2Z2222C22ZZW44NZDR29O32 Filed on: January 5, 2021.</p>, <p>http://archive.fast-edgar.com/20210105/AMBZQ22CZ222O2Z2222Q22ZZV7CRZDR29E32 Filed on: January 5, 2021.</p>, <p>DIS to announce Q1 earnings  (Confirmed)</p>, <p><a href=\"/eresearch/evaluate/news/basicNews.jhtml?symbols=DIS&amp;sb=1\">\n",
      "<img alt=\"\" border=\"0\" class=\"small-blue-bullet-image\" height=\"11\" src=\"https://www.fidelity.com/webcontent/ap002388-eresearch-content/20.08.0/images/circlearrow.gif\" width=\"11\"/> More News &amp; Events</a>\n",
      "</p>, <p>The Walt Disney Company, together with its subsidiaries, operates as an entertainment company worldwide. The company's Media Networks segment operates domestic cable networks under the Disney, ESPN, Freeform, FX, and National Geographic brands; and…</p>, <p>The Walt Disney Company, together with its subsidiaries, operates as an entertainment company worldwide. The company's Media Networks segment operates domestic cable networks under the Disney, ESPN, Freeform, FX, and National Geographic brands; and television broadcast network under the ABC brand, as well as eight domestic television stations. This segment is also involved in the television production and distribution. Its Parks, Experiences and Products segment operates theme parks and resorts, such as Walt Disney World Resort in Florida; Disneyland Resort in California; Disneyland Paris; Hong Kong Disneyland Resort; and Shanghai Disney Resort; Disney Cruise Line, Disney Vacation Club, National Geographic Expeditions, and Adventures by Disney and Aulani, a Disney resort and spa in Hawaii, as well as licenses its intellectual property to a third party for the operations of the Tokyo Disney Resort in Japan. The company's Studio Entertainment segment produces and distributes motion pictures under the Walt Disney Pictures, Twentieth Century Studios, Marvel, Lucasfilm, Pixar, Searchlight Pictures, and Blue Sky Studios banners; develops, produces, and licenses live entertainment events; produces and distributes music; and provides post-production services through Industrial Light &amp; Magic and Skywalker Sound. Its Direct-To-Consumer &amp; International segment operates international television networks and channels comprising Disney, ESPN, Fox, National Geographic, and Star; direct-to-consumer videos streaming services consisting of Disney+/Disney+Hotstar, ESPN+, and Hulu; and operates branded apps and Websites, such as Disney Movie Club and Disney Digital Network, as well as provides streaming technology support services. The company was founded in 1923 and is based in Burbank, California.</p>, <p>\r\n",
      "\t\tESG ratings enable you to leverage independent ESG research to evaluate how companies are managing ESG risks and addressing ESG opportunities.\r\n",
      "\t\t<a href=\"javascript:showpop2('agr_popup2','agr_hlp-a2');showpop2content('pop-upcontent1', 'pop-uplink1');\" id=\"esglink\">Learn more</a>\n",
      "</p>, <p><span class=\"bold\">Full Time Employees: 203,000</span></p>, <p><span class=\"bold\">Executives</span></p>]\n"
     ]
    },
    {
     "ename": "TypeError",
     "evalue": "'NoneType' object is not callable",
     "output_type": "error",
     "traceback": [
      "\u001b[1;31m---------------------------------------------------------------------------\u001b[0m",
      "\u001b[1;31mTypeError\u001b[0m                                 Traceback (most recent call last)",
      "\u001b[1;32m<ipython-input-18-48f5df0f1db7>\u001b[0m in \u001b[0;36m<module>\u001b[1;34m\u001b[0m\n\u001b[1;32m----> 1\u001b[1;33m \u001b[0mcompany\u001b[0m \u001b[1;33m=\u001b[0m \u001b[0m_stock_company\u001b[0m\u001b[1;33m(\u001b[0m\u001b[0mtbs\u001b[0m\u001b[1;33m[\u001b[0m\u001b[1;36m13\u001b[0m\u001b[1;33m]\u001b[0m\u001b[1;33m)\u001b[0m\u001b[1;33m\u001b[0m\u001b[1;33m\u001b[0m\u001b[0m\n\u001b[0m",
      "\u001b[1;32m~\\OneDrive\\Khan\\projects\\stox\\src\\fidelity.py\u001b[0m in \u001b[0;36m_stock_company\u001b[1;34m(table)\u001b[0m\n\u001b[0;32m    578\u001b[0m         \u001b[0mexecs\u001b[0m \u001b[1;33m=\u001b[0m \u001b[1;33m{\u001b[0m\u001b[1;33m}\u001b[0m\u001b[1;33m\u001b[0m\u001b[1;33m\u001b[0m\u001b[0m\n\u001b[0;32m    579\u001b[0m         \u001b[1;32mtry\u001b[0m\u001b[1;33m:\u001b[0m\u001b[1;33m\u001b[0m\u001b[1;33m\u001b[0m\u001b[0m\n\u001b[1;32m--> 580\u001b[1;33m             \u001b[1;32mfor\u001b[0m \u001b[0mname\u001b[0m\u001b[1;33m,\u001b[0m \u001b[0mjob\u001b[0m \u001b[1;32min\u001b[0m \u001b[1;33m[\u001b[0m\u001b[0mperson\u001b[0m\u001b[1;33m.\u001b[0m\u001b[0msplit\u001b[0m\u001b[1;33m(\u001b[0m\u001b[1;34m',\\xa0'\u001b[0m\u001b[1;33m)\u001b[0m \u001b[1;32mfor\u001b[0m \u001b[0mperson\u001b[0m \u001b[1;32min\u001b[0m \u001b[0mpeople\u001b[0m\u001b[1;33m]\u001b[0m\u001b[1;33m:\u001b[0m\u001b[1;33m\u001b[0m\u001b[1;33m\u001b[0m\u001b[0m\n\u001b[0m\u001b[0;32m    581\u001b[0m                 \u001b[1;32mif\u001b[0m \u001b[0mname\u001b[0m \u001b[1;32mnot\u001b[0m \u001b[1;32min\u001b[0m \u001b[0mexecs\u001b[0m\u001b[1;33m:\u001b[0m\u001b[1;33m\u001b[0m\u001b[1;33m\u001b[0m\u001b[0m\n\u001b[0;32m    582\u001b[0m                     \u001b[0mexecs\u001b[0m\u001b[1;33m[\u001b[0m\u001b[0mname\u001b[0m\u001b[1;33m]\u001b[0m \u001b[1;33m=\u001b[0m \u001b[1;33m[\u001b[0m\u001b[1;33m]\u001b[0m\u001b[1;33m\u001b[0m\u001b[1;33m\u001b[0m\u001b[0m\n",
      "\u001b[1;32m~\\OneDrive\\Khan\\projects\\stox\\src\\fidelity.py\u001b[0m in \u001b[0;36m<listcomp>\u001b[1;34m(.0)\u001b[0m\n\u001b[0;32m    578\u001b[0m         \u001b[0mexecs\u001b[0m \u001b[1;33m=\u001b[0m \u001b[1;33m{\u001b[0m\u001b[1;33m}\u001b[0m\u001b[1;33m\u001b[0m\u001b[1;33m\u001b[0m\u001b[0m\n\u001b[0;32m    579\u001b[0m         \u001b[1;32mtry\u001b[0m\u001b[1;33m:\u001b[0m\u001b[1;33m\u001b[0m\u001b[1;33m\u001b[0m\u001b[0m\n\u001b[1;32m--> 580\u001b[1;33m             \u001b[1;32mfor\u001b[0m \u001b[0mname\u001b[0m\u001b[1;33m,\u001b[0m \u001b[0mjob\u001b[0m \u001b[1;32min\u001b[0m \u001b[1;33m[\u001b[0m\u001b[0mperson\u001b[0m\u001b[1;33m.\u001b[0m\u001b[0msplit\u001b[0m\u001b[1;33m(\u001b[0m\u001b[1;34m',\\xa0'\u001b[0m\u001b[1;33m)\u001b[0m \u001b[1;32mfor\u001b[0m \u001b[0mperson\u001b[0m \u001b[1;32min\u001b[0m \u001b[0mpeople\u001b[0m\u001b[1;33m]\u001b[0m\u001b[1;33m:\u001b[0m\u001b[1;33m\u001b[0m\u001b[1;33m\u001b[0m\u001b[0m\n\u001b[0m\u001b[0;32m    581\u001b[0m                 \u001b[1;32mif\u001b[0m \u001b[0mname\u001b[0m \u001b[1;32mnot\u001b[0m \u001b[1;32min\u001b[0m \u001b[0mexecs\u001b[0m\u001b[1;33m:\u001b[0m\u001b[1;33m\u001b[0m\u001b[1;33m\u001b[0m\u001b[0m\n\u001b[0;32m    582\u001b[0m                     \u001b[0mexecs\u001b[0m\u001b[1;33m[\u001b[0m\u001b[0mname\u001b[0m\u001b[1;33m]\u001b[0m \u001b[1;33m=\u001b[0m \u001b[1;33m[\u001b[0m\u001b[1;33m]\u001b[0m\u001b[1;33m\u001b[0m\u001b[1;33m\u001b[0m\u001b[0m\n",
      "\u001b[1;31mTypeError\u001b[0m: 'NoneType' object is not callable"
     ]
    }
   ],
   "source": [
    "company = _stock_company(tbs[13])"
   ]
  },
  {
   "cell_type": "code",
   "execution_count": null,
   "metadata": {},
   "outputs": [],
   "source": []
  },
  {
   "cell_type": "code",
   "execution_count": null,
   "metadata": {},
   "outputs": [],
   "source": []
  },
  {
   "cell_type": "code",
   "execution_count": 113,
   "metadata": {},
   "outputs": [],
   "source": [
    "# tb = tbs[25]\n",
    "table = tbs[1]"
   ]
  },
  {
   "cell_type": "code",
   "execution_count": 171,
   "metadata": {},
   "outputs": [
    {
     "data": {
      "text/plain": [
       "[['Top 10', '21.46%'], ['Other', '78.54%']]"
      ]
     },
     "execution_count": 171,
     "metadata": {},
     "output_type": "execute_result"
    }
   ],
   "source": [
    "extract_table(tbs[2])"
   ]
  },
  {
   "cell_type": "code",
   "execution_count": null,
   "metadata": {},
   "outputs": [],
   "source": []
  },
  {
   "cell_type": "code",
   "execution_count": 112,
   "metadata": {},
   "outputs": [
    {
     "data": {
      "text/plain": [
       "[['Asset Classification', 'Fixed Income'],\n",
       " ['Investment Philosophy', 'Passively Managed']]"
      ]
     },
     "execution_count": 112,
     "metadata": {},
     "output_type": "execute_result"
    }
   ],
   "source": [
    "extract_table(table)"
   ]
  },
  {
   "cell_type": "code",
   "execution_count": 99,
   "metadata": {
    "scrolled": true
   },
   "outputs": [],
   "source": [
    "# table"
   ]
  },
  {
   "cell_type": "code",
   "execution_count": 100,
   "metadata": {},
   "outputs": [],
   "source": [
    "from src.fidelity import _fmt_human, _fmt_percent, _fmt_online"
   ]
  },
  {
   "cell_type": "code",
   "execution_count": 146,
   "metadata": {},
   "outputs": [
    {
     "data": {
      "text/plain": [
       "<table border=\"0\" cellpadding=\"0\" cellspacing=\"0\">\n",
       "<tr>\n",
       "<th>Asset Classification</th>\n",
       "<td>Fixed Income</td>\n",
       "</tr>\n",
       "<tr>\n",
       "<th>Investment Philosophy</th>\n",
       "<td>Passively Managed</td>\n",
       "</tr>\n",
       "</table>"
      ]
     },
     "execution_count": 146,
     "metadata": {},
     "output_type": "execute_result"
    }
   ],
   "source": [
    "table"
   ]
  },
  {
   "cell_type": "code",
   "execution_count": 46,
   "metadata": {},
   "outputs": [],
   "source": [
    "# data = extract_table(table)"
   ]
  },
  {
   "cell_type": "code",
   "execution_count": 45,
   "metadata": {
    "scrolled": true
   },
   "outputs": [
    {
     "data": {
      "text/plain": [
       "<div class=\"spacing-div_15X0\"></div>"
      ]
     },
     "execution_count": 45,
     "metadata": {},
     "output_type": "execute_result"
    }
   ],
   "source": [
    "# bs.find_all('img', {'alt':\"\", 'height':\"15\", 'src':\"https://www.fidelity.com/common/always-cached/etf/10-07/images/magnify2.gif\", \n",
    "#                     'width':\"17\"})\n",
    "els = bs.find('div', {'class':\"spacing-div_15X0\"}) # div class=\"spacing-div_15X0\"\n",
    "# els = bs.find_all('h3')\n",
    "els"
   ]
  },
  {
   "cell_type": "code",
   "execution_count": 145,
   "metadata": {},
   "outputs": [
    {
     "data": {
      "text/plain": [
       "<div class=\"header-with-borders\">\n",
       "<h3><a class=\"simple-popup\" href=\"http://research2.fidelity.com/fidelity/screeners/etf/etfholdings.asp?symbol=SCHO&amp;view=Region\" title=\"View Regions by Weight\"><img alt=\"\" height=\"15\" src=\"https://www.fidelity.com/common/always-cached/etf/10-07/images/magnify2.gif\" width=\"17\"/> \n",
       "\t\t\t\t\t\tRegional Exposure</a></h3>\n",
       "</div>"
      ]
     },
     "execution_count": 145,
     "metadata": {},
     "output_type": "execute_result"
    }
   ],
   "source": [
    "els[2]"
   ]
  },
  {
   "cell_type": "code",
   "execution_count": 168,
   "metadata": {},
   "outputs": [
    {
     "data": {
      "text/plain": [
       "['Regional Exposure']"
      ]
     },
     "execution_count": 168,
     "metadata": {},
     "output_type": "execute_result"
    }
   ],
   "source": [
    "missing = [x.text.strip().replace('Sorry : ', '').replace(' is not available for this symbol.', '') \n",
    "           for x in bs.find_all('div', {'class':\"error-message\"})]\n",
    "missing"
   ]
  },
  {
   "cell_type": "code",
   "execution_count": null,
   "metadata": {},
   "outputs": [],
   "source": []
  },
  {
   "cell_type": "code",
   "execution_count": null,
   "metadata": {},
   "outputs": [],
   "source": []
  },
  {
   "cell_type": "code",
   "execution_count": 134,
   "metadata": {},
   "outputs": [
    {
     "data": {
      "text/plain": [
       "'Holdings'"
      ]
     },
     "execution_count": 134,
     "metadata": {},
     "output_type": "execute_result"
    }
   ],
   "source": [
    "els[0].text.strip().split('\\r')[0]"
   ]
  },
  {
   "cell_type": "code",
   "execution_count": 139,
   "metadata": {
    "scrolled": true
   },
   "outputs": [
    {
     "data": {
      "text/plain": [
       "<table border=\"0\" cellpadding=\"0\" cellspacing=\"0\" class=\"composition-table\">\n",
       "<tr>\n",
       "<td class=\"pie-sector-indicator\">\n",
       "<div style=\"width:7px; height:7px; background-color:#F7A600;\"></div>\n",
       "</td>\n",
       "<th class=\"pie-sector-name\" scope=\"row\">Government</th>\n",
       "<td class=\"pie-sector-area\">99.86%</td>\n",
       "</tr>\n",
       "<tr class=\"alt-row-color\">\n",
       "<td class=\"pie-sector-indicator\">\n",
       "<div style=\"width:7px; height:7px; background-color:#003063;\"></div>\n",
       "</td>\n",
       "<th class=\"pie-sector-name\" scope=\"row\">Corporate</th>\n",
       "<td class=\"pie-sector-area\">0.00%</td>\n",
       "</tr>\n",
       "<tr>\n",
       "<td class=\"pie-sector-indicator\">\n",
       "<div style=\"width:7px; height:7px; background-color:#E76108;\"></div>\n",
       "</td>\n",
       "<th class=\"pie-sector-name\" scope=\"row\">Mortgage</th>\n",
       "<td class=\"pie-sector-area\">0.00%</td>\n",
       "</tr>\n",
       "<tr class=\"alt-row-color\">\n",
       "<td class=\"pie-sector-indicator\">\n",
       "<div style=\"width:7px; height:7px; background-color:#529E00;\"></div>\n",
       "</td>\n",
       "<th class=\"pie-sector-name\" scope=\"row\">Municipal</th>\n",
       "<td class=\"pie-sector-area\">0.00%</td>\n",
       "</tr>\n",
       "<tr>\n",
       "<td class=\"pie-sector-indicator\">\n",
       "<div style=\"width:7px; height:7px; background-color:#A579BD;\"></div>\n",
       "</td>\n",
       "<th class=\"pie-sector-name\" scope=\"row\">Preferred</th>\n",
       "<td class=\"pie-sector-area\">0.00%</td>\n",
       "</tr>\n",
       "</table>"
      ]
     },
     "execution_count": 139,
     "metadata": {},
     "output_type": "execute_result"
    }
   ],
   "source": [
    "tbs[4]"
   ]
  },
  {
   "cell_type": "code",
   "execution_count": 141,
   "metadata": {},
   "outputs": [
    {
     "data": {
      "text/plain": [
       "<table border=\"0\" cellpadding=\"0\" cellspacing=\"0\" class=\"composition-table\">\n",
       "<tr>\n",
       "<td class=\"pie-sector-indicator\">\n",
       "<div style=\"width:7px; height:7px; background-color:#003063;\"></div>\n",
       "</td>\n",
       "<th class=\"pie-sector-name\" scope=\"row\">United States</th>\n",
       "<td class=\"pie-sector-area\">100.00%</td>\n",
       "</tr>\n",
       "</table>"
      ]
     },
     "execution_count": 141,
     "metadata": {},
     "output_type": "execute_result"
    }
   ],
   "source": [
    "tbs[5]"
   ]
  },
  {
   "cell_type": "code",
   "execution_count": 140,
   "metadata": {},
   "outputs": [
    {
     "data": {
      "text/plain": [
       "[['Government', '99.86%'],\n",
       " ['Corporate', '0.00%'],\n",
       " ['Mortgage', '0.00%'],\n",
       " ['Municipal', '0.00%'],\n",
       " ['Preferred', '0.00%']]"
      ]
     },
     "execution_count": 140,
     "metadata": {},
     "output_type": "execute_result"
    }
   ],
   "source": [
    "extract_table(tbs[4])"
   ]
  },
  {
   "cell_type": "code",
   "execution_count": null,
   "metadata": {},
   "outputs": [],
   "source": []
  },
  {
   "cell_type": "code",
   "execution_count": null,
   "metadata": {},
   "outputs": [],
   "source": []
  },
  {
   "cell_type": "code",
   "execution_count": 68,
   "metadata": {},
   "outputs": [],
   "source": [
    "# for path in paths:\n",
    "#     bs = extract_html(path)\n",
    "#     tbs = bs.findAll(\"table\")\n",
    "#     tb = tbs[25]\n",
    "#     rows = extract_table(tb)\n",
    "#     print(rows[0])"
   ]
  },
  {
   "cell_type": "code",
   "execution_count": null,
   "metadata": {},
   "outputs": [],
   "source": []
  },
  {
   "cell_type": "code",
   "execution_count": 40,
   "metadata": {},
   "outputs": [
    {
     "data": {
      "text/plain": [
       "13228"
      ]
     },
     "execution_count": 40,
     "metadata": {},
     "output_type": "execute_result"
    }
   ],
   "source": [
    "txt = str(table)\n",
    "offset = 0 #+ 91817\n",
    "idx = txt[offset:].find('Robert A. Chapek')+offset\n",
    "idx"
   ]
  },
  {
   "cell_type": "code",
   "execution_count": 41,
   "metadata": {},
   "outputs": [
    {
     "data": {
      "text/plain": [
       "'/eresearch/gotoBL/evaluate/snapshot.jhtml?symbols=DIS&amp;opt=1\">Visit the new Stock Dashboard</a>\\n</div>\\n<div class=\"spacing-div_12X0\"></div>\\n<div class=\"dark-grey-hr\"><div class=\"hr-for-ie\"></div></div>\\n<div class=\"spacing-div_15X0\"></div>\\n<div class=\"spacing-div_20X0\"></div>\\n<p><span class=\"bold\">Full Time Employees:\\xa0203,000</span></p>\\n<div class=\"spacing-div_10X0\"></div>\\n<p><span class=\"bold\">Executives</span></p>\\n<div class=\"spacing-div_10X0\"></div>\\n<div>\\n<ul>\\n<div id=\"executives\">\\n<li>Mr. Robert A. Chapek,\\xa0Chief Executive</li><li>Mr. Robert A. Chapek,\\xa0Director</li><li>Mr. Robert A. Iger,\\xa0Chairman</li><li>Mr. Robert A. Iger,\\xa0Director</li><li>Ms. Christine Mary McCarthy,\\xa0Chief Finance Officer</li>\\n<div class=\"spacing-div_10X0\"></div>\\n<a href=\"javascript:viewMore(\\'executives\\');\">\\n<img height=\"12\" src=\"https://www.fidelity.com/common/application/etf/14.10/images/plus_blue.gif\" width=\"12\"/>\\r\\n\\t\\t\\t\\t\\t\\tView more\\r\\n\\t\\t\\t\\t\\t</a>\\n</div>\\n<div class=\"hidden\" id=\"executives-more\">\\n<li>Mr. Robert A. '"
      ]
     },
     "execution_count": 41,
     "metadata": {},
     "output_type": "execute_result"
    }
   ],
   "source": [
    "rn = 500\n",
    "txt[idx-min(rn, idx):idx+min(rn,len(txt)-idx)]"
   ]
  },
  {
   "cell_type": "code",
   "execution_count": 121,
   "metadata": {},
   "outputs": [],
   "source": [
    "# len(str(tb))"
   ]
  },
  {
   "cell_type": "code",
   "execution_count": 120,
   "metadata": {},
   "outputs": [],
   "source": [
    "# str(tb)[34000:35500]"
   ]
  },
  {
   "cell_type": "code",
   "execution_count": 173,
   "metadata": {},
   "outputs": [
    {
     "data": {
      "text/plain": [
       "17"
      ]
     },
     "execution_count": 173,
     "metadata": {},
     "output_type": "execute_result"
    }
   ],
   "source": [
    "root = Path('raw/stocks/')\n",
    "# paths = root.glob('analyst*')\n",
    "# paths = list(root.glob('snapshot*'))\n",
    "paths = list(root.glob('snap*'))\n",
    "len(paths)"
   ]
  },
  {
   "cell_type": "code",
   "execution_count": 152,
   "metadata": {},
   "outputs": [
    {
     "data": {
      "application/vnd.jupyter.widget-view+json": {
       "model_id": "4d732e083b7e4a8ba77cab5e1205e9f7",
       "version_major": 2,
       "version_minor": 0
      },
      "text/plain": [
       "  0%|          | 0/17 [00:00<?, ?it/s]"
      ]
     },
     "metadata": {},
     "output_type": "display_data"
    },
    {
     "data": {
      "text/plain": [
       "17"
      ]
     },
     "execution_count": 152,
     "metadata": {},
     "output_type": "execute_result"
    }
   ],
   "source": [
    "# out = dict( load_etf_holdings(path) for path in tqdm(list(paths)))\n",
    "out = dict( load_stock_snapshot(path) for path in tqdm(list(paths)))\n",
    "len(out)"
   ]
  },
  {
   "cell_type": "code",
   "execution_count": 31,
   "metadata": {
    "scrolled": true
   },
   "outputs": [],
   "source": [
    "# out['GOOG']"
   ]
  },
  {
   "cell_type": "code",
   "execution_count": 32,
   "metadata": {},
   "outputs": [],
   "source": [
    "corps = {ticker:info['company'] for ticker, info in out.items()}\n",
    "# corps"
   ]
  },
  {
   "cell_type": "code",
   "execution_count": 30,
   "metadata": {},
   "outputs": [
    {
     "data": {
      "text/plain": [
       "['Alphabet Inc',\n",
       " 'Facebook Inc',\n",
       " 'Advanced Micro Devices Inc',\n",
       " 'Netflix Inc',\n",
       " 'Nvidia Corp',\n",
       " 'Amazoncom Inc',\n",
       " 'Nintendo Co Ltd',\n",
       " 'Li Auto Inc',\n",
       " 'Microsoft Corp',\n",
       " 'Walt Disney Co',\n",
       " 'Alibaba Group Holding Ltd',\n",
       " 'Tencent Holdings Ltd',\n",
       " 'Nio Inc',\n",
       " 'Tesla Inc',\n",
       " 'Baidu Inc',\n",
       " 'Paypal Holdings Inc',\n",
       " 'Sony Corp']"
      ]
     },
     "execution_count": 30,
     "metadata": {},
     "output_type": "execute_result"
    }
   ],
   "source": [
    "[c['name'] for c in corps.values()]"
   ]
  },
  {
   "cell_type": "code",
   "execution_count": null,
   "metadata": {},
   "outputs": [],
   "source": []
  },
  {
   "cell_type": "code",
   "execution_count": null,
   "metadata": {},
   "outputs": [],
   "source": []
  },
  {
   "cell_type": "code",
   "execution_count": 188,
   "metadata": {},
   "outputs": [
    {
     "data": {
      "text/plain": [
       "(36, WindowsPath('raw/27-12-20/portfolioComposition (14).html'))"
      ]
     },
     "execution_count": 188,
     "metadata": {},
     "output_type": "execute_result"
    }
   ],
   "source": [
    "root = Path('raw/27-12-20/')\n",
    "# paths = root.glob('analyst*')\n",
    "# paths = list(root.glob('snapshot*'))\n",
    "# paths = list(root.glob('snap*'))\n",
    "paths = list(root.glob('port*'))\n",
    "path = paths[5]\n",
    "len(paths), path"
   ]
  },
  {
   "cell_type": "code",
   "execution_count": 189,
   "metadata": {},
   "outputs": [
    {
     "data": {
      "application/vnd.jupyter.widget-view+json": {
       "model_id": "de34465a0afa4a4d859cb8705081b9e6",
       "version_major": 2,
       "version_minor": 0
      },
      "text/plain": [
       "  0%|          | 0/36 [00:00<?, ?it/s]"
      ]
     },
     "metadata": {},
     "output_type": "display_data"
    },
    {
     "data": {
      "text/plain": [
       "36"
      ]
     },
     "execution_count": 189,
     "metadata": {},
     "output_type": "execute_result"
    }
   ],
   "source": [
    "# out = dict( load_etf_snapshot(path) for path in tqdm(list(paths)))\n",
    "out = dict( load_etf_pie(path) for path in tqdm(list(paths)))\n",
    "len(out)"
   ]
  },
  {
   "cell_type": "code",
   "execution_count": 190,
   "metadata": {},
   "outputs": [
    {
     "data": {
      "text/plain": [
       "dict_keys(['FIDU', 'IGOV', 'SOCL', 'FLJP', 'EWG', 'SCHO', 'VONG', 'VCLT', 'EMXC', 'CNYA', 'AGG', 'KWEB', 'MCHI', 'VGLT', 'CIBR', 'ASHR', 'ICVT', 'ICLN', 'SKYY', 'FNCL', 'EWC', 'IBB', 'SPY', 'ACES', 'IAU', 'ARKK', 'IAGG', 'MINT', 'ESPO', 'XITK', 'FHLC', 'EWY', 'VCSH', 'LQD', 'PHO', 'VGK'])"
      ]
     },
     "execution_count": 190,
     "metadata": {},
     "output_type": "execute_result"
    }
   ],
   "source": [
    "out.keys()"
   ]
  },
  {
   "cell_type": "code",
   "execution_count": 194,
   "metadata": {},
   "outputs": [],
   "source": [
    "# ticker, data = load_etf_pie(path)\n",
    "# ticker, data.keys()"
   ]
  },
  {
   "cell_type": "code",
   "execution_count": 196,
   "metadata": {
    "scrolled": true
   },
   "outputs": [
    {
     "data": {
      "text/plain": [
       "{'Asset Classification': 'Equity',\n",
       " 'Investment Philosophy': 'Passively Managed',\n",
       " 'Holdings': {'Apple Inc': 6.37,\n",
       "  'Microsoft Corp': 5.39,\n",
       "  'Amazon.com Inc': 4.49,\n",
       "  'Facebook Inc': 2.21,\n",
       "  'Alphabet Inc': 1.72,\n",
       "  'Berkshire Hathaway Inc': 1.51,\n",
       "  'Johnson & Johnson': 1.27,\n",
       "  'JPMorgan Chase & Co': 1.2,\n",
       "  'Visa Inc': 1.18},\n",
       " 'Sector Exposure': {'Information Technology': 27.54,\n",
       "  'Health Care': 13.61,\n",
       "  'Consumer Discretionary': 11.35,\n",
       "  'Communication Services': 11.0,\n",
       "  'Financials': 10.39,\n",
       "  'Industrials': 8.7,\n",
       "  'Consumer Staples': 6.74,\n",
       "  'Utilities': 2.88,\n",
       "  'Materials': 2.69,\n",
       "  'Real Estate': 2.54,\n",
       "  'Energy': 2.29},\n",
       " 'Industry Exposure': {'Software': 8.71,\n",
       "  'Technology Hardware, Storage & Peripherals': 6.65,\n",
       "  'Interactive Media & Services': 5.8,\n",
       "  'IT Services': 5.54,\n",
       "  'Semiconductors & Semiconductor Equipment': 5.23,\n",
       "  'Internet & Direct Marketing Retail': 5.0,\n",
       "  'Pharmaceuticals': 3.9,\n",
       "  'Health Care Equipment & Supplies': 3.75,\n",
       "  'Banks': 3.75,\n",
       "  'Capital Markets': 2.73,\n",
       "  'Health Care Providers & Services': 2.71,\n",
       "  'Equity Real Estate Investment Trusts (REITs)': 2.47,\n",
       "  'Specialty Retail': 2.31,\n",
       "  'Oil, Gas & Consumable Fuels': 2.08,\n",
       "  'Entertainment': 2.03,\n",
       "  'Biotechnology': 1.94,\n",
       "  'Chemicals': 1.9,\n",
       "  'Insurance': 1.88,\n",
       "  'Electric Utilities': 1.82,\n",
       "  'Machinery': 1.7,\n",
       "  'Household Products': 1.7,\n",
       "  'Hotels Restaurants & Leisure': 1.69,\n",
       "  'Aerospace & Defense': 1.68,\n",
       "  'Beverages': 1.61,\n",
       "  'Food & Staples Retailing': 1.59,\n",
       "  'Diversified Telecommunication Services': 1.54,\n",
       "  'Diversified Financial Services': 1.51,\n",
       "  'Media': 1.37,\n",
       "  'Industrial Conglomerates': 1.25,\n",
       "  'Life Sciences Tools & Services': 1.23,\n",
       "  'Road & Rail': 1.05,\n",
       "  'Food Products': 1.02,\n",
       "  'Multi-Utilities': 0.89,\n",
       "  'Communications Equipment': 0.81,\n",
       "  'Textiles, Apparel & Luxury Goods': 0.75,\n",
       "  'Air Freight & Logistics': 0.72,\n",
       "  'Tobacco': 0.64,\n",
       "  'Electronic Equipment, Instruments & Components': 0.6,\n",
       "  'Multiline Retail': 0.57,\n",
       "  'Consumer Finance': 0.52,\n",
       "  'Electrical Equipment': 0.5,\n",
       "  'Building Products': 0.49,\n",
       "  'Commercial Services & Supplies': 0.43,\n",
       "  'Household Durables': 0.42,\n",
       "  'Containers & Packaging': 0.36,\n",
       "  'Professional Services': 0.34,\n",
       "  'Metals & Mining': 0.32,\n",
       "  'Automobiles': 0.3,\n",
       "  'Airlines': 0.26,\n",
       "  'Wireless Telecommunication Services': 0.26,\n",
       "  'Energy Equipment & Services': 0.21,\n",
       "  'Trading Companies & Distributors': 0.2,\n",
       "  'Personal Products': 0.18,\n",
       "  'Auto Components': 0.14,\n",
       "  'Distributors': 0.13,\n",
       "  'Construction Materials': 0.11,\n",
       "  'Water Utilities': 0.09,\n",
       "  'Construction & Engineering': 0.08,\n",
       "  'Health Care Technology': 0.08,\n",
       "  'Real Estate Management & Development': 0.07,\n",
       "  'Leisure Products': 0.04,\n",
       "  'Gas Utilities': 0.04,\n",
       "  'Independent Power and Renewable Electricity...': 0.04},\n",
       " 'Regional Exposure': {'North America': 99.07,\n",
       "  'Europe': 0.89,\n",
       "  'Asia': 0.04,\n",
       "  'Africa': 0.0,\n",
       "  'Middle East': 0.0,\n",
       "  'Latin America': 0.0},\n",
       " 'Country Exposure': {'United States': 99.07,\n",
       "  'United Kingdom': 0.54,\n",
       "  'Switzerland': 0.34,\n",
       "  'Singapore': 0.04,\n",
       "  'Russia': 0.01},\n",
       " 'Market Capitalization': {'Large': 83.68,\n",
       "  'Mid': 15.91,\n",
       "  'Small': 0.41,\n",
       "  'Micro': 0.0}}"
      ]
     },
     "execution_count": 196,
     "metadata": {},
     "output_type": "execute_result"
    }
   ],
   "source": [
    "out['SPY']"
   ]
  },
  {
   "cell_type": "code",
   "execution_count": null,
   "metadata": {},
   "outputs": [],
   "source": []
  },
  {
   "cell_type": "code",
   "execution_count": null,
   "metadata": {},
   "outputs": [],
   "source": []
  }
 ],
 "metadata": {
  "kernelspec": {
   "display_name": "Python 3",
   "language": "python",
   "name": "python3"
  },
  "language_info": {
   "codemirror_mode": {
    "name": "ipython",
    "version": 3
   },
   "file_extension": ".py",
   "mimetype": "text/x-python",
   "name": "python",
   "nbconvert_exporter": "python",
   "pygments_lexer": "ipython3",
   "version": "3.7.4"
  }
 },
 "nbformat": 4,
 "nbformat_minor": 4
}
