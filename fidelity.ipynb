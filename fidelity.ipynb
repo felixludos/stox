{
 "cells": [
  {
   "cell_type": "code",
   "execution_count": null,
   "metadata": {},
   "outputs": [],
   "source": [
    "%load_ext autoreload\n",
    "%autoreload 2\n",
    "import sys, os\n",
    "import random\n",
    "from tqdm.notebook import tqdm\n",
    "from pathlib import Path\n",
    "from collections import Counter\n",
    "import requests\n",
    "import json\n",
    "from googlefinance import getQuotes\n",
    "from bs4 import BeautifulSoup\n",
    "import requests, sys, lxml.html\n",
    "# from finquant.portfolio import build_portfolio\n",
    "\n",
    "# import yfinance as yf\n",
    "from yahooquery import Ticker\n",
    "\n",
    "from src import URLS, extract_html, extract_table, load_etf_snapshot, \\\n",
    "    load_etf_analyst, load_etf_pie, load_etf_holdings, get_yf, get_ticker, \\\n",
    "    get_recommendations, get_fund_holdings, get_fund_sectors, get_type, get_fund_categories, \\\n",
    "    load_stock_snapshot, load_stock_contained\n",
    "from src.fidelity import _stock_company"
   ]
  },
  {
   "cell_type": "code",
   "execution_count": 2,
   "metadata": {},
   "outputs": [
    {
     "data": {
      "text/plain": [
       "'MINT'"
      ]
     },
     "execution_count": 2,
     "metadata": {},
     "output_type": "execute_result"
    }
   ],
   "source": [
    "names = set(['MSFT', 'SNE', 'AMD', 'TSLA', 'NIO', 'LI', \n",
    "         'ARKK', 'VONG', 'IBB', 'SPY', 'ESPO', 'PHO', 'ACES', 'SCHO', 'LQD', 'ICVT', \n",
    "        'ACES', 'AGG', 'ASHR', 'BIDU'])\n",
    "names.update(['ACES', 'AGG', 'AMD', 'AMZN', 'ASHR', 'BABA', 'BIDU', 'CIBR', 'CNYA', 'DIS', 'EMXC', 'ESPO', \n",
    "              'EWC', 'EWG', 'EWY', 'FB', 'FHLC', 'FIDU', 'FIPDX', 'FLJP', 'FNCL',\n",
    "               'GOOG', 'IAGG', 'IAU', 'IBB', 'ICLN', 'IGOV', 'KWEB', 'LQD', 'MCHI', \n",
    "              'MINT', 'MSFT', 'NFLX', 'NIO', 'NTDOY', 'NVDA', 'PHO', 'PYPL', 'SCHO', 'SKYY', 'SNE', 'SOCL', \n",
    "              'TCEHY', 'TSLA', 'VCLT', 'VCSH', 'VGK', 'VGLT', 'VONG', 'XITK'])\n",
    "names.update(['FSGGX', 'FSMAX', 'FSPSX', 'FUAMX', 'FZIPX', 'FZROX',])\n",
    "\n",
    "names = list(names)\n",
    "\n",
    "cats = {}\n",
    "for n in names:\n",
    "    t = get_type(n)\n",
    "    if t not in cats:\n",
    "        cats[t] = []\n",
    "    cats[t].append(n)\n",
    "\n",
    "name = random.choice(names)\n",
    "name"
   ]
  },
  {
   "cell_type": "code",
   "execution_count": 3,
   "metadata": {
    "scrolled": true
   },
   "outputs": [
    {
     "data": {
      "text/plain": [
       "{'ETF': ['FIDU',\n",
       "  'ASHR',\n",
       "  'EWC',\n",
       "  'KWEB',\n",
       "  'SPY',\n",
       "  'VCLT',\n",
       "  'IBB',\n",
       "  'VGLT',\n",
       "  'VONG',\n",
       "  'FHLC',\n",
       "  'CNYA',\n",
       "  'LQD',\n",
       "  'SKYY',\n",
       "  'EMXC',\n",
       "  'XITK',\n",
       "  'ICLN',\n",
       "  'IAGG',\n",
       "  'MCHI',\n",
       "  'FNCL',\n",
       "  'SOCL',\n",
       "  'VCSH',\n",
       "  'EWG',\n",
       "  'CIBR',\n",
       "  'IGOV',\n",
       "  'SCHO',\n",
       "  'VGK',\n",
       "  'ESPO',\n",
       "  'PHO',\n",
       "  'MINT',\n",
       "  'IAU',\n",
       "  'AGG',\n",
       "  'ACES',\n",
       "  'EWY',\n",
       "  'ARKK',\n",
       "  'ICVT',\n",
       "  'FLJP'],\n",
       " 'EQUITY': ['AMZN',\n",
       "  'NVDA',\n",
       "  'SNE',\n",
       "  'NFLX',\n",
       "  'BIDU',\n",
       "  'DIS',\n",
       "  'NTDOY',\n",
       "  'GOOG',\n",
       "  'AMD',\n",
       "  'LI',\n",
       "  'TSLA',\n",
       "  'PYPL',\n",
       "  'MSFT',\n",
       "  'NIO',\n",
       "  'TCEHY',\n",
       "  'FB',\n",
       "  'BABA'],\n",
       " 'MUTUALFUND': ['FSMAX', 'FZROX', 'FIPDX', 'FSGGX', 'FSPSX', 'FZIPX', 'FUAMX']}"
      ]
     },
     "execution_count": 3,
     "metadata": {},
     "output_type": "execute_result"
    }
   ],
   "source": [
    "cats"
   ]
  },
  {
   "cell_type": "code",
   "execution_count": 102,
   "metadata": {
    "scrolled": true
   },
   "outputs": [
    {
     "name": "stdout",
     "output_type": "stream",
     "text": [
      "https://eresearch.fidelity.com/eresearch/evaluate/snapshot.jhtml?symbols=GOOG\n",
      "https://screener.fidelity.com/ftgw/etf/goto/snapshot/portfolioComposition.jhtml?symbols=SCHO\n"
     ]
    }
   ],
   "source": [
    "# print(URLS['stocks']['snapshot'].format(ticker='GOOG'))\n",
    "print(URLS['etfs']['composition'].format(ticker='SCHO'))\n",
    "# for name in cats['EQUITY']:\n",
    "# #     print(URLS['etf']['holdings'].format(ticker=etf))\n",
    "#     print(URLS['stocks']['snapshot'].format(ticker=name))"
   ]
  },
  {
   "cell_type": "code",
   "execution_count": null,
   "metadata": {},
   "outputs": [],
   "source": []
  },
  {
   "cell_type": "code",
   "execution_count": 5,
   "metadata": {},
   "outputs": [
    {
     "data": {
      "text/plain": [
       "'EWG'"
      ]
     },
     "execution_count": 5,
     "metadata": {},
     "output_type": "execute_result"
    }
   ],
   "source": [
    "tk = get_ticker(name)\n",
    "tk.symbols[0]"
   ]
  },
  {
   "cell_type": "code",
   "execution_count": 6,
   "metadata": {},
   "outputs": [
    {
     "data": {
      "text/plain": [
       "['EWU', 'EWQ', 'EWP', 'EWI', 'EWL']"
      ]
     },
     "execution_count": 6,
     "metadata": {},
     "output_type": "execute_result"
    }
   ],
   "source": [
    "recs = get_recommendations(name)\n",
    "recs"
   ]
  },
  {
   "cell_type": "code",
   "execution_count": 35,
   "metadata": {},
   "outputs": [
    {
     "data": {
      "text/plain": [
       "'ETF'"
      ]
     },
     "execution_count": 35,
     "metadata": {},
     "output_type": "execute_result"
    }
   ],
   "source": [
    "get_type(name)"
   ]
  },
  {
   "cell_type": "code",
   "execution_count": 37,
   "metadata": {},
   "outputs": [],
   "source": [
    "# [get_type(n) for n in names]"
   ]
  },
  {
   "cell_type": "code",
   "execution_count": 49,
   "metadata": {},
   "outputs": [
    {
     "data": {
      "text/plain": [
       "{'stocks': 0.9958, 'bonds': 0.0}"
      ]
     },
     "execution_count": 49,
     "metadata": {},
     "output_type": "execute_result"
    }
   ],
   "source": [
    "assets = get_fund_categories(name)\n",
    "assets"
   ]
  },
  {
   "cell_type": "code",
   "execution_count": null,
   "metadata": {},
   "outputs": [],
   "source": []
  },
  {
   "cell_type": "code",
   "execution_count": null,
   "metadata": {},
   "outputs": [],
   "source": []
  },
  {
   "cell_type": "code",
   "execution_count": 3,
   "metadata": {},
   "outputs": [
    {
     "data": {
      "text/plain": [
       "WindowsPath('raw/dates/6-1-21/equity')"
      ]
     },
     "execution_count": 3,
     "metadata": {},
     "output_type": "execute_result"
    }
   ],
   "source": [
    "# root = Path('raw/27-12-20/')\n",
    "root = Path('raw/')\n",
    "root = Path('raw/stocks')\n",
    "root = Path('raw/dates/6-1-21/equity')\n",
    "root"
   ]
  },
  {
   "cell_type": "code",
   "execution_count": 7,
   "metadata": {},
   "outputs": [
    {
     "data": {
      "text/plain": [
       "(20, WindowsPath('raw/dates/6-1-21/equity/snapshot (9).html'))"
      ]
     },
     "execution_count": 7,
     "metadata": {},
     "output_type": "execute_result"
    }
   ],
   "source": [
    "# paths = list(root.glob('etf*'))\n",
    "paths = sorted(list(root.glob('snapshot*')))\n",
    "# paths = sorted(list(root.glob('*Details*')))\n",
    "# paths = sorted(list(root.glob('etfholdings*')))\n",
    "path = paths[18]\n",
    "len(paths), path"
   ]
  },
  {
   "cell_type": "code",
   "execution_count": 8,
   "metadata": {},
   "outputs": [],
   "source": [
    "bs = extract_html(path)"
   ]
  },
  {
   "cell_type": "code",
   "execution_count": 9,
   "metadata": {},
   "outputs": [
    {
     "data": {
      "text/plain": [
       "'DIS'"
      ]
     },
     "execution_count": 9,
     "metadata": {},
     "output_type": "execute_result"
    }
   ],
   "source": [
    "ticker = bs.findAll('title')[0].contents[0].split(' | ')[0].strip()\n",
    "ticker"
   ]
  },
  {
   "cell_type": "code",
   "execution_count": 10,
   "metadata": {
    "scrolled": true
   },
   "outputs": [],
   "source": [
    "# bs"
   ]
  },
  {
   "cell_type": "code",
   "execution_count": 11,
   "metadata": {},
   "outputs": [
    {
     "data": {
      "text/plain": [
       "33"
      ]
     },
     "execution_count": 11,
     "metadata": {},
     "output_type": "execute_result"
    }
   ],
   "source": [
    "tbs = bs.findAll(\"table\")\n",
    "len(tbs)"
   ]
  },
  {
   "cell_type": "code",
   "execution_count": 20,
   "metadata": {},
   "outputs": [],
   "source": [
    "table = tbs[13]"
   ]
  },
  {
   "cell_type": "code",
   "execution_count": 29,
   "metadata": {},
   "outputs": [],
   "source": [
    "\n",
    "sector, industry = [x.text.strip() for x in table.find_all('span', {'class': 'right'})[:2]]\n",
    "\n",
    "elms = table.find_all('p')\n",
    "info = [el.text for el in elms]\n",
    "start_idx = [i for i, x in enumerate(info) if x.startswith('Executives')][0] + 1\n",
    "end_idx = [i for i, x in enumerate(info) if x.startswith('Environmental, Social, and')][0]\n",
    "*people, addr, phone = elms[start_idx:end_idx]"
   ]
  },
  {
   "cell_type": "code",
   "execution_count": 30,
   "metadata": {},
   "outputs": [
    {
     "data": {
      "text/plain": [
       "('Communication Services', 'Entertainment')"
      ]
     },
     "execution_count": 30,
     "metadata": {},
     "output_type": "execute_result"
    }
   ],
   "source": [
    "sector, industry"
   ]
  },
  {
   "cell_type": "code",
   "execution_count": 31,
   "metadata": {},
   "outputs": [
    {
     "data": {
      "text/plain": [
       "(12, 14)"
      ]
     },
     "execution_count": 31,
     "metadata": {},
     "output_type": "execute_result"
    }
   ],
   "source": [
    "start_idx, end_idx"
   ]
  },
  {
   "cell_type": "code",
   "execution_count": 35,
   "metadata": {
    "scrolled": true
   },
   "outputs": [
    {
     "data": {
      "text/plain": [
       "[<p>The Walt Disney Company, together with its subsidiaries, operates as an entertainment company worldwide. The company's Media Networks segment operates domestic cable networks under the Disney, ESPN, Freeform, FX, and National Geographic brands; and television broadcast network under the ABC brand, as well as eight domestic television stations. This segment is also involved in the television production and distribution. Its Parks, Experiences and Products segment operates theme parks and resorts, such as Walt Disney World Resort in Florida; Disneyland Resort in California; Disneyland Paris; Hong Kong Disneyland Resort; and Shanghai Disney Resort; Disney Cruise Line, Disney Vacation Club, National Geographic Expeditions, and Adventures by Disney and Aulani, a Disney resort and spa in Hawaii, as well as licenses its intellectual property to a third party for the operations of the Tokyo Disney Resort in Japan. The company's Studio Entertainment segment produces and distributes motion pictures under the Walt Disney Pictures, Twentieth Century Studios, Marvel, Lucasfilm, Pixar, Searchlight Pictures, and Blue Sky Studios banners; develops, produces, and licenses live entertainment events; produces and distributes music; and provides post-production services through Industrial Light &amp; Magic and Skywalker Sound. Its Direct-To-Consumer &amp; International segment operates international television networks and channels comprising Disney, ESPN, Fox, National Geographic, and Star; direct-to-consumer videos streaming services consisting of Disney+/Disney+Hotstar, ESPN+, and Hulu; and operates branded apps and Websites, such as Disney Movie Club and Disney Digital Network, as well as provides streaming technology support services. The company was founded in 1923 and is based in Burbank, California.</p>,\n",
       " <p>\n",
       " \t\tESG ratings enable you to leverage independent ESG research to evaluate how companies are managing ESG risks and addressing ESG opportunities.\n",
       " \t\t<a href=\"javascript:showpop2('agr_popup2','agr_hlp-a2');showpop2content('pop-upcontent1', 'pop-uplink1');\" id=\"esglink\">Learn more</a>\n",
       " </p>,\n",
       " <p><span class=\"bold\">Full Time Employees: 203,000</span></p>,\n",
       " <p><span class=\"bold\">Executives</span></p>,\n",
       " <p>500 South Buena Vista Street<br/>\n",
       " \t\t\tBurbank, CA 91521<br/>\n",
       " \t\t\tUnited States of America<br/>\n",
       " </p>,\n",
       " <p>1-818-560-1000</p>,\n",
       " <p>Environmental, Social, and Governance (ESG) Flags:  MSCI Ratings publishes Environmental, Social and Governance (ESG) ratings on over 6,000 companies worldwide. These ratings provide an independent assessment of the sustainable investment value of public companies.  The ESG Ratings model is based on a carefully crafted and applied list of KeyMetrics® that result in an overall ESG concern level as expressed by Red (High Concern), Yellow (Average Concern), and Green (Low Concern) flags.  Unlike traditional ESG risk models, MSCI's rating methodology is designed to identify risks most likely to affect equity valuations. Specifically, these ratings reflect actual corporate behaviors rather than policies or affirmations of intent to adhere to best ESG practices. Further, unlike other models with evenly weighted metrics, we assign context-sensitive relative weightings to our key metrics, based on market, regional, ownership or sector differences.  Individual company scores are then assigned as a percentile rank, ranging from 1 (worst ranked) to 100 (best) on the basis of these KeyMetrics® and then converted to the Red, Yellow or Green flag designation.</p>,\n",
       " <p>Company Reports:  In addition to a company's overall risk rating, ESG reports also include an industry rating based on a comparison between the company's risk levels in each ESG component area relative to its industry peers.  Further, the ESG analysis serves as a summary of behavioral events that contributed to the company's overall risk level.</p>,\n",
       " <p>\n",
       " <img alt=\"\" border=\"0\" height=\"11\" src=\"https://www.fidelity.com/common/always-cached/eresearch/4.5/images/circlearrow.gif\" width=\"11\"/> <a href=\"http://research2.fidelity.com/fidelity/research/reports/Release2/ResearchFirmDetails.asp?page=MSCI.asp\" target=\"_top\">More About MSCI</a>\n",
       " </p>,\n",
       " <p><span class=\"bold\">The Equity Summary Score</span> is an accuracy-weighted sentiment derived from the ratings of independent research providers on Fidelity.com.  It uses the past relative accuracy of the providers in determining the emphasis placed on any individual opinion.</p>,\n",
       " <p>This <span class=\"bold\">generated report*</span> compiles independent, third-party information highlighting key fundamental and technical data, analyst opinions, stock price movement, earnings data, and industry comparisons. Available only to Fidelity customers.</p>,\n",
       " <p>This <span class=\"bold\">generated report*</span> has historical data on financials with interactive charts, technical indicators, and five-year peer comparison trend charts.</p>]"
      ]
     },
     "execution_count": 35,
     "metadata": {},
     "output_type": "execute_result"
    }
   ],
   "source": [
    "elms[8:]"
   ]
  },
  {
   "cell_type": "code",
   "execution_count": 18,
   "metadata": {
    "scrolled": true
   },
   "outputs": [
    {
     "name": "stdout",
     "output_type": "stream",
     "text": [
      "[<p>The Walt Disney Company (<span fmr-attach-component=\"fmr.qnr.components.snapshot.Mini\" fmr-param-symbol=\"DIS\">DIS</span>) will discuss fiscal first quarter 2021 financial results via a live audio webcast beginning at 4:30 p.m. ET / 1:30 p.m. PT on Thursday, February 11, 2021. Results will be released after the close of regular trading on February 11, 2021. To listen to the webcast, please visit www.disney.com/investors. The webcast presentation will be archived.</p>, <p>In a virtual gathering of chief executives convened to discuss political turbulence stemming from the 2020 election, leaders of some of the largest U.S. companies said they were considering withholding donations to Republican lawmakers seeking to impede the presidential transition. During an hourlong meeting Tuesday, a group of about three dozen chief executives discussed divisions in the country, efforts to thwart the presidential transition and what voice they...</p>, <p>http://archive.fast-edgar.com/20210105/ARBZQ22CZ222C2Z2222C22ZZW44NZDR29O32 Filed on: January 5, 2021.</p>, <p>http://archive.fast-edgar.com/20210105/AMBZQ22CZ222O2Z2222Q22ZZV7CRZDR29E32 Filed on: January 5, 2021.</p>, <p>DIS to announce Q1 earnings  (Confirmed)</p>, <p><a href=\"/eresearch/evaluate/news/basicNews.jhtml?symbols=DIS&amp;sb=1\">\n",
      "<img alt=\"\" border=\"0\" class=\"small-blue-bullet-image\" height=\"11\" src=\"https://www.fidelity.com/webcontent/ap002388-eresearch-content/20.08.0/images/circlearrow.gif\" width=\"11\"/> More News &amp; Events</a>\n",
      "</p>, <p>The Walt Disney Company, together with its subsidiaries, operates as an entertainment company worldwide. The company's Media Networks segment operates domestic cable networks under the Disney, ESPN, Freeform, FX, and National Geographic brands; and…</p>, <p>The Walt Disney Company, together with its subsidiaries, operates as an entertainment company worldwide. The company's Media Networks segment operates domestic cable networks under the Disney, ESPN, Freeform, FX, and National Geographic brands; and television broadcast network under the ABC brand, as well as eight domestic television stations. This segment is also involved in the television production and distribution. Its Parks, Experiences and Products segment operates theme parks and resorts, such as Walt Disney World Resort in Florida; Disneyland Resort in California; Disneyland Paris; Hong Kong Disneyland Resort; and Shanghai Disney Resort; Disney Cruise Line, Disney Vacation Club, National Geographic Expeditions, and Adventures by Disney and Aulani, a Disney resort and spa in Hawaii, as well as licenses its intellectual property to a third party for the operations of the Tokyo Disney Resort in Japan. The company's Studio Entertainment segment produces and distributes motion pictures under the Walt Disney Pictures, Twentieth Century Studios, Marvel, Lucasfilm, Pixar, Searchlight Pictures, and Blue Sky Studios banners; develops, produces, and licenses live entertainment events; produces and distributes music; and provides post-production services through Industrial Light &amp; Magic and Skywalker Sound. Its Direct-To-Consumer &amp; International segment operates international television networks and channels comprising Disney, ESPN, Fox, National Geographic, and Star; direct-to-consumer videos streaming services consisting of Disney+/Disney+Hotstar, ESPN+, and Hulu; and operates branded apps and Websites, such as Disney Movie Club and Disney Digital Network, as well as provides streaming technology support services. The company was founded in 1923 and is based in Burbank, California.</p>, <p>\r\n",
      "\t\tESG ratings enable you to leverage independent ESG research to evaluate how companies are managing ESG risks and addressing ESG opportunities.\r\n",
      "\t\t<a href=\"javascript:showpop2('agr_popup2','agr_hlp-a2');showpop2content('pop-upcontent1', 'pop-uplink1');\" id=\"esglink\">Learn more</a>\n",
      "</p>, <p><span class=\"bold\">Full Time Employees: 203,000</span></p>, <p><span class=\"bold\">Executives</span></p>]\n"
     ]
    },
    {
     "ename": "TypeError",
     "evalue": "'NoneType' object is not callable",
     "output_type": "error",
     "traceback": [
      "\u001b[1;31m---------------------------------------------------------------------------\u001b[0m",
      "\u001b[1;31mTypeError\u001b[0m                                 Traceback (most recent call last)",
      "\u001b[1;32m<ipython-input-18-48f5df0f1db7>\u001b[0m in \u001b[0;36m<module>\u001b[1;34m\u001b[0m\n\u001b[1;32m----> 1\u001b[1;33m \u001b[0mcompany\u001b[0m \u001b[1;33m=\u001b[0m \u001b[0m_stock_company\u001b[0m\u001b[1;33m(\u001b[0m\u001b[0mtbs\u001b[0m\u001b[1;33m[\u001b[0m\u001b[1;36m13\u001b[0m\u001b[1;33m]\u001b[0m\u001b[1;33m)\u001b[0m\u001b[1;33m\u001b[0m\u001b[1;33m\u001b[0m\u001b[0m\n\u001b[0m",
      "\u001b[1;32m~\\OneDrive\\Khan\\projects\\stox\\src\\fidelity.py\u001b[0m in \u001b[0;36m_stock_company\u001b[1;34m(table)\u001b[0m\n\u001b[0;32m    578\u001b[0m         \u001b[0mexecs\u001b[0m \u001b[1;33m=\u001b[0m \u001b[1;33m{\u001b[0m\u001b[1;33m}\u001b[0m\u001b[1;33m\u001b[0m\u001b[1;33m\u001b[0m\u001b[0m\n\u001b[0;32m    579\u001b[0m         \u001b[1;32mtry\u001b[0m\u001b[1;33m:\u001b[0m\u001b[1;33m\u001b[0m\u001b[1;33m\u001b[0m\u001b[0m\n\u001b[1;32m--> 580\u001b[1;33m             \u001b[1;32mfor\u001b[0m \u001b[0mname\u001b[0m\u001b[1;33m,\u001b[0m \u001b[0mjob\u001b[0m \u001b[1;32min\u001b[0m \u001b[1;33m[\u001b[0m\u001b[0mperson\u001b[0m\u001b[1;33m.\u001b[0m\u001b[0msplit\u001b[0m\u001b[1;33m(\u001b[0m\u001b[1;34m',\\xa0'\u001b[0m\u001b[1;33m)\u001b[0m \u001b[1;32mfor\u001b[0m \u001b[0mperson\u001b[0m \u001b[1;32min\u001b[0m \u001b[0mpeople\u001b[0m\u001b[1;33m]\u001b[0m\u001b[1;33m:\u001b[0m\u001b[1;33m\u001b[0m\u001b[1;33m\u001b[0m\u001b[0m\n\u001b[0m\u001b[0;32m    581\u001b[0m                 \u001b[1;32mif\u001b[0m \u001b[0mname\u001b[0m \u001b[1;32mnot\u001b[0m \u001b[1;32min\u001b[0m \u001b[0mexecs\u001b[0m\u001b[1;33m:\u001b[0m\u001b[1;33m\u001b[0m\u001b[1;33m\u001b[0m\u001b[0m\n\u001b[0;32m    582\u001b[0m                     \u001b[0mexecs\u001b[0m\u001b[1;33m[\u001b[0m\u001b[0mname\u001b[0m\u001b[1;33m]\u001b[0m \u001b[1;33m=\u001b[0m \u001b[1;33m[\u001b[0m\u001b[1;33m]\u001b[0m\u001b[1;33m\u001b[0m\u001b[1;33m\u001b[0m\u001b[0m\n",
      "\u001b[1;32m~\\OneDrive\\Khan\\projects\\stox\\src\\fidelity.py\u001b[0m in \u001b[0;36m<listcomp>\u001b[1;34m(.0)\u001b[0m\n\u001b[0;32m    578\u001b[0m         \u001b[0mexecs\u001b[0m \u001b[1;33m=\u001b[0m \u001b[1;33m{\u001b[0m\u001b[1;33m}\u001b[0m\u001b[1;33m\u001b[0m\u001b[1;33m\u001b[0m\u001b[0m\n\u001b[0;32m    579\u001b[0m         \u001b[1;32mtry\u001b[0m\u001b[1;33m:\u001b[0m\u001b[1;33m\u001b[0m\u001b[1;33m\u001b[0m\u001b[0m\n\u001b[1;32m--> 580\u001b[1;33m             \u001b[1;32mfor\u001b[0m \u001b[0mname\u001b[0m\u001b[1;33m,\u001b[0m \u001b[0mjob\u001b[0m \u001b[1;32min\u001b[0m \u001b[1;33m[\u001b[0m\u001b[0mperson\u001b[0m\u001b[1;33m.\u001b[0m\u001b[0msplit\u001b[0m\u001b[1;33m(\u001b[0m\u001b[1;34m',\\xa0'\u001b[0m\u001b[1;33m)\u001b[0m \u001b[1;32mfor\u001b[0m \u001b[0mperson\u001b[0m \u001b[1;32min\u001b[0m \u001b[0mpeople\u001b[0m\u001b[1;33m]\u001b[0m\u001b[1;33m:\u001b[0m\u001b[1;33m\u001b[0m\u001b[1;33m\u001b[0m\u001b[0m\n\u001b[0m\u001b[0;32m    581\u001b[0m                 \u001b[1;32mif\u001b[0m \u001b[0mname\u001b[0m \u001b[1;32mnot\u001b[0m \u001b[1;32min\u001b[0m \u001b[0mexecs\u001b[0m\u001b[1;33m:\u001b[0m\u001b[1;33m\u001b[0m\u001b[1;33m\u001b[0m\u001b[0m\n\u001b[0;32m    582\u001b[0m                     \u001b[0mexecs\u001b[0m\u001b[1;33m[\u001b[0m\u001b[0mname\u001b[0m\u001b[1;33m]\u001b[0m \u001b[1;33m=\u001b[0m \u001b[1;33m[\u001b[0m\u001b[1;33m]\u001b[0m\u001b[1;33m\u001b[0m\u001b[1;33m\u001b[0m\u001b[0m\n",
      "\u001b[1;31mTypeError\u001b[0m: 'NoneType' object is not callable"
     ]
    }
   ],
   "source": [
    "company = _stock_company(tbs[13])"
   ]
  },
  {
   "cell_type": "code",
   "execution_count": null,
   "metadata": {},
   "outputs": [],
   "source": []
  },
  {
   "cell_type": "code",
   "execution_count": null,
   "metadata": {},
   "outputs": [],
   "source": []
  },
  {
   "cell_type": "code",
   "execution_count": 113,
   "metadata": {},
   "outputs": [],
   "source": [
    "# tb = tbs[25]\n",
    "table = tbs[1]"
   ]
  },
  {
   "cell_type": "code",
   "execution_count": 171,
   "metadata": {},
   "outputs": [
    {
     "data": {
      "text/plain": [
       "[['Top 10', '21.46%'], ['Other', '78.54%']]"
      ]
     },
     "execution_count": 171,
     "metadata": {},
     "output_type": "execute_result"
    }
   ],
   "source": [
    "extract_table(tbs[2])"
   ]
  },
  {
   "cell_type": "code",
   "execution_count": null,
   "metadata": {},
   "outputs": [],
   "source": []
  },
  {
   "cell_type": "code",
   "execution_count": 112,
   "metadata": {},
   "outputs": [
    {
     "data": {
      "text/plain": [
       "[['Asset Classification', 'Fixed Income'],\n",
       " ['Investment Philosophy', 'Passively Managed']]"
      ]
     },
     "execution_count": 112,
     "metadata": {},
     "output_type": "execute_result"
    }
   ],
   "source": [
    "extract_table(table)"
   ]
  },
  {
   "cell_type": "code",
   "execution_count": 99,
   "metadata": {
    "scrolled": true
   },
   "outputs": [],
   "source": [
    "# table"
   ]
  },
  {
   "cell_type": "code",
   "execution_count": 100,
   "metadata": {},
   "outputs": [],
   "source": [
    "from src.fidelity import _fmt_human, _fmt_percent, _fmt_online"
   ]
  },
  {
   "cell_type": "code",
   "execution_count": 146,
   "metadata": {},
   "outputs": [
    {
     "data": {
      "text/plain": [
       "<table border=\"0\" cellpadding=\"0\" cellspacing=\"0\">\n",
       "<tr>\n",
       "<th>Asset Classification</th>\n",
       "<td>Fixed Income</td>\n",
       "</tr>\n",
       "<tr>\n",
       "<th>Investment Philosophy</th>\n",
       "<td>Passively Managed</td>\n",
       "</tr>\n",
       "</table>"
      ]
     },
     "execution_count": 146,
     "metadata": {},
     "output_type": "execute_result"
    }
   ],
   "source": [
    "table"
   ]
  },
  {
   "cell_type": "code",
   "execution_count": 46,
   "metadata": {},
   "outputs": [],
   "source": [
    "# data = extract_table(table)"
   ]
  },
  {
   "cell_type": "code",
   "execution_count": 45,
   "metadata": {
    "scrolled": true
   },
   "outputs": [
    {
     "data": {
      "text/plain": [
       "<div class=\"spacing-div_15X0\"></div>"
      ]
     },
     "execution_count": 45,
     "metadata": {},
     "output_type": "execute_result"
    }
   ],
   "source": [
    "# bs.find_all('img', {'alt':\"\", 'height':\"15\", 'src':\"https://www.fidelity.com/common/always-cached/etf/10-07/images/magnify2.gif\", \n",
    "#                     'width':\"17\"})\n",
    "els = bs.find('div', {'class':\"spacing-div_15X0\"}) # div class=\"spacing-div_15X0\"\n",
    "# els = bs.find_all('h3')\n",
    "els"
   ]
  },
  {
   "cell_type": "code",
   "execution_count": 145,
   "metadata": {},
   "outputs": [
    {
     "data": {
      "text/plain": [
       "<div class=\"header-with-borders\">\n",
       "<h3><a class=\"simple-popup\" href=\"http://research2.fidelity.com/fidelity/screeners/etf/etfholdings.asp?symbol=SCHO&amp;view=Region\" title=\"View Regions by Weight\"><img alt=\"\" height=\"15\" src=\"https://www.fidelity.com/common/always-cached/etf/10-07/images/magnify2.gif\" width=\"17\"/> \n",
       "\t\t\t\t\t\tRegional Exposure</a></h3>\n",
       "</div>"
      ]
     },
     "execution_count": 145,
     "metadata": {},
     "output_type": "execute_result"
    }
   ],
   "source": [
    "els[2]"
   ]
  },
  {
   "cell_type": "code",
   "execution_count": 168,
   "metadata": {},
   "outputs": [
    {
     "data": {
      "text/plain": [
       "['Regional Exposure']"
      ]
     },
     "execution_count": 168,
     "metadata": {},
     "output_type": "execute_result"
    }
   ],
   "source": [
    "missing = [x.text.strip().replace('Sorry : ', '').replace(' is not available for this symbol.', '') \n",
    "           for x in bs.find_all('div', {'class':\"error-message\"})]\n",
    "missing"
   ]
  },
  {
   "cell_type": "code",
   "execution_count": null,
   "metadata": {},
   "outputs": [],
   "source": []
  },
  {
   "cell_type": "code",
   "execution_count": null,
   "metadata": {},
   "outputs": [],
   "source": []
  },
  {
   "cell_type": "code",
   "execution_count": 134,
   "metadata": {},
   "outputs": [
    {
     "data": {
      "text/plain": [
       "'Holdings'"
      ]
     },
     "execution_count": 134,
     "metadata": {},
     "output_type": "execute_result"
    }
   ],
   "source": [
    "els[0].text.strip().split('\\r')[0]"
   ]
  },
  {
   "cell_type": "code",
   "execution_count": 139,
   "metadata": {
    "scrolled": true
   },
   "outputs": [
    {
     "data": {
      "text/plain": [
       "<table border=\"0\" cellpadding=\"0\" cellspacing=\"0\" class=\"composition-table\">\n",
       "<tr>\n",
       "<td class=\"pie-sector-indicator\">\n",
       "<div style=\"width:7px; height:7px; background-color:#F7A600;\"></div>\n",
       "</td>\n",
       "<th class=\"pie-sector-name\" scope=\"row\">Government</th>\n",
       "<td class=\"pie-sector-area\">99.86%</td>\n",
       "</tr>\n",
       "<tr class=\"alt-row-color\">\n",
       "<td class=\"pie-sector-indicator\">\n",
       "<div style=\"width:7px; height:7px; background-color:#003063;\"></div>\n",
       "</td>\n",
       "<th class=\"pie-sector-name\" scope=\"row\">Corporate</th>\n",
       "<td class=\"pie-sector-area\">0.00%</td>\n",
       "</tr>\n",
       "<tr>\n",
       "<td class=\"pie-sector-indicator\">\n",
       "<div style=\"width:7px; height:7px; background-color:#E76108;\"></div>\n",
       "</td>\n",
       "<th class=\"pie-sector-name\" scope=\"row\">Mortgage</th>\n",
       "<td class=\"pie-sector-area\">0.00%</td>\n",
       "</tr>\n",
       "<tr class=\"alt-row-color\">\n",
       "<td class=\"pie-sector-indicator\">\n",
       "<div style=\"width:7px; height:7px; background-color:#529E00;\"></div>\n",
       "</td>\n",
       "<th class=\"pie-sector-name\" scope=\"row\">Municipal</th>\n",
       "<td class=\"pie-sector-area\">0.00%</td>\n",
       "</tr>\n",
       "<tr>\n",
       "<td class=\"pie-sector-indicator\">\n",
       "<div style=\"width:7px; height:7px; background-color:#A579BD;\"></div>\n",
       "</td>\n",
       "<th class=\"pie-sector-name\" scope=\"row\">Preferred</th>\n",
       "<td class=\"pie-sector-area\">0.00%</td>\n",
       "</tr>\n",
       "</table>"
      ]
     },
     "execution_count": 139,
     "metadata": {},
     "output_type": "execute_result"
    }
   ],
   "source": [
    "tbs[4]"
   ]
  },
  {
   "cell_type": "code",
   "execution_count": 141,
   "metadata": {},
   "outputs": [
    {
     "data": {
      "text/plain": [
       "<table border=\"0\" cellpadding=\"0\" cellspacing=\"0\" class=\"composition-table\">\n",
       "<tr>\n",
       "<td class=\"pie-sector-indicator\">\n",
       "<div style=\"width:7px; height:7px; background-color:#003063;\"></div>\n",
       "</td>\n",
       "<th class=\"pie-sector-name\" scope=\"row\">United States</th>\n",
       "<td class=\"pie-sector-area\">100.00%</td>\n",
       "</tr>\n",
       "</table>"
      ]
     },
     "execution_count": 141,
     "metadata": {},
     "output_type": "execute_result"
    }
   ],
   "source": [
    "tbs[5]"
   ]
  },
  {
   "cell_type": "code",
   "execution_count": 140,
   "metadata": {},
   "outputs": [
    {
     "data": {
      "text/plain": [
       "[['Government', '99.86%'],\n",
       " ['Corporate', '0.00%'],\n",
       " ['Mortgage', '0.00%'],\n",
       " ['Municipal', '0.00%'],\n",
       " ['Preferred', '0.00%']]"
      ]
     },
     "execution_count": 140,
     "metadata": {},
     "output_type": "execute_result"
    }
   ],
   "source": [
    "extract_table(tbs[4])"
   ]
  },
  {
   "cell_type": "code",
   "execution_count": null,
   "metadata": {},
   "outputs": [],
   "source": []
  },
  {
   "cell_type": "code",
   "execution_count": null,
   "metadata": {},
   "outputs": [],
   "source": []
  },
  {
   "cell_type": "code",
   "execution_count": 68,
   "metadata": {},
   "outputs": [],
   "source": [
    "# for path in paths:\n",
    "#     bs = extract_html(path)\n",
    "#     tbs = bs.findAll(\"table\")\n",
    "#     tb = tbs[25]\n",
    "#     rows = extract_table(tb)\n",
    "#     print(rows[0])"
   ]
  },
  {
   "cell_type": "code",
   "execution_count": null,
   "metadata": {},
   "outputs": [],
   "source": []
  },
  {
   "cell_type": "code",
   "execution_count": 40,
   "metadata": {},
   "outputs": [
    {
     "data": {
      "text/plain": [
       "13228"
      ]
     },
     "execution_count": 40,
     "metadata": {},
     "output_type": "execute_result"
    }
   ],
   "source": [
    "txt = str(table)\n",
    "offset = 0 #+ 91817\n",
    "idx = txt[offset:].find('Robert A. Chapek')+offset\n",
    "idx"
   ]
  },
  {
   "cell_type": "code",
   "execution_count": 41,
   "metadata": {},
   "outputs": [
    {
     "data": {
      "text/plain": [
       "'/eresearch/gotoBL/evaluate/snapshot.jhtml?symbols=DIS&amp;opt=1\">Visit the new Stock Dashboard</a>\\n</div>\\n<div class=\"spacing-div_12X0\"></div>\\n<div class=\"dark-grey-hr\"><div class=\"hr-for-ie\"></div></div>\\n<div class=\"spacing-div_15X0\"></div>\\n<div class=\"spacing-div_20X0\"></div>\\n<p><span class=\"bold\">Full Time Employees:\\xa0203,000</span></p>\\n<div class=\"spacing-div_10X0\"></div>\\n<p><span class=\"bold\">Executives</span></p>\\n<div class=\"spacing-div_10X0\"></div>\\n<div>\\n<ul>\\n<div id=\"executives\">\\n<li>Mr. Robert A. Chapek,\\xa0Chief Executive</li><li>Mr. Robert A. Chapek,\\xa0Director</li><li>Mr. Robert A. Iger,\\xa0Chairman</li><li>Mr. Robert A. Iger,\\xa0Director</li><li>Ms. Christine Mary McCarthy,\\xa0Chief Finance Officer</li>\\n<div class=\"spacing-div_10X0\"></div>\\n<a href=\"javascript:viewMore(\\'executives\\');\">\\n<img height=\"12\" src=\"https://www.fidelity.com/common/application/etf/14.10/images/plus_blue.gif\" width=\"12\"/>\\r\\n\\t\\t\\t\\t\\t\\tView more\\r\\n\\t\\t\\t\\t\\t</a>\\n</div>\\n<div class=\"hidden\" id=\"executives-more\">\\n<li>Mr. Robert A. '"
      ]
     },
     "execution_count": 41,
     "metadata": {},
     "output_type": "execute_result"
    }
   ],
   "source": [
    "rn = 500\n",
    "txt[idx-min(rn, idx):idx+min(rn,len(txt)-idx)]"
   ]
  },
  {
   "cell_type": "code",
   "execution_count": 121,
   "metadata": {},
   "outputs": [],
   "source": [
    "# len(str(tb))"
   ]
  },
  {
   "cell_type": "code",
   "execution_count": 120,
   "metadata": {},
   "outputs": [],
   "source": [
    "# str(tb)[34000:35500]"
   ]
  },
  {
   "cell_type": "code",
   "execution_count": 173,
   "metadata": {},
   "outputs": [
    {
     "data": {
      "text/plain": [
       "17"
      ]
     },
     "execution_count": 173,
     "metadata": {},
     "output_type": "execute_result"
    }
   ],
   "source": [
    "root = Path('raw/stocks/')\n",
    "# paths = root.glob('analyst*')\n",
    "# paths = list(root.glob('snapshot*'))\n",
    "paths = list(root.glob('snap*'))\n",
    "len(paths)"
   ]
  },
  {
   "cell_type": "code",
   "execution_count": 152,
   "metadata": {},
   "outputs": [
    {
     "data": {
      "application/vnd.jupyter.widget-view+json": {
       "model_id": "4d732e083b7e4a8ba77cab5e1205e9f7",
       "version_major": 2,
       "version_minor": 0
      },
      "text/plain": [
       "  0%|          | 0/17 [00:00<?, ?it/s]"
      ]
     },
     "metadata": {},
     "output_type": "display_data"
    },
    {
     "data": {
      "text/plain": [
       "17"
      ]
     },
     "execution_count": 152,
     "metadata": {},
     "output_type": "execute_result"
    }
   ],
   "source": [
    "# out = dict( load_etf_holdings(path) for path in tqdm(list(paths)))\n",
    "out = dict( load_stock_snapshot(path) for path in tqdm(list(paths)))\n",
    "len(out)"
   ]
  },
  {
   "cell_type": "code",
   "execution_count": 31,
   "metadata": {
    "scrolled": true
   },
   "outputs": [],
   "source": [
    "# out['GOOG']"
   ]
  },
  {
   "cell_type": "code",
   "execution_count": 32,
   "metadata": {},
   "outputs": [],
   "source": [
    "corps = {ticker:info['company'] for ticker, info in out.items()}\n",
    "# corps"
   ]
  },
  {
   "cell_type": "code",
   "execution_count": 30,
   "metadata": {},
   "outputs": [
    {
     "data": {
      "text/plain": [
       "['Alphabet Inc',\n",
       " 'Facebook Inc',\n",
       " 'Advanced Micro Devices Inc',\n",
       " 'Netflix Inc',\n",
       " 'Nvidia Corp',\n",
       " 'Amazoncom Inc',\n",
       " 'Nintendo Co Ltd',\n",
       " 'Li Auto Inc',\n",
       " 'Microsoft Corp',\n",
       " 'Walt Disney Co',\n",
       " 'Alibaba Group Holding Ltd',\n",
       " 'Tencent Holdings Ltd',\n",
       " 'Nio Inc',\n",
       " 'Tesla Inc',\n",
       " 'Baidu Inc',\n",
       " 'Paypal Holdings Inc',\n",
       " 'Sony Corp']"
      ]
     },
     "execution_count": 30,
     "metadata": {},
     "output_type": "execute_result"
    }
   ],
   "source": [
    "[c['name'] for c in corps.values()]"
   ]
  },
  {
   "cell_type": "code",
   "execution_count": null,
   "metadata": {},
   "outputs": [],
   "source": []
  },
  {
   "cell_type": "code",
   "execution_count": null,
   "metadata": {},
   "outputs": [],
   "source": []
  },
  {
   "cell_type": "code",
   "execution_count": 188,
   "metadata": {},
   "outputs": [
    {
     "data": {
      "text/plain": [
       "(36, WindowsPath('raw/27-12-20/portfolioComposition (14).html'))"
      ]
     },
     "execution_count": 188,
     "metadata": {},
     "output_type": "execute_result"
    }
   ],
   "source": [
    "root = Path('raw/27-12-20/')\n",
    "# paths = root.glob('analyst*')\n",
    "# paths = list(root.glob('snapshot*'))\n",
    "# paths = list(root.glob('snap*'))\n",
    "paths = list(root.glob('port*'))\n",
    "path = paths[5]\n",
    "len(paths), path"
   ]
  },
  {
   "cell_type": "code",
   "execution_count": 189,
   "metadata": {},
   "outputs": [
    {
     "data": {
      "application/vnd.jupyter.widget-view+json": {
       "model_id": "de34465a0afa4a4d859cb8705081b9e6",
       "version_major": 2,
       "version_minor": 0
      },
      "text/plain": [
       "  0%|          | 0/36 [00:00<?, ?it/s]"
      ]
     },
     "metadata": {},
     "output_type": "display_data"
    },
    {
     "data": {
      "text/plain": [
       "36"
      ]
     },
     "execution_count": 189,
     "metadata": {},
     "output_type": "execute_result"
    }
   ],
   "source": [
    "# out = dict( load_etf_snapshot(path) for path in tqdm(list(paths)))\n",
    "out = dict( load_etf_pie(path) for path in tqdm(list(paths)))\n",
    "len(out)"
   ]
  },
  {
   "cell_type": "code",
   "execution_count": 190,
   "metadata": {},
   "outputs": [
    {
     "data": {
      "text/plain": [
       "dict_keys(['FIDU', 'IGOV', 'SOCL', 'FLJP', 'EWG', 'SCHO', 'VONG', 'VCLT', 'EMXC', 'CNYA', 'AGG', 'KWEB', 'MCHI', 'VGLT', 'CIBR', 'ASHR', 'ICVT', 'ICLN', 'SKYY', 'FNCL', 'EWC', 'IBB', 'SPY', 'ACES', 'IAU', 'ARKK', 'IAGG', 'MINT', 'ESPO', 'XITK', 'FHLC', 'EWY', 'VCSH', 'LQD', 'PHO', 'VGK'])"
      ]
     },
     "execution_count": 190,
     "metadata": {},
     "output_type": "execute_result"
    }
   ],
   "source": [
    "out.keys()"
   ]
  },
  {
   "cell_type": "code",
   "execution_count": 194,
   "metadata": {},
   "outputs": [],
   "source": [
    "# ticker, data = load_etf_pie(path)\n",
    "# ticker, data.keys()"
   ]
  },
  {
   "cell_type": "code",
   "execution_count": 196,
   "metadata": {
    "scrolled": true
   },
   "outputs": [
    {
     "data": {
      "text/plain": [
       "{'Asset Classification': 'Equity',\n",
       " 'Investment Philosophy': 'Passively Managed',\n",
       " 'Holdings': {'Apple Inc': 6.37,\n",
       "  'Microsoft Corp': 5.39,\n",
       "  'Amazon.com Inc': 4.49,\n",
       "  'Facebook Inc': 2.21,\n",
       "  'Alphabet Inc': 1.72,\n",
       "  'Berkshire Hathaway Inc': 1.51,\n",
       "  'Johnson & Johnson': 1.27,\n",
       "  'JPMorgan Chase & Co': 1.2,\n",
       "  'Visa Inc': 1.18},\n",
       " 'Sector Exposure': {'Information Technology': 27.54,\n",
       "  'Health Care': 13.61,\n",
       "  'Consumer Discretionary': 11.35,\n",
       "  'Communication Services': 11.0,\n",
       "  'Financials': 10.39,\n",
       "  'Industrials': 8.7,\n",
       "  'Consumer Staples': 6.74,\n",
       "  'Utilities': 2.88,\n",
       "  'Materials': 2.69,\n",
       "  'Real Estate': 2.54,\n",
       "  'Energy': 2.29},\n",
       " 'Industry Exposure': {'Software': 8.71,\n",
       "  'Technology Hardware, Storage & Peripherals': 6.65,\n",
       "  'Interactive Media & Services': 5.8,\n",
       "  'IT Services': 5.54,\n",
       "  'Semiconductors & Semiconductor Equipment': 5.23,\n",
       "  'Internet & Direct Marketing Retail': 5.0,\n",
       "  'Pharmaceuticals': 3.9,\n",
       "  'Health Care Equipment & Supplies': 3.75,\n",
       "  'Banks': 3.75,\n",
       "  'Capital Markets': 2.73,\n",
       "  'Health Care Providers & Services': 2.71,\n",
       "  'Equity Real Estate Investment Trusts (REITs)': 2.47,\n",
       "  'Specialty Retail': 2.31,\n",
       "  'Oil, Gas & Consumable Fuels': 2.08,\n",
       "  'Entertainment': 2.03,\n",
       "  'Biotechnology': 1.94,\n",
       "  'Chemicals': 1.9,\n",
       "  'Insurance': 1.88,\n",
       "  'Electric Utilities': 1.82,\n",
       "  'Machinery': 1.7,\n",
       "  'Household Products': 1.7,\n",
       "  'Hotels Restaurants & Leisure': 1.69,\n",
       "  'Aerospace & Defense': 1.68,\n",
       "  'Beverages': 1.61,\n",
       "  'Food & Staples Retailing': 1.59,\n",
       "  'Diversified Telecommunication Services': 1.54,\n",
       "  'Diversified Financial Services': 1.51,\n",
       "  'Media': 1.37,\n",
       "  'Industrial Conglomerates': 1.25,\n",
       "  'Life Sciences Tools & Services': 1.23,\n",
       "  'Road & Rail': 1.05,\n",
       "  'Food Products': 1.02,\n",
       "  'Multi-Utilities': 0.89,\n",
       "  'Communications Equipment': 0.81,\n",
       "  'Textiles, Apparel & Luxury Goods': 0.75,\n",
       "  'Air Freight & Logistics': 0.72,\n",
       "  'Tobacco': 0.64,\n",
       "  'Electronic Equipment, Instruments & Components': 0.6,\n",
       "  'Multiline Retail': 0.57,\n",
       "  'Consumer Finance': 0.52,\n",
       "  'Electrical Equipment': 0.5,\n",
       "  'Building Products': 0.49,\n",
       "  'Commercial Services & Supplies': 0.43,\n",
       "  'Household Durables': 0.42,\n",
       "  'Containers & Packaging': 0.36,\n",
       "  'Professional Services': 0.34,\n",
       "  'Metals & Mining': 0.32,\n",
       "  'Automobiles': 0.3,\n",
       "  'Airlines': 0.26,\n",
       "  'Wireless Telecommunication Services': 0.26,\n",
       "  'Energy Equipment & Services': 0.21,\n",
       "  'Trading Companies & Distributors': 0.2,\n",
       "  'Personal Products': 0.18,\n",
       "  'Auto Components': 0.14,\n",
       "  'Distributors': 0.13,\n",
       "  'Construction Materials': 0.11,\n",
       "  'Water Utilities': 0.09,\n",
       "  'Construction & Engineering': 0.08,\n",
       "  'Health Care Technology': 0.08,\n",
       "  'Real Estate Management & Development': 0.07,\n",
       "  'Leisure Products': 0.04,\n",
       "  'Gas Utilities': 0.04,\n",
       "  'Independent Power and Renewable Electricity...': 0.04},\n",
       " 'Regional Exposure': {'North America': 99.07,\n",
       "  'Europe': 0.89,\n",
       "  'Asia': 0.04,\n",
       "  'Africa': 0.0,\n",
       "  'Middle East': 0.0,\n",
       "  'Latin America': 0.0},\n",
       " 'Country Exposure': {'United States': 99.07,\n",
       "  'United Kingdom': 0.54,\n",
       "  'Switzerland': 0.34,\n",
       "  'Singapore': 0.04,\n",
       "  'Russia': 0.01},\n",
       " 'Market Capitalization': {'Large': 83.68,\n",
       "  'Mid': 15.91,\n",
       "  'Small': 0.41,\n",
       "  'Micro': 0.0}}"
      ]
     },
     "execution_count": 196,
     "metadata": {},
     "output_type": "execute_result"
    }
   ],
   "source": [
    "out['SPY']"
   ]
  },
  {
   "cell_type": "code",
   "execution_count": null,
   "metadata": {},
   "outputs": [],
   "source": []
  },
  {
   "cell_type": "code",
   "execution_count": null,
   "metadata": {},
   "outputs": [],
   "source": []
  },
  {
   "cell_type": "code",
   "execution_count": 1,
   "metadata": {},
   "outputs": [
    {
     "data": {
      "text/plain": [
       "237"
      ]
     },
     "execution_count": 1,
     "metadata": {},
     "output_type": "execute_result"
    }
   ],
   "source": [
    "raw = '''ASML\tASML Holding NV\t5.48\n",
    "MC\tLVMH Moet Hennessy Louis Vuitton SE\t3.92\n",
    "TTE\tTotalEnergies SE\t2.51\n",
    "SAP\tSAP SE\t2.29\n",
    "SAN\tSanofi SA\t2.29\n",
    "SIE\tSiemens AG\t2.09\n",
    "OR\tL'Oreal SA\t1.98\n",
    "ALV\tAllianz SE\t1.92\n",
    "SU\tSchneider Electric SE\t1.79\n",
    "AI\tAir Liquide SA\t1.64\n",
    "AIR\tAirbus SE\t1.41\n",
    "BAYN\tBayer AG\t1.33\n",
    "IBE\tIberdrola SA\t1.27\n",
    "BNP\tBNP Paribas Act. Cat.A\t1.27\n",
    "DTE\tDeutsche Telekom AG\t1.19\n",
    "MBG\tMercedes-Benz Group AG\t1.19\n",
    "SAN\tBanco Santander SA\t1.17\n",
    "CS\tAXA SA\t1.12\n",
    "DG\tVinci SA\t1.09\n",
    "ENEL\tEnel SpA\t1.07\n",
    "EL\tEssilorluxottica\t1.04\n",
    "BAS\tBasf SE\t1.03\n",
    "ABI\tAnheuser-Busch InBev SA/NV\t1.02\n",
    "PRX\tProsus NV Ordinary Shares - Class N\t0.99\n",
    "KER\tKering SA\t0.94\n",
    "DPW\tDeutsche Post AG\t0.94\n",
    "RI\tPernod Ricard SA\t0.91\n",
    "RMS\tHermes International SA\t0.89\n",
    "IFX\tInfineon Technologies AG\t0.88\n",
    "ADS\tadidas AG\t0.88\n",
    "INGA\tING Groep NV\t0.81\n",
    "SAF\tSafran SA\t0.80\n",
    "ADYEN\tAdyen NV\t0.78\n",
    "BBVA\tBanco Bilbao Vizcaya Argentaria SA\t0.75\n",
    "ISP\tIntesa Sanpaolo\t0.75\n",
    "MUV2\tMunchener Ruckversicherungs-Gesellschaft AG\t0.74\n",
    "ENI\tEni SpA\t0.73\n",
    "BN\tDanone SA\t0.71\n",
    "CAP\tCapgemini SE\t0.71\n",
    "VNA\tVonovia SE\t0.68\n",
    "DB1\tDeutsche Boerse AG\t0.67\n",
    "AD\tKoninklijke Ahold Delhaize NV\t0.66\n",
    "STLA\tStellantis NV\t0.65\n",
    "DSY\tDassault Systemes SE\t0.65\n",
    "VOW3\tVolkswagen AG Participating Preferred\t0.63\n",
    "DSM\tKoninklijke DSM NV\t0.62\n",
    "CRH\tCRH PLC\t0.61\n",
    "SGO\tCompagnie de Saint-Gobain SA\t0.60\n",
    "STM\tSTMicroelectronics NV\t0.59\n",
    "NOKIA\tNokia Oyj\t0.58\n",
    "AMS\tAmadeus IT Group SA A\t0.58\n",
    "BMW\tBayerische Motoren Werke AG\t0.57\n",
    "PHIA\tKoninklijke Philips NV\t0.55\n",
    "RWE\tRWE AG\t0.55\n",
    "WKL\tWolters Kluwer NV\t0.55\n",
    "RACE\tFerrari NV\t0.54\n",
    "MRK\tMerck KGaA\t0.53\n",
    "DBK\tDeutsche Bank AG\t0.52\n",
    "TEF\tTelefonica SA\t0.51\n",
    "EOAN\tE.ON SE\t0.51\n",
    "G\tAssicurazioni Generali\t0.50\n",
    "LR\tLegrand SA\t0.50\n",
    "HEIA\tHeineken NV\t0.49\n",
    "CLNX\tCellnex Telecom SA\t0.49\n",
    "SAMPO\tSampo Oyj Class A\t0.48\n",
    "ENGI\tEngie SA\t0.47\n",
    "ITX\tIndustria De Diseno Textil SA\t0.47\n",
    "ORA\tOrange SA\t0.46\n",
    "ML\tCie Generale des Etablissements Michelin SA\t0.45\n",
    "UCG\tUniCredit SpA\t0.45\n",
    "TEP\tTeleperformance SE\t0.44\n",
    "GLE\tSociete Generale SA\t0.43\n",
    "VIE\tVeolia Environnement SA\t0.41\n",
    "MT\tArcelorMittal SA\t0.41\n",
    "UMG\tUniversal Music Group NV\t0.38\n",
    "REP\tRepsol SA\t0.38\n",
    "FLTR\tFlutter Entertainment PLC\t0.38\n",
    "NESTE\tNeste Corp\t0.38\n",
    "Eur Cash\t0.36\n",
    "KBC\tKBC Group SA/NV\t0.36\n",
    "Usd Cash\t0.35\n",
    "SHL\tSiemens Healthineers AG Registered Shares\t0.35\n",
    "KRZ\tKerry Group PLC Class A\t0.35\n",
    "KNEBV\tKONE Oyj Class B\t0.35\n",
    "XTSLA\tBlackRock Cash Funds Treasury SL Agency\t0.35\n",
    "ASM\tASM International NV\t0.34\n",
    "UPM\tUPM-Kymmene Oyj\t0.34\n",
    "AKZA\tAkzo Nobel NV\t0.32\n",
    "CNHI\tCNH Industrial NV\t0.32\n",
    "SY1\tSymrise AG\t0.31\n",
    "KRX\tKingspan Group PLC\t0.30\n",
    "CABK\tCaixaBank SA\t0.30\n",
    "UCB\tUCB SA\t0.30\n",
    "FRE\tFresenius SE & Co KGaA\t0.30\n",
    "PAH3\tPorsche Automobil Holding SE Participating Preferred\t0.29\n",
    "ACA\tCredit Agricole SA\t0.29\n",
    "ARGX\targenx SE\t0.28\n",
    "NN\tNN Group NV\t0.27\n",
    "EDP\tEDP - Energias de Portugal SA\t0.27\n",
    "FME\tFresenius Medical Care AG & Co. KGaA\t0.27\n",
    "PUB\tPublicis Groupe SA\t0.27\n",
    "HO\tThales\t0.26\n",
    "ERF\tEurofins Scientific SE\t0.26\n",
    "CA\tCarrefour\t0.26\n",
    "FER\tFerrovial SA\t0.26\n",
    "AENA\tAena SME SA\t0.25\n",
    "EBS\tErste Group Bank AG.\t0.25\n",
    "BNR\tBrenntag SE\t0.25\n",
    "MTX\tMTU Aero Engines AG\t0.24\n",
    "EDEN\tEdenred SA\t0.24\n",
    "TRN\tTerna SpA\t0.24\n",
    "HEN3\tHenkel AG & Co KGaA Participating Preferred\t0.23\n",
    "SRG\tSnam SpA\t0.23\n",
    "KPN\tKoninklijke KPN NV\t0.23\n",
    "SRT3\tSartorius AG Participating Preferred\t0.23\n",
    "MONC\tMoncler SpA\t0.23\n",
    "DTG\tDaimler Truck Holding AG Ordinary Shares\t0.23\n",
    "STERV\tStora Enso Oyj Class R\t0.22\n",
    "DIM\tSartorius Stedim Biotech SA\t0.22\n",
    "ZAL\tZalando SE\t0.22\n",
    "GBLB\tGroupe Bruxelles Lambert SA\t0.22\n",
    "QGEN\tQiagen NV\t0.22\n",
    "SK3\tSmurfit Kappa Group PLC\t0.22\n",
    "BEI\tBeiersdorf AG\t0.21\n",
    "WLN\tWorldline SA\t0.21\n",
    "HNR1\tHannover Rueck SE\t0.20\n",
    "ATL\tAtlantia SpA\t0.20\n",
    "VIV\tVivendi SE\t0.20\n",
    "CCEP\tCoca-Cola Europacific Partners PLC\t0.20\n",
    "1COV\tCovestro AG\t0.19\n",
    "IMCD\tIMCD NV\t0.19\n",
    "AGN\tAegon NV\t0.19\n",
    "URW\tUnibail-Rodamco-Westfield Act. SIIC ET STES FONC.EUROP.\t0.19\n",
    "FBK\tFinecoBank SpA\t0.18\n",
    "ENR\tSiemens Energy AG Ordinary Shares\t0.18\n",
    "HEIO\tHeineken Holding NV\t0.18\n",
    "PUM\tPuma SE\t0.18\n",
    "AGS\tAgeas SA/ NV\t0.17\n",
    "PRY\tPrysmian SpA\t0.17\n",
    "FGR\tEiffage SA\t0.17\n",
    "ELISA\tElisa Oyj Class A\t0.17\n",
    "HEI\tHeidelbergCement AG\t0.17\n",
    "UMI\tUmicore SA\t0.17\n",
    "BVI\tBureau Veritas SA\t0.17\n",
    "LEG\tLEG Immobilien SE\t0.16\n",
    "EXO\tEXOR NV\t0.16\n",
    "VOW\tVolkswagen AG\t0.16\n",
    "FORTUM\tFortum Oyj\t0.16\n",
    "EN\tBouygues\t0.16\n",
    "CON\tContinental AG\t0.16\n",
    "GET\tGetlink SE\t0.16\n",
    "ENX\tEuronext NV\t0.15\n",
    "CBK\tCommerzbank AG\t0.15\n",
    "KESKOB\tKesko Oyj Class B\t0.15\n",
    "HFG\tHelloFresh SE Bearer Shares\t0.15\n",
    "ALO\tAlstom SA\t0.15\n",
    "EDPR\tEDP Renovaveis SA\t0.15\n",
    "AKE\tArkema SA\t0.15\n",
    "SOLB\tSolvay SA\t0.14\n",
    "SW\tSodexo\t0.14\n",
    "VER\tVerbund AG Class A\t0.14\n",
    "RAND\tRandstad NV\t0.14\n",
    "DHER\tDelivery Hero SE\t0.14\n",
    "TEN\tTenaris SA\t0.14\n",
    "OMV\tOMV AG\t0.14\n",
    "ACS\tACS Actividades de Construccion y Servicios SA\t0.14\n",
    "ELE\tEndesa SA\t0.14\n",
    "HEN\tHenkel AG & Co KGaA\t0.14\n",
    "AER\tAerCap Holdings NV\t0.13\n",
    "JMT\tJeronimo Martins SGPS SA\t0.13\n",
    "REE\tRed Electrica Corporacion SA\t0.13\n",
    "AFX\tCarl Zeiss Meditec AG\t0.13\n",
    "MB\tMediobanca SpA\t0.13\n",
    "G1A\tGEA Group AG\t0.13\n",
    "EVK\tEvonik Industries AG\t0.12\n",
    "PST\tPoste Italiane SpA\t0.12\n",
    "NTGY\tNaturgy Energy Group SA\t0.12\n",
    "NEXI\tNexi SpA\t0.12\n",
    "CPR\tDavide Campari-Milano NV Az nom Post Frazionamento\t0.12\n",
    "GALP\tGalp Energia SGPS SA\t0.12\n",
    "TKWY\tJust Eat Takeaway.com NV\t0.12\n",
    "AC\tAccor SA\t0.11\n",
    "ABN\tABN AMRO Bank NV\t0.11\n",
    "AMP\tAmplifon SpA Az nom Post Frazionamento\t0.11\n",
    "KBX\tKnorr-Bremse AG Bearer Shares\t0.11\n",
    "NEM\tNemetschek SE\t0.11\n",
    "SOF\tSofina SA\t0.11\n",
    "AT1\tAroundtown SA\t0.11\n",
    "GRF\tGrifols SA\t0.11\n",
    "GFC\tGecina Nom\t0.11\n",
    "LI\tKlepierre\t0.11\n",
    "ORNBV\tOrion Oyj Class B\t0.10\n",
    "LHA\tDeutsche Lufthansa AG\t0.10\n",
    "RNO\tRenault SA\t0.10\n",
    "REC\tRecordati SpA Az nom Post raggruppamento\t0.10\n",
    "ADP\tAeroports de Paris SA\t0.09\n",
    "BIM\tBioMerieux SA\t0.09\n",
    "BMW3\tBayerische Motoren Werke AG Participating Preferred\t0.09\n",
    "EDF\tElectricite de France SA\t0.09\n",
    "BC8\tBechtle AG\t0.09\n",
    "ELI\tElia Group\t0.09\n",
    "BOL\tBollore SE\t0.09\n",
    "RCO\tRemy Cointreau\t0.09\n",
    "G24\tScout24 SE\t0.09\n",
    "IPN\tIpsen SA\t0.09\n",
    "KGX\tKION GROUP AG\t0.09\n",
    "DIA\tDiasorin SpA\t0.08\n",
    "AM\tDassault Aviation SA\t0.08\n",
    "SK\tSEB SA\t0.08\n",
    "ENG\tEnagas SA\t0.08\n",
    "FDJ\tLa Francaise Des Jeux SA Ordinary Shares\t0.08\n",
    "AMUN\tAmundi SA\t0.08\n",
    "CNP\tCNP Assurances\t0.08\n",
    "UBI\tUbisoft Entertainment\t0.08\n",
    "SGRE\tSiemens Gamesa Renewable Energy SA\t0.08\n",
    "FR\tValeo SA\t0.08\n",
    "WRT1V\tWartsila Corp\t0.08\n",
    "COV\tCovivio SA\t0.08\n",
    "UTDI\tUnited Internet AG\t0.07\n",
    "RF\tEurazeo SE\t0.07\n",
    "VOE\tvoestalpine AG\t0.07\n",
    "LXS\tLanxess AG\t0.07\n",
    "RAA\tRational AG\t0.07\n",
    "INW\tInfrastrutture Wireless Italiane SpA\t0.07\n",
    "TIT\tTelecom Italia SpA\t0.07\n",
    "MF\tWendel SE\t0.06\n",
    "PROX\tProximus SA\t0.06\n",
    "O2D\tTelefonica Deutschland Holding AG\t0.06\n",
    "JDEP\tJDE Peets NV Ordinary Shares\t0.06\n",
    "EO\tFaurecia SE\t0.06\n",
    "ORP\tOrpea SA\t0.05\n",
    "UN01\tUniper SE\t0.05\n",
    "FPE3\tFuchs Petrolub SE Participating Preferred\t0.05\n",
    "Cash Collateral Eur Jpfft\t0.04\n",
    "COLR\tEtablissementen Franz Colruyt NV\t0.04\n",
    "RBI\tRaiffeisen Bank International AG\t0.04\n",
    "INPST\tInpost SA Ordinary Shares\t0.03'''.split('\\n')\n",
    "len(raw)"
   ]
  },
  {
   "cell_type": "code",
   "execution_count": 5,
   "metadata": {},
   "outputs": [
    {
     "data": {
      "text/plain": [
       "237"
      ]
     },
     "execution_count": 5,
     "metadata": {},
     "output_type": "execute_result"
    }
   ],
   "source": [
    "def line_parse(line):\n",
    "    *ident, num = line.split('\\t')\n",
    "    if len(ident) == 2:\n",
    "        tk, name = ident\n",
    "    else:\n",
    "        tk, name = ident[0], ident[0]\n",
    "    return tk, name, float(num)\n",
    "\n",
    "tks, names, amounts = zip(*map(line_parse,raw))\n",
    "len(tks)"
   ]
  },
  {
   "cell_type": "code",
   "execution_count": 6,
   "metadata": {},
   "outputs": [
    {
     "name": "stdout",
     "output_type": "stream",
     "text": [
      "('ASML', 'MC', 'TTE', 'SAP', 'SAN', 'SIE', 'OR', 'ALV', 'SU', 'AI', 'AIR', 'BAYN', 'IBE', 'BNP', 'DTE', 'MBG', 'SAN', 'CS', 'DG', 'ENEL', 'EL', 'BAS', 'ABI', 'PRX', 'KER', 'DPW', 'RI', 'RMS', 'IFX', 'ADS', 'INGA', 'SAF', 'ADYEN', 'BBVA', 'ISP', 'MUV2', 'ENI', 'BN', 'CAP', 'VNA', 'DB1', 'AD', 'STLA', 'DSY', 'VOW3', 'DSM', 'CRH', 'SGO', 'STM', 'NOKIA', 'AMS', 'BMW', 'PHIA', 'RWE', 'WKL', 'RACE', 'MRK', 'DBK', 'TEF', 'EOAN', 'G', 'LR', 'HEIA', 'CLNX', 'SAMPO', 'ENGI', 'ITX', 'ORA', 'ML', 'UCG', 'TEP', 'GLE', 'VIE', 'MT', 'UMG', 'REP', 'FLTR', 'NESTE', 'Eur Cash', 'KBC', 'Usd Cash', 'SHL', 'KRZ', 'KNEBV', 'XTSLA', 'ASM', 'UPM', 'AKZA', 'CNHI', 'SY1', 'KRX', 'CABK', 'UCB', 'FRE', 'PAH3', 'ACA', 'ARGX', 'NN', 'EDP', 'FME', 'PUB', 'HO', 'ERF', 'CA', 'FER', 'AENA', 'EBS', 'BNR', 'MTX', 'EDEN', 'TRN', 'HEN3', 'SRG', 'KPN', 'SRT3', 'MONC', 'DTG', 'STERV', 'DIM', 'ZAL', 'GBLB', 'QGEN', 'SK3', 'BEI', 'WLN', 'HNR1', 'ATL', 'VIV', 'CCEP', '1COV', 'IMCD', 'AGN', 'URW', 'FBK', 'ENR', 'HEIO', 'PUM', 'AGS', 'PRY', 'FGR', 'ELISA', 'HEI', 'UMI', 'BVI', 'LEG', 'EXO', 'VOW', 'FORTUM', 'EN', 'CON', 'GET', 'ENX', 'CBK', 'KESKOB', 'HFG', 'ALO', 'EDPR', 'AKE', 'SOLB', 'SW', 'VER', 'RAND', 'DHER', 'TEN', 'OMV', 'ACS', 'ELE', 'HEN', 'AER', 'JMT', 'REE', 'AFX', 'MB', 'G1A', 'EVK', 'PST', 'NTGY', 'NEXI', 'CPR', 'GALP', 'TKWY', 'AC', 'ABN', 'AMP', 'KBX', 'NEM', 'SOF', 'AT1', 'GRF', 'GFC', 'LI', 'ORNBV', 'LHA', 'RNO', 'REC', 'ADP', 'BIM', 'BMW3', 'EDF', 'BC8', 'ELI', 'BOL', 'RCO', 'G24', 'IPN', 'KGX', 'DIA', 'AM', 'SK', 'ENG', 'FDJ', 'AMUN', 'CNP', 'UBI', 'SGRE', 'FR', 'WRT1V', 'COV', 'UTDI', 'RF', 'VOE', 'LXS', 'RAA', 'INW', 'TIT', 'MF', 'PROX', 'O2D', 'JDEP', 'EO', 'ORP', 'UN01', 'FPE3', 'Cash Collateral Eur Jpfft', 'COLR', 'RBI', 'INPST')\n"
     ]
    }
   ],
   "source": [
    "print(tks)"
   ]
  },
  {
   "cell_type": "code",
   "execution_count": 7,
   "metadata": {},
   "outputs": [
    {
     "data": {
      "text/plain": [
       "(236, 98.41999999999996)"
      ]
     },
     "execution_count": 7,
     "metadata": {},
     "output_type": "execute_result"
    }
   ],
   "source": [
    "pf = {tk:v for tk, v in zip(tks, amounts)}\n",
    "len(pf), sum(pf.values())"
   ]
  },
  {
   "cell_type": "code",
   "execution_count": 8,
   "metadata": {},
   "outputs": [],
   "source": [
    "missing = ['MBG', 'CRH', 'NOKIA', 'SAMPO', 'MT', 'FLTR', 'NESTE', 'Eur Cash', 'Usd Cash', 'KRZ', 'KNEBV', 'XTSLA', 'UPM', 'KRX', 'STERV', 'QGEN', 'SK3', 'URW', 'ELISA', 'FORTUM', 'KESKOB', 'ELE', 'AER', 'ORNBV', 'WRT1V', 'Cash Collateral Eur Jpfft']\n"
   ]
  },
  {
   "cell_type": "code",
   "execution_count": 9,
   "metadata": {},
   "outputs": [
    {
     "data": {
      "text/plain": [
       "8.249999999999998"
      ]
     },
     "execution_count": 9,
     "metadata": {},
     "output_type": "execute_result"
    }
   ],
   "source": [
    "sum(pf[k] for k in missing)"
   ]
  },
  {
   "cell_type": "code",
   "execution_count": 11,
   "metadata": {},
   "outputs": [
    {
     "name": "stdout",
     "output_type": "stream",
     "text": [
      "(5.48, 3.92, 2.51, 2.29, 2.29, 2.09, 1.98, 1.92, 1.79, 1.64, 1.41, 1.33, 1.27, 1.27, 1.19, 1.19, 1.17, 1.12, 1.09, 1.07, 1.04, 1.03, 1.02, 0.99, 0.94, 0.94, 0.91, 0.89, 0.88, 0.88, 0.81, 0.8, 0.78, 0.75, 0.75, 0.74, 0.73, 0.71, 0.71, 0.68, 0.67, 0.66, 0.65, 0.65, 0.63, 0.62, 0.61, 0.6, 0.59, 0.58, 0.58, 0.57, 0.55, 0.55, 0.55, 0.54, 0.53, 0.52, 0.51, 0.51, 0.5, 0.5, 0.49, 0.49, 0.48, 0.47, 0.47, 0.46, 0.45, 0.45, 0.44, 0.43, 0.41, 0.41, 0.38, 0.38, 0.38, 0.38, 0.36, 0.36, 0.35, 0.35, 0.35, 0.35, 0.35, 0.34, 0.34, 0.32, 0.32, 0.31, 0.3, 0.3, 0.3, 0.3, 0.29, 0.29, 0.28, 0.27, 0.27, 0.27, 0.27, 0.26, 0.26, 0.26, 0.26, 0.25, 0.25, 0.25, 0.24, 0.24, 0.24, 0.23, 0.23, 0.23, 0.23, 0.23, 0.23, 0.22, 0.22, 0.22, 0.22, 0.22, 0.22, 0.21, 0.21, 0.2, 0.2, 0.2, 0.2, 0.19, 0.19, 0.19, 0.19, 0.18, 0.18, 0.18, 0.18, 0.17, 0.17, 0.17, 0.17, 0.17, 0.17, 0.17, 0.16, 0.16, 0.16, 0.16, 0.16, 0.16, 0.16, 0.15, 0.15, 0.15, 0.15, 0.15, 0.15, 0.15, 0.14, 0.14, 0.14, 0.14, 0.14, 0.14, 0.14, 0.14, 0.14, 0.14, 0.13, 0.13, 0.13, 0.13, 0.13, 0.13, 0.12, 0.12, 0.12, 0.12, 0.12, 0.12, 0.12, 0.11, 0.11, 0.11, 0.11, 0.11, 0.11, 0.11, 0.11, 0.11, 0.11, 0.1, 0.1, 0.1, 0.1, 0.09, 0.09, 0.09, 0.09, 0.09, 0.09, 0.09, 0.09, 0.09, 0.09, 0.09, 0.08, 0.08, 0.08, 0.08, 0.08, 0.08, 0.08, 0.08, 0.08, 0.08, 0.08, 0.08, 0.07, 0.07, 0.07, 0.07, 0.07, 0.07, 0.07, 0.06, 0.06, 0.06, 0.06, 0.06, 0.05, 0.05, 0.05, 0.04, 0.04, 0.04, 0.03)\n"
     ]
    }
   ],
   "source": [
    "print(amounts)"
   ]
  },
  {
   "cell_type": "code",
   "execution_count": null,
   "metadata": {},
   "outputs": [],
   "source": []
  }
 ],
 "metadata": {
  "kernelspec": {
   "display_name": "Python 3",
   "language": "python",
   "name": "python3"
  },
  "language_info": {
   "codemirror_mode": {
    "name": "ipython",
    "version": 3
   },
   "file_extension": ".py",
   "mimetype": "text/x-python",
   "name": "python",
   "nbconvert_exporter": "python",
   "pygments_lexer": "ipython3",
   "version": "3.8.8"
  }
 },
 "nbformat": 4,
 "nbformat_minor": 4
}
