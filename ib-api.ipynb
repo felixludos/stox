{
 "cells": [
  {
   "cell_type": "code",
   "execution_count": 2,
   "outputs": [],
   "source": [
    "from ibapi.client import EClient\n",
    "from ibapi.wrapper import EWrapper\n",
    "from ibapi.contract import Contract\n",
    "\n",
    "import threading\n",
    "import time\n"
   ],
   "metadata": {
    "collapsed": false,
    "ExecuteTime": {
     "end_time": "2023-08-23T16:24:59.420783700Z",
     "start_time": "2023-08-23T16:24:59.339829700Z"
    }
   },
   "id": "d9d3fd7a851b6c8e"
  },
  {
   "cell_type": "code",
   "execution_count": 3,
   "outputs": [],
   "source": [
    "\n",
    "class IBapi(EWrapper, EClient):\n",
    "\tdef __init__(self):\n",
    "\t\tEClient.__init__(self, self)\n",
    "\tdef tickPrice(self, reqId, tickType, price, attrib):\n",
    "\t\tif tickType == 2 and reqId == 1:\n",
    "\t\t\tprint('The current ask price is: ', price)\n",
    "\n",
    "def run_loop():\n",
    "\tapp.run()\n"
   ],
   "metadata": {
    "collapsed": false,
    "ExecuteTime": {
     "end_time": "2023-08-23T16:26:16.027279400Z",
     "start_time": "2023-08-23T16:26:15.994724500Z"
    }
   },
   "id": "d6075ca64d84c0e2"
  },
  {
   "cell_type": "code",
   "execution_count": 6,
   "outputs": [],
   "source": [
    "app = IBapi()\n",
    "app.connect('127.0.0.1', 7496, 123)"
   ],
   "metadata": {
    "collapsed": false,
    "ExecuteTime": {
     "end_time": "2023-08-23T16:28:26.213313100Z",
     "start_time": "2023-08-23T16:28:26.039459600Z"
    }
   },
   "id": "8b2dc77358bbffeb"
  },
  {
   "cell_type": "code",
   "execution_count": null,
   "outputs": [],
   "source": [
    "\n",
    "#Start the socket in a thread\n",
    "api_thread = threading.Thread(target=run_loop, daemon=False)\n",
    "api_thread.start()"
   ],
   "metadata": {
    "collapsed": false,
    "ExecuteTime": {
     "end_time": "2023-08-23T16:12:31.608188500Z",
     "start_time": "2023-08-23T16:12:30.919220500Z"
    }
   },
   "id": "7844fa475f7d8d30"
  },
  {
   "cell_type": "code",
   "execution_count": 7,
   "outputs": [
    {
     "ename": "AttributeError",
     "evalue": "'IBapi' object has no attribute 'data'",
     "output_type": "error",
     "traceback": [
      "\u001B[1;31m---------------------------------------------------------------------------\u001B[0m",
      "\u001B[1;31mAttributeError\u001B[0m                            Traceback (most recent call last)",
      "Cell \u001B[1;32mIn[7], line 18\u001B[0m\n\u001B[0;32m     15\u001B[0m \u001B[38;5;66;03m#Working with Pandas DataFrames\u001B[39;00m\n\u001B[0;32m     16\u001B[0m \u001B[38;5;28;01mimport\u001B[39;00m \u001B[38;5;21;01mpandas\u001B[39;00m\n\u001B[1;32m---> 18\u001B[0m df \u001B[38;5;241m=\u001B[39m pandas\u001B[38;5;241m.\u001B[39mDataFrame(\u001B[43mapp\u001B[49m\u001B[38;5;241;43m.\u001B[39;49m\u001B[43mdata\u001B[49m, columns\u001B[38;5;241m=\u001B[39m[\u001B[38;5;124m'\u001B[39m\u001B[38;5;124mDateTime\u001B[39m\u001B[38;5;124m'\u001B[39m, \u001B[38;5;124m'\u001B[39m\u001B[38;5;124mClose\u001B[39m\u001B[38;5;124m'\u001B[39m])\n\u001B[0;32m     19\u001B[0m df[\u001B[38;5;124m'\u001B[39m\u001B[38;5;124mDateTime\u001B[39m\u001B[38;5;124m'\u001B[39m] \u001B[38;5;241m=\u001B[39m pandas\u001B[38;5;241m.\u001B[39mto_datetime(df[\u001B[38;5;124m'\u001B[39m\u001B[38;5;124mDateTime\u001B[39m\u001B[38;5;124m'\u001B[39m],unit\u001B[38;5;241m=\u001B[39m\u001B[38;5;124m'\u001B[39m\u001B[38;5;124ms\u001B[39m\u001B[38;5;124m'\u001B[39m) \n\u001B[0;32m     20\u001B[0m df\u001B[38;5;241m.\u001B[39mto_csv(\u001B[38;5;124m'\u001B[39m\u001B[38;5;124mEURUSD_Hourly.csv\u001B[39m\u001B[38;5;124m'\u001B[39m)  \n",
      "\u001B[1;31mAttributeError\u001B[0m: 'IBapi' object has no attribute 'data'"
     ]
    }
   ],
   "source": [
    "\n",
    "time.sleep(1) #Sleep interval to allow time for connection to server\n",
    "\n",
    "#Create contract object\n",
    "eurusd_contract = Contract()\n",
    "eurusd_contract.symbol = 'EUR'\n",
    "eurusd_contract.secType = 'CASH'\n",
    "eurusd_contract.exchange = 'IDEALPRO'\n",
    "eurusd_contract.currency = 'USD'\n",
    "\n",
    "#Request historical candles\n",
    "app.reqHistoricalData(1, eurusd_contract, '', '2 D', '1 hour', 'BID', 0, 2, False, [])\n",
    "\n",
    "time.sleep(5) #sleep to allow enough time for data to be returned\n",
    "\n",
    "#Working with Pandas DataFrames\n",
    "import pandas\n",
    "\n",
    "df = pandas.DataFrame(app.data, columns=['DateTime', 'Close'])\n",
    "df['DateTime'] = pandas.to_datetime(df['DateTime'],unit='s') \n",
    "df.to_csv('EURUSD_Hourly.csv')  \n",
    "\n",
    "print(df)\n",
    "\n",
    "\n",
    "app.disconnect()"
   ],
   "metadata": {
    "collapsed": false,
    "ExecuteTime": {
     "end_time": "2023-08-23T16:32:31.356044400Z",
     "start_time": "2023-08-23T16:32:23.535283300Z"
    }
   },
   "id": "6391fcb31282bdb5"
  },
  {
   "cell_type": "code",
   "execution_count": 9,
   "outputs": [],
   "source": [
    "app.disconnect()"
   ],
   "metadata": {
    "collapsed": false,
    "ExecuteTime": {
     "end_time": "2023-08-23T16:36:43.838069600Z",
     "start_time": "2023-08-23T16:36:43.794479700Z"
    }
   },
   "id": "3db7385032d808fe"
  },
  {
   "cell_type": "code",
   "execution_count": null,
   "outputs": [],
   "source": [],
   "metadata": {
    "collapsed": false
   },
   "id": "23fbe7590d4bf516"
  }
 ],
 "metadata": {
  "kernelspec": {
   "display_name": "Python 3",
   "language": "python",
   "name": "python3"
  },
  "language_info": {
   "codemirror_mode": {
    "name": "ipython",
    "version": 2
   },
   "file_extension": ".py",
   "mimetype": "text/x-python",
   "name": "python",
   "nbconvert_exporter": "python",
   "pygments_lexer": "ipython2",
   "version": "2.7.6"
  }
 },
 "nbformat": 4,
 "nbformat_minor": 5
}
